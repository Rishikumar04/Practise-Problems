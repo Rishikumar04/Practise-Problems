{
 "cells": [
  {
   "cell_type": "code",
   "execution_count": 1,
   "id": "separate-lighter",
   "metadata": {
    "execution": {
     "iopub.execute_input": "2021-05-05T08:26:58.353148Z",
     "iopub.status.busy": "2021-05-05T08:26:58.352445Z",
     "iopub.status.idle": "2021-05-05T08:26:58.368164Z",
     "shell.execute_reply": "2021-05-05T08:26:58.367449Z"
    },
    "papermill": {
     "duration": 0.150156,
     "end_time": "2021-05-05T08:26:58.368355",
     "exception": false,
     "start_time": "2021-05-05T08:26:58.218199",
     "status": "completed"
    },
    "tags": []
   },
   "outputs": [
    {
     "name": "stdout",
     "output_type": "stream",
     "text": [
      "/kaggle/input/employee-attrition/HR-Employee-Attrition.csv\n"
     ]
    }
   ],
   "source": [
    "# This Python 3 environment comes with many helpful analytics libraries installed\n",
    "# It is defined by the kaggle/python Docker image: https://github.com/kaggle/docker-python\n",
    "# For example, here's several helpful packages to load\n",
    "\n",
    "import numpy as np # linear algebra\n",
    "import pandas as pd # data processing, CSV file I/O (e.g. pd.read_csv)\n",
    "\n",
    "# Input data files are available in the read-only \"../input/\" directory\n",
    "# For example, running this (by clicking run or pressing Shift+Enter) will list all files under the input directory\n",
    "\n",
    "import os\n",
    "for dirname, _, filenames in os.walk('/kaggle/input'):\n",
    "    for filename in filenames:\n",
    "        print(os.path.join(dirname, filename))\n",
    "\n",
    "# You can write up to 20GB to the current directory (/kaggle/working/) that gets preserved as output when you create a version using \"Save & Run All\" \n",
    "# You can also write temporary files to /kaggle/temp/, but they won't be saved outside of the current session"
   ]
  },
  {
   "cell_type": "code",
   "execution_count": 2,
   "id": "confident-packaging",
   "metadata": {
    "execution": {
     "iopub.execute_input": "2021-05-05T08:26:58.622005Z",
     "iopub.status.busy": "2021-05-05T08:26:58.621312Z",
     "iopub.status.idle": "2021-05-05T08:27:01.134518Z",
     "shell.execute_reply": "2021-05-05T08:27:01.133907Z"
    },
    "papermill": {
     "duration": 2.640299,
     "end_time": "2021-05-05T08:27:01.134660",
     "exception": false,
     "start_time": "2021-05-05T08:26:58.494361",
     "status": "completed"
    },
    "tags": []
   },
   "outputs": [
    {
     "data": {
      "text/html": [
       "<style type='text/css'>\n",
       ".datatable table.frame { margin-bottom: 0; }\n",
       ".datatable table.frame thead { border-bottom: none; }\n",
       ".datatable table.frame tr.coltypes td {  color: #FFFFFF;  line-height: 6px;  padding: 0 0.5em;}\n",
       ".datatable .bool    { background: #DDDD99; }\n",
       ".datatable .object  { background: #565656; }\n",
       ".datatable .int     { background: #5D9E5D; }\n",
       ".datatable .float   { background: #4040CC; }\n",
       ".datatable .str     { background: #CC4040; }\n",
       ".datatable .row_index {  background: var(--jp-border-color3);  border-right: 1px solid var(--jp-border-color0);  color: var(--jp-ui-font-color3);  font-size: 9px;}\n",
       ".datatable .frame tr.coltypes .row_index {  background: var(--jp-border-color0);}\n",
       ".datatable th:nth-child(2) { padding-left: 12px; }\n",
       ".datatable .hellipsis {  color: var(--jp-cell-editor-border-color);}\n",
       ".datatable .vellipsis {  background: var(--jp-layout-color0);  color: var(--jp-cell-editor-border-color);}\n",
       ".datatable .na {  color: var(--jp-cell-editor-border-color);  font-size: 80%;}\n",
       ".datatable .footer { font-size: 9px; }\n",
       ".datatable .frame_dimensions {  background: var(--jp-border-color3);  border-top: 1px solid var(--jp-border-color0);  color: var(--jp-ui-font-color3);  display: inline-block;  opacity: 0.6;  padding: 1px 10px 1px 5px;}\n",
       "</style>\n"
      ],
      "text/plain": [
       "<IPython.core.display.HTML object>"
      ]
     },
     "metadata": {},
     "output_type": "display_data"
    }
   ],
   "source": [
    "import matplotlib.pyplot as plt\n",
    "import seaborn as sns\n",
    "from sklearn.metrics import classification_report,confusion_matrix,plot_roc_curve,accuracy_score\n",
    "from sklearn.preprocessing import StandardScaler\n",
    "from sklearn.linear_model import LogisticRegression\n",
    "from sklearn.naive_bayes import GaussianNB\n",
    "from sklearn.neighbors import KNeighborsClassifier\n",
    "from imblearn.combine import SMOTETomek\n",
    "from sklearn.ensemble import RandomForestClassifier, AdaBoostClassifier, BaggingClassifier, GradientBoostingClassifier\n",
    "from sklearn.tree import DecisionTreeClassifier\n",
    "from xgboost import XGBClassifier\n",
    "from catboost import CatBoostClassifier\n",
    "from lightgbm import LGBMClassifier\n",
    "from sklearn.model_selection import train_test_split, GridSearchCV, RandomizedSearchCV\n",
    "from sklearn.svm import SVC\n",
    "\n",
    "\n",
    "pd.set_option('display.max_columns',None)#to make all columns visible"
   ]
  },
  {
   "cell_type": "code",
   "execution_count": 3,
   "id": "broke-message",
   "metadata": {
    "execution": {
     "iopub.execute_input": "2021-05-05T08:27:01.384264Z",
     "iopub.status.busy": "2021-05-05T08:27:01.383559Z",
     "iopub.status.idle": "2021-05-05T08:27:01.414787Z",
     "shell.execute_reply": "2021-05-05T08:27:01.414183Z"
    },
    "papermill": {
     "duration": 0.155407,
     "end_time": "2021-05-05T08:27:01.414951",
     "exception": false,
     "start_time": "2021-05-05T08:27:01.259544",
     "status": "completed"
    },
    "tags": []
   },
   "outputs": [],
   "source": [
    "df = pd.read_csv('/kaggle/input/employee-attrition/HR-Employee-Attrition.csv')"
   ]
  },
  {
   "cell_type": "code",
   "execution_count": 4,
   "id": "trying-central",
   "metadata": {
    "execution": {
     "iopub.execute_input": "2021-05-05T08:27:01.671016Z",
     "iopub.status.busy": "2021-05-05T08:27:01.669934Z",
     "iopub.status.idle": "2021-05-05T08:27:01.704998Z",
     "shell.execute_reply": "2021-05-05T08:27:01.704055Z"
    },
    "papermill": {
     "duration": 0.169612,
     "end_time": "2021-05-05T08:27:01.705151",
     "exception": false,
     "start_time": "2021-05-05T08:27:01.535539",
     "status": "completed"
    },
    "tags": []
   },
   "outputs": [
    {
     "data": {
      "text/html": [
       "<div>\n",
       "<style scoped>\n",
       "    .dataframe tbody tr th:only-of-type {\n",
       "        vertical-align: middle;\n",
       "    }\n",
       "\n",
       "    .dataframe tbody tr th {\n",
       "        vertical-align: top;\n",
       "    }\n",
       "\n",
       "    .dataframe thead th {\n",
       "        text-align: right;\n",
       "    }\n",
       "</style>\n",
       "<table border=\"1\" class=\"dataframe\">\n",
       "  <thead>\n",
       "    <tr style=\"text-align: right;\">\n",
       "      <th></th>\n",
       "      <th>Age</th>\n",
       "      <th>Attrition</th>\n",
       "      <th>BusinessTravel</th>\n",
       "      <th>DailyRate</th>\n",
       "      <th>Department</th>\n",
       "      <th>DistanceFromHome</th>\n",
       "      <th>Education</th>\n",
       "      <th>EducationField</th>\n",
       "      <th>EmployeeCount</th>\n",
       "      <th>EmployeeNumber</th>\n",
       "      <th>EnvironmentSatisfaction</th>\n",
       "      <th>Gender</th>\n",
       "      <th>HourlyRate</th>\n",
       "      <th>JobInvolvement</th>\n",
       "      <th>JobLevel</th>\n",
       "      <th>JobRole</th>\n",
       "      <th>JobSatisfaction</th>\n",
       "      <th>MaritalStatus</th>\n",
       "      <th>MonthlyIncome</th>\n",
       "      <th>MonthlyRate</th>\n",
       "      <th>NumCompaniesWorked</th>\n",
       "      <th>Over18</th>\n",
       "      <th>OverTime</th>\n",
       "      <th>PercentSalaryHike</th>\n",
       "      <th>PerformanceRating</th>\n",
       "      <th>RelationshipSatisfaction</th>\n",
       "      <th>StandardHours</th>\n",
       "      <th>StockOptionLevel</th>\n",
       "      <th>TotalWorkingYears</th>\n",
       "      <th>TrainingTimesLastYear</th>\n",
       "      <th>WorkLifeBalance</th>\n",
       "      <th>YearsAtCompany</th>\n",
       "      <th>YearsInCurrentRole</th>\n",
       "      <th>YearsSinceLastPromotion</th>\n",
       "      <th>YearsWithCurrManager</th>\n",
       "    </tr>\n",
       "  </thead>\n",
       "  <tbody>\n",
       "    <tr>\n",
       "      <th>0</th>\n",
       "      <td>41</td>\n",
       "      <td>Yes</td>\n",
       "      <td>Travel_Rarely</td>\n",
       "      <td>1102</td>\n",
       "      <td>Sales</td>\n",
       "      <td>1</td>\n",
       "      <td>2</td>\n",
       "      <td>Life Sciences</td>\n",
       "      <td>1</td>\n",
       "      <td>1</td>\n",
       "      <td>2</td>\n",
       "      <td>Female</td>\n",
       "      <td>94</td>\n",
       "      <td>3</td>\n",
       "      <td>2</td>\n",
       "      <td>Sales Executive</td>\n",
       "      <td>4</td>\n",
       "      <td>Single</td>\n",
       "      <td>5993</td>\n",
       "      <td>19479</td>\n",
       "      <td>8</td>\n",
       "      <td>Y</td>\n",
       "      <td>Yes</td>\n",
       "      <td>11</td>\n",
       "      <td>3</td>\n",
       "      <td>1</td>\n",
       "      <td>80</td>\n",
       "      <td>0</td>\n",
       "      <td>8</td>\n",
       "      <td>0</td>\n",
       "      <td>1</td>\n",
       "      <td>6</td>\n",
       "      <td>4</td>\n",
       "      <td>0</td>\n",
       "      <td>5</td>\n",
       "    </tr>\n",
       "    <tr>\n",
       "      <th>1</th>\n",
       "      <td>49</td>\n",
       "      <td>No</td>\n",
       "      <td>Travel_Frequently</td>\n",
       "      <td>279</td>\n",
       "      <td>Research &amp; Development</td>\n",
       "      <td>8</td>\n",
       "      <td>1</td>\n",
       "      <td>Life Sciences</td>\n",
       "      <td>1</td>\n",
       "      <td>2</td>\n",
       "      <td>3</td>\n",
       "      <td>Male</td>\n",
       "      <td>61</td>\n",
       "      <td>2</td>\n",
       "      <td>2</td>\n",
       "      <td>Research Scientist</td>\n",
       "      <td>2</td>\n",
       "      <td>Married</td>\n",
       "      <td>5130</td>\n",
       "      <td>24907</td>\n",
       "      <td>1</td>\n",
       "      <td>Y</td>\n",
       "      <td>No</td>\n",
       "      <td>23</td>\n",
       "      <td>4</td>\n",
       "      <td>4</td>\n",
       "      <td>80</td>\n",
       "      <td>1</td>\n",
       "      <td>10</td>\n",
       "      <td>3</td>\n",
       "      <td>3</td>\n",
       "      <td>10</td>\n",
       "      <td>7</td>\n",
       "      <td>1</td>\n",
       "      <td>7</td>\n",
       "    </tr>\n",
       "    <tr>\n",
       "      <th>2</th>\n",
       "      <td>37</td>\n",
       "      <td>Yes</td>\n",
       "      <td>Travel_Rarely</td>\n",
       "      <td>1373</td>\n",
       "      <td>Research &amp; Development</td>\n",
       "      <td>2</td>\n",
       "      <td>2</td>\n",
       "      <td>Other</td>\n",
       "      <td>1</td>\n",
       "      <td>4</td>\n",
       "      <td>4</td>\n",
       "      <td>Male</td>\n",
       "      <td>92</td>\n",
       "      <td>2</td>\n",
       "      <td>1</td>\n",
       "      <td>Laboratory Technician</td>\n",
       "      <td>3</td>\n",
       "      <td>Single</td>\n",
       "      <td>2090</td>\n",
       "      <td>2396</td>\n",
       "      <td>6</td>\n",
       "      <td>Y</td>\n",
       "      <td>Yes</td>\n",
       "      <td>15</td>\n",
       "      <td>3</td>\n",
       "      <td>2</td>\n",
       "      <td>80</td>\n",
       "      <td>0</td>\n",
       "      <td>7</td>\n",
       "      <td>3</td>\n",
       "      <td>3</td>\n",
       "      <td>0</td>\n",
       "      <td>0</td>\n",
       "      <td>0</td>\n",
       "      <td>0</td>\n",
       "    </tr>\n",
       "    <tr>\n",
       "      <th>3</th>\n",
       "      <td>33</td>\n",
       "      <td>No</td>\n",
       "      <td>Travel_Frequently</td>\n",
       "      <td>1392</td>\n",
       "      <td>Research &amp; Development</td>\n",
       "      <td>3</td>\n",
       "      <td>4</td>\n",
       "      <td>Life Sciences</td>\n",
       "      <td>1</td>\n",
       "      <td>5</td>\n",
       "      <td>4</td>\n",
       "      <td>Female</td>\n",
       "      <td>56</td>\n",
       "      <td>3</td>\n",
       "      <td>1</td>\n",
       "      <td>Research Scientist</td>\n",
       "      <td>3</td>\n",
       "      <td>Married</td>\n",
       "      <td>2909</td>\n",
       "      <td>23159</td>\n",
       "      <td>1</td>\n",
       "      <td>Y</td>\n",
       "      <td>Yes</td>\n",
       "      <td>11</td>\n",
       "      <td>3</td>\n",
       "      <td>3</td>\n",
       "      <td>80</td>\n",
       "      <td>0</td>\n",
       "      <td>8</td>\n",
       "      <td>3</td>\n",
       "      <td>3</td>\n",
       "      <td>8</td>\n",
       "      <td>7</td>\n",
       "      <td>3</td>\n",
       "      <td>0</td>\n",
       "    </tr>\n",
       "    <tr>\n",
       "      <th>4</th>\n",
       "      <td>27</td>\n",
       "      <td>No</td>\n",
       "      <td>Travel_Rarely</td>\n",
       "      <td>591</td>\n",
       "      <td>Research &amp; Development</td>\n",
       "      <td>2</td>\n",
       "      <td>1</td>\n",
       "      <td>Medical</td>\n",
       "      <td>1</td>\n",
       "      <td>7</td>\n",
       "      <td>1</td>\n",
       "      <td>Male</td>\n",
       "      <td>40</td>\n",
       "      <td>3</td>\n",
       "      <td>1</td>\n",
       "      <td>Laboratory Technician</td>\n",
       "      <td>2</td>\n",
       "      <td>Married</td>\n",
       "      <td>3468</td>\n",
       "      <td>16632</td>\n",
       "      <td>9</td>\n",
       "      <td>Y</td>\n",
       "      <td>No</td>\n",
       "      <td>12</td>\n",
       "      <td>3</td>\n",
       "      <td>4</td>\n",
       "      <td>80</td>\n",
       "      <td>1</td>\n",
       "      <td>6</td>\n",
       "      <td>3</td>\n",
       "      <td>3</td>\n",
       "      <td>2</td>\n",
       "      <td>2</td>\n",
       "      <td>2</td>\n",
       "      <td>2</td>\n",
       "    </tr>\n",
       "  </tbody>\n",
       "</table>\n",
       "</div>"
      ],
      "text/plain": [
       "   Age Attrition     BusinessTravel  DailyRate              Department  \\\n",
       "0   41       Yes      Travel_Rarely       1102                   Sales   \n",
       "1   49        No  Travel_Frequently        279  Research & Development   \n",
       "2   37       Yes      Travel_Rarely       1373  Research & Development   \n",
       "3   33        No  Travel_Frequently       1392  Research & Development   \n",
       "4   27        No      Travel_Rarely        591  Research & Development   \n",
       "\n",
       "   DistanceFromHome  Education EducationField  EmployeeCount  EmployeeNumber  \\\n",
       "0                 1          2  Life Sciences              1               1   \n",
       "1                 8          1  Life Sciences              1               2   \n",
       "2                 2          2          Other              1               4   \n",
       "3                 3          4  Life Sciences              1               5   \n",
       "4                 2          1        Medical              1               7   \n",
       "\n",
       "   EnvironmentSatisfaction  Gender  HourlyRate  JobInvolvement  JobLevel  \\\n",
       "0                        2  Female          94               3         2   \n",
       "1                        3    Male          61               2         2   \n",
       "2                        4    Male          92               2         1   \n",
       "3                        4  Female          56               3         1   \n",
       "4                        1    Male          40               3         1   \n",
       "\n",
       "                 JobRole  JobSatisfaction MaritalStatus  MonthlyIncome  \\\n",
       "0        Sales Executive                4        Single           5993   \n",
       "1     Research Scientist                2       Married           5130   \n",
       "2  Laboratory Technician                3        Single           2090   \n",
       "3     Research Scientist                3       Married           2909   \n",
       "4  Laboratory Technician                2       Married           3468   \n",
       "\n",
       "   MonthlyRate  NumCompaniesWorked Over18 OverTime  PercentSalaryHike  \\\n",
       "0        19479                   8      Y      Yes                 11   \n",
       "1        24907                   1      Y       No                 23   \n",
       "2         2396                   6      Y      Yes                 15   \n",
       "3        23159                   1      Y      Yes                 11   \n",
       "4        16632                   9      Y       No                 12   \n",
       "\n",
       "   PerformanceRating  RelationshipSatisfaction  StandardHours  \\\n",
       "0                  3                         1             80   \n",
       "1                  4                         4             80   \n",
       "2                  3                         2             80   \n",
       "3                  3                         3             80   \n",
       "4                  3                         4             80   \n",
       "\n",
       "   StockOptionLevel  TotalWorkingYears  TrainingTimesLastYear  \\\n",
       "0                 0                  8                      0   \n",
       "1                 1                 10                      3   \n",
       "2                 0                  7                      3   \n",
       "3                 0                  8                      3   \n",
       "4                 1                  6                      3   \n",
       "\n",
       "   WorkLifeBalance  YearsAtCompany  YearsInCurrentRole  \\\n",
       "0                1               6                   4   \n",
       "1                3              10                   7   \n",
       "2                3               0                   0   \n",
       "3                3               8                   7   \n",
       "4                3               2                   2   \n",
       "\n",
       "   YearsSinceLastPromotion  YearsWithCurrManager  \n",
       "0                        0                     5  \n",
       "1                        1                     7  \n",
       "2                        0                     0  \n",
       "3                        3                     0  \n",
       "4                        2                     2  "
      ]
     },
     "execution_count": 4,
     "metadata": {},
     "output_type": "execute_result"
    }
   ],
   "source": [
    "df.head()"
   ]
  },
  {
   "cell_type": "markdown",
   "id": "colored-officer",
   "metadata": {
    "papermill": {
     "duration": 0.117746,
     "end_time": "2021-05-05T08:27:01.945914",
     "exception": false,
     "start_time": "2021-05-05T08:27:01.828168",
     "status": "completed"
    },
    "tags": []
   },
   "source": [
    "### Exploratory Data Analysis - EDA"
   ]
  },
  {
   "cell_type": "code",
   "execution_count": 5,
   "id": "certain-prize",
   "metadata": {
    "execution": {
     "iopub.execute_input": "2021-05-05T08:27:02.198263Z",
     "iopub.status.busy": "2021-05-05T08:27:02.197238Z",
     "iopub.status.idle": "2021-05-05T08:27:02.218426Z",
     "shell.execute_reply": "2021-05-05T08:27:02.220020Z"
    },
    "papermill": {
     "duration": 0.151017,
     "end_time": "2021-05-05T08:27:02.220232",
     "exception": false,
     "start_time": "2021-05-05T08:27:02.069215",
     "status": "completed"
    },
    "tags": []
   },
   "outputs": [
    {
     "name": "stdout",
     "output_type": "stream",
     "text": [
      "<class 'pandas.core.frame.DataFrame'>\n",
      "RangeIndex: 1470 entries, 0 to 1469\n",
      "Data columns (total 35 columns):\n",
      " #   Column                    Non-Null Count  Dtype \n",
      "---  ------                    --------------  ----- \n",
      " 0   Age                       1470 non-null   int64 \n",
      " 1   Attrition                 1470 non-null   object\n",
      " 2   BusinessTravel            1470 non-null   object\n",
      " 3   DailyRate                 1470 non-null   int64 \n",
      " 4   Department                1470 non-null   object\n",
      " 5   DistanceFromHome          1470 non-null   int64 \n",
      " 6   Education                 1470 non-null   int64 \n",
      " 7   EducationField            1470 non-null   object\n",
      " 8   EmployeeCount             1470 non-null   int64 \n",
      " 9   EmployeeNumber            1470 non-null   int64 \n",
      " 10  EnvironmentSatisfaction   1470 non-null   int64 \n",
      " 11  Gender                    1470 non-null   object\n",
      " 12  HourlyRate                1470 non-null   int64 \n",
      " 13  JobInvolvement            1470 non-null   int64 \n",
      " 14  JobLevel                  1470 non-null   int64 \n",
      " 15  JobRole                   1470 non-null   object\n",
      " 16  JobSatisfaction           1470 non-null   int64 \n",
      " 17  MaritalStatus             1470 non-null   object\n",
      " 18  MonthlyIncome             1470 non-null   int64 \n",
      " 19  MonthlyRate               1470 non-null   int64 \n",
      " 20  NumCompaniesWorked        1470 non-null   int64 \n",
      " 21  Over18                    1470 non-null   object\n",
      " 22  OverTime                  1470 non-null   object\n",
      " 23  PercentSalaryHike         1470 non-null   int64 \n",
      " 24  PerformanceRating         1470 non-null   int64 \n",
      " 25  RelationshipSatisfaction  1470 non-null   int64 \n",
      " 26  StandardHours             1470 non-null   int64 \n",
      " 27  StockOptionLevel          1470 non-null   int64 \n",
      " 28  TotalWorkingYears         1470 non-null   int64 \n",
      " 29  TrainingTimesLastYear     1470 non-null   int64 \n",
      " 30  WorkLifeBalance           1470 non-null   int64 \n",
      " 31  YearsAtCompany            1470 non-null   int64 \n",
      " 32  YearsInCurrentRole        1470 non-null   int64 \n",
      " 33  YearsSinceLastPromotion   1470 non-null   int64 \n",
      " 34  YearsWithCurrManager      1470 non-null   int64 \n",
      "dtypes: int64(26), object(9)\n",
      "memory usage: 402.1+ KB\n"
     ]
    }
   ],
   "source": [
    "df.info()\n",
    "#looks like there is no null values in the data"
   ]
  },
  {
   "cell_type": "code",
   "execution_count": 6,
   "id": "digital-culture",
   "metadata": {
    "execution": {
     "iopub.execute_input": "2021-05-05T08:27:02.480234Z",
     "iopub.status.busy": "2021-05-05T08:27:02.479502Z",
     "iopub.status.idle": "2021-05-05T08:27:02.484008Z",
     "shell.execute_reply": "2021-05-05T08:27:02.483335Z"
    },
    "papermill": {
     "duration": 0.138747,
     "end_time": "2021-05-05T08:27:02.484155",
     "exception": false,
     "start_time": "2021-05-05T08:27:02.345408",
     "status": "completed"
    },
    "tags": []
   },
   "outputs": [
    {
     "data": {
      "text/plain": [
       "Age                         0\n",
       "Attrition                   0\n",
       "BusinessTravel              0\n",
       "DailyRate                   0\n",
       "Department                  0\n",
       "DistanceFromHome            0\n",
       "Education                   0\n",
       "EducationField              0\n",
       "EmployeeCount               0\n",
       "EmployeeNumber              0\n",
       "EnvironmentSatisfaction     0\n",
       "Gender                      0\n",
       "HourlyRate                  0\n",
       "JobInvolvement              0\n",
       "JobLevel                    0\n",
       "JobRole                     0\n",
       "JobSatisfaction             0\n",
       "MaritalStatus               0\n",
       "MonthlyIncome               0\n",
       "MonthlyRate                 0\n",
       "NumCompaniesWorked          0\n",
       "Over18                      0\n",
       "OverTime                    0\n",
       "PercentSalaryHike           0\n",
       "PerformanceRating           0\n",
       "RelationshipSatisfaction    0\n",
       "StandardHours               0\n",
       "StockOptionLevel            0\n",
       "TotalWorkingYears           0\n",
       "TrainingTimesLastYear       0\n",
       "WorkLifeBalance             0\n",
       "YearsAtCompany              0\n",
       "YearsInCurrentRole          0\n",
       "YearsSinceLastPromotion     0\n",
       "YearsWithCurrManager        0\n",
       "dtype: int64"
      ]
     },
     "execution_count": 6,
     "metadata": {},
     "output_type": "execute_result"
    }
   ],
   "source": [
    "df.isna().sum()"
   ]
  },
  {
   "cell_type": "code",
   "execution_count": 7,
   "id": "deluxe-korean",
   "metadata": {
    "execution": {
     "iopub.execute_input": "2021-05-05T08:27:02.729760Z",
     "iopub.status.busy": "2021-05-05T08:27:02.728992Z",
     "iopub.status.idle": "2021-05-05T08:27:02.733757Z",
     "shell.execute_reply": "2021-05-05T08:27:02.734299Z"
    },
    "papermill": {
     "duration": 0.127195,
     "end_time": "2021-05-05T08:27:02.734479",
     "exception": false,
     "start_time": "2021-05-05T08:27:02.607284",
     "status": "completed"
    },
    "tags": []
   },
   "outputs": [],
   "source": [
    "def normal(col):\n",
    "    print('No of unique values:\\t', df[col].nunique())\n",
    "    print('Values Count:\\n',df[col].value_counts())"
   ]
  },
  {
   "cell_type": "code",
   "execution_count": 8,
   "id": "coastal-replica",
   "metadata": {
    "execution": {
     "iopub.execute_input": "2021-05-05T08:27:02.980811Z",
     "iopub.status.busy": "2021-05-05T08:27:02.980149Z",
     "iopub.status.idle": "2021-05-05T08:27:02.986298Z",
     "shell.execute_reply": "2021-05-05T08:27:02.986854Z"
    },
    "papermill": {
     "duration": 0.130487,
     "end_time": "2021-05-05T08:27:02.987174",
     "exception": false,
     "start_time": "2021-05-05T08:27:02.856687",
     "status": "completed"
    },
    "tags": []
   },
   "outputs": [],
   "source": [
    "def percent_cat(col):\n",
    "    groupped = df.groupby([col])['Attrition'].value_counts()\n",
    "    y=0\n",
    "    for i in groupped.index:\n",
    "        total_val = len(df[df[col]==i[0]])\n",
    "        print(f'Percent of {i[1]} Employee Attrition of {i[0]} employee in column {col} is {round((groupped[i]/total_val)*100,2)}%')\n",
    "        y+=1\n",
    "        if y==2:\n",
    "            print('\\n')\n",
    "            y=0"
   ]
  },
  {
   "cell_type": "code",
   "execution_count": 9,
   "id": "internal-exchange",
   "metadata": {
    "execution": {
     "iopub.execute_input": "2021-05-05T08:27:03.235294Z",
     "iopub.status.busy": "2021-05-05T08:27:03.234662Z",
     "iopub.status.idle": "2021-05-05T08:27:03.245860Z",
     "shell.execute_reply": "2021-05-05T08:27:03.244902Z"
    },
    "papermill": {
     "duration": 0.134677,
     "end_time": "2021-05-05T08:27:03.246054",
     "exception": false,
     "start_time": "2021-05-05T08:27:03.111377",
     "status": "completed"
    },
    "tags": []
   },
   "outputs": [
    {
     "name": "stdout",
     "output_type": "stream",
     "text": [
      "No of unique values:\t 43\n",
      "Values Count:\n",
      " 35    78\n",
      "34    77\n",
      "36    69\n",
      "31    69\n",
      "29    68\n",
      "32    61\n",
      "30    60\n",
      "38    58\n",
      "33    58\n",
      "40    57\n",
      "37    50\n",
      "27    48\n",
      "28    48\n",
      "42    46\n",
      "39    42\n",
      "45    41\n",
      "41    40\n",
      "26    39\n",
      "44    33\n",
      "46    33\n",
      "43    32\n",
      "50    30\n",
      "24    26\n",
      "25    26\n",
      "47    24\n",
      "49    24\n",
      "55    22\n",
      "53    19\n",
      "48    19\n",
      "51    19\n",
      "52    18\n",
      "54    18\n",
      "22    16\n",
      "56    14\n",
      "23    14\n",
      "58    14\n",
      "21    13\n",
      "20    11\n",
      "59    10\n",
      "19     9\n",
      "18     8\n",
      "60     5\n",
      "57     4\n",
      "Name: Age, dtype: int64\n"
     ]
    }
   ],
   "source": [
    "normal('Age')"
   ]
  },
  {
   "cell_type": "markdown",
   "id": "muslim-walker",
   "metadata": {
    "papermill": {
     "duration": 0.122123,
     "end_time": "2021-05-05T08:27:03.496824",
     "exception": false,
     "start_time": "2021-05-05T08:27:03.374701",
     "status": "completed"
    },
    "tags": []
   },
   "source": [
    "**Observation**:\n",
    "* Employees with age 35 were higher."
   ]
  },
  {
   "cell_type": "code",
   "execution_count": 10,
   "id": "atlantic-lafayette",
   "metadata": {
    "execution": {
     "iopub.execute_input": "2021-05-05T08:27:03.744339Z",
     "iopub.status.busy": "2021-05-05T08:27:03.743669Z",
     "iopub.status.idle": "2021-05-05T08:27:03.747433Z",
     "shell.execute_reply": "2021-05-05T08:27:03.746907Z"
    },
    "papermill": {
     "duration": 0.130975,
     "end_time": "2021-05-05T08:27:03.747591",
     "exception": false,
     "start_time": "2021-05-05T08:27:03.616616",
     "status": "completed"
    },
    "tags": []
   },
   "outputs": [],
   "source": [
    "def insight(col):\n",
    "    plt.figure(figsize = (16,8))\n",
    "    ax = sns.countplot(x = df[col], hue = df['Attrition'])\n",
    "\n",
    "    for p in ax.patches:\n",
    "        ax.annotate('{:.0f}'.format(p.get_height()), (p.get_x()+0.15, p.get_height()+13))"
   ]
  },
  {
   "cell_type": "code",
   "execution_count": 11,
   "id": "surrounded-samoa",
   "metadata": {
    "execution": {
     "iopub.execute_input": "2021-05-05T08:27:03.999239Z",
     "iopub.status.busy": "2021-05-05T08:27:03.995969Z",
     "iopub.status.idle": "2021-05-05T08:27:04.240532Z",
     "shell.execute_reply": "2021-05-05T08:27:04.241046Z"
    },
    "papermill": {
     "duration": 0.373103,
     "end_time": "2021-05-05T08:27:04.241228",
     "exception": false,
     "start_time": "2021-05-05T08:27:03.868125",
     "status": "completed"
    },
    "tags": []
   },
   "outputs": [
    {
     "data": {
      "image/png": "[encoded data removed]",
      "text/plain": [
       "<Figure size 1152x576 with 1 Axes>"
      ]
     },
     "metadata": {
      "needs_background": "light"
     },
     "output_type": "display_data"
    }
   ],
   "source": [
    "insight('BusinessTravel')"
   ]
  },
  {
   "cell_type": "code",
   "execution_count": 12,
   "id": "faced-roots",
   "metadata": {
    "execution": {
     "iopub.execute_input": "2021-05-05T08:27:04.506103Z",
     "iopub.status.busy": "2021-05-05T08:27:04.505150Z",
     "iopub.status.idle": "2021-05-05T08:27:04.523430Z",
     "shell.execute_reply": "2021-05-05T08:27:04.522354Z"
    },
    "papermill": {
     "duration": 0.160742,
     "end_time": "2021-05-05T08:27:04.523651",
     "exception": false,
     "start_time": "2021-05-05T08:27:04.362909",
     "status": "completed"
    },
    "tags": []
   },
   "outputs": [
    {
     "name": "stdout",
     "output_type": "stream",
     "text": [
      "Percent of No Employee Attrition of Non-Travel employee in column BusinessTravel is 92.0%\n",
      "Percent of Yes Employee Attrition of Non-Travel employee in column BusinessTravel is 8.0%\n",
      "\n",
      "\n",
      "Percent of No Employee Attrition of Travel_Frequently employee in column BusinessTravel is 75.09%\n",
      "Percent of Yes Employee Attrition of Travel_Frequently employee in column BusinessTravel is 24.91%\n",
      "\n",
      "\n",
      "Percent of No Employee Attrition of Travel_Rarely employee in column BusinessTravel is 85.04%\n",
      "Percent of Yes Employee Attrition of Travel_Rarely employee in column BusinessTravel is 14.96%\n",
      "\n",
      "\n"
     ]
    }
   ],
   "source": [
    "percent_cat('BusinessTravel')"
   ]
  },
  {
   "cell_type": "markdown",
   "id": "chinese-conditioning",
   "metadata": {
    "papermill": {
     "duration": 0.14413,
     "end_time": "2021-05-05T08:27:04.804091",
     "exception": false,
     "start_time": "2021-05-05T08:27:04.659961",
     "status": "completed"
    },
    "tags": []
   },
   "source": []
  },
  {
   "cell_type": "markdown",
   "id": "common-reducing",
   "metadata": {
    "papermill": {
     "duration": 0.123031,
     "end_time": "2021-05-05T08:27:05.059594",
     "exception": false,
     "start_time": "2021-05-05T08:27:04.936563",
     "status": "completed"
    },
    "tags": []
   },
   "source": [
    "**Observation**:\n",
    "* Looks like employee who travel frequently changes their job."
   ]
  },
  {
   "cell_type": "code",
   "execution_count": 13,
   "id": "first-bryan",
   "metadata": {
    "execution": {
     "iopub.execute_input": "2021-05-05T08:27:05.319417Z",
     "iopub.status.busy": "2021-05-05T08:27:05.318386Z",
     "iopub.status.idle": "2021-05-05T08:27:05.325409Z",
     "shell.execute_reply": "2021-05-05T08:27:05.326506Z"
    },
    "papermill": {
     "duration": 0.143088,
     "end_time": "2021-05-05T08:27:05.326799",
     "exception": false,
     "start_time": "2021-05-05T08:27:05.183711",
     "status": "completed"
    },
    "tags": []
   },
   "outputs": [
    {
     "name": "stdout",
     "output_type": "stream",
     "text": [
      "No of unique values:\t 886\n",
      "Values Count:\n",
      " 691     6\n",
      "1082    5\n",
      "408     5\n",
      "329     5\n",
      "530     5\n",
      "       ..\n",
      "708     1\n",
      "713     1\n",
      "717     1\n",
      "719     1\n",
      "1499    1\n",
      "Name: DailyRate, Length: 886, dtype: int64\n"
     ]
    }
   ],
   "source": [
    "normal('DailyRate')"
   ]
  },
  {
   "cell_type": "code",
   "execution_count": 14,
   "id": "committed-outreach",
   "metadata": {
    "execution": {
     "iopub.execute_input": "2021-05-05T08:27:05.589161Z",
     "iopub.status.busy": "2021-05-05T08:27:05.588494Z",
     "iopub.status.idle": "2021-05-05T08:27:05.828321Z",
     "shell.execute_reply": "2021-05-05T08:27:05.828833Z"
    },
    "papermill": {
     "duration": 0.379071,
     "end_time": "2021-05-05T08:27:05.829019",
     "exception": false,
     "start_time": "2021-05-05T08:27:05.449948",
     "status": "completed"
    },
    "tags": []
   },
   "outputs": [
    {
     "data": {
      "image/png": "[encoded data removed]",
      "text/plain": [
       "<Figure size 1152x576 with 1 Axes>"
      ]
     },
     "metadata": {
      "needs_background": "light"
     },
     "output_type": "display_data"
    }
   ],
   "source": [
    "insight('Department')"
   ]
  },
  {
   "cell_type": "code",
   "execution_count": 15,
   "id": "charged-building",
   "metadata": {
    "execution": {
     "iopub.execute_input": "2021-05-05T08:27:06.085296Z",
     "iopub.status.busy": "2021-05-05T08:27:06.084632Z",
     "iopub.status.idle": "2021-05-05T08:27:06.102030Z",
     "shell.execute_reply": "2021-05-05T08:27:06.102799Z"
    },
    "papermill": {
     "duration": 0.147704,
     "end_time": "2021-05-05T08:27:06.103047",
     "exception": false,
     "start_time": "2021-05-05T08:27:05.955343",
     "status": "completed"
    },
    "tags": []
   },
   "outputs": [
    {
     "name": "stdout",
     "output_type": "stream",
     "text": [
      "Percent of No Employee Attrition of Human Resources employee in column Department is 80.95%\n",
      "Percent of Yes Employee Attrition of Human Resources employee in column Department is 19.05%\n",
      "\n",
      "\n",
      "Percent of No Employee Attrition of Research & Development employee in column Department is 86.16%\n",
      "Percent of Yes Employee Attrition of Research & Development employee in column Department is 13.84%\n",
      "\n",
      "\n",
      "Percent of No Employee Attrition of Sales employee in column Department is 79.37%\n",
      "Percent of Yes Employee Attrition of Sales employee in column Department is 20.63%\n",
      "\n",
      "\n"
     ]
    }
   ],
   "source": [
    "percent_cat('Department')"
   ]
  },
  {
   "cell_type": "markdown",
   "id": "civilian-sucking",
   "metadata": {
    "papermill": {
     "duration": 0.129498,
     "end_time": "2021-05-05T08:27:06.361866",
     "exception": false,
     "start_time": "2021-05-05T08:27:06.232368",
     "status": "completed"
    },
    "tags": []
   },
   "source": [
    "**Observation**\n",
    "* R&D Department employees have lesser chance of job change.\n",
    "* Sales Department employees have higher chance of job change."
   ]
  },
  {
   "cell_type": "code",
   "execution_count": 16,
   "id": "fossil-burst",
   "metadata": {
    "execution": {
     "iopub.execute_input": "2021-05-05T08:27:06.636938Z",
     "iopub.status.busy": "2021-05-05T08:27:06.636225Z",
     "iopub.status.idle": "2021-05-05T08:27:06.645949Z",
     "shell.execute_reply": "2021-05-05T08:27:06.644948Z"
    },
    "papermill": {
     "duration": 0.143965,
     "end_time": "2021-05-05T08:27:06.646244",
     "exception": false,
     "start_time": "2021-05-05T08:27:06.502279",
     "status": "completed"
    },
    "tags": []
   },
   "outputs": [
    {
     "name": "stdout",
     "output_type": "stream",
     "text": [
      "No of unique values:\t 29\n",
      "Values Count:\n",
      " 2     211\n",
      "1     208\n",
      "10     86\n",
      "9      85\n",
      "3      84\n",
      "7      84\n",
      "8      80\n",
      "5      65\n",
      "4      64\n",
      "6      59\n",
      "16     32\n",
      "11     29\n",
      "24     28\n",
      "23     27\n",
      "29     27\n",
      "18     26\n",
      "15     26\n",
      "20     25\n",
      "25     25\n",
      "26     25\n",
      "28     23\n",
      "19     22\n",
      "14     21\n",
      "17     20\n",
      "12     20\n",
      "22     19\n",
      "13     19\n",
      "21     18\n",
      "27     12\n",
      "Name: DistanceFromHome, dtype: int64\n"
     ]
    }
   ],
   "source": [
    "normal('DistanceFromHome')"
   ]
  },
  {
   "cell_type": "code",
   "execution_count": 17,
   "id": "fifteen-insider",
   "metadata": {
    "execution": {
     "iopub.execute_input": "2021-05-05T08:27:06.922233Z",
     "iopub.status.busy": "2021-05-05T08:27:06.921504Z",
     "iopub.status.idle": "2021-05-05T08:27:07.795219Z",
     "shell.execute_reply": "2021-05-05T08:27:07.795764Z"
    },
    "papermill": {
     "duration": 1.019797,
     "end_time": "2021-05-05T08:27:07.795939",
     "exception": false,
     "start_time": "2021-05-05T08:27:06.776142",
     "status": "completed"
    },
    "tags": []
   },
   "outputs": [
    {
     "data": {
      "image/png": "[encoded data removed]",
      "text/plain": [
       "<Figure size 1152x720 with 1 Axes>"
      ]
     },
     "metadata": {
      "needs_background": "light"
     },
     "output_type": "display_data"
    }
   ],
   "source": [
    "plt.figure(figsize = (16,10))\n",
    "ax = sns.countplot(x = df['DistanceFromHome'], hue = df['Attrition'], palette='Accent')\n",
    "\n",
    "for p in ax.patches:\n",
    "        ax.annotate('{}'.format(p.get_height()), (p.get_x()-0.01, p.get_height()+1))"
   ]
  },
  {
   "cell_type": "code",
   "execution_count": 18,
   "id": "associate-victim",
   "metadata": {
    "execution": {
     "iopub.execute_input": "2021-05-05T08:27:08.066986Z",
     "iopub.status.busy": "2021-05-05T08:27:08.066342Z",
     "iopub.status.idle": "2021-05-05T08:27:08.244304Z",
     "shell.execute_reply": "2021-05-05T08:27:08.244881Z"
    },
    "papermill": {
     "duration": 0.316596,
     "end_time": "2021-05-05T08:27:08.245073",
     "exception": false,
     "start_time": "2021-05-05T08:27:07.928477",
     "status": "completed"
    },
    "tags": []
   },
   "outputs": [
    {
     "name": "stdout",
     "output_type": "stream",
     "text": [
      "Percent of No Employee Attrition of 1 employee in column DistanceFromHome is 87.5%\n",
      "Percent of Yes Employee Attrition of 1 employee in column DistanceFromHome is 12.5%\n",
      "\n",
      "\n",
      "Percent of No Employee Attrition of 2 employee in column DistanceFromHome is 86.73%\n",
      "Percent of Yes Employee Attrition of 2 employee in column DistanceFromHome is 13.27%\n",
      "\n",
      "\n",
      "Percent of No Employee Attrition of 3 employee in column DistanceFromHome is 83.33%\n",
      "Percent of Yes Employee Attrition of 3 employee in column DistanceFromHome is 16.67%\n",
      "\n",
      "\n",
      "Percent of No Employee Attrition of 4 employee in column DistanceFromHome is 85.94%\n",
      "Percent of Yes Employee Attrition of 4 employee in column DistanceFromHome is 14.06%\n",
      "\n",
      "\n",
      "Percent of No Employee Attrition of 5 employee in column DistanceFromHome is 84.62%\n",
      "Percent of Yes Employee Attrition of 5 employee in column DistanceFromHome is 15.38%\n",
      "\n",
      "\n",
      "Percent of No Employee Attrition of 6 employee in column DistanceFromHome is 88.14%\n",
      "Percent of Yes Employee Attrition of 6 employee in column DistanceFromHome is 11.86%\n",
      "\n",
      "\n",
      "Percent of No Employee Attrition of 7 employee in column DistanceFromHome is 86.9%\n",
      "Percent of Yes Employee Attrition of 7 employee in column DistanceFromHome is 13.1%\n",
      "\n",
      "\n",
      "Percent of No Employee Attrition of 8 employee in column DistanceFromHome is 87.5%\n",
      "Percent of Yes Employee Attrition of 8 employee in column DistanceFromHome is 12.5%\n",
      "\n",
      "\n",
      "Percent of No Employee Attrition of 9 employee in column DistanceFromHome is 78.82%\n",
      "Percent of Yes Employee Attrition of 9 employee in column DistanceFromHome is 21.18%\n",
      "\n",
      "\n",
      "Percent of No Employee Attrition of 10 employee in column DistanceFromHome is 87.21%\n",
      "Percent of Yes Employee Attrition of 10 employee in column DistanceFromHome is 12.79%\n",
      "\n",
      "\n",
      "Percent of No Employee Attrition of 11 employee in column DistanceFromHome is 86.21%\n",
      "Percent of Yes Employee Attrition of 11 employee in column DistanceFromHome is 13.79%\n",
      "\n",
      "\n",
      "Percent of No Employee Attrition of 12 employee in column DistanceFromHome is 70.0%\n",
      "Percent of Yes Employee Attrition of 12 employee in column DistanceFromHome is 30.0%\n",
      "\n",
      "\n",
      "Percent of No Employee Attrition of 13 employee in column DistanceFromHome is 68.42%\n",
      "Percent of Yes Employee Attrition of 13 employee in column DistanceFromHome is 31.58%\n",
      "\n",
      "\n",
      "Percent of No Employee Attrition of 14 employee in column DistanceFromHome is 80.95%\n",
      "Percent of Yes Employee Attrition of 14 employee in column DistanceFromHome is 19.05%\n",
      "\n",
      "\n",
      "Percent of No Employee Attrition of 15 employee in column DistanceFromHome is 80.77%\n",
      "Percent of Yes Employee Attrition of 15 employee in column DistanceFromHome is 19.23%\n",
      "\n",
      "\n",
      "Percent of No Employee Attrition of 16 employee in column DistanceFromHome is 78.12%\n",
      "Percent of Yes Employee Attrition of 16 employee in column DistanceFromHome is 21.88%\n",
      "\n",
      "\n",
      "Percent of No Employee Attrition of 17 employee in column DistanceFromHome is 75.0%\n",
      "Percent of Yes Employee Attrition of 17 employee in column DistanceFromHome is 25.0%\n",
      "\n",
      "\n",
      "Percent of No Employee Attrition of 18 employee in column DistanceFromHome is 84.62%\n",
      "Percent of Yes Employee Attrition of 18 employee in column DistanceFromHome is 15.38%\n",
      "\n",
      "\n",
      "Percent of No Employee Attrition of 19 employee in column DistanceFromHome is 86.36%\n",
      "Percent of Yes Employee Attrition of 19 employee in column DistanceFromHome is 13.64%\n",
      "\n",
      "\n",
      "Percent of No Employee Attrition of 20 employee in column DistanceFromHome is 84.0%\n",
      "Percent of Yes Employee Attrition of 20 employee in column DistanceFromHome is 16.0%\n",
      "\n",
      "\n",
      "Percent of No Employee Attrition of 21 employee in column DistanceFromHome is 83.33%\n",
      "Percent of Yes Employee Attrition of 21 employee in column DistanceFromHome is 16.67%\n",
      "\n",
      "\n",
      "Percent of No Employee Attrition of 22 employee in column DistanceFromHome is 68.42%\n",
      "Percent of Yes Employee Attrition of 22 employee in column DistanceFromHome is 31.58%\n",
      "\n",
      "\n",
      "Percent of No Employee Attrition of 23 employee in column DistanceFromHome is 81.48%\n",
      "Percent of Yes Employee Attrition of 23 employee in column DistanceFromHome is 18.52%\n",
      "\n",
      "\n",
      "Percent of No Employee Attrition of 24 employee in column DistanceFromHome is 57.14%\n",
      "Percent of Yes Employee Attrition of 24 employee in column DistanceFromHome is 42.86%\n",
      "\n",
      "\n",
      "Percent of No Employee Attrition of 25 employee in column DistanceFromHome is 76.0%\n",
      "Percent of Yes Employee Attrition of 25 employee in column DistanceFromHome is 24.0%\n",
      "\n",
      "\n",
      "Percent of No Employee Attrition of 26 employee in column DistanceFromHome is 88.0%\n",
      "Percent of Yes Employee Attrition of 26 employee in column DistanceFromHome is 12.0%\n",
      "\n",
      "\n",
      "Percent of No Employee Attrition of 27 employee in column DistanceFromHome is 75.0%\n",
      "Percent of Yes Employee Attrition of 27 employee in column DistanceFromHome is 25.0%\n",
      "\n",
      "\n",
      "Percent of No Employee Attrition of 28 employee in column DistanceFromHome is 91.3%\n",
      "Percent of Yes Employee Attrition of 28 employee in column DistanceFromHome is 8.7%\n",
      "\n",
      "\n",
      "Percent of No Employee Attrition of 29 employee in column DistanceFromHome is 81.48%\n",
      "Percent of Yes Employee Attrition of 29 employee in column DistanceFromHome is 18.52%\n",
      "\n",
      "\n"
     ]
    }
   ],
   "source": [
    "percent_cat('DistanceFromHome')"
   ]
  },
  {
   "cell_type": "code",
   "execution_count": 19,
   "id": "limited-concert",
   "metadata": {
    "execution": {
     "iopub.execute_input": "2021-05-05T08:27:08.531686Z",
     "iopub.status.busy": "2021-05-05T08:27:08.530950Z",
     "iopub.status.idle": "2021-05-05T08:27:08.548367Z",
     "shell.execute_reply": "2021-05-05T08:27:08.547684Z"
    },
    "papermill": {
     "duration": 0.168132,
     "end_time": "2021-05-05T08:27:08.548508",
     "exception": false,
     "start_time": "2021-05-05T08:27:08.380376",
     "status": "completed"
    },
    "tags": []
   },
   "outputs": [
    {
     "data": {
      "text/html": [
       "<div>\n",
       "<style scoped>\n",
       "    .dataframe tbody tr th:only-of-type {\n",
       "        vertical-align: middle;\n",
       "    }\n",
       "\n",
       "    .dataframe tbody tr th {\n",
       "        vertical-align: top;\n",
       "    }\n",
       "\n",
       "    .dataframe thead th {\n",
       "        text-align: right;\n",
       "    }\n",
       "</style>\n",
       "<table border=\"1\" class=\"dataframe\">\n",
       "  <thead>\n",
       "    <tr style=\"text-align: right;\">\n",
       "      <th></th>\n",
       "      <th></th>\n",
       "      <th>DistanceFromHome</th>\n",
       "    </tr>\n",
       "    <tr>\n",
       "      <th>JobRole</th>\n",
       "      <th>Attrition</th>\n",
       "      <th></th>\n",
       "    </tr>\n",
       "  </thead>\n",
       "  <tbody>\n",
       "    <tr>\n",
       "      <th rowspan=\"2\" valign=\"top\">Healthcare Representative</th>\n",
       "      <th>No</th>\n",
       "      <td>9.204918</td>\n",
       "    </tr>\n",
       "    <tr>\n",
       "      <th>Yes</th>\n",
       "      <td>17.666667</td>\n",
       "    </tr>\n",
       "    <tr>\n",
       "      <th rowspan=\"2\" valign=\"top\">Human Resources</th>\n",
       "      <th>No</th>\n",
       "      <td>6.600000</td>\n",
       "    </tr>\n",
       "    <tr>\n",
       "      <th>Yes</th>\n",
       "      <td>13.416667</td>\n",
       "    </tr>\n",
       "    <tr>\n",
       "      <th rowspan=\"2\" valign=\"top\">Laboratory Technician</th>\n",
       "      <th>No</th>\n",
       "      <td>9.329949</td>\n",
       "    </tr>\n",
       "    <tr>\n",
       "      <th>Yes</th>\n",
       "      <td>9.661290</td>\n",
       "    </tr>\n",
       "    <tr>\n",
       "      <th rowspan=\"2\" valign=\"top\">Manager</th>\n",
       "      <th>No</th>\n",
       "      <td>7.927835</td>\n",
       "    </tr>\n",
       "    <tr>\n",
       "      <th>Yes</th>\n",
       "      <td>10.000000</td>\n",
       "    </tr>\n",
       "    <tr>\n",
       "      <th rowspan=\"2\" valign=\"top\">Manufacturing Director</th>\n",
       "      <th>No</th>\n",
       "      <td>9.533333</td>\n",
       "    </tr>\n",
       "    <tr>\n",
       "      <th>Yes</th>\n",
       "      <td>8.800000</td>\n",
       "    </tr>\n",
       "    <tr>\n",
       "      <th rowspan=\"2\" valign=\"top\">Research Director</th>\n",
       "      <th>No</th>\n",
       "      <td>8.474359</td>\n",
       "    </tr>\n",
       "    <tr>\n",
       "      <th>Yes</th>\n",
       "      <td>7.000000</td>\n",
       "    </tr>\n",
       "    <tr>\n",
       "      <th rowspan=\"2\" valign=\"top\">Research Scientist</th>\n",
       "      <th>No</th>\n",
       "      <td>8.869388</td>\n",
       "    </tr>\n",
       "    <tr>\n",
       "      <th>Yes</th>\n",
       "      <td>9.765957</td>\n",
       "    </tr>\n",
       "    <tr>\n",
       "      <th rowspan=\"2\" valign=\"top\">Sales Executive</th>\n",
       "      <th>No</th>\n",
       "      <td>9.026022</td>\n",
       "    </tr>\n",
       "    <tr>\n",
       "      <th>Yes</th>\n",
       "      <td>12.649123</td>\n",
       "    </tr>\n",
       "    <tr>\n",
       "      <th rowspan=\"2\" valign=\"top\">Sales Representative</th>\n",
       "      <th>No</th>\n",
       "      <td>9.000000</td>\n",
       "    </tr>\n",
       "    <tr>\n",
       "      <th>Yes</th>\n",
       "      <td>8.151515</td>\n",
       "    </tr>\n",
       "  </tbody>\n",
       "</table>\n",
       "</div>"
      ],
      "text/plain": [
       "                                     DistanceFromHome\n",
       "JobRole                   Attrition                  \n",
       "Healthcare Representative No                 9.204918\n",
       "                          Yes               17.666667\n",
       "Human Resources           No                 6.600000\n",
       "                          Yes               13.416667\n",
       "Laboratory Technician     No                 9.329949\n",
       "                          Yes                9.661290\n",
       "Manager                   No                 7.927835\n",
       "                          Yes               10.000000\n",
       "Manufacturing Director    No                 9.533333\n",
       "                          Yes                8.800000\n",
       "Research Director         No                 8.474359\n",
       "                          Yes                7.000000\n",
       "Research Scientist        No                 8.869388\n",
       "                          Yes                9.765957\n",
       "Sales Executive           No                 9.026022\n",
       "                          Yes               12.649123\n",
       "Sales Representative      No                 9.000000\n",
       "                          Yes                8.151515"
      ]
     },
     "execution_count": 19,
     "metadata": {},
     "output_type": "execute_result"
    }
   ],
   "source": [
    "df.groupby(['JobRole', 'Attrition']).agg({'DistanceFromHome':np.mean})"
   ]
  },
  {
   "cell_type": "markdown",
   "id": "suspended-damages",
   "metadata": {
    "papermill": {
     "duration": 0.134331,
     "end_time": "2021-05-05T08:27:08.822769",
     "exception": false,
     "start_time": "2021-05-05T08:27:08.688438",
     "status": "completed"
    },
    "tags": []
   },
   "source": [
    "**Observation**\n",
    "* People with less Distance from Home have the less chances of lead to employee attrition\n",
    "* People with higher Distance from Home may lead to employee attrition "
   ]
  },
  {
   "cell_type": "code",
   "execution_count": 20,
   "id": "veterinary-lewis",
   "metadata": {
    "execution": {
     "iopub.execute_input": "2021-05-05T08:27:09.110071Z",
     "iopub.status.busy": "2021-05-05T08:27:09.109407Z",
     "iopub.status.idle": "2021-05-05T08:27:09.486635Z",
     "shell.execute_reply": "2021-05-05T08:27:09.487300Z"
    },
    "papermill": {
     "duration": 0.527306,
     "end_time": "2021-05-05T08:27:09.487501",
     "exception": false,
     "start_time": "2021-05-05T08:27:08.960195",
     "status": "completed"
    },
    "tags": []
   },
   "outputs": [
    {
     "data": {
      "image/png": "[encoded data removed]",
      "text/plain": [
       "<Figure size 1152x576 with 1 Axes>"
      ]
     },
     "metadata": {
      "needs_background": "light"
     },
     "output_type": "display_data"
    }
   ],
   "source": [
    "insight('JobRole')"
   ]
  },
  {
   "cell_type": "code",
   "execution_count": 21,
   "id": "accurate-european",
   "metadata": {
    "execution": {
     "iopub.execute_input": "2021-05-05T08:27:09.750306Z",
     "iopub.status.busy": "2021-05-05T08:27:09.749641Z",
     "iopub.status.idle": "2021-05-05T08:27:09.784765Z",
     "shell.execute_reply": "2021-05-05T08:27:09.784014Z"
    },
    "papermill": {
     "duration": 0.167063,
     "end_time": "2021-05-05T08:27:09.784916",
     "exception": false,
     "start_time": "2021-05-05T08:27:09.617853",
     "status": "completed"
    },
    "tags": []
   },
   "outputs": [
    {
     "name": "stdout",
     "output_type": "stream",
     "text": [
      "Percent of No Employee Attrition of Healthcare Representative employee in column JobRole is 93.13%\n",
      "Percent of Yes Employee Attrition of Healthcare Representative employee in column JobRole is 6.87%\n",
      "\n",
      "\n",
      "Percent of No Employee Attrition of Human Resources employee in column JobRole is 76.92%\n",
      "Percent of Yes Employee Attrition of Human Resources employee in column JobRole is 23.08%\n",
      "\n",
      "\n",
      "Percent of No Employee Attrition of Laboratory Technician employee in column JobRole is 76.06%\n",
      "Percent of Yes Employee Attrition of Laboratory Technician employee in column JobRole is 23.94%\n",
      "\n",
      "\n",
      "Percent of No Employee Attrition of Manager employee in column JobRole is 95.1%\n",
      "Percent of Yes Employee Attrition of Manager employee in column JobRole is 4.9%\n",
      "\n",
      "\n",
      "Percent of No Employee Attrition of Manufacturing Director employee in column JobRole is 93.1%\n",
      "Percent of Yes Employee Attrition of Manufacturing Director employee in column JobRole is 6.9%\n",
      "\n",
      "\n",
      "Percent of No Employee Attrition of Research Director employee in column JobRole is 97.5%\n",
      "Percent of Yes Employee Attrition of Research Director employee in column JobRole is 2.5%\n",
      "\n",
      "\n",
      "Percent of No Employee Attrition of Research Scientist employee in column JobRole is 83.9%\n",
      "Percent of Yes Employee Attrition of Research Scientist employee in column JobRole is 16.1%\n",
      "\n",
      "\n",
      "Percent of No Employee Attrition of Sales Executive employee in column JobRole is 82.52%\n",
      "Percent of Yes Employee Attrition of Sales Executive employee in column JobRole is 17.48%\n",
      "\n",
      "\n",
      "Percent of No Employee Attrition of Sales Representative employee in column JobRole is 60.24%\n",
      "Percent of Yes Employee Attrition of Sales Representative employee in column JobRole is 39.76%\n",
      "\n",
      "\n"
     ]
    }
   ],
   "source": [
    "percent_cat('JobRole')"
   ]
  },
  {
   "cell_type": "markdown",
   "id": "pregnant-effects",
   "metadata": {
    "papermill": {
     "duration": 0.128051,
     "end_time": "2021-05-05T08:27:10.044998",
     "exception": false,
     "start_time": "2021-05-05T08:27:09.916947",
     "status": "completed"
    },
    "tags": []
   },
   "source": [
    "**Observation**\n",
    "* From the above analysis Sales Representative employees have changed their job more\n",
    "* Only lower percent of Research Director were not changed their job."
   ]
  },
  {
   "cell_type": "code",
   "execution_count": 22,
   "id": "defensive-greensboro",
   "metadata": {
    "execution": {
     "iopub.execute_input": "2021-05-05T08:27:10.311895Z",
     "iopub.status.busy": "2021-05-05T08:27:10.310774Z",
     "iopub.status.idle": "2021-05-05T08:27:10.563065Z",
     "shell.execute_reply": "2021-05-05T08:27:10.562415Z"
    },
    "papermill": {
     "duration": 0.38999,
     "end_time": "2021-05-05T08:27:10.563220",
     "exception": false,
     "start_time": "2021-05-05T08:27:10.173230",
     "status": "completed"
    },
    "tags": []
   },
   "outputs": [
    {
     "data": {
      "image/png": "[encoded data removed]",
      "text/plain": [
       "<Figure size 1152x576 with 1 Axes>"
      ]
     },
     "metadata": {
      "needs_background": "light"
     },
     "output_type": "display_data"
    }
   ],
   "source": [
    "insight('Education')"
   ]
  },
  {
   "cell_type": "code",
   "execution_count": 23,
   "id": "encouraging-cartoon",
   "metadata": {
    "execution": {
     "iopub.execute_input": "2021-05-05T08:27:10.858035Z",
     "iopub.status.busy": "2021-05-05T08:27:10.856864Z",
     "iopub.status.idle": "2021-05-05T08:27:10.877004Z",
     "shell.execute_reply": "2021-05-05T08:27:10.877531Z"
    },
    "papermill": {
     "duration": 0.168917,
     "end_time": "2021-05-05T08:27:10.877712",
     "exception": false,
     "start_time": "2021-05-05T08:27:10.708795",
     "status": "completed"
    },
    "tags": []
   },
   "outputs": [
    {
     "name": "stdout",
     "output_type": "stream",
     "text": [
      "Percent of No Employee Attrition of 1 employee in column Education is 81.76%\n",
      "Percent of Yes Employee Attrition of 1 employee in column Education is 18.24%\n",
      "\n",
      "\n",
      "Percent of No Employee Attrition of 2 employee in column Education is 84.4%\n",
      "Percent of Yes Employee Attrition of 2 employee in column Education is 15.6%\n",
      "\n",
      "\n",
      "Percent of No Employee Attrition of 3 employee in column Education is 82.69%\n",
      "Percent of Yes Employee Attrition of 3 employee in column Education is 17.31%\n",
      "\n",
      "\n",
      "Percent of No Employee Attrition of 4 employee in column Education is 85.43%\n",
      "Percent of Yes Employee Attrition of 4 employee in column Education is 14.57%\n",
      "\n",
      "\n",
      "Percent of No Employee Attrition of 5 employee in column Education is 89.58%\n",
      "Percent of Yes Employee Attrition of 5 employee in column Education is 10.42%\n",
      "\n",
      "\n"
     ]
    }
   ],
   "source": [
    "percent_cat('Education')"
   ]
  },
  {
   "cell_type": "markdown",
   "id": "challenging-founder",
   "metadata": {
    "papermill": {
     "duration": 0.132587,
     "end_time": "2021-05-05T08:27:11.154133",
     "exception": false,
     "start_time": "2021-05-05T08:27:11.021546",
     "status": "completed"
    },
    "tags": []
   },
   "source": [
    "**Observation**\n",
    "* 3rd level and 1st level education category employee has higher possibility of employee attrition"
   ]
  },
  {
   "cell_type": "code",
   "execution_count": 24,
   "id": "public-laser",
   "metadata": {
    "execution": {
     "iopub.execute_input": "2021-05-05T08:27:11.498361Z",
     "iopub.status.busy": "2021-05-05T08:27:11.497444Z",
     "iopub.status.idle": "2021-05-05T08:27:11.835980Z",
     "shell.execute_reply": "2021-05-05T08:27:11.835426Z"
    },
    "papermill": {
     "duration": 0.481142,
     "end_time": "2021-05-05T08:27:11.836134",
     "exception": false,
     "start_time": "2021-05-05T08:27:11.354992",
     "status": "completed"
    },
    "tags": []
   },
   "outputs": [
    {
     "data": {
      "image/png": "[encoded data removed]",
      "text/plain": [
       "<Figure size 1152x576 with 1 Axes>"
      ]
     },
     "metadata": {
      "needs_background": "light"
     },
     "output_type": "display_data"
    }
   ],
   "source": [
    "insight('EducationField')"
   ]
  },
  {
   "cell_type": "code",
   "execution_count": 25,
   "id": "legendary-grill",
   "metadata": {
    "execution": {
     "iopub.execute_input": "2021-05-05T08:27:12.112773Z",
     "iopub.status.busy": "2021-05-05T08:27:12.112111Z",
     "iopub.status.idle": "2021-05-05T08:27:12.134953Z",
     "shell.execute_reply": "2021-05-05T08:27:12.135641Z"
    },
    "papermill": {
     "duration": 0.163444,
     "end_time": "2021-05-05T08:27:12.135912",
     "exception": false,
     "start_time": "2021-05-05T08:27:11.972468",
     "status": "completed"
    },
    "tags": []
   },
   "outputs": [
    {
     "name": "stdout",
     "output_type": "stream",
     "text": [
      "Percent of No Employee Attrition of Human Resources employee in column EducationField is 74.07%\n",
      "Percent of Yes Employee Attrition of Human Resources employee in column EducationField is 25.93%\n",
      "\n",
      "\n",
      "Percent of No Employee Attrition of Life Sciences employee in column EducationField is 85.31%\n",
      "Percent of Yes Employee Attrition of Life Sciences employee in column EducationField is 14.69%\n",
      "\n",
      "\n",
      "Percent of No Employee Attrition of Marketing employee in column EducationField is 77.99%\n",
      "Percent of Yes Employee Attrition of Marketing employee in column EducationField is 22.01%\n",
      "\n",
      "\n",
      "Percent of No Employee Attrition of Medical employee in column EducationField is 86.42%\n",
      "Percent of Yes Employee Attrition of Medical employee in column EducationField is 13.58%\n",
      "\n",
      "\n",
      "Percent of No Employee Attrition of Other employee in column EducationField is 86.59%\n",
      "Percent of Yes Employee Attrition of Other employee in column EducationField is 13.41%\n",
      "\n",
      "\n",
      "Percent of No Employee Attrition of Technical Degree employee in column EducationField is 75.76%\n",
      "Percent of Yes Employee Attrition of Technical Degree employee in column EducationField is 24.24%\n",
      "\n",
      "\n"
     ]
    }
   ],
   "source": [
    "percent_cat('EducationField')"
   ]
  },
  {
   "cell_type": "markdown",
   "id": "advised-survey",
   "metadata": {
    "papermill": {
     "duration": 0.133365,
     "end_time": "2021-05-05T08:27:12.407382",
     "exception": false,
     "start_time": "2021-05-05T08:27:12.274017",
     "status": "completed"
    },
    "tags": []
   },
   "source": [
    "**Observation**\n",
    "* Life Sciences and Medical education field employee has higher possibility of not changing their job.\n",
    "* Human Resource and Technical Degree employees were changed their job in more amount."
   ]
  },
  {
   "cell_type": "code",
   "execution_count": 26,
   "id": "synthetic-belarus",
   "metadata": {
    "execution": {
     "iopub.execute_input": "2021-05-05T08:27:12.677417Z",
     "iopub.status.busy": "2021-05-05T08:27:12.676436Z",
     "iopub.status.idle": "2021-05-05T08:27:12.681069Z",
     "shell.execute_reply": "2021-05-05T08:27:12.681578Z"
    },
    "papermill": {
     "duration": 0.143281,
     "end_time": "2021-05-05T08:27:12.681774",
     "exception": false,
     "start_time": "2021-05-05T08:27:12.538493",
     "status": "completed"
    },
    "tags": []
   },
   "outputs": [
    {
     "name": "stdout",
     "output_type": "stream",
     "text": [
      "No of unique values:\t 1\n",
      "Values Count:\n",
      " 1    1470\n",
      "Name: EmployeeCount, dtype: int64\n"
     ]
    }
   ],
   "source": [
    "normal('EmployeeCount')"
   ]
  },
  {
   "cell_type": "markdown",
   "id": "regulation-concord",
   "metadata": {
    "papermill": {
     "duration": 0.131248,
     "end_time": "2021-05-05T08:27:12.949772",
     "exception": false,
     "start_time": "2021-05-05T08:27:12.818524",
     "status": "completed"
    },
    "tags": []
   },
   "source": [
    "**Observation**\n",
    "* Employee count column has only one value in all rows, so probably we can drop this column."
   ]
  },
  {
   "cell_type": "code",
   "execution_count": 27,
   "id": "arranged-darkness",
   "metadata": {
    "execution": {
     "iopub.execute_input": "2021-05-05T08:27:13.221285Z",
     "iopub.status.busy": "2021-05-05T08:27:13.220507Z",
     "iopub.status.idle": "2021-05-05T08:27:13.229260Z",
     "shell.execute_reply": "2021-05-05T08:27:13.228650Z"
    },
    "papermill": {
     "duration": 0.148152,
     "end_time": "2021-05-05T08:27:13.229408",
     "exception": false,
     "start_time": "2021-05-05T08:27:13.081256",
     "status": "completed"
    },
    "tags": []
   },
   "outputs": [
    {
     "name": "stdout",
     "output_type": "stream",
     "text": [
      "No of unique values:\t 1470\n",
      "Values Count:\n",
      " 2048    1\n",
      "1368    1\n",
      "1364    1\n",
      "1363    1\n",
      "1362    1\n",
      "       ..\n",
      "648     1\n",
      "647     1\n",
      "645     1\n",
      "644     1\n",
      "2046    1\n",
      "Name: EmployeeNumber, Length: 1470, dtype: int64\n"
     ]
    }
   ],
   "source": [
    "normal('EmployeeNumber')"
   ]
  },
  {
   "cell_type": "markdown",
   "id": "unavailable-crowd",
   "metadata": {
    "papermill": {
     "duration": 0.139372,
     "end_time": "2021-05-05T08:27:13.507937",
     "exception": false,
     "start_time": "2021-05-05T08:27:13.368565",
     "status": "completed"
    },
    "tags": []
   },
   "source": [
    "**Observation**\n",
    "* Each row of Employee Number column has unique value, so we can drop this column during modelling"
   ]
  },
  {
   "cell_type": "code",
   "execution_count": 28,
   "id": "stock-upper",
   "metadata": {
    "execution": {
     "iopub.execute_input": "2021-05-05T08:27:13.800365Z",
     "iopub.status.busy": "2021-05-05T08:27:13.792373Z",
     "iopub.status.idle": "2021-05-05T08:27:14.046271Z",
     "shell.execute_reply": "2021-05-05T08:27:14.044697Z"
    },
    "papermill": {
     "duration": 0.40276,
     "end_time": "2021-05-05T08:27:14.046452",
     "exception": false,
     "start_time": "2021-05-05T08:27:13.643692",
     "status": "completed"
    },
    "tags": []
   },
   "outputs": [
    {
     "data": {
      "image/png": "[encoded data removed]",
      "text/plain": [
       "<Figure size 1152x576 with 1 Axes>"
      ]
     },
     "metadata": {
      "needs_background": "light"
     },
     "output_type": "display_data"
    }
   ],
   "source": [
    "insight('EnvironmentSatisfaction')"
   ]
  },
  {
   "cell_type": "code",
   "execution_count": 29,
   "id": "exceptional-pantyhose",
   "metadata": {
    "execution": {
     "iopub.execute_input": "2021-05-05T08:27:14.322071Z",
     "iopub.status.busy": "2021-05-05T08:27:14.321292Z",
     "iopub.status.idle": "2021-05-05T08:27:14.335929Z",
     "shell.execute_reply": "2021-05-05T08:27:14.336413Z"
    },
    "papermill": {
     "duration": 0.15677,
     "end_time": "2021-05-05T08:27:14.336614",
     "exception": false,
     "start_time": "2021-05-05T08:27:14.179844",
     "status": "completed"
    },
    "tags": []
   },
   "outputs": [
    {
     "name": "stdout",
     "output_type": "stream",
     "text": [
      "Percent of No Employee Attrition of 1 employee in column EnvironmentSatisfaction is 74.65%\n",
      "Percent of Yes Employee Attrition of 1 employee in column EnvironmentSatisfaction is 25.35%\n",
      "\n",
      "\n",
      "Percent of No Employee Attrition of 2 employee in column EnvironmentSatisfaction is 85.02%\n",
      "Percent of Yes Employee Attrition of 2 employee in column EnvironmentSatisfaction is 14.98%\n",
      "\n",
      "\n",
      "Percent of No Employee Attrition of 3 employee in column EnvironmentSatisfaction is 86.31%\n",
      "Percent of Yes Employee Attrition of 3 employee in column EnvironmentSatisfaction is 13.69%\n",
      "\n",
      "\n",
      "Percent of No Employee Attrition of 4 employee in column EnvironmentSatisfaction is 86.55%\n",
      "Percent of Yes Employee Attrition of 4 employee in column EnvironmentSatisfaction is 13.45%\n",
      "\n",
      "\n"
     ]
    }
   ],
   "source": [
    "percent_cat('EnvironmentSatisfaction')"
   ]
  },
  {
   "cell_type": "markdown",
   "id": "motivated-commodity",
   "metadata": {
    "papermill": {
     "duration": 0.141563,
     "end_time": "2021-05-05T08:27:14.613336",
     "exception": false,
     "start_time": "2021-05-05T08:27:14.471773",
     "status": "completed"
    },
    "tags": []
   },
   "source": [
    "**Observation**:\n",
    "* Environment Satisfaction with value 3 & 4 have higher chance of not changing their job.\n",
    "* Employees with environment satisfaction 1 have changed thir job more."
   ]
  },
  {
   "cell_type": "code",
   "execution_count": 30,
   "id": "egyptian-adult",
   "metadata": {
    "execution": {
     "iopub.execute_input": "2021-05-05T08:27:14.908967Z",
     "iopub.status.busy": "2021-05-05T08:27:14.908247Z",
     "iopub.status.idle": "2021-05-05T08:27:15.110847Z",
     "shell.execute_reply": "2021-05-05T08:27:15.111445Z"
    },
    "papermill": {
     "duration": 0.35572,
     "end_time": "2021-05-05T08:27:15.111627",
     "exception": false,
     "start_time": "2021-05-05T08:27:14.755907",
     "status": "completed"
    },
    "tags": []
   },
   "outputs": [
    {
     "data": {
      "image/png": "[encoded data removed]",
      "text/plain": [
       "<Figure size 1152x576 with 1 Axes>"
      ]
     },
     "metadata": {
      "needs_background": "light"
     },
     "output_type": "display_data"
    }
   ],
   "source": [
    "insight('Gender')"
   ]
  },
  {
   "cell_type": "code",
   "execution_count": 31,
   "id": "thousand-anchor",
   "metadata": {
    "execution": {
     "iopub.execute_input": "2021-05-05T08:27:15.397762Z",
     "iopub.status.busy": "2021-05-05T08:27:15.397006Z",
     "iopub.status.idle": "2021-05-05T08:27:15.410137Z",
     "shell.execute_reply": "2021-05-05T08:27:15.410605Z"
    },
    "papermill": {
     "duration": 0.158599,
     "end_time": "2021-05-05T08:27:15.410804",
     "exception": false,
     "start_time": "2021-05-05T08:27:15.252205",
     "status": "completed"
    },
    "tags": []
   },
   "outputs": [
    {
     "name": "stdout",
     "output_type": "stream",
     "text": [
      "Percent of No Employee Attrition of Female employee in column Gender is 85.2%\n",
      "Percent of Yes Employee Attrition of Female employee in column Gender is 14.8%\n",
      "\n",
      "\n",
      "Percent of No Employee Attrition of Male employee in column Gender is 82.99%\n",
      "Percent of Yes Employee Attrition of Male employee in column Gender is 17.01%\n",
      "\n",
      "\n"
     ]
    }
   ],
   "source": [
    "percent_cat('Gender')"
   ]
  },
  {
   "cell_type": "markdown",
   "id": "integral-balance",
   "metadata": {
    "papermill": {
     "duration": 0.140421,
     "end_time": "2021-05-05T08:27:15.687904",
     "exception": false,
     "start_time": "2021-05-05T08:27:15.547483",
     "status": "completed"
    },
    "tags": []
   },
   "source": [
    "**Observation**:\n",
    "* There is no significant difference between male and female employees in changing their job\n",
    "* More number of employees were male."
   ]
  },
  {
   "cell_type": "code",
   "execution_count": 32,
   "id": "marked-pipeline",
   "metadata": {
    "execution": {
     "iopub.execute_input": "2021-05-05T08:27:15.969907Z",
     "iopub.status.busy": "2021-05-05T08:27:15.968969Z",
     "iopub.status.idle": "2021-05-05T08:27:15.976884Z",
     "shell.execute_reply": "2021-05-05T08:27:15.977499Z"
    },
    "papermill": {
     "duration": 0.148137,
     "end_time": "2021-05-05T08:27:15.977670",
     "exception": false,
     "start_time": "2021-05-05T08:27:15.829533",
     "status": "completed"
    },
    "tags": []
   },
   "outputs": [
    {
     "name": "stdout",
     "output_type": "stream",
     "text": [
      "No of unique values:\t 71\n",
      "Values Count:\n",
      " 66    29\n",
      "42    28\n",
      "98    28\n",
      "84    28\n",
      "48    28\n",
      "      ..\n",
      "69    15\n",
      "53    14\n",
      "68    14\n",
      "38    13\n",
      "34    12\n",
      "Name: HourlyRate, Length: 71, dtype: int64\n"
     ]
    }
   ],
   "source": [
    "normal('HourlyRate')"
   ]
  },
  {
   "cell_type": "code",
   "execution_count": 33,
   "id": "settled-ghost",
   "metadata": {
    "execution": {
     "iopub.execute_input": "2021-05-05T08:27:16.284650Z",
     "iopub.status.busy": "2021-05-05T08:27:16.265756Z",
     "iopub.status.idle": "2021-05-05T08:27:16.464790Z",
     "shell.execute_reply": "2021-05-05T08:27:16.464133Z"
    },
    "papermill": {
     "duration": 0.34775,
     "end_time": "2021-05-05T08:27:16.464935",
     "exception": false,
     "start_time": "2021-05-05T08:27:16.117185",
     "status": "completed"
    },
    "tags": []
   },
   "outputs": [
    {
     "data": {
      "text/plain": [
       "<AxesSubplot:xlabel='HourlyRate', ylabel='Density'>"
      ]
     },
     "execution_count": 33,
     "metadata": {},
     "output_type": "execute_result"
    },
    {
     "data": {
      "image/png": "[encoded data removed]",
      "text/plain": [
       "<Figure size 720x432 with 1 Axes>"
      ]
     },
     "metadata": {
      "needs_background": "light"
     },
     "output_type": "display_data"
    }
   ],
   "source": [
    "plt.figure(figsize=(10,6))\n",
    "sns.kdeplot(x = df['HourlyRate']) \n",
    "#Hourly rate follows normal distribution"
   ]
  },
  {
   "cell_type": "code",
   "execution_count": 34,
   "id": "judicial-parker",
   "metadata": {
    "execution": {
     "iopub.execute_input": "2021-05-05T08:27:16.750801Z",
     "iopub.status.busy": "2021-05-05T08:27:16.748450Z",
     "iopub.status.idle": "2021-05-05T08:27:16.999681Z",
     "shell.execute_reply": "2021-05-05T08:27:16.999120Z"
    },
    "papermill": {
     "duration": 0.39671,
     "end_time": "2021-05-05T08:27:16.999840",
     "exception": false,
     "start_time": "2021-05-05T08:27:16.603130",
     "status": "completed"
    },
    "tags": []
   },
   "outputs": [
    {
     "data": {
      "image/png": "[encoded data removed]",
      "text/plain": [
       "<Figure size 1152x576 with 1 Axes>"
      ]
     },
     "metadata": {
      "needs_background": "light"
     },
     "output_type": "display_data"
    }
   ],
   "source": [
    "insight('JobInvolvement')"
   ]
  },
  {
   "cell_type": "code",
   "execution_count": 35,
   "id": "common-happiness",
   "metadata": {
    "execution": {
     "iopub.execute_input": "2021-05-05T08:27:17.297182Z",
     "iopub.status.busy": "2021-05-05T08:27:17.296152Z",
     "iopub.status.idle": "2021-05-05T08:27:17.312235Z",
     "shell.execute_reply": "2021-05-05T08:27:17.312940Z"
    },
    "papermill": {
     "duration": 0.164747,
     "end_time": "2021-05-05T08:27:17.313195",
     "exception": false,
     "start_time": "2021-05-05T08:27:17.148448",
     "status": "completed"
    },
    "tags": []
   },
   "outputs": [
    {
     "name": "stdout",
     "output_type": "stream",
     "text": [
      "Percent of No Employee Attrition of 1 employee in column JobInvolvement is 66.27%\n",
      "Percent of Yes Employee Attrition of 1 employee in column JobInvolvement is 33.73%\n",
      "\n",
      "\n",
      "Percent of No Employee Attrition of 2 employee in column JobInvolvement is 81.07%\n",
      "Percent of Yes Employee Attrition of 2 employee in column JobInvolvement is 18.93%\n",
      "\n",
      "\n",
      "Percent of No Employee Attrition of 3 employee in column JobInvolvement is 85.6%\n",
      "Percent of Yes Employee Attrition of 3 employee in column JobInvolvement is 14.4%\n",
      "\n",
      "\n",
      "Percent of No Employee Attrition of 4 employee in column JobInvolvement is 90.97%\n",
      "Percent of Yes Employee Attrition of 4 employee in column JobInvolvement is 9.03%\n",
      "\n",
      "\n"
     ]
    }
   ],
   "source": [
    "percent_cat('JobInvolvement')"
   ]
  },
  {
   "cell_type": "markdown",
   "id": "complete-mission",
   "metadata": {
    "papermill": {
     "duration": 0.141208,
     "end_time": "2021-05-05T08:27:17.596788",
     "exception": false,
     "start_time": "2021-05-05T08:27:17.455580",
     "status": "completed"
    },
    "tags": []
   },
   "source": [
    "**Observations:**\n",
    "* JobInvolvement level 1 employees have higher number of job change, whereas Job Involvement level 4 employees have lesser number of job change."
   ]
  },
  {
   "cell_type": "code",
   "execution_count": 36,
   "id": "welsh-programming",
   "metadata": {
    "execution": {
     "iopub.execute_input": "2021-05-05T08:27:17.910287Z",
     "iopub.status.busy": "2021-05-05T08:27:17.886467Z",
     "iopub.status.idle": "2021-05-05T08:27:18.139651Z",
     "shell.execute_reply": "2021-05-05T08:27:18.139010Z"
    },
    "papermill": {
     "duration": 0.405143,
     "end_time": "2021-05-05T08:27:18.139808",
     "exception": false,
     "start_time": "2021-05-05T08:27:17.734665",
     "status": "completed"
    },
    "tags": []
   },
   "outputs": [
    {
     "data": {
      "image/png": "[encoded data removed]",
      "text/plain": [
       "<Figure size 1152x576 with 1 Axes>"
      ]
     },
     "metadata": {
      "needs_background": "light"
     },
     "output_type": "display_data"
    }
   ],
   "source": [
    "insight('JobSatisfaction')"
   ]
  },
  {
   "cell_type": "code",
   "execution_count": 37,
   "id": "nutritional-mixture",
   "metadata": {
    "execution": {
     "iopub.execute_input": "2021-05-05T08:27:18.428936Z",
     "iopub.status.busy": "2021-05-05T08:27:18.427813Z",
     "iopub.status.idle": "2021-05-05T08:27:18.445192Z",
     "shell.execute_reply": "2021-05-05T08:27:18.445658Z"
    },
    "papermill": {
     "duration": 0.163723,
     "end_time": "2021-05-05T08:27:18.445862",
     "exception": false,
     "start_time": "2021-05-05T08:27:18.282139",
     "status": "completed"
    },
    "tags": []
   },
   "outputs": [
    {
     "name": "stdout",
     "output_type": "stream",
     "text": [
      "Percent of No Employee Attrition of 1 employee in column JobSatisfaction is 77.16%\n",
      "Percent of Yes Employee Attrition of 1 employee in column JobSatisfaction is 22.84%\n",
      "\n",
      "\n",
      "Percent of No Employee Attrition of 2 employee in column JobSatisfaction is 83.57%\n",
      "Percent of Yes Employee Attrition of 2 employee in column JobSatisfaction is 16.43%\n",
      "\n",
      "\n",
      "Percent of No Employee Attrition of 3 employee in column JobSatisfaction is 83.48%\n",
      "Percent of Yes Employee Attrition of 3 employee in column JobSatisfaction is 16.52%\n",
      "\n",
      "\n",
      "Percent of No Employee Attrition of 4 employee in column JobSatisfaction is 88.67%\n",
      "Percent of Yes Employee Attrition of 4 employee in column JobSatisfaction is 11.33%\n",
      "\n",
      "\n"
     ]
    }
   ],
   "source": [
    "percent_cat('JobSatisfaction')"
   ]
  },
  {
   "cell_type": "markdown",
   "id": "friendly-event",
   "metadata": {
    "papermill": {
     "duration": 0.140393,
     "end_time": "2021-05-05T08:27:18.727031",
     "exception": false,
     "start_time": "2021-05-05T08:27:18.586638",
     "status": "completed"
    },
    "tags": []
   },
   "source": [
    "**Observation**:\n",
    "* Job Satisfaction level 1 employees have higher number of job change, whereas Job Satisfaction level 4 employees have lesser number of job change."
   ]
  },
  {
   "cell_type": "code",
   "execution_count": 38,
   "id": "devoted-demand",
   "metadata": {
    "execution": {
     "iopub.execute_input": "2021-05-05T08:27:19.025202Z",
     "iopub.status.busy": "2021-05-05T08:27:19.024190Z",
     "iopub.status.idle": "2021-05-05T08:27:19.242116Z",
     "shell.execute_reply": "2021-05-05T08:27:19.241464Z"
    },
    "papermill": {
     "duration": 0.369745,
     "end_time": "2021-05-05T08:27:19.242257",
     "exception": false,
     "start_time": "2021-05-05T08:27:18.872512",
     "status": "completed"
    },
    "tags": []
   },
   "outputs": [
    {
     "data": {
      "image/png": "[encoded data removed]",
      "text/plain": [
       "<Figure size 1152x576 with 1 Axes>"
      ]
     },
     "metadata": {
      "needs_background": "light"
     },
     "output_type": "display_data"
    }
   ],
   "source": [
    "insight('MaritalStatus')"
   ]
  },
  {
   "cell_type": "code",
   "execution_count": 39,
   "id": "conceptual-railway",
   "metadata": {
    "execution": {
     "iopub.execute_input": "2021-05-05T08:27:19.545335Z",
     "iopub.status.busy": "2021-05-05T08:27:19.544287Z",
     "iopub.status.idle": "2021-05-05T08:27:19.560346Z",
     "shell.execute_reply": "2021-05-05T08:27:19.561679Z"
    },
    "papermill": {
     "duration": 0.16494,
     "end_time": "2021-05-05T08:27:19.562102",
     "exception": false,
     "start_time": "2021-05-05T08:27:19.397162",
     "status": "completed"
    },
    "tags": []
   },
   "outputs": [
    {
     "name": "stdout",
     "output_type": "stream",
     "text": [
      "Percent of No Employee Attrition of Divorced employee in column MaritalStatus is 89.91%\n",
      "Percent of Yes Employee Attrition of Divorced employee in column MaritalStatus is 10.09%\n",
      "\n",
      "\n",
      "Percent of No Employee Attrition of Married employee in column MaritalStatus is 87.52%\n",
      "Percent of Yes Employee Attrition of Married employee in column MaritalStatus is 12.48%\n",
      "\n",
      "\n",
      "Percent of No Employee Attrition of Single employee in column MaritalStatus is 74.47%\n",
      "Percent of Yes Employee Attrition of Single employee in column MaritalStatus is 25.53%\n",
      "\n",
      "\n"
     ]
    }
   ],
   "source": [
    "percent_cat('MaritalStatus')"
   ]
  },
  {
   "cell_type": "markdown",
   "id": "geographic-excess",
   "metadata": {
    "papermill": {
     "duration": 0.141045,
     "end_time": "2021-05-05T08:27:19.848998",
     "exception": false,
     "start_time": "2021-05-05T08:27:19.707953",
     "status": "completed"
    },
    "tags": []
   },
   "source": [
    "**Observation**:\n",
    "* Quite Interesting Bachelor employees changed their job in large amount."
   ]
  },
  {
   "cell_type": "code",
   "execution_count": 40,
   "id": "voluntary-appeal",
   "metadata": {
    "execution": {
     "iopub.execute_input": "2021-05-05T08:27:20.144949Z",
     "iopub.status.busy": "2021-05-05T08:27:20.143957Z",
     "iopub.status.idle": "2021-05-05T08:27:20.150803Z",
     "shell.execute_reply": "2021-05-05T08:27:20.149984Z"
    },
    "papermill": {
     "duration": 0.159917,
     "end_time": "2021-05-05T08:27:20.150995",
     "exception": false,
     "start_time": "2021-05-05T08:27:19.991078",
     "status": "completed"
    },
    "tags": []
   },
   "outputs": [
    {
     "name": "stdout",
     "output_type": "stream",
     "text": [
      "No of unique values:\t 1349\n",
      "Values Count:\n",
      " 2342     4\n",
      "6142     3\n",
      "2610     3\n",
      "2559     3\n",
      "6347     3\n",
      "        ..\n",
      "4103     1\n",
      "2705     1\n",
      "6796     1\n",
      "19717    1\n",
      "10239    1\n",
      "Name: MonthlyIncome, Length: 1349, dtype: int64\n"
     ]
    }
   ],
   "source": [
    "normal('MonthlyIncome')"
   ]
  },
  {
   "cell_type": "code",
   "execution_count": 41,
   "id": "announced-appeal",
   "metadata": {
    "execution": {
     "iopub.execute_input": "2021-05-05T08:27:20.455962Z",
     "iopub.status.busy": "2021-05-05T08:27:20.454921Z",
     "iopub.status.idle": "2021-05-05T08:27:20.458561Z",
     "shell.execute_reply": "2021-05-05T08:27:20.459182Z"
    },
    "papermill": {
     "duration": 0.15456,
     "end_time": "2021-05-05T08:27:20.459368",
     "exception": false,
     "start_time": "2021-05-05T08:27:20.304808",
     "status": "completed"
    },
    "tags": []
   },
   "outputs": [
    {
     "name": "stdout",
     "output_type": "stream",
     "text": [
      "No of unique values:\t 1427\n",
      "Values Count:\n",
      " 4223     3\n",
      "9150     3\n",
      "9096     2\n",
      "13008    2\n",
      "12858    2\n",
      "        ..\n",
      "17071    1\n",
      "23213    1\n",
      "3835     1\n",
      "25258    1\n",
      "12287    1\n",
      "Name: MonthlyRate, Length: 1427, dtype: int64\n"
     ]
    }
   ],
   "source": [
    "normal('MonthlyRate')"
   ]
  },
  {
   "cell_type": "code",
   "execution_count": 42,
   "id": "seventh-alignment",
   "metadata": {
    "execution": {
     "iopub.execute_input": "2021-05-05T08:27:20.762173Z",
     "iopub.status.busy": "2021-05-05T08:27:20.753220Z",
     "iopub.status.idle": "2021-05-05T08:27:20.768759Z",
     "shell.execute_reply": "2021-05-05T08:27:20.768228Z"
    },
    "papermill": {
     "duration": 0.16696,
     "end_time": "2021-05-05T08:27:20.768907",
     "exception": false,
     "start_time": "2021-05-05T08:27:20.601947",
     "status": "completed"
    },
    "tags": []
   },
   "outputs": [
    {
     "data": {
      "text/html": [
       "<div>\n",
       "<style scoped>\n",
       "    .dataframe tbody tr th:only-of-type {\n",
       "        vertical-align: middle;\n",
       "    }\n",
       "\n",
       "    .dataframe tbody tr th {\n",
       "        vertical-align: top;\n",
       "    }\n",
       "\n",
       "    .dataframe thead th {\n",
       "        text-align: right;\n",
       "    }\n",
       "</style>\n",
       "<table border=\"1\" class=\"dataframe\">\n",
       "  <thead>\n",
       "    <tr style=\"text-align: right;\">\n",
       "      <th></th>\n",
       "      <th></th>\n",
       "      <th>MonthlyIncome</th>\n",
       "    </tr>\n",
       "    <tr>\n",
       "      <th>Education</th>\n",
       "      <th>Attrition</th>\n",
       "      <th></th>\n",
       "    </tr>\n",
       "  </thead>\n",
       "  <tbody>\n",
       "    <tr>\n",
       "      <th rowspan=\"2\" valign=\"top\">1</th>\n",
       "      <th>No</th>\n",
       "      <td>5926.129496</td>\n",
       "    </tr>\n",
       "    <tr>\n",
       "      <th>Yes</th>\n",
       "      <td>4360.161290</td>\n",
       "    </tr>\n",
       "    <tr>\n",
       "      <th rowspan=\"2\" valign=\"top\">2</th>\n",
       "      <th>No</th>\n",
       "      <td>6586.058824</td>\n",
       "    </tr>\n",
       "    <tr>\n",
       "      <th>Yes</th>\n",
       "      <td>4282.545455</td>\n",
       "    </tr>\n",
       "    <tr>\n",
       "      <th rowspan=\"2\" valign=\"top\">3</th>\n",
       "      <th>No</th>\n",
       "      <td>6882.919662</td>\n",
       "    </tr>\n",
       "    <tr>\n",
       "      <th>Yes</th>\n",
       "      <td>4770.242424</td>\n",
       "    </tr>\n",
       "    <tr>\n",
       "      <th rowspan=\"2\" valign=\"top\">4</th>\n",
       "      <th>No</th>\n",
       "      <td>7087.814706</td>\n",
       "    </tr>\n",
       "    <tr>\n",
       "      <th>Yes</th>\n",
       "      <td>5335.155172</td>\n",
       "    </tr>\n",
       "    <tr>\n",
       "      <th rowspan=\"2\" valign=\"top\">5</th>\n",
       "      <th>No</th>\n",
       "      <td>8559.906977</td>\n",
       "    </tr>\n",
       "    <tr>\n",
       "      <th>Yes</th>\n",
       "      <td>5850.200000</td>\n",
       "    </tr>\n",
       "  </tbody>\n",
       "</table>\n",
       "</div>"
      ],
      "text/plain": [
       "                     MonthlyIncome\n",
       "Education Attrition               \n",
       "1         No           5926.129496\n",
       "          Yes          4360.161290\n",
       "2         No           6586.058824\n",
       "          Yes          4282.545455\n",
       "3         No           6882.919662\n",
       "          Yes          4770.242424\n",
       "4         No           7087.814706\n",
       "          Yes          5335.155172\n",
       "5         No           8559.906977\n",
       "          Yes          5850.200000"
      ]
     },
     "execution_count": 42,
     "metadata": {},
     "output_type": "execute_result"
    }
   ],
   "source": [
    "df.groupby(['Education','Attrition']).agg({'MonthlyIncome':np.mean}).head(30)"
   ]
  },
  {
   "cell_type": "markdown",
   "id": "destroyed-diagnosis",
   "metadata": {
    "papermill": {
     "duration": 0.154226,
     "end_time": "2021-05-05T08:27:21.074513",
     "exception": false,
     "start_time": "2021-05-05T08:27:20.920287",
     "status": "completed"
    },
    "tags": []
   },
   "source": [
    "**Observation**:\n",
    "* Education level 5 with no job change has higher average of Monthly Income.\n",
    "* In all category education level, employees changed their job due to low monthly Income."
   ]
  },
  {
   "cell_type": "code",
   "execution_count": 43,
   "id": "corporate-storage",
   "metadata": {
    "execution": {
     "iopub.execute_input": "2021-05-05T08:27:21.380478Z",
     "iopub.status.busy": "2021-05-05T08:27:21.379843Z",
     "iopub.status.idle": "2021-05-05T08:27:21.752595Z",
     "shell.execute_reply": "2021-05-05T08:27:21.753089Z"
    },
    "papermill": {
     "duration": 0.529148,
     "end_time": "2021-05-05T08:27:21.753277",
     "exception": false,
     "start_time": "2021-05-05T08:27:21.224129",
     "status": "completed"
    },
    "tags": []
   },
   "outputs": [
    {
     "data": {
      "image/png": "[encoded data removed]",
      "text/plain": [
       "<Figure size 1152x576 with 1 Axes>"
      ]
     },
     "metadata": {
      "needs_background": "light"
     },
     "output_type": "display_data"
    }
   ],
   "source": [
    "insight('NumCompaniesWorked')"
   ]
  },
  {
   "cell_type": "code",
   "execution_count": 44,
   "id": "strong-tuition",
   "metadata": {
    "execution": {
     "iopub.execute_input": "2021-05-05T08:27:22.107310Z",
     "iopub.status.busy": "2021-05-05T08:27:22.106650Z",
     "iopub.status.idle": "2021-05-05T08:27:22.136818Z",
     "shell.execute_reply": "2021-05-05T08:27:22.135871Z"
    },
    "papermill": {
     "duration": 0.19677,
     "end_time": "2021-05-05T08:27:22.136973",
     "exception": false,
     "start_time": "2021-05-05T08:27:21.940203",
     "status": "completed"
    },
    "tags": []
   },
   "outputs": [
    {
     "name": "stdout",
     "output_type": "stream",
     "text": [
      "Percent of No Employee Attrition of 0 employee in column NumCompaniesWorked is 88.32%\n",
      "Percent of Yes Employee Attrition of 0 employee in column NumCompaniesWorked is 11.68%\n",
      "\n",
      "\n",
      "Percent of No Employee Attrition of 1 employee in column NumCompaniesWorked is 81.19%\n",
      "Percent of Yes Employee Attrition of 1 employee in column NumCompaniesWorked is 18.81%\n",
      "\n",
      "\n",
      "Percent of No Employee Attrition of 2 employee in column NumCompaniesWorked is 89.04%\n",
      "Percent of Yes Employee Attrition of 2 employee in column NumCompaniesWorked is 10.96%\n",
      "\n",
      "\n",
      "Percent of No Employee Attrition of 3 employee in column NumCompaniesWorked is 89.94%\n",
      "Percent of Yes Employee Attrition of 3 employee in column NumCompaniesWorked is 10.06%\n",
      "\n",
      "\n",
      "Percent of No Employee Attrition of 4 employee in column NumCompaniesWorked is 87.77%\n",
      "Percent of Yes Employee Attrition of 4 employee in column NumCompaniesWorked is 12.23%\n",
      "\n",
      "\n",
      "Percent of No Employee Attrition of 5 employee in column NumCompaniesWorked is 74.6%\n",
      "Percent of Yes Employee Attrition of 5 employee in column NumCompaniesWorked is 25.4%\n",
      "\n",
      "\n",
      "Percent of No Employee Attrition of 6 employee in column NumCompaniesWorked is 77.14%\n",
      "Percent of Yes Employee Attrition of 6 employee in column NumCompaniesWorked is 22.86%\n",
      "\n",
      "\n",
      "Percent of No Employee Attrition of 7 employee in column NumCompaniesWorked is 77.03%\n",
      "Percent of Yes Employee Attrition of 7 employee in column NumCompaniesWorked is 22.97%\n",
      "\n",
      "\n",
      "Percent of No Employee Attrition of 8 employee in column NumCompaniesWorked is 87.76%\n",
      "Percent of Yes Employee Attrition of 8 employee in column NumCompaniesWorked is 12.24%\n",
      "\n",
      "\n",
      "Percent of No Employee Attrition of 9 employee in column NumCompaniesWorked is 76.92%\n",
      "Percent of Yes Employee Attrition of 9 employee in column NumCompaniesWorked is 23.08%\n",
      "\n",
      "\n"
     ]
    }
   ],
   "source": [
    "percent_cat('NumCompaniesWorked')"
   ]
  },
  {
   "cell_type": "markdown",
   "id": "assured-concert",
   "metadata": {
    "papermill": {
     "duration": 0.152072,
     "end_time": "2021-05-05T08:27:22.435192",
     "exception": false,
     "start_time": "2021-05-05T08:27:22.283120",
     "status": "completed"
    },
    "tags": []
   },
   "source": [
    "**Observation**:\n",
    "* Employees who have worked in less than 4 companies have lesser chance of changing their job.\n",
    "* Higher the number of companies worked, higher the chance of changing their job."
   ]
  },
  {
   "cell_type": "code",
   "execution_count": 45,
   "id": "greek-queensland",
   "metadata": {
    "execution": {
     "iopub.execute_input": "2021-05-05T08:27:22.748150Z",
     "iopub.status.busy": "2021-05-05T08:27:22.745544Z",
     "iopub.status.idle": "2021-05-05T08:27:22.752204Z",
     "shell.execute_reply": "2021-05-05T08:27:22.751645Z"
    },
    "papermill": {
     "duration": 0.162146,
     "end_time": "2021-05-05T08:27:22.752343",
     "exception": false,
     "start_time": "2021-05-05T08:27:22.590197",
     "status": "completed"
    },
    "tags": []
   },
   "outputs": [
    {
     "name": "stdout",
     "output_type": "stream",
     "text": [
      "No of unique values:\t 1\n",
      "Values Count:\n",
      " Y    1470\n",
      "Name: Over18, dtype: int64\n"
     ]
    }
   ],
   "source": [
    "normal('Over18')\n",
    "#This column has only one unique column, so we can drop this column"
   ]
  },
  {
   "cell_type": "code",
   "execution_count": 46,
   "id": "wrong-invite",
   "metadata": {
    "execution": {
     "iopub.execute_input": "2021-05-05T08:27:23.075848Z",
     "iopub.status.busy": "2021-05-05T08:27:23.071922Z",
     "iopub.status.idle": "2021-05-05T08:27:23.264418Z",
     "shell.execute_reply": "2021-05-05T08:27:23.263513Z"
    },
    "papermill": {
     "duration": 0.353398,
     "end_time": "2021-05-05T08:27:23.264573",
     "exception": false,
     "start_time": "2021-05-05T08:27:22.911175",
     "status": "completed"
    },
    "tags": []
   },
   "outputs": [
    {
     "data": {
      "image/png": "[encoded data removed]",
      "text/plain": [
       "<Figure size 1152x576 with 1 Axes>"
      ]
     },
     "metadata": {
      "needs_background": "light"
     },
     "output_type": "display_data"
    }
   ],
   "source": [
    "insight('OverTime')"
   ]
  },
  {
   "cell_type": "code",
   "execution_count": 47,
   "id": "wooden-conversation",
   "metadata": {
    "execution": {
     "iopub.execute_input": "2021-05-05T08:27:23.585801Z",
     "iopub.status.busy": "2021-05-05T08:27:23.583513Z",
     "iopub.status.idle": "2021-05-05T08:27:23.597700Z",
     "shell.execute_reply": "2021-05-05T08:27:23.596762Z"
    },
    "papermill": {
     "duration": 0.176156,
     "end_time": "2021-05-05T08:27:23.597926",
     "exception": false,
     "start_time": "2021-05-05T08:27:23.421770",
     "status": "completed"
    },
    "tags": []
   },
   "outputs": [
    {
     "name": "stdout",
     "output_type": "stream",
     "text": [
      "Percent of No Employee Attrition of No employee in column OverTime is 89.56%\n",
      "Percent of Yes Employee Attrition of No employee in column OverTime is 10.44%\n",
      "\n",
      "\n",
      "Percent of No Employee Attrition of Yes employee in column OverTime is 69.47%\n",
      "Percent of Yes Employee Attrition of Yes employee in column OverTime is 30.53%\n",
      "\n",
      "\n"
     ]
    }
   ],
   "source": [
    "percent_cat('OverTime')"
   ]
  },
  {
   "cell_type": "markdown",
   "id": "dramatic-boulder",
   "metadata": {
    "papermill": {
     "duration": 0.157838,
     "end_time": "2021-05-05T08:27:23.911894",
     "exception": false,
     "start_time": "2021-05-05T08:27:23.754056",
     "status": "completed"
    },
    "tags": []
   },
   "source": [
    "**Observation**:\n",
    "* Employees who did overtime have higher chance of changing their job"
   ]
  },
  {
   "cell_type": "code",
   "execution_count": 48,
   "id": "parental-adrian",
   "metadata": {
    "execution": {
     "iopub.execute_input": "2021-05-05T08:27:24.222174Z",
     "iopub.status.busy": "2021-05-05T08:27:24.220496Z",
     "iopub.status.idle": "2021-05-05T08:27:24.751633Z",
     "shell.execute_reply": "2021-05-05T08:27:24.750995Z"
    },
    "papermill": {
     "duration": 0.689498,
     "end_time": "2021-05-05T08:27:24.751793",
     "exception": false,
     "start_time": "2021-05-05T08:27:24.062295",
     "status": "completed"
    },
    "tags": []
   },
   "outputs": [
    {
     "data": {
      "image/png": "[encoded data removed]",
      "text/plain": [
       "<Figure size 1152x576 with 1 Axes>"
      ]
     },
     "metadata": {
      "needs_background": "light"
     },
     "output_type": "display_data"
    }
   ],
   "source": [
    "insight('PercentSalaryHike')"
   ]
  },
  {
   "cell_type": "code",
   "execution_count": 49,
   "id": "irish-craft",
   "metadata": {
    "execution": {
     "iopub.execute_input": "2021-05-05T08:27:25.066634Z",
     "iopub.status.busy": "2021-05-05T08:27:25.059908Z",
     "iopub.status.idle": "2021-05-05T08:27:25.100785Z",
     "shell.execute_reply": "2021-05-05T08:27:25.100163Z"
    },
    "papermill": {
     "duration": 0.199251,
     "end_time": "2021-05-05T08:27:25.100973",
     "exception": false,
     "start_time": "2021-05-05T08:27:24.901722",
     "status": "completed"
    },
    "tags": []
   },
   "outputs": [
    {
     "name": "stdout",
     "output_type": "stream",
     "text": [
      "Percent of No Employee Attrition of 11 employee in column PercentSalaryHike is 80.48%\n",
      "Percent of Yes Employee Attrition of 11 employee in column PercentSalaryHike is 19.52%\n",
      "\n",
      "\n",
      "Percent of No Employee Attrition of 12 employee in column PercentSalaryHike is 83.33%\n",
      "Percent of Yes Employee Attrition of 12 employee in column PercentSalaryHike is 16.67%\n",
      "\n",
      "\n",
      "Percent of No Employee Attrition of 13 employee in column PercentSalaryHike is 83.73%\n",
      "Percent of Yes Employee Attrition of 13 employee in column PercentSalaryHike is 16.27%\n",
      "\n",
      "\n",
      "Percent of No Employee Attrition of 14 employee in column PercentSalaryHike is 88.06%\n",
      "Percent of Yes Employee Attrition of 14 employee in column PercentSalaryHike is 11.94%\n",
      "\n",
      "\n",
      "Percent of No Employee Attrition of 15 employee in column PercentSalaryHike is 82.18%\n",
      "Percent of Yes Employee Attrition of 15 employee in column PercentSalaryHike is 17.82%\n",
      "\n",
      "\n",
      "Percent of No Employee Attrition of 16 employee in column PercentSalaryHike is 82.05%\n",
      "Percent of Yes Employee Attrition of 16 employee in column PercentSalaryHike is 17.95%\n",
      "\n",
      "\n",
      "Percent of No Employee Attrition of 17 employee in column PercentSalaryHike is 82.93%\n",
      "Percent of Yes Employee Attrition of 17 employee in column PercentSalaryHike is 17.07%\n",
      "\n",
      "\n",
      "Percent of No Employee Attrition of 18 employee in column PercentSalaryHike is 85.39%\n",
      "Percent of Yes Employee Attrition of 18 employee in column PercentSalaryHike is 14.61%\n",
      "\n",
      "\n",
      "Percent of No Employee Attrition of 19 employee in column PercentSalaryHike is 88.16%\n",
      "Percent of Yes Employee Attrition of 19 employee in column PercentSalaryHike is 11.84%\n",
      "\n",
      "\n",
      "Percent of No Employee Attrition of 20 employee in column PercentSalaryHike is 87.27%\n",
      "Percent of Yes Employee Attrition of 20 employee in column PercentSalaryHike is 12.73%\n",
      "\n",
      "\n",
      "Percent of No Employee Attrition of 21 employee in column PercentSalaryHike is 89.58%\n",
      "Percent of Yes Employee Attrition of 21 employee in column PercentSalaryHike is 10.42%\n",
      "\n",
      "\n",
      "Percent of No Employee Attrition of 22 employee in column PercentSalaryHike is 78.57%\n",
      "Percent of Yes Employee Attrition of 22 employee in column PercentSalaryHike is 21.43%\n",
      "\n",
      "\n",
      "Percent of No Employee Attrition of 23 employee in column PercentSalaryHike is 78.57%\n",
      "Percent of Yes Employee Attrition of 23 employee in column PercentSalaryHike is 21.43%\n",
      "\n",
      "\n",
      "Percent of No Employee Attrition of 24 employee in column PercentSalaryHike is 71.43%\n",
      "Percent of Yes Employee Attrition of 24 employee in column PercentSalaryHike is 28.57%\n",
      "\n",
      "\n",
      "Percent of No Employee Attrition of 25 employee in column PercentSalaryHike is 94.44%\n",
      "Percent of Yes Employee Attrition of 25 employee in column PercentSalaryHike is 5.56%\n",
      "\n",
      "\n"
     ]
    }
   ],
   "source": [
    "percent_cat('PercentSalaryHike')"
   ]
  },
  {
   "cell_type": "markdown",
   "id": "underlying-myanmar",
   "metadata": {
    "papermill": {
     "duration": 0.15475,
     "end_time": "2021-05-05T08:27:25.420138",
     "exception": false,
     "start_time": "2021-05-05T08:27:25.265388",
     "status": "completed"
    },
    "tags": []
   },
   "source": [
    "**Observation**\n",
    "* Lower the salary hike of employees, higher the chance of job change."
   ]
  },
  {
   "cell_type": "code",
   "execution_count": 50,
   "id": "interested-chair",
   "metadata": {
    "execution": {
     "iopub.execute_input": "2021-05-05T08:27:25.725267Z",
     "iopub.status.busy": "2021-05-05T08:27:25.724349Z",
     "iopub.status.idle": "2021-05-05T08:27:25.918499Z",
     "shell.execute_reply": "2021-05-05T08:27:25.917453Z"
    },
    "papermill": {
     "duration": 0.347349,
     "end_time": "2021-05-05T08:27:25.918651",
     "exception": false,
     "start_time": "2021-05-05T08:27:25.571302",
     "status": "completed"
    },
    "tags": []
   },
   "outputs": [
    {
     "data": {
      "image/png": "[encoded data removed]",
      "text/plain": [
       "<Figure size 1152x576 with 1 Axes>"
      ]
     },
     "metadata": {
      "needs_background": "light"
     },
     "output_type": "display_data"
    }
   ],
   "source": [
    "insight('PerformanceRating')"
   ]
  },
  {
   "cell_type": "code",
   "execution_count": 51,
   "id": "powerful-gasoline",
   "metadata": {
    "execution": {
     "iopub.execute_input": "2021-05-05T08:27:26.226223Z",
     "iopub.status.busy": "2021-05-05T08:27:26.225550Z",
     "iopub.status.idle": "2021-05-05T08:27:26.236617Z",
     "shell.execute_reply": "2021-05-05T08:27:26.235928Z"
    },
    "papermill": {
     "duration": 0.167337,
     "end_time": "2021-05-05T08:27:26.236777",
     "exception": false,
     "start_time": "2021-05-05T08:27:26.069440",
     "status": "completed"
    },
    "tags": []
   },
   "outputs": [
    {
     "name": "stdout",
     "output_type": "stream",
     "text": [
      "Percent of No Employee Attrition of 3 employee in column PerformanceRating is 83.92%\n",
      "Percent of Yes Employee Attrition of 3 employee in column PerformanceRating is 16.08%\n",
      "\n",
      "\n",
      "Percent of No Employee Attrition of 4 employee in column PerformanceRating is 83.63%\n",
      "Percent of Yes Employee Attrition of 4 employee in column PerformanceRating is 16.37%\n",
      "\n",
      "\n"
     ]
    }
   ],
   "source": [
    "percent_cat('PerformanceRating')"
   ]
  },
  {
   "cell_type": "markdown",
   "id": "passive-subscriber",
   "metadata": {
    "papermill": {
     "duration": 0.155066,
     "end_time": "2021-05-05T08:27:26.544601",
     "exception": false,
     "start_time": "2021-05-05T08:27:26.389535",
     "status": "completed"
    },
    "tags": []
   },
   "source": [
    "**Observation**\n",
    "* There is no significant difference between Performance Rating level 3 and 4."
   ]
  },
  {
   "cell_type": "code",
   "execution_count": 52,
   "id": "swedish-millennium",
   "metadata": {
    "execution": {
     "iopub.execute_input": "2021-05-05T08:27:26.860642Z",
     "iopub.status.busy": "2021-05-05T08:27:26.859775Z",
     "iopub.status.idle": "2021-05-05T08:27:27.121423Z",
     "shell.execute_reply": "2021-05-05T08:27:27.120845Z"
    },
    "papermill": {
     "duration": 0.423312,
     "end_time": "2021-05-05T08:27:27.121566",
     "exception": false,
     "start_time": "2021-05-05T08:27:26.698254",
     "status": "completed"
    },
    "tags": []
   },
   "outputs": [
    {
     "data": {
      "image/png": "[encoded data removed]",
      "text/plain": [
       "<Figure size 1152x576 with 1 Axes>"
      ]
     },
     "metadata": {
      "needs_background": "light"
     },
     "output_type": "display_data"
    }
   ],
   "source": [
    "insight('RelationshipSatisfaction')"
   ]
  },
  {
   "cell_type": "code",
   "execution_count": 53,
   "id": "metallic-clinic",
   "metadata": {
    "execution": {
     "iopub.execute_input": "2021-05-05T08:27:27.450291Z",
     "iopub.status.busy": "2021-05-05T08:27:27.449550Z",
     "iopub.status.idle": "2021-05-05T08:27:27.465406Z",
     "shell.execute_reply": "2021-05-05T08:27:27.464372Z"
    },
    "papermill": {
     "duration": 0.18348,
     "end_time": "2021-05-05T08:27:27.465632",
     "exception": false,
     "start_time": "2021-05-05T08:27:27.282152",
     "status": "completed"
    },
    "tags": []
   },
   "outputs": [
    {
     "name": "stdout",
     "output_type": "stream",
     "text": [
      "Percent of No Employee Attrition of 1 employee in column RelationshipSatisfaction is 79.35%\n",
      "Percent of Yes Employee Attrition of 1 employee in column RelationshipSatisfaction is 20.65%\n",
      "\n",
      "\n",
      "Percent of No Employee Attrition of 2 employee in column RelationshipSatisfaction is 85.15%\n",
      "Percent of Yes Employee Attrition of 2 employee in column RelationshipSatisfaction is 14.85%\n",
      "\n",
      "\n",
      "Percent of No Employee Attrition of 3 employee in column RelationshipSatisfaction is 84.53%\n",
      "Percent of Yes Employee Attrition of 3 employee in column RelationshipSatisfaction is 15.47%\n",
      "\n",
      "\n",
      "Percent of No Employee Attrition of 4 employee in column RelationshipSatisfaction is 85.19%\n",
      "Percent of Yes Employee Attrition of 4 employee in column RelationshipSatisfaction is 14.81%\n",
      "\n",
      "\n"
     ]
    }
   ],
   "source": [
    "percent_cat('RelationshipSatisfaction')"
   ]
  },
  {
   "cell_type": "markdown",
   "id": "inappropriate-violence",
   "metadata": {
    "papermill": {
     "duration": 0.163586,
     "end_time": "2021-05-05T08:27:27.787643",
     "exception": false,
     "start_time": "2021-05-05T08:27:27.624057",
     "status": "completed"
    },
    "tags": []
   },
   "source": [
    "**Observation:**\n",
    "* Employees with Relationship Satisfaction level 1 changed their job in large amount.\n"
   ]
  },
  {
   "cell_type": "code",
   "execution_count": 54,
   "id": "banned-stroke",
   "metadata": {
    "execution": {
     "iopub.execute_input": "2021-05-05T08:27:28.124836Z",
     "iopub.status.busy": "2021-05-05T08:27:28.123799Z",
     "iopub.status.idle": "2021-05-05T08:27:28.128170Z",
     "shell.execute_reply": "2021-05-05T08:27:28.127593Z"
    },
    "papermill": {
     "duration": 0.168815,
     "end_time": "2021-05-05T08:27:28.128314",
     "exception": false,
     "start_time": "2021-05-05T08:27:27.959499",
     "status": "completed"
    },
    "tags": []
   },
   "outputs": [
    {
     "name": "stdout",
     "output_type": "stream",
     "text": [
      "No of unique values:\t 1\n",
      "Values Count:\n",
      " 80    1470\n",
      "Name: StandardHours, dtype: int64\n"
     ]
    }
   ],
   "source": [
    "normal('StandardHours')\n",
    "#There is only one value in this column"
   ]
  },
  {
   "cell_type": "code",
   "execution_count": 55,
   "id": "valid-speech",
   "metadata": {
    "execution": {
     "iopub.execute_input": "2021-05-05T08:27:28.451473Z",
     "iopub.status.busy": "2021-05-05T08:27:28.450793Z",
     "iopub.status.idle": "2021-05-05T08:27:28.691378Z",
     "shell.execute_reply": "2021-05-05T08:27:28.690652Z"
    },
    "papermill": {
     "duration": 0.403689,
     "end_time": "2021-05-05T08:27:28.691533",
     "exception": false,
     "start_time": "2021-05-05T08:27:28.287844",
     "status": "completed"
    },
    "tags": []
   },
   "outputs": [
    {
     "data": {
      "image/png": "[encoded data removed]",
      "text/plain": [
       "<Figure size 1152x576 with 1 Axes>"
      ]
     },
     "metadata": {
      "needs_background": "light"
     },
     "output_type": "display_data"
    }
   ],
   "source": [
    "insight('StockOptionLevel')"
   ]
  },
  {
   "cell_type": "code",
   "execution_count": 56,
   "id": "integrated-carnival",
   "metadata": {
    "execution": {
     "iopub.execute_input": "2021-05-05T08:27:29.014629Z",
     "iopub.status.busy": "2021-05-05T08:27:29.013922Z",
     "iopub.status.idle": "2021-05-05T08:27:29.029974Z",
     "shell.execute_reply": "2021-05-05T08:27:29.029154Z"
    },
    "papermill": {
     "duration": 0.183177,
     "end_time": "2021-05-05T08:27:29.030125",
     "exception": false,
     "start_time": "2021-05-05T08:27:28.846948",
     "status": "completed"
    },
    "tags": []
   },
   "outputs": [
    {
     "name": "stdout",
     "output_type": "stream",
     "text": [
      "Percent of No Employee Attrition of 0 employee in column StockOptionLevel is 75.59%\n",
      "Percent of Yes Employee Attrition of 0 employee in column StockOptionLevel is 24.41%\n",
      "\n",
      "\n",
      "Percent of No Employee Attrition of 1 employee in column StockOptionLevel is 90.6%\n",
      "Percent of Yes Employee Attrition of 1 employee in column StockOptionLevel is 9.4%\n",
      "\n",
      "\n",
      "Percent of No Employee Attrition of 2 employee in column StockOptionLevel is 92.41%\n",
      "Percent of Yes Employee Attrition of 2 employee in column StockOptionLevel is 7.59%\n",
      "\n",
      "\n",
      "Percent of No Employee Attrition of 3 employee in column StockOptionLevel is 82.35%\n",
      "Percent of Yes Employee Attrition of 3 employee in column StockOptionLevel is 17.65%\n",
      "\n",
      "\n"
     ]
    }
   ],
   "source": [
    "percent_cat('StockOptionLevel')"
   ]
  },
  {
   "cell_type": "markdown",
   "id": "planned-korean",
   "metadata": {
    "papermill": {
     "duration": 0.167396,
     "end_time": "2021-05-05T08:27:29.354860",
     "exception": false,
     "start_time": "2021-05-05T08:27:29.187464",
     "status": "completed"
    },
    "tags": []
   },
   "source": [
    "**Observation:**\n",
    "* Employees who have had no stock option have changed their job in high percent."
   ]
  },
  {
   "cell_type": "code",
   "execution_count": 57,
   "id": "expired-injury",
   "metadata": {
    "execution": {
     "iopub.execute_input": "2021-05-05T08:27:29.683132Z",
     "iopub.status.busy": "2021-05-05T08:27:29.682444Z",
     "iopub.status.idle": "2021-05-05T08:27:29.710941Z",
     "shell.execute_reply": "2021-05-05T08:27:29.712082Z"
    },
    "papermill": {
     "duration": 0.193763,
     "end_time": "2021-05-05T08:27:29.712370",
     "exception": false,
     "start_time": "2021-05-05T08:27:29.518607",
     "status": "completed"
    },
    "tags": []
   },
   "outputs": [
    {
     "name": "stdout",
     "output_type": "stream",
     "text": [
      "Percent of Stock Option Level 0 in joblevel 1 is 47.33%\n",
      "Percent of Stock Option Level 1 in joblevel 1 is 37.94%\n",
      "Percent of Stock Option Level 2 in joblevel 1 is 7.55%\n",
      "Percent of Stock Option Level 3 in joblevel 1 is 7.18%\n",
      "\n",
      "\n",
      "Percent of Stock Option Level 0 in joblevel 2 is 41.01%\n",
      "Percent of Stock Option Level 1 in joblevel 2 is 38.76%\n",
      "Percent of Stock Option Level 2 in joblevel 2 is 15.54%\n",
      "Percent of Stock Option Level 3 in joblevel 2 is 4.68%\n",
      "\n",
      "\n",
      "Percent of Stock Option Level 1 in joblevel 3 is 44.5%\n",
      "Percent of Stock Option Level 0 in joblevel 3 is 39.45%\n",
      "Percent of Stock Option Level 2 in joblevel 3 is 10.09%\n",
      "Percent of Stock Option Level 3 in joblevel 3 is 5.96%\n",
      "\n",
      "\n",
      "Percent of Stock Option Level 1 in joblevel 4 is 46.23%\n",
      "Percent of Stock Option Level 0 in joblevel 4 is 40.57%\n",
      "Percent of Stock Option Level 2 in joblevel 4 is 7.55%\n",
      "Percent of Stock Option Level 3 in joblevel 4 is 5.66%\n",
      "\n",
      "\n",
      "Percent of Stock Option Level 1 in joblevel 5 is 53.62%\n",
      "Percent of Stock Option Level 0 in joblevel 5 is 37.68%\n",
      "Percent of Stock Option Level 2 in joblevel 5 is 5.8%\n",
      "Percent of Stock Option Level 3 in joblevel 5 is 2.9%\n",
      "\n",
      "\n"
     ]
    }
   ],
   "source": [
    "groupped = df.groupby(['JobLevel'])['StockOptionLevel'].value_counts()\n",
    "y=0\n",
    "for i in groupped.index:\n",
    "    total_val = len(df[df['JobLevel']==i[0]])\n",
    "    print(f'Percent of Stock Option Level {i[1]} in joblevel {i[0]} is {round((groupped[i]/total_val)*100,2)}%')\n",
    "    y+=1\n",
    "    if y==4:\n",
    "        print('\\n')\n",
    "        y=0"
   ]
  },
  {
   "cell_type": "markdown",
   "id": "caroline-heather",
   "metadata": {
    "papermill": {
     "duration": 0.165413,
     "end_time": "2021-05-05T08:27:30.036126",
     "exception": false,
     "start_time": "2021-05-05T08:27:29.870713",
     "status": "completed"
    },
    "tags": []
   },
   "source": [
    "**Observation**\n",
    "* From the above analysis Employees with job level 5 was given higher percent of Stock."
   ]
  },
  {
   "cell_type": "code",
   "execution_count": 58,
   "id": "municipal-cement",
   "metadata": {
    "execution": {
     "iopub.execute_input": "2021-05-05T08:27:30.409840Z",
     "iopub.status.busy": "2021-05-05T08:27:30.407257Z",
     "iopub.status.idle": "2021-05-05T08:27:30.415001Z",
     "shell.execute_reply": "2021-05-05T08:27:30.415583Z"
    },
    "papermill": {
     "duration": 0.170466,
     "end_time": "2021-05-05T08:27:30.415782",
     "exception": false,
     "start_time": "2021-05-05T08:27:30.245316",
     "status": "completed"
    },
    "tags": []
   },
   "outputs": [
    {
     "name": "stdout",
     "output_type": "stream",
     "text": [
      "No of unique values:\t 5\n",
      "Values Count:\n",
      " 1    543\n",
      "2    534\n",
      "3    218\n",
      "4    106\n",
      "5     69\n",
      "Name: JobLevel, dtype: int64\n"
     ]
    }
   ],
   "source": [
    "normal('JobLevel')"
   ]
  },
  {
   "cell_type": "code",
   "execution_count": 59,
   "id": "dated-trust",
   "metadata": {
    "execution": {
     "iopub.execute_input": "2021-05-05T08:27:30.735810Z",
     "iopub.status.busy": "2021-05-05T08:27:30.735123Z",
     "iopub.status.idle": "2021-05-05T08:27:30.744925Z",
     "shell.execute_reply": "2021-05-05T08:27:30.745406Z"
    },
    "papermill": {
     "duration": 0.171443,
     "end_time": "2021-05-05T08:27:30.745592",
     "exception": false,
     "start_time": "2021-05-05T08:27:30.574149",
     "status": "completed"
    },
    "tags": []
   },
   "outputs": [
    {
     "data": {
      "text/plain": [
       "JobLevel  StockOptionLevel  Attrition\n",
       "1         0                 No           162\n",
       "                            Yes           95\n",
       "          1                 No           171\n",
       "                            Yes           35\n",
       "          2                 No            37\n",
       "                            Yes            4\n",
       "          3                 No            30\n",
       "                            Yes            9\n",
       "2         0                 No           184\n",
       "                            Yes           35\n",
       "          1                 No           197\n",
       "                            Yes           10\n",
       "          2                 No            77\n",
       "                            Yes            6\n",
       "          3                 No            24\n",
       "                            Yes            1\n",
       "3         0                 No            69\n",
       "                            Yes           17\n",
       "          1                 No            88\n",
       "                            Yes            9\n",
       "          2                 No            20\n",
       "                            Yes            2\n",
       "          3                 No             9\n",
       "                            Yes            4\n",
       "4         0                 No            39\n",
       "                            Yes            4\n",
       "          1                 No            49\n",
       "          2                 No             8\n",
       "          3                 No             5\n",
       "                            Yes            1\n",
       "5         0                 No            23\n",
       "                            Yes            3\n",
       "          1                 No            35\n",
       "                            Yes            2\n",
       "          2                 No             4\n",
       "          3                 No             2\n",
       "Name: Attrition, dtype: int64"
      ]
     },
     "execution_count": 59,
     "metadata": {},
     "output_type": "execute_result"
    }
   ],
   "source": [
    "df.groupby(['JobLevel','StockOptionLevel'])['Attrition'].value_counts()"
   ]
  },
  {
   "cell_type": "code",
   "execution_count": 60,
   "id": "bulgarian-cycle",
   "metadata": {
    "execution": {
     "iopub.execute_input": "2021-05-05T08:27:31.074892Z",
     "iopub.status.busy": "2021-05-05T08:27:31.073941Z",
     "iopub.status.idle": "2021-05-05T08:27:31.076452Z",
     "shell.execute_reply": "2021-05-05T08:27:31.077023Z"
    },
    "papermill": {
     "duration": 0.17407,
     "end_time": "2021-05-05T08:27:31.077211",
     "exception": false,
     "start_time": "2021-05-05T08:27:30.903141",
     "status": "completed"
    },
    "tags": []
   },
   "outputs": [],
   "source": [
    "def group(col):\n",
    "    groupped = df.groupby(col)['Attrition'].value_counts()\n",
    "    return groupped"
   ]
  },
  {
   "cell_type": "code",
   "execution_count": 61,
   "id": "flush-bernard",
   "metadata": {
    "execution": {
     "iopub.execute_input": "2021-05-05T08:27:31.416402Z",
     "iopub.status.busy": "2021-05-05T08:27:31.415451Z",
     "iopub.status.idle": "2021-05-05T08:27:31.428272Z",
     "shell.execute_reply": "2021-05-05T08:27:31.427665Z"
    },
    "papermill": {
     "duration": 0.190709,
     "end_time": "2021-05-05T08:27:31.428417",
     "exception": false,
     "start_time": "2021-05-05T08:27:31.237708",
     "status": "completed"
    },
    "tags": []
   },
   "outputs": [
    {
     "data": {
      "text/plain": [
       "TotalWorkingYears  Attrition\n",
       "0                  No            6\n",
       "                   Yes           5\n",
       "1                  No           41\n",
       "                   Yes          40\n",
       "2                  No           22\n",
       "                                ..\n",
       "35                 No            3\n",
       "36                 No            6\n",
       "37                 No            4\n",
       "38                 No            1\n",
       "40                 Yes           2\n",
       "Name: Attrition, Length: 71, dtype: int64"
      ]
     },
     "execution_count": 61,
     "metadata": {},
     "output_type": "execute_result"
    }
   ],
   "source": [
    "group('TotalWorkingYears')"
   ]
  },
  {
   "cell_type": "code",
   "execution_count": 62,
   "id": "extra-thousand",
   "metadata": {
    "execution": {
     "iopub.execute_input": "2021-05-05T08:27:31.747025Z",
     "iopub.status.busy": "2021-05-05T08:27:31.746359Z",
     "iopub.status.idle": "2021-05-05T08:27:31.772853Z",
     "shell.execute_reply": "2021-05-05T08:27:31.773381Z"
    },
    "papermill": {
     "duration": 0.188618,
     "end_time": "2021-05-05T08:27:31.773565",
     "exception": false,
     "start_time": "2021-05-05T08:27:31.584947",
     "status": "completed"
    },
    "tags": []
   },
   "outputs": [
    {
     "name": "stdout",
     "output_type": "stream",
     "text": [
      "Percent of No Employee Attrition of 0 employee in column TrainingTimesLastYear is 72.22%\n",
      "Percent of Yes Employee Attrition of 0 employee in column TrainingTimesLastYear is 27.78%\n",
      "\n",
      "\n",
      "Percent of No Employee Attrition of 1 employee in column TrainingTimesLastYear is 87.32%\n",
      "Percent of Yes Employee Attrition of 1 employee in column TrainingTimesLastYear is 12.68%\n",
      "\n",
      "\n",
      "Percent of No Employee Attrition of 2 employee in column TrainingTimesLastYear is 82.08%\n",
      "Percent of Yes Employee Attrition of 2 employee in column TrainingTimesLastYear is 17.92%\n",
      "\n",
      "\n",
      "Percent of No Employee Attrition of 3 employee in column TrainingTimesLastYear is 85.95%\n",
      "Percent of Yes Employee Attrition of 3 employee in column TrainingTimesLastYear is 14.05%\n",
      "\n",
      "\n",
      "Percent of No Employee Attrition of 4 employee in column TrainingTimesLastYear is 78.86%\n",
      "Percent of Yes Employee Attrition of 4 employee in column TrainingTimesLastYear is 21.14%\n",
      "\n",
      "\n",
      "Percent of No Employee Attrition of 5 employee in column TrainingTimesLastYear is 88.24%\n",
      "Percent of Yes Employee Attrition of 5 employee in column TrainingTimesLastYear is 11.76%\n",
      "\n",
      "\n",
      "Percent of No Employee Attrition of 6 employee in column TrainingTimesLastYear is 90.77%\n",
      "Percent of Yes Employee Attrition of 6 employee in column TrainingTimesLastYear is 9.23%\n",
      "\n",
      "\n"
     ]
    }
   ],
   "source": [
    "percent_cat('TrainingTimesLastYear')"
   ]
  },
  {
   "cell_type": "markdown",
   "id": "balanced-marijuana",
   "metadata": {
    "papermill": {
     "duration": 0.158191,
     "end_time": "2021-05-05T08:27:32.092852",
     "exception": false,
     "start_time": "2021-05-05T08:27:31.934661",
     "status": "completed"
    },
    "tags": []
   },
   "source": [
    "**Observation:**\n",
    "* Employees who were given training recently have changed job in large amount."
   ]
  },
  {
   "cell_type": "code",
   "execution_count": 63,
   "id": "motivated-client",
   "metadata": {
    "execution": {
     "iopub.execute_input": "2021-05-05T08:27:32.411311Z",
     "iopub.status.busy": "2021-05-05T08:27:32.409874Z",
     "iopub.status.idle": "2021-05-05T08:27:32.430527Z",
     "shell.execute_reply": "2021-05-05T08:27:32.431212Z"
    },
    "papermill": {
     "duration": 0.183737,
     "end_time": "2021-05-05T08:27:32.431408",
     "exception": false,
     "start_time": "2021-05-05T08:27:32.247671",
     "status": "completed"
    },
    "tags": []
   },
   "outputs": [
    {
     "name": "stdout",
     "output_type": "stream",
     "text": [
      "Percent of No Employee Attrition of 1 employee in column WorkLifeBalance is 68.75%\n",
      "Percent of Yes Employee Attrition of 1 employee in column WorkLifeBalance is 31.25%\n",
      "\n",
      "\n",
      "Percent of No Employee Attrition of 2 employee in column WorkLifeBalance is 83.14%\n",
      "Percent of Yes Employee Attrition of 2 employee in column WorkLifeBalance is 16.86%\n",
      "\n",
      "\n",
      "Percent of No Employee Attrition of 3 employee in column WorkLifeBalance is 85.78%\n",
      "Percent of Yes Employee Attrition of 3 employee in column WorkLifeBalance is 14.22%\n",
      "\n",
      "\n",
      "Percent of No Employee Attrition of 4 employee in column WorkLifeBalance is 82.35%\n",
      "Percent of Yes Employee Attrition of 4 employee in column WorkLifeBalance is 17.65%\n",
      "\n",
      "\n"
     ]
    }
   ],
   "source": [
    "percent_cat('WorkLifeBalance')"
   ]
  },
  {
   "cell_type": "markdown",
   "id": "virtual-security",
   "metadata": {
    "papermill": {
     "duration": 0.158562,
     "end_time": "2021-05-05T08:27:32.745946",
     "exception": false,
     "start_time": "2021-05-05T08:27:32.587384",
     "status": "completed"
    },
    "tags": []
   },
   "source": [
    "**Observation:**\n",
    "* Employees with level 1 Work life balance have changed job in larger amount."
   ]
  },
  {
   "cell_type": "code",
   "execution_count": null,
   "id": "relative-nancy",
   "metadata": {
    "papermill": {
     "duration": 0.16784,
     "end_time": "2021-05-05T08:27:33.094992",
     "exception": false,
     "start_time": "2021-05-05T08:27:32.927152",
     "status": "completed"
    },
    "tags": []
   },
   "outputs": [],
   "source": []
  },
  {
   "cell_type": "code",
   "execution_count": 64,
   "id": "ecological-mileage",
   "metadata": {
    "execution": {
     "iopub.execute_input": "2021-05-05T08:27:33.414094Z",
     "iopub.status.busy": "2021-05-05T08:27:33.413074Z",
     "iopub.status.idle": "2021-05-05T08:27:33.421670Z",
     "shell.execute_reply": "2021-05-05T08:27:33.420992Z"
    },
    "papermill": {
     "duration": 0.171511,
     "end_time": "2021-05-05T08:27:33.421844",
     "exception": false,
     "start_time": "2021-05-05T08:27:33.250333",
     "status": "completed"
    },
    "tags": []
   },
   "outputs": [
    {
     "name": "stdout",
     "output_type": "stream",
     "text": [
      "No of unique values:\t 37\n",
      "Values Count:\n",
      " 5     196\n",
      "1     171\n",
      "3     128\n",
      "2     127\n",
      "10    120\n",
      "4     110\n",
      "7      90\n",
      "9      82\n",
      "8      80\n",
      "6      76\n",
      "0      44\n",
      "11     32\n",
      "20     27\n",
      "13     24\n",
      "15     20\n",
      "14     18\n",
      "22     15\n",
      "12     14\n",
      "21     14\n",
      "18     13\n",
      "16     12\n",
      "19     11\n",
      "17      9\n",
      "24      6\n",
      "33      5\n",
      "25      4\n",
      "26      4\n",
      "31      3\n",
      "32      3\n",
      "36      2\n",
      "29      2\n",
      "27      2\n",
      "23      2\n",
      "30      1\n",
      "34      1\n",
      "37      1\n",
      "40      1\n",
      "Name: YearsAtCompany, dtype: int64\n"
     ]
    }
   ],
   "source": [
    "normal('YearsAtCompany')"
   ]
  },
  {
   "cell_type": "code",
   "execution_count": 65,
   "id": "purple-puppy",
   "metadata": {
    "execution": {
     "iopub.execute_input": "2021-05-05T08:27:33.747272Z",
     "iopub.status.busy": "2021-05-05T08:27:33.746416Z",
     "iopub.status.idle": "2021-05-05T08:27:33.980295Z",
     "shell.execute_reply": "2021-05-05T08:27:33.979050Z"
    },
    "papermill": {
     "duration": 0.39795,
     "end_time": "2021-05-05T08:27:33.980667",
     "exception": false,
     "start_time": "2021-05-05T08:27:33.582717",
     "status": "completed"
    },
    "tags": []
   },
   "outputs": [
    {
     "name": "stdout",
     "output_type": "stream",
     "text": [
      "Percent of No Employee Attrition of 0 employee in column YearsAtCompany is 63.64%\n",
      "Percent of Yes Employee Attrition of 0 employee in column YearsAtCompany is 36.36%\n",
      "\n",
      "\n",
      "Percent of No Employee Attrition of 1 employee in column YearsAtCompany is 65.5%\n",
      "Percent of Yes Employee Attrition of 1 employee in column YearsAtCompany is 34.5%\n",
      "\n",
      "\n",
      "Percent of No Employee Attrition of 2 employee in column YearsAtCompany is 78.74%\n",
      "Percent of Yes Employee Attrition of 2 employee in column YearsAtCompany is 21.26%\n",
      "\n",
      "\n",
      "Percent of No Employee Attrition of 3 employee in column YearsAtCompany is 84.38%\n",
      "Percent of Yes Employee Attrition of 3 employee in column YearsAtCompany is 15.62%\n",
      "\n",
      "\n",
      "Percent of No Employee Attrition of 4 employee in column YearsAtCompany is 82.73%\n",
      "Percent of Yes Employee Attrition of 4 employee in column YearsAtCompany is 17.27%\n",
      "\n",
      "\n",
      "Percent of No Employee Attrition of 5 employee in column YearsAtCompany is 89.29%\n",
      "Percent of Yes Employee Attrition of 5 employee in column YearsAtCompany is 10.71%\n",
      "\n",
      "\n",
      "Percent of No Employee Attrition of 6 employee in column YearsAtCompany is 88.16%\n",
      "Percent of Yes Employee Attrition of 6 employee in column YearsAtCompany is 11.84%\n",
      "\n",
      "\n",
      "Percent of No Employee Attrition of 7 employee in column YearsAtCompany is 87.78%\n",
      "Percent of Yes Employee Attrition of 7 employee in column YearsAtCompany is 12.22%\n",
      "\n",
      "\n",
      "Percent of No Employee Attrition of 8 employee in column YearsAtCompany is 88.75%\n",
      "Percent of Yes Employee Attrition of 8 employee in column YearsAtCompany is 11.25%\n",
      "\n",
      "\n",
      "Percent of No Employee Attrition of 9 employee in column YearsAtCompany is 90.24%\n",
      "Percent of Yes Employee Attrition of 9 employee in column YearsAtCompany is 9.76%\n",
      "\n",
      "\n",
      "Percent of No Employee Attrition of 10 employee in column YearsAtCompany is 85.0%\n",
      "Percent of Yes Employee Attrition of 10 employee in column YearsAtCompany is 15.0%\n",
      "\n",
      "\n",
      "Percent of No Employee Attrition of 11 employee in column YearsAtCompany is 93.75%\n",
      "Percent of Yes Employee Attrition of 11 employee in column YearsAtCompany is 6.25%\n",
      "\n",
      "\n",
      "Percent of No Employee Attrition of 12 employee in column YearsAtCompany is 100.0%\n",
      "Percent of No Employee Attrition of 13 employee in column YearsAtCompany is 91.67%\n",
      "\n",
      "\n",
      "Percent of Yes Employee Attrition of 13 employee in column YearsAtCompany is 8.33%\n",
      "Percent of No Employee Attrition of 14 employee in column YearsAtCompany is 88.89%\n",
      "\n",
      "\n",
      "Percent of Yes Employee Attrition of 14 employee in column YearsAtCompany is 11.11%\n",
      "Percent of No Employee Attrition of 15 employee in column YearsAtCompany is 95.0%\n",
      "\n",
      "\n",
      "Percent of Yes Employee Attrition of 15 employee in column YearsAtCompany is 5.0%\n",
      "Percent of No Employee Attrition of 16 employee in column YearsAtCompany is 91.67%\n",
      "\n",
      "\n",
      "Percent of Yes Employee Attrition of 16 employee in column YearsAtCompany is 8.33%\n",
      "Percent of No Employee Attrition of 17 employee in column YearsAtCompany is 88.89%\n",
      "\n",
      "\n",
      "Percent of Yes Employee Attrition of 17 employee in column YearsAtCompany is 11.11%\n",
      "Percent of No Employee Attrition of 18 employee in column YearsAtCompany is 92.31%\n",
      "\n",
      "\n",
      "Percent of Yes Employee Attrition of 18 employee in column YearsAtCompany is 7.69%\n",
      "Percent of No Employee Attrition of 19 employee in column YearsAtCompany is 90.91%\n",
      "\n",
      "\n",
      "Percent of Yes Employee Attrition of 19 employee in column YearsAtCompany is 9.09%\n",
      "Percent of No Employee Attrition of 20 employee in column YearsAtCompany is 96.3%\n",
      "\n",
      "\n",
      "Percent of Yes Employee Attrition of 20 employee in column YearsAtCompany is 3.7%\n",
      "Percent of No Employee Attrition of 21 employee in column YearsAtCompany is 92.86%\n",
      "\n",
      "\n",
      "Percent of Yes Employee Attrition of 21 employee in column YearsAtCompany is 7.14%\n",
      "Percent of No Employee Attrition of 22 employee in column YearsAtCompany is 93.33%\n",
      "\n",
      "\n",
      "Percent of Yes Employee Attrition of 22 employee in column YearsAtCompany is 6.67%\n",
      "Percent of No Employee Attrition of 23 employee in column YearsAtCompany is 50.0%\n",
      "\n",
      "\n",
      "Percent of Yes Employee Attrition of 23 employee in column YearsAtCompany is 50.0%\n",
      "Percent of No Employee Attrition of 24 employee in column YearsAtCompany is 83.33%\n",
      "\n",
      "\n",
      "Percent of Yes Employee Attrition of 24 employee in column YearsAtCompany is 16.67%\n",
      "Percent of No Employee Attrition of 25 employee in column YearsAtCompany is 100.0%\n",
      "\n",
      "\n",
      "Percent of No Employee Attrition of 26 employee in column YearsAtCompany is 100.0%\n",
      "Percent of No Employee Attrition of 27 employee in column YearsAtCompany is 100.0%\n",
      "\n",
      "\n",
      "Percent of No Employee Attrition of 29 employee in column YearsAtCompany is 100.0%\n",
      "Percent of No Employee Attrition of 30 employee in column YearsAtCompany is 100.0%\n",
      "\n",
      "\n",
      "Percent of No Employee Attrition of 31 employee in column YearsAtCompany is 66.67%\n",
      "Percent of Yes Employee Attrition of 31 employee in column YearsAtCompany is 33.33%\n",
      "\n",
      "\n",
      "Percent of No Employee Attrition of 32 employee in column YearsAtCompany is 66.67%\n",
      "Percent of Yes Employee Attrition of 32 employee in column YearsAtCompany is 33.33%\n",
      "\n",
      "\n",
      "Percent of No Employee Attrition of 33 employee in column YearsAtCompany is 80.0%\n",
      "Percent of Yes Employee Attrition of 33 employee in column YearsAtCompany is 20.0%\n",
      "\n",
      "\n",
      "Percent of No Employee Attrition of 34 employee in column YearsAtCompany is 100.0%\n",
      "Percent of No Employee Attrition of 36 employee in column YearsAtCompany is 100.0%\n",
      "\n",
      "\n",
      "Percent of No Employee Attrition of 37 employee in column YearsAtCompany is 100.0%\n",
      "Percent of Yes Employee Attrition of 40 employee in column YearsAtCompany is 100.0%\n",
      "\n",
      "\n"
     ]
    }
   ],
   "source": [
    "percent_cat('YearsAtCompany')"
   ]
  },
  {
   "cell_type": "markdown",
   "id": "textile-perry",
   "metadata": {
    "papermill": {
     "duration": 0.175942,
     "end_time": "2021-05-05T08:27:34.333571",
     "exception": false,
     "start_time": "2021-05-05T08:27:34.157629",
     "status": "completed"
    },
    "tags": []
   },
   "source": [
    "**Observation**:\n",
    "* Employees who joined company within one year have changed their job in higher percent."
   ]
  },
  {
   "cell_type": "code",
   "execution_count": 66,
   "id": "thermal-woman",
   "metadata": {
    "execution": {
     "iopub.execute_input": "2021-05-05T08:27:34.681336Z",
     "iopub.status.busy": "2021-05-05T08:27:34.680402Z",
     "iopub.status.idle": "2021-05-05T08:27:34.718910Z",
     "shell.execute_reply": "2021-05-05T08:27:34.718316Z"
    },
    "papermill": {
     "duration": 0.210563,
     "end_time": "2021-05-05T08:27:34.719072",
     "exception": false,
     "start_time": "2021-05-05T08:27:34.508509",
     "status": "completed"
    },
    "tags": []
   },
   "outputs": [
    {
     "name": "stdout",
     "output_type": "stream",
     "text": [
      "Percent of No Employee Attrition of 0 employee in column YearsInCurrentRole is 70.08%\n",
      "Percent of Yes Employee Attrition of 0 employee in column YearsInCurrentRole is 29.92%\n",
      "\n",
      "\n",
      "Percent of No Employee Attrition of 1 employee in column YearsInCurrentRole is 80.7%\n",
      "Percent of Yes Employee Attrition of 1 employee in column YearsInCurrentRole is 19.3%\n",
      "\n",
      "\n",
      "Percent of No Employee Attrition of 2 employee in column YearsInCurrentRole is 81.72%\n",
      "Percent of Yes Employee Attrition of 2 employee in column YearsInCurrentRole is 18.28%\n",
      "\n",
      "\n",
      "Percent of No Employee Attrition of 3 employee in column YearsInCurrentRole is 88.15%\n",
      "Percent of Yes Employee Attrition of 3 employee in column YearsInCurrentRole is 11.85%\n",
      "\n",
      "\n",
      "Percent of No Employee Attrition of 4 employee in column YearsInCurrentRole is 85.58%\n",
      "Percent of Yes Employee Attrition of 4 employee in column YearsInCurrentRole is 14.42%\n",
      "\n",
      "\n",
      "Percent of No Employee Attrition of 5 employee in column YearsInCurrentRole is 97.22%\n",
      "Percent of Yes Employee Attrition of 5 employee in column YearsInCurrentRole is 2.78%\n",
      "\n",
      "\n",
      "Percent of No Employee Attrition of 6 employee in column YearsInCurrentRole is 94.59%\n",
      "Percent of Yes Employee Attrition of 6 employee in column YearsInCurrentRole is 5.41%\n",
      "\n",
      "\n",
      "Percent of No Employee Attrition of 7 employee in column YearsInCurrentRole is 86.04%\n",
      "Percent of Yes Employee Attrition of 7 employee in column YearsInCurrentRole is 13.96%\n",
      "\n",
      "\n",
      "Percent of No Employee Attrition of 8 employee in column YearsInCurrentRole is 92.13%\n",
      "Percent of Yes Employee Attrition of 8 employee in column YearsInCurrentRole is 7.87%\n",
      "\n",
      "\n",
      "Percent of No Employee Attrition of 9 employee in column YearsInCurrentRole is 91.04%\n",
      "Percent of Yes Employee Attrition of 9 employee in column YearsInCurrentRole is 8.96%\n",
      "\n",
      "\n",
      "Percent of No Employee Attrition of 10 employee in column YearsInCurrentRole is 93.1%\n",
      "Percent of Yes Employee Attrition of 10 employee in column YearsInCurrentRole is 6.9%\n",
      "\n",
      "\n",
      "Percent of No Employee Attrition of 11 employee in column YearsInCurrentRole is 100.0%\n",
      "Percent of No Employee Attrition of 12 employee in column YearsInCurrentRole is 90.0%\n",
      "\n",
      "\n",
      "Percent of Yes Employee Attrition of 12 employee in column YearsInCurrentRole is 10.0%\n",
      "Percent of No Employee Attrition of 13 employee in column YearsInCurrentRole is 92.86%\n",
      "\n",
      "\n",
      "Percent of Yes Employee Attrition of 13 employee in column YearsInCurrentRole is 7.14%\n",
      "Percent of No Employee Attrition of 14 employee in column YearsInCurrentRole is 90.91%\n",
      "\n",
      "\n",
      "Percent of Yes Employee Attrition of 14 employee in column YearsInCurrentRole is 9.09%\n",
      "Percent of No Employee Attrition of 15 employee in column YearsInCurrentRole is 75.0%\n",
      "\n",
      "\n",
      "Percent of Yes Employee Attrition of 15 employee in column YearsInCurrentRole is 25.0%\n",
      "Percent of No Employee Attrition of 16 employee in column YearsInCurrentRole is 100.0%\n",
      "\n",
      "\n",
      "Percent of No Employee Attrition of 17 employee in column YearsInCurrentRole is 100.0%\n",
      "Percent of No Employee Attrition of 18 employee in column YearsInCurrentRole is 100.0%\n",
      "\n",
      "\n"
     ]
    }
   ],
   "source": [
    "percent_cat('YearsInCurrentRole')"
   ]
  },
  {
   "cell_type": "markdown",
   "id": "discrete-frequency",
   "metadata": {
    "papermill": {
     "duration": 0.161477,
     "end_time": "2021-05-05T08:27:35.044229",
     "exception": false,
     "start_time": "2021-05-05T08:27:34.882752",
     "status": "completed"
    },
    "tags": []
   },
   "source": [
    "**Observation**:\n",
    "* Employees who are in current role less than 1 year in company has higher possibilities of changing their Job."
   ]
  },
  {
   "cell_type": "code",
   "execution_count": 67,
   "id": "innocent-worker",
   "metadata": {
    "execution": {
     "iopub.execute_input": "2021-05-05T08:27:35.371043Z",
     "iopub.status.busy": "2021-05-05T08:27:35.370019Z",
     "iopub.status.idle": "2021-05-05T08:27:35.410473Z",
     "shell.execute_reply": "2021-05-05T08:27:35.409881Z"
    },
    "papermill": {
     "duration": 0.207597,
     "end_time": "2021-05-05T08:27:35.410642",
     "exception": false,
     "start_time": "2021-05-05T08:27:35.203045",
     "status": "completed"
    },
    "tags": []
   },
   "outputs": [
    {
     "name": "stdout",
     "output_type": "stream",
     "text": [
      "Percent of No Employee Attrition of 0 employee in column YearsSinceLastPromotion is 81.07%\n",
      "Percent of Yes Employee Attrition of 0 employee in column YearsSinceLastPromotion is 18.93%\n",
      "\n",
      "\n",
      "Percent of No Employee Attrition of 1 employee in column YearsSinceLastPromotion is 86.27%\n",
      "Percent of Yes Employee Attrition of 1 employee in column YearsSinceLastPromotion is 13.73%\n",
      "\n",
      "\n",
      "Percent of No Employee Attrition of 2 employee in column YearsSinceLastPromotion is 83.02%\n",
      "Percent of Yes Employee Attrition of 2 employee in column YearsSinceLastPromotion is 16.98%\n",
      "\n",
      "\n",
      "Percent of No Employee Attrition of 3 employee in column YearsSinceLastPromotion is 82.69%\n",
      "Percent of Yes Employee Attrition of 3 employee in column YearsSinceLastPromotion is 17.31%\n",
      "\n",
      "\n",
      "Percent of No Employee Attrition of 4 employee in column YearsSinceLastPromotion is 91.8%\n",
      "Percent of Yes Employee Attrition of 4 employee in column YearsSinceLastPromotion is 8.2%\n",
      "\n",
      "\n",
      "Percent of No Employee Attrition of 5 employee in column YearsSinceLastPromotion is 95.56%\n",
      "Percent of Yes Employee Attrition of 5 employee in column YearsSinceLastPromotion is 4.44%\n",
      "\n",
      "\n",
      "Percent of No Employee Attrition of 6 employee in column YearsSinceLastPromotion is 81.25%\n",
      "Percent of Yes Employee Attrition of 6 employee in column YearsSinceLastPromotion is 18.75%\n",
      "\n",
      "\n",
      "Percent of No Employee Attrition of 7 employee in column YearsSinceLastPromotion is 78.95%\n",
      "Percent of Yes Employee Attrition of 7 employee in column YearsSinceLastPromotion is 21.05%\n",
      "\n",
      "\n",
      "Percent of No Employee Attrition of 8 employee in column YearsSinceLastPromotion is 100.0%\n",
      "Percent of No Employee Attrition of 9 employee in column YearsSinceLastPromotion is 76.47%\n",
      "\n",
      "\n",
      "Percent of Yes Employee Attrition of 9 employee in column YearsSinceLastPromotion is 23.53%\n",
      "Percent of No Employee Attrition of 10 employee in column YearsSinceLastPromotion is 83.33%\n",
      "\n",
      "\n",
      "Percent of Yes Employee Attrition of 10 employee in column YearsSinceLastPromotion is 16.67%\n",
      "Percent of No Employee Attrition of 11 employee in column YearsSinceLastPromotion is 91.67%\n",
      "\n",
      "\n",
      "Percent of Yes Employee Attrition of 11 employee in column YearsSinceLastPromotion is 8.33%\n",
      "Percent of No Employee Attrition of 12 employee in column YearsSinceLastPromotion is 100.0%\n",
      "\n",
      "\n",
      "Percent of No Employee Attrition of 13 employee in column YearsSinceLastPromotion is 80.0%\n",
      "Percent of Yes Employee Attrition of 13 employee in column YearsSinceLastPromotion is 20.0%\n",
      "\n",
      "\n",
      "Percent of No Employee Attrition of 14 employee in column YearsSinceLastPromotion is 88.89%\n",
      "Percent of Yes Employee Attrition of 14 employee in column YearsSinceLastPromotion is 11.11%\n",
      "\n",
      "\n",
      "Percent of No Employee Attrition of 15 employee in column YearsSinceLastPromotion is 76.92%\n",
      "Percent of Yes Employee Attrition of 15 employee in column YearsSinceLastPromotion is 23.08%\n",
      "\n",
      "\n"
     ]
    }
   ],
   "source": [
    "percent_cat('YearsSinceLastPromotion')"
   ]
  },
  {
   "cell_type": "markdown",
   "id": "sustainable-footwear",
   "metadata": {
    "papermill": {
     "duration": 0.158815,
     "end_time": "2021-05-05T08:27:35.734656",
     "exception": false,
     "start_time": "2021-05-05T08:27:35.575841",
     "status": "completed"
    },
    "tags": []
   },
   "source": [
    "**Observation:**\n",
    "* Employees who got promotion before 15 years have changed their job in higher percent."
   ]
  },
  {
   "cell_type": "code",
   "execution_count": 68,
   "id": "super-branch",
   "metadata": {
    "execution": {
     "iopub.execute_input": "2021-05-05T08:27:36.077368Z",
     "iopub.status.busy": "2021-05-05T08:27:36.075476Z",
     "iopub.status.idle": "2021-05-05T08:27:36.082532Z",
     "shell.execute_reply": "2021-05-05T08:27:36.083512Z"
    },
    "papermill": {
     "duration": 0.184032,
     "end_time": "2021-05-05T08:27:36.083815",
     "exception": false,
     "start_time": "2021-05-05T08:27:35.899783",
     "status": "completed"
    },
    "tags": []
   },
   "outputs": [
    {
     "name": "stdout",
     "output_type": "stream",
     "text": [
      "No of unique values:\t 18\n",
      "Values Count:\n",
      " 2     344\n",
      "0     263\n",
      "7     216\n",
      "3     142\n",
      "8     107\n",
      "4      98\n",
      "1      76\n",
      "9      64\n",
      "5      31\n",
      "6      29\n",
      "10     27\n",
      "11     22\n",
      "12     18\n",
      "13     14\n",
      "17      7\n",
      "14      5\n",
      "15      5\n",
      "16      2\n",
      "Name: YearsWithCurrManager, dtype: int64\n"
     ]
    }
   ],
   "source": [
    "normal('YearsWithCurrManager')"
   ]
  },
  {
   "cell_type": "code",
   "execution_count": 69,
   "id": "intense-stress",
   "metadata": {
    "execution": {
     "iopub.execute_input": "2021-05-05T08:27:36.430163Z",
     "iopub.status.busy": "2021-05-05T08:27:36.429302Z",
     "iopub.status.idle": "2021-05-05T08:27:36.463054Z",
     "shell.execute_reply": "2021-05-05T08:27:36.463561Z"
    },
    "papermill": {
     "duration": 0.210844,
     "end_time": "2021-05-05T08:27:36.463753",
     "exception": false,
     "start_time": "2021-05-05T08:27:36.252909",
     "status": "completed"
    },
    "tags": []
   },
   "outputs": [
    {
     "name": "stdout",
     "output_type": "stream",
     "text": [
      "Percent of No Employee Attrition of 0 employee in column YearsWithCurrManager is 67.68%\n",
      "Percent of Yes Employee Attrition of 0 employee in column YearsWithCurrManager is 32.32%\n",
      "\n",
      "\n",
      "Percent of No Employee Attrition of 1 employee in column YearsWithCurrManager is 85.53%\n",
      "Percent of Yes Employee Attrition of 1 employee in column YearsWithCurrManager is 14.47%\n",
      "\n",
      "\n",
      "Percent of No Employee Attrition of 2 employee in column YearsWithCurrManager is 85.47%\n",
      "Percent of Yes Employee Attrition of 2 employee in column YearsWithCurrManager is 14.53%\n",
      "\n",
      "\n",
      "Percent of No Employee Attrition of 3 employee in column YearsWithCurrManager is 86.62%\n",
      "Percent of Yes Employee Attrition of 3 employee in column YearsWithCurrManager is 13.38%\n",
      "\n",
      "\n",
      "Percent of No Employee Attrition of 4 employee in column YearsWithCurrManager is 88.78%\n",
      "Percent of Yes Employee Attrition of 4 employee in column YearsWithCurrManager is 11.22%\n",
      "\n",
      "\n",
      "Percent of No Employee Attrition of 5 employee in column YearsWithCurrManager is 87.1%\n",
      "Percent of Yes Employee Attrition of 5 employee in column YearsWithCurrManager is 12.9%\n",
      "\n",
      "\n",
      "Percent of No Employee Attrition of 6 employee in column YearsWithCurrManager is 86.21%\n",
      "Percent of Yes Employee Attrition of 6 employee in column YearsWithCurrManager is 13.79%\n",
      "\n",
      "\n",
      "Percent of No Employee Attrition of 7 employee in column YearsWithCurrManager is 85.65%\n",
      "Percent of Yes Employee Attrition of 7 employee in column YearsWithCurrManager is 14.35%\n",
      "\n",
      "\n",
      "Percent of No Employee Attrition of 8 employee in column YearsWithCurrManager is 90.65%\n",
      "Percent of Yes Employee Attrition of 8 employee in column YearsWithCurrManager is 9.35%\n",
      "\n",
      "\n",
      "Percent of No Employee Attrition of 9 employee in column YearsWithCurrManager is 90.62%\n",
      "Percent of Yes Employee Attrition of 9 employee in column YearsWithCurrManager is 9.38%\n",
      "\n",
      "\n",
      "Percent of No Employee Attrition of 10 employee in column YearsWithCurrManager is 88.89%\n",
      "Percent of Yes Employee Attrition of 10 employee in column YearsWithCurrManager is 11.11%\n",
      "\n",
      "\n",
      "Percent of No Employee Attrition of 11 employee in column YearsWithCurrManager is 95.45%\n",
      "Percent of Yes Employee Attrition of 11 employee in column YearsWithCurrManager is 4.55%\n",
      "\n",
      "\n",
      "Percent of No Employee Attrition of 12 employee in column YearsWithCurrManager is 100.0%\n",
      "Percent of No Employee Attrition of 13 employee in column YearsWithCurrManager is 100.0%\n",
      "\n",
      "\n",
      "Percent of No Employee Attrition of 14 employee in column YearsWithCurrManager is 60.0%\n",
      "Percent of Yes Employee Attrition of 14 employee in column YearsWithCurrManager is 40.0%\n",
      "\n",
      "\n",
      "Percent of No Employee Attrition of 15 employee in column YearsWithCurrManager is 100.0%\n",
      "Percent of No Employee Attrition of 16 employee in column YearsWithCurrManager is 100.0%\n",
      "\n",
      "\n",
      "Percent of No Employee Attrition of 17 employee in column YearsWithCurrManager is 100.0%\n"
     ]
    }
   ],
   "source": [
    "percent_cat('YearsWithCurrManager')"
   ]
  },
  {
   "cell_type": "markdown",
   "id": "worldwide-music",
   "metadata": {
    "papermill": {
     "duration": 0.184577,
     "end_time": "2021-05-05T08:27:36.844624",
     "exception": false,
     "start_time": "2021-05-05T08:27:36.660047",
     "status": "completed"
    },
    "tags": []
   },
   "source": [
    "**Observation:**\n",
    "* Employees who got in touch with new manager recently have changed their job in larger amount. Maybe due to the manager pressure."
   ]
  },
  {
   "cell_type": "markdown",
   "id": "growing-anatomy",
   "metadata": {
    "papermill": {
     "duration": 0.164175,
     "end_time": "2021-05-05T08:27:37.211146",
     "exception": false,
     "start_time": "2021-05-05T08:27:37.046971",
     "status": "completed"
    },
    "tags": []
   },
   "source": [
    "### Feature Engineering"
   ]
  },
  {
   "cell_type": "code",
   "execution_count": 70,
   "id": "manual-steps",
   "metadata": {
    "execution": {
     "iopub.execute_input": "2021-05-05T08:27:37.547390Z",
     "iopub.status.busy": "2021-05-05T08:27:37.546572Z",
     "iopub.status.idle": "2021-05-05T08:27:37.550102Z",
     "shell.execute_reply": "2021-05-05T08:27:37.549558Z"
    },
    "papermill": {
     "duration": 0.174894,
     "end_time": "2021-05-05T08:27:37.550253",
     "exception": false,
     "start_time": "2021-05-05T08:27:37.375359",
     "status": "completed"
    },
    "tags": []
   },
   "outputs": [],
   "source": [
    "df['Attrition'] = np.where(df['Attrition'] == 'No', 0 ,1)"
   ]
  },
  {
   "cell_type": "code",
   "execution_count": 71,
   "id": "driving-momentum",
   "metadata": {
    "execution": {
     "iopub.execute_input": "2021-05-05T08:27:37.900380Z",
     "iopub.status.busy": "2021-05-05T08:27:37.899187Z",
     "iopub.status.idle": "2021-05-05T08:27:37.904014Z",
     "shell.execute_reply": "2021-05-05T08:27:37.903354Z"
    },
    "papermill": {
     "duration": 0.185927,
     "end_time": "2021-05-05T08:27:37.904158",
     "exception": false,
     "start_time": "2021-05-05T08:27:37.718231",
     "status": "completed"
    },
    "tags": []
   },
   "outputs": [
    {
     "name": "stdout",
     "output_type": "stream",
     "text": [
      "No of unique values:\t 2\n",
      "Values Count:\n",
      " 0    1233\n",
      "1     237\n",
      "Name: Attrition, dtype: int64\n"
     ]
    }
   ],
   "source": [
    "normal('Attrition')"
   ]
  },
  {
   "cell_type": "markdown",
   "id": "beneficial-turkish",
   "metadata": {
    "papermill": {
     "duration": 0.180958,
     "end_time": "2021-05-05T08:27:38.268926",
     "exception": false,
     "start_time": "2021-05-05T08:27:38.087968",
     "status": "completed"
    },
    "tags": []
   },
   "source": [
    "**Observation**\n",
    "\n",
    "* Looks like data is imbalanced"
   ]
  },
  {
   "cell_type": "code",
   "execution_count": 72,
   "id": "dried-archive",
   "metadata": {
    "execution": {
     "iopub.execute_input": "2021-05-05T08:27:38.613219Z",
     "iopub.status.busy": "2021-05-05T08:27:38.612243Z",
     "iopub.status.idle": "2021-05-05T08:27:38.618126Z",
     "shell.execute_reply": "2021-05-05T08:27:38.618571Z"
    },
    "papermill": {
     "duration": 0.178163,
     "end_time": "2021-05-05T08:27:38.618780",
     "exception": false,
     "start_time": "2021-05-05T08:27:38.440617",
     "status": "completed"
    },
    "tags": []
   },
   "outputs": [],
   "source": [
    "final_df = df.drop(['EmployeeCount', 'Over18', 'StandardHours', 'EmployeeNumber'], axis =1)\n",
    "#Since these columns have unique values, I'm dropping these columns"
   ]
  },
  {
   "cell_type": "code",
   "execution_count": 73,
   "id": "characteristic-hearts",
   "metadata": {
    "execution": {
     "iopub.execute_input": "2021-05-05T08:27:38.975245Z",
     "iopub.status.busy": "2021-05-05T08:27:38.974062Z",
     "iopub.status.idle": "2021-05-05T08:27:39.000374Z",
     "shell.execute_reply": "2021-05-05T08:27:39.000933Z"
    },
    "papermill": {
     "duration": 0.209373,
     "end_time": "2021-05-05T08:27:39.001125",
     "exception": false,
     "start_time": "2021-05-05T08:27:38.791752",
     "status": "completed"
    },
    "tags": []
   },
   "outputs": [
    {
     "data": {
      "text/html": [
       "<div>\n",
       "<style scoped>\n",
       "    .dataframe tbody tr th:only-of-type {\n",
       "        vertical-align: middle;\n",
       "    }\n",
       "\n",
       "    .dataframe tbody tr th {\n",
       "        vertical-align: top;\n",
       "    }\n",
       "\n",
       "    .dataframe thead th {\n",
       "        text-align: right;\n",
       "    }\n",
       "</style>\n",
       "<table border=\"1\" class=\"dataframe\">\n",
       "  <thead>\n",
       "    <tr style=\"text-align: right;\">\n",
       "      <th></th>\n",
       "      <th>Age</th>\n",
       "      <th>Attrition</th>\n",
       "      <th>BusinessTravel</th>\n",
       "      <th>DailyRate</th>\n",
       "      <th>Department</th>\n",
       "      <th>DistanceFromHome</th>\n",
       "      <th>Education</th>\n",
       "      <th>EducationField</th>\n",
       "      <th>EnvironmentSatisfaction</th>\n",
       "      <th>Gender</th>\n",
       "      <th>HourlyRate</th>\n",
       "      <th>JobInvolvement</th>\n",
       "      <th>JobLevel</th>\n",
       "      <th>JobRole</th>\n",
       "      <th>JobSatisfaction</th>\n",
       "      <th>MaritalStatus</th>\n",
       "      <th>MonthlyIncome</th>\n",
       "      <th>MonthlyRate</th>\n",
       "      <th>NumCompaniesWorked</th>\n",
       "      <th>OverTime</th>\n",
       "      <th>PercentSalaryHike</th>\n",
       "      <th>PerformanceRating</th>\n",
       "      <th>RelationshipSatisfaction</th>\n",
       "      <th>StockOptionLevel</th>\n",
       "      <th>TotalWorkingYears</th>\n",
       "      <th>TrainingTimesLastYear</th>\n",
       "      <th>WorkLifeBalance</th>\n",
       "      <th>YearsAtCompany</th>\n",
       "      <th>YearsInCurrentRole</th>\n",
       "      <th>YearsSinceLastPromotion</th>\n",
       "      <th>YearsWithCurrManager</th>\n",
       "    </tr>\n",
       "  </thead>\n",
       "  <tbody>\n",
       "    <tr>\n",
       "      <th>0</th>\n",
       "      <td>41</td>\n",
       "      <td>1</td>\n",
       "      <td>Travel_Rarely</td>\n",
       "      <td>1102</td>\n",
       "      <td>Sales</td>\n",
       "      <td>1</td>\n",
       "      <td>2</td>\n",
       "      <td>Life Sciences</td>\n",
       "      <td>2</td>\n",
       "      <td>Female</td>\n",
       "      <td>94</td>\n",
       "      <td>3</td>\n",
       "      <td>2</td>\n",
       "      <td>Sales Executive</td>\n",
       "      <td>4</td>\n",
       "      <td>Single</td>\n",
       "      <td>5993</td>\n",
       "      <td>19479</td>\n",
       "      <td>8</td>\n",
       "      <td>Yes</td>\n",
       "      <td>11</td>\n",
       "      <td>3</td>\n",
       "      <td>1</td>\n",
       "      <td>0</td>\n",
       "      <td>8</td>\n",
       "      <td>0</td>\n",
       "      <td>1</td>\n",
       "      <td>6</td>\n",
       "      <td>4</td>\n",
       "      <td>0</td>\n",
       "      <td>5</td>\n",
       "    </tr>\n",
       "    <tr>\n",
       "      <th>1</th>\n",
       "      <td>49</td>\n",
       "      <td>0</td>\n",
       "      <td>Travel_Frequently</td>\n",
       "      <td>279</td>\n",
       "      <td>Research &amp; Development</td>\n",
       "      <td>8</td>\n",
       "      <td>1</td>\n",
       "      <td>Life Sciences</td>\n",
       "      <td>3</td>\n",
       "      <td>Male</td>\n",
       "      <td>61</td>\n",
       "      <td>2</td>\n",
       "      <td>2</td>\n",
       "      <td>Research Scientist</td>\n",
       "      <td>2</td>\n",
       "      <td>Married</td>\n",
       "      <td>5130</td>\n",
       "      <td>24907</td>\n",
       "      <td>1</td>\n",
       "      <td>No</td>\n",
       "      <td>23</td>\n",
       "      <td>4</td>\n",
       "      <td>4</td>\n",
       "      <td>1</td>\n",
       "      <td>10</td>\n",
       "      <td>3</td>\n",
       "      <td>3</td>\n",
       "      <td>10</td>\n",
       "      <td>7</td>\n",
       "      <td>1</td>\n",
       "      <td>7</td>\n",
       "    </tr>\n",
       "    <tr>\n",
       "      <th>2</th>\n",
       "      <td>37</td>\n",
       "      <td>1</td>\n",
       "      <td>Travel_Rarely</td>\n",
       "      <td>1373</td>\n",
       "      <td>Research &amp; Development</td>\n",
       "      <td>2</td>\n",
       "      <td>2</td>\n",
       "      <td>Other</td>\n",
       "      <td>4</td>\n",
       "      <td>Male</td>\n",
       "      <td>92</td>\n",
       "      <td>2</td>\n",
       "      <td>1</td>\n",
       "      <td>Laboratory Technician</td>\n",
       "      <td>3</td>\n",
       "      <td>Single</td>\n",
       "      <td>2090</td>\n",
       "      <td>2396</td>\n",
       "      <td>6</td>\n",
       "      <td>Yes</td>\n",
       "      <td>15</td>\n",
       "      <td>3</td>\n",
       "      <td>2</td>\n",
       "      <td>0</td>\n",
       "      <td>7</td>\n",
       "      <td>3</td>\n",
       "      <td>3</td>\n",
       "      <td>0</td>\n",
       "      <td>0</td>\n",
       "      <td>0</td>\n",
       "      <td>0</td>\n",
       "    </tr>\n",
       "    <tr>\n",
       "      <th>3</th>\n",
       "      <td>33</td>\n",
       "      <td>0</td>\n",
       "      <td>Travel_Frequently</td>\n",
       "      <td>1392</td>\n",
       "      <td>Research &amp; Development</td>\n",
       "      <td>3</td>\n",
       "      <td>4</td>\n",
       "      <td>Life Sciences</td>\n",
       "      <td>4</td>\n",
       "      <td>Female</td>\n",
       "      <td>56</td>\n",
       "      <td>3</td>\n",
       "      <td>1</td>\n",
       "      <td>Research Scientist</td>\n",
       "      <td>3</td>\n",
       "      <td>Married</td>\n",
       "      <td>2909</td>\n",
       "      <td>23159</td>\n",
       "      <td>1</td>\n",
       "      <td>Yes</td>\n",
       "      <td>11</td>\n",
       "      <td>3</td>\n",
       "      <td>3</td>\n",
       "      <td>0</td>\n",
       "      <td>8</td>\n",
       "      <td>3</td>\n",
       "      <td>3</td>\n",
       "      <td>8</td>\n",
       "      <td>7</td>\n",
       "      <td>3</td>\n",
       "      <td>0</td>\n",
       "    </tr>\n",
       "    <tr>\n",
       "      <th>4</th>\n",
       "      <td>27</td>\n",
       "      <td>0</td>\n",
       "      <td>Travel_Rarely</td>\n",
       "      <td>591</td>\n",
       "      <td>Research &amp; Development</td>\n",
       "      <td>2</td>\n",
       "      <td>1</td>\n",
       "      <td>Medical</td>\n",
       "      <td>1</td>\n",
       "      <td>Male</td>\n",
       "      <td>40</td>\n",
       "      <td>3</td>\n",
       "      <td>1</td>\n",
       "      <td>Laboratory Technician</td>\n",
       "      <td>2</td>\n",
       "      <td>Married</td>\n",
       "      <td>3468</td>\n",
       "      <td>16632</td>\n",
       "      <td>9</td>\n",
       "      <td>No</td>\n",
       "      <td>12</td>\n",
       "      <td>3</td>\n",
       "      <td>4</td>\n",
       "      <td>1</td>\n",
       "      <td>6</td>\n",
       "      <td>3</td>\n",
       "      <td>3</td>\n",
       "      <td>2</td>\n",
       "      <td>2</td>\n",
       "      <td>2</td>\n",
       "      <td>2</td>\n",
       "    </tr>\n",
       "  </tbody>\n",
       "</table>\n",
       "</div>"
      ],
      "text/plain": [
       "   Age  Attrition     BusinessTravel  DailyRate              Department  \\\n",
       "0   41          1      Travel_Rarely       1102                   Sales   \n",
       "1   49          0  Travel_Frequently        279  Research & Development   \n",
       "2   37          1      Travel_Rarely       1373  Research & Development   \n",
       "3   33          0  Travel_Frequently       1392  Research & Development   \n",
       "4   27          0      Travel_Rarely        591  Research & Development   \n",
       "\n",
       "   DistanceFromHome  Education EducationField  EnvironmentSatisfaction  \\\n",
       "0                 1          2  Life Sciences                        2   \n",
       "1                 8          1  Life Sciences                        3   \n",
       "2                 2          2          Other                        4   \n",
       "3                 3          4  Life Sciences                        4   \n",
       "4                 2          1        Medical                        1   \n",
       "\n",
       "   Gender  HourlyRate  JobInvolvement  JobLevel                JobRole  \\\n",
       "0  Female          94               3         2        Sales Executive   \n",
       "1    Male          61               2         2     Research Scientist   \n",
       "2    Male          92               2         1  Laboratory Technician   \n",
       "3  Female          56               3         1     Research Scientist   \n",
       "4    Male          40               3         1  Laboratory Technician   \n",
       "\n",
       "   JobSatisfaction MaritalStatus  MonthlyIncome  MonthlyRate  \\\n",
       "0                4        Single           5993        19479   \n",
       "1                2       Married           5130        24907   \n",
       "2                3        Single           2090         2396   \n",
       "3                3       Married           2909        23159   \n",
       "4                2       Married           3468        16632   \n",
       "\n",
       "   NumCompaniesWorked OverTime  PercentSalaryHike  PerformanceRating  \\\n",
       "0                   8      Yes                 11                  3   \n",
       "1                   1       No                 23                  4   \n",
       "2                   6      Yes                 15                  3   \n",
       "3                   1      Yes                 11                  3   \n",
       "4                   9       No                 12                  3   \n",
       "\n",
       "   RelationshipSatisfaction  StockOptionLevel  TotalWorkingYears  \\\n",
       "0                         1                 0                  8   \n",
       "1                         4                 1                 10   \n",
       "2                         2                 0                  7   \n",
       "3                         3                 0                  8   \n",
       "4                         4                 1                  6   \n",
       "\n",
       "   TrainingTimesLastYear  WorkLifeBalance  YearsAtCompany  YearsInCurrentRole  \\\n",
       "0                      0                1               6                   4   \n",
       "1                      3                3              10                   7   \n",
       "2                      3                3               0                   0   \n",
       "3                      3                3               8                   7   \n",
       "4                      3                3               2                   2   \n",
       "\n",
       "   YearsSinceLastPromotion  YearsWithCurrManager  \n",
       "0                        0                     5  \n",
       "1                        1                     7  \n",
       "2                        0                     0  \n",
       "3                        3                     0  \n",
       "4                        2                     2  "
      ]
     },
     "execution_count": 73,
     "metadata": {},
     "output_type": "execute_result"
    }
   ],
   "source": [
    "final_df.head()"
   ]
  },
  {
   "cell_type": "code",
   "execution_count": 74,
   "id": "architectural-bishop",
   "metadata": {
    "execution": {
     "iopub.execute_input": "2021-05-05T08:27:39.360511Z",
     "iopub.status.busy": "2021-05-05T08:27:39.359830Z",
     "iopub.status.idle": "2021-05-05T08:27:39.363291Z",
     "shell.execute_reply": "2021-05-05T08:27:39.363903Z"
    },
    "papermill": {
     "duration": 0.1876,
     "end_time": "2021-05-05T08:27:39.364101",
     "exception": false,
     "start_time": "2021-05-05T08:27:39.176501",
     "status": "completed"
    },
    "tags": []
   },
   "outputs": [
    {
     "data": {
      "text/plain": [
       "Index(['BusinessTravel', 'Department', 'EducationField', 'Gender', 'JobRole',\n",
       "       'MaritalStatus', 'OverTime'],\n",
       "      dtype='object')"
      ]
     },
     "execution_count": 74,
     "metadata": {},
     "output_type": "execute_result"
    }
   ],
   "source": [
    "cat_columns = final_df.select_dtypes(exclude = np.number).columns\n",
    "\n",
    "cat_columns"
   ]
  },
  {
   "cell_type": "code",
   "execution_count": 75,
   "id": "assumed-fellow",
   "metadata": {
    "execution": {
     "iopub.execute_input": "2021-05-05T08:27:39.707787Z",
     "iopub.status.busy": "2021-05-05T08:27:39.707088Z",
     "iopub.status.idle": "2021-05-05T08:27:39.739806Z",
     "shell.execute_reply": "2021-05-05T08:27:39.740317Z"
    },
    "papermill": {
     "duration": 0.205896,
     "end_time": "2021-05-05T08:27:39.740492",
     "exception": false,
     "start_time": "2021-05-05T08:27:39.534596",
     "status": "completed"
    },
    "tags": []
   },
   "outputs": [
    {
     "data": {
      "text/html": [
       "<div>\n",
       "<style scoped>\n",
       "    .dataframe tbody tr th:only-of-type {\n",
       "        vertical-align: middle;\n",
       "    }\n",
       "\n",
       "    .dataframe tbody tr th {\n",
       "        vertical-align: top;\n",
       "    }\n",
       "\n",
       "    .dataframe thead th {\n",
       "        text-align: right;\n",
       "    }\n",
       "</style>\n",
       "<table border=\"1\" class=\"dataframe\">\n",
       "  <thead>\n",
       "    <tr style=\"text-align: right;\">\n",
       "      <th></th>\n",
       "      <th>BusinessTravel_Non-Travel</th>\n",
       "      <th>BusinessTravel_Travel_Frequently</th>\n",
       "      <th>BusinessTravel_Travel_Rarely</th>\n",
       "      <th>Department_Human Resources</th>\n",
       "      <th>Department_Research &amp; Development</th>\n",
       "      <th>Department_Sales</th>\n",
       "      <th>EducationField_Human Resources</th>\n",
       "      <th>EducationField_Life Sciences</th>\n",
       "      <th>EducationField_Marketing</th>\n",
       "      <th>EducationField_Medical</th>\n",
       "      <th>EducationField_Other</th>\n",
       "      <th>EducationField_Technical Degree</th>\n",
       "      <th>Gender_Female</th>\n",
       "      <th>Gender_Male</th>\n",
       "      <th>JobRole_Healthcare Representative</th>\n",
       "      <th>JobRole_Human Resources</th>\n",
       "      <th>JobRole_Laboratory Technician</th>\n",
       "      <th>JobRole_Manager</th>\n",
       "      <th>JobRole_Manufacturing Director</th>\n",
       "      <th>JobRole_Research Director</th>\n",
       "      <th>JobRole_Research Scientist</th>\n",
       "      <th>JobRole_Sales Executive</th>\n",
       "      <th>JobRole_Sales Representative</th>\n",
       "      <th>MaritalStatus_Divorced</th>\n",
       "      <th>MaritalStatus_Married</th>\n",
       "      <th>MaritalStatus_Single</th>\n",
       "      <th>OverTime_No</th>\n",
       "      <th>OverTime_Yes</th>\n",
       "    </tr>\n",
       "  </thead>\n",
       "  <tbody>\n",
       "    <tr>\n",
       "      <th>0</th>\n",
       "      <td>0</td>\n",
       "      <td>0</td>\n",
       "      <td>1</td>\n",
       "      <td>0</td>\n",
       "      <td>0</td>\n",
       "      <td>1</td>\n",
       "      <td>0</td>\n",
       "      <td>1</td>\n",
       "      <td>0</td>\n",
       "      <td>0</td>\n",
       "      <td>0</td>\n",
       "      <td>0</td>\n",
       "      <td>1</td>\n",
       "      <td>0</td>\n",
       "      <td>0</td>\n",
       "      <td>0</td>\n",
       "      <td>0</td>\n",
       "      <td>0</td>\n",
       "      <td>0</td>\n",
       "      <td>0</td>\n",
       "      <td>0</td>\n",
       "      <td>1</td>\n",
       "      <td>0</td>\n",
       "      <td>0</td>\n",
       "      <td>0</td>\n",
       "      <td>1</td>\n",
       "      <td>0</td>\n",
       "      <td>1</td>\n",
       "    </tr>\n",
       "    <tr>\n",
       "      <th>1</th>\n",
       "      <td>0</td>\n",
       "      <td>1</td>\n",
       "      <td>0</td>\n",
       "      <td>0</td>\n",
       "      <td>1</td>\n",
       "      <td>0</td>\n",
       "      <td>0</td>\n",
       "      <td>1</td>\n",
       "      <td>0</td>\n",
       "      <td>0</td>\n",
       "      <td>0</td>\n",
       "      <td>0</td>\n",
       "      <td>0</td>\n",
       "      <td>1</td>\n",
       "      <td>0</td>\n",
       "      <td>0</td>\n",
       "      <td>0</td>\n",
       "      <td>0</td>\n",
       "      <td>0</td>\n",
       "      <td>0</td>\n",
       "      <td>1</td>\n",
       "      <td>0</td>\n",
       "      <td>0</td>\n",
       "      <td>0</td>\n",
       "      <td>1</td>\n",
       "      <td>0</td>\n",
       "      <td>1</td>\n",
       "      <td>0</td>\n",
       "    </tr>\n",
       "    <tr>\n",
       "      <th>2</th>\n",
       "      <td>0</td>\n",
       "      <td>0</td>\n",
       "      <td>1</td>\n",
       "      <td>0</td>\n",
       "      <td>1</td>\n",
       "      <td>0</td>\n",
       "      <td>0</td>\n",
       "      <td>0</td>\n",
       "      <td>0</td>\n",
       "      <td>0</td>\n",
       "      <td>1</td>\n",
       "      <td>0</td>\n",
       "      <td>0</td>\n",
       "      <td>1</td>\n",
       "      <td>0</td>\n",
       "      <td>0</td>\n",
       "      <td>1</td>\n",
       "      <td>0</td>\n",
       "      <td>0</td>\n",
       "      <td>0</td>\n",
       "      <td>0</td>\n",
       "      <td>0</td>\n",
       "      <td>0</td>\n",
       "      <td>0</td>\n",
       "      <td>0</td>\n",
       "      <td>1</td>\n",
       "      <td>0</td>\n",
       "      <td>1</td>\n",
       "    </tr>\n",
       "    <tr>\n",
       "      <th>3</th>\n",
       "      <td>0</td>\n",
       "      <td>1</td>\n",
       "      <td>0</td>\n",
       "      <td>0</td>\n",
       "      <td>1</td>\n",
       "      <td>0</td>\n",
       "      <td>0</td>\n",
       "      <td>1</td>\n",
       "      <td>0</td>\n",
       "      <td>0</td>\n",
       "      <td>0</td>\n",
       "      <td>0</td>\n",
       "      <td>1</td>\n",
       "      <td>0</td>\n",
       "      <td>0</td>\n",
       "      <td>0</td>\n",
       "      <td>0</td>\n",
       "      <td>0</td>\n",
       "      <td>0</td>\n",
       "      <td>0</td>\n",
       "      <td>1</td>\n",
       "      <td>0</td>\n",
       "      <td>0</td>\n",
       "      <td>0</td>\n",
       "      <td>1</td>\n",
       "      <td>0</td>\n",
       "      <td>0</td>\n",
       "      <td>1</td>\n",
       "    </tr>\n",
       "    <tr>\n",
       "      <th>4</th>\n",
       "      <td>0</td>\n",
       "      <td>0</td>\n",
       "      <td>1</td>\n",
       "      <td>0</td>\n",
       "      <td>1</td>\n",
       "      <td>0</td>\n",
       "      <td>0</td>\n",
       "      <td>0</td>\n",
       "      <td>0</td>\n",
       "      <td>1</td>\n",
       "      <td>0</td>\n",
       "      <td>0</td>\n",
       "      <td>0</td>\n",
       "      <td>1</td>\n",
       "      <td>0</td>\n",
       "      <td>0</td>\n",
       "      <td>1</td>\n",
       "      <td>0</td>\n",
       "      <td>0</td>\n",
       "      <td>0</td>\n",
       "      <td>0</td>\n",
       "      <td>0</td>\n",
       "      <td>0</td>\n",
       "      <td>0</td>\n",
       "      <td>1</td>\n",
       "      <td>0</td>\n",
       "      <td>1</td>\n",
       "      <td>0</td>\n",
       "    </tr>\n",
       "  </tbody>\n",
       "</table>\n",
       "</div>"
      ],
      "text/plain": [
       "   BusinessTravel_Non-Travel  BusinessTravel_Travel_Frequently  \\\n",
       "0                          0                                 0   \n",
       "1                          0                                 1   \n",
       "2                          0                                 0   \n",
       "3                          0                                 1   \n",
       "4                          0                                 0   \n",
       "\n",
       "   BusinessTravel_Travel_Rarely  Department_Human Resources  \\\n",
       "0                             1                           0   \n",
       "1                             0                           0   \n",
       "2                             1                           0   \n",
       "3                             0                           0   \n",
       "4                             1                           0   \n",
       "\n",
       "   Department_Research & Development  Department_Sales  \\\n",
       "0                                  0                 1   \n",
       "1                                  1                 0   \n",
       "2                                  1                 0   \n",
       "3                                  1                 0   \n",
       "4                                  1                 0   \n",
       "\n",
       "   EducationField_Human Resources  EducationField_Life Sciences  \\\n",
       "0                               0                             1   \n",
       "1                               0                             1   \n",
       "2                               0                             0   \n",
       "3                               0                             1   \n",
       "4                               0                             0   \n",
       "\n",
       "   EducationField_Marketing  EducationField_Medical  EducationField_Other  \\\n",
       "0                         0                       0                     0   \n",
       "1                         0                       0                     0   \n",
       "2                         0                       0                     1   \n",
       "3                         0                       0                     0   \n",
       "4                         0                       1                     0   \n",
       "\n",
       "   EducationField_Technical Degree  Gender_Female  Gender_Male  \\\n",
       "0                                0              1            0   \n",
       "1                                0              0            1   \n",
       "2                                0              0            1   \n",
       "3                                0              1            0   \n",
       "4                                0              0            1   \n",
       "\n",
       "   JobRole_Healthcare Representative  JobRole_Human Resources  \\\n",
       "0                                  0                        0   \n",
       "1                                  0                        0   \n",
       "2                                  0                        0   \n",
       "3                                  0                        0   \n",
       "4                                  0                        0   \n",
       "\n",
       "   JobRole_Laboratory Technician  JobRole_Manager  \\\n",
       "0                              0                0   \n",
       "1                              0                0   \n",
       "2                              1                0   \n",
       "3                              0                0   \n",
       "4                              1                0   \n",
       "\n",
       "   JobRole_Manufacturing Director  JobRole_Research Director  \\\n",
       "0                               0                          0   \n",
       "1                               0                          0   \n",
       "2                               0                          0   \n",
       "3                               0                          0   \n",
       "4                               0                          0   \n",
       "\n",
       "   JobRole_Research Scientist  JobRole_Sales Executive  \\\n",
       "0                           0                        1   \n",
       "1                           1                        0   \n",
       "2                           0                        0   \n",
       "3                           1                        0   \n",
       "4                           0                        0   \n",
       "\n",
       "   JobRole_Sales Representative  MaritalStatus_Divorced  \\\n",
       "0                             0                       0   \n",
       "1                             0                       0   \n",
       "2                             0                       0   \n",
       "3                             0                       0   \n",
       "4                             0                       0   \n",
       "\n",
       "   MaritalStatus_Married  MaritalStatus_Single  OverTime_No  OverTime_Yes  \n",
       "0                      0                     1            0             1  \n",
       "1                      1                     0            1             0  \n",
       "2                      0                     1            0             1  \n",
       "3                      1                     0            0             1  \n",
       "4                      1                     0            1             0  "
      ]
     },
     "execution_count": 75,
     "metadata": {},
     "output_type": "execute_result"
    }
   ],
   "source": [
    "encoded_df  = pd.DataFrame(data = pd.get_dummies(df[cat_columns], drop_first=False),index=final_df.index)\n",
    "\n",
    "encoded_df.head()"
   ]
  },
  {
   "cell_type": "code",
   "execution_count": 76,
   "id": "appreciated-japan",
   "metadata": {
    "execution": {
     "iopub.execute_input": "2021-05-05T08:27:40.110304Z",
     "iopub.status.busy": "2021-05-05T08:27:40.109588Z",
     "iopub.status.idle": "2021-05-05T08:27:40.116174Z",
     "shell.execute_reply": "2021-05-05T08:27:40.116756Z"
    },
    "papermill": {
     "duration": 0.199833,
     "end_time": "2021-05-05T08:27:40.117062",
     "exception": false,
     "start_time": "2021-05-05T08:27:39.917229",
     "status": "completed"
    },
    "tags": []
   },
   "outputs": [
    {
     "data": {
      "text/plain": [
       "(1470, 28)"
      ]
     },
     "execution_count": 76,
     "metadata": {},
     "output_type": "execute_result"
    }
   ],
   "source": [
    "encoded_df.shape"
   ]
  },
  {
   "cell_type": "code",
   "execution_count": 77,
   "id": "satellite-consultancy",
   "metadata": {
    "execution": {
     "iopub.execute_input": "2021-05-05T08:27:40.493428Z",
     "iopub.status.busy": "2021-05-05T08:27:40.492721Z",
     "iopub.status.idle": "2021-05-05T08:27:40.513188Z",
     "shell.execute_reply": "2021-05-05T08:27:40.513692Z"
    },
    "papermill": {
     "duration": 0.216111,
     "end_time": "2021-05-05T08:27:40.513887",
     "exception": false,
     "start_time": "2021-05-05T08:27:40.297776",
     "status": "completed"
    },
    "tags": []
   },
   "outputs": [
    {
     "data": {
      "text/html": [
       "<div>\n",
       "<style scoped>\n",
       "    .dataframe tbody tr th:only-of-type {\n",
       "        vertical-align: middle;\n",
       "    }\n",
       "\n",
       "    .dataframe tbody tr th {\n",
       "        vertical-align: top;\n",
       "    }\n",
       "\n",
       "    .dataframe thead th {\n",
       "        text-align: right;\n",
       "    }\n",
       "</style>\n",
       "<table border=\"1\" class=\"dataframe\">\n",
       "  <thead>\n",
       "    <tr style=\"text-align: right;\">\n",
       "      <th></th>\n",
       "      <th>Age</th>\n",
       "      <th>Attrition</th>\n",
       "      <th>DailyRate</th>\n",
       "      <th>DistanceFromHome</th>\n",
       "      <th>Education</th>\n",
       "      <th>EnvironmentSatisfaction</th>\n",
       "      <th>HourlyRate</th>\n",
       "      <th>JobInvolvement</th>\n",
       "      <th>JobLevel</th>\n",
       "      <th>JobSatisfaction</th>\n",
       "      <th>MonthlyIncome</th>\n",
       "      <th>MonthlyRate</th>\n",
       "      <th>NumCompaniesWorked</th>\n",
       "      <th>PercentSalaryHike</th>\n",
       "      <th>PerformanceRating</th>\n",
       "      <th>RelationshipSatisfaction</th>\n",
       "      <th>StockOptionLevel</th>\n",
       "      <th>TotalWorkingYears</th>\n",
       "      <th>TrainingTimesLastYear</th>\n",
       "      <th>WorkLifeBalance</th>\n",
       "      <th>YearsAtCompany</th>\n",
       "      <th>YearsInCurrentRole</th>\n",
       "      <th>YearsSinceLastPromotion</th>\n",
       "      <th>YearsWithCurrManager</th>\n",
       "    </tr>\n",
       "  </thead>\n",
       "  <tbody>\n",
       "    <tr>\n",
       "      <th>0</th>\n",
       "      <td>41</td>\n",
       "      <td>1</td>\n",
       "      <td>1102</td>\n",
       "      <td>1</td>\n",
       "      <td>2</td>\n",
       "      <td>2</td>\n",
       "      <td>94</td>\n",
       "      <td>3</td>\n",
       "      <td>2</td>\n",
       "      <td>4</td>\n",
       "      <td>5993</td>\n",
       "      <td>19479</td>\n",
       "      <td>8</td>\n",
       "      <td>11</td>\n",
       "      <td>3</td>\n",
       "      <td>1</td>\n",
       "      <td>0</td>\n",
       "      <td>8</td>\n",
       "      <td>0</td>\n",
       "      <td>1</td>\n",
       "      <td>6</td>\n",
       "      <td>4</td>\n",
       "      <td>0</td>\n",
       "      <td>5</td>\n",
       "    </tr>\n",
       "    <tr>\n",
       "      <th>1</th>\n",
       "      <td>49</td>\n",
       "      <td>0</td>\n",
       "      <td>279</td>\n",
       "      <td>8</td>\n",
       "      <td>1</td>\n",
       "      <td>3</td>\n",
       "      <td>61</td>\n",
       "      <td>2</td>\n",
       "      <td>2</td>\n",
       "      <td>2</td>\n",
       "      <td>5130</td>\n",
       "      <td>24907</td>\n",
       "      <td>1</td>\n",
       "      <td>23</td>\n",
       "      <td>4</td>\n",
       "      <td>4</td>\n",
       "      <td>1</td>\n",
       "      <td>10</td>\n",
       "      <td>3</td>\n",
       "      <td>3</td>\n",
       "      <td>10</td>\n",
       "      <td>7</td>\n",
       "      <td>1</td>\n",
       "      <td>7</td>\n",
       "    </tr>\n",
       "    <tr>\n",
       "      <th>2</th>\n",
       "      <td>37</td>\n",
       "      <td>1</td>\n",
       "      <td>1373</td>\n",
       "      <td>2</td>\n",
       "      <td>2</td>\n",
       "      <td>4</td>\n",
       "      <td>92</td>\n",
       "      <td>2</td>\n",
       "      <td>1</td>\n",
       "      <td>3</td>\n",
       "      <td>2090</td>\n",
       "      <td>2396</td>\n",
       "      <td>6</td>\n",
       "      <td>15</td>\n",
       "      <td>3</td>\n",
       "      <td>2</td>\n",
       "      <td>0</td>\n",
       "      <td>7</td>\n",
       "      <td>3</td>\n",
       "      <td>3</td>\n",
       "      <td>0</td>\n",
       "      <td>0</td>\n",
       "      <td>0</td>\n",
       "      <td>0</td>\n",
       "    </tr>\n",
       "    <tr>\n",
       "      <th>3</th>\n",
       "      <td>33</td>\n",
       "      <td>0</td>\n",
       "      <td>1392</td>\n",
       "      <td>3</td>\n",
       "      <td>4</td>\n",
       "      <td>4</td>\n",
       "      <td>56</td>\n",
       "      <td>3</td>\n",
       "      <td>1</td>\n",
       "      <td>3</td>\n",
       "      <td>2909</td>\n",
       "      <td>23159</td>\n",
       "      <td>1</td>\n",
       "      <td>11</td>\n",
       "      <td>3</td>\n",
       "      <td>3</td>\n",
       "      <td>0</td>\n",
       "      <td>8</td>\n",
       "      <td>3</td>\n",
       "      <td>3</td>\n",
       "      <td>8</td>\n",
       "      <td>7</td>\n",
       "      <td>3</td>\n",
       "      <td>0</td>\n",
       "    </tr>\n",
       "    <tr>\n",
       "      <th>4</th>\n",
       "      <td>27</td>\n",
       "      <td>0</td>\n",
       "      <td>591</td>\n",
       "      <td>2</td>\n",
       "      <td>1</td>\n",
       "      <td>1</td>\n",
       "      <td>40</td>\n",
       "      <td>3</td>\n",
       "      <td>1</td>\n",
       "      <td>2</td>\n",
       "      <td>3468</td>\n",
       "      <td>16632</td>\n",
       "      <td>9</td>\n",
       "      <td>12</td>\n",
       "      <td>3</td>\n",
       "      <td>4</td>\n",
       "      <td>1</td>\n",
       "      <td>6</td>\n",
       "      <td>3</td>\n",
       "      <td>3</td>\n",
       "      <td>2</td>\n",
       "      <td>2</td>\n",
       "      <td>2</td>\n",
       "      <td>2</td>\n",
       "    </tr>\n",
       "  </tbody>\n",
       "</table>\n",
       "</div>"
      ],
      "text/plain": [
       "   Age  Attrition  DailyRate  DistanceFromHome  Education  \\\n",
       "0   41          1       1102                 1          2   \n",
       "1   49          0        279                 8          1   \n",
       "2   37          1       1373                 2          2   \n",
       "3   33          0       1392                 3          4   \n",
       "4   27          0        591                 2          1   \n",
       "\n",
       "   EnvironmentSatisfaction  HourlyRate  JobInvolvement  JobLevel  \\\n",
       "0                        2          94               3         2   \n",
       "1                        3          61               2         2   \n",
       "2                        4          92               2         1   \n",
       "3                        4          56               3         1   \n",
       "4                        1          40               3         1   \n",
       "\n",
       "   JobSatisfaction  MonthlyIncome  MonthlyRate  NumCompaniesWorked  \\\n",
       "0                4           5993        19479                   8   \n",
       "1                2           5130        24907                   1   \n",
       "2                3           2090         2396                   6   \n",
       "3                3           2909        23159                   1   \n",
       "4                2           3468        16632                   9   \n",
       "\n",
       "   PercentSalaryHike  PerformanceRating  RelationshipSatisfaction  \\\n",
       "0                 11                  3                         1   \n",
       "1                 23                  4                         4   \n",
       "2                 15                  3                         2   \n",
       "3                 11                  3                         3   \n",
       "4                 12                  3                         4   \n",
       "\n",
       "   StockOptionLevel  TotalWorkingYears  TrainingTimesLastYear  \\\n",
       "0                 0                  8                      0   \n",
       "1                 1                 10                      3   \n",
       "2                 0                  7                      3   \n",
       "3                 0                  8                      3   \n",
       "4                 1                  6                      3   \n",
       "\n",
       "   WorkLifeBalance  YearsAtCompany  YearsInCurrentRole  \\\n",
       "0                1               6                   4   \n",
       "1                3              10                   7   \n",
       "2                3               0                   0   \n",
       "3                3               8                   7   \n",
       "4                3               2                   2   \n",
       "\n",
       "   YearsSinceLastPromotion  YearsWithCurrManager  \n",
       "0                        0                     5  \n",
       "1                        1                     7  \n",
       "2                        0                     0  \n",
       "3                        3                     0  \n",
       "4                        2                     2  "
      ]
     },
     "execution_count": 77,
     "metadata": {},
     "output_type": "execute_result"
    }
   ],
   "source": [
    "final_df.drop(cat_columns,axis=1,inplace=True)\n",
    "#Removing categorical columns\n",
    "final_df.head()"
   ]
  },
  {
   "cell_type": "code",
   "execution_count": 78,
   "id": "incident-courage",
   "metadata": {
    "execution": {
     "iopub.execute_input": "2021-05-05T08:27:40.876012Z",
     "iopub.status.busy": "2021-05-05T08:27:40.875332Z",
     "iopub.status.idle": "2021-05-05T08:27:40.908595Z",
     "shell.execute_reply": "2021-05-05T08:27:40.909222Z"
    },
    "papermill": {
     "duration": 0.207477,
     "end_time": "2021-05-05T08:27:40.909401",
     "exception": false,
     "start_time": "2021-05-05T08:27:40.701924",
     "status": "completed"
    },
    "tags": []
   },
   "outputs": [
    {
     "data": {
      "text/html": [
       "<div>\n",
       "<style scoped>\n",
       "    .dataframe tbody tr th:only-of-type {\n",
       "        vertical-align: middle;\n",
       "    }\n",
       "\n",
       "    .dataframe tbody tr th {\n",
       "        vertical-align: top;\n",
       "    }\n",
       "\n",
       "    .dataframe thead th {\n",
       "        text-align: right;\n",
       "    }\n",
       "</style>\n",
       "<table border=\"1\" class=\"dataframe\">\n",
       "  <thead>\n",
       "    <tr style=\"text-align: right;\">\n",
       "      <th></th>\n",
       "      <th>Age</th>\n",
       "      <th>Attrition</th>\n",
       "      <th>DailyRate</th>\n",
       "      <th>DistanceFromHome</th>\n",
       "      <th>Education</th>\n",
       "      <th>EnvironmentSatisfaction</th>\n",
       "      <th>HourlyRate</th>\n",
       "      <th>JobInvolvement</th>\n",
       "      <th>JobLevel</th>\n",
       "      <th>JobSatisfaction</th>\n",
       "      <th>MonthlyIncome</th>\n",
       "      <th>MonthlyRate</th>\n",
       "      <th>NumCompaniesWorked</th>\n",
       "      <th>PercentSalaryHike</th>\n",
       "      <th>PerformanceRating</th>\n",
       "      <th>RelationshipSatisfaction</th>\n",
       "      <th>StockOptionLevel</th>\n",
       "      <th>TotalWorkingYears</th>\n",
       "      <th>TrainingTimesLastYear</th>\n",
       "      <th>WorkLifeBalance</th>\n",
       "      <th>YearsAtCompany</th>\n",
       "      <th>YearsInCurrentRole</th>\n",
       "      <th>YearsSinceLastPromotion</th>\n",
       "      <th>YearsWithCurrManager</th>\n",
       "      <th>BusinessTravel_Non-Travel</th>\n",
       "      <th>BusinessTravel_Travel_Frequently</th>\n",
       "      <th>BusinessTravel_Travel_Rarely</th>\n",
       "      <th>Department_Human Resources</th>\n",
       "      <th>Department_Research &amp; Development</th>\n",
       "      <th>Department_Sales</th>\n",
       "      <th>EducationField_Human Resources</th>\n",
       "      <th>EducationField_Life Sciences</th>\n",
       "      <th>EducationField_Marketing</th>\n",
       "      <th>EducationField_Medical</th>\n",
       "      <th>EducationField_Other</th>\n",
       "      <th>EducationField_Technical Degree</th>\n",
       "      <th>Gender_Female</th>\n",
       "      <th>Gender_Male</th>\n",
       "      <th>JobRole_Healthcare Representative</th>\n",
       "      <th>JobRole_Human Resources</th>\n",
       "      <th>JobRole_Laboratory Technician</th>\n",
       "      <th>JobRole_Manager</th>\n",
       "      <th>JobRole_Manufacturing Director</th>\n",
       "      <th>JobRole_Research Director</th>\n",
       "      <th>JobRole_Research Scientist</th>\n",
       "      <th>JobRole_Sales Executive</th>\n",
       "      <th>JobRole_Sales Representative</th>\n",
       "      <th>MaritalStatus_Divorced</th>\n",
       "      <th>MaritalStatus_Married</th>\n",
       "      <th>MaritalStatus_Single</th>\n",
       "      <th>OverTime_No</th>\n",
       "      <th>OverTime_Yes</th>\n",
       "    </tr>\n",
       "  </thead>\n",
       "  <tbody>\n",
       "    <tr>\n",
       "      <th>0</th>\n",
       "      <td>41</td>\n",
       "      <td>1</td>\n",
       "      <td>1102</td>\n",
       "      <td>1</td>\n",
       "      <td>2</td>\n",
       "      <td>2</td>\n",
       "      <td>94</td>\n",
       "      <td>3</td>\n",
       "      <td>2</td>\n",
       "      <td>4</td>\n",
       "      <td>5993</td>\n",
       "      <td>19479</td>\n",
       "      <td>8</td>\n",
       "      <td>11</td>\n",
       "      <td>3</td>\n",
       "      <td>1</td>\n",
       "      <td>0</td>\n",
       "      <td>8</td>\n",
       "      <td>0</td>\n",
       "      <td>1</td>\n",
       "      <td>6</td>\n",
       "      <td>4</td>\n",
       "      <td>0</td>\n",
       "      <td>5</td>\n",
       "      <td>0</td>\n",
       "      <td>0</td>\n",
       "      <td>1</td>\n",
       "      <td>0</td>\n",
       "      <td>0</td>\n",
       "      <td>1</td>\n",
       "      <td>0</td>\n",
       "      <td>1</td>\n",
       "      <td>0</td>\n",
       "      <td>0</td>\n",
       "      <td>0</td>\n",
       "      <td>0</td>\n",
       "      <td>1</td>\n",
       "      <td>0</td>\n",
       "      <td>0</td>\n",
       "      <td>0</td>\n",
       "      <td>0</td>\n",
       "      <td>0</td>\n",
       "      <td>0</td>\n",
       "      <td>0</td>\n",
       "      <td>0</td>\n",
       "      <td>1</td>\n",
       "      <td>0</td>\n",
       "      <td>0</td>\n",
       "      <td>0</td>\n",
       "      <td>1</td>\n",
       "      <td>0</td>\n",
       "      <td>1</td>\n",
       "    </tr>\n",
       "    <tr>\n",
       "      <th>1</th>\n",
       "      <td>49</td>\n",
       "      <td>0</td>\n",
       "      <td>279</td>\n",
       "      <td>8</td>\n",
       "      <td>1</td>\n",
       "      <td>3</td>\n",
       "      <td>61</td>\n",
       "      <td>2</td>\n",
       "      <td>2</td>\n",
       "      <td>2</td>\n",
       "      <td>5130</td>\n",
       "      <td>24907</td>\n",
       "      <td>1</td>\n",
       "      <td>23</td>\n",
       "      <td>4</td>\n",
       "      <td>4</td>\n",
       "      <td>1</td>\n",
       "      <td>10</td>\n",
       "      <td>3</td>\n",
       "      <td>3</td>\n",
       "      <td>10</td>\n",
       "      <td>7</td>\n",
       "      <td>1</td>\n",
       "      <td>7</td>\n",
       "      <td>0</td>\n",
       "      <td>1</td>\n",
       "      <td>0</td>\n",
       "      <td>0</td>\n",
       "      <td>1</td>\n",
       "      <td>0</td>\n",
       "      <td>0</td>\n",
       "      <td>1</td>\n",
       "      <td>0</td>\n",
       "      <td>0</td>\n",
       "      <td>0</td>\n",
       "      <td>0</td>\n",
       "      <td>0</td>\n",
       "      <td>1</td>\n",
       "      <td>0</td>\n",
       "      <td>0</td>\n",
       "      <td>0</td>\n",
       "      <td>0</td>\n",
       "      <td>0</td>\n",
       "      <td>0</td>\n",
       "      <td>1</td>\n",
       "      <td>0</td>\n",
       "      <td>0</td>\n",
       "      <td>0</td>\n",
       "      <td>1</td>\n",
       "      <td>0</td>\n",
       "      <td>1</td>\n",
       "      <td>0</td>\n",
       "    </tr>\n",
       "    <tr>\n",
       "      <th>2</th>\n",
       "      <td>37</td>\n",
       "      <td>1</td>\n",
       "      <td>1373</td>\n",
       "      <td>2</td>\n",
       "      <td>2</td>\n",
       "      <td>4</td>\n",
       "      <td>92</td>\n",
       "      <td>2</td>\n",
       "      <td>1</td>\n",
       "      <td>3</td>\n",
       "      <td>2090</td>\n",
       "      <td>2396</td>\n",
       "      <td>6</td>\n",
       "      <td>15</td>\n",
       "      <td>3</td>\n",
       "      <td>2</td>\n",
       "      <td>0</td>\n",
       "      <td>7</td>\n",
       "      <td>3</td>\n",
       "      <td>3</td>\n",
       "      <td>0</td>\n",
       "      <td>0</td>\n",
       "      <td>0</td>\n",
       "      <td>0</td>\n",
       "      <td>0</td>\n",
       "      <td>0</td>\n",
       "      <td>1</td>\n",
       "      <td>0</td>\n",
       "      <td>1</td>\n",
       "      <td>0</td>\n",
       "      <td>0</td>\n",
       "      <td>0</td>\n",
       "      <td>0</td>\n",
       "      <td>0</td>\n",
       "      <td>1</td>\n",
       "      <td>0</td>\n",
       "      <td>0</td>\n",
       "      <td>1</td>\n",
       "      <td>0</td>\n",
       "      <td>0</td>\n",
       "      <td>1</td>\n",
       "      <td>0</td>\n",
       "      <td>0</td>\n",
       "      <td>0</td>\n",
       "      <td>0</td>\n",
       "      <td>0</td>\n",
       "      <td>0</td>\n",
       "      <td>0</td>\n",
       "      <td>0</td>\n",
       "      <td>1</td>\n",
       "      <td>0</td>\n",
       "      <td>1</td>\n",
       "    </tr>\n",
       "    <tr>\n",
       "      <th>3</th>\n",
       "      <td>33</td>\n",
       "      <td>0</td>\n",
       "      <td>1392</td>\n",
       "      <td>3</td>\n",
       "      <td>4</td>\n",
       "      <td>4</td>\n",
       "      <td>56</td>\n",
       "      <td>3</td>\n",
       "      <td>1</td>\n",
       "      <td>3</td>\n",
       "      <td>2909</td>\n",
       "      <td>23159</td>\n",
       "      <td>1</td>\n",
       "      <td>11</td>\n",
       "      <td>3</td>\n",
       "      <td>3</td>\n",
       "      <td>0</td>\n",
       "      <td>8</td>\n",
       "      <td>3</td>\n",
       "      <td>3</td>\n",
       "      <td>8</td>\n",
       "      <td>7</td>\n",
       "      <td>3</td>\n",
       "      <td>0</td>\n",
       "      <td>0</td>\n",
       "      <td>1</td>\n",
       "      <td>0</td>\n",
       "      <td>0</td>\n",
       "      <td>1</td>\n",
       "      <td>0</td>\n",
       "      <td>0</td>\n",
       "      <td>1</td>\n",
       "      <td>0</td>\n",
       "      <td>0</td>\n",
       "      <td>0</td>\n",
       "      <td>0</td>\n",
       "      <td>1</td>\n",
       "      <td>0</td>\n",
       "      <td>0</td>\n",
       "      <td>0</td>\n",
       "      <td>0</td>\n",
       "      <td>0</td>\n",
       "      <td>0</td>\n",
       "      <td>0</td>\n",
       "      <td>1</td>\n",
       "      <td>0</td>\n",
       "      <td>0</td>\n",
       "      <td>0</td>\n",
       "      <td>1</td>\n",
       "      <td>0</td>\n",
       "      <td>0</td>\n",
       "      <td>1</td>\n",
       "    </tr>\n",
       "    <tr>\n",
       "      <th>4</th>\n",
       "      <td>27</td>\n",
       "      <td>0</td>\n",
       "      <td>591</td>\n",
       "      <td>2</td>\n",
       "      <td>1</td>\n",
       "      <td>1</td>\n",
       "      <td>40</td>\n",
       "      <td>3</td>\n",
       "      <td>1</td>\n",
       "      <td>2</td>\n",
       "      <td>3468</td>\n",
       "      <td>16632</td>\n",
       "      <td>9</td>\n",
       "      <td>12</td>\n",
       "      <td>3</td>\n",
       "      <td>4</td>\n",
       "      <td>1</td>\n",
       "      <td>6</td>\n",
       "      <td>3</td>\n",
       "      <td>3</td>\n",
       "      <td>2</td>\n",
       "      <td>2</td>\n",
       "      <td>2</td>\n",
       "      <td>2</td>\n",
       "      <td>0</td>\n",
       "      <td>0</td>\n",
       "      <td>1</td>\n",
       "      <td>0</td>\n",
       "      <td>1</td>\n",
       "      <td>0</td>\n",
       "      <td>0</td>\n",
       "      <td>0</td>\n",
       "      <td>0</td>\n",
       "      <td>1</td>\n",
       "      <td>0</td>\n",
       "      <td>0</td>\n",
       "      <td>0</td>\n",
       "      <td>1</td>\n",
       "      <td>0</td>\n",
       "      <td>0</td>\n",
       "      <td>1</td>\n",
       "      <td>0</td>\n",
       "      <td>0</td>\n",
       "      <td>0</td>\n",
       "      <td>0</td>\n",
       "      <td>0</td>\n",
       "      <td>0</td>\n",
       "      <td>0</td>\n",
       "      <td>1</td>\n",
       "      <td>0</td>\n",
       "      <td>1</td>\n",
       "      <td>0</td>\n",
       "    </tr>\n",
       "  </tbody>\n",
       "</table>\n",
       "</div>"
      ],
      "text/plain": [
       "   Age  Attrition  DailyRate  DistanceFromHome  Education  \\\n",
       "0   41          1       1102                 1          2   \n",
       "1   49          0        279                 8          1   \n",
       "2   37          1       1373                 2          2   \n",
       "3   33          0       1392                 3          4   \n",
       "4   27          0        591                 2          1   \n",
       "\n",
       "   EnvironmentSatisfaction  HourlyRate  JobInvolvement  JobLevel  \\\n",
       "0                        2          94               3         2   \n",
       "1                        3          61               2         2   \n",
       "2                        4          92               2         1   \n",
       "3                        4          56               3         1   \n",
       "4                        1          40               3         1   \n",
       "\n",
       "   JobSatisfaction  MonthlyIncome  MonthlyRate  NumCompaniesWorked  \\\n",
       "0                4           5993        19479                   8   \n",
       "1                2           5130        24907                   1   \n",
       "2                3           2090         2396                   6   \n",
       "3                3           2909        23159                   1   \n",
       "4                2           3468        16632                   9   \n",
       "\n",
       "   PercentSalaryHike  PerformanceRating  RelationshipSatisfaction  \\\n",
       "0                 11                  3                         1   \n",
       "1                 23                  4                         4   \n",
       "2                 15                  3                         2   \n",
       "3                 11                  3                         3   \n",
       "4                 12                  3                         4   \n",
       "\n",
       "   StockOptionLevel  TotalWorkingYears  TrainingTimesLastYear  \\\n",
       "0                 0                  8                      0   \n",
       "1                 1                 10                      3   \n",
       "2                 0                  7                      3   \n",
       "3                 0                  8                      3   \n",
       "4                 1                  6                      3   \n",
       "\n",
       "   WorkLifeBalance  YearsAtCompany  YearsInCurrentRole  \\\n",
       "0                1               6                   4   \n",
       "1                3              10                   7   \n",
       "2                3               0                   0   \n",
       "3                3               8                   7   \n",
       "4                3               2                   2   \n",
       "\n",
       "   YearsSinceLastPromotion  YearsWithCurrManager  BusinessTravel_Non-Travel  \\\n",
       "0                        0                     5                          0   \n",
       "1                        1                     7                          0   \n",
       "2                        0                     0                          0   \n",
       "3                        3                     0                          0   \n",
       "4                        2                     2                          0   \n",
       "\n",
       "   BusinessTravel_Travel_Frequently  BusinessTravel_Travel_Rarely  \\\n",
       "0                                 0                             1   \n",
       "1                                 1                             0   \n",
       "2                                 0                             1   \n",
       "3                                 1                             0   \n",
       "4                                 0                             1   \n",
       "\n",
       "   Department_Human Resources  Department_Research & Development  \\\n",
       "0                           0                                  0   \n",
       "1                           0                                  1   \n",
       "2                           0                                  1   \n",
       "3                           0                                  1   \n",
       "4                           0                                  1   \n",
       "\n",
       "   Department_Sales  EducationField_Human Resources  \\\n",
       "0                 1                               0   \n",
       "1                 0                               0   \n",
       "2                 0                               0   \n",
       "3                 0                               0   \n",
       "4                 0                               0   \n",
       "\n",
       "   EducationField_Life Sciences  EducationField_Marketing  \\\n",
       "0                             1                         0   \n",
       "1                             1                         0   \n",
       "2                             0                         0   \n",
       "3                             1                         0   \n",
       "4                             0                         0   \n",
       "\n",
       "   EducationField_Medical  EducationField_Other  \\\n",
       "0                       0                     0   \n",
       "1                       0                     0   \n",
       "2                       0                     1   \n",
       "3                       0                     0   \n",
       "4                       1                     0   \n",
       "\n",
       "   EducationField_Technical Degree  Gender_Female  Gender_Male  \\\n",
       "0                                0              1            0   \n",
       "1                                0              0            1   \n",
       "2                                0              0            1   \n",
       "3                                0              1            0   \n",
       "4                                0              0            1   \n",
       "\n",
       "   JobRole_Healthcare Representative  JobRole_Human Resources  \\\n",
       "0                                  0                        0   \n",
       "1                                  0                        0   \n",
       "2                                  0                        0   \n",
       "3                                  0                        0   \n",
       "4                                  0                        0   \n",
       "\n",
       "   JobRole_Laboratory Technician  JobRole_Manager  \\\n",
       "0                              0                0   \n",
       "1                              0                0   \n",
       "2                              1                0   \n",
       "3                              0                0   \n",
       "4                              1                0   \n",
       "\n",
       "   JobRole_Manufacturing Director  JobRole_Research Director  \\\n",
       "0                               0                          0   \n",
       "1                               0                          0   \n",
       "2                               0                          0   \n",
       "3                               0                          0   \n",
       "4                               0                          0   \n",
       "\n",
       "   JobRole_Research Scientist  JobRole_Sales Executive  \\\n",
       "0                           0                        1   \n",
       "1                           1                        0   \n",
       "2                           0                        0   \n",
       "3                           1                        0   \n",
       "4                           0                        0   \n",
       "\n",
       "   JobRole_Sales Representative  MaritalStatus_Divorced  \\\n",
       "0                             0                       0   \n",
       "1                             0                       0   \n",
       "2                             0                       0   \n",
       "3                             0                       0   \n",
       "4                             0                       0   \n",
       "\n",
       "   MaritalStatus_Married  MaritalStatus_Single  OverTime_No  OverTime_Yes  \n",
       "0                      0                     1            0             1  \n",
       "1                      1                     0            1             0  \n",
       "2                      0                     1            0             1  \n",
       "3                      1                     0            0             1  \n",
       "4                      1                     0            1             0  "
      ]
     },
     "execution_count": 78,
     "metadata": {},
     "output_type": "execute_result"
    }
   ],
   "source": [
    "final_concat_df = pd.concat([final_df,encoded_df], axis =1)\n",
    "final_concat_df.head()"
   ]
  },
  {
   "cell_type": "code",
   "execution_count": 79,
   "id": "interpreted-challenge",
   "metadata": {
    "execution": {
     "iopub.execute_input": "2021-05-05T08:27:41.254351Z",
     "iopub.status.busy": "2021-05-05T08:27:41.253519Z",
     "iopub.status.idle": "2021-05-05T08:27:41.259030Z",
     "shell.execute_reply": "2021-05-05T08:27:41.259640Z"
    },
    "papermill": {
     "duration": 0.182136,
     "end_time": "2021-05-05T08:27:41.259853",
     "exception": false,
     "start_time": "2021-05-05T08:27:41.077717",
     "status": "completed"
    },
    "tags": []
   },
   "outputs": [],
   "source": [
    "X = final_concat_df.drop('Attrition', axis =1)\n",
    "y = final_concat_df['Attrition']"
   ]
  },
  {
   "cell_type": "markdown",
   "id": "greenhouse-ballot",
   "metadata": {
    "papermill": {
     "duration": 0.171322,
     "end_time": "2021-05-05T08:27:41.602868",
     "exception": false,
     "start_time": "2021-05-05T08:27:41.431546",
     "status": "completed"
    },
    "tags": []
   },
   "source": [
    "#### Scaling"
   ]
  },
  {
   "cell_type": "code",
   "execution_count": 80,
   "id": "reliable-symposium",
   "metadata": {
    "execution": {
     "iopub.execute_input": "2021-05-05T08:27:41.967511Z",
     "iopub.status.busy": "2021-05-05T08:27:41.966577Z",
     "iopub.status.idle": "2021-05-05T08:27:41.982331Z",
     "shell.execute_reply": "2021-05-05T08:27:41.982969Z"
    },
    "papermill": {
     "duration": 0.198567,
     "end_time": "2021-05-05T08:27:41.983145",
     "exception": false,
     "start_time": "2021-05-05T08:27:41.784578",
     "status": "completed"
    },
    "tags": []
   },
   "outputs": [
    {
     "data": {
      "text/plain": [
       "StandardScaler()"
      ]
     },
     "execution_count": 80,
     "metadata": {},
     "output_type": "execute_result"
    }
   ],
   "source": [
    "sc = StandardScaler()\n",
    "\n",
    "sc.fit(X)"
   ]
  },
  {
   "cell_type": "code",
   "execution_count": 81,
   "id": "deluxe-uruguay",
   "metadata": {
    "execution": {
     "iopub.execute_input": "2021-05-05T08:27:42.336145Z",
     "iopub.status.busy": "2021-05-05T08:27:42.335405Z",
     "iopub.status.idle": "2021-05-05T08:27:42.397554Z",
     "shell.execute_reply": "2021-05-05T08:27:42.398344Z"
    },
    "papermill": {
     "duration": 0.238818,
     "end_time": "2021-05-05T08:27:42.398620",
     "exception": false,
     "start_time": "2021-05-05T08:27:42.159802",
     "status": "completed"
    },
    "tags": []
   },
   "outputs": [
    {
     "data": {
      "text/html": [
       "<div>\n",
       "<style scoped>\n",
       "    .dataframe tbody tr th:only-of-type {\n",
       "        vertical-align: middle;\n",
       "    }\n",
       "\n",
       "    .dataframe tbody tr th {\n",
       "        vertical-align: top;\n",
       "    }\n",
       "\n",
       "    .dataframe thead th {\n",
       "        text-align: right;\n",
       "    }\n",
       "</style>\n",
       "<table border=\"1\" class=\"dataframe\">\n",
       "  <thead>\n",
       "    <tr style=\"text-align: right;\">\n",
       "      <th></th>\n",
       "      <th>Age</th>\n",
       "      <th>DailyRate</th>\n",
       "      <th>DistanceFromHome</th>\n",
       "      <th>Education</th>\n",
       "      <th>EnvironmentSatisfaction</th>\n",
       "      <th>HourlyRate</th>\n",
       "      <th>JobInvolvement</th>\n",
       "      <th>JobLevel</th>\n",
       "      <th>JobSatisfaction</th>\n",
       "      <th>MonthlyIncome</th>\n",
       "      <th>MonthlyRate</th>\n",
       "      <th>NumCompaniesWorked</th>\n",
       "      <th>PercentSalaryHike</th>\n",
       "      <th>PerformanceRating</th>\n",
       "      <th>RelationshipSatisfaction</th>\n",
       "      <th>StockOptionLevel</th>\n",
       "      <th>TotalWorkingYears</th>\n",
       "      <th>TrainingTimesLastYear</th>\n",
       "      <th>WorkLifeBalance</th>\n",
       "      <th>YearsAtCompany</th>\n",
       "      <th>YearsInCurrentRole</th>\n",
       "      <th>YearsSinceLastPromotion</th>\n",
       "      <th>YearsWithCurrManager</th>\n",
       "      <th>BusinessTravel_Non-Travel</th>\n",
       "      <th>BusinessTravel_Travel_Frequently</th>\n",
       "      <th>BusinessTravel_Travel_Rarely</th>\n",
       "      <th>Department_Human Resources</th>\n",
       "      <th>Department_Research &amp; Development</th>\n",
       "      <th>Department_Sales</th>\n",
       "      <th>EducationField_Human Resources</th>\n",
       "      <th>EducationField_Life Sciences</th>\n",
       "      <th>EducationField_Marketing</th>\n",
       "      <th>EducationField_Medical</th>\n",
       "      <th>EducationField_Other</th>\n",
       "      <th>EducationField_Technical Degree</th>\n",
       "      <th>Gender_Female</th>\n",
       "      <th>Gender_Male</th>\n",
       "      <th>JobRole_Healthcare Representative</th>\n",
       "      <th>JobRole_Human Resources</th>\n",
       "      <th>JobRole_Laboratory Technician</th>\n",
       "      <th>JobRole_Manager</th>\n",
       "      <th>JobRole_Manufacturing Director</th>\n",
       "      <th>JobRole_Research Director</th>\n",
       "      <th>JobRole_Research Scientist</th>\n",
       "      <th>JobRole_Sales Executive</th>\n",
       "      <th>JobRole_Sales Representative</th>\n",
       "      <th>MaritalStatus_Divorced</th>\n",
       "      <th>MaritalStatus_Married</th>\n",
       "      <th>MaritalStatus_Single</th>\n",
       "      <th>OverTime_No</th>\n",
       "      <th>OverTime_Yes</th>\n",
       "    </tr>\n",
       "  </thead>\n",
       "  <tbody>\n",
       "    <tr>\n",
       "      <th>0</th>\n",
       "      <td>0.446350</td>\n",
       "      <td>0.742527</td>\n",
       "      <td>-1.010909</td>\n",
       "      <td>-0.891688</td>\n",
       "      <td>-0.660531</td>\n",
       "      <td>1.383138</td>\n",
       "      <td>0.379672</td>\n",
       "      <td>-0.057788</td>\n",
       "      <td>1.153254</td>\n",
       "      <td>-0.108350</td>\n",
       "      <td>0.726020</td>\n",
       "      <td>2.125136</td>\n",
       "      <td>-1.150554</td>\n",
       "      <td>-0.426230</td>\n",
       "      <td>-1.584178</td>\n",
       "      <td>-0.932014</td>\n",
       "      <td>-0.421642</td>\n",
       "      <td>-2.171982</td>\n",
       "      <td>-2.493820</td>\n",
       "      <td>-0.164613</td>\n",
       "      <td>-0.063296</td>\n",
       "      <td>-0.679146</td>\n",
       "      <td>0.245834</td>\n",
       "      <td>-0.3371</td>\n",
       "      <td>-0.481859</td>\n",
       "      <td>0.639841</td>\n",
       "      <td>-0.211604</td>\n",
       "      <td>-1.374051</td>\n",
       "      <td>1.515244</td>\n",
       "      <td>-0.136788</td>\n",
       "      <td>1.194045</td>\n",
       "      <td>-0.348255</td>\n",
       "      <td>-0.679141</td>\n",
       "      <td>-0.243059</td>\n",
       "      <td>-0.314093</td>\n",
       "      <td>1.224745</td>\n",
       "      <td>-1.224745</td>\n",
       "      <td>-0.312785</td>\n",
       "      <td>-0.191498</td>\n",
       "      <td>-0.462464</td>\n",
       "      <td>-0.273059</td>\n",
       "      <td>-0.330808</td>\n",
       "      <td>-0.239904</td>\n",
       "      <td>-0.497873</td>\n",
       "      <td>1.873287</td>\n",
       "      <td>-0.244625</td>\n",
       "      <td>-0.534873</td>\n",
       "      <td>-0.918921</td>\n",
       "      <td>1.458650</td>\n",
       "      <td>-1.591746</td>\n",
       "      <td>1.591746</td>\n",
       "    </tr>\n",
       "    <tr>\n",
       "      <th>1</th>\n",
       "      <td>1.322365</td>\n",
       "      <td>-1.297775</td>\n",
       "      <td>-0.147150</td>\n",
       "      <td>-1.868426</td>\n",
       "      <td>0.254625</td>\n",
       "      <td>-0.240677</td>\n",
       "      <td>-1.026167</td>\n",
       "      <td>-0.057788</td>\n",
       "      <td>-0.660853</td>\n",
       "      <td>-0.291719</td>\n",
       "      <td>1.488876</td>\n",
       "      <td>-0.678049</td>\n",
       "      <td>2.129306</td>\n",
       "      <td>2.346151</td>\n",
       "      <td>1.191438</td>\n",
       "      <td>0.241988</td>\n",
       "      <td>-0.164511</td>\n",
       "      <td>0.155707</td>\n",
       "      <td>0.338096</td>\n",
       "      <td>0.488508</td>\n",
       "      <td>0.764998</td>\n",
       "      <td>-0.368715</td>\n",
       "      <td>0.806541</td>\n",
       "      <td>-0.3371</td>\n",
       "      <td>2.075297</td>\n",
       "      <td>-1.562889</td>\n",
       "      <td>-0.211604</td>\n",
       "      <td>0.727775</td>\n",
       "      <td>-0.659960</td>\n",
       "      <td>-0.136788</td>\n",
       "      <td>1.194045</td>\n",
       "      <td>-0.348255</td>\n",
       "      <td>-0.679141</td>\n",
       "      <td>-0.243059</td>\n",
       "      <td>-0.314093</td>\n",
       "      <td>-0.816497</td>\n",
       "      <td>0.816497</td>\n",
       "      <td>-0.312785</td>\n",
       "      <td>-0.191498</td>\n",
       "      <td>-0.462464</td>\n",
       "      <td>-0.273059</td>\n",
       "      <td>-0.330808</td>\n",
       "      <td>-0.239904</td>\n",
       "      <td>2.008543</td>\n",
       "      <td>-0.533821</td>\n",
       "      <td>-0.244625</td>\n",
       "      <td>-0.534873</td>\n",
       "      <td>1.088232</td>\n",
       "      <td>-0.685565</td>\n",
       "      <td>0.628241</td>\n",
       "      <td>-0.628241</td>\n",
       "    </tr>\n",
       "    <tr>\n",
       "      <th>2</th>\n",
       "      <td>0.008343</td>\n",
       "      <td>1.414363</td>\n",
       "      <td>-0.887515</td>\n",
       "      <td>-0.891688</td>\n",
       "      <td>1.169781</td>\n",
       "      <td>1.284725</td>\n",
       "      <td>-1.026167</td>\n",
       "      <td>-0.961486</td>\n",
       "      <td>0.246200</td>\n",
       "      <td>-0.937654</td>\n",
       "      <td>-1.674841</td>\n",
       "      <td>1.324226</td>\n",
       "      <td>-0.057267</td>\n",
       "      <td>-0.426230</td>\n",
       "      <td>-0.658973</td>\n",
       "      <td>-0.932014</td>\n",
       "      <td>-0.550208</td>\n",
       "      <td>0.155707</td>\n",
       "      <td>0.338096</td>\n",
       "      <td>-1.144294</td>\n",
       "      <td>-1.167687</td>\n",
       "      <td>-0.679146</td>\n",
       "      <td>-1.155935</td>\n",
       "      <td>-0.3371</td>\n",
       "      <td>-0.481859</td>\n",
       "      <td>0.639841</td>\n",
       "      <td>-0.211604</td>\n",
       "      <td>0.727775</td>\n",
       "      <td>-0.659960</td>\n",
       "      <td>-0.136788</td>\n",
       "      <td>-0.837490</td>\n",
       "      <td>-0.348255</td>\n",
       "      <td>-0.679141</td>\n",
       "      <td>4.114223</td>\n",
       "      <td>-0.314093</td>\n",
       "      <td>-0.816497</td>\n",
       "      <td>0.816497</td>\n",
       "      <td>-0.312785</td>\n",
       "      <td>-0.191498</td>\n",
       "      <td>2.162331</td>\n",
       "      <td>-0.273059</td>\n",
       "      <td>-0.330808</td>\n",
       "      <td>-0.239904</td>\n",
       "      <td>-0.497873</td>\n",
       "      <td>-0.533821</td>\n",
       "      <td>-0.244625</td>\n",
       "      <td>-0.534873</td>\n",
       "      <td>-0.918921</td>\n",
       "      <td>1.458650</td>\n",
       "      <td>-1.591746</td>\n",
       "      <td>1.591746</td>\n",
       "    </tr>\n",
       "    <tr>\n",
       "      <th>3</th>\n",
       "      <td>-0.429664</td>\n",
       "      <td>1.461466</td>\n",
       "      <td>-0.764121</td>\n",
       "      <td>1.061787</td>\n",
       "      <td>1.169781</td>\n",
       "      <td>-0.486709</td>\n",
       "      <td>0.379672</td>\n",
       "      <td>-0.961486</td>\n",
       "      <td>0.246200</td>\n",
       "      <td>-0.763634</td>\n",
       "      <td>1.243211</td>\n",
       "      <td>-0.678049</td>\n",
       "      <td>-1.150554</td>\n",
       "      <td>-0.426230</td>\n",
       "      <td>0.266233</td>\n",
       "      <td>-0.932014</td>\n",
       "      <td>-0.421642</td>\n",
       "      <td>0.155707</td>\n",
       "      <td>0.338096</td>\n",
       "      <td>0.161947</td>\n",
       "      <td>0.764998</td>\n",
       "      <td>0.252146</td>\n",
       "      <td>-1.155935</td>\n",
       "      <td>-0.3371</td>\n",
       "      <td>2.075297</td>\n",
       "      <td>-1.562889</td>\n",
       "      <td>-0.211604</td>\n",
       "      <td>0.727775</td>\n",
       "      <td>-0.659960</td>\n",
       "      <td>-0.136788</td>\n",
       "      <td>1.194045</td>\n",
       "      <td>-0.348255</td>\n",
       "      <td>-0.679141</td>\n",
       "      <td>-0.243059</td>\n",
       "      <td>-0.314093</td>\n",
       "      <td>1.224745</td>\n",
       "      <td>-1.224745</td>\n",
       "      <td>-0.312785</td>\n",
       "      <td>-0.191498</td>\n",
       "      <td>-0.462464</td>\n",
       "      <td>-0.273059</td>\n",
       "      <td>-0.330808</td>\n",
       "      <td>-0.239904</td>\n",
       "      <td>2.008543</td>\n",
       "      <td>-0.533821</td>\n",
       "      <td>-0.244625</td>\n",
       "      <td>-0.534873</td>\n",
       "      <td>1.088232</td>\n",
       "      <td>-0.685565</td>\n",
       "      <td>-1.591746</td>\n",
       "      <td>1.591746</td>\n",
       "    </tr>\n",
       "    <tr>\n",
       "      <th>4</th>\n",
       "      <td>-1.086676</td>\n",
       "      <td>-0.524295</td>\n",
       "      <td>-0.887515</td>\n",
       "      <td>-1.868426</td>\n",
       "      <td>-1.575686</td>\n",
       "      <td>-1.274014</td>\n",
       "      <td>0.379672</td>\n",
       "      <td>-0.961486</td>\n",
       "      <td>-0.660853</td>\n",
       "      <td>-0.644858</td>\n",
       "      <td>0.325900</td>\n",
       "      <td>2.525591</td>\n",
       "      <td>-0.877232</td>\n",
       "      <td>-0.426230</td>\n",
       "      <td>1.191438</td>\n",
       "      <td>0.241988</td>\n",
       "      <td>-0.678774</td>\n",
       "      <td>0.155707</td>\n",
       "      <td>0.338096</td>\n",
       "      <td>-0.817734</td>\n",
       "      <td>-0.615492</td>\n",
       "      <td>-0.058285</td>\n",
       "      <td>-0.595227</td>\n",
       "      <td>-0.3371</td>\n",
       "      <td>-0.481859</td>\n",
       "      <td>0.639841</td>\n",
       "      <td>-0.211604</td>\n",
       "      <td>0.727775</td>\n",
       "      <td>-0.659960</td>\n",
       "      <td>-0.136788</td>\n",
       "      <td>-0.837490</td>\n",
       "      <td>-0.348255</td>\n",
       "      <td>1.472448</td>\n",
       "      <td>-0.243059</td>\n",
       "      <td>-0.314093</td>\n",
       "      <td>-0.816497</td>\n",
       "      <td>0.816497</td>\n",
       "      <td>-0.312785</td>\n",
       "      <td>-0.191498</td>\n",
       "      <td>2.162331</td>\n",
       "      <td>-0.273059</td>\n",
       "      <td>-0.330808</td>\n",
       "      <td>-0.239904</td>\n",
       "      <td>-0.497873</td>\n",
       "      <td>-0.533821</td>\n",
       "      <td>-0.244625</td>\n",
       "      <td>-0.534873</td>\n",
       "      <td>1.088232</td>\n",
       "      <td>-0.685565</td>\n",
       "      <td>0.628241</td>\n",
       "      <td>-0.628241</td>\n",
       "    </tr>\n",
       "  </tbody>\n",
       "</table>\n",
       "</div>"
      ],
      "text/plain": [
       "        Age  DailyRate  DistanceFromHome  Education  EnvironmentSatisfaction  \\\n",
       "0  0.446350   0.742527         -1.010909  -0.891688                -0.660531   \n",
       "1  1.322365  -1.297775         -0.147150  -1.868426                 0.254625   \n",
       "2  0.008343   1.414363         -0.887515  -0.891688                 1.169781   \n",
       "3 -0.429664   1.461466         -0.764121   1.061787                 1.169781   \n",
       "4 -1.086676  -0.524295         -0.887515  -1.868426                -1.575686   \n",
       "\n",
       "   HourlyRate  JobInvolvement  JobLevel  JobSatisfaction  MonthlyIncome  \\\n",
       "0    1.383138        0.379672 -0.057788         1.153254      -0.108350   \n",
       "1   -0.240677       -1.026167 -0.057788        -0.660853      -0.291719   \n",
       "2    1.284725       -1.026167 -0.961486         0.246200      -0.937654   \n",
       "3   -0.486709        0.379672 -0.961486         0.246200      -0.763634   \n",
       "4   -1.274014        0.379672 -0.961486        -0.660853      -0.644858   \n",
       "\n",
       "   MonthlyRate  NumCompaniesWorked  PercentSalaryHike  PerformanceRating  \\\n",
       "0     0.726020            2.125136          -1.150554          -0.426230   \n",
       "1     1.488876           -0.678049           2.129306           2.346151   \n",
       "2    -1.674841            1.324226          -0.057267          -0.426230   \n",
       "3     1.243211           -0.678049          -1.150554          -0.426230   \n",
       "4     0.325900            2.525591          -0.877232          -0.426230   \n",
       "\n",
       "   RelationshipSatisfaction  StockOptionLevel  TotalWorkingYears  \\\n",
       "0                 -1.584178         -0.932014          -0.421642   \n",
       "1                  1.191438          0.241988          -0.164511   \n",
       "2                 -0.658973         -0.932014          -0.550208   \n",
       "3                  0.266233         -0.932014          -0.421642   \n",
       "4                  1.191438          0.241988          -0.678774   \n",
       "\n",
       "   TrainingTimesLastYear  WorkLifeBalance  YearsAtCompany  YearsInCurrentRole  \\\n",
       "0              -2.171982        -2.493820       -0.164613           -0.063296   \n",
       "1               0.155707         0.338096        0.488508            0.764998   \n",
       "2               0.155707         0.338096       -1.144294           -1.167687   \n",
       "3               0.155707         0.338096        0.161947            0.764998   \n",
       "4               0.155707         0.338096       -0.817734           -0.615492   \n",
       "\n",
       "   YearsSinceLastPromotion  YearsWithCurrManager  BusinessTravel_Non-Travel  \\\n",
       "0                -0.679146              0.245834                    -0.3371   \n",
       "1                -0.368715              0.806541                    -0.3371   \n",
       "2                -0.679146             -1.155935                    -0.3371   \n",
       "3                 0.252146             -1.155935                    -0.3371   \n",
       "4                -0.058285             -0.595227                    -0.3371   \n",
       "\n",
       "   BusinessTravel_Travel_Frequently  BusinessTravel_Travel_Rarely  \\\n",
       "0                         -0.481859                      0.639841   \n",
       "1                          2.075297                     -1.562889   \n",
       "2                         -0.481859                      0.639841   \n",
       "3                          2.075297                     -1.562889   \n",
       "4                         -0.481859                      0.639841   \n",
       "\n",
       "   Department_Human Resources  Department_Research & Development  \\\n",
       "0                   -0.211604                          -1.374051   \n",
       "1                   -0.211604                           0.727775   \n",
       "2                   -0.211604                           0.727775   \n",
       "3                   -0.211604                           0.727775   \n",
       "4                   -0.211604                           0.727775   \n",
       "\n",
       "   Department_Sales  EducationField_Human Resources  \\\n",
       "0          1.515244                       -0.136788   \n",
       "1         -0.659960                       -0.136788   \n",
       "2         -0.659960                       -0.136788   \n",
       "3         -0.659960                       -0.136788   \n",
       "4         -0.659960                       -0.136788   \n",
       "\n",
       "   EducationField_Life Sciences  EducationField_Marketing  \\\n",
       "0                      1.194045                 -0.348255   \n",
       "1                      1.194045                 -0.348255   \n",
       "2                     -0.837490                 -0.348255   \n",
       "3                      1.194045                 -0.348255   \n",
       "4                     -0.837490                 -0.348255   \n",
       "\n",
       "   EducationField_Medical  EducationField_Other  \\\n",
       "0               -0.679141             -0.243059   \n",
       "1               -0.679141             -0.243059   \n",
       "2               -0.679141              4.114223   \n",
       "3               -0.679141             -0.243059   \n",
       "4                1.472448             -0.243059   \n",
       "\n",
       "   EducationField_Technical Degree  Gender_Female  Gender_Male  \\\n",
       "0                        -0.314093       1.224745    -1.224745   \n",
       "1                        -0.314093      -0.816497     0.816497   \n",
       "2                        -0.314093      -0.816497     0.816497   \n",
       "3                        -0.314093       1.224745    -1.224745   \n",
       "4                        -0.314093      -0.816497     0.816497   \n",
       "\n",
       "   JobRole_Healthcare Representative  JobRole_Human Resources  \\\n",
       "0                          -0.312785                -0.191498   \n",
       "1                          -0.312785                -0.191498   \n",
       "2                          -0.312785                -0.191498   \n",
       "3                          -0.312785                -0.191498   \n",
       "4                          -0.312785                -0.191498   \n",
       "\n",
       "   JobRole_Laboratory Technician  JobRole_Manager  \\\n",
       "0                      -0.462464        -0.273059   \n",
       "1                      -0.462464        -0.273059   \n",
       "2                       2.162331        -0.273059   \n",
       "3                      -0.462464        -0.273059   \n",
       "4                       2.162331        -0.273059   \n",
       "\n",
       "   JobRole_Manufacturing Director  JobRole_Research Director  \\\n",
       "0                       -0.330808                  -0.239904   \n",
       "1                       -0.330808                  -0.239904   \n",
       "2                       -0.330808                  -0.239904   \n",
       "3                       -0.330808                  -0.239904   \n",
       "4                       -0.330808                  -0.239904   \n",
       "\n",
       "   JobRole_Research Scientist  JobRole_Sales Executive  \\\n",
       "0                   -0.497873                 1.873287   \n",
       "1                    2.008543                -0.533821   \n",
       "2                   -0.497873                -0.533821   \n",
       "3                    2.008543                -0.533821   \n",
       "4                   -0.497873                -0.533821   \n",
       "\n",
       "   JobRole_Sales Representative  MaritalStatus_Divorced  \\\n",
       "0                     -0.244625               -0.534873   \n",
       "1                     -0.244625               -0.534873   \n",
       "2                     -0.244625               -0.534873   \n",
       "3                     -0.244625               -0.534873   \n",
       "4                     -0.244625               -0.534873   \n",
       "\n",
       "   MaritalStatus_Married  MaritalStatus_Single  OverTime_No  OverTime_Yes  \n",
       "0              -0.918921              1.458650    -1.591746      1.591746  \n",
       "1               1.088232             -0.685565     0.628241     -0.628241  \n",
       "2              -0.918921              1.458650    -1.591746      1.591746  \n",
       "3               1.088232             -0.685565    -1.591746      1.591746  \n",
       "4               1.088232             -0.685565     0.628241     -0.628241  "
      ]
     },
     "execution_count": 81,
     "metadata": {},
     "output_type": "execute_result"
    }
   ],
   "source": [
    "X_scaled = pd.DataFrame(data = sc.transform(X), columns = X.columns)\n",
    "\n",
    "X_scaled.head()"
   ]
  },
  {
   "cell_type": "markdown",
   "id": "presidential-characteristic",
   "metadata": {
    "papermill": {
     "duration": 0.180328,
     "end_time": "2021-05-05T08:27:42.769943",
     "exception": false,
     "start_time": "2021-05-05T08:27:42.589615",
     "status": "completed"
    },
    "tags": []
   },
   "source": [
    "#### spliting train and test data"
   ]
  },
  {
   "cell_type": "code",
   "execution_count": 82,
   "id": "abstract-statement",
   "metadata": {
    "execution": {
     "iopub.execute_input": "2021-05-05T08:27:43.113976Z",
     "iopub.status.busy": "2021-05-05T08:27:43.113275Z",
     "iopub.status.idle": "2021-05-05T08:27:43.119554Z",
     "shell.execute_reply": "2021-05-05T08:27:43.120088Z"
    },
    "papermill": {
     "duration": 0.180054,
     "end_time": "2021-05-05T08:27:43.120271",
     "exception": false,
     "start_time": "2021-05-05T08:27:42.940217",
     "status": "completed"
    },
    "tags": []
   },
   "outputs": [],
   "source": [
    "X_train, X_test, y_train, y_test = train_test_split(X_scaled, y, test_size=0.3, random_state=123)"
   ]
  },
  {
   "cell_type": "code",
   "execution_count": 83,
   "id": "built-reform",
   "metadata": {
    "execution": {
     "iopub.execute_input": "2021-05-05T08:27:43.469956Z",
     "iopub.status.busy": "2021-05-05T08:27:43.469053Z",
     "iopub.status.idle": "2021-05-05T08:27:43.475178Z",
     "shell.execute_reply": "2021-05-05T08:27:43.475658Z"
    },
    "papermill": {
     "duration": 0.181325,
     "end_time": "2021-05-05T08:27:43.475864",
     "exception": false,
     "start_time": "2021-05-05T08:27:43.294539",
     "status": "completed"
    },
    "tags": []
   },
   "outputs": [
    {
     "data": {
      "text/plain": [
       "0    849\n",
       "1    180\n",
       "Name: Attrition, dtype: int64"
      ]
     },
     "execution_count": 83,
     "metadata": {},
     "output_type": "execute_result"
    }
   ],
   "source": [
    "y_train.value_counts()"
   ]
  },
  {
   "cell_type": "code",
   "execution_count": 84,
   "id": "mature-broad",
   "metadata": {
    "execution": {
     "iopub.execute_input": "2021-05-05T08:27:43.832997Z",
     "iopub.status.busy": "2021-05-05T08:27:43.832293Z",
     "iopub.status.idle": "2021-05-05T08:27:43.836507Z",
     "shell.execute_reply": "2021-05-05T08:27:43.837010Z"
    },
    "papermill": {
     "duration": 0.187363,
     "end_time": "2021-05-05T08:27:43.837207",
     "exception": false,
     "start_time": "2021-05-05T08:27:43.649844",
     "status": "completed"
    },
    "tags": []
   },
   "outputs": [],
   "source": [
    "def metrics(y_true,y_pred):\n",
    "    print('Confusion Matrix:\\n', confusion_matrix(y_true, y_pred))\n",
    "    print('\\n\\nAccuracy Score:\\n', accuracy_score(y_true, y_pred))\n",
    "    print('\\n\\nClassification Report: \\n', classification_report(y_true, y_pred))"
   ]
  },
  {
   "cell_type": "markdown",
   "id": "mechanical-cyprus",
   "metadata": {
    "papermill": {
     "duration": 0.18148,
     "end_time": "2021-05-05T08:27:44.228294",
     "exception": false,
     "start_time": "2021-05-05T08:27:44.046814",
     "status": "completed"
    },
    "tags": []
   },
   "source": [
    "#### Modelling"
   ]
  },
  {
   "cell_type": "code",
   "execution_count": 85,
   "id": "curious-story",
   "metadata": {
    "execution": {
     "iopub.execute_input": "2021-05-05T08:27:44.599203Z",
     "iopub.status.busy": "2021-05-05T08:27:44.598447Z",
     "iopub.status.idle": "2021-05-05T08:27:44.643165Z",
     "shell.execute_reply": "2021-05-05T08:27:44.644149Z"
    },
    "papermill": {
     "duration": 0.22868,
     "end_time": "2021-05-05T08:27:44.644469",
     "exception": false,
     "start_time": "2021-05-05T08:27:44.415789",
     "status": "completed"
    },
    "tags": []
   },
   "outputs": [
    {
     "data": {
      "text/plain": [
       "LogisticRegression()"
      ]
     },
     "execution_count": 85,
     "metadata": {},
     "output_type": "execute_result"
    }
   ],
   "source": [
    "lg = LogisticRegression()\n",
    "\n",
    "lg.fit(X_train, y_train)"
   ]
  },
  {
   "cell_type": "code",
   "execution_count": 86,
   "id": "disciplinary-object",
   "metadata": {
    "execution": {
     "iopub.execute_input": "2021-05-05T08:27:45.056280Z",
     "iopub.status.busy": "2021-05-05T08:27:45.055119Z",
     "iopub.status.idle": "2021-05-05T08:27:45.063607Z",
     "shell.execute_reply": "2021-05-05T08:27:45.064512Z"
    },
    "papermill": {
     "duration": 0.18917,
     "end_time": "2021-05-05T08:27:45.064810",
     "exception": false,
     "start_time": "2021-05-05T08:27:44.875640",
     "status": "completed"
    },
    "tags": []
   },
   "outputs": [],
   "source": [
    "train_pred = lg.predict(X_train)\n",
    "\n",
    "test_pred = lg.predict(X_test)"
   ]
  },
  {
   "cell_type": "code",
   "execution_count": 87,
   "id": "nervous-crime",
   "metadata": {
    "execution": {
     "iopub.execute_input": "2021-05-05T08:27:45.478498Z",
     "iopub.status.busy": "2021-05-05T08:27:45.477473Z",
     "iopub.status.idle": "2021-05-05T08:27:45.491836Z",
     "shell.execute_reply": "2021-05-05T08:27:45.491154Z"
    },
    "papermill": {
     "duration": 0.19749,
     "end_time": "2021-05-05T08:27:45.492001",
     "exception": false,
     "start_time": "2021-05-05T08:27:45.294511",
     "status": "completed"
    },
    "tags": []
   },
   "outputs": [
    {
     "name": "stdout",
     "output_type": "stream",
     "text": [
      "Train Metrics\n",
      "Confusion Matrix:\n",
      " [[826  23]\n",
      " [ 97  83]]\n",
      "\n",
      "\n",
      "Accuracy Score:\n",
      " 0.8833819241982507\n",
      "\n",
      "\n",
      "Classification Report: \n",
      "               precision    recall  f1-score   support\n",
      "\n",
      "           0       0.89      0.97      0.93       849\n",
      "           1       0.78      0.46      0.58       180\n",
      "\n",
      "    accuracy                           0.88      1029\n",
      "   macro avg       0.84      0.72      0.76      1029\n",
      "weighted avg       0.88      0.88      0.87      1029\n",
      "\n"
     ]
    }
   ],
   "source": [
    "print('Train Metrics')\n",
    "metrics(y_train, train_pred)"
   ]
  },
  {
   "cell_type": "code",
   "execution_count": 88,
   "id": "aerial-grain",
   "metadata": {
    "execution": {
     "iopub.execute_input": "2021-05-05T08:27:45.855315Z",
     "iopub.status.busy": "2021-05-05T08:27:45.854301Z",
     "iopub.status.idle": "2021-05-05T08:27:45.866600Z",
     "shell.execute_reply": "2021-05-05T08:27:45.867309Z"
    },
    "papermill": {
     "duration": 0.196358,
     "end_time": "2021-05-05T08:27:45.867566",
     "exception": false,
     "start_time": "2021-05-05T08:27:45.671208",
     "status": "completed"
    },
    "tags": []
   },
   "outputs": [
    {
     "name": "stdout",
     "output_type": "stream",
     "text": [
      "Test Metrics\n",
      "Confusion Matrix:\n",
      " [[372  12]\n",
      " [ 25  32]]\n",
      "\n",
      "\n",
      "Accuracy Score:\n",
      " 0.9160997732426304\n",
      "\n",
      "\n",
      "Classification Report: \n",
      "               precision    recall  f1-score   support\n",
      "\n",
      "           0       0.94      0.97      0.95       384\n",
      "           1       0.73      0.56      0.63        57\n",
      "\n",
      "    accuracy                           0.92       441\n",
      "   macro avg       0.83      0.77      0.79       441\n",
      "weighted avg       0.91      0.92      0.91       441\n",
      "\n"
     ]
    }
   ],
   "source": [
    "print('Test Metrics')\n",
    "metrics(y_test, test_pred)"
   ]
  },
  {
   "cell_type": "code",
   "execution_count": 89,
   "id": "alternative-armenia",
   "metadata": {
    "execution": {
     "iopub.execute_input": "2021-05-05T08:27:46.227945Z",
     "iopub.status.busy": "2021-05-05T08:27:46.226871Z",
     "iopub.status.idle": "2021-05-05T08:27:46.445672Z",
     "shell.execute_reply": "2021-05-05T08:27:46.446281Z"
    },
    "papermill": {
     "duration": 0.406191,
     "end_time": "2021-05-05T08:27:46.446481",
     "exception": false,
     "start_time": "2021-05-05T08:27:46.040290",
     "status": "completed"
    },
    "tags": []
   },
   "outputs": [
    {
     "data": {
      "text/plain": [
       "<sklearn.metrics._plot.roc_curve.RocCurveDisplay at 0x7f9a5d3541d0>"
      ]
     },
     "execution_count": 89,
     "metadata": {},
     "output_type": "execute_result"
    },
    {
     "data": {
      "image/png": "[encoded data removed]",
      "text/plain": [
       "<Figure size 432x288 with 1 Axes>"
      ]
     },
     "metadata": {
      "needs_background": "light"
     },
     "output_type": "display_data"
    }
   ],
   "source": [
    "plot_roc_curve(lg, X_train, y_train)"
   ]
  },
  {
   "cell_type": "markdown",
   "id": "ceramic-stability",
   "metadata": {
    "papermill": {
     "duration": 0.173748,
     "end_time": "2021-05-05T08:27:46.807860",
     "exception": false,
     "start_time": "2021-05-05T08:27:46.634112",
     "status": "completed"
    },
    "tags": []
   },
   "source": [
    "#### KNN"
   ]
  },
  {
   "cell_type": "code",
   "execution_count": 90,
   "id": "engaged-meaning",
   "metadata": {
    "execution": {
     "iopub.execute_input": "2021-05-05T08:27:47.157622Z",
     "iopub.status.busy": "2021-05-05T08:27:47.157015Z",
     "iopub.status.idle": "2021-05-05T08:27:47.166500Z",
     "shell.execute_reply": "2021-05-05T08:27:47.166001Z"
    },
    "papermill": {
     "duration": 0.185948,
     "end_time": "2021-05-05T08:27:47.166641",
     "exception": false,
     "start_time": "2021-05-05T08:27:46.980693",
     "status": "completed"
    },
    "tags": []
   },
   "outputs": [
    {
     "data": {
      "text/plain": [
       "KNeighborsClassifier(n_jobs=-1)"
      ]
     },
     "execution_count": 90,
     "metadata": {},
     "output_type": "execute_result"
    }
   ],
   "source": [
    "knn = KNeighborsClassifier(n_neighbors=5,n_jobs=-1)\n",
    "\n",
    "knn.fit(X_train, y_train)"
   ]
  },
  {
   "cell_type": "code",
   "execution_count": 91,
   "id": "ancient-heaven",
   "metadata": {
    "execution": {
     "iopub.execute_input": "2021-05-05T08:27:47.521171Z",
     "iopub.status.busy": "2021-05-05T08:27:47.520444Z",
     "iopub.status.idle": "2021-05-05T08:27:47.875611Z",
     "shell.execute_reply": "2021-05-05T08:27:47.876250Z"
    },
    "papermill": {
     "duration": 0.53802,
     "end_time": "2021-05-05T08:27:47.876462",
     "exception": false,
     "start_time": "2021-05-05T08:27:47.338442",
     "status": "completed"
    },
    "tags": []
   },
   "outputs": [],
   "source": [
    "train_pred_knn = knn.predict(X_train)\n",
    "\n",
    "test_pred_knn = knn.predict(X_test)"
   ]
  },
  {
   "cell_type": "code",
   "execution_count": 92,
   "id": "fourth-arlington",
   "metadata": {
    "execution": {
     "iopub.execute_input": "2021-05-05T08:27:48.243669Z",
     "iopub.status.busy": "2021-05-05T08:27:48.243057Z",
     "iopub.status.idle": "2021-05-05T08:27:48.259100Z",
     "shell.execute_reply": "2021-05-05T08:27:48.258534Z"
    },
    "papermill": {
     "duration": 0.194308,
     "end_time": "2021-05-05T08:27:48.259242",
     "exception": false,
     "start_time": "2021-05-05T08:27:48.064934",
     "status": "completed"
    },
    "tags": []
   },
   "outputs": [
    {
     "name": "stdout",
     "output_type": "stream",
     "text": [
      "Train Metrics\n",
      "Confusion Matrix:\n",
      " [[838  11]\n",
      " [129  51]]\n",
      "\n",
      "\n",
      "Accuracy Score:\n",
      " 0.8639455782312925\n",
      "\n",
      "\n",
      "Classification Report: \n",
      "               precision    recall  f1-score   support\n",
      "\n",
      "           0       0.87      0.99      0.92       849\n",
      "           1       0.82      0.28      0.42       180\n",
      "\n",
      "    accuracy                           0.86      1029\n",
      "   macro avg       0.84      0.64      0.67      1029\n",
      "weighted avg       0.86      0.86      0.84      1029\n",
      "\n"
     ]
    }
   ],
   "source": [
    "print('Train Metrics')\n",
    "\n",
    "metrics(y_train, train_pred_knn)"
   ]
  },
  {
   "cell_type": "code",
   "execution_count": 93,
   "id": "juvenile-teaching",
   "metadata": {
    "execution": {
     "iopub.execute_input": "2021-05-05T08:27:48.616967Z",
     "iopub.status.busy": "2021-05-05T08:27:48.616191Z",
     "iopub.status.idle": "2021-05-05T08:27:48.630798Z",
     "shell.execute_reply": "2021-05-05T08:27:48.630060Z"
    },
    "papermill": {
     "duration": 0.1957,
     "end_time": "2021-05-05T08:27:48.630946",
     "exception": false,
     "start_time": "2021-05-05T08:27:48.435246",
     "status": "completed"
    },
    "tags": []
   },
   "outputs": [
    {
     "name": "stdout",
     "output_type": "stream",
     "text": [
      "Test Metrics\n",
      "Confusion Matrix:\n",
      " [[377   7]\n",
      " [ 43  14]]\n",
      "\n",
      "\n",
      "Accuracy Score:\n",
      " 0.8866213151927438\n",
      "\n",
      "\n",
      "Classification Report: \n",
      "               precision    recall  f1-score   support\n",
      "\n",
      "           0       0.90      0.98      0.94       384\n",
      "           1       0.67      0.25      0.36        57\n",
      "\n",
      "    accuracy                           0.89       441\n",
      "   macro avg       0.78      0.61      0.65       441\n",
      "weighted avg       0.87      0.89      0.86       441\n",
      "\n"
     ]
    }
   ],
   "source": [
    "print('Test Metrics')\n",
    "\n",
    "metrics(y_test, test_pred_knn)"
   ]
  },
  {
   "cell_type": "code",
   "execution_count": 94,
   "id": "brutal-copyright",
   "metadata": {
    "execution": {
     "iopub.execute_input": "2021-05-05T08:27:48.994444Z",
     "iopub.status.busy": "2021-05-05T08:27:48.993679Z",
     "iopub.status.idle": "2021-05-05T08:27:49.321605Z",
     "shell.execute_reply": "2021-05-05T08:27:49.320518Z"
    },
    "papermill": {
     "duration": 0.515334,
     "end_time": "2021-05-05T08:27:49.322032",
     "exception": false,
     "start_time": "2021-05-05T08:27:48.806698",
     "status": "completed"
    },
    "tags": []
   },
   "outputs": [
    {
     "data": {
      "text/plain": [
       "<sklearn.metrics._plot.roc_curve.RocCurveDisplay at 0x7f9a5d3f9610>"
      ]
     },
     "execution_count": 94,
     "metadata": {},
     "output_type": "execute_result"
    },
    {
     "data": {
      "image/png": "[encoded data removed]",
      "text/plain": [
       "<Figure size 432x288 with 1 Axes>"
      ]
     },
     "metadata": {
      "needs_background": "light"
     },
     "output_type": "display_data"
    }
   ],
   "source": [
    "plot_roc_curve(knn, X_train, y_train)"
   ]
  },
  {
   "cell_type": "code",
   "execution_count": 95,
   "id": "graphic-saturn",
   "metadata": {
    "execution": {
     "iopub.execute_input": "2021-05-05T08:27:49.706530Z",
     "iopub.status.busy": "2021-05-05T08:27:49.704049Z",
     "iopub.status.idle": "2021-05-05T08:27:55.665883Z",
     "shell.execute_reply": "2021-05-05T08:27:55.665280Z"
    },
    "papermill": {
     "duration": 6.150561,
     "end_time": "2021-05-05T08:27:55.666039",
     "exception": false,
     "start_time": "2021-05-05T08:27:49.515478",
     "status": "completed"
    },
    "tags": []
   },
   "outputs": [],
   "source": [
    "error_rate = []\n",
    "\n",
    "# Will take some time\n",
    "for i in range(1,40):\n",
    "    \n",
    "    knn = KNeighborsClassifier(n_neighbors=i, n_jobs=-1)\n",
    "    knn.fit(X_train,y_train)\n",
    "    pred_i = knn.predict(X_test)\n",
    "    error_rate.append(np.mean(pred_i != y_test))"
   ]
  },
  {
   "cell_type": "code",
   "execution_count": 96,
   "id": "first-poetry",
   "metadata": {
    "execution": {
     "iopub.execute_input": "2021-05-05T08:27:56.058144Z",
     "iopub.status.busy": "2021-05-05T08:27:56.054235Z",
     "iopub.status.idle": "2021-05-05T08:27:56.250085Z",
     "shell.execute_reply": "2021-05-05T08:27:56.249289Z"
    },
    "papermill": {
     "duration": 0.398376,
     "end_time": "2021-05-05T08:27:56.250254",
     "exception": false,
     "start_time": "2021-05-05T08:27:55.851878",
     "status": "completed"
    },
    "tags": []
   },
   "outputs": [
    {
     "data": {
      "text/plain": [
       "Text(0, 0.5, 'Error Rate')"
      ]
     },
     "execution_count": 96,
     "metadata": {},
     "output_type": "execute_result"
    },
    {
     "data": {
      "image/png": "[encoded data removed]",
      "text/plain": [
       "<Figure size 720x432 with 1 Axes>"
      ]
     },
     "metadata": {
      "needs_background": "light"
     },
     "output_type": "display_data"
    }
   ],
   "source": [
    "plt.figure(figsize=(10,6))\n",
    "plt.plot(range(1,40),error_rate,color='blue', linestyle='dashed', marker='o',\n",
    "         markerfacecolor='red', markersize=10)\n",
    "plt.title('Error Rate vs. K Value')\n",
    "plt.xlabel('K')\n",
    "plt.ylabel('Error Rate')"
   ]
  },
  {
   "cell_type": "code",
   "execution_count": 97,
   "id": "competitive-armenia",
   "metadata": {
    "execution": {
     "iopub.execute_input": "2021-05-05T08:27:56.617294Z",
     "iopub.status.busy": "2021-05-05T08:27:56.616437Z",
     "iopub.status.idle": "2021-05-05T08:27:56.620246Z",
     "shell.execute_reply": "2021-05-05T08:27:56.619518Z"
    },
    "papermill": {
     "duration": 0.191488,
     "end_time": "2021-05-05T08:27:56.620393",
     "exception": false,
     "start_time": "2021-05-05T08:27:56.428905",
     "status": "completed"
    },
    "tags": []
   },
   "outputs": [],
   "source": [
    "# n_neighbours 9 has lower error rate for test value, we can choose that"
   ]
  },
  {
   "cell_type": "code",
   "execution_count": 98,
   "id": "seeing-discount",
   "metadata": {
    "execution": {
     "iopub.execute_input": "2021-05-05T08:27:56.981182Z",
     "iopub.status.busy": "2021-05-05T08:27:56.980231Z",
     "iopub.status.idle": "2021-05-05T08:27:56.986218Z",
     "shell.execute_reply": "2021-05-05T08:27:56.985670Z"
    },
    "papermill": {
     "duration": 0.190171,
     "end_time": "2021-05-05T08:27:56.986353",
     "exception": false,
     "start_time": "2021-05-05T08:27:56.796182",
     "status": "completed"
    },
    "tags": []
   },
   "outputs": [
    {
     "data": {
      "text/plain": [
       "KNeighborsClassifier(n_jobs=-1, n_neighbors=9)"
      ]
     },
     "execution_count": 98,
     "metadata": {},
     "output_type": "execute_result"
    }
   ],
   "source": [
    "knn = KNeighborsClassifier(n_neighbors=9,n_jobs=-1)\n",
    "\n",
    "knn.fit(X_train, y_train)"
   ]
  },
  {
   "cell_type": "code",
   "execution_count": 99,
   "id": "parliamentary-aerospace",
   "metadata": {
    "execution": {
     "iopub.execute_input": "2021-05-05T08:27:57.356401Z",
     "iopub.status.busy": "2021-05-05T08:27:57.355209Z",
     "iopub.status.idle": "2021-05-05T08:27:57.697532Z",
     "shell.execute_reply": "2021-05-05T08:27:57.696863Z"
    },
    "papermill": {
     "duration": 0.526172,
     "end_time": "2021-05-05T08:27:57.697676",
     "exception": false,
     "start_time": "2021-05-05T08:27:57.171504",
     "status": "completed"
    },
    "tags": []
   },
   "outputs": [],
   "source": [
    "train_pred_knn = knn.predict(X_train)\n",
    "\n",
    "test_pred_knn = knn.predict(X_test)"
   ]
  },
  {
   "cell_type": "code",
   "execution_count": 100,
   "id": "short-jungle",
   "metadata": {
    "execution": {
     "iopub.execute_input": "2021-05-05T08:27:58.068031Z",
     "iopub.status.busy": "2021-05-05T08:27:58.066835Z",
     "iopub.status.idle": "2021-05-05T08:27:58.082770Z",
     "shell.execute_reply": "2021-05-05T08:27:58.083938Z"
    },
    "papermill": {
     "duration": 0.200322,
     "end_time": "2021-05-05T08:27:58.084213",
     "exception": false,
     "start_time": "2021-05-05T08:27:57.883891",
     "status": "completed"
    },
    "tags": []
   },
   "outputs": [
    {
     "name": "stdout",
     "output_type": "stream",
     "text": [
      "Train Metrics\n",
      "Confusion Matrix:\n",
      " [[843   6]\n",
      " [144  36]]\n",
      "\n",
      "\n",
      "Accuracy Score:\n",
      " 0.8542274052478134\n",
      "\n",
      "\n",
      "Classification Report: \n",
      "               precision    recall  f1-score   support\n",
      "\n",
      "           0       0.85      0.99      0.92       849\n",
      "           1       0.86      0.20      0.32       180\n",
      "\n",
      "    accuracy                           0.85      1029\n",
      "   macro avg       0.86      0.60      0.62      1029\n",
      "weighted avg       0.85      0.85      0.81      1029\n",
      "\n"
     ]
    }
   ],
   "source": [
    "print('Train Metrics')\n",
    "\n",
    "metrics(y_train, train_pred_knn)"
   ]
  },
  {
   "cell_type": "code",
   "execution_count": 101,
   "id": "statistical-biotechnology",
   "metadata": {
    "execution": {
     "iopub.execute_input": "2021-05-05T08:27:58.457626Z",
     "iopub.status.busy": "2021-05-05T08:27:58.456979Z",
     "iopub.status.idle": "2021-05-05T08:27:58.471590Z",
     "shell.execute_reply": "2021-05-05T08:27:58.470931Z"
    },
    "papermill": {
     "duration": 0.20334,
     "end_time": "2021-05-05T08:27:58.471756",
     "exception": false,
     "start_time": "2021-05-05T08:27:58.268416",
     "status": "completed"
    },
    "tags": []
   },
   "outputs": [
    {
     "name": "stdout",
     "output_type": "stream",
     "text": [
      "Test Metrics\n",
      "Confusion Matrix:\n",
      " [[382   2]\n",
      " [ 47  10]]\n",
      "\n",
      "\n",
      "Accuracy Score:\n",
      " 0.8888888888888888\n",
      "\n",
      "\n",
      "Classification Report: \n",
      "               precision    recall  f1-score   support\n",
      "\n",
      "           0       0.89      0.99      0.94       384\n",
      "           1       0.83      0.18      0.29        57\n",
      "\n",
      "    accuracy                           0.89       441\n",
      "   macro avg       0.86      0.59      0.61       441\n",
      "weighted avg       0.88      0.89      0.86       441\n",
      "\n"
     ]
    }
   ],
   "source": [
    "print('Test Metrics')\n",
    "\n",
    "metrics(y_test, test_pred_knn)"
   ]
  },
  {
   "cell_type": "markdown",
   "id": "lesser-shame",
   "metadata": {
    "papermill": {
     "duration": 0.183622,
     "end_time": "2021-05-05T08:27:58.836796",
     "exception": false,
     "start_time": "2021-05-05T08:27:58.653174",
     "status": "completed"
    },
    "tags": []
   },
   "source": [
    "#### Naive Bayes"
   ]
  },
  {
   "cell_type": "code",
   "execution_count": 102,
   "id": "sharing-intention",
   "metadata": {
    "execution": {
     "iopub.execute_input": "2021-05-05T08:27:59.211428Z",
     "iopub.status.busy": "2021-05-05T08:27:59.210670Z",
     "iopub.status.idle": "2021-05-05T08:27:59.218610Z",
     "shell.execute_reply": "2021-05-05T08:27:59.217954Z"
    },
    "papermill": {
     "duration": 0.196598,
     "end_time": "2021-05-05T08:27:59.218775",
     "exception": false,
     "start_time": "2021-05-05T08:27:59.022177",
     "status": "completed"
    },
    "tags": []
   },
   "outputs": [
    {
     "data": {
      "text/plain": [
       "GaussianNB()"
      ]
     },
     "execution_count": 102,
     "metadata": {},
     "output_type": "execute_result"
    }
   ],
   "source": [
    "gb = GaussianNB()\n",
    "\n",
    "gb.fit(X_train, y_train)"
   ]
  },
  {
   "cell_type": "code",
   "execution_count": 103,
   "id": "scientific-dollar",
   "metadata": {
    "execution": {
     "iopub.execute_input": "2021-05-05T08:27:59.596024Z",
     "iopub.status.busy": "2021-05-05T08:27:59.594884Z",
     "iopub.status.idle": "2021-05-05T08:27:59.603800Z",
     "shell.execute_reply": "2021-05-05T08:27:59.603094Z"
    },
    "papermill": {
     "duration": 0.205401,
     "end_time": "2021-05-05T08:27:59.603951",
     "exception": false,
     "start_time": "2021-05-05T08:27:59.398550",
     "status": "completed"
    },
    "tags": []
   },
   "outputs": [],
   "source": [
    "train_pred_gb = gb.predict(X_train)\n",
    "\n",
    "test_pred_gb = gb.predict(X_test)"
   ]
  },
  {
   "cell_type": "code",
   "execution_count": 104,
   "id": "little-investigation",
   "metadata": {
    "execution": {
     "iopub.execute_input": "2021-05-05T08:27:59.989523Z",
     "iopub.status.busy": "2021-05-05T08:27:59.988785Z",
     "iopub.status.idle": "2021-05-05T08:28:00.005760Z",
     "shell.execute_reply": "2021-05-05T08:28:00.005083Z"
    },
    "papermill": {
     "duration": 0.208073,
     "end_time": "2021-05-05T08:28:00.005906",
     "exception": false,
     "start_time": "2021-05-05T08:27:59.797833",
     "status": "completed"
    },
    "tags": []
   },
   "outputs": [
    {
     "name": "stdout",
     "output_type": "stream",
     "text": [
      "Train Metrics\n",
      "Confusion Matrix:\n",
      " [[576 273]\n",
      " [ 41 139]]\n",
      "\n",
      "\n",
      "Accuracy Score:\n",
      " 0.6948493683187561\n",
      "\n",
      "\n",
      "Classification Report: \n",
      "               precision    recall  f1-score   support\n",
      "\n",
      "           0       0.93      0.68      0.79       849\n",
      "           1       0.34      0.77      0.47       180\n",
      "\n",
      "    accuracy                           0.69      1029\n",
      "   macro avg       0.64      0.73      0.63      1029\n",
      "weighted avg       0.83      0.69      0.73      1029\n",
      "\n"
     ]
    }
   ],
   "source": [
    "print('Train Metrics')\n",
    "\n",
    "metrics(y_train, train_pred_gb)"
   ]
  },
  {
   "cell_type": "code",
   "execution_count": 105,
   "id": "affecting-celebrity",
   "metadata": {
    "execution": {
     "iopub.execute_input": "2021-05-05T08:28:00.394220Z",
     "iopub.status.busy": "2021-05-05T08:28:00.393502Z",
     "iopub.status.idle": "2021-05-05T08:28:00.407172Z",
     "shell.execute_reply": "2021-05-05T08:28:00.408076Z"
    },
    "papermill": {
     "duration": 0.216536,
     "end_time": "2021-05-05T08:28:00.408416",
     "exception": false,
     "start_time": "2021-05-05T08:28:00.191880",
     "status": "completed"
    },
    "tags": []
   },
   "outputs": [
    {
     "name": "stdout",
     "output_type": "stream",
     "text": [
      "Test Metrics\n",
      "Confusion Matrix:\n",
      " [[279 105]\n",
      " [ 12  45]]\n",
      "\n",
      "\n",
      "Accuracy Score:\n",
      " 0.7346938775510204\n",
      "\n",
      "\n",
      "Classification Report: \n",
      "               precision    recall  f1-score   support\n",
      "\n",
      "           0       0.96      0.73      0.83       384\n",
      "           1       0.30      0.79      0.43        57\n",
      "\n",
      "    accuracy                           0.73       441\n",
      "   macro avg       0.63      0.76      0.63       441\n",
      "weighted avg       0.87      0.73      0.78       441\n",
      "\n"
     ]
    }
   ],
   "source": [
    "print('Test Metrics')\n",
    "\n",
    "metrics(y_test, test_pred_gb)"
   ]
  },
  {
   "cell_type": "markdown",
   "id": "organized-engineer",
   "metadata": {
    "papermill": {
     "duration": 0.194089,
     "end_time": "2021-05-05T08:28:00.804188",
     "exception": false,
     "start_time": "2021-05-05T08:28:00.610099",
     "status": "completed"
    },
    "tags": []
   },
   "source": [
    "####  SMote "
   ]
  },
  {
   "cell_type": "code",
   "execution_count": 106,
   "id": "tutorial-mason",
   "metadata": {
    "execution": {
     "iopub.execute_input": "2021-05-05T08:28:01.199202Z",
     "iopub.status.busy": "2021-05-05T08:28:01.198512Z",
     "iopub.status.idle": "2021-05-05T08:28:01.202765Z",
     "shell.execute_reply": "2021-05-05T08:28:01.202090Z"
    },
    "papermill": {
     "duration": 0.209752,
     "end_time": "2021-05-05T08:28:01.202914",
     "exception": false,
     "start_time": "2021-05-05T08:28:00.993162",
     "status": "completed"
    },
    "tags": []
   },
   "outputs": [],
   "source": [
    "sm = SMOTETomek(sampling_strategy=0.5,n_jobs=-1)"
   ]
  },
  {
   "cell_type": "code",
   "execution_count": 107,
   "id": "tribal-lucas",
   "metadata": {
    "execution": {
     "iopub.execute_input": "2021-05-05T08:28:01.596867Z",
     "iopub.status.busy": "2021-05-05T08:28:01.591885Z",
     "iopub.status.idle": "2021-05-05T08:28:01.768985Z",
     "shell.execute_reply": "2021-05-05T08:28:01.770370Z"
    },
    "papermill": {
     "duration": 0.382044,
     "end_time": "2021-05-05T08:28:01.770823",
     "exception": false,
     "start_time": "2021-05-05T08:28:01.388779",
     "status": "completed"
    },
    "tags": []
   },
   "outputs": [
    {
     "name": "stdout",
     "output_type": "stream",
     "text": [
      "The Number of class before the fit \n",
      " 0    849\n",
      "1    180\n",
      "Name: Attrition, dtype: int64\n",
      "The Number of class after the fit \n",
      " 0    841\n",
      "1    416\n",
      "Name: Attrition, dtype: int64\n"
     ]
    }
   ],
   "source": [
    "X_train_sm, y_train_sm = sm.fit_resample(X_train, y_train)\n",
    "\n",
    "print(f'The Number of class before the fit \\n {y_train.value_counts()}')\n",
    "\n",
    "print(f'The Number of class after the fit \\n {y_train_sm.value_counts()}')"
   ]
  },
  {
   "cell_type": "code",
   "execution_count": 108,
   "id": "seven-cologne",
   "metadata": {
    "execution": {
     "iopub.execute_input": "2021-05-05T08:28:02.156523Z",
     "iopub.status.busy": "2021-05-05T08:28:02.155876Z",
     "iopub.status.idle": "2021-05-05T08:28:02.160199Z",
     "shell.execute_reply": "2021-05-05T08:28:02.160698Z"
    },
    "papermill": {
     "duration": 0.197304,
     "end_time": "2021-05-05T08:28:02.160918",
     "exception": false,
     "start_time": "2021-05-05T08:28:01.963614",
     "status": "completed"
    },
    "tags": []
   },
   "outputs": [
    {
     "data": {
      "text/plain": [
       "(1029, 51)"
      ]
     },
     "execution_count": 108,
     "metadata": {},
     "output_type": "execute_result"
    }
   ],
   "source": [
    "X_train.shape"
   ]
  },
  {
   "cell_type": "code",
   "execution_count": 109,
   "id": "fitting-retirement",
   "metadata": {
    "execution": {
     "iopub.execute_input": "2021-05-05T08:28:02.553439Z",
     "iopub.status.busy": "2021-05-05T08:28:02.552403Z",
     "iopub.status.idle": "2021-05-05T08:28:02.556482Z",
     "shell.execute_reply": "2021-05-05T08:28:02.556959Z"
    },
    "papermill": {
     "duration": 0.205061,
     "end_time": "2021-05-05T08:28:02.557160",
     "exception": false,
     "start_time": "2021-05-05T08:28:02.352099",
     "status": "completed"
    },
    "tags": []
   },
   "outputs": [
    {
     "data": {
      "text/plain": [
       "(1257, 51)"
      ]
     },
     "execution_count": 109,
     "metadata": {},
     "output_type": "execute_result"
    }
   ],
   "source": [
    "X_train_sm.shape"
   ]
  },
  {
   "cell_type": "code",
   "execution_count": 110,
   "id": "periodic-matter",
   "metadata": {
    "execution": {
     "iopub.execute_input": "2021-05-05T08:28:02.949208Z",
     "iopub.status.busy": "2021-05-05T08:28:02.948496Z",
     "iopub.status.idle": "2021-05-05T08:28:02.998950Z",
     "shell.execute_reply": "2021-05-05T08:28:03.000324Z"
    },
    "papermill": {
     "duration": 0.254817,
     "end_time": "2021-05-05T08:28:03.000621",
     "exception": false,
     "start_time": "2021-05-05T08:28:02.745804",
     "status": "completed"
    },
    "tags": []
   },
   "outputs": [
    {
     "data": {
      "text/plain": [
       "LogisticRegression()"
      ]
     },
     "execution_count": 110,
     "metadata": {},
     "output_type": "execute_result"
    }
   ],
   "source": [
    "lg = LogisticRegression(max_iter=100)\n",
    "\n",
    "lg.fit(X_train_sm, y_train_sm)"
   ]
  },
  {
   "cell_type": "code",
   "execution_count": 111,
   "id": "pending-flood",
   "metadata": {
    "execution": {
     "iopub.execute_input": "2021-05-05T08:28:03.467585Z",
     "iopub.status.busy": "2021-05-05T08:28:03.466560Z",
     "iopub.status.idle": "2021-05-05T08:28:03.475387Z",
     "shell.execute_reply": "2021-05-05T08:28:03.475961Z"
    },
    "papermill": {
     "duration": 0.213473,
     "end_time": "2021-05-05T08:28:03.476156",
     "exception": false,
     "start_time": "2021-05-05T08:28:03.262683",
     "status": "completed"
    },
    "tags": []
   },
   "outputs": [],
   "source": [
    "train_pred = lg.predict(X_train_sm)\n",
    "\n",
    "test_pred = lg.predict(X_test)"
   ]
  },
  {
   "cell_type": "code",
   "execution_count": 112,
   "id": "heavy-record",
   "metadata": {
    "execution": {
     "iopub.execute_input": "2021-05-05T08:28:03.913605Z",
     "iopub.status.busy": "2021-05-05T08:28:03.912310Z",
     "iopub.status.idle": "2021-05-05T08:28:03.929247Z",
     "shell.execute_reply": "2021-05-05T08:28:03.928284Z"
    },
    "papermill": {
     "duration": 0.210534,
     "end_time": "2021-05-05T08:28:03.929414",
     "exception": false,
     "start_time": "2021-05-05T08:28:03.718880",
     "status": "completed"
    },
    "tags": []
   },
   "outputs": [
    {
     "name": "stdout",
     "output_type": "stream",
     "text": [
      "Test Metrics\n",
      "Confusion Matrix:\n",
      " [[340  44]\n",
      " [ 19  38]]\n",
      "\n",
      "\n",
      "Accuracy Score:\n",
      " 0.8571428571428571\n",
      "\n",
      "\n",
      "Classification Report: \n",
      "               precision    recall  f1-score   support\n",
      "\n",
      "           0       0.95      0.89      0.92       384\n",
      "           1       0.46      0.67      0.55        57\n",
      "\n",
      "    accuracy                           0.86       441\n",
      "   macro avg       0.71      0.78      0.73       441\n",
      "weighted avg       0.88      0.86      0.87       441\n",
      "\n"
     ]
    }
   ],
   "source": [
    "print('Test Metrics')\n",
    "\n",
    "metrics(y_test, test_pred)"
   ]
  },
  {
   "cell_type": "code",
   "execution_count": 113,
   "id": "hairy-beaver",
   "metadata": {
    "execution": {
     "iopub.execute_input": "2021-05-05T08:28:04.328460Z",
     "iopub.status.busy": "2021-05-05T08:28:04.325333Z",
     "iopub.status.idle": "2021-05-05T08:28:04.344856Z",
     "shell.execute_reply": "2021-05-05T08:28:04.344196Z"
    },
    "papermill": {
     "duration": 0.216954,
     "end_time": "2021-05-05T08:28:04.345002",
     "exception": false,
     "start_time": "2021-05-05T08:28:04.128048",
     "status": "completed"
    },
    "tags": []
   },
   "outputs": [
    {
     "name": "stdout",
     "output_type": "stream",
     "text": [
      "Train Metrics\n",
      "Confusion Matrix:\n",
      " [[745  96]\n",
      " [135 281]]\n",
      "\n",
      "\n",
      "Accuracy Score:\n",
      " 0.8162291169451074\n",
      "\n",
      "\n",
      "Classification Report: \n",
      "               precision    recall  f1-score   support\n",
      "\n",
      "           0       0.85      0.89      0.87       841\n",
      "           1       0.75      0.68      0.71       416\n",
      "\n",
      "    accuracy                           0.82      1257\n",
      "   macro avg       0.80      0.78      0.79      1257\n",
      "weighted avg       0.81      0.82      0.81      1257\n",
      "\n"
     ]
    }
   ],
   "source": [
    "print('Train Metrics')\n",
    "metrics(y_train_sm,train_pred)"
   ]
  },
  {
   "cell_type": "markdown",
   "id": "positive-indianapolis",
   "metadata": {
    "papermill": {
     "duration": 0.194292,
     "end_time": "2021-05-05T08:28:04.729188",
     "exception": false,
     "start_time": "2021-05-05T08:28:04.534896",
     "status": "completed"
    },
    "tags": []
   },
   "source": [
    "### Conclusion:\n",
    "* Logistics Regression model gave better result.\n",
    "* SMOTE implemented Logistics model gave a slight improvement  Recall and Precision Score"
   ]
  },
  {
   "cell_type": "markdown",
   "id": "hollow-peripheral",
   "metadata": {
    "papermill": {
     "duration": 0.200959,
     "end_time": "2021-05-05T08:28:05.131159",
     "exception": false,
     "start_time": "2021-05-05T08:28:04.930200",
     "status": "completed"
    },
    "tags": []
   },
   "source": [
    "### Decision Tree"
   ]
  },
  {
   "cell_type": "code",
   "execution_count": 114,
   "id": "arranged-coach",
   "metadata": {
    "execution": {
     "iopub.execute_input": "2021-05-05T08:28:05.531267Z",
     "iopub.status.busy": "2021-05-05T08:28:05.530615Z",
     "iopub.status.idle": "2021-05-05T08:28:05.534384Z",
     "shell.execute_reply": "2021-05-05T08:28:05.533682Z"
    },
    "papermill": {
     "duration": 0.200159,
     "end_time": "2021-05-05T08:28:05.534536",
     "exception": false,
     "start_time": "2021-05-05T08:28:05.334377",
     "status": "completed"
    },
    "tags": []
   },
   "outputs": [],
   "source": [
    "dtree = DecisionTreeClassifier()"
   ]
  },
  {
   "cell_type": "code",
   "execution_count": 115,
   "id": "drawn-jersey",
   "metadata": {
    "execution": {
     "iopub.execute_input": "2021-05-05T08:28:05.974071Z",
     "iopub.status.busy": "2021-05-05T08:28:05.973208Z",
     "iopub.status.idle": "2021-05-05T08:28:06.019576Z",
     "shell.execute_reply": "2021-05-05T08:28:06.021161Z"
    },
    "papermill": {
     "duration": 0.285131,
     "end_time": "2021-05-05T08:28:06.021402",
     "exception": false,
     "start_time": "2021-05-05T08:28:05.736271",
     "status": "completed"
    },
    "tags": []
   },
   "outputs": [
    {
     "name": "stdout",
     "output_type": "stream",
     "text": [
      "Confusion Matrix:\n",
      " [[340  44]\n",
      " [ 38  19]]\n",
      "\n",
      "\n",
      "Accuracy Score:\n",
      " 0.8140589569160998\n",
      "\n",
      "\n",
      "Classification Report: \n",
      "               precision    recall  f1-score   support\n",
      "\n",
      "           0       0.90      0.89      0.89       384\n",
      "           1       0.30      0.33      0.32        57\n",
      "\n",
      "    accuracy                           0.81       441\n",
      "   macro avg       0.60      0.61      0.60       441\n",
      "weighted avg       0.82      0.81      0.82       441\n",
      "\n"
     ]
    }
   ],
   "source": [
    "dtree.fit(X_train, y_train)\n",
    "\n",
    "train_pred_tr = dtree.predict(X_train)\n",
    "\n",
    "test_pred_tr = dtree.predict(X_test)\n",
    "\n",
    "metrics(y_test,test_pred_tr)"
   ]
  },
  {
   "cell_type": "code",
   "execution_count": 116,
   "id": "endless-emperor",
   "metadata": {
    "execution": {
     "iopub.execute_input": "2021-05-05T08:28:06.429048Z",
     "iopub.status.busy": "2021-05-05T08:28:06.428320Z",
     "iopub.status.idle": "2021-05-05T08:28:06.444609Z",
     "shell.execute_reply": "2021-05-05T08:28:06.443704Z"
    },
    "papermill": {
     "duration": 0.22132,
     "end_time": "2021-05-05T08:28:06.444839",
     "exception": false,
     "start_time": "2021-05-05T08:28:06.223519",
     "status": "completed"
    },
    "tags": []
   },
   "outputs": [
    {
     "name": "stdout",
     "output_type": "stream",
     "text": [
      "Confusion Matrix:\n",
      " [[849   0]\n",
      " [  0 180]]\n",
      "\n",
      "\n",
      "Accuracy Score:\n",
      " 1.0\n",
      "\n",
      "\n",
      "Classification Report: \n",
      "               precision    recall  f1-score   support\n",
      "\n",
      "           0       1.00      1.00      1.00       849\n",
      "           1       1.00      1.00      1.00       180\n",
      "\n",
      "    accuracy                           1.00      1029\n",
      "   macro avg       1.00      1.00      1.00      1029\n",
      "weighted avg       1.00      1.00      1.00      1029\n",
      "\n"
     ]
    }
   ],
   "source": [
    "metrics(y_train, train_pred_tr)\n",
    "\n",
    "#Decision Tree Results in Over fitting"
   ]
  },
  {
   "cell_type": "markdown",
   "id": "smooth-document",
   "metadata": {
    "papermill": {
     "duration": 0.187034,
     "end_time": "2021-05-05T08:28:06.825869",
     "exception": false,
     "start_time": "2021-05-05T08:28:06.638835",
     "status": "completed"
    },
    "tags": []
   },
   "source": [
    "### Bagging "
   ]
  },
  {
   "cell_type": "code",
   "execution_count": 117,
   "id": "decent-lotus",
   "metadata": {
    "execution": {
     "iopub.execute_input": "2021-05-05T08:28:07.210339Z",
     "iopub.status.busy": "2021-05-05T08:28:07.209678Z",
     "iopub.status.idle": "2021-05-05T08:28:07.213219Z",
     "shell.execute_reply": "2021-05-05T08:28:07.212673Z"
    },
    "papermill": {
     "duration": 0.192768,
     "end_time": "2021-05-05T08:28:07.213365",
     "exception": false,
     "start_time": "2021-05-05T08:28:07.020597",
     "status": "completed"
    },
    "tags": []
   },
   "outputs": [],
   "source": [
    "bag = BaggingClassifier(base_estimator=dtree)"
   ]
  },
  {
   "cell_type": "code",
   "execution_count": 118,
   "id": "invalid-george",
   "metadata": {
    "execution": {
     "iopub.execute_input": "2021-05-05T08:28:07.589121Z",
     "iopub.status.busy": "2021-05-05T08:28:07.588412Z",
     "iopub.status.idle": "2021-05-05T08:28:07.713837Z",
     "shell.execute_reply": "2021-05-05T08:28:07.713295Z"
    },
    "papermill": {
     "duration": 0.318557,
     "end_time": "2021-05-05T08:28:07.714006",
     "exception": false,
     "start_time": "2021-05-05T08:28:07.395449",
     "status": "completed"
    },
    "tags": []
   },
   "outputs": [
    {
     "name": "stdout",
     "output_type": "stream",
     "text": [
      "Confusion Matrix:\n",
      " [[379   5]\n",
      " [ 39  18]]\n",
      "\n",
      "\n",
      "Accuracy Score:\n",
      " 0.9002267573696145\n",
      "\n",
      "\n",
      "Classification Report: \n",
      "               precision    recall  f1-score   support\n",
      "\n",
      "           0       0.91      0.99      0.95       384\n",
      "           1       0.78      0.32      0.45        57\n",
      "\n",
      "    accuracy                           0.90       441\n",
      "   macro avg       0.84      0.65      0.70       441\n",
      "weighted avg       0.89      0.90      0.88       441\n",
      "\n"
     ]
    }
   ],
   "source": [
    "bag.fit(X_train, y_train)\n",
    "\n",
    "train_pred_bag = bag.predict(X_train)\n",
    "\n",
    "test_pred_bag = bag.predict(X_test)\n",
    "\n",
    "metrics(y_test,test_pred_bag)"
   ]
  },
  {
   "cell_type": "code",
   "execution_count": 119,
   "id": "breathing-roulette",
   "metadata": {
    "execution": {
     "iopub.execute_input": "2021-05-05T08:28:08.092620Z",
     "iopub.status.busy": "2021-05-05T08:28:08.091872Z",
     "iopub.status.idle": "2021-05-05T08:28:08.107031Z",
     "shell.execute_reply": "2021-05-05T08:28:08.108054Z"
    },
    "papermill": {
     "duration": 0.206086,
     "end_time": "2021-05-05T08:28:08.108315",
     "exception": false,
     "start_time": "2021-05-05T08:28:07.902229",
     "status": "completed"
    },
    "tags": []
   },
   "outputs": [
    {
     "name": "stdout",
     "output_type": "stream",
     "text": [
      "Confusion Matrix:\n",
      " [[849   0]\n",
      " [ 19 161]]\n",
      "\n",
      "\n",
      "Accuracy Score:\n",
      " 0.9815354713313897\n",
      "\n",
      "\n",
      "Classification Report: \n",
      "               precision    recall  f1-score   support\n",
      "\n",
      "           0       0.98      1.00      0.99       849\n",
      "           1       1.00      0.89      0.94       180\n",
      "\n",
      "    accuracy                           0.98      1029\n",
      "   macro avg       0.99      0.95      0.97      1029\n",
      "weighted avg       0.98      0.98      0.98      1029\n",
      "\n"
     ]
    }
   ],
   "source": [
    "metrics(y_train, train_pred_bag)"
   ]
  },
  {
   "cell_type": "markdown",
   "id": "latest-millennium",
   "metadata": {
    "papermill": {
     "duration": 0.187784,
     "end_time": "2021-05-05T08:28:08.479314",
     "exception": false,
     "start_time": "2021-05-05T08:28:08.291530",
     "status": "completed"
    },
    "tags": []
   },
   "source": [
    "### Random Forest"
   ]
  },
  {
   "cell_type": "code",
   "execution_count": 120,
   "id": "ultimate-junction",
   "metadata": {
    "execution": {
     "iopub.execute_input": "2021-05-05T08:28:08.867231Z",
     "iopub.status.busy": "2021-05-05T08:28:08.866539Z",
     "iopub.status.idle": "2021-05-05T08:28:08.872102Z",
     "shell.execute_reply": "2021-05-05T08:28:08.871254Z"
    },
    "papermill": {
     "duration": 0.203102,
     "end_time": "2021-05-05T08:28:08.872300",
     "exception": false,
     "start_time": "2021-05-05T08:28:08.669198",
     "status": "completed"
    },
    "tags": []
   },
   "outputs": [],
   "source": [
    "rf = RandomForestClassifier()"
   ]
  },
  {
   "cell_type": "code",
   "execution_count": 121,
   "id": "thermal-athens",
   "metadata": {
    "execution": {
     "iopub.execute_input": "2021-05-05T08:28:09.259898Z",
     "iopub.status.busy": "2021-05-05T08:28:09.258862Z",
     "iopub.status.idle": "2021-05-05T08:28:09.624164Z",
     "shell.execute_reply": "2021-05-05T08:28:09.624651Z"
    },
    "papermill": {
     "duration": 0.555211,
     "end_time": "2021-05-05T08:28:09.624844",
     "exception": false,
     "start_time": "2021-05-05T08:28:09.069633",
     "status": "completed"
    },
    "tags": []
   },
   "outputs": [
    {
     "name": "stdout",
     "output_type": "stream",
     "text": [
      "Confusion Matrix:\n",
      " [[383   1]\n",
      " [ 43  14]]\n",
      "\n",
      "\n",
      "Accuracy Score:\n",
      " 0.9002267573696145\n",
      "\n",
      "\n",
      "Classification Report: \n",
      "               precision    recall  f1-score   support\n",
      "\n",
      "           0       0.90      1.00      0.95       384\n",
      "           1       0.93      0.25      0.39        57\n",
      "\n",
      "    accuracy                           0.90       441\n",
      "   macro avg       0.92      0.62      0.67       441\n",
      "weighted avg       0.90      0.90      0.87       441\n",
      "\n"
     ]
    }
   ],
   "source": [
    "rf.fit(X_train, y_train)\n",
    "\n",
    "train_pred_rf = rf.predict(X_train)\n",
    "\n",
    "test_pred_rf = rf.predict(X_test)\n",
    "\n",
    "metrics(y_test,test_pred_rf)"
   ]
  },
  {
   "cell_type": "markdown",
   "id": "educational-cylinder",
   "metadata": {
    "papermill": {
     "duration": 0.188357,
     "end_time": "2021-05-05T08:28:09.996349",
     "exception": false,
     "start_time": "2021-05-05T08:28:09.807992",
     "status": "completed"
    },
    "tags": []
   },
   "source": [
    "### ADABoost"
   ]
  },
  {
   "cell_type": "code",
   "execution_count": 122,
   "id": "enormous-alpha",
   "metadata": {
    "execution": {
     "iopub.execute_input": "2021-05-05T08:28:10.371817Z",
     "iopub.status.busy": "2021-05-05T08:28:10.370840Z",
     "iopub.status.idle": "2021-05-05T08:28:10.374828Z",
     "shell.execute_reply": "2021-05-05T08:28:10.375314Z"
    },
    "papermill": {
     "duration": 0.193723,
     "end_time": "2021-05-05T08:28:10.375497",
     "exception": false,
     "start_time": "2021-05-05T08:28:10.181774",
     "status": "completed"
    },
    "tags": []
   },
   "outputs": [],
   "source": [
    "ada = AdaBoostClassifier()"
   ]
  },
  {
   "cell_type": "code",
   "execution_count": 123,
   "id": "premium-syria",
   "metadata": {
    "execution": {
     "iopub.execute_input": "2021-05-05T08:28:10.755367Z",
     "iopub.status.busy": "2021-05-05T08:28:10.754394Z",
     "iopub.status.idle": "2021-05-05T08:28:10.986923Z",
     "shell.execute_reply": "2021-05-05T08:28:10.986367Z"
    },
    "papermill": {
     "duration": 0.425997,
     "end_time": "2021-05-05T08:28:10.987070",
     "exception": false,
     "start_time": "2021-05-05T08:28:10.561073",
     "status": "completed"
    },
    "tags": []
   },
   "outputs": [
    {
     "name": "stdout",
     "output_type": "stream",
     "text": [
      "Confusion Matrix:\n",
      " [[372  12]\n",
      " [ 25  32]]\n",
      "\n",
      "\n",
      "Accuracy Score:\n",
      " 0.9160997732426304\n",
      "\n",
      "\n",
      "Classification Report: \n",
      "               precision    recall  f1-score   support\n",
      "\n",
      "           0       0.94      0.97      0.95       384\n",
      "           1       0.73      0.56      0.63        57\n",
      "\n",
      "    accuracy                           0.92       441\n",
      "   macro avg       0.83      0.77      0.79       441\n",
      "weighted avg       0.91      0.92      0.91       441\n",
      "\n"
     ]
    }
   ],
   "source": [
    "ada.fit(X_train, y_train)\n",
    "\n",
    "train_pred_ada = ada.predict(X_train)\n",
    "\n",
    "test_pred_ada = ada.predict(X_test)\n",
    "\n",
    "metrics(y_test,test_pred_ada)"
   ]
  },
  {
   "cell_type": "markdown",
   "id": "nasty-password",
   "metadata": {
    "papermill": {
     "duration": 0.199754,
     "end_time": "2021-05-05T08:28:11.398286",
     "exception": false,
     "start_time": "2021-05-05T08:28:11.198532",
     "status": "completed"
    },
    "tags": []
   },
   "source": [
    "#### Gradient Boosting"
   ]
  },
  {
   "cell_type": "code",
   "execution_count": 124,
   "id": "computational-conversion",
   "metadata": {
    "execution": {
     "iopub.execute_input": "2021-05-05T08:28:11.790447Z",
     "iopub.status.busy": "2021-05-05T08:28:11.789577Z",
     "iopub.status.idle": "2021-05-05T08:28:11.792489Z",
     "shell.execute_reply": "2021-05-05T08:28:11.791985Z"
    },
    "papermill": {
     "duration": 0.197748,
     "end_time": "2021-05-05T08:28:11.792634",
     "exception": false,
     "start_time": "2021-05-05T08:28:11.594886",
     "status": "completed"
    },
    "tags": []
   },
   "outputs": [],
   "source": [
    "gb = GradientBoostingClassifier()"
   ]
  },
  {
   "cell_type": "code",
   "execution_count": 125,
   "id": "collect-appearance",
   "metadata": {
    "execution": {
     "iopub.execute_input": "2021-05-05T08:28:12.183988Z",
     "iopub.status.busy": "2021-05-05T08:28:12.183229Z",
     "iopub.status.idle": "2021-05-05T08:28:12.609983Z",
     "shell.execute_reply": "2021-05-05T08:28:12.610451Z"
    },
    "papermill": {
     "duration": 0.624993,
     "end_time": "2021-05-05T08:28:12.610685",
     "exception": false,
     "start_time": "2021-05-05T08:28:11.985692",
     "status": "completed"
    },
    "tags": []
   },
   "outputs": [
    {
     "name": "stdout",
     "output_type": "stream",
     "text": [
      "Confusion Matrix:\n",
      " [[374  10]\n",
      " [ 39  18]]\n",
      "\n",
      "\n",
      "Accuracy Score:\n",
      " 0.8888888888888888\n",
      "\n",
      "\n",
      "Classification Report: \n",
      "               precision    recall  f1-score   support\n",
      "\n",
      "           0       0.91      0.97      0.94       384\n",
      "           1       0.64      0.32      0.42        57\n",
      "\n",
      "    accuracy                           0.89       441\n",
      "   macro avg       0.77      0.64      0.68       441\n",
      "weighted avg       0.87      0.89      0.87       441\n",
      "\n"
     ]
    }
   ],
   "source": [
    "gb.fit(X_train, y_train)\n",
    "\n",
    "train_pred_gb = gb.predict(X_train)\n",
    "\n",
    "test_pred_gb = gb.predict(X_test)\n",
    "\n",
    "metrics(y_test,test_pred_gb)"
   ]
  },
  {
   "cell_type": "markdown",
   "id": "presidential-partner",
   "metadata": {
    "papermill": {
     "duration": 0.204906,
     "end_time": "2021-05-05T08:28:13.015405",
     "exception": false,
     "start_time": "2021-05-05T08:28:12.810499",
     "status": "completed"
    },
    "tags": []
   },
   "source": [
    "#### XGBoost"
   ]
  },
  {
   "cell_type": "code",
   "execution_count": 126,
   "id": "entertaining-screening",
   "metadata": {
    "execution": {
     "iopub.execute_input": "2021-05-05T08:28:13.429490Z",
     "iopub.status.busy": "2021-05-05T08:28:13.428842Z",
     "iopub.status.idle": "2021-05-05T08:28:13.432515Z",
     "shell.execute_reply": "2021-05-05T08:28:13.431882Z"
    },
    "papermill": {
     "duration": 0.210186,
     "end_time": "2021-05-05T08:28:13.432660",
     "exception": false,
     "start_time": "2021-05-05T08:28:13.222474",
     "status": "completed"
    },
    "tags": []
   },
   "outputs": [],
   "source": [
    "xgb = XGBClassifier()"
   ]
  },
  {
   "cell_type": "code",
   "execution_count": 127,
   "id": "arranged-population",
   "metadata": {
    "execution": {
     "iopub.execute_input": "2021-05-05T08:28:13.827108Z",
     "iopub.status.busy": "2021-05-05T08:28:13.826417Z",
     "iopub.status.idle": "2021-05-05T08:28:14.087840Z",
     "shell.execute_reply": "2021-05-05T08:28:14.088520Z"
    },
    "papermill": {
     "duration": 0.460898,
     "end_time": "2021-05-05T08:28:14.088746",
     "exception": false,
     "start_time": "2021-05-05T08:28:13.627848",
     "status": "completed"
    },
    "tags": []
   },
   "outputs": [
    {
     "name": "stderr",
     "output_type": "stream",
     "text": [
      "/opt/conda/lib/python3.7/site-packages/xgboost/sklearn.py:888: UserWarning: The use of label encoder in XGBClassifier is deprecated and will be removed in a future release. To remove this warning, do the following: 1) Pass option use_label_encoder=False when constructing XGBClassifier object; and 2) Encode your labels (y) as integers starting with 0, i.e. 0, 1, 2, ..., [num_class - 1].\n",
      "  warnings.warn(label_encoder_deprecation_msg, UserWarning)\n"
     ]
    },
    {
     "name": "stdout",
     "output_type": "stream",
     "text": [
      "[08:28:13] WARNING: ../src/learner.cc:1061: Starting in XGBoost 1.3.0, the default evaluation metric used with the objective 'binary:logistic' was changed from 'error' to 'logloss'. Explicitly set eval_metric if you'd like to restore the old behavior.\n",
      "Confusion Matrix:\n",
      " [[373  11]\n",
      " [ 33  24]]\n",
      "\n",
      "\n",
      "Accuracy Score:\n",
      " 0.9002267573696145\n",
      "\n",
      "\n",
      "Classification Report: \n",
      "               precision    recall  f1-score   support\n",
      "\n",
      "           0       0.92      0.97      0.94       384\n",
      "           1       0.69      0.42      0.52        57\n",
      "\n",
      "    accuracy                           0.90       441\n",
      "   macro avg       0.80      0.70      0.73       441\n",
      "weighted avg       0.89      0.90      0.89       441\n",
      "\n"
     ]
    }
   ],
   "source": [
    "xgb.fit(X_train, y_train)\n",
    "\n",
    "train_pred_xgb = xgb.predict(X_train)\n",
    "\n",
    "test_pred_xgb = xgb.predict(X_test)\n",
    "\n",
    "metrics(y_test,test_pred_xgb)"
   ]
  },
  {
   "cell_type": "code",
   "execution_count": 128,
   "id": "manual-glenn",
   "metadata": {
    "execution": {
     "iopub.execute_input": "2021-05-05T08:28:14.481152Z",
     "iopub.status.busy": "2021-05-05T08:28:14.480497Z",
     "iopub.status.idle": "2021-05-05T08:28:14.485404Z",
     "shell.execute_reply": "2021-05-05T08:28:14.486013Z"
    },
    "papermill": {
     "duration": 0.202549,
     "end_time": "2021-05-05T08:28:14.486194",
     "exception": false,
     "start_time": "2021-05-05T08:28:14.283645",
     "status": "completed"
    },
    "tags": []
   },
   "outputs": [],
   "source": [
    "params = {\n",
    "    'learning_rate' : [0.02,0.05, 0.08],\n",
    "    'max_depth' : [3, 4, 5, 6, 8],\n",
    "    'min_child_weight': [1, 3, 5],\n",
    "    'gamma' : [0.0,0.1,0.2], #less than 1 make sure\n",
    "    'colsample_bytree':[0.3,0.4,0.5] #less than 1\n",
    "}"
   ]
  },
  {
   "cell_type": "code",
   "execution_count": 129,
   "id": "essential-bangkok",
   "metadata": {
    "execution": {
     "iopub.execute_input": "2021-05-05T08:28:14.873299Z",
     "iopub.status.busy": "2021-05-05T08:28:14.872574Z",
     "iopub.status.idle": "2021-05-05T08:28:14.876445Z",
     "shell.execute_reply": "2021-05-05T08:28:14.876941Z"
    },
    "papermill": {
     "duration": 0.199137,
     "end_time": "2021-05-05T08:28:14.877134",
     "exception": false,
     "start_time": "2021-05-05T08:28:14.677997",
     "status": "completed"
    },
    "tags": []
   },
   "outputs": [],
   "source": [
    "r_xgb = RandomizedSearchCV(xgb, params, n_jobs=-1, verbose=3)"
   ]
  },
  {
   "cell_type": "code",
   "execution_count": 130,
   "id": "simple-creature",
   "metadata": {
    "execution": {
     "iopub.execute_input": "2021-05-05T08:28:15.323967Z",
     "iopub.status.busy": "2021-05-05T08:28:15.322956Z",
     "iopub.status.idle": "2021-05-05T08:37:27.488580Z",
     "shell.execute_reply": "2021-05-05T08:37:27.486909Z"
    },
    "papermill": {
     "duration": 552.400597,
     "end_time": "2021-05-05T08:37:27.488762",
     "exception": false,
     "start_time": "2021-05-05T08:28:15.088165",
     "status": "completed"
    },
    "tags": []
   },
   "outputs": [
    {
     "name": "stdout",
     "output_type": "stream",
     "text": [
      "Fitting 5 folds for each of 10 candidates, totalling 50 fits\n",
      "[08:37:27] WARNING: ../src/learner.cc:1061: Starting in XGBoost 1.3.0, the default evaluation metric used with the objective 'binary:logistic' was changed from 'error' to 'logloss'. Explicitly set eval_metric if you'd like to restore the old behavior.\n"
     ]
    },
    {
     "name": "stderr",
     "output_type": "stream",
     "text": [
      "/opt/conda/lib/python3.7/site-packages/xgboost/sklearn.py:888: UserWarning: The use of label encoder in XGBClassifier is deprecated and will be removed in a future release. To remove this warning, do the following: 1) Pass option use_label_encoder=False when constructing XGBClassifier object; and 2) Encode your labels (y) as integers starting with 0, i.e. 0, 1, 2, ..., [num_class - 1].\n",
      "  warnings.warn(label_encoder_deprecation_msg, UserWarning)\n"
     ]
    },
    {
     "data": {
      "text/plain": [
       "RandomizedSearchCV(estimator=XGBClassifier(base_score=0.5, booster='gbtree',\n",
       "                                           colsample_bylevel=1,\n",
       "                                           colsample_bynode=1,\n",
       "                                           colsample_bytree=1, gamma=0,\n",
       "                                           gpu_id=-1, importance_type='gain',\n",
       "                                           interaction_constraints='',\n",
       "                                           learning_rate=0.300000012,\n",
       "                                           max_delta_step=0, max_depth=6,\n",
       "                                           min_child_weight=1, missing=nan,\n",
       "                                           monotone_constraints='()',\n",
       "                                           n_estimators=100, n_jobs=4,\n",
       "                                           num_parallel_tree=1, random_state=0,\n",
       "                                           reg_alpha=0, reg_lambda=1,\n",
       "                                           scale_pos_weight=1, subsample=1,\n",
       "                                           tree_method='exact',\n",
       "                                           validate_parameters=1,\n",
       "                                           verbosity=None),\n",
       "                   n_jobs=-1,\n",
       "                   param_distributions={'colsample_bytree': [0.3, 0.4, 0.5],\n",
       "                                        'gamma': [0.0, 0.1, 0.2],\n",
       "                                        'learning_rate': [0.02, 0.05, 0.08],\n",
       "                                        'max_depth': [3, 4, 5, 6, 8],\n",
       "                                        'min_child_weight': [1, 3, 5]},\n",
       "                   verbose=3)"
      ]
     },
     "execution_count": 130,
     "metadata": {},
     "output_type": "execute_result"
    }
   ],
   "source": [
    "r_xgb.fit(X_train, y_train)"
   ]
  },
  {
   "cell_type": "code",
   "execution_count": 131,
   "id": "continent-donor",
   "metadata": {
    "execution": {
     "iopub.execute_input": "2021-05-05T08:37:27.934219Z",
     "iopub.status.busy": "2021-05-05T08:37:27.933208Z",
     "iopub.status.idle": "2021-05-05T08:37:27.939825Z",
     "shell.execute_reply": "2021-05-05T08:37:27.938823Z"
    },
    "papermill": {
     "duration": 0.209822,
     "end_time": "2021-05-05T08:37:27.939995",
     "exception": false,
     "start_time": "2021-05-05T08:37:27.730173",
     "status": "completed"
    },
    "tags": []
   },
   "outputs": [
    {
     "data": {
      "text/plain": [
       "{'min_child_weight': 5,\n",
       " 'max_depth': 3,\n",
       " 'learning_rate': 0.08,\n",
       " 'gamma': 0.0,\n",
       " 'colsample_bytree': 0.3}"
      ]
     },
     "execution_count": 131,
     "metadata": {},
     "output_type": "execute_result"
    }
   ],
   "source": [
    "r_xgb.best_params_"
   ]
  },
  {
   "cell_type": "code",
   "execution_count": 132,
   "id": "perfect-stamp",
   "metadata": {
    "execution": {
     "iopub.execute_input": "2021-05-05T08:37:28.340555Z",
     "iopub.status.busy": "2021-05-05T08:37:28.339871Z",
     "iopub.status.idle": "2021-05-05T08:37:28.343113Z",
     "shell.execute_reply": "2021-05-05T08:37:28.343632Z"
    },
    "papermill": {
     "duration": 0.204885,
     "end_time": "2021-05-05T08:37:28.343836",
     "exception": false,
     "start_time": "2021-05-05T08:37:28.138951",
     "status": "completed"
    },
    "tags": []
   },
   "outputs": [],
   "source": [
    "best_xgb = XGBClassifier(min_child_weight = 5, max_depth = 4, learning_rate = 0.08, gamma =0.0, colsample_bytree = 0.3)"
   ]
  },
  {
   "cell_type": "code",
   "execution_count": 133,
   "id": "polish-juice",
   "metadata": {
    "execution": {
     "iopub.execute_input": "2021-05-05T08:37:28.735811Z",
     "iopub.status.busy": "2021-05-05T08:37:28.735146Z",
     "iopub.status.idle": "2021-05-05T08:37:28.852077Z",
     "shell.execute_reply": "2021-05-05T08:37:28.853279Z"
    },
    "papermill": {
     "duration": 0.316955,
     "end_time": "2021-05-05T08:37:28.853544",
     "exception": false,
     "start_time": "2021-05-05T08:37:28.536589",
     "status": "completed"
    },
    "tags": []
   },
   "outputs": [
    {
     "name": "stdout",
     "output_type": "stream",
     "text": [
      "[08:37:28] WARNING: ../src/learner.cc:1061: Starting in XGBoost 1.3.0, the default evaluation metric used with the objective 'binary:logistic' was changed from 'error' to 'logloss'. Explicitly set eval_metric if you'd like to restore the old behavior.\n",
      "Confusion Matrix:\n",
      " [[381   3]\n",
      " [ 35  22]]\n",
      "\n",
      "\n",
      "Accuracy Score:\n",
      " 0.9138321995464853\n",
      "\n",
      "\n",
      "Classification Report: \n",
      "               precision    recall  f1-score   support\n",
      "\n",
      "           0       0.92      0.99      0.95       384\n",
      "           1       0.88      0.39      0.54        57\n",
      "\n",
      "    accuracy                           0.91       441\n",
      "   macro avg       0.90      0.69      0.74       441\n",
      "weighted avg       0.91      0.91      0.90       441\n",
      "\n"
     ]
    }
   ],
   "source": [
    "best_xgb.fit(X_train, y_train)\n",
    "\n",
    "train_pred_xgb = best_xgb.predict(X_train)\n",
    "\n",
    "test_pred_xgb = best_xgb.predict(X_test)\n",
    "\n",
    "metrics(y_test,test_pred_xgb)"
   ]
  },
  {
   "cell_type": "markdown",
   "id": "destroyed-flesh",
   "metadata": {
    "papermill": {
     "duration": 0.194594,
     "end_time": "2021-05-05T08:37:29.248945",
     "exception": false,
     "start_time": "2021-05-05T08:37:29.054351",
     "status": "completed"
    },
    "tags": []
   },
   "source": [
    "#### Light GBM"
   ]
  },
  {
   "cell_type": "code",
   "execution_count": 134,
   "id": "loved-multimedia",
   "metadata": {
    "execution": {
     "iopub.execute_input": "2021-05-05T08:37:29.647595Z",
     "iopub.status.busy": "2021-05-05T08:37:29.646860Z",
     "iopub.status.idle": "2021-05-05T08:37:29.650698Z",
     "shell.execute_reply": "2021-05-05T08:37:29.651310Z"
    },
    "papermill": {
     "duration": 0.201082,
     "end_time": "2021-05-05T08:37:29.651498",
     "exception": false,
     "start_time": "2021-05-05T08:37:29.450416",
     "status": "completed"
    },
    "tags": []
   },
   "outputs": [],
   "source": [
    "lgm = LGBMClassifier()"
   ]
  },
  {
   "cell_type": "code",
   "execution_count": 135,
   "id": "partial-genetics",
   "metadata": {
    "execution": {
     "iopub.execute_input": "2021-05-05T08:37:30.084172Z",
     "iopub.status.busy": "2021-05-05T08:37:30.083111Z",
     "iopub.status.idle": "2021-05-05T08:37:30.316525Z",
     "shell.execute_reply": "2021-05-05T08:37:30.317125Z"
    },
    "papermill": {
     "duration": 0.459215,
     "end_time": "2021-05-05T08:37:30.317338",
     "exception": false,
     "start_time": "2021-05-05T08:37:29.858123",
     "status": "completed"
    },
    "tags": []
   },
   "outputs": [
    {
     "name": "stdout",
     "output_type": "stream",
     "text": [
      "Confusion Matrix:\n",
      " [[377   7]\n",
      " [ 36  21]]\n",
      "\n",
      "\n",
      "Accuracy Score:\n",
      " 0.9024943310657596\n",
      "\n",
      "\n",
      "Classification Report: \n",
      "               precision    recall  f1-score   support\n",
      "\n",
      "           0       0.91      0.98      0.95       384\n",
      "           1       0.75      0.37      0.49        57\n",
      "\n",
      "    accuracy                           0.90       441\n",
      "   macro avg       0.83      0.68      0.72       441\n",
      "weighted avg       0.89      0.90      0.89       441\n",
      "\n"
     ]
    }
   ],
   "source": [
    "lgm.fit(X_train, y_train)\n",
    "\n",
    "train_pred_lgm = lgm.predict(X_train)\n",
    "\n",
    "test_pred_lgm = lgm.predict(X_test)\n",
    "\n",
    "metrics(y_test,test_pred_lgm)"
   ]
  },
  {
   "cell_type": "markdown",
   "id": "attached-track",
   "metadata": {
    "papermill": {
     "duration": 0.214806,
     "end_time": "2021-05-05T08:37:30.758439",
     "exception": false,
     "start_time": "2021-05-05T08:37:30.543633",
     "status": "completed"
    },
    "tags": []
   },
   "source": [
    "#### CAT Boost"
   ]
  },
  {
   "cell_type": "code",
   "execution_count": 136,
   "id": "bored-grocery",
   "metadata": {
    "execution": {
     "iopub.execute_input": "2021-05-05T08:37:31.164680Z",
     "iopub.status.busy": "2021-05-05T08:37:31.163504Z",
     "iopub.status.idle": "2021-05-05T08:37:31.166888Z",
     "shell.execute_reply": "2021-05-05T08:37:31.167344Z"
    },
    "papermill": {
     "duration": 0.207168,
     "end_time": "2021-05-05T08:37:31.167525",
     "exception": false,
     "start_time": "2021-05-05T08:37:30.960357",
     "status": "completed"
    },
    "tags": []
   },
   "outputs": [],
   "source": [
    "cat = CatBoostClassifier()"
   ]
  },
  {
   "cell_type": "code",
   "execution_count": 137,
   "id": "diverse-drink",
   "metadata": {
    "execution": {
     "iopub.execute_input": "2021-05-05T08:37:31.567073Z",
     "iopub.status.busy": "2021-05-05T08:37:31.566043Z",
     "iopub.status.idle": "2021-05-05T08:37:34.814894Z",
     "shell.execute_reply": "2021-05-05T08:37:34.815617Z"
    },
    "papermill": {
     "duration": 3.454225,
     "end_time": "2021-05-05T08:37:34.815889",
     "exception": false,
     "start_time": "2021-05-05T08:37:31.361664",
     "status": "completed"
    },
    "tags": []
   },
   "outputs": [
    {
     "name": "stdout",
     "output_type": "stream",
     "text": [
      "Learning rate set to 0.010429\n",
      "0:\tlearn: 0.6870037\ttotal: 64.6ms\tremaining: 1m 4s\n",
      "1:\tlearn: 0.6810195\ttotal: 67.4ms\tremaining: 33.6s\n",
      "2:\tlearn: 0.6754830\ttotal: 69.6ms\tremaining: 23.1s\n",
      "3:\tlearn: 0.6679972\ttotal: 71.9ms\tremaining: 17.9s\n",
      "4:\tlearn: 0.6616733\ttotal: 74.1ms\tremaining: 14.7s\n",
      "5:\tlearn: 0.6553534\ttotal: 76.1ms\tremaining: 12.6s\n",
      "6:\tlearn: 0.6487974\ttotal: 78.3ms\tremaining: 11.1s\n",
      "7:\tlearn: 0.6433973\ttotal: 80.6ms\tremaining: 9.99s\n",
      "8:\tlearn: 0.6369479\ttotal: 83.3ms\tremaining: 9.17s\n",
      "9:\tlearn: 0.6313423\ttotal: 85.6ms\tremaining: 8.47s\n",
      "10:\tlearn: 0.6262910\ttotal: 87.8ms\tremaining: 7.9s\n",
      "11:\tlearn: 0.6213724\ttotal: 90.1ms\tremaining: 7.42s\n",
      "12:\tlearn: 0.6160788\ttotal: 92.2ms\tremaining: 7s\n",
      "13:\tlearn: 0.6109694\ttotal: 95ms\tremaining: 6.69s\n",
      "14:\tlearn: 0.6060496\ttotal: 97.5ms\tremaining: 6.4s\n",
      "15:\tlearn: 0.6008174\ttotal: 99.9ms\tremaining: 6.14s\n",
      "16:\tlearn: 0.5959430\ttotal: 103ms\tremaining: 5.94s\n",
      "17:\tlearn: 0.5900289\ttotal: 105ms\tremaining: 5.74s\n",
      "18:\tlearn: 0.5850544\ttotal: 108ms\tremaining: 5.56s\n",
      "19:\tlearn: 0.5808842\ttotal: 111ms\tremaining: 5.42s\n",
      "20:\tlearn: 0.5767370\ttotal: 114ms\tremaining: 5.29s\n",
      "21:\tlearn: 0.5723331\ttotal: 116ms\tremaining: 5.17s\n",
      "22:\tlearn: 0.5683625\ttotal: 119ms\tremaining: 5.07s\n",
      "23:\tlearn: 0.5634548\ttotal: 122ms\tremaining: 4.98s\n",
      "24:\tlearn: 0.5581330\ttotal: 125ms\tremaining: 4.88s\n",
      "25:\tlearn: 0.5533422\ttotal: 128ms\tremaining: 4.78s\n",
      "26:\tlearn: 0.5488384\ttotal: 130ms\tremaining: 4.68s\n",
      "27:\tlearn: 0.5450519\ttotal: 132ms\tremaining: 4.59s\n",
      "28:\tlearn: 0.5411195\ttotal: 135ms\tremaining: 4.51s\n",
      "29:\tlearn: 0.5378751\ttotal: 138ms\tremaining: 4.45s\n",
      "30:\tlearn: 0.5339657\ttotal: 140ms\tremaining: 4.37s\n",
      "31:\tlearn: 0.5299793\ttotal: 143ms\tremaining: 4.31s\n",
      "32:\tlearn: 0.5270862\ttotal: 145ms\tremaining: 4.25s\n",
      "33:\tlearn: 0.5232564\ttotal: 148ms\tremaining: 4.2s\n",
      "34:\tlearn: 0.5204921\ttotal: 150ms\tremaining: 4.14s\n",
      "35:\tlearn: 0.5169737\ttotal: 153ms\tremaining: 4.08s\n",
      "36:\tlearn: 0.5125921\ttotal: 156ms\tremaining: 4.05s\n",
      "37:\tlearn: 0.5087002\ttotal: 158ms\tremaining: 4.01s\n",
      "38:\tlearn: 0.5051052\ttotal: 161ms\tremaining: 3.98s\n",
      "39:\tlearn: 0.5021984\ttotal: 164ms\tremaining: 3.94s\n",
      "40:\tlearn: 0.4990373\ttotal: 167ms\tremaining: 3.9s\n",
      "41:\tlearn: 0.4965270\ttotal: 169ms\tremaining: 3.86s\n",
      "42:\tlearn: 0.4937949\ttotal: 172ms\tremaining: 3.84s\n",
      "43:\tlearn: 0.4909225\ttotal: 176ms\tremaining: 3.82s\n",
      "44:\tlearn: 0.4878551\ttotal: 180ms\tremaining: 3.81s\n",
      "45:\tlearn: 0.4843356\ttotal: 182ms\tremaining: 3.78s\n",
      "46:\tlearn: 0.4813968\ttotal: 185ms\tremaining: 3.75s\n",
      "47:\tlearn: 0.4788371\ttotal: 187ms\tremaining: 3.72s\n",
      "48:\tlearn: 0.4764146\ttotal: 191ms\tremaining: 3.7s\n",
      "49:\tlearn: 0.4739853\ttotal: 194ms\tremaining: 3.68s\n",
      "50:\tlearn: 0.4717077\ttotal: 197ms\tremaining: 3.66s\n",
      "51:\tlearn: 0.4693026\ttotal: 200ms\tremaining: 3.64s\n",
      "52:\tlearn: 0.4665554\ttotal: 203ms\tremaining: 3.62s\n",
      "53:\tlearn: 0.4641152\ttotal: 206ms\tremaining: 3.6s\n",
      "54:\tlearn: 0.4622110\ttotal: 209ms\tremaining: 3.58s\n",
      "55:\tlearn: 0.4592195\ttotal: 212ms\tremaining: 3.58s\n",
      "56:\tlearn: 0.4574010\ttotal: 215ms\tremaining: 3.56s\n",
      "57:\tlearn: 0.4550560\ttotal: 218ms\tremaining: 3.54s\n",
      "58:\tlearn: 0.4531250\ttotal: 221ms\tremaining: 3.53s\n",
      "59:\tlearn: 0.4504193\ttotal: 225ms\tremaining: 3.52s\n",
      "60:\tlearn: 0.4480466\ttotal: 228ms\tremaining: 3.5s\n",
      "61:\tlearn: 0.4462342\ttotal: 230ms\tremaining: 3.48s\n",
      "62:\tlearn: 0.4442244\ttotal: 233ms\tremaining: 3.46s\n",
      "63:\tlearn: 0.4418988\ttotal: 236ms\tremaining: 3.44s\n",
      "64:\tlearn: 0.4401285\ttotal: 238ms\tremaining: 3.42s\n",
      "65:\tlearn: 0.4383545\ttotal: 241ms\tremaining: 3.4s\n",
      "66:\tlearn: 0.4361387\ttotal: 243ms\tremaining: 3.39s\n",
      "67:\tlearn: 0.4351797\ttotal: 245ms\tremaining: 3.36s\n",
      "68:\tlearn: 0.4332030\ttotal: 248ms\tremaining: 3.35s\n",
      "69:\tlearn: 0.4311840\ttotal: 251ms\tremaining: 3.34s\n",
      "70:\tlearn: 0.4298628\ttotal: 254ms\tremaining: 3.32s\n",
      "71:\tlearn: 0.4278395\ttotal: 257ms\tremaining: 3.31s\n",
      "72:\tlearn: 0.4263741\ttotal: 259ms\tremaining: 3.29s\n",
      "73:\tlearn: 0.4242675\ttotal: 261ms\tremaining: 3.27s\n",
      "74:\tlearn: 0.4222492\ttotal: 264ms\tremaining: 3.25s\n",
      "75:\tlearn: 0.4201629\ttotal: 267ms\tremaining: 3.24s\n",
      "76:\tlearn: 0.4185887\ttotal: 269ms\tremaining: 3.23s\n",
      "77:\tlearn: 0.4167428\ttotal: 272ms\tremaining: 3.21s\n",
      "78:\tlearn: 0.4148977\ttotal: 274ms\tremaining: 3.2s\n",
      "79:\tlearn: 0.4133097\ttotal: 277ms\tremaining: 3.18s\n",
      "80:\tlearn: 0.4115723\ttotal: 279ms\tremaining: 3.17s\n",
      "81:\tlearn: 0.4100241\ttotal: 282ms\tremaining: 3.15s\n",
      "82:\tlearn: 0.4087753\ttotal: 285ms\tremaining: 3.15s\n",
      "83:\tlearn: 0.4071116\ttotal: 287ms\tremaining: 3.13s\n",
      "84:\tlearn: 0.4058918\ttotal: 290ms\tremaining: 3.12s\n",
      "85:\tlearn: 0.4043125\ttotal: 292ms\tremaining: 3.1s\n",
      "86:\tlearn: 0.4030649\ttotal: 295ms\tremaining: 3.09s\n",
      "87:\tlearn: 0.4013286\ttotal: 297ms\tremaining: 3.08s\n",
      "88:\tlearn: 0.3997753\ttotal: 299ms\tremaining: 3.06s\n",
      "89:\tlearn: 0.3985167\ttotal: 302ms\tremaining: 3.05s\n",
      "90:\tlearn: 0.3971577\ttotal: 304ms\tremaining: 3.04s\n",
      "91:\tlearn: 0.3951271\ttotal: 307ms\tremaining: 3.03s\n",
      "92:\tlearn: 0.3936119\ttotal: 309ms\tremaining: 3.02s\n",
      "93:\tlearn: 0.3923626\ttotal: 311ms\tremaining: 3s\n",
      "94:\tlearn: 0.3908723\ttotal: 314ms\tremaining: 3s\n",
      "95:\tlearn: 0.3895124\ttotal: 317ms\tremaining: 2.98s\n",
      "96:\tlearn: 0.3880923\ttotal: 319ms\tremaining: 2.97s\n",
      "97:\tlearn: 0.3869826\ttotal: 322ms\tremaining: 2.96s\n",
      "98:\tlearn: 0.3858622\ttotal: 325ms\tremaining: 2.95s\n",
      "99:\tlearn: 0.3846532\ttotal: 328ms\tremaining: 2.95s\n",
      "100:\tlearn: 0.3837054\ttotal: 331ms\tremaining: 2.94s\n",
      "101:\tlearn: 0.3822793\ttotal: 335ms\tremaining: 2.95s\n",
      "102:\tlearn: 0.3808562\ttotal: 338ms\tremaining: 2.95s\n",
      "103:\tlearn: 0.3798723\ttotal: 341ms\tremaining: 2.94s\n",
      "104:\tlearn: 0.3787064\ttotal: 344ms\tremaining: 2.93s\n",
      "105:\tlearn: 0.3774797\ttotal: 346ms\tremaining: 2.92s\n",
      "106:\tlearn: 0.3762333\ttotal: 349ms\tremaining: 2.92s\n",
      "107:\tlearn: 0.3751684\ttotal: 353ms\tremaining: 2.92s\n",
      "108:\tlearn: 0.3737296\ttotal: 356ms\tremaining: 2.91s\n",
      "109:\tlearn: 0.3726715\ttotal: 361ms\tremaining: 2.92s\n",
      "110:\tlearn: 0.3715545\ttotal: 365ms\tremaining: 2.92s\n",
      "111:\tlearn: 0.3704675\ttotal: 369ms\tremaining: 2.92s\n",
      "112:\tlearn: 0.3694057\ttotal: 372ms\tremaining: 2.92s\n",
      "113:\tlearn: 0.3682267\ttotal: 375ms\tremaining: 2.91s\n",
      "114:\tlearn: 0.3672004\ttotal: 377ms\tremaining: 2.9s\n",
      "115:\tlearn: 0.3661205\ttotal: 380ms\tremaining: 2.89s\n",
      "116:\tlearn: 0.3649307\ttotal: 383ms\tremaining: 2.89s\n",
      "117:\tlearn: 0.3639308\ttotal: 386ms\tremaining: 2.88s\n",
      "118:\tlearn: 0.3628972\ttotal: 388ms\tremaining: 2.88s\n",
      "119:\tlearn: 0.3617270\ttotal: 391ms\tremaining: 2.87s\n",
      "120:\tlearn: 0.3606882\ttotal: 393ms\tremaining: 2.86s\n",
      "121:\tlearn: 0.3600475\ttotal: 396ms\tremaining: 2.85s\n",
      "122:\tlearn: 0.3591632\ttotal: 399ms\tremaining: 2.84s\n",
      "123:\tlearn: 0.3581054\ttotal: 402ms\tremaining: 2.84s\n",
      "124:\tlearn: 0.3571888\ttotal: 404ms\tremaining: 2.83s\n",
      "125:\tlearn: 0.3562308\ttotal: 406ms\tremaining: 2.82s\n",
      "126:\tlearn: 0.3552495\ttotal: 409ms\tremaining: 2.81s\n",
      "127:\tlearn: 0.3539014\ttotal: 411ms\tremaining: 2.8s\n",
      "128:\tlearn: 0.3530056\ttotal: 414ms\tremaining: 2.79s\n",
      "129:\tlearn: 0.3519883\ttotal: 416ms\tremaining: 2.79s\n",
      "130:\tlearn: 0.3509038\ttotal: 419ms\tremaining: 2.78s\n",
      "131:\tlearn: 0.3498501\ttotal: 421ms\tremaining: 2.77s\n",
      "132:\tlearn: 0.3489162\ttotal: 424ms\tremaining: 2.76s\n",
      "133:\tlearn: 0.3481150\ttotal: 427ms\tremaining: 2.76s\n",
      "134:\tlearn: 0.3468331\ttotal: 430ms\tremaining: 2.75s\n",
      "135:\tlearn: 0.3460493\ttotal: 433ms\tremaining: 2.75s\n",
      "136:\tlearn: 0.3453608\ttotal: 436ms\tremaining: 2.74s\n",
      "137:\tlearn: 0.3448140\ttotal: 438ms\tremaining: 2.74s\n",
      "138:\tlearn: 0.3440201\ttotal: 441ms\tremaining: 2.73s\n",
      "139:\tlearn: 0.3433446\ttotal: 443ms\tremaining: 2.72s\n",
      "140:\tlearn: 0.3424019\ttotal: 446ms\tremaining: 2.72s\n",
      "141:\tlearn: 0.3416905\ttotal: 448ms\tremaining: 2.71s\n",
      "142:\tlearn: 0.3410536\ttotal: 451ms\tremaining: 2.7s\n",
      "143:\tlearn: 0.3402908\ttotal: 453ms\tremaining: 2.69s\n",
      "144:\tlearn: 0.3392183\ttotal: 456ms\tremaining: 2.69s\n",
      "145:\tlearn: 0.3385864\ttotal: 459ms\tremaining: 2.69s\n",
      "146:\tlearn: 0.3377475\ttotal: 462ms\tremaining: 2.68s\n",
      "147:\tlearn: 0.3369224\ttotal: 465ms\tremaining: 2.68s\n",
      "148:\tlearn: 0.3360172\ttotal: 468ms\tremaining: 2.67s\n",
      "149:\tlearn: 0.3351713\ttotal: 471ms\tremaining: 2.67s\n",
      "150:\tlearn: 0.3344031\ttotal: 473ms\tremaining: 2.66s\n",
      "151:\tlearn: 0.3336859\ttotal: 476ms\tremaining: 2.65s\n",
      "152:\tlearn: 0.3329017\ttotal: 478ms\tremaining: 2.65s\n",
      "153:\tlearn: 0.3324585\ttotal: 480ms\tremaining: 2.64s\n",
      "154:\tlearn: 0.3319193\ttotal: 483ms\tremaining: 2.63s\n",
      "155:\tlearn: 0.3310804\ttotal: 485ms\tremaining: 2.63s\n",
      "156:\tlearn: 0.3305811\ttotal: 489ms\tremaining: 2.62s\n",
      "157:\tlearn: 0.3299383\ttotal: 492ms\tremaining: 2.62s\n",
      "158:\tlearn: 0.3289563\ttotal: 494ms\tremaining: 2.62s\n",
      "159:\tlearn: 0.3281691\ttotal: 497ms\tremaining: 2.61s\n",
      "160:\tlearn: 0.3276921\ttotal: 500ms\tremaining: 2.6s\n",
      "161:\tlearn: 0.3270132\ttotal: 504ms\tremaining: 2.61s\n",
      "162:\tlearn: 0.3263402\ttotal: 508ms\tremaining: 2.61s\n",
      "163:\tlearn: 0.3255339\ttotal: 510ms\tremaining: 2.6s\n",
      "164:\tlearn: 0.3248432\ttotal: 513ms\tremaining: 2.59s\n",
      "165:\tlearn: 0.3244699\ttotal: 515ms\tremaining: 2.59s\n",
      "166:\tlearn: 0.3236899\ttotal: 518ms\tremaining: 2.58s\n",
      "167:\tlearn: 0.3230159\ttotal: 520ms\tremaining: 2.58s\n",
      "168:\tlearn: 0.3224818\ttotal: 523ms\tremaining: 2.57s\n",
      "169:\tlearn: 0.3218891\ttotal: 527ms\tremaining: 2.57s\n",
      "170:\tlearn: 0.3211460\ttotal: 529ms\tremaining: 2.56s\n",
      "171:\tlearn: 0.3204887\ttotal: 532ms\tremaining: 2.56s\n",
      "172:\tlearn: 0.3198680\ttotal: 535ms\tremaining: 2.56s\n",
      "173:\tlearn: 0.3194658\ttotal: 537ms\tremaining: 2.55s\n",
      "174:\tlearn: 0.3187755\ttotal: 540ms\tremaining: 2.55s\n",
      "175:\tlearn: 0.3182324\ttotal: 543ms\tremaining: 2.54s\n",
      "176:\tlearn: 0.3176739\ttotal: 545ms\tremaining: 2.54s\n",
      "177:\tlearn: 0.3171656\ttotal: 548ms\tremaining: 2.53s\n",
      "178:\tlearn: 0.3165460\ttotal: 555ms\tremaining: 2.54s\n",
      "179:\tlearn: 0.3159389\ttotal: 558ms\tremaining: 2.54s\n",
      "180:\tlearn: 0.3153557\ttotal: 561ms\tremaining: 2.54s\n",
      "181:\tlearn: 0.3148794\ttotal: 564ms\tremaining: 2.53s\n",
      "182:\tlearn: 0.3143923\ttotal: 566ms\tremaining: 2.53s\n",
      "183:\tlearn: 0.3137967\ttotal: 569ms\tremaining: 2.52s\n",
      "184:\tlearn: 0.3129933\ttotal: 571ms\tremaining: 2.52s\n",
      "185:\tlearn: 0.3124532\ttotal: 575ms\tremaining: 2.51s\n",
      "186:\tlearn: 0.3119997\ttotal: 578ms\tremaining: 2.51s\n",
      "187:\tlearn: 0.3114560\ttotal: 581ms\tremaining: 2.51s\n",
      "188:\tlearn: 0.3110230\ttotal: 584ms\tremaining: 2.5s\n",
      "189:\tlearn: 0.3104188\ttotal: 587ms\tremaining: 2.5s\n",
      "190:\tlearn: 0.3096250\ttotal: 589ms\tremaining: 2.5s\n",
      "191:\tlearn: 0.3090005\ttotal: 592ms\tremaining: 2.49s\n",
      "192:\tlearn: 0.3085939\ttotal: 595ms\tremaining: 2.49s\n",
      "193:\tlearn: 0.3080017\ttotal: 599ms\tremaining: 2.49s\n",
      "194:\tlearn: 0.3074233\ttotal: 602ms\tremaining: 2.48s\n",
      "195:\tlearn: 0.3068542\ttotal: 605ms\tremaining: 2.48s\n",
      "196:\tlearn: 0.3061996\ttotal: 608ms\tremaining: 2.48s\n",
      "197:\tlearn: 0.3055812\ttotal: 611ms\tremaining: 2.47s\n",
      "198:\tlearn: 0.3050687\ttotal: 614ms\tremaining: 2.47s\n",
      "199:\tlearn: 0.3045310\ttotal: 616ms\tremaining: 2.46s\n",
      "200:\tlearn: 0.3039066\ttotal: 619ms\tremaining: 2.46s\n",
      "201:\tlearn: 0.3033680\ttotal: 622ms\tremaining: 2.46s\n",
      "202:\tlearn: 0.3028496\ttotal: 625ms\tremaining: 2.46s\n",
      "203:\tlearn: 0.3021625\ttotal: 628ms\tremaining: 2.45s\n",
      "204:\tlearn: 0.3017153\ttotal: 631ms\tremaining: 2.45s\n",
      "205:\tlearn: 0.3011756\ttotal: 634ms\tremaining: 2.44s\n",
      "206:\tlearn: 0.3005233\ttotal: 639ms\tremaining: 2.45s\n",
      "207:\tlearn: 0.2998768\ttotal: 642ms\tremaining: 2.44s\n",
      "208:\tlearn: 0.2992893\ttotal: 645ms\tremaining: 2.44s\n",
      "209:\tlearn: 0.2986674\ttotal: 648ms\tremaining: 2.44s\n",
      "210:\tlearn: 0.2980729\ttotal: 651ms\tremaining: 2.43s\n",
      "211:\tlearn: 0.2976797\ttotal: 654ms\tremaining: 2.43s\n",
      "212:\tlearn: 0.2971931\ttotal: 657ms\tremaining: 2.43s\n",
      "213:\tlearn: 0.2966062\ttotal: 660ms\tremaining: 2.42s\n",
      "214:\tlearn: 0.2960894\ttotal: 663ms\tremaining: 2.42s\n",
      "215:\tlearn: 0.2957078\ttotal: 665ms\tremaining: 2.42s\n",
      "216:\tlearn: 0.2952333\ttotal: 668ms\tremaining: 2.41s\n",
      "217:\tlearn: 0.2947437\ttotal: 671ms\tremaining: 2.41s\n",
      "218:\tlearn: 0.2942577\ttotal: 674ms\tremaining: 2.4s\n",
      "219:\tlearn: 0.2936203\ttotal: 677ms\tremaining: 2.4s\n",
      "220:\tlearn: 0.2930301\ttotal: 680ms\tremaining: 2.4s\n",
      "221:\tlearn: 0.2924294\ttotal: 682ms\tremaining: 2.39s\n",
      "222:\tlearn: 0.2918326\ttotal: 685ms\tremaining: 2.39s\n",
      "223:\tlearn: 0.2913889\ttotal: 688ms\tremaining: 2.38s\n",
      "224:\tlearn: 0.2906159\ttotal: 691ms\tremaining: 2.38s\n",
      "225:\tlearn: 0.2900868\ttotal: 694ms\tremaining: 2.38s\n",
      "226:\tlearn: 0.2895334\ttotal: 697ms\tremaining: 2.37s\n",
      "227:\tlearn: 0.2890624\ttotal: 700ms\tremaining: 2.37s\n",
      "228:\tlearn: 0.2887866\ttotal: 702ms\tremaining: 2.37s\n",
      "229:\tlearn: 0.2882691\ttotal: 705ms\tremaining: 2.36s\n",
      "230:\tlearn: 0.2879664\ttotal: 708ms\tremaining: 2.36s\n",
      "231:\tlearn: 0.2876062\ttotal: 711ms\tremaining: 2.35s\n",
      "232:\tlearn: 0.2872349\ttotal: 714ms\tremaining: 2.35s\n",
      "233:\tlearn: 0.2868423\ttotal: 717ms\tremaining: 2.35s\n",
      "234:\tlearn: 0.2863601\ttotal: 720ms\tremaining: 2.34s\n",
      "235:\tlearn: 0.2861427\ttotal: 722ms\tremaining: 2.34s\n",
      "236:\tlearn: 0.2857035\ttotal: 724ms\tremaining: 2.33s\n",
      "237:\tlearn: 0.2854145\ttotal: 727ms\tremaining: 2.33s\n",
      "238:\tlearn: 0.2846616\ttotal: 730ms\tremaining: 2.32s\n",
      "239:\tlearn: 0.2842874\ttotal: 732ms\tremaining: 2.32s\n",
      "240:\tlearn: 0.2837259\ttotal: 735ms\tremaining: 2.31s\n",
      "241:\tlearn: 0.2833549\ttotal: 738ms\tremaining: 2.31s\n",
      "242:\tlearn: 0.2830009\ttotal: 740ms\tremaining: 2.31s\n",
      "243:\tlearn: 0.2826961\ttotal: 743ms\tremaining: 2.3s\n",
      "244:\tlearn: 0.2823407\ttotal: 746ms\tremaining: 2.3s\n",
      "245:\tlearn: 0.2817493\ttotal: 749ms\tremaining: 2.29s\n",
      "246:\tlearn: 0.2812355\ttotal: 752ms\tremaining: 2.29s\n",
      "247:\tlearn: 0.2808380\ttotal: 755ms\tremaining: 2.29s\n",
      "248:\tlearn: 0.2804441\ttotal: 758ms\tremaining: 2.29s\n",
      "249:\tlearn: 0.2800007\ttotal: 760ms\tremaining: 2.28s\n",
      "250:\tlearn: 0.2796386\ttotal: 763ms\tremaining: 2.28s\n",
      "251:\tlearn: 0.2791581\ttotal: 766ms\tremaining: 2.27s\n",
      "252:\tlearn: 0.2784185\ttotal: 768ms\tremaining: 2.27s\n",
      "253:\tlearn: 0.2779048\ttotal: 771ms\tremaining: 2.27s\n",
      "254:\tlearn: 0.2773166\ttotal: 774ms\tremaining: 2.26s\n",
      "255:\tlearn: 0.2769320\ttotal: 777ms\tremaining: 2.26s\n",
      "256:\tlearn: 0.2763790\ttotal: 780ms\tremaining: 2.25s\n",
      "257:\tlearn: 0.2759560\ttotal: 784ms\tremaining: 2.25s\n",
      "258:\tlearn: 0.2754560\ttotal: 787ms\tremaining: 2.25s\n",
      "259:\tlearn: 0.2752354\ttotal: 789ms\tremaining: 2.25s\n",
      "260:\tlearn: 0.2746922\ttotal: 792ms\tremaining: 2.24s\n",
      "261:\tlearn: 0.2743440\ttotal: 795ms\tremaining: 2.24s\n",
      "262:\tlearn: 0.2739179\ttotal: 798ms\tremaining: 2.24s\n",
      "263:\tlearn: 0.2736255\ttotal: 801ms\tremaining: 2.23s\n",
      "264:\tlearn: 0.2732033\ttotal: 804ms\tremaining: 2.23s\n",
      "265:\tlearn: 0.2728222\ttotal: 807ms\tremaining: 2.23s\n",
      "266:\tlearn: 0.2726077\ttotal: 810ms\tremaining: 2.22s\n",
      "267:\tlearn: 0.2720361\ttotal: 813ms\tremaining: 2.22s\n",
      "268:\tlearn: 0.2715635\ttotal: 815ms\tremaining: 2.21s\n",
      "269:\tlearn: 0.2711644\ttotal: 817ms\tremaining: 2.21s\n",
      "270:\tlearn: 0.2707917\ttotal: 820ms\tremaining: 2.21s\n",
      "271:\tlearn: 0.2703829\ttotal: 823ms\tremaining: 2.2s\n",
      "272:\tlearn: 0.2701133\ttotal: 826ms\tremaining: 2.2s\n",
      "273:\tlearn: 0.2696012\ttotal: 828ms\tremaining: 2.19s\n",
      "274:\tlearn: 0.2691912\ttotal: 830ms\tremaining: 2.19s\n",
      "275:\tlearn: 0.2688632\ttotal: 833ms\tremaining: 2.19s\n",
      "276:\tlearn: 0.2684959\ttotal: 836ms\tremaining: 2.18s\n",
      "277:\tlearn: 0.2680388\ttotal: 838ms\tremaining: 2.18s\n",
      "278:\tlearn: 0.2675791\ttotal: 841ms\tremaining: 2.17s\n",
      "279:\tlearn: 0.2671718\ttotal: 844ms\tremaining: 2.17s\n",
      "280:\tlearn: 0.2668331\ttotal: 847ms\tremaining: 2.17s\n",
      "281:\tlearn: 0.2664589\ttotal: 849ms\tremaining: 2.16s\n",
      "282:\tlearn: 0.2661508\ttotal: 852ms\tremaining: 2.16s\n",
      "283:\tlearn: 0.2658293\ttotal: 855ms\tremaining: 2.15s\n",
      "284:\tlearn: 0.2655384\ttotal: 857ms\tremaining: 2.15s\n",
      "285:\tlearn: 0.2651889\ttotal: 860ms\tremaining: 2.15s\n",
      "286:\tlearn: 0.2647730\ttotal: 863ms\tremaining: 2.14s\n",
      "287:\tlearn: 0.2644067\ttotal: 866ms\tremaining: 2.14s\n",
      "288:\tlearn: 0.2639113\ttotal: 868ms\tremaining: 2.13s\n",
      "289:\tlearn: 0.2634581\ttotal: 871ms\tremaining: 2.13s\n",
      "290:\tlearn: 0.2631095\ttotal: 873ms\tremaining: 2.13s\n",
      "291:\tlearn: 0.2626309\ttotal: 876ms\tremaining: 2.12s\n",
      "292:\tlearn: 0.2621504\ttotal: 879ms\tremaining: 2.12s\n",
      "293:\tlearn: 0.2619411\ttotal: 881ms\tremaining: 2.12s\n",
      "294:\tlearn: 0.2616755\ttotal: 883ms\tremaining: 2.11s\n",
      "295:\tlearn: 0.2611746\ttotal: 886ms\tremaining: 2.11s\n",
      "296:\tlearn: 0.2608151\ttotal: 888ms\tremaining: 2.1s\n",
      "297:\tlearn: 0.2604184\ttotal: 891ms\tremaining: 2.1s\n",
      "298:\tlearn: 0.2602312\ttotal: 893ms\tremaining: 2.09s\n",
      "299:\tlearn: 0.2598655\ttotal: 896ms\tremaining: 2.09s\n",
      "300:\tlearn: 0.2595346\ttotal: 898ms\tremaining: 2.08s\n",
      "301:\tlearn: 0.2591507\ttotal: 901ms\tremaining: 2.08s\n",
      "302:\tlearn: 0.2588621\ttotal: 903ms\tremaining: 2.08s\n",
      "303:\tlearn: 0.2586964\ttotal: 906ms\tremaining: 2.08s\n",
      "304:\tlearn: 0.2584692\ttotal: 909ms\tremaining: 2.07s\n",
      "305:\tlearn: 0.2581635\ttotal: 913ms\tremaining: 2.07s\n",
      "306:\tlearn: 0.2577076\ttotal: 915ms\tremaining: 2.06s\n",
      "307:\tlearn: 0.2573934\ttotal: 918ms\tremaining: 2.06s\n",
      "308:\tlearn: 0.2571037\ttotal: 920ms\tremaining: 2.06s\n",
      "309:\tlearn: 0.2566493\ttotal: 923ms\tremaining: 2.05s\n",
      "310:\tlearn: 0.2563517\ttotal: 926ms\tremaining: 2.05s\n",
      "311:\tlearn: 0.2560624\ttotal: 929ms\tremaining: 2.05s\n",
      "312:\tlearn: 0.2555912\ttotal: 933ms\tremaining: 2.05s\n",
      "313:\tlearn: 0.2552196\ttotal: 937ms\tremaining: 2.05s\n",
      "314:\tlearn: 0.2548332\ttotal: 940ms\tremaining: 2.04s\n",
      "315:\tlearn: 0.2545904\ttotal: 944ms\tremaining: 2.04s\n",
      "316:\tlearn: 0.2541700\ttotal: 946ms\tremaining: 2.04s\n",
      "317:\tlearn: 0.2538792\ttotal: 949ms\tremaining: 2.03s\n",
      "318:\tlearn: 0.2535680\ttotal: 952ms\tremaining: 2.03s\n",
      "319:\tlearn: 0.2532012\ttotal: 955ms\tremaining: 2.03s\n",
      "320:\tlearn: 0.2528380\ttotal: 958ms\tremaining: 2.02s\n",
      "321:\tlearn: 0.2523749\ttotal: 960ms\tremaining: 2.02s\n",
      "322:\tlearn: 0.2519607\ttotal: 963ms\tremaining: 2.02s\n",
      "323:\tlearn: 0.2516669\ttotal: 966ms\tremaining: 2.01s\n",
      "324:\tlearn: 0.2513039\ttotal: 969ms\tremaining: 2.01s\n",
      "325:\tlearn: 0.2510916\ttotal: 972ms\tremaining: 2.01s\n",
      "326:\tlearn: 0.2508316\ttotal: 975ms\tremaining: 2.01s\n",
      "327:\tlearn: 0.2505372\ttotal: 977ms\tremaining: 2s\n",
      "328:\tlearn: 0.2502145\ttotal: 981ms\tremaining: 2s\n",
      "329:\tlearn: 0.2500087\ttotal: 984ms\tremaining: 2s\n",
      "330:\tlearn: 0.2496651\ttotal: 986ms\tremaining: 1.99s\n",
      "331:\tlearn: 0.2492856\ttotal: 989ms\tremaining: 1.99s\n",
      "332:\tlearn: 0.2489686\ttotal: 991ms\tremaining: 1.99s\n",
      "333:\tlearn: 0.2488876\ttotal: 993ms\tremaining: 1.98s\n",
      "334:\tlearn: 0.2484965\ttotal: 995ms\tremaining: 1.98s\n",
      "335:\tlearn: 0.2481681\ttotal: 998ms\tremaining: 1.97s\n",
      "336:\tlearn: 0.2478773\ttotal: 1s\tremaining: 1.97s\n",
      "337:\tlearn: 0.2474499\ttotal: 1s\tremaining: 1.96s\n",
      "338:\tlearn: 0.2470762\ttotal: 1s\tremaining: 1.96s\n",
      "339:\tlearn: 0.2467567\ttotal: 1.01s\tremaining: 1.96s\n",
      "340:\tlearn: 0.2464054\ttotal: 1.01s\tremaining: 1.95s\n",
      "341:\tlearn: 0.2461563\ttotal: 1.01s\tremaining: 1.95s\n",
      "342:\tlearn: 0.2458563\ttotal: 1.02s\tremaining: 1.95s\n",
      "343:\tlearn: 0.2455164\ttotal: 1.02s\tremaining: 1.95s\n",
      "344:\tlearn: 0.2451689\ttotal: 1.02s\tremaining: 1.95s\n",
      "345:\tlearn: 0.2446828\ttotal: 1.03s\tremaining: 1.95s\n",
      "346:\tlearn: 0.2442115\ttotal: 1.03s\tremaining: 1.94s\n",
      "347:\tlearn: 0.2439613\ttotal: 1.03s\tremaining: 1.94s\n",
      "348:\tlearn: 0.2434812\ttotal: 1.04s\tremaining: 1.94s\n",
      "349:\tlearn: 0.2432081\ttotal: 1.04s\tremaining: 1.93s\n",
      "350:\tlearn: 0.2429255\ttotal: 1.04s\tremaining: 1.93s\n",
      "351:\tlearn: 0.2425721\ttotal: 1.05s\tremaining: 1.93s\n",
      "352:\tlearn: 0.2423493\ttotal: 1.05s\tremaining: 1.92s\n",
      "353:\tlearn: 0.2420525\ttotal: 1.05s\tremaining: 1.92s\n",
      "354:\tlearn: 0.2417670\ttotal: 1.05s\tremaining: 1.92s\n",
      "355:\tlearn: 0.2415040\ttotal: 1.06s\tremaining: 1.91s\n",
      "356:\tlearn: 0.2411858\ttotal: 1.06s\tremaining: 1.91s\n",
      "357:\tlearn: 0.2409144\ttotal: 1.06s\tremaining: 1.91s\n",
      "358:\tlearn: 0.2404673\ttotal: 1.06s\tremaining: 1.9s\n",
      "359:\tlearn: 0.2400962\ttotal: 1.07s\tremaining: 1.9s\n",
      "360:\tlearn: 0.2398256\ttotal: 1.07s\tremaining: 1.89s\n",
      "361:\tlearn: 0.2394643\ttotal: 1.07s\tremaining: 1.89s\n",
      "362:\tlearn: 0.2391868\ttotal: 1.07s\tremaining: 1.89s\n",
      "363:\tlearn: 0.2387958\ttotal: 1.08s\tremaining: 1.88s\n",
      "364:\tlearn: 0.2385629\ttotal: 1.08s\tremaining: 1.88s\n",
      "365:\tlearn: 0.2383442\ttotal: 1.08s\tremaining: 1.88s\n",
      "366:\tlearn: 0.2378745\ttotal: 1.08s\tremaining: 1.87s\n",
      "367:\tlearn: 0.2376262\ttotal: 1.09s\tremaining: 1.87s\n",
      "368:\tlearn: 0.2372681\ttotal: 1.09s\tremaining: 1.86s\n",
      "369:\tlearn: 0.2369944\ttotal: 1.09s\tremaining: 1.86s\n",
      "370:\tlearn: 0.2366331\ttotal: 1.09s\tremaining: 1.86s\n",
      "371:\tlearn: 0.2363989\ttotal: 1.1s\tremaining: 1.85s\n",
      "372:\tlearn: 0.2361465\ttotal: 1.1s\tremaining: 1.85s\n",
      "373:\tlearn: 0.2356986\ttotal: 1.1s\tremaining: 1.85s\n",
      "374:\tlearn: 0.2354145\ttotal: 1.1s\tremaining: 1.84s\n",
      "375:\tlearn: 0.2351078\ttotal: 1.11s\tremaining: 1.84s\n",
      "376:\tlearn: 0.2347476\ttotal: 1.11s\tremaining: 1.83s\n",
      "377:\tlearn: 0.2345122\ttotal: 1.11s\tremaining: 1.83s\n",
      "378:\tlearn: 0.2341800\ttotal: 1.12s\tremaining: 1.83s\n",
      "379:\tlearn: 0.2338087\ttotal: 1.12s\tremaining: 1.83s\n",
      "380:\tlearn: 0.2336249\ttotal: 1.13s\tremaining: 1.83s\n",
      "381:\tlearn: 0.2332482\ttotal: 1.13s\tremaining: 1.83s\n",
      "382:\tlearn: 0.2329528\ttotal: 1.13s\tremaining: 1.82s\n",
      "383:\tlearn: 0.2327319\ttotal: 1.13s\tremaining: 1.82s\n",
      "384:\tlearn: 0.2324755\ttotal: 1.14s\tremaining: 1.82s\n",
      "385:\tlearn: 0.2322251\ttotal: 1.14s\tremaining: 1.81s\n",
      "386:\tlearn: 0.2319299\ttotal: 1.14s\tremaining: 1.81s\n",
      "387:\tlearn: 0.2315798\ttotal: 1.15s\tremaining: 1.81s\n",
      "388:\tlearn: 0.2313302\ttotal: 1.15s\tremaining: 1.8s\n",
      "389:\tlearn: 0.2310707\ttotal: 1.15s\tremaining: 1.8s\n",
      "390:\tlearn: 0.2306269\ttotal: 1.15s\tremaining: 1.8s\n",
      "391:\tlearn: 0.2301969\ttotal: 1.16s\tremaining: 1.79s\n",
      "392:\tlearn: 0.2300341\ttotal: 1.16s\tremaining: 1.79s\n",
      "393:\tlearn: 0.2296857\ttotal: 1.16s\tremaining: 1.79s\n",
      "394:\tlearn: 0.2294680\ttotal: 1.16s\tremaining: 1.78s\n",
      "395:\tlearn: 0.2292738\ttotal: 1.17s\tremaining: 1.78s\n",
      "396:\tlearn: 0.2291754\ttotal: 1.17s\tremaining: 1.78s\n",
      "397:\tlearn: 0.2288898\ttotal: 1.17s\tremaining: 1.77s\n",
      "398:\tlearn: 0.2283782\ttotal: 1.17s\tremaining: 1.77s\n",
      "399:\tlearn: 0.2280785\ttotal: 1.18s\tremaining: 1.76s\n",
      "400:\tlearn: 0.2275948\ttotal: 1.18s\tremaining: 1.76s\n",
      "401:\tlearn: 0.2272739\ttotal: 1.18s\tremaining: 1.76s\n",
      "402:\tlearn: 0.2269866\ttotal: 1.18s\tremaining: 1.75s\n",
      "403:\tlearn: 0.2265911\ttotal: 1.19s\tremaining: 1.75s\n",
      "404:\tlearn: 0.2262016\ttotal: 1.19s\tremaining: 1.75s\n",
      "405:\tlearn: 0.2259644\ttotal: 1.19s\tremaining: 1.74s\n",
      "406:\tlearn: 0.2257067\ttotal: 1.19s\tremaining: 1.74s\n",
      "407:\tlearn: 0.2253637\ttotal: 1.2s\tremaining: 1.74s\n",
      "408:\tlearn: 0.2251628\ttotal: 1.2s\tremaining: 1.73s\n",
      "409:\tlearn: 0.2249237\ttotal: 1.2s\tremaining: 1.73s\n",
      "410:\tlearn: 0.2246576\ttotal: 1.21s\tremaining: 1.73s\n",
      "411:\tlearn: 0.2243755\ttotal: 1.21s\tremaining: 1.72s\n",
      "412:\tlearn: 0.2241602\ttotal: 1.21s\tremaining: 1.72s\n",
      "413:\tlearn: 0.2237070\ttotal: 1.21s\tremaining: 1.72s\n",
      "414:\tlearn: 0.2232364\ttotal: 1.22s\tremaining: 1.71s\n",
      "415:\tlearn: 0.2229328\ttotal: 1.22s\tremaining: 1.71s\n",
      "416:\tlearn: 0.2226510\ttotal: 1.22s\tremaining: 1.71s\n",
      "417:\tlearn: 0.2223000\ttotal: 1.22s\tremaining: 1.7s\n",
      "418:\tlearn: 0.2220216\ttotal: 1.23s\tremaining: 1.7s\n",
      "419:\tlearn: 0.2217057\ttotal: 1.23s\tremaining: 1.7s\n",
      "420:\tlearn: 0.2214494\ttotal: 1.23s\tremaining: 1.69s\n",
      "421:\tlearn: 0.2211933\ttotal: 1.23s\tremaining: 1.69s\n",
      "422:\tlearn: 0.2207875\ttotal: 1.24s\tremaining: 1.69s\n",
      "423:\tlearn: 0.2205533\ttotal: 1.24s\tremaining: 1.69s\n",
      "424:\tlearn: 0.2203458\ttotal: 1.24s\tremaining: 1.68s\n",
      "425:\tlearn: 0.2201670\ttotal: 1.25s\tremaining: 1.68s\n",
      "426:\tlearn: 0.2198393\ttotal: 1.25s\tremaining: 1.68s\n",
      "427:\tlearn: 0.2196771\ttotal: 1.25s\tremaining: 1.67s\n",
      "428:\tlearn: 0.2194906\ttotal: 1.25s\tremaining: 1.67s\n",
      "429:\tlearn: 0.2192665\ttotal: 1.26s\tremaining: 1.67s\n",
      "430:\tlearn: 0.2191600\ttotal: 1.26s\tremaining: 1.66s\n",
      "431:\tlearn: 0.2190055\ttotal: 1.26s\tremaining: 1.66s\n",
      "432:\tlearn: 0.2187082\ttotal: 1.26s\tremaining: 1.66s\n",
      "433:\tlearn: 0.2184412\ttotal: 1.27s\tremaining: 1.65s\n",
      "434:\tlearn: 0.2182189\ttotal: 1.27s\tremaining: 1.65s\n",
      "435:\tlearn: 0.2179963\ttotal: 1.27s\tremaining: 1.65s\n",
      "436:\tlearn: 0.2177776\ttotal: 1.28s\tremaining: 1.65s\n",
      "437:\tlearn: 0.2175455\ttotal: 1.28s\tremaining: 1.64s\n",
      "438:\tlearn: 0.2173134\ttotal: 1.28s\tremaining: 1.64s\n",
      "439:\tlearn: 0.2170465\ttotal: 1.28s\tremaining: 1.64s\n",
      "440:\tlearn: 0.2167868\ttotal: 1.29s\tremaining: 1.63s\n",
      "441:\tlearn: 0.2165455\ttotal: 1.29s\tremaining: 1.63s\n",
      "442:\tlearn: 0.2162508\ttotal: 1.3s\tremaining: 1.63s\n",
      "443:\tlearn: 0.2158156\ttotal: 1.3s\tremaining: 1.63s\n",
      "444:\tlearn: 0.2154917\ttotal: 1.3s\tremaining: 1.62s\n",
      "445:\tlearn: 0.2151380\ttotal: 1.3s\tremaining: 1.62s\n",
      "446:\tlearn: 0.2148658\ttotal: 1.31s\tremaining: 1.62s\n",
      "447:\tlearn: 0.2146675\ttotal: 1.31s\tremaining: 1.61s\n",
      "448:\tlearn: 0.2143680\ttotal: 1.31s\tremaining: 1.61s\n",
      "449:\tlearn: 0.2139674\ttotal: 1.32s\tremaining: 1.61s\n",
      "450:\tlearn: 0.2136730\ttotal: 1.32s\tremaining: 1.61s\n",
      "451:\tlearn: 0.2133579\ttotal: 1.33s\tremaining: 1.61s\n",
      "452:\tlearn: 0.2131986\ttotal: 1.33s\tremaining: 1.61s\n",
      "453:\tlearn: 0.2129926\ttotal: 1.33s\tremaining: 1.6s\n",
      "454:\tlearn: 0.2127464\ttotal: 1.34s\tremaining: 1.6s\n",
      "455:\tlearn: 0.2124049\ttotal: 1.34s\tremaining: 1.6s\n",
      "456:\tlearn: 0.2122165\ttotal: 1.34s\tremaining: 1.59s\n",
      "457:\tlearn: 0.2120058\ttotal: 1.34s\tremaining: 1.59s\n",
      "458:\tlearn: 0.2116904\ttotal: 1.35s\tremaining: 1.59s\n",
      "459:\tlearn: 0.2113758\ttotal: 1.35s\tremaining: 1.58s\n",
      "460:\tlearn: 0.2110680\ttotal: 1.35s\tremaining: 1.58s\n",
      "461:\tlearn: 0.2107279\ttotal: 1.35s\tremaining: 1.58s\n",
      "462:\tlearn: 0.2104460\ttotal: 1.36s\tremaining: 1.57s\n",
      "463:\tlearn: 0.2101674\ttotal: 1.36s\tremaining: 1.57s\n",
      "464:\tlearn: 0.2098595\ttotal: 1.36s\tremaining: 1.57s\n",
      "465:\tlearn: 0.2095500\ttotal: 1.37s\tremaining: 1.57s\n",
      "466:\tlearn: 0.2092848\ttotal: 1.37s\tremaining: 1.56s\n",
      "467:\tlearn: 0.2090086\ttotal: 1.37s\tremaining: 1.56s\n",
      "468:\tlearn: 0.2088035\ttotal: 1.38s\tremaining: 1.56s\n",
      "469:\tlearn: 0.2084453\ttotal: 1.38s\tremaining: 1.55s\n",
      "470:\tlearn: 0.2082347\ttotal: 1.38s\tremaining: 1.55s\n",
      "471:\tlearn: 0.2080688\ttotal: 1.38s\tremaining: 1.55s\n",
      "472:\tlearn: 0.2077031\ttotal: 1.39s\tremaining: 1.54s\n",
      "473:\tlearn: 0.2074872\ttotal: 1.39s\tremaining: 1.54s\n",
      "474:\tlearn: 0.2072569\ttotal: 1.39s\tremaining: 1.54s\n",
      "475:\tlearn: 0.2070177\ttotal: 1.39s\tremaining: 1.53s\n",
      "476:\tlearn: 0.2067033\ttotal: 1.4s\tremaining: 1.53s\n",
      "477:\tlearn: 0.2064525\ttotal: 1.4s\tremaining: 1.53s\n",
      "478:\tlearn: 0.2061429\ttotal: 1.4s\tremaining: 1.53s\n",
      "479:\tlearn: 0.2058271\ttotal: 1.41s\tremaining: 1.52s\n",
      "480:\tlearn: 0.2055211\ttotal: 1.41s\tremaining: 1.52s\n",
      "481:\tlearn: 0.2051988\ttotal: 1.41s\tremaining: 1.52s\n",
      "482:\tlearn: 0.2047523\ttotal: 1.41s\tremaining: 1.51s\n",
      "483:\tlearn: 0.2045309\ttotal: 1.42s\tremaining: 1.51s\n",
      "484:\tlearn: 0.2042183\ttotal: 1.42s\tremaining: 1.51s\n",
      "485:\tlearn: 0.2039596\ttotal: 1.42s\tremaining: 1.5s\n",
      "486:\tlearn: 0.2037670\ttotal: 1.43s\tremaining: 1.5s\n",
      "487:\tlearn: 0.2032808\ttotal: 1.43s\tremaining: 1.5s\n",
      "488:\tlearn: 0.2030173\ttotal: 1.43s\tremaining: 1.5s\n",
      "489:\tlearn: 0.2026441\ttotal: 1.43s\tremaining: 1.49s\n",
      "490:\tlearn: 0.2024028\ttotal: 1.44s\tremaining: 1.49s\n",
      "491:\tlearn: 0.2022813\ttotal: 1.44s\tremaining: 1.49s\n",
      "492:\tlearn: 0.2021266\ttotal: 1.44s\tremaining: 1.49s\n",
      "493:\tlearn: 0.2018745\ttotal: 1.45s\tremaining: 1.48s\n",
      "494:\tlearn: 0.2015944\ttotal: 1.45s\tremaining: 1.48s\n",
      "495:\tlearn: 0.2013392\ttotal: 1.45s\tremaining: 1.48s\n",
      "496:\tlearn: 0.2011268\ttotal: 1.46s\tremaining: 1.47s\n",
      "497:\tlearn: 0.2007809\ttotal: 1.46s\tremaining: 1.47s\n",
      "498:\tlearn: 0.2006527\ttotal: 1.46s\tremaining: 1.47s\n",
      "499:\tlearn: 0.2002791\ttotal: 1.46s\tremaining: 1.46s\n",
      "500:\tlearn: 0.2000288\ttotal: 1.47s\tremaining: 1.46s\n",
      "501:\tlearn: 0.1998430\ttotal: 1.47s\tremaining: 1.46s\n",
      "502:\tlearn: 0.1997073\ttotal: 1.47s\tremaining: 1.46s\n",
      "503:\tlearn: 0.1995059\ttotal: 1.48s\tremaining: 1.45s\n",
      "504:\tlearn: 0.1992486\ttotal: 1.48s\tremaining: 1.45s\n",
      "505:\tlearn: 0.1990357\ttotal: 1.48s\tremaining: 1.45s\n",
      "506:\tlearn: 0.1987488\ttotal: 1.48s\tremaining: 1.44s\n",
      "507:\tlearn: 0.1984775\ttotal: 1.49s\tremaining: 1.44s\n",
      "508:\tlearn: 0.1982223\ttotal: 1.49s\tremaining: 1.44s\n",
      "509:\tlearn: 0.1979452\ttotal: 1.49s\tremaining: 1.43s\n",
      "510:\tlearn: 0.1977667\ttotal: 1.49s\tremaining: 1.43s\n",
      "511:\tlearn: 0.1975490\ttotal: 1.5s\tremaining: 1.43s\n",
      "512:\tlearn: 0.1972375\ttotal: 1.5s\tremaining: 1.42s\n",
      "513:\tlearn: 0.1970365\ttotal: 1.5s\tremaining: 1.42s\n",
      "514:\tlearn: 0.1969184\ttotal: 1.51s\tremaining: 1.42s\n",
      "515:\tlearn: 0.1967734\ttotal: 1.51s\tremaining: 1.42s\n",
      "516:\tlearn: 0.1965318\ttotal: 1.51s\tremaining: 1.41s\n",
      "517:\tlearn: 0.1963447\ttotal: 1.51s\tremaining: 1.41s\n",
      "518:\tlearn: 0.1960163\ttotal: 1.52s\tremaining: 1.41s\n",
      "519:\tlearn: 0.1958483\ttotal: 1.52s\tremaining: 1.4s\n",
      "520:\tlearn: 0.1956537\ttotal: 1.52s\tremaining: 1.4s\n",
      "521:\tlearn: 0.1953790\ttotal: 1.52s\tremaining: 1.4s\n",
      "522:\tlearn: 0.1952276\ttotal: 1.53s\tremaining: 1.39s\n",
      "523:\tlearn: 0.1949532\ttotal: 1.53s\tremaining: 1.39s\n",
      "524:\tlearn: 0.1947486\ttotal: 1.53s\tremaining: 1.39s\n",
      "525:\tlearn: 0.1946362\ttotal: 1.54s\tremaining: 1.39s\n",
      "526:\tlearn: 0.1944300\ttotal: 1.54s\tremaining: 1.38s\n",
      "527:\tlearn: 0.1941745\ttotal: 1.54s\tremaining: 1.38s\n",
      "528:\tlearn: 0.1939450\ttotal: 1.55s\tremaining: 1.38s\n",
      "529:\tlearn: 0.1938067\ttotal: 1.55s\tremaining: 1.37s\n",
      "530:\tlearn: 0.1936236\ttotal: 1.55s\tremaining: 1.37s\n",
      "531:\tlearn: 0.1933937\ttotal: 1.56s\tremaining: 1.37s\n",
      "532:\tlearn: 0.1930893\ttotal: 1.56s\tremaining: 1.36s\n",
      "533:\tlearn: 0.1928987\ttotal: 1.56s\tremaining: 1.36s\n",
      "534:\tlearn: 0.1927553\ttotal: 1.56s\tremaining: 1.36s\n",
      "535:\tlearn: 0.1924725\ttotal: 1.57s\tremaining: 1.36s\n",
      "536:\tlearn: 0.1922720\ttotal: 1.57s\tremaining: 1.35s\n",
      "537:\tlearn: 0.1919786\ttotal: 1.57s\tremaining: 1.35s\n",
      "538:\tlearn: 0.1917815\ttotal: 1.58s\tremaining: 1.35s\n",
      "539:\tlearn: 0.1914400\ttotal: 1.58s\tremaining: 1.34s\n",
      "540:\tlearn: 0.1911222\ttotal: 1.58s\tremaining: 1.34s\n",
      "541:\tlearn: 0.1908773\ttotal: 1.59s\tremaining: 1.34s\n",
      "542:\tlearn: 0.1906863\ttotal: 1.59s\tremaining: 1.34s\n",
      "543:\tlearn: 0.1903973\ttotal: 1.59s\tremaining: 1.33s\n",
      "544:\tlearn: 0.1900737\ttotal: 1.6s\tremaining: 1.33s\n",
      "545:\tlearn: 0.1898647\ttotal: 1.6s\tremaining: 1.33s\n",
      "546:\tlearn: 0.1896449\ttotal: 1.6s\tremaining: 1.33s\n",
      "547:\tlearn: 0.1894362\ttotal: 1.6s\tremaining: 1.32s\n",
      "548:\tlearn: 0.1892676\ttotal: 1.61s\tremaining: 1.32s\n",
      "549:\tlearn: 0.1889867\ttotal: 1.61s\tremaining: 1.32s\n",
      "550:\tlearn: 0.1887677\ttotal: 1.61s\tremaining: 1.31s\n",
      "551:\tlearn: 0.1886487\ttotal: 1.61s\tremaining: 1.31s\n",
      "552:\tlearn: 0.1883477\ttotal: 1.62s\tremaining: 1.31s\n",
      "553:\tlearn: 0.1880760\ttotal: 1.62s\tremaining: 1.3s\n",
      "554:\tlearn: 0.1878682\ttotal: 1.62s\tremaining: 1.3s\n",
      "555:\tlearn: 0.1876352\ttotal: 1.63s\tremaining: 1.3s\n",
      "556:\tlearn: 0.1873085\ttotal: 1.63s\tremaining: 1.3s\n",
      "557:\tlearn: 0.1870793\ttotal: 1.63s\tremaining: 1.29s\n",
      "558:\tlearn: 0.1868554\ttotal: 1.64s\tremaining: 1.29s\n",
      "559:\tlearn: 0.1866546\ttotal: 1.64s\tremaining: 1.29s\n",
      "560:\tlearn: 0.1864280\ttotal: 1.64s\tremaining: 1.28s\n",
      "561:\tlearn: 0.1862292\ttotal: 1.64s\tremaining: 1.28s\n",
      "562:\tlearn: 0.1859727\ttotal: 1.65s\tremaining: 1.28s\n",
      "563:\tlearn: 0.1856867\ttotal: 1.65s\tremaining: 1.27s\n",
      "564:\tlearn: 0.1854145\ttotal: 1.65s\tremaining: 1.27s\n",
      "565:\tlearn: 0.1851945\ttotal: 1.65s\tremaining: 1.27s\n",
      "566:\tlearn: 0.1849553\ttotal: 1.66s\tremaining: 1.26s\n",
      "567:\tlearn: 0.1848289\ttotal: 1.66s\tremaining: 1.26s\n",
      "568:\tlearn: 0.1846815\ttotal: 1.66s\tremaining: 1.26s\n",
      "569:\tlearn: 0.1844582\ttotal: 1.66s\tremaining: 1.26s\n",
      "570:\tlearn: 0.1841225\ttotal: 1.67s\tremaining: 1.25s\n",
      "571:\tlearn: 0.1837966\ttotal: 1.67s\tremaining: 1.25s\n",
      "572:\tlearn: 0.1836416\ttotal: 1.67s\tremaining: 1.25s\n",
      "573:\tlearn: 0.1833093\ttotal: 1.68s\tremaining: 1.24s\n",
      "574:\tlearn: 0.1831191\ttotal: 1.68s\tremaining: 1.24s\n",
      "575:\tlearn: 0.1828940\ttotal: 1.68s\tremaining: 1.24s\n",
      "576:\tlearn: 0.1827604\ttotal: 1.69s\tremaining: 1.24s\n",
      "577:\tlearn: 0.1824786\ttotal: 1.69s\tremaining: 1.23s\n",
      "578:\tlearn: 0.1821819\ttotal: 1.69s\tremaining: 1.23s\n",
      "579:\tlearn: 0.1818379\ttotal: 1.7s\tremaining: 1.23s\n",
      "580:\tlearn: 0.1816123\ttotal: 1.7s\tremaining: 1.23s\n",
      "581:\tlearn: 0.1812575\ttotal: 1.7s\tremaining: 1.22s\n",
      "582:\tlearn: 0.1810940\ttotal: 1.7s\tremaining: 1.22s\n",
      "583:\tlearn: 0.1809602\ttotal: 1.71s\tremaining: 1.22s\n",
      "584:\tlearn: 0.1805713\ttotal: 1.71s\tremaining: 1.21s\n",
      "585:\tlearn: 0.1803251\ttotal: 1.71s\tremaining: 1.21s\n",
      "586:\tlearn: 0.1801252\ttotal: 1.72s\tremaining: 1.21s\n",
      "587:\tlearn: 0.1798807\ttotal: 1.72s\tremaining: 1.2s\n",
      "588:\tlearn: 0.1795995\ttotal: 1.72s\tremaining: 1.2s\n",
      "589:\tlearn: 0.1794790\ttotal: 1.72s\tremaining: 1.2s\n",
      "590:\tlearn: 0.1793308\ttotal: 1.73s\tremaining: 1.19s\n",
      "591:\tlearn: 0.1790895\ttotal: 1.73s\tremaining: 1.19s\n",
      "592:\tlearn: 0.1788989\ttotal: 1.73s\tremaining: 1.19s\n",
      "593:\tlearn: 0.1786165\ttotal: 1.73s\tremaining: 1.19s\n",
      "594:\tlearn: 0.1783714\ttotal: 1.74s\tremaining: 1.18s\n",
      "595:\tlearn: 0.1781848\ttotal: 1.74s\tremaining: 1.18s\n",
      "596:\tlearn: 0.1778613\ttotal: 1.74s\tremaining: 1.18s\n",
      "597:\tlearn: 0.1776942\ttotal: 1.75s\tremaining: 1.17s\n",
      "598:\tlearn: 0.1773977\ttotal: 1.75s\tremaining: 1.17s\n",
      "599:\tlearn: 0.1771603\ttotal: 1.75s\tremaining: 1.17s\n",
      "600:\tlearn: 0.1769833\ttotal: 1.75s\tremaining: 1.16s\n",
      "601:\tlearn: 0.1768234\ttotal: 1.76s\tremaining: 1.16s\n",
      "602:\tlearn: 0.1766969\ttotal: 1.76s\tremaining: 1.16s\n",
      "603:\tlearn: 0.1765321\ttotal: 1.76s\tremaining: 1.16s\n",
      "604:\tlearn: 0.1763008\ttotal: 1.76s\tremaining: 1.15s\n",
      "605:\tlearn: 0.1760649\ttotal: 1.77s\tremaining: 1.15s\n",
      "606:\tlearn: 0.1758478\ttotal: 1.77s\tremaining: 1.15s\n",
      "607:\tlearn: 0.1756725\ttotal: 1.77s\tremaining: 1.14s\n",
      "608:\tlearn: 0.1753701\ttotal: 1.77s\tremaining: 1.14s\n",
      "609:\tlearn: 0.1751979\ttotal: 1.78s\tremaining: 1.14s\n",
      "610:\tlearn: 0.1749266\ttotal: 1.78s\tremaining: 1.13s\n",
      "611:\tlearn: 0.1746901\ttotal: 1.78s\tremaining: 1.13s\n",
      "612:\tlearn: 0.1744207\ttotal: 1.78s\tremaining: 1.13s\n",
      "613:\tlearn: 0.1742278\ttotal: 1.79s\tremaining: 1.12s\n",
      "614:\tlearn: 0.1740951\ttotal: 1.79s\tremaining: 1.12s\n",
      "615:\tlearn: 0.1738208\ttotal: 1.79s\tremaining: 1.12s\n",
      "616:\tlearn: 0.1735192\ttotal: 1.8s\tremaining: 1.12s\n",
      "617:\tlearn: 0.1734425\ttotal: 1.8s\tremaining: 1.11s\n",
      "618:\tlearn: 0.1732478\ttotal: 1.8s\tremaining: 1.11s\n",
      "619:\tlearn: 0.1730096\ttotal: 1.81s\tremaining: 1.11s\n",
      "620:\tlearn: 0.1727242\ttotal: 1.81s\tremaining: 1.1s\n",
      "621:\tlearn: 0.1725020\ttotal: 1.81s\tremaining: 1.1s\n",
      "622:\tlearn: 0.1723394\ttotal: 1.81s\tremaining: 1.1s\n",
      "623:\tlearn: 0.1720358\ttotal: 1.82s\tremaining: 1.09s\n",
      "624:\tlearn: 0.1717854\ttotal: 1.82s\tremaining: 1.09s\n",
      "625:\tlearn: 0.1715691\ttotal: 1.82s\tremaining: 1.09s\n",
      "626:\tlearn: 0.1713375\ttotal: 1.83s\tremaining: 1.09s\n",
      "627:\tlearn: 0.1712059\ttotal: 1.83s\tremaining: 1.08s\n",
      "628:\tlearn: 0.1710402\ttotal: 1.83s\tremaining: 1.08s\n",
      "629:\tlearn: 0.1707987\ttotal: 1.83s\tremaining: 1.08s\n",
      "630:\tlearn: 0.1704898\ttotal: 1.84s\tremaining: 1.07s\n",
      "631:\tlearn: 0.1703120\ttotal: 1.84s\tremaining: 1.07s\n",
      "632:\tlearn: 0.1701647\ttotal: 1.84s\tremaining: 1.07s\n",
      "633:\tlearn: 0.1700249\ttotal: 1.84s\tremaining: 1.06s\n",
      "634:\tlearn: 0.1696420\ttotal: 1.85s\tremaining: 1.06s\n",
      "635:\tlearn: 0.1694188\ttotal: 1.85s\tremaining: 1.06s\n",
      "636:\tlearn: 0.1691154\ttotal: 1.85s\tremaining: 1.05s\n",
      "637:\tlearn: 0.1688479\ttotal: 1.85s\tremaining: 1.05s\n",
      "638:\tlearn: 0.1685487\ttotal: 1.86s\tremaining: 1.05s\n",
      "639:\tlearn: 0.1683825\ttotal: 1.86s\tremaining: 1.05s\n",
      "640:\tlearn: 0.1682153\ttotal: 1.86s\tremaining: 1.04s\n",
      "641:\tlearn: 0.1679558\ttotal: 1.87s\tremaining: 1.04s\n",
      "642:\tlearn: 0.1675910\ttotal: 1.87s\tremaining: 1.04s\n",
      "643:\tlearn: 0.1673308\ttotal: 1.87s\tremaining: 1.03s\n",
      "644:\tlearn: 0.1670926\ttotal: 1.88s\tremaining: 1.03s\n",
      "645:\tlearn: 0.1669212\ttotal: 1.88s\tremaining: 1.03s\n",
      "646:\tlearn: 0.1665674\ttotal: 1.88s\tremaining: 1.03s\n",
      "647:\tlearn: 0.1663905\ttotal: 1.88s\tremaining: 1.02s\n",
      "648:\tlearn: 0.1661067\ttotal: 1.89s\tremaining: 1.02s\n",
      "649:\tlearn: 0.1658615\ttotal: 1.89s\tremaining: 1.02s\n",
      "650:\tlearn: 0.1656544\ttotal: 1.9s\tremaining: 1.02s\n",
      "651:\tlearn: 0.1653168\ttotal: 1.9s\tremaining: 1.01s\n",
      "652:\tlearn: 0.1651347\ttotal: 1.9s\tremaining: 1.01s\n",
      "653:\tlearn: 0.1650000\ttotal: 1.9s\tremaining: 1.01s\n",
      "654:\tlearn: 0.1647376\ttotal: 1.91s\tremaining: 1s\n",
      "655:\tlearn: 0.1645314\ttotal: 1.91s\tremaining: 1s\n",
      "656:\tlearn: 0.1642816\ttotal: 1.91s\tremaining: 998ms\n",
      "657:\tlearn: 0.1640662\ttotal: 1.91s\tremaining: 995ms\n",
      "658:\tlearn: 0.1637994\ttotal: 1.92s\tremaining: 992ms\n",
      "659:\tlearn: 0.1635120\ttotal: 1.92s\tremaining: 989ms\n",
      "660:\tlearn: 0.1632967\ttotal: 1.92s\tremaining: 986ms\n",
      "661:\tlearn: 0.1630058\ttotal: 1.92s\tremaining: 983ms\n",
      "662:\tlearn: 0.1627959\ttotal: 1.93s\tremaining: 980ms\n",
      "663:\tlearn: 0.1627013\ttotal: 1.93s\tremaining: 977ms\n",
      "664:\tlearn: 0.1625067\ttotal: 1.93s\tremaining: 973ms\n",
      "665:\tlearn: 0.1621703\ttotal: 1.93s\tremaining: 970ms\n",
      "666:\tlearn: 0.1620258\ttotal: 1.94s\tremaining: 967ms\n",
      "667:\tlearn: 0.1617480\ttotal: 1.94s\tremaining: 964ms\n",
      "668:\tlearn: 0.1615137\ttotal: 1.94s\tremaining: 961ms\n",
      "669:\tlearn: 0.1613075\ttotal: 1.94s\tremaining: 958ms\n",
      "670:\tlearn: 0.1611476\ttotal: 1.95s\tremaining: 955ms\n",
      "671:\tlearn: 0.1607778\ttotal: 1.95s\tremaining: 952ms\n",
      "672:\tlearn: 0.1605583\ttotal: 1.95s\tremaining: 948ms\n",
      "673:\tlearn: 0.1602800\ttotal: 1.95s\tremaining: 945ms\n",
      "674:\tlearn: 0.1600966\ttotal: 1.96s\tremaining: 942ms\n",
      "675:\tlearn: 0.1598931\ttotal: 1.96s\tremaining: 939ms\n",
      "676:\tlearn: 0.1596635\ttotal: 1.96s\tremaining: 936ms\n",
      "677:\tlearn: 0.1594381\ttotal: 1.97s\tremaining: 933ms\n",
      "678:\tlearn: 0.1591819\ttotal: 1.97s\tremaining: 930ms\n",
      "679:\tlearn: 0.1590290\ttotal: 1.97s\tremaining: 927ms\n",
      "680:\tlearn: 0.1588947\ttotal: 1.97s\tremaining: 924ms\n",
      "681:\tlearn: 0.1587312\ttotal: 1.97s\tremaining: 921ms\n",
      "682:\tlearn: 0.1585641\ttotal: 1.98s\tremaining: 918ms\n",
      "683:\tlearn: 0.1583610\ttotal: 1.98s\tremaining: 915ms\n",
      "684:\tlearn: 0.1582077\ttotal: 1.98s\tremaining: 912ms\n",
      "685:\tlearn: 0.1579303\ttotal: 1.99s\tremaining: 909ms\n",
      "686:\tlearn: 0.1577533\ttotal: 1.99s\tremaining: 906ms\n",
      "687:\tlearn: 0.1575617\ttotal: 1.99s\tremaining: 902ms\n",
      "688:\tlearn: 0.1573263\ttotal: 1.99s\tremaining: 899ms\n",
      "689:\tlearn: 0.1570521\ttotal: 1.99s\tremaining: 896ms\n",
      "690:\tlearn: 0.1569126\ttotal: 2s\tremaining: 893ms\n",
      "691:\tlearn: 0.1566921\ttotal: 2s\tremaining: 890ms\n",
      "692:\tlearn: 0.1564556\ttotal: 2s\tremaining: 887ms\n",
      "693:\tlearn: 0.1563505\ttotal: 2s\tremaining: 884ms\n",
      "694:\tlearn: 0.1561062\ttotal: 2.01s\tremaining: 881ms\n",
      "695:\tlearn: 0.1558814\ttotal: 2.01s\tremaining: 878ms\n",
      "696:\tlearn: 0.1555764\ttotal: 2.01s\tremaining: 874ms\n",
      "697:\tlearn: 0.1553542\ttotal: 2.01s\tremaining: 872ms\n",
      "698:\tlearn: 0.1550898\ttotal: 2.02s\tremaining: 868ms\n",
      "699:\tlearn: 0.1548643\ttotal: 2.02s\tremaining: 865ms\n",
      "700:\tlearn: 0.1547086\ttotal: 2.02s\tremaining: 862ms\n",
      "701:\tlearn: 0.1544925\ttotal: 2.02s\tremaining: 859ms\n",
      "702:\tlearn: 0.1542761\ttotal: 2.03s\tremaining: 857ms\n",
      "703:\tlearn: 0.1541770\ttotal: 2.03s\tremaining: 853ms\n",
      "704:\tlearn: 0.1540140\ttotal: 2.03s\tremaining: 850ms\n",
      "705:\tlearn: 0.1537483\ttotal: 2.03s\tremaining: 847ms\n",
      "706:\tlearn: 0.1535848\ttotal: 2.04s\tremaining: 844ms\n",
      "707:\tlearn: 0.1534966\ttotal: 2.04s\tremaining: 841ms\n",
      "708:\tlearn: 0.1532795\ttotal: 2.04s\tremaining: 838ms\n",
      "709:\tlearn: 0.1530545\ttotal: 2.04s\tremaining: 835ms\n",
      "710:\tlearn: 0.1528834\ttotal: 2.05s\tremaining: 832ms\n",
      "711:\tlearn: 0.1525998\ttotal: 2.05s\tremaining: 830ms\n",
      "712:\tlearn: 0.1523500\ttotal: 2.05s\tremaining: 826ms\n",
      "713:\tlearn: 0.1522031\ttotal: 2.06s\tremaining: 824ms\n",
      "714:\tlearn: 0.1520147\ttotal: 2.06s\tremaining: 820ms\n",
      "715:\tlearn: 0.1517856\ttotal: 2.06s\tremaining: 818ms\n",
      "716:\tlearn: 0.1515689\ttotal: 2.06s\tremaining: 815ms\n",
      "717:\tlearn: 0.1513925\ttotal: 2.07s\tremaining: 812ms\n",
      "718:\tlearn: 0.1511712\ttotal: 2.07s\tremaining: 809ms\n",
      "719:\tlearn: 0.1510003\ttotal: 2.07s\tremaining: 806ms\n",
      "720:\tlearn: 0.1507403\ttotal: 2.08s\tremaining: 803ms\n",
      "721:\tlearn: 0.1504465\ttotal: 2.08s\tremaining: 801ms\n",
      "722:\tlearn: 0.1502387\ttotal: 2.08s\tremaining: 799ms\n",
      "723:\tlearn: 0.1500809\ttotal: 2.09s\tremaining: 796ms\n",
      "724:\tlearn: 0.1499155\ttotal: 2.09s\tremaining: 793ms\n",
      "725:\tlearn: 0.1497187\ttotal: 2.09s\tremaining: 790ms\n",
      "726:\tlearn: 0.1495498\ttotal: 2.1s\tremaining: 787ms\n",
      "727:\tlearn: 0.1493548\ttotal: 2.1s\tremaining: 784ms\n",
      "728:\tlearn: 0.1491860\ttotal: 2.1s\tremaining: 781ms\n",
      "729:\tlearn: 0.1490406\ttotal: 2.1s\tremaining: 778ms\n",
      "730:\tlearn: 0.1488988\ttotal: 2.1s\tremaining: 775ms\n",
      "731:\tlearn: 0.1488149\ttotal: 2.11s\tremaining: 772ms\n",
      "732:\tlearn: 0.1486110\ttotal: 2.11s\tremaining: 769ms\n",
      "733:\tlearn: 0.1484690\ttotal: 2.11s\tremaining: 766ms\n",
      "734:\tlearn: 0.1482751\ttotal: 2.12s\tremaining: 763ms\n",
      "735:\tlearn: 0.1480925\ttotal: 2.12s\tremaining: 760ms\n",
      "736:\tlearn: 0.1478161\ttotal: 2.12s\tremaining: 757ms\n",
      "737:\tlearn: 0.1476546\ttotal: 2.12s\tremaining: 754ms\n",
      "738:\tlearn: 0.1474085\ttotal: 2.13s\tremaining: 751ms\n",
      "739:\tlearn: 0.1471056\ttotal: 2.13s\tremaining: 748ms\n",
      "740:\tlearn: 0.1469049\ttotal: 2.13s\tremaining: 745ms\n",
      "741:\tlearn: 0.1467350\ttotal: 2.13s\tremaining: 742ms\n",
      "742:\tlearn: 0.1465628\ttotal: 2.14s\tremaining: 739ms\n",
      "743:\tlearn: 0.1463856\ttotal: 2.14s\tremaining: 736ms\n",
      "744:\tlearn: 0.1462912\ttotal: 2.14s\tremaining: 733ms\n",
      "745:\tlearn: 0.1460624\ttotal: 2.15s\tremaining: 731ms\n",
      "746:\tlearn: 0.1458103\ttotal: 2.15s\tremaining: 728ms\n",
      "747:\tlearn: 0.1456509\ttotal: 2.15s\tremaining: 725ms\n",
      "748:\tlearn: 0.1455883\ttotal: 2.15s\tremaining: 722ms\n",
      "749:\tlearn: 0.1454366\ttotal: 2.16s\tremaining: 719ms\n",
      "750:\tlearn: 0.1452918\ttotal: 2.16s\tremaining: 716ms\n",
      "751:\tlearn: 0.1450142\ttotal: 2.16s\tremaining: 713ms\n",
      "752:\tlearn: 0.1448794\ttotal: 2.16s\tremaining: 710ms\n",
      "753:\tlearn: 0.1446368\ttotal: 2.17s\tremaining: 707ms\n",
      "754:\tlearn: 0.1444376\ttotal: 2.17s\tremaining: 704ms\n",
      "755:\tlearn: 0.1442230\ttotal: 2.17s\tremaining: 702ms\n",
      "756:\tlearn: 0.1440272\ttotal: 2.18s\tremaining: 699ms\n",
      "757:\tlearn: 0.1437913\ttotal: 2.18s\tremaining: 696ms\n",
      "758:\tlearn: 0.1436198\ttotal: 2.18s\tremaining: 694ms\n",
      "759:\tlearn: 0.1434345\ttotal: 2.19s\tremaining: 691ms\n",
      "760:\tlearn: 0.1432515\ttotal: 2.19s\tremaining: 688ms\n",
      "761:\tlearn: 0.1430462\ttotal: 2.19s\tremaining: 685ms\n",
      "762:\tlearn: 0.1427864\ttotal: 2.2s\tremaining: 682ms\n",
      "763:\tlearn: 0.1426151\ttotal: 2.2s\tremaining: 679ms\n",
      "764:\tlearn: 0.1424281\ttotal: 2.2s\tremaining: 676ms\n",
      "765:\tlearn: 0.1422719\ttotal: 2.2s\tremaining: 674ms\n",
      "766:\tlearn: 0.1420619\ttotal: 2.21s\tremaining: 671ms\n",
      "767:\tlearn: 0.1418754\ttotal: 2.21s\tremaining: 668ms\n",
      "768:\tlearn: 0.1417287\ttotal: 2.21s\tremaining: 665ms\n",
      "769:\tlearn: 0.1416183\ttotal: 2.21s\tremaining: 662ms\n",
      "770:\tlearn: 0.1414121\ttotal: 2.22s\tremaining: 659ms\n",
      "771:\tlearn: 0.1412437\ttotal: 2.22s\tremaining: 656ms\n",
      "772:\tlearn: 0.1410900\ttotal: 2.22s\tremaining: 653ms\n",
      "773:\tlearn: 0.1409461\ttotal: 2.23s\tremaining: 650ms\n",
      "774:\tlearn: 0.1407596\ttotal: 2.23s\tremaining: 647ms\n",
      "775:\tlearn: 0.1405326\ttotal: 2.23s\tremaining: 645ms\n",
      "776:\tlearn: 0.1403110\ttotal: 2.23s\tremaining: 642ms\n",
      "777:\tlearn: 0.1400962\ttotal: 2.24s\tremaining: 639ms\n",
      "778:\tlearn: 0.1399173\ttotal: 2.24s\tremaining: 636ms\n",
      "779:\tlearn: 0.1397804\ttotal: 2.24s\tremaining: 633ms\n",
      "780:\tlearn: 0.1395415\ttotal: 2.25s\tremaining: 630ms\n",
      "781:\tlearn: 0.1393374\ttotal: 2.25s\tremaining: 627ms\n",
      "782:\tlearn: 0.1391456\ttotal: 2.25s\tremaining: 624ms\n",
      "783:\tlearn: 0.1389543\ttotal: 2.25s\tremaining: 621ms\n",
      "784:\tlearn: 0.1387953\ttotal: 2.26s\tremaining: 618ms\n",
      "785:\tlearn: 0.1385990\ttotal: 2.26s\tremaining: 615ms\n",
      "786:\tlearn: 0.1384255\ttotal: 2.26s\tremaining: 612ms\n",
      "787:\tlearn: 0.1382412\ttotal: 2.26s\tremaining: 609ms\n",
      "788:\tlearn: 0.1381539\ttotal: 2.27s\tremaining: 606ms\n",
      "789:\tlearn: 0.1379638\ttotal: 2.27s\tremaining: 604ms\n",
      "790:\tlearn: 0.1377815\ttotal: 2.27s\tremaining: 601ms\n",
      "791:\tlearn: 0.1376158\ttotal: 2.28s\tremaining: 598ms\n",
      "792:\tlearn: 0.1374592\ttotal: 2.28s\tremaining: 595ms\n",
      "793:\tlearn: 0.1372027\ttotal: 2.28s\tremaining: 592ms\n",
      "794:\tlearn: 0.1370840\ttotal: 2.28s\tremaining: 589ms\n",
      "795:\tlearn: 0.1367751\ttotal: 2.29s\tremaining: 586ms\n",
      "796:\tlearn: 0.1364380\ttotal: 2.29s\tremaining: 583ms\n",
      "797:\tlearn: 0.1362146\ttotal: 2.29s\tremaining: 580ms\n",
      "798:\tlearn: 0.1360665\ttotal: 2.29s\tremaining: 577ms\n",
      "799:\tlearn: 0.1358522\ttotal: 2.29s\tremaining: 574ms\n",
      "800:\tlearn: 0.1356310\ttotal: 2.3s\tremaining: 571ms\n",
      "801:\tlearn: 0.1354383\ttotal: 2.3s\tremaining: 568ms\n",
      "802:\tlearn: 0.1353174\ttotal: 2.3s\tremaining: 565ms\n",
      "803:\tlearn: 0.1351409\ttotal: 2.31s\tremaining: 562ms\n",
      "804:\tlearn: 0.1349996\ttotal: 2.31s\tremaining: 559ms\n",
      "805:\tlearn: 0.1348853\ttotal: 2.31s\tremaining: 556ms\n",
      "806:\tlearn: 0.1346692\ttotal: 2.31s\tremaining: 553ms\n",
      "807:\tlearn: 0.1345057\ttotal: 2.32s\tremaining: 550ms\n",
      "808:\tlearn: 0.1342754\ttotal: 2.32s\tremaining: 547ms\n",
      "809:\tlearn: 0.1341249\ttotal: 2.32s\tremaining: 545ms\n",
      "810:\tlearn: 0.1338572\ttotal: 2.32s\tremaining: 542ms\n",
      "811:\tlearn: 0.1335896\ttotal: 2.33s\tremaining: 539ms\n",
      "812:\tlearn: 0.1334700\ttotal: 2.33s\tremaining: 536ms\n",
      "813:\tlearn: 0.1333264\ttotal: 2.33s\tremaining: 533ms\n",
      "814:\tlearn: 0.1330998\ttotal: 2.33s\tremaining: 530ms\n",
      "815:\tlearn: 0.1328878\ttotal: 2.34s\tremaining: 527ms\n",
      "816:\tlearn: 0.1326570\ttotal: 2.34s\tremaining: 524ms\n",
      "817:\tlearn: 0.1325194\ttotal: 2.34s\tremaining: 521ms\n",
      "818:\tlearn: 0.1324073\ttotal: 2.35s\tremaining: 518ms\n",
      "819:\tlearn: 0.1322947\ttotal: 2.35s\tremaining: 515ms\n",
      "820:\tlearn: 0.1321225\ttotal: 2.35s\tremaining: 513ms\n",
      "821:\tlearn: 0.1319165\ttotal: 2.35s\tremaining: 510ms\n",
      "822:\tlearn: 0.1318084\ttotal: 2.36s\tremaining: 507ms\n",
      "823:\tlearn: 0.1316053\ttotal: 2.36s\tremaining: 504ms\n",
      "824:\tlearn: 0.1314530\ttotal: 2.36s\tremaining: 501ms\n",
      "825:\tlearn: 0.1312994\ttotal: 2.36s\tremaining: 498ms\n",
      "826:\tlearn: 0.1311555\ttotal: 2.37s\tremaining: 495ms\n",
      "827:\tlearn: 0.1310276\ttotal: 2.37s\tremaining: 492ms\n",
      "828:\tlearn: 0.1308880\ttotal: 2.37s\tremaining: 489ms\n",
      "829:\tlearn: 0.1307561\ttotal: 2.38s\tremaining: 487ms\n",
      "830:\tlearn: 0.1305761\ttotal: 2.38s\tremaining: 484ms\n",
      "831:\tlearn: 0.1303950\ttotal: 2.38s\tremaining: 481ms\n",
      "832:\tlearn: 0.1302231\ttotal: 2.38s\tremaining: 478ms\n",
      "833:\tlearn: 0.1300437\ttotal: 2.39s\tremaining: 475ms\n",
      "834:\tlearn: 0.1297785\ttotal: 2.39s\tremaining: 472ms\n",
      "835:\tlearn: 0.1295573\ttotal: 2.39s\tremaining: 469ms\n",
      "836:\tlearn: 0.1293663\ttotal: 2.4s\tremaining: 466ms\n",
      "837:\tlearn: 0.1292544\ttotal: 2.4s\tremaining: 464ms\n",
      "838:\tlearn: 0.1291529\ttotal: 2.4s\tremaining: 461ms\n",
      "839:\tlearn: 0.1290121\ttotal: 2.4s\tremaining: 458ms\n",
      "840:\tlearn: 0.1288266\ttotal: 2.41s\tremaining: 455ms\n",
      "841:\tlearn: 0.1286706\ttotal: 2.41s\tremaining: 452ms\n",
      "842:\tlearn: 0.1284616\ttotal: 2.41s\tremaining: 449ms\n",
      "843:\tlearn: 0.1282713\ttotal: 2.41s\tremaining: 446ms\n",
      "844:\tlearn: 0.1280453\ttotal: 2.42s\tremaining: 443ms\n",
      "845:\tlearn: 0.1277572\ttotal: 2.42s\tremaining: 441ms\n",
      "846:\tlearn: 0.1274699\ttotal: 2.42s\tremaining: 438ms\n",
      "847:\tlearn: 0.1273125\ttotal: 2.42s\tremaining: 435ms\n",
      "848:\tlearn: 0.1271840\ttotal: 2.43s\tremaining: 432ms\n",
      "849:\tlearn: 0.1270869\ttotal: 2.43s\tremaining: 429ms\n",
      "850:\tlearn: 0.1268959\ttotal: 2.43s\tremaining: 426ms\n",
      "851:\tlearn: 0.1267132\ttotal: 2.44s\tremaining: 423ms\n",
      "852:\tlearn: 0.1265589\ttotal: 2.44s\tremaining: 420ms\n",
      "853:\tlearn: 0.1263760\ttotal: 2.44s\tremaining: 417ms\n",
      "854:\tlearn: 0.1262219\ttotal: 2.44s\tremaining: 414ms\n",
      "855:\tlearn: 0.1260945\ttotal: 2.44s\tremaining: 411ms\n",
      "856:\tlearn: 0.1259880\ttotal: 2.45s\tremaining: 408ms\n",
      "857:\tlearn: 0.1258553\ttotal: 2.45s\tremaining: 406ms\n",
      "858:\tlearn: 0.1256665\ttotal: 2.45s\tremaining: 403ms\n",
      "859:\tlearn: 0.1254857\ttotal: 2.46s\tremaining: 400ms\n",
      "860:\tlearn: 0.1253348\ttotal: 2.46s\tremaining: 397ms\n",
      "861:\tlearn: 0.1251600\ttotal: 2.46s\tremaining: 394ms\n",
      "862:\tlearn: 0.1249015\ttotal: 2.46s\tremaining: 391ms\n",
      "863:\tlearn: 0.1247657\ttotal: 2.47s\tremaining: 389ms\n",
      "864:\tlearn: 0.1246028\ttotal: 2.47s\tremaining: 386ms\n",
      "865:\tlearn: 0.1244104\ttotal: 2.47s\tremaining: 383ms\n",
      "866:\tlearn: 0.1242267\ttotal: 2.48s\tremaining: 380ms\n",
      "867:\tlearn: 0.1240865\ttotal: 2.48s\tremaining: 377ms\n",
      "868:\tlearn: 0.1239690\ttotal: 2.48s\tremaining: 374ms\n",
      "869:\tlearn: 0.1237772\ttotal: 2.48s\tremaining: 371ms\n",
      "870:\tlearn: 0.1236459\ttotal: 2.49s\tremaining: 368ms\n",
      "871:\tlearn: 0.1234681\ttotal: 2.49s\tremaining: 365ms\n",
      "872:\tlearn: 0.1232420\ttotal: 2.49s\tremaining: 362ms\n",
      "873:\tlearn: 0.1230899\ttotal: 2.49s\tremaining: 360ms\n",
      "874:\tlearn: 0.1229306\ttotal: 2.5s\tremaining: 357ms\n",
      "875:\tlearn: 0.1227393\ttotal: 2.5s\tremaining: 354ms\n",
      "876:\tlearn: 0.1225320\ttotal: 2.5s\tremaining: 351ms\n",
      "877:\tlearn: 0.1223343\ttotal: 2.5s\tremaining: 348ms\n",
      "878:\tlearn: 0.1221306\ttotal: 2.51s\tremaining: 345ms\n",
      "879:\tlearn: 0.1219464\ttotal: 2.51s\tremaining: 342ms\n",
      "880:\tlearn: 0.1218435\ttotal: 2.51s\tremaining: 339ms\n",
      "881:\tlearn: 0.1216644\ttotal: 2.51s\tremaining: 336ms\n",
      "882:\tlearn: 0.1215424\ttotal: 2.52s\tremaining: 333ms\n",
      "883:\tlearn: 0.1214014\ttotal: 2.52s\tremaining: 331ms\n",
      "884:\tlearn: 0.1212581\ttotal: 2.52s\tremaining: 328ms\n",
      "885:\tlearn: 0.1210990\ttotal: 2.52s\tremaining: 325ms\n",
      "886:\tlearn: 0.1208726\ttotal: 2.53s\tremaining: 322ms\n",
      "887:\tlearn: 0.1206727\ttotal: 2.53s\tremaining: 319ms\n",
      "888:\tlearn: 0.1205200\ttotal: 2.53s\tremaining: 316ms\n",
      "889:\tlearn: 0.1204064\ttotal: 2.54s\tremaining: 313ms\n",
      "890:\tlearn: 0.1202186\ttotal: 2.54s\tremaining: 311ms\n",
      "891:\tlearn: 0.1200909\ttotal: 2.54s\tremaining: 308ms\n",
      "892:\tlearn: 0.1199256\ttotal: 2.54s\tremaining: 305ms\n",
      "893:\tlearn: 0.1197280\ttotal: 2.55s\tremaining: 302ms\n",
      "894:\tlearn: 0.1195540\ttotal: 2.55s\tremaining: 299ms\n",
      "895:\tlearn: 0.1194048\ttotal: 2.55s\tremaining: 296ms\n",
      "896:\tlearn: 0.1193245\ttotal: 2.56s\tremaining: 293ms\n",
      "897:\tlearn: 0.1191635\ttotal: 2.56s\tremaining: 291ms\n",
      "898:\tlearn: 0.1190813\ttotal: 2.56s\tremaining: 288ms\n",
      "899:\tlearn: 0.1188852\ttotal: 2.56s\tremaining: 285ms\n",
      "900:\tlearn: 0.1187516\ttotal: 2.56s\tremaining: 282ms\n",
      "901:\tlearn: 0.1185435\ttotal: 2.57s\tremaining: 279ms\n",
      "902:\tlearn: 0.1182993\ttotal: 2.57s\tremaining: 276ms\n",
      "903:\tlearn: 0.1180547\ttotal: 2.57s\tremaining: 273ms\n",
      "904:\tlearn: 0.1179162\ttotal: 2.58s\tremaining: 270ms\n",
      "905:\tlearn: 0.1178198\ttotal: 2.58s\tremaining: 268ms\n",
      "906:\tlearn: 0.1176343\ttotal: 2.58s\tremaining: 265ms\n",
      "907:\tlearn: 0.1174529\ttotal: 2.58s\tremaining: 262ms\n",
      "908:\tlearn: 0.1172553\ttotal: 2.58s\tremaining: 259ms\n",
      "909:\tlearn: 0.1170880\ttotal: 2.59s\tremaining: 256ms\n",
      "910:\tlearn: 0.1168794\ttotal: 2.59s\tremaining: 253ms\n",
      "911:\tlearn: 0.1167301\ttotal: 2.59s\tremaining: 250ms\n",
      "912:\tlearn: 0.1165279\ttotal: 2.6s\tremaining: 247ms\n",
      "913:\tlearn: 0.1163375\ttotal: 2.6s\tremaining: 244ms\n",
      "914:\tlearn: 0.1161622\ttotal: 2.6s\tremaining: 242ms\n",
      "915:\tlearn: 0.1160571\ttotal: 2.6s\tremaining: 239ms\n",
      "916:\tlearn: 0.1159020\ttotal: 2.61s\tremaining: 236ms\n",
      "917:\tlearn: 0.1157633\ttotal: 2.61s\tremaining: 233ms\n",
      "918:\tlearn: 0.1155960\ttotal: 2.61s\tremaining: 230ms\n",
      "919:\tlearn: 0.1154211\ttotal: 2.61s\tremaining: 227ms\n",
      "920:\tlearn: 0.1152655\ttotal: 2.62s\tremaining: 224ms\n",
      "921:\tlearn: 0.1150787\ttotal: 2.62s\tremaining: 222ms\n",
      "922:\tlearn: 0.1150645\ttotal: 2.62s\tremaining: 219ms\n",
      "923:\tlearn: 0.1148575\ttotal: 2.62s\tremaining: 216ms\n",
      "924:\tlearn: 0.1146975\ttotal: 2.63s\tremaining: 213ms\n",
      "925:\tlearn: 0.1145243\ttotal: 2.63s\tremaining: 210ms\n",
      "926:\tlearn: 0.1143387\ttotal: 2.63s\tremaining: 207ms\n",
      "927:\tlearn: 0.1141325\ttotal: 2.63s\tremaining: 204ms\n",
      "928:\tlearn: 0.1140591\ttotal: 2.64s\tremaining: 202ms\n",
      "929:\tlearn: 0.1138889\ttotal: 2.64s\tremaining: 199ms\n",
      "930:\tlearn: 0.1137731\ttotal: 2.64s\tremaining: 196ms\n",
      "931:\tlearn: 0.1135802\ttotal: 2.65s\tremaining: 193ms\n",
      "932:\tlearn: 0.1134821\ttotal: 2.65s\tremaining: 190ms\n",
      "933:\tlearn: 0.1133934\ttotal: 2.65s\tremaining: 188ms\n",
      "934:\tlearn: 0.1132449\ttotal: 2.66s\tremaining: 185ms\n",
      "935:\tlearn: 0.1131523\ttotal: 2.66s\tremaining: 182ms\n",
      "936:\tlearn: 0.1129255\ttotal: 2.66s\tremaining: 179ms\n",
      "937:\tlearn: 0.1127740\ttotal: 2.67s\tremaining: 176ms\n",
      "938:\tlearn: 0.1126067\ttotal: 2.67s\tremaining: 174ms\n",
      "939:\tlearn: 0.1125134\ttotal: 2.67s\tremaining: 171ms\n",
      "940:\tlearn: 0.1124132\ttotal: 2.68s\tremaining: 168ms\n",
      "941:\tlearn: 0.1122016\ttotal: 2.68s\tremaining: 165ms\n",
      "942:\tlearn: 0.1121253\ttotal: 2.68s\tremaining: 162ms\n",
      "943:\tlearn: 0.1119638\ttotal: 2.68s\tremaining: 159ms\n",
      "944:\tlearn: 0.1118228\ttotal: 2.69s\tremaining: 156ms\n",
      "945:\tlearn: 0.1117139\ttotal: 2.69s\tremaining: 154ms\n",
      "946:\tlearn: 0.1115324\ttotal: 2.69s\tremaining: 151ms\n",
      "947:\tlearn: 0.1113534\ttotal: 2.7s\tremaining: 148ms\n",
      "948:\tlearn: 0.1111939\ttotal: 2.7s\tremaining: 145ms\n",
      "949:\tlearn: 0.1110456\ttotal: 2.7s\tremaining: 142ms\n",
      "950:\tlearn: 0.1108903\ttotal: 2.7s\tremaining: 139ms\n",
      "951:\tlearn: 0.1107348\ttotal: 2.71s\tremaining: 137ms\n",
      "952:\tlearn: 0.1104809\ttotal: 2.71s\tremaining: 134ms\n",
      "953:\tlearn: 0.1103004\ttotal: 2.71s\tremaining: 131ms\n",
      "954:\tlearn: 0.1101480\ttotal: 2.72s\tremaining: 128ms\n",
      "955:\tlearn: 0.1099726\ttotal: 2.72s\tremaining: 125ms\n",
      "956:\tlearn: 0.1097833\ttotal: 2.72s\tremaining: 122ms\n",
      "957:\tlearn: 0.1095520\ttotal: 2.72s\tremaining: 119ms\n",
      "958:\tlearn: 0.1093989\ttotal: 2.73s\tremaining: 117ms\n",
      "959:\tlearn: 0.1091746\ttotal: 2.73s\tremaining: 114ms\n",
      "960:\tlearn: 0.1090240\ttotal: 2.73s\tremaining: 111ms\n",
      "961:\tlearn: 0.1089411\ttotal: 2.73s\tremaining: 108ms\n",
      "962:\tlearn: 0.1087923\ttotal: 2.74s\tremaining: 105ms\n",
      "963:\tlearn: 0.1086815\ttotal: 2.74s\tremaining: 102ms\n",
      "964:\tlearn: 0.1085748\ttotal: 2.74s\tremaining: 99.5ms\n",
      "965:\tlearn: 0.1083801\ttotal: 2.75s\tremaining: 96.7ms\n",
      "966:\tlearn: 0.1081673\ttotal: 2.75s\tremaining: 93.8ms\n",
      "967:\tlearn: 0.1080491\ttotal: 2.75s\tremaining: 91ms\n",
      "968:\tlearn: 0.1078809\ttotal: 2.75s\tremaining: 88.1ms\n",
      "969:\tlearn: 0.1077391\ttotal: 2.76s\tremaining: 85.3ms\n",
      "970:\tlearn: 0.1076166\ttotal: 2.76s\tremaining: 82.4ms\n",
      "971:\tlearn: 0.1075314\ttotal: 2.76s\tremaining: 79.6ms\n",
      "972:\tlearn: 0.1073623\ttotal: 2.76s\tremaining: 76.7ms\n",
      "973:\tlearn: 0.1072787\ttotal: 2.77s\tremaining: 73.9ms\n",
      "974:\tlearn: 0.1071103\ttotal: 2.77s\tremaining: 71ms\n",
      "975:\tlearn: 0.1069428\ttotal: 2.77s\tremaining: 68.2ms\n",
      "976:\tlearn: 0.1068109\ttotal: 2.77s\tremaining: 65.3ms\n",
      "977:\tlearn: 0.1066325\ttotal: 2.78s\tremaining: 62.5ms\n",
      "978:\tlearn: 0.1064909\ttotal: 2.78s\tremaining: 59.6ms\n",
      "979:\tlearn: 0.1063311\ttotal: 2.78s\tremaining: 56.8ms\n",
      "980:\tlearn: 0.1061373\ttotal: 2.78s\tremaining: 53.9ms\n",
      "981:\tlearn: 0.1059950\ttotal: 2.79s\tremaining: 51.1ms\n",
      "982:\tlearn: 0.1059187\ttotal: 2.79s\tremaining: 48.2ms\n",
      "983:\tlearn: 0.1057916\ttotal: 2.79s\tremaining: 45.4ms\n",
      "984:\tlearn: 0.1056493\ttotal: 2.79s\tremaining: 42.5ms\n",
      "985:\tlearn: 0.1054866\ttotal: 2.8s\tremaining: 39.7ms\n",
      "986:\tlearn: 0.1054062\ttotal: 2.8s\tremaining: 36.9ms\n",
      "987:\tlearn: 0.1052583\ttotal: 2.8s\tremaining: 34ms\n",
      "988:\tlearn: 0.1051141\ttotal: 2.8s\tremaining: 31.2ms\n",
      "989:\tlearn: 0.1049868\ttotal: 2.81s\tremaining: 28.3ms\n",
      "990:\tlearn: 0.1048969\ttotal: 2.81s\tremaining: 25.5ms\n",
      "991:\tlearn: 0.1047496\ttotal: 2.81s\tremaining: 22.7ms\n",
      "992:\tlearn: 0.1046154\ttotal: 2.81s\tremaining: 19.8ms\n",
      "993:\tlearn: 0.1044609\ttotal: 2.81s\tremaining: 17ms\n",
      "994:\tlearn: 0.1043498\ttotal: 2.82s\tremaining: 14.2ms\n",
      "995:\tlearn: 0.1041792\ttotal: 2.82s\tremaining: 11.3ms\n",
      "996:\tlearn: 0.1040251\ttotal: 2.82s\tremaining: 8.49ms\n",
      "997:\tlearn: 0.1038823\ttotal: 2.83s\tremaining: 5.66ms\n",
      "998:\tlearn: 0.1037379\ttotal: 2.83s\tremaining: 2.83ms\n",
      "999:\tlearn: 0.1035915\ttotal: 2.83s\tremaining: 0us\n",
      "Confusion Matrix:\n",
      " [[382   2]\n",
      " [ 40  17]]\n",
      "\n",
      "\n",
      "Accuracy Score:\n",
      " 0.9047619047619048\n",
      "\n",
      "\n",
      "Classification Report: \n",
      "               precision    recall  f1-score   support\n",
      "\n",
      "           0       0.91      0.99      0.95       384\n",
      "           1       0.89      0.30      0.45        57\n",
      "\n",
      "    accuracy                           0.90       441\n",
      "   macro avg       0.90      0.65      0.70       441\n",
      "weighted avg       0.90      0.90      0.88       441\n",
      "\n"
     ]
    }
   ],
   "source": [
    "cat.fit(X_train, y_train)\n",
    "\n",
    "train_pred_cat = cat.predict(X_train)\n",
    "\n",
    "test_pred_cat = cat.predict(X_test)\n",
    "\n",
    "metrics(y_test,test_pred_cat)"
   ]
  },
  {
   "cell_type": "code",
   "execution_count": 138,
   "id": "attractive-disabled",
   "metadata": {
    "execution": {
     "iopub.execute_input": "2021-05-05T08:37:35.238609Z",
     "iopub.status.busy": "2021-05-05T08:37:35.237621Z",
     "iopub.status.idle": "2021-05-05T08:37:35.241724Z",
     "shell.execute_reply": "2021-05-05T08:37:35.241141Z"
    },
    "papermill": {
     "duration": 0.213851,
     "end_time": "2021-05-05T08:37:35.241888",
     "exception": false,
     "start_time": "2021-05-05T08:37:35.028037",
     "status": "completed"
    },
    "tags": []
   },
   "outputs": [],
   "source": [
    "params_cat = {\n",
    "    'learning_rate' : [0.02,0.05, 0.07],\n",
    "    'max_depth' : [3, 4, 5, 6, 8],\n",
    "    'min_child_samples': [1, 3, 5],\n",
    "    'l2_leaf_reg':[5,10,15]\n",
    "}"
   ]
  },
  {
   "cell_type": "code",
   "execution_count": 139,
   "id": "fancy-building",
   "metadata": {
    "execution": {
     "iopub.execute_input": "2021-05-05T08:37:35.661025Z",
     "iopub.status.busy": "2021-05-05T08:37:35.660363Z",
     "iopub.status.idle": "2021-05-05T08:37:35.663901Z",
     "shell.execute_reply": "2021-05-05T08:37:35.663067Z"
    },
    "papermill": {
     "duration": 0.21941,
     "end_time": "2021-05-05T08:37:35.664068",
     "exception": false,
     "start_time": "2021-05-05T08:37:35.444658",
     "status": "completed"
    },
    "tags": []
   },
   "outputs": [],
   "source": [
    "r_cat = RandomizedSearchCV(cat, params_cat, n_jobs=-1, verbose=1, cv=3)"
   ]
  },
  {
   "cell_type": "code",
   "execution_count": 140,
   "id": "taken-assembly",
   "metadata": {
    "execution": {
     "iopub.execute_input": "2021-05-05T08:37:36.083347Z",
     "iopub.status.busy": "2021-05-05T08:37:36.082360Z",
     "iopub.status.idle": "2021-05-05T08:38:47.307162Z",
     "shell.execute_reply": "2021-05-05T08:38:47.307675Z"
    },
    "papermill": {
     "duration": 71.434635,
     "end_time": "2021-05-05T08:38:47.307877",
     "exception": false,
     "start_time": "2021-05-05T08:37:35.873242",
     "status": "completed"
    },
    "tags": []
   },
   "outputs": [
    {
     "name": "stdout",
     "output_type": "stream",
     "text": [
      "Fitting 3 folds for each of 10 candidates, totalling 30 fits\n",
      "0:\tlearn: 0.6821427\ttotal: 3.08ms\tremaining: 3.08s\n",
      "1:\tlearn: 0.6716135\ttotal: 5.11ms\tremaining: 2.55s\n",
      "2:\tlearn: 0.6584718\ttotal: 6.71ms\tremaining: 2.23s\n",
      "3:\tlearn: 0.6471407\ttotal: 8.27ms\tremaining: 2.06s\n",
      "4:\tlearn: 0.6363805\ttotal: 9.83ms\tremaining: 1.96s\n",
      "5:\tlearn: 0.6274937\ttotal: 11.4ms\tremaining: 1.88s\n",
      "6:\tlearn: 0.6196151\ttotal: 12.9ms\tremaining: 1.83s\n",
      "7:\tlearn: 0.6099471\ttotal: 14.5ms\tremaining: 1.8s\n",
      "8:\tlearn: 0.6020726\ttotal: 16ms\tremaining: 1.76s\n",
      "9:\tlearn: 0.5925356\ttotal: 17.5ms\tremaining: 1.73s\n",
      "10:\tlearn: 0.5849205\ttotal: 19ms\tremaining: 1.71s\n",
      "11:\tlearn: 0.5786926\ttotal: 20.5ms\tremaining: 1.69s\n",
      "12:\tlearn: 0.5714312\ttotal: 21.9ms\tremaining: 1.66s\n",
      "13:\tlearn: 0.5639179\ttotal: 23.8ms\tremaining: 1.68s\n",
      "14:\tlearn: 0.5574688\ttotal: 25.5ms\tremaining: 1.67s\n",
      "15:\tlearn: 0.5513397\ttotal: 27ms\tremaining: 1.66s\n",
      "16:\tlearn: 0.5466212\ttotal: 28.4ms\tremaining: 1.64s\n",
      "17:\tlearn: 0.5409223\ttotal: 29.8ms\tremaining: 1.63s\n",
      "18:\tlearn: 0.5358208\ttotal: 31.4ms\tremaining: 1.62s\n",
      "19:\tlearn: 0.5297737\ttotal: 33ms\tremaining: 1.61s\n",
      "20:\tlearn: 0.5242333\ttotal: 34.5ms\tremaining: 1.61s\n",
      "21:\tlearn: 0.5195637\ttotal: 36.5ms\tremaining: 1.62s\n",
      "22:\tlearn: 0.5142459\ttotal: 38.1ms\tremaining: 1.62s\n",
      "23:\tlearn: 0.5088995\ttotal: 39.7ms\tremaining: 1.61s\n",
      "24:\tlearn: 0.5048578\ttotal: 42.1ms\tremaining: 1.64s\n",
      "25:\tlearn: 0.5000063\ttotal: 44.1ms\tremaining: 1.65s\n",
      "26:\tlearn: 0.4955311\ttotal: 46.1ms\tremaining: 1.66s\n",
      "27:\tlearn: 0.4916667\ttotal: 48.3ms\tremaining: 1.68s\n",
      "28:\tlearn: 0.4865934\ttotal: 52.2ms\tremaining: 1.75s\n",
      "29:\tlearn: 0.4830282\ttotal: 54.7ms\tremaining: 1.77s\n",
      "30:\tlearn: 0.4795750\ttotal: 57.2ms\tremaining: 1.79s\n",
      "31:\tlearn: 0.4758747\ttotal: 60.2ms\tremaining: 1.82s\n",
      "32:\tlearn: 0.4730185\ttotal: 62.9ms\tremaining: 1.84s\n",
      "33:\tlearn: 0.4691664\ttotal: 64.7ms\tremaining: 1.84s\n",
      "34:\tlearn: 0.4659113\ttotal: 67.3ms\tremaining: 1.85s\n",
      "35:\tlearn: 0.4626876\ttotal: 69ms\tremaining: 1.85s\n",
      "36:\tlearn: 0.4588267\ttotal: 71ms\tremaining: 1.85s\n",
      "37:\tlearn: 0.4551328\ttotal: 73.1ms\tremaining: 1.85s\n",
      "38:\tlearn: 0.4523235\ttotal: 74.9ms\tremaining: 1.85s\n",
      "39:\tlearn: 0.4496735\ttotal: 77ms\tremaining: 1.85s\n",
      "40:\tlearn: 0.4467453\ttotal: 78.6ms\tremaining: 1.84s\n",
      "41:\tlearn: 0.4442587\ttotal: 80.6ms\tremaining: 1.84s\n",
      "42:\tlearn: 0.4414274\ttotal: 82.5ms\tremaining: 1.83s\n",
      "43:\tlearn: 0.4399271\ttotal: 85.3ms\tremaining: 1.85s\n",
      "44:\tlearn: 0.4372421\ttotal: 87.2ms\tremaining: 1.85s\n",
      "45:\tlearn: 0.4345855\ttotal: 89ms\tremaining: 1.84s\n",
      "46:\tlearn: 0.4325844\ttotal: 90.6ms\tremaining: 1.84s\n",
      "47:\tlearn: 0.4302646\ttotal: 92.6ms\tremaining: 1.84s\n",
      "48:\tlearn: 0.4285186\ttotal: 94.3ms\tremaining: 1.83s\n",
      "49:\tlearn: 0.4267277\ttotal: 95.9ms\tremaining: 1.82s\n",
      "50:\tlearn: 0.4256092\ttotal: 97.4ms\tremaining: 1.81s\n",
      "51:\tlearn: 0.4238984\ttotal: 99.2ms\tremaining: 1.81s\n",
      "52:\tlearn: 0.4218434\ttotal: 101ms\tremaining: 1.81s\n",
      "53:\tlearn: 0.4194101\ttotal: 103ms\tremaining: 1.81s\n",
      "54:\tlearn: 0.4176628\ttotal: 105ms\tremaining: 1.8s\n",
      "55:\tlearn: 0.4156664\ttotal: 107ms\tremaining: 1.81s\n",
      "56:\tlearn: 0.4138987\ttotal: 109ms\tremaining: 1.8s\n",
      "57:\tlearn: 0.4124259\ttotal: 110ms\tremaining: 1.79s\n",
      "58:\tlearn: 0.4105991\ttotal: 112ms\tremaining: 1.79s\n",
      "59:\tlearn: 0.4087207\ttotal: 114ms\tremaining: 1.78s\n",
      "60:\tlearn: 0.4076933\ttotal: 116ms\tremaining: 1.78s\n",
      "61:\tlearn: 0.4063000\ttotal: 117ms\tremaining: 1.78s\n",
      "62:\tlearn: 0.4048871\ttotal: 119ms\tremaining: 1.77s\n",
      "63:\tlearn: 0.4033309\ttotal: 121ms\tremaining: 1.76s\n",
      "64:\tlearn: 0.4019607\ttotal: 122ms\tremaining: 1.76s\n",
      "65:\tlearn: 0.4007589\ttotal: 124ms\tremaining: 1.75s\n",
      "66:\tlearn: 0.3996249\ttotal: 125ms\tremaining: 1.75s\n",
      "67:\tlearn: 0.3984314\ttotal: 127ms\tremaining: 1.74s\n",
      "68:\tlearn: 0.3969469\ttotal: 128ms\tremaining: 1.73s\n",
      "69:\tlearn: 0.3956961\ttotal: 130ms\tremaining: 1.72s\n",
      "70:\tlearn: 0.3942153\ttotal: 131ms\tremaining: 1.71s\n",
      "71:\tlearn: 0.3924306\ttotal: 132ms\tremaining: 1.71s\n",
      "72:\tlearn: 0.3912011\ttotal: 134ms\tremaining: 1.7s\n",
      "73:\tlearn: 0.3900086\ttotal: 136ms\tremaining: 1.7s\n",
      "74:\tlearn: 0.3890943\ttotal: 137ms\tremaining: 1.69s\n",
      "75:\tlearn: 0.3876570\ttotal: 138ms\tremaining: 1.68s\n",
      "76:\tlearn: 0.3867008\ttotal: 140ms\tremaining: 1.67s\n",
      "77:\tlearn: 0.3854310\ttotal: 141ms\tremaining: 1.67s\n",
      "78:\tlearn: 0.3843915\ttotal: 143ms\tremaining: 1.66s\n",
      "79:\tlearn: 0.3833639\ttotal: 145ms\tremaining: 1.67s\n",
      "80:\tlearn: 0.3825964\ttotal: 148ms\tremaining: 1.67s\n",
      "81:\tlearn: 0.3816883\ttotal: 149ms\tremaining: 1.67s\n",
      "82:\tlearn: 0.3804480\ttotal: 151ms\tremaining: 1.66s\n",
      "83:\tlearn: 0.3797116\ttotal: 153ms\tremaining: 1.67s\n",
      "84:\tlearn: 0.3790739\ttotal: 154ms\tremaining: 1.66s\n",
      "85:\tlearn: 0.3778111\ttotal: 156ms\tremaining: 1.66s\n",
      "86:\tlearn: 0.3767872\ttotal: 158ms\tremaining: 1.65s\n",
      "87:\tlearn: 0.3756943\ttotal: 159ms\tremaining: 1.65s\n",
      "88:\tlearn: 0.3747128\ttotal: 161ms\tremaining: 1.64s\n",
      "89:\tlearn: 0.3737313\ttotal: 162ms\tremaining: 1.64s\n",
      "90:\tlearn: 0.3731687\ttotal: 164ms\tremaining: 1.64s\n",
      "91:\tlearn: 0.3720903\ttotal: 166ms\tremaining: 1.64s\n",
      "92:\tlearn: 0.3713932\ttotal: 168ms\tremaining: 1.64s\n",
      "93:\tlearn: 0.3707136\ttotal: 170ms\tremaining: 1.64s\n",
      "94:\tlearn: 0.3698743\ttotal: 171ms\tremaining: 1.63s\n",
      "95:\tlearn: 0.3692156\ttotal: 173ms\tremaining: 1.63s\n",
      "96:\tlearn: 0.3687128\ttotal: 174ms\tremaining: 1.62s\n",
      "97:\tlearn: 0.3679897\ttotal: 176ms\tremaining: 1.62s\n",
      "98:\tlearn: 0.3673604\ttotal: 178ms\tremaining: 1.62s\n",
      "99:\tlearn: 0.3665239\ttotal: 179ms\tremaining: 1.61s\n",
      "100:\tlearn: 0.3658415\ttotal: 181ms\tremaining: 1.61s\n",
      "101:\tlearn: 0.3652909\ttotal: 182ms\tremaining: 1.6s\n",
      "102:\tlearn: 0.3647725\ttotal: 184ms\tremaining: 1.6s\n",
      "103:\tlearn: 0.3638467\ttotal: 186ms\tremaining: 1.6s\n",
      "104:\tlearn: 0.3632685\ttotal: 189ms\tremaining: 1.61s\n",
      "105:\tlearn: 0.3625172\ttotal: 191ms\tremaining: 1.61s\n",
      "106:\tlearn: 0.3619285\ttotal: 193ms\tremaining: 1.61s\n",
      "107:\tlearn: 0.3610661\ttotal: 195ms\tremaining: 1.61s\n",
      "108:\tlearn: 0.3604383\ttotal: 197ms\tremaining: 1.61s\n",
      "109:\tlearn: 0.3596550\ttotal: 198ms\tremaining: 1.6s\n",
      "110:\tlearn: 0.3590306\ttotal: 200ms\tremaining: 1.6s\n",
      "111:\tlearn: 0.3579843\ttotal: 201ms\tremaining: 1.6s\n",
      "112:\tlearn: 0.3572079\ttotal: 203ms\tremaining: 1.59s\n",
      "113:\tlearn: 0.3562408\ttotal: 204ms\tremaining: 1.59s\n",
      "114:\tlearn: 0.3556842\ttotal: 206ms\tremaining: 1.59s\n",
      "115:\tlearn: 0.3551650\ttotal: 208ms\tremaining: 1.58s\n",
      "116:\tlearn: 0.3544112\ttotal: 209ms\tremaining: 1.58s\n",
      "117:\tlearn: 0.3536882\ttotal: 211ms\tremaining: 1.58s\n",
      "118:\tlearn: 0.3532176\ttotal: 213ms\tremaining: 1.58s\n",
      "119:\tlearn: 0.3525801\ttotal: 215ms\tremaining: 1.58s\n",
      "120:\tlearn: 0.3520061\ttotal: 217ms\tremaining: 1.57s\n",
      "121:\tlearn: 0.3513427\ttotal: 218ms\tremaining: 1.57s\n",
      "122:\tlearn: 0.3507525\ttotal: 220ms\tremaining: 1.57s\n",
      "123:\tlearn: 0.3500470\ttotal: 222ms\tremaining: 1.57s\n",
      "124:\tlearn: 0.3492833\ttotal: 224ms\tremaining: 1.57s\n",
      "125:\tlearn: 0.3486215\ttotal: 226ms\tremaining: 1.57s\n",
      "126:\tlearn: 0.3479391\ttotal: 228ms\tremaining: 1.57s\n",
      "127:\tlearn: 0.3475012\ttotal: 230ms\tremaining: 1.57s\n",
      "128:\tlearn: 0.3470226\ttotal: 232ms\tremaining: 1.57s\n",
      "129:\tlearn: 0.3466095\ttotal: 234ms\tremaining: 1.57s\n",
      "130:\tlearn: 0.3460019\ttotal: 236ms\tremaining: 1.57s\n",
      "131:\tlearn: 0.3454925\ttotal: 238ms\tremaining: 1.56s\n",
      "132:\tlearn: 0.3449631\ttotal: 240ms\tremaining: 1.56s\n",
      "133:\tlearn: 0.3445322\ttotal: 242ms\tremaining: 1.56s\n",
      "134:\tlearn: 0.3439822\ttotal: 243ms\tremaining: 1.56s\n",
      "135:\tlearn: 0.3434792\ttotal: 245ms\tremaining: 1.56s\n",
      "136:\tlearn: 0.3430085\ttotal: 247ms\tremaining: 1.56s\n",
      "137:\tlearn: 0.3425357\ttotal: 250ms\tremaining: 1.56s\n",
      "138:\tlearn: 0.3421187\ttotal: 252ms\tremaining: 1.56s\n",
      "139:\tlearn: 0.3415881\ttotal: 254ms\tremaining: 1.56s\n",
      "140:\tlearn: 0.3413572\ttotal: 256ms\tremaining: 1.56s\n",
      "141:\tlearn: 0.3408583\ttotal: 258ms\tremaining: 1.56s\n",
      "142:\tlearn: 0.3403829\ttotal: 260ms\tremaining: 1.56s\n",
      "143:\tlearn: 0.3398671\ttotal: 262ms\tremaining: 1.55s\n",
      "144:\tlearn: 0.3393303\ttotal: 264ms\tremaining: 1.55s\n",
      "145:\tlearn: 0.3388476\ttotal: 266ms\tremaining: 1.55s\n",
      "146:\tlearn: 0.3383175\ttotal: 268ms\tremaining: 1.55s\n",
      "147:\tlearn: 0.3378441\ttotal: 269ms\tremaining: 1.55s\n",
      "148:\tlearn: 0.3374555\ttotal: 271ms\tremaining: 1.55s\n",
      "149:\tlearn: 0.3370102\ttotal: 272ms\tremaining: 1.54s\n",
      "150:\tlearn: 0.3364802\ttotal: 274ms\tremaining: 1.54s\n",
      "151:\tlearn: 0.3360929\ttotal: 276ms\tremaining: 1.54s\n",
      "152:\tlearn: 0.3355980\ttotal: 278ms\tremaining: 1.54s\n",
      "153:\tlearn: 0.3351344\ttotal: 280ms\tremaining: 1.54s\n",
      "154:\tlearn: 0.3346248\ttotal: 282ms\tremaining: 1.54s\n",
      "155:\tlearn: 0.3345736\ttotal: 284ms\tremaining: 1.53s\n",
      "156:\tlearn: 0.3340119\ttotal: 286ms\tremaining: 1.53s\n",
      "157:\tlearn: 0.3335471\ttotal: 287ms\tremaining: 1.53s\n",
      "158:\tlearn: 0.3331221\ttotal: 290ms\tremaining: 1.53s\n",
      "159:\tlearn: 0.3327901\ttotal: 291ms\tremaining: 1.53s\n",
      "160:\tlearn: 0.3324432\ttotal: 294ms\tremaining: 1.53s\n",
      "161:\tlearn: 0.3319961\ttotal: 295ms\tremaining: 1.53s\n",
      "162:\tlearn: 0.3315617\ttotal: 297ms\tremaining: 1.53s\n",
      "163:\tlearn: 0.3308878\ttotal: 299ms\tremaining: 1.52s\n",
      "164:\tlearn: 0.3306920\ttotal: 301ms\tremaining: 1.52s\n",
      "165:\tlearn: 0.3303575\ttotal: 303ms\tremaining: 1.52s\n",
      "166:\tlearn: 0.3299902\ttotal: 305ms\tremaining: 1.52s\n",
      "167:\tlearn: 0.3296715\ttotal: 307ms\tremaining: 1.52s\n",
      "168:\tlearn: 0.3294581\ttotal: 308ms\tremaining: 1.52s\n",
      "169:\tlearn: 0.3289999\ttotal: 310ms\tremaining: 1.51s\n",
      "170:\tlearn: 0.3284590\ttotal: 312ms\tremaining: 1.51s\n",
      "171:\tlearn: 0.3281375\ttotal: 313ms\tremaining: 1.51s\n",
      "172:\tlearn: 0.3275365\ttotal: 315ms\tremaining: 1.5s\n",
      "173:\tlearn: 0.3273112\ttotal: 317ms\tremaining: 1.5s\n",
      "174:\tlearn: 0.3267432\ttotal: 319ms\tremaining: 1.5s\n",
      "175:\tlearn: 0.3266964\ttotal: 320ms\tremaining: 1.5s\n",
      "176:\tlearn: 0.3262867\ttotal: 322ms\tremaining: 1.5s\n",
      "177:\tlearn: 0.3258784\ttotal: 324ms\tremaining: 1.5s\n",
      "178:\tlearn: 0.3254224\ttotal: 326ms\tremaining: 1.49s\n",
      "179:\tlearn: 0.3251565\ttotal: 327ms\tremaining: 1.49s\n",
      "180:\tlearn: 0.3246982\ttotal: 329ms\tremaining: 1.49s\n",
      "181:\tlearn: 0.3243255\ttotal: 330ms\tremaining: 1.49s\n",
      "182:\tlearn: 0.3239046\ttotal: 332ms\tremaining: 1.48s\n",
      "183:\tlearn: 0.3236684\ttotal: 334ms\tremaining: 1.48s\n",
      "184:\tlearn: 0.3233457\ttotal: 335ms\tremaining: 1.48s\n",
      "185:\tlearn: 0.3229888\ttotal: 337ms\tremaining: 1.48s\n",
      "186:\tlearn: 0.3223010\ttotal: 339ms\tremaining: 1.47s\n",
      "187:\tlearn: 0.3218032\ttotal: 340ms\tremaining: 1.47s\n",
      "188:\tlearn: 0.3212428\ttotal: 342ms\tremaining: 1.47s\n",
      "189:\tlearn: 0.3209060\ttotal: 344ms\tremaining: 1.47s\n",
      "190:\tlearn: 0.3205062\ttotal: 346ms\tremaining: 1.47s\n",
      "191:\tlearn: 0.3200425\ttotal: 348ms\tremaining: 1.46s\n",
      "192:\tlearn: 0.3196131\ttotal: 349ms\tremaining: 1.46s\n",
      "193:\tlearn: 0.3195530\ttotal: 351ms\tremaining: 1.46s\n",
      "194:\tlearn: 0.3194294\ttotal: 353ms\tremaining: 1.46s\n",
      "195:\tlearn: 0.3191875\ttotal: 355ms\tremaining: 1.45s\n",
      "196:\tlearn: 0.3187303\ttotal: 356ms\tremaining: 1.45s\n",
      "197:\tlearn: 0.3185155\ttotal: 358ms\tremaining: 1.45s\n",
      "198:\tlearn: 0.3180894\ttotal: 360ms\tremaining: 1.45s\n",
      "199:\tlearn: 0.3176358\ttotal: 363ms\tremaining: 1.45s\n",
      "200:\tlearn: 0.3174266\ttotal: 364ms\tremaining: 1.45s\n",
      "201:\tlearn: 0.3170494\ttotal: 366ms\tremaining: 1.45s\n",
      "202:\tlearn: 0.3166614\ttotal: 368ms\tremaining: 1.44s\n",
      "203:\tlearn: 0.3163465\ttotal: 370ms\tremaining: 1.44s\n",
      "204:\tlearn: 0.3160851\ttotal: 371ms\tremaining: 1.44s\n",
      "205:\tlearn: 0.3156593\ttotal: 374ms\tremaining: 1.44s\n",
      "206:\tlearn: 0.3153920\ttotal: 376ms\tremaining: 1.44s\n",
      "207:\tlearn: 0.3148133\ttotal: 378ms\tremaining: 1.44s\n",
      "208:\tlearn: 0.3143703\ttotal: 380ms\tremaining: 1.44s\n",
      "209:\tlearn: 0.3140089\ttotal: 381ms\tremaining: 1.43s\n",
      "210:\tlearn: 0.3138751\ttotal: 383ms\tremaining: 1.43s\n",
      "211:\tlearn: 0.3133634\ttotal: 385ms\tremaining: 1.43s\n",
      "212:\tlearn: 0.3130821\ttotal: 386ms\tremaining: 1.43s\n",
      "213:\tlearn: 0.3126133\ttotal: 388ms\tremaining: 1.42s\n",
      "214:\tlearn: 0.3121938\ttotal: 390ms\tremaining: 1.42s\n",
      "215:\tlearn: 0.3121287\ttotal: 392ms\tremaining: 1.42s\n",
      "216:\tlearn: 0.3118139\ttotal: 394ms\tremaining: 1.42s\n",
      "217:\tlearn: 0.3117063\ttotal: 396ms\tremaining: 1.42s\n",
      "218:\tlearn: 0.3114214\ttotal: 397ms\tremaining: 1.42s\n",
      "219:\tlearn: 0.3108224\ttotal: 399ms\tremaining: 1.42s\n",
      "220:\tlearn: 0.3105308\ttotal: 401ms\tremaining: 1.41s\n",
      "221:\tlearn: 0.3100921\ttotal: 403ms\tremaining: 1.41s\n",
      "222:\tlearn: 0.3097232\ttotal: 405ms\tremaining: 1.41s\n",
      "223:\tlearn: 0.3093916\ttotal: 407ms\tremaining: 1.41s\n",
      "224:\tlearn: 0.3091527\ttotal: 408ms\tremaining: 1.41s\n",
      "225:\tlearn: 0.3088872\ttotal: 410ms\tremaining: 1.41s\n",
      "226:\tlearn: 0.3083453\ttotal: 412ms\tremaining: 1.4s\n",
      "227:\tlearn: 0.3079343\ttotal: 414ms\tremaining: 1.4s\n",
      "228:\tlearn: 0.3074011\ttotal: 415ms\tremaining: 1.4s\n",
      "229:\tlearn: 0.3069802\ttotal: 417ms\tremaining: 1.4s\n",
      "230:\tlearn: 0.3069367\ttotal: 419ms\tremaining: 1.39s\n",
      "231:\tlearn: 0.3069100\ttotal: 420ms\tremaining: 1.39s\n",
      "232:\tlearn: 0.3066077\ttotal: 422ms\tremaining: 1.39s\n",
      "233:\tlearn: 0.3061952\ttotal: 423ms\tremaining: 1.39s\n",
      "234:\tlearn: 0.3060378\ttotal: 425ms\tremaining: 1.38s\n",
      "235:\tlearn: 0.3059231\ttotal: 427ms\tremaining: 1.38s\n",
      "236:\tlearn: 0.3056479\ttotal: 428ms\tremaining: 1.38s\n",
      "237:\tlearn: 0.3054994\ttotal: 430ms\tremaining: 1.38s\n",
      "238:\tlearn: 0.3051708\ttotal: 432ms\tremaining: 1.38s\n",
      "239:\tlearn: 0.3049817\ttotal: 434ms\tremaining: 1.37s\n",
      "240:\tlearn: 0.3043982\ttotal: 435ms\tremaining: 1.37s\n",
      "241:\tlearn: 0.3041412\ttotal: 437ms\tremaining: 1.37s\n",
      "242:\tlearn: 0.3039175\ttotal: 438ms\tremaining: 1.36s\n",
      "243:\tlearn: 0.3035098\ttotal: 440ms\tremaining: 1.36s\n",
      "244:\tlearn: 0.3031762\ttotal: 441ms\tremaining: 1.36s\n",
      "245:\tlearn: 0.3027462\ttotal: 443ms\tremaining: 1.36s\n",
      "246:\tlearn: 0.3024570\ttotal: 444ms\tremaining: 1.35s\n",
      "247:\tlearn: 0.3022394\ttotal: 446ms\tremaining: 1.35s\n",
      "248:\tlearn: 0.3019218\ttotal: 448ms\tremaining: 1.35s\n",
      "249:\tlearn: 0.3018627\ttotal: 449ms\tremaining: 1.35s\n",
      "250:\tlearn: 0.3014142\ttotal: 451ms\tremaining: 1.34s\n",
      "251:\tlearn: 0.3013200\ttotal: 452ms\tremaining: 1.34s\n",
      "252:\tlearn: 0.3010637\ttotal: 454ms\tremaining: 1.34s\n",
      "253:\tlearn: 0.3007006\ttotal: 455ms\tremaining: 1.34s\n",
      "254:\tlearn: 0.3005297\ttotal: 457ms\tremaining: 1.33s\n",
      "255:\tlearn: 0.3002627\ttotal: 458ms\tremaining: 1.33s\n",
      "256:\tlearn: 0.3002428\ttotal: 460ms\tremaining: 1.33s\n",
      "257:\tlearn: 0.3001216\ttotal: 462ms\tremaining: 1.33s\n",
      "258:\tlearn: 0.3000201\ttotal: 464ms\tremaining: 1.33s\n",
      "259:\tlearn: 0.2997653\ttotal: 466ms\tremaining: 1.33s\n",
      "260:\tlearn: 0.2996343\ttotal: 468ms\tremaining: 1.32s\n",
      "261:\tlearn: 0.2992249\ttotal: 470ms\tremaining: 1.32s\n",
      "262:\tlearn: 0.2987813\ttotal: 472ms\tremaining: 1.32s\n",
      "263:\tlearn: 0.2985734\ttotal: 474ms\tremaining: 1.32s\n",
      "264:\tlearn: 0.2985374\ttotal: 475ms\tremaining: 1.32s\n",
      "265:\tlearn: 0.2981545\ttotal: 477ms\tremaining: 1.31s\n",
      "266:\tlearn: 0.2977609\ttotal: 478ms\tremaining: 1.31s\n",
      "267:\tlearn: 0.2972209\ttotal: 480ms\tremaining: 1.31s\n",
      "268:\tlearn: 0.2969248\ttotal: 482ms\tremaining: 1.31s\n",
      "269:\tlearn: 0.2963687\ttotal: 484ms\tremaining: 1.31s\n",
      "270:\tlearn: 0.2959936\ttotal: 485ms\tremaining: 1.3s\n",
      "271:\tlearn: 0.2956650\ttotal: 487ms\tremaining: 1.3s\n",
      "272:\tlearn: 0.2953206\ttotal: 489ms\tremaining: 1.3s\n",
      "273:\tlearn: 0.2951897\ttotal: 490ms\tremaining: 1.3s\n",
      "274:\tlearn: 0.2948458\ttotal: 492ms\tremaining: 1.3s\n",
      "275:\tlearn: 0.2948066\ttotal: 494ms\tremaining: 1.29s\n",
      "276:\tlearn: 0.2945042\ttotal: 495ms\tremaining: 1.29s\n",
      "277:\tlearn: 0.2941714\ttotal: 497ms\tremaining: 1.29s\n",
      "278:\tlearn: 0.2939682\ttotal: 499ms\tremaining: 1.29s\n",
      "279:\tlearn: 0.2936710\ttotal: 501ms\tremaining: 1.29s\n",
      "280:\tlearn: 0.2932333\ttotal: 503ms\tremaining: 1.29s\n",
      "281:\tlearn: 0.2929209\ttotal: 505ms\tremaining: 1.29s\n",
      "282:\tlearn: 0.2928172\ttotal: 507ms\tremaining: 1.28s\n",
      "283:\tlearn: 0.2924545\ttotal: 509ms\tremaining: 1.28s\n",
      "284:\tlearn: 0.2922975\ttotal: 511ms\tremaining: 1.28s\n",
      "285:\tlearn: 0.2919928\ttotal: 513ms\tremaining: 1.28s\n",
      "286:\tlearn: 0.2916171\ttotal: 515ms\tremaining: 1.28s\n",
      "287:\tlearn: 0.2913749\ttotal: 516ms\tremaining: 1.28s\n",
      "288:\tlearn: 0.2910123\ttotal: 518ms\tremaining: 1.27s\n",
      "289:\tlearn: 0.2907142\ttotal: 521ms\tremaining: 1.27s\n",
      "290:\tlearn: 0.2903880\ttotal: 522ms\tremaining: 1.27s\n",
      "291:\tlearn: 0.2901464\ttotal: 524ms\tremaining: 1.27s\n",
      "292:\tlearn: 0.2897009\ttotal: 526ms\tremaining: 1.27s\n",
      "293:\tlearn: 0.2891499\ttotal: 528ms\tremaining: 1.27s\n",
      "294:\tlearn: 0.2889362\ttotal: 530ms\tremaining: 1.26s\n",
      "295:\tlearn: 0.2887398\ttotal: 532ms\tremaining: 1.26s\n",
      "296:\tlearn: 0.2882585\ttotal: 534ms\tremaining: 1.26s\n",
      "297:\tlearn: 0.2878521\ttotal: 535ms\tremaining: 1.26s\n",
      "298:\tlearn: 0.2875521\ttotal: 537ms\tremaining: 1.26s\n",
      "299:\tlearn: 0.2872541\ttotal: 539ms\tremaining: 1.26s\n",
      "300:\tlearn: 0.2868675\ttotal: 540ms\tremaining: 1.25s\n",
      "301:\tlearn: 0.2866010\ttotal: 542ms\tremaining: 1.25s\n",
      "302:\tlearn: 0.2863519\ttotal: 543ms\tremaining: 1.25s\n",
      "303:\tlearn: 0.2859732\ttotal: 545ms\tremaining: 1.25s\n",
      "304:\tlearn: 0.2856727\ttotal: 547ms\tremaining: 1.25s\n",
      "305:\tlearn: 0.2854580\ttotal: 548ms\tremaining: 1.24s\n",
      "306:\tlearn: 0.2852112\ttotal: 550ms\tremaining: 1.24s\n",
      "307:\tlearn: 0.2850385\ttotal: 552ms\tremaining: 1.24s\n",
      "308:\tlearn: 0.2847885\ttotal: 554ms\tremaining: 1.24s\n",
      "309:\tlearn: 0.2847691\ttotal: 556ms\tremaining: 1.24s\n",
      "310:\tlearn: 0.2845546\ttotal: 558ms\tremaining: 1.24s\n",
      "311:\tlearn: 0.2841393\ttotal: 560ms\tremaining: 1.24s\n",
      "312:\tlearn: 0.2838860\ttotal: 562ms\tremaining: 1.23s\n",
      "313:\tlearn: 0.2834756\ttotal: 563ms\tremaining: 1.23s\n",
      "314:\tlearn: 0.2830625\ttotal: 565ms\tremaining: 1.23s\n",
      "315:\tlearn: 0.2827885\ttotal: 566ms\tremaining: 1.23s\n",
      "316:\tlearn: 0.2826354\ttotal: 568ms\tremaining: 1.22s\n",
      "317:\tlearn: 0.2823933\ttotal: 569ms\tremaining: 1.22s\n",
      "318:\tlearn: 0.2820303\ttotal: 571ms\tremaining: 1.22s\n",
      "319:\tlearn: 0.2818328\ttotal: 573ms\tremaining: 1.22s\n",
      "320:\tlearn: 0.2815833\ttotal: 574ms\tremaining: 1.21s\n",
      "321:\tlearn: 0.2812442\ttotal: 576ms\tremaining: 1.21s\n",
      "322:\tlearn: 0.2810868\ttotal: 578ms\tremaining: 1.21s\n",
      "323:\tlearn: 0.2807429\ttotal: 580ms\tremaining: 1.21s\n",
      "324:\tlearn: 0.2804414\ttotal: 582ms\tremaining: 1.21s\n",
      "325:\tlearn: 0.2801233\ttotal: 583ms\tremaining: 1.21s\n",
      "326:\tlearn: 0.2799843\ttotal: 585ms\tremaining: 1.2s\n",
      "327:\tlearn: 0.2795436\ttotal: 587ms\tremaining: 1.2s\n",
      "328:\tlearn: 0.2793270\ttotal: 589ms\tremaining: 1.2s\n",
      "329:\tlearn: 0.2790150\ttotal: 590ms\tremaining: 1.2s\n",
      "330:\tlearn: 0.2788699\ttotal: 592ms\tremaining: 1.2s\n",
      "331:\tlearn: 0.2784281\ttotal: 594ms\tremaining: 1.19s\n",
      "332:\tlearn: 0.2781590\ttotal: 595ms\tremaining: 1.19s\n",
      "333:\tlearn: 0.2778687\ttotal: 597ms\tremaining: 1.19s\n",
      "334:\tlearn: 0.2776990\ttotal: 598ms\tremaining: 1.19s\n",
      "335:\tlearn: 0.2774000\ttotal: 600ms\tremaining: 1.18s\n",
      "336:\tlearn: 0.2771005\ttotal: 601ms\tremaining: 1.18s\n",
      "337:\tlearn: 0.2768921\ttotal: 603ms\tremaining: 1.18s\n",
      "338:\tlearn: 0.2766043\ttotal: 604ms\tremaining: 1.18s\n",
      "339:\tlearn: 0.2764774\ttotal: 606ms\tremaining: 1.18s\n",
      "340:\tlearn: 0.2759671\ttotal: 607ms\tremaining: 1.17s\n",
      "341:\tlearn: 0.2757200\ttotal: 609ms\tremaining: 1.17s\n",
      "342:\tlearn: 0.2753906\ttotal: 610ms\tremaining: 1.17s\n",
      "343:\tlearn: 0.2749844\ttotal: 612ms\tremaining: 1.17s\n",
      "344:\tlearn: 0.2747674\ttotal: 614ms\tremaining: 1.16s\n",
      "345:\tlearn: 0.2745032\ttotal: 615ms\tremaining: 1.16s\n",
      "346:\tlearn: 0.2742826\ttotal: 617ms\tremaining: 1.16s\n",
      "347:\tlearn: 0.2739283\ttotal: 618ms\tremaining: 1.16s\n",
      "348:\tlearn: 0.2737982\ttotal: 620ms\tremaining: 1.16s\n",
      "349:\tlearn: 0.2734332\ttotal: 621ms\tremaining: 1.15s\n",
      "350:\tlearn: 0.2730746\ttotal: 623ms\tremaining: 1.15s\n",
      "351:\tlearn: 0.2728352\ttotal: 624ms\tremaining: 1.15s\n",
      "352:\tlearn: 0.2726334\ttotal: 626ms\tremaining: 1.15s\n",
      "353:\tlearn: 0.2721290\ttotal: 627ms\tremaining: 1.14s\n",
      "354:\tlearn: 0.2715692\ttotal: 630ms\tremaining: 1.14s\n",
      "355:\tlearn: 0.2712253\ttotal: 631ms\tremaining: 1.14s\n",
      "356:\tlearn: 0.2710202\ttotal: 633ms\tremaining: 1.14s\n",
      "357:\tlearn: 0.2706847\ttotal: 634ms\tremaining: 1.14s\n",
      "358:\tlearn: 0.2704723\ttotal: 636ms\tremaining: 1.14s\n",
      "359:\tlearn: 0.2700299\ttotal: 637ms\tremaining: 1.13s\n",
      "360:\tlearn: 0.2698387\ttotal: 639ms\tremaining: 1.13s\n",
      "361:\tlearn: 0.2697160\ttotal: 641ms\tremaining: 1.13s\n",
      "362:\tlearn: 0.2694131\ttotal: 642ms\tremaining: 1.13s\n",
      "363:\tlearn: 0.2690239\ttotal: 644ms\tremaining: 1.13s\n",
      "364:\tlearn: 0.2687286\ttotal: 645ms\tremaining: 1.12s\n",
      "365:\tlearn: 0.2684347\ttotal: 647ms\tremaining: 1.12s\n",
      "366:\tlearn: 0.2683458\ttotal: 648ms\tremaining: 1.12s\n",
      "367:\tlearn: 0.2683189\ttotal: 650ms\tremaining: 1.12s\n",
      "368:\tlearn: 0.2682790\ttotal: 652ms\tremaining: 1.11s\n",
      "369:\tlearn: 0.2679640\ttotal: 654ms\tremaining: 1.11s\n",
      "370:\tlearn: 0.2676739\ttotal: 655ms\tremaining: 1.11s\n",
      "371:\tlearn: 0.2672394\ttotal: 657ms\tremaining: 1.11s\n",
      "372:\tlearn: 0.2669526\ttotal: 658ms\tremaining: 1.11s\n",
      "373:\tlearn: 0.2666321\ttotal: 660ms\tremaining: 1.1s\n",
      "374:\tlearn: 0.2663902\ttotal: 661ms\tremaining: 1.1s\n",
      "375:\tlearn: 0.2659912\ttotal: 663ms\tremaining: 1.1s\n",
      "376:\tlearn: 0.2655958\ttotal: 664ms\tremaining: 1.1s\n",
      "377:\tlearn: 0.2652848\ttotal: 666ms\tremaining: 1.09s\n",
      "378:\tlearn: 0.2651170\ttotal: 667ms\tremaining: 1.09s\n",
      "379:\tlearn: 0.2646671\ttotal: 668ms\tremaining: 1.09s\n",
      "380:\tlearn: 0.2644045\ttotal: 670ms\tremaining: 1.09s\n",
      "381:\tlearn: 0.2640779\ttotal: 671ms\tremaining: 1.08s\n",
      "382:\tlearn: 0.2638516\ttotal: 672ms\tremaining: 1.08s\n",
      "383:\tlearn: 0.2637931\ttotal: 674ms\tremaining: 1.08s\n",
      "384:\tlearn: 0.2634475\ttotal: 676ms\tremaining: 1.08s\n",
      "385:\tlearn: 0.2631902\ttotal: 678ms\tremaining: 1.08s\n",
      "386:\tlearn: 0.2631723\ttotal: 679ms\tremaining: 1.07s\n",
      "387:\tlearn: 0.2630093\ttotal: 681ms\tremaining: 1.07s\n",
      "388:\tlearn: 0.2629316\ttotal: 682ms\tremaining: 1.07s\n",
      "389:\tlearn: 0.2626472\ttotal: 684ms\tremaining: 1.07s\n",
      "390:\tlearn: 0.2621475\ttotal: 685ms\tremaining: 1.07s\n",
      "391:\tlearn: 0.2618656\ttotal: 687ms\tremaining: 1.06s\n",
      "392:\tlearn: 0.2616964\ttotal: 688ms\tremaining: 1.06s\n",
      "393:\tlearn: 0.2614210\ttotal: 690ms\tremaining: 1.06s\n",
      "394:\tlearn: 0.2612329\ttotal: 691ms\tremaining: 1.06s\n",
      "395:\tlearn: 0.2608676\ttotal: 693ms\tremaining: 1.06s\n",
      "396:\tlearn: 0.2605585\ttotal: 694ms\tremaining: 1.05s\n",
      "397:\tlearn: 0.2601821\ttotal: 696ms\tremaining: 1.05s\n",
      "398:\tlearn: 0.2598237\ttotal: 698ms\tremaining: 1.05s\n",
      "399:\tlearn: 0.2595681\ttotal: 699ms\tremaining: 1.05s\n",
      "400:\tlearn: 0.2592775\ttotal: 701ms\tremaining: 1.05s\n",
      "401:\tlearn: 0.2589421\ttotal: 702ms\tremaining: 1.04s\n",
      "402:\tlearn: 0.2586572\ttotal: 704ms\tremaining: 1.04s\n",
      "403:\tlearn: 0.2583380\ttotal: 705ms\tremaining: 1.04s\n",
      "404:\tlearn: 0.2579121\ttotal: 707ms\tremaining: 1.04s\n",
      "405:\tlearn: 0.2577679\ttotal: 709ms\tremaining: 1.04s\n",
      "406:\tlearn: 0.2574887\ttotal: 711ms\tremaining: 1.03s\n",
      "407:\tlearn: 0.2571063\ttotal: 712ms\tremaining: 1.03s\n",
      "408:\tlearn: 0.2567512\ttotal: 714ms\tremaining: 1.03s\n",
      "409:\tlearn: 0.2565542\ttotal: 715ms\tremaining: 1.03s\n",
      "410:\tlearn: 0.2561743\ttotal: 717ms\tremaining: 1.03s\n",
      "411:\tlearn: 0.2559917\ttotal: 718ms\tremaining: 1.02s\n",
      "412:\tlearn: 0.2557238\ttotal: 720ms\tremaining: 1.02s\n",
      "413:\tlearn: 0.2553566\ttotal: 722ms\tremaining: 1.02s\n",
      "414:\tlearn: 0.2551273\ttotal: 723ms\tremaining: 1.02s\n",
      "415:\tlearn: 0.2549204\ttotal: 725ms\tremaining: 1.02s\n",
      "416:\tlearn: 0.2546186\ttotal: 726ms\tremaining: 1.01s\n",
      "417:\tlearn: 0.2544718\ttotal: 728ms\tremaining: 1.01s\n",
      "418:\tlearn: 0.2544506\ttotal: 729ms\tremaining: 1.01s\n",
      "419:\tlearn: 0.2541869\ttotal: 731ms\tremaining: 1.01s\n",
      "420:\tlearn: 0.2539637\ttotal: 732ms\tremaining: 1.01s\n",
      "421:\tlearn: 0.2536033\ttotal: 734ms\tremaining: 1s\n",
      "422:\tlearn: 0.2534648\ttotal: 736ms\tremaining: 1s\n",
      "423:\tlearn: 0.2532313\ttotal: 737ms\tremaining: 1s\n",
      "424:\tlearn: 0.2529670\ttotal: 739ms\tremaining: 1000ms\n",
      "425:\tlearn: 0.2525238\ttotal: 740ms\tremaining: 998ms\n",
      "426:\tlearn: 0.2522643\ttotal: 742ms\tremaining: 996ms\n",
      "427:\tlearn: 0.2521373\ttotal: 744ms\tremaining: 995ms\n",
      "428:\tlearn: 0.2516878\ttotal: 747ms\tremaining: 995ms\n",
      "429:\tlearn: 0.2514436\ttotal: 749ms\tremaining: 993ms\n",
      "430:\tlearn: 0.2511215\ttotal: 751ms\tremaining: 992ms\n",
      "431:\tlearn: 0.2510945\ttotal: 753ms\tremaining: 990ms\n",
      "432:\tlearn: 0.2508597\ttotal: 754ms\tremaining: 987ms\n",
      "433:\tlearn: 0.2504053\ttotal: 756ms\tremaining: 985ms\n",
      "434:\tlearn: 0.2500277\ttotal: 757ms\tremaining: 983ms\n",
      "435:\tlearn: 0.2497955\ttotal: 758ms\tremaining: 981ms\n",
      "436:\tlearn: 0.2494018\ttotal: 761ms\tremaining: 981ms\n",
      "437:\tlearn: 0.2490719\ttotal: 763ms\tremaining: 979ms\n",
      "438:\tlearn: 0.2490039\ttotal: 765ms\tremaining: 977ms\n",
      "439:\tlearn: 0.2487626\ttotal: 767ms\tremaining: 976ms\n",
      "440:\tlearn: 0.2483625\ttotal: 769ms\tremaining: 974ms\n",
      "441:\tlearn: 0.2481832\ttotal: 771ms\tremaining: 973ms\n",
      "442:\tlearn: 0.2478897\ttotal: 772ms\tremaining: 971ms\n",
      "443:\tlearn: 0.2477304\ttotal: 774ms\tremaining: 969ms\n",
      "444:\tlearn: 0.2475816\ttotal: 776ms\tremaining: 968ms\n",
      "445:\tlearn: 0.2472706\ttotal: 777ms\tremaining: 966ms\n",
      "446:\tlearn: 0.2470857\ttotal: 779ms\tremaining: 964ms\n",
      "447:\tlearn: 0.2469273\ttotal: 780ms\tremaining: 962ms\n",
      "448:\tlearn: 0.2467857\ttotal: 782ms\tremaining: 960ms\n",
      "449:\tlearn: 0.2467179\ttotal: 784ms\tremaining: 958ms\n",
      "450:\tlearn: 0.2466627\ttotal: 785ms\tremaining: 956ms\n",
      "451:\tlearn: 0.2464261\ttotal: 787ms\tremaining: 954ms\n",
      "452:\tlearn: 0.2462673\ttotal: 789ms\tremaining: 952ms\n",
      "453:\tlearn: 0.2458426\ttotal: 790ms\tremaining: 951ms\n",
      "454:\tlearn: 0.2454631\ttotal: 792ms\tremaining: 949ms\n",
      "455:\tlearn: 0.2452131\ttotal: 794ms\tremaining: 947ms\n",
      "456:\tlearn: 0.2448614\ttotal: 796ms\tremaining: 946ms\n",
      "457:\tlearn: 0.2445142\ttotal: 798ms\tremaining: 944ms\n",
      "458:\tlearn: 0.2441125\ttotal: 799ms\tremaining: 942ms\n",
      "459:\tlearn: 0.2436375\ttotal: 801ms\tremaining: 940ms\n",
      "460:\tlearn: 0.2433238\ttotal: 803ms\tremaining: 939ms\n",
      "461:\tlearn: 0.2431055\ttotal: 805ms\tremaining: 937ms\n",
      "462:\tlearn: 0.2430613\ttotal: 806ms\tremaining: 935ms\n",
      "463:\tlearn: 0.2426740\ttotal: 808ms\tremaining: 934ms\n",
      "464:\tlearn: 0.2424019\ttotal: 810ms\tremaining: 932ms\n",
      "465:\tlearn: 0.2420809\ttotal: 812ms\tremaining: 931ms\n",
      "466:\tlearn: 0.2418852\ttotal: 814ms\tremaining: 929ms\n",
      "467:\tlearn: 0.2417434\ttotal: 816ms\tremaining: 927ms\n",
      "468:\tlearn: 0.2414887\ttotal: 817ms\tremaining: 926ms\n",
      "469:\tlearn: 0.2411189\ttotal: 820ms\tremaining: 924ms\n",
      "470:\tlearn: 0.2408142\ttotal: 822ms\tremaining: 923ms\n",
      "471:\tlearn: 0.2404381\ttotal: 823ms\tremaining: 921ms\n",
      "472:\tlearn: 0.2402689\ttotal: 825ms\tremaining: 919ms\n",
      "473:\tlearn: 0.2401087\ttotal: 826ms\tremaining: 917ms\n",
      "474:\tlearn: 0.2400844\ttotal: 828ms\tremaining: 915ms\n",
      "475:\tlearn: 0.2397295\ttotal: 829ms\tremaining: 913ms\n",
      "476:\tlearn: 0.2393144\ttotal: 831ms\tremaining: 911ms\n",
      "477:\tlearn: 0.2390024\ttotal: 832ms\tremaining: 909ms\n",
      "478:\tlearn: 0.2386882\ttotal: 834ms\tremaining: 907ms\n",
      "479:\tlearn: 0.2383121\ttotal: 836ms\tremaining: 905ms\n",
      "480:\tlearn: 0.2381567\ttotal: 838ms\tremaining: 904ms\n",
      "481:\tlearn: 0.2379750\ttotal: 840ms\tremaining: 902ms\n",
      "482:\tlearn: 0.2377646\ttotal: 841ms\tremaining: 901ms\n",
      "483:\tlearn: 0.2374503\ttotal: 843ms\tremaining: 899ms\n",
      "484:\tlearn: 0.2372190\ttotal: 845ms\tremaining: 897ms\n",
      "485:\tlearn: 0.2371136\ttotal: 846ms\tremaining: 895ms\n",
      "486:\tlearn: 0.2368697\ttotal: 848ms\tremaining: 893ms\n",
      "487:\tlearn: 0.2365364\ttotal: 850ms\tremaining: 892ms\n",
      "488:\tlearn: 0.2361914\ttotal: 851ms\tremaining: 890ms\n",
      "489:\tlearn: 0.2358739\ttotal: 853ms\tremaining: 888ms\n",
      "490:\tlearn: 0.2355781\ttotal: 855ms\tremaining: 886ms\n",
      "491:\tlearn: 0.2351984\ttotal: 856ms\tremaining: 884ms\n",
      "492:\tlearn: 0.2349099\ttotal: 858ms\tremaining: 882ms\n",
      "493:\tlearn: 0.2345012\ttotal: 859ms\tremaining: 880ms\n",
      "494:\tlearn: 0.2341526\ttotal: 861ms\tremaining: 878ms\n",
      "495:\tlearn: 0.2337991\ttotal: 862ms\tremaining: 876ms\n",
      "496:\tlearn: 0.2335073\ttotal: 864ms\tremaining: 874ms\n",
      "497:\tlearn: 0.2333803\ttotal: 865ms\tremaining: 872ms\n",
      "498:\tlearn: 0.2330752\ttotal: 867ms\tremaining: 871ms\n",
      "499:\tlearn: 0.2327243\ttotal: 869ms\tremaining: 869ms\n",
      "500:\tlearn: 0.2325831\ttotal: 870ms\tremaining: 867ms\n",
      "501:\tlearn: 0.2322753\ttotal: 872ms\tremaining: 865ms\n",
      "502:\tlearn: 0.2319947\ttotal: 873ms\tremaining: 863ms\n",
      "503:\tlearn: 0.2317357\ttotal: 874ms\tremaining: 860ms\n",
      "504:\tlearn: 0.2315354\ttotal: 876ms\tremaining: 859ms\n",
      "505:\tlearn: 0.2311221\ttotal: 878ms\tremaining: 857ms\n",
      "506:\tlearn: 0.2308185\ttotal: 879ms\tremaining: 855ms\n",
      "507:\tlearn: 0.2307999\ttotal: 881ms\tremaining: 853ms\n",
      "508:\tlearn: 0.2305848\ttotal: 882ms\tremaining: 851ms\n",
      "509:\tlearn: 0.2303299\ttotal: 884ms\tremaining: 849ms\n",
      "510:\tlearn: 0.2299648\ttotal: 886ms\tremaining: 848ms\n",
      "511:\tlearn: 0.2297674\ttotal: 887ms\tremaining: 846ms\n",
      "512:\tlearn: 0.2295263\ttotal: 889ms\tremaining: 844ms\n",
      "513:\tlearn: 0.2291959\ttotal: 891ms\tremaining: 843ms\n",
      "514:\tlearn: 0.2288199\ttotal: 893ms\tremaining: 841ms\n",
      "515:\tlearn: 0.2285415\ttotal: 894ms\tremaining: 839ms\n",
      "516:\tlearn: 0.2283117\ttotal: 896ms\tremaining: 837ms\n",
      "517:\tlearn: 0.2281128\ttotal: 897ms\tremaining: 835ms\n",
      "518:\tlearn: 0.2278400\ttotal: 899ms\tremaining: 833ms\n",
      "519:\tlearn: 0.2275799\ttotal: 901ms\tremaining: 831ms\n",
      "520:\tlearn: 0.2272630\ttotal: 902ms\tremaining: 829ms\n",
      "521:\tlearn: 0.2269131\ttotal: 904ms\tremaining: 828ms\n",
      "522:\tlearn: 0.2266165\ttotal: 905ms\tremaining: 826ms\n",
      "523:\tlearn: 0.2264138\ttotal: 907ms\tremaining: 824ms\n",
      "524:\tlearn: 0.2262003\ttotal: 909ms\tremaining: 822ms\n",
      "525:\tlearn: 0.2258787\ttotal: 910ms\tremaining: 820ms\n",
      "526:\tlearn: 0.2255984\ttotal: 913ms\tremaining: 819ms\n",
      "527:\tlearn: 0.2254591\ttotal: 915ms\tremaining: 818ms\n",
      "528:\tlearn: 0.2251942\ttotal: 916ms\tremaining: 816ms\n",
      "529:\tlearn: 0.2248816\ttotal: 918ms\tremaining: 814ms\n",
      "530:\tlearn: 0.2246156\ttotal: 919ms\tremaining: 812ms\n",
      "531:\tlearn: 0.2241802\ttotal: 921ms\tremaining: 810ms\n",
      "532:\tlearn: 0.2238272\ttotal: 922ms\tremaining: 808ms\n",
      "533:\tlearn: 0.2236149\ttotal: 924ms\tremaining: 806ms\n",
      "534:\tlearn: 0.2234443\ttotal: 925ms\tremaining: 804ms\n",
      "535:\tlearn: 0.2230381\ttotal: 926ms\tremaining: 802ms\n",
      "536:\tlearn: 0.2228850\ttotal: 928ms\tremaining: 800ms\n",
      "537:\tlearn: 0.2226223\ttotal: 929ms\tremaining: 798ms\n",
      "538:\tlearn: 0.2223681\ttotal: 931ms\tremaining: 796ms\n",
      "539:\tlearn: 0.2220600\ttotal: 934ms\tremaining: 796ms\n",
      "540:\tlearn: 0.2218486\ttotal: 936ms\tremaining: 794ms\n",
      "541:\tlearn: 0.2215521\ttotal: 938ms\tremaining: 792ms\n",
      "542:\tlearn: 0.2213565\ttotal: 939ms\tremaining: 790ms\n",
      "543:\tlearn: 0.2210468\ttotal: 941ms\tremaining: 789ms\n",
      "544:\tlearn: 0.2208272\ttotal: 942ms\tremaining: 787ms\n",
      "545:\tlearn: 0.2202898\ttotal: 944ms\tremaining: 785ms\n",
      "546:\tlearn: 0.2199781\ttotal: 945ms\tremaining: 783ms\n",
      "547:\tlearn: 0.2197412\ttotal: 947ms\tremaining: 781ms\n",
      "548:\tlearn: 0.2194851\ttotal: 948ms\tremaining: 779ms\n",
      "549:\tlearn: 0.2192041\ttotal: 950ms\tremaining: 777ms\n",
      "550:\tlearn: 0.2190325\ttotal: 952ms\tremaining: 775ms\n",
      "551:\tlearn: 0.2188051\ttotal: 953ms\tremaining: 774ms\n",
      "552:\tlearn: 0.2186303\ttotal: 955ms\tremaining: 772ms\n",
      "553:\tlearn: 0.2183319\ttotal: 957ms\tremaining: 770ms\n",
      "554:\tlearn: 0.2179541\ttotal: 958ms\tremaining: 768ms\n",
      "555:\tlearn: 0.2176406\ttotal: 960ms\tremaining: 767ms\n",
      "556:\tlearn: 0.2173406\ttotal: 962ms\tremaining: 765ms\n",
      "557:\tlearn: 0.2170748\ttotal: 963ms\tremaining: 763ms\n",
      "558:\tlearn: 0.2167687\ttotal: 965ms\tremaining: 761ms\n",
      "559:\tlearn: 0.2166188\ttotal: 966ms\tremaining: 759ms\n",
      "560:\tlearn: 0.2165443\ttotal: 968ms\tremaining: 757ms\n",
      "561:\tlearn: 0.2161688\ttotal: 969ms\tremaining: 755ms\n",
      "562:\tlearn: 0.2160018\ttotal: 971ms\tremaining: 753ms\n",
      "563:\tlearn: 0.2157597\ttotal: 972ms\tremaining: 751ms\n",
      "564:\tlearn: 0.2153775\ttotal: 974ms\tremaining: 750ms\n",
      "565:\tlearn: 0.2150819\ttotal: 975ms\tremaining: 748ms\n",
      "566:\tlearn: 0.2148907\ttotal: 976ms\tremaining: 746ms\n",
      "567:\tlearn: 0.2146312\ttotal: 978ms\tremaining: 744ms\n",
      "568:\tlearn: 0.2143499\ttotal: 979ms\tremaining: 742ms\n",
      "569:\tlearn: 0.2140270\ttotal: 981ms\tremaining: 740ms\n",
      "570:\tlearn: 0.2137665\ttotal: 982ms\tremaining: 738ms\n",
      "571:\tlearn: 0.2134096\ttotal: 983ms\tremaining: 736ms\n",
      "572:\tlearn: 0.2131393\ttotal: 985ms\tremaining: 734ms\n",
      "573:\tlearn: 0.2129688\ttotal: 986ms\tremaining: 732ms\n",
      "574:\tlearn: 0.2126252\ttotal: 988ms\tremaining: 730ms\n",
      "575:\tlearn: 0.2122351\ttotal: 989ms\tremaining: 728ms\n",
      "576:\tlearn: 0.2119666\ttotal: 991ms\tremaining: 726ms\n",
      "577:\tlearn: 0.2116153\ttotal: 993ms\tremaining: 725ms\n",
      "578:\tlearn: 0.2112737\ttotal: 994ms\tremaining: 723ms\n",
      "579:\tlearn: 0.2110015\ttotal: 996ms\tremaining: 721ms\n",
      "580:\tlearn: 0.2107847\ttotal: 998ms\tremaining: 719ms\n",
      "581:\tlearn: 0.2105033\ttotal: 999ms\tremaining: 718ms\n",
      "582:\tlearn: 0.2102695\ttotal: 1s\tremaining: 716ms\n",
      "583:\tlearn: 0.2100320\ttotal: 1s\tremaining: 714ms\n",
      "584:\tlearn: 0.2097677\ttotal: 1s\tremaining: 712ms\n",
      "585:\tlearn: 0.2095368\ttotal: 1s\tremaining: 710ms\n",
      "586:\tlearn: 0.2091792\ttotal: 1.01s\tremaining: 708ms\n",
      "587:\tlearn: 0.2089717\ttotal: 1.01s\tremaining: 706ms\n",
      "588:\tlearn: 0.2086662\ttotal: 1.01s\tremaining: 705ms\n",
      "589:\tlearn: 0.2084325\ttotal: 1.01s\tremaining: 703ms\n",
      "590:\tlearn: 0.2082543\ttotal: 1.01s\tremaining: 701ms\n",
      "591:\tlearn: 0.2079933\ttotal: 1.01s\tremaining: 699ms\n",
      "592:\tlearn: 0.2079741\ttotal: 1.02s\tremaining: 698ms\n",
      "593:\tlearn: 0.2076802\ttotal: 1.02s\tremaining: 696ms\n",
      "594:\tlearn: 0.2074453\ttotal: 1.02s\tremaining: 694ms\n",
      "595:\tlearn: 0.2072319\ttotal: 1.02s\tremaining: 692ms\n",
      "596:\tlearn: 0.2070077\ttotal: 1.02s\tremaining: 690ms\n",
      "597:\tlearn: 0.2067965\ttotal: 1.02s\tremaining: 688ms\n",
      "598:\tlearn: 0.2065558\ttotal: 1.02s\tremaining: 686ms\n",
      "599:\tlearn: 0.2062888\ttotal: 1.03s\tremaining: 685ms\n",
      "600:\tlearn: 0.2060131\ttotal: 1.03s\tremaining: 683ms\n",
      "601:\tlearn: 0.2057934\ttotal: 1.03s\tremaining: 681ms\n",
      "602:\tlearn: 0.2057737\ttotal: 1.03s\tremaining: 679ms\n",
      "603:\tlearn: 0.2055239\ttotal: 1.03s\tremaining: 678ms\n",
      "604:\tlearn: 0.2052796\ttotal: 1.03s\tremaining: 676ms\n",
      "605:\tlearn: 0.2051171\ttotal: 1.04s\tremaining: 674ms\n",
      "606:\tlearn: 0.2048110\ttotal: 1.04s\tremaining: 672ms\n",
      "607:\tlearn: 0.2046177\ttotal: 1.04s\tremaining: 670ms\n",
      "608:\tlearn: 0.2043733\ttotal: 1.04s\tremaining: 668ms\n",
      "609:\tlearn: 0.2042800\ttotal: 1.04s\tremaining: 666ms\n",
      "610:\tlearn: 0.2039474\ttotal: 1.04s\tremaining: 665ms\n",
      "611:\tlearn: 0.2037166\ttotal: 1.04s\tremaining: 663ms\n",
      "612:\tlearn: 0.2034149\ttotal: 1.05s\tremaining: 661ms\n",
      "613:\tlearn: 0.2031903\ttotal: 1.05s\tremaining: 659ms\n",
      "614:\tlearn: 0.2029537\ttotal: 1.05s\tremaining: 657ms\n",
      "615:\tlearn: 0.2027869\ttotal: 1.05s\tremaining: 655ms\n",
      "616:\tlearn: 0.2025779\ttotal: 1.05s\tremaining: 653ms\n",
      "617:\tlearn: 0.2023103\ttotal: 1.05s\tremaining: 651ms\n",
      "618:\tlearn: 0.2020923\ttotal: 1.05s\tremaining: 649ms\n",
      "619:\tlearn: 0.2017936\ttotal: 1.06s\tremaining: 648ms\n",
      "620:\tlearn: 0.2016279\ttotal: 1.06s\tremaining: 646ms\n",
      "621:\tlearn: 0.2015469\ttotal: 1.06s\tremaining: 644ms\n",
      "622:\tlearn: 0.2013076\ttotal: 1.06s\tremaining: 642ms\n",
      "623:\tlearn: 0.2011715\ttotal: 1.06s\tremaining: 640ms\n",
      "624:\tlearn: 0.2009760\ttotal: 1.06s\tremaining: 638ms\n",
      "625:\tlearn: 0.2007495\ttotal: 1.06s\tremaining: 636ms\n",
      "626:\tlearn: 0.2005192\ttotal: 1.07s\tremaining: 635ms\n",
      "627:\tlearn: 0.2003631\ttotal: 1.07s\tremaining: 633ms\n",
      "628:\tlearn: 0.2001579\ttotal: 1.07s\tremaining: 631ms\n",
      "629:\tlearn: 0.1999302\ttotal: 1.07s\tremaining: 629ms\n",
      "630:\tlearn: 0.1996624\ttotal: 1.07s\tremaining: 627ms\n",
      "631:\tlearn: 0.1994651\ttotal: 1.07s\tremaining: 626ms\n",
      "632:\tlearn: 0.1994143\ttotal: 1.08s\tremaining: 624ms\n",
      "633:\tlearn: 0.1991606\ttotal: 1.08s\tremaining: 622ms\n",
      "634:\tlearn: 0.1988778\ttotal: 1.08s\tremaining: 620ms\n",
      "635:\tlearn: 0.1986470\ttotal: 1.08s\tremaining: 618ms\n",
      "636:\tlearn: 0.1984324\ttotal: 1.08s\tremaining: 617ms\n",
      "637:\tlearn: 0.1982195\ttotal: 1.08s\tremaining: 615ms\n",
      "638:\tlearn: 0.1978829\ttotal: 1.08s\tremaining: 613ms\n",
      "639:\tlearn: 0.1976992\ttotal: 1.09s\tremaining: 611ms\n",
      "640:\tlearn: 0.1974522\ttotal: 1.09s\tremaining: 610ms\n",
      "641:\tlearn: 0.1973280\ttotal: 1.09s\tremaining: 608ms\n",
      "642:\tlearn: 0.1970659\ttotal: 1.09s\tremaining: 606ms\n",
      "643:\tlearn: 0.1968215\ttotal: 1.09s\tremaining: 604ms\n",
      "644:\tlearn: 0.1965966\ttotal: 1.09s\tremaining: 602ms\n",
      "645:\tlearn: 0.1963342\ttotal: 1.09s\tremaining: 600ms\n",
      "646:\tlearn: 0.1960522\ttotal: 1.1s\tremaining: 598ms\n",
      "647:\tlearn: 0.1959192\ttotal: 1.1s\tremaining: 597ms\n",
      "648:\tlearn: 0.1956611\ttotal: 1.1s\tremaining: 595ms\n",
      "649:\tlearn: 0.1954731\ttotal: 1.1s\tremaining: 593ms\n",
      "650:\tlearn: 0.1953393\ttotal: 1.1s\tremaining: 591ms\n",
      "651:\tlearn: 0.1950609\ttotal: 1.1s\tremaining: 589ms\n",
      "652:\tlearn: 0.1948650\ttotal: 1.1s\tremaining: 587ms\n",
      "653:\tlearn: 0.1948489\ttotal: 1.11s\tremaining: 585ms\n",
      "654:\tlearn: 0.1946988\ttotal: 1.11s\tremaining: 584ms\n",
      "655:\tlearn: 0.1944711\ttotal: 1.11s\tremaining: 582ms\n",
      "656:\tlearn: 0.1943007\ttotal: 1.11s\tremaining: 580ms\n",
      "657:\tlearn: 0.1941448\ttotal: 1.11s\tremaining: 578ms\n",
      "658:\tlearn: 0.1938509\ttotal: 1.11s\tremaining: 577ms\n",
      "659:\tlearn: 0.1935349\ttotal: 1.12s\tremaining: 575ms\n",
      "660:\tlearn: 0.1933343\ttotal: 1.12s\tremaining: 573ms\n",
      "661:\tlearn: 0.1930570\ttotal: 1.12s\tremaining: 571ms\n",
      "662:\tlearn: 0.1927513\ttotal: 1.12s\tremaining: 570ms\n",
      "663:\tlearn: 0.1925376\ttotal: 1.12s\tremaining: 569ms\n",
      "664:\tlearn: 0.1922540\ttotal: 1.13s\tremaining: 567ms\n",
      "665:\tlearn: 0.1920533\ttotal: 1.13s\tremaining: 567ms\n",
      "666:\tlearn: 0.1918408\ttotal: 1.13s\tremaining: 565ms\n",
      "667:\tlearn: 0.1915407\ttotal: 1.13s\tremaining: 563ms\n",
      "668:\tlearn: 0.1914358\ttotal: 1.13s\tremaining: 562ms\n",
      "669:\tlearn: 0.1912320\ttotal: 1.14s\tremaining: 560ms\n",
      "670:\tlearn: 0.1910971\ttotal: 1.14s\tremaining: 558ms\n",
      "671:\tlearn: 0.1909263\ttotal: 1.14s\tremaining: 556ms\n",
      "672:\tlearn: 0.1906582\ttotal: 1.14s\tremaining: 554ms\n",
      "673:\tlearn: 0.1904283\ttotal: 1.14s\tremaining: 553ms\n",
      "674:\tlearn: 0.1902090\ttotal: 1.14s\tremaining: 551ms\n",
      "675:\tlearn: 0.1898988\ttotal: 1.15s\tremaining: 549ms\n",
      "676:\tlearn: 0.1898846\ttotal: 1.15s\tremaining: 547ms\n",
      "677:\tlearn: 0.1896941\ttotal: 1.15s\tremaining: 546ms\n",
      "678:\tlearn: 0.1895602\ttotal: 1.15s\tremaining: 544ms\n",
      "679:\tlearn: 0.1893328\ttotal: 1.15s\tremaining: 542ms\n",
      "680:\tlearn: 0.1891354\ttotal: 1.15s\tremaining: 540ms\n",
      "681:\tlearn: 0.1889502\ttotal: 1.16s\tremaining: 539ms\n",
      "682:\tlearn: 0.1887244\ttotal: 1.16s\tremaining: 537ms\n",
      "683:\tlearn: 0.1884890\ttotal: 1.16s\tremaining: 535ms\n",
      "684:\tlearn: 0.1882752\ttotal: 1.16s\tremaining: 533ms\n",
      "685:\tlearn: 0.1879807\ttotal: 1.16s\tremaining: 532ms\n",
      "686:\tlearn: 0.1877478\ttotal: 1.16s\tremaining: 530ms\n",
      "687:\tlearn: 0.1875590\ttotal: 1.17s\tremaining: 528ms\n",
      "688:\tlearn: 0.1874028\ttotal: 1.17s\tremaining: 527ms\n",
      "689:\tlearn: 0.1872178\ttotal: 1.17s\tremaining: 525ms\n",
      "690:\tlearn: 0.1870393\ttotal: 1.17s\tremaining: 523ms\n",
      "691:\tlearn: 0.1868154\ttotal: 1.17s\tremaining: 521ms\n",
      "692:\tlearn: 0.1866516\ttotal: 1.17s\tremaining: 520ms\n",
      "693:\tlearn: 0.1864554\ttotal: 1.17s\tremaining: 518ms\n",
      "694:\tlearn: 0.1862831\ttotal: 1.18s\tremaining: 516ms\n",
      "695:\tlearn: 0.1860619\ttotal: 1.18s\tremaining: 514ms\n",
      "696:\tlearn: 0.1858066\ttotal: 1.18s\tremaining: 512ms\n",
      "697:\tlearn: 0.1856004\ttotal: 1.18s\tremaining: 511ms\n",
      "698:\tlearn: 0.1853693\ttotal: 1.18s\tremaining: 509ms\n",
      "699:\tlearn: 0.1851689\ttotal: 1.18s\tremaining: 507ms\n",
      "700:\tlearn: 0.1849577\ttotal: 1.18s\tremaining: 505ms\n",
      "701:\tlearn: 0.1847596\ttotal: 1.19s\tremaining: 504ms\n",
      "702:\tlearn: 0.1846625\ttotal: 1.19s\tremaining: 502ms\n",
      "703:\tlearn: 0.1845756\ttotal: 1.19s\tremaining: 500ms\n",
      "704:\tlearn: 0.1843556\ttotal: 1.19s\tremaining: 498ms\n",
      "705:\tlearn: 0.1841608\ttotal: 1.19s\tremaining: 497ms\n",
      "706:\tlearn: 0.1838724\ttotal: 1.19s\tremaining: 495ms\n",
      "707:\tlearn: 0.1836867\ttotal: 1.2s\tremaining: 493ms\n",
      "708:\tlearn: 0.1834690\ttotal: 1.2s\tremaining: 491ms\n",
      "709:\tlearn: 0.1832706\ttotal: 1.2s\tremaining: 490ms\n",
      "710:\tlearn: 0.1830386\ttotal: 1.2s\tremaining: 488ms\n",
      "711:\tlearn: 0.1827140\ttotal: 1.2s\tremaining: 486ms\n",
      "712:\tlearn: 0.1826343\ttotal: 1.2s\tremaining: 484ms\n",
      "713:\tlearn: 0.1824065\ttotal: 1.2s\tremaining: 482ms\n",
      "714:\tlearn: 0.1822191\ttotal: 1.21s\tremaining: 481ms\n",
      "715:\tlearn: 0.1820563\ttotal: 1.21s\tremaining: 479ms\n",
      "716:\tlearn: 0.1818022\ttotal: 1.21s\tremaining: 477ms\n",
      "717:\tlearn: 0.1816188\ttotal: 1.21s\tremaining: 475ms\n",
      "718:\tlearn: 0.1814660\ttotal: 1.21s\tremaining: 473ms\n",
      "719:\tlearn: 0.1812504\ttotal: 1.21s\tremaining: 472ms\n",
      "720:\tlearn: 0.1810103\ttotal: 1.21s\tremaining: 470ms\n",
      "721:\tlearn: 0.1808045\ttotal: 1.22s\tremaining: 468ms\n",
      "722:\tlearn: 0.1807435\ttotal: 1.22s\tremaining: 466ms\n",
      "723:\tlearn: 0.1805640\ttotal: 1.22s\tremaining: 465ms\n",
      "724:\tlearn: 0.1803174\ttotal: 1.22s\tremaining: 463ms\n",
      "725:\tlearn: 0.1800707\ttotal: 1.22s\tremaining: 461ms\n",
      "726:\tlearn: 0.1798666\ttotal: 1.22s\tremaining: 459ms\n",
      "727:\tlearn: 0.1796079\ttotal: 1.22s\tremaining: 458ms\n",
      "728:\tlearn: 0.1793639\ttotal: 1.23s\tremaining: 456ms\n",
      "729:\tlearn: 0.1791235\ttotal: 1.23s\tremaining: 454ms\n",
      "730:\tlearn: 0.1791109\ttotal: 1.23s\tremaining: 452ms\n",
      "731:\tlearn: 0.1788984\ttotal: 1.23s\tremaining: 450ms\n",
      "732:\tlearn: 0.1787905\ttotal: 1.23s\tremaining: 449ms\n",
      "733:\tlearn: 0.1786461\ttotal: 1.23s\tremaining: 447ms\n",
      "734:\tlearn: 0.1784759\ttotal: 1.23s\tremaining: 445ms\n",
      "735:\tlearn: 0.1782332\ttotal: 1.24s\tremaining: 443ms\n",
      "736:\tlearn: 0.1781096\ttotal: 1.24s\tremaining: 442ms\n",
      "737:\tlearn: 0.1779928\ttotal: 1.24s\tremaining: 440ms\n",
      "738:\tlearn: 0.1777822\ttotal: 1.24s\tremaining: 438ms\n",
      "739:\tlearn: 0.1776614\ttotal: 1.24s\tremaining: 436ms\n",
      "740:\tlearn: 0.1774207\ttotal: 1.24s\tremaining: 435ms\n",
      "741:\tlearn: 0.1772218\ttotal: 1.25s\tremaining: 433ms\n",
      "742:\tlearn: 0.1769259\ttotal: 1.25s\tremaining: 431ms\n",
      "743:\tlearn: 0.1767184\ttotal: 1.25s\tremaining: 430ms\n",
      "744:\tlearn: 0.1766039\ttotal: 1.25s\tremaining: 428ms\n",
      "745:\tlearn: 0.1763231\ttotal: 1.25s\tremaining: 426ms\n",
      "746:\tlearn: 0.1760780\ttotal: 1.25s\tremaining: 424ms\n",
      "747:\tlearn: 0.1759947\ttotal: 1.25s\tremaining: 423ms\n",
      "748:\tlearn: 0.1757884\ttotal: 1.26s\tremaining: 421ms\n",
      "749:\tlearn: 0.1755872\ttotal: 1.26s\tremaining: 419ms\n",
      "750:\tlearn: 0.1754432\ttotal: 1.26s\tremaining: 418ms\n",
      "751:\tlearn: 0.1752447\ttotal: 1.26s\tremaining: 416ms\n",
      "752:\tlearn: 0.1751507\ttotal: 1.26s\tremaining: 414ms\n",
      "753:\tlearn: 0.1749470\ttotal: 1.26s\tremaining: 412ms\n",
      "754:\tlearn: 0.1747504\ttotal: 1.26s\tremaining: 411ms\n",
      "755:\tlearn: 0.1746484\ttotal: 1.27s\tremaining: 409ms\n",
      "756:\tlearn: 0.1743954\ttotal: 1.27s\tremaining: 407ms\n",
      "757:\tlearn: 0.1743781\ttotal: 1.27s\tremaining: 406ms\n",
      "758:\tlearn: 0.1742302\ttotal: 1.27s\tremaining: 404ms\n",
      "759:\tlearn: 0.1739984\ttotal: 1.27s\tremaining: 402ms\n",
      "760:\tlearn: 0.1737833\ttotal: 1.27s\tremaining: 401ms\n",
      "761:\tlearn: 0.1736150\ttotal: 1.28s\tremaining: 399ms\n",
      "762:\tlearn: 0.1734141\ttotal: 1.28s\tremaining: 397ms\n",
      "763:\tlearn: 0.1733788\ttotal: 1.28s\tremaining: 396ms\n",
      "764:\tlearn: 0.1732041\ttotal: 1.28s\tremaining: 394ms\n",
      "765:\tlearn: 0.1729696\ttotal: 1.28s\tremaining: 392ms\n",
      "766:\tlearn: 0.1726698\ttotal: 1.28s\tremaining: 391ms\n",
      "767:\tlearn: 0.1725030\ttotal: 1.29s\tremaining: 389ms\n",
      "768:\tlearn: 0.1723258\ttotal: 1.29s\tremaining: 387ms\n",
      "769:\tlearn: 0.1722157\ttotal: 1.29s\tremaining: 385ms\n",
      "770:\tlearn: 0.1720090\ttotal: 1.29s\tremaining: 384ms\n",
      "771:\tlearn: 0.1717710\ttotal: 1.29s\tremaining: 382ms\n",
      "772:\tlearn: 0.1716405\ttotal: 1.29s\tremaining: 380ms\n",
      "773:\tlearn: 0.1714701\ttotal: 1.29s\tremaining: 378ms\n",
      "774:\tlearn: 0.1713119\ttotal: 1.3s\tremaining: 377ms\n",
      "775:\tlearn: 0.1711442\ttotal: 1.3s\tremaining: 375ms\n",
      "776:\tlearn: 0.1709473\ttotal: 1.3s\tremaining: 373ms\n",
      "777:\tlearn: 0.1707141\ttotal: 1.3s\tremaining: 372ms\n",
      "778:\tlearn: 0.1705243\ttotal: 1.3s\tremaining: 370ms\n",
      "779:\tlearn: 0.1704595\ttotal: 1.3s\tremaining: 368ms\n",
      "780:\tlearn: 0.1703532\ttotal: 1.31s\tremaining: 366ms\n",
      "781:\tlearn: 0.1701654\ttotal: 1.31s\tremaining: 365ms\n",
      "782:\tlearn: 0.1699804\ttotal: 1.31s\tremaining: 363ms\n",
      "783:\tlearn: 0.1697679\ttotal: 1.31s\tremaining: 362ms\n",
      "784:\tlearn: 0.1697550\ttotal: 1.31s\tremaining: 360ms\n",
      "785:\tlearn: 0.1694869\ttotal: 1.32s\tremaining: 358ms\n",
      "786:\tlearn: 0.1693397\ttotal: 1.32s\tremaining: 357ms\n",
      "787:\tlearn: 0.1691553\ttotal: 1.32s\tremaining: 355ms\n",
      "788:\tlearn: 0.1689544\ttotal: 1.32s\tremaining: 353ms\n",
      "789:\tlearn: 0.1687910\ttotal: 1.32s\tremaining: 352ms\n",
      "790:\tlearn: 0.1687753\ttotal: 1.33s\tremaining: 350ms\n",
      "791:\tlearn: 0.1687128\ttotal: 1.33s\tremaining: 349ms\n",
      "792:\tlearn: 0.1685351\ttotal: 1.33s\tremaining: 347ms\n",
      "793:\tlearn: 0.1684961\ttotal: 1.33s\tremaining: 345ms\n",
      "794:\tlearn: 0.1684266\ttotal: 1.33s\tremaining: 344ms\n",
      "795:\tlearn: 0.1684091\ttotal: 1.33s\tremaining: 342ms\n",
      "796:\tlearn: 0.1682572\ttotal: 1.33s\tremaining: 340ms\n",
      "797:\tlearn: 0.1681258\ttotal: 1.34s\tremaining: 338ms\n",
      "798:\tlearn: 0.1681118\ttotal: 1.34s\tremaining: 337ms\n",
      "799:\tlearn: 0.1677913\ttotal: 1.34s\tremaining: 335ms\n",
      "800:\tlearn: 0.1676517\ttotal: 1.34s\tremaining: 333ms\n",
      "801:\tlearn: 0.1674744\ttotal: 1.34s\tremaining: 331ms\n",
      "802:\tlearn: 0.1672695\ttotal: 1.34s\tremaining: 330ms\n",
      "803:\tlearn: 0.1670723\ttotal: 1.34s\tremaining: 328ms\n",
      "804:\tlearn: 0.1669021\ttotal: 1.35s\tremaining: 326ms\n",
      "805:\tlearn: 0.1667131\ttotal: 1.35s\tremaining: 325ms\n",
      "806:\tlearn: 0.1665631\ttotal: 1.35s\tremaining: 323ms\n",
      "807:\tlearn: 0.1663479\ttotal: 1.35s\tremaining: 321ms\n",
      "808:\tlearn: 0.1662402\ttotal: 1.35s\tremaining: 320ms\n",
      "809:\tlearn: 0.1661796\ttotal: 1.35s\tremaining: 318ms\n",
      "810:\tlearn: 0.1660260\ttotal: 1.36s\tremaining: 316ms\n",
      "811:\tlearn: 0.1659892\ttotal: 1.36s\tremaining: 314ms\n",
      "812:\tlearn: 0.1657896\ttotal: 1.36s\tremaining: 313ms\n",
      "813:\tlearn: 0.1655636\ttotal: 1.36s\tremaining: 311ms\n",
      "814:\tlearn: 0.1654061\ttotal: 1.36s\tremaining: 309ms\n",
      "815:\tlearn: 0.1652497\ttotal: 1.36s\tremaining: 308ms\n",
      "816:\tlearn: 0.1650959\ttotal: 1.36s\tremaining: 306ms\n",
      "817:\tlearn: 0.1649282\ttotal: 1.37s\tremaining: 304ms\n",
      "818:\tlearn: 0.1647978\ttotal: 1.37s\tremaining: 302ms\n",
      "819:\tlearn: 0.1646289\ttotal: 1.37s\tremaining: 301ms\n",
      "820:\tlearn: 0.1645041\ttotal: 1.37s\tremaining: 299ms\n",
      "821:\tlearn: 0.1642910\ttotal: 1.37s\tremaining: 297ms\n",
      "822:\tlearn: 0.1640880\ttotal: 1.37s\tremaining: 296ms\n",
      "823:\tlearn: 0.1638683\ttotal: 1.38s\tremaining: 294ms\n",
      "824:\tlearn: 0.1637626\ttotal: 1.38s\tremaining: 292ms\n",
      "825:\tlearn: 0.1634925\ttotal: 1.38s\tremaining: 290ms\n",
      "826:\tlearn: 0.1633153\ttotal: 1.38s\tremaining: 289ms\n",
      "827:\tlearn: 0.1631159\ttotal: 1.38s\tremaining: 287ms\n",
      "828:\tlearn: 0.1630015\ttotal: 1.38s\tremaining: 285ms\n",
      "829:\tlearn: 0.1629226\ttotal: 1.39s\tremaining: 284ms\n",
      "830:\tlearn: 0.1628215\ttotal: 1.39s\tremaining: 282ms\n",
      "831:\tlearn: 0.1627429\ttotal: 1.39s\tremaining: 280ms\n",
      "832:\tlearn: 0.1626315\ttotal: 1.39s\tremaining: 279ms\n",
      "833:\tlearn: 0.1624167\ttotal: 1.39s\tremaining: 277ms\n",
      "834:\tlearn: 0.1622844\ttotal: 1.39s\tremaining: 275ms\n",
      "835:\tlearn: 0.1620942\ttotal: 1.39s\tremaining: 274ms\n",
      "836:\tlearn: 0.1618786\ttotal: 1.4s\tremaining: 272ms\n",
      "837:\tlearn: 0.1617091\ttotal: 1.4s\tremaining: 270ms\n",
      "838:\tlearn: 0.1616398\ttotal: 1.4s\tremaining: 268ms\n",
      "839:\tlearn: 0.1614688\ttotal: 1.4s\tremaining: 267ms\n",
      "840:\tlearn: 0.1613711\ttotal: 1.4s\tremaining: 265ms\n",
      "841:\tlearn: 0.1612453\ttotal: 1.4s\tremaining: 263ms\n",
      "842:\tlearn: 0.1611439\ttotal: 1.41s\tremaining: 262ms\n",
      "843:\tlearn: 0.1609588\ttotal: 1.41s\tremaining: 260ms\n",
      "844:\tlearn: 0.1606836\ttotal: 1.41s\tremaining: 258ms\n",
      "845:\tlearn: 0.1605773\ttotal: 1.41s\tremaining: 257ms\n",
      "846:\tlearn: 0.1604361\ttotal: 1.41s\tremaining: 255ms\n",
      "847:\tlearn: 0.1602967\ttotal: 1.41s\tremaining: 253ms\n",
      "848:\tlearn: 0.1600723\ttotal: 1.41s\tremaining: 252ms\n",
      "849:\tlearn: 0.1600629\ttotal: 1.42s\tremaining: 250ms\n",
      "850:\tlearn: 0.1600434\ttotal: 1.42s\tremaining: 248ms\n",
      "851:\tlearn: 0.1598939\ttotal: 1.42s\tremaining: 247ms\n",
      "852:\tlearn: 0.1597551\ttotal: 1.42s\tremaining: 245ms\n",
      "853:\tlearn: 0.1595019\ttotal: 1.42s\tremaining: 243ms\n",
      "854:\tlearn: 0.1593196\ttotal: 1.43s\tremaining: 242ms\n",
      "855:\tlearn: 0.1591766\ttotal: 1.43s\tremaining: 240ms\n",
      "856:\tlearn: 0.1589672\ttotal: 1.43s\tremaining: 238ms\n",
      "857:\tlearn: 0.1587085\ttotal: 1.43s\tremaining: 237ms\n",
      "858:\tlearn: 0.1585112\ttotal: 1.43s\tremaining: 235ms\n",
      "859:\tlearn: 0.1584277\ttotal: 1.43s\tremaining: 233ms\n",
      "860:\tlearn: 0.1583090\ttotal: 1.44s\tremaining: 232ms\n",
      "861:\tlearn: 0.1581531\ttotal: 1.44s\tremaining: 230ms\n",
      "862:\tlearn: 0.1579790\ttotal: 1.44s\tremaining: 228ms\n",
      "863:\tlearn: 0.1577871\ttotal: 1.44s\tremaining: 227ms\n",
      "864:\tlearn: 0.1577702\ttotal: 1.44s\tremaining: 225ms\n",
      "865:\tlearn: 0.1576474\ttotal: 1.44s\tremaining: 223ms\n",
      "866:\tlearn: 0.1575942\ttotal: 1.45s\tremaining: 222ms\n",
      "867:\tlearn: 0.1573924\ttotal: 1.45s\tremaining: 220ms\n",
      "868:\tlearn: 0.1571978\ttotal: 1.45s\tremaining: 218ms\n",
      "869:\tlearn: 0.1570963\ttotal: 1.45s\tremaining: 217ms\n",
      "870:\tlearn: 0.1570419\ttotal: 1.45s\tremaining: 215ms\n",
      "871:\tlearn: 0.1569832\ttotal: 1.45s\tremaining: 213ms\n",
      "872:\tlearn: 0.1568399\ttotal: 1.46s\tremaining: 212ms\n",
      "873:\tlearn: 0.1566406\ttotal: 1.46s\tremaining: 210ms\n",
      "874:\tlearn: 0.1564961\ttotal: 1.46s\tremaining: 208ms\n",
      "875:\tlearn: 0.1564288\ttotal: 1.46s\tremaining: 207ms\n",
      "876:\tlearn: 0.1562965\ttotal: 1.46s\tremaining: 205ms\n",
      "877:\tlearn: 0.1562044\ttotal: 1.46s\tremaining: 203ms\n",
      "878:\tlearn: 0.1559625\ttotal: 1.47s\tremaining: 202ms\n",
      "879:\tlearn: 0.1557771\ttotal: 1.47s\tremaining: 200ms\n",
      "880:\tlearn: 0.1556665\ttotal: 1.47s\tremaining: 198ms\n",
      "881:\tlearn: 0.1555518\ttotal: 1.47s\tremaining: 197ms\n",
      "882:\tlearn: 0.1555392\ttotal: 1.47s\tremaining: 195ms\n",
      "883:\tlearn: 0.1553818\ttotal: 1.47s\tremaining: 193ms\n",
      "884:\tlearn: 0.1552534\ttotal: 1.47s\tremaining: 192ms\n",
      "885:\tlearn: 0.1550646\ttotal: 1.48s\tremaining: 190ms\n",
      "886:\tlearn: 0.1548734\ttotal: 1.48s\tremaining: 188ms\n",
      "887:\tlearn: 0.1547461\ttotal: 1.48s\tremaining: 187ms\n",
      "888:\tlearn: 0.1545398\ttotal: 1.48s\tremaining: 185ms\n",
      "889:\tlearn: 0.1542692\ttotal: 1.48s\tremaining: 183ms\n",
      "890:\tlearn: 0.1541299\ttotal: 1.48s\tremaining: 182ms\n",
      "891:\tlearn: 0.1539984\ttotal: 1.49s\tremaining: 180ms\n",
      "892:\tlearn: 0.1539295\ttotal: 1.49s\tremaining: 178ms\n",
      "893:\tlearn: 0.1537278\ttotal: 1.49s\tremaining: 177ms\n",
      "894:\tlearn: 0.1535420\ttotal: 1.49s\tremaining: 175ms\n",
      "895:\tlearn: 0.1534146\ttotal: 1.49s\tremaining: 173ms\n",
      "896:\tlearn: 0.1533412\ttotal: 1.49s\tremaining: 171ms\n",
      "897:\tlearn: 0.1531696\ttotal: 1.49s\tremaining: 170ms\n",
      "898:\tlearn: 0.1530367\ttotal: 1.5s\tremaining: 168ms\n",
      "899:\tlearn: 0.1528795\ttotal: 1.5s\tremaining: 166ms\n",
      "900:\tlearn: 0.1527121\ttotal: 1.5s\tremaining: 165ms\n",
      "901:\tlearn: 0.1524926\ttotal: 1.5s\tremaining: 163ms\n",
      "902:\tlearn: 0.1522597\ttotal: 1.5s\tremaining: 162ms\n",
      "903:\tlearn: 0.1520891\ttotal: 1.5s\tremaining: 160ms\n",
      "904:\tlearn: 0.1519256\ttotal: 1.51s\tremaining: 158ms\n",
      "905:\tlearn: 0.1517445\ttotal: 1.51s\tremaining: 156ms\n",
      "906:\tlearn: 0.1516497\ttotal: 1.51s\tremaining: 155ms\n",
      "907:\tlearn: 0.1514874\ttotal: 1.51s\tremaining: 153ms\n",
      "908:\tlearn: 0.1514043\ttotal: 1.51s\tremaining: 151ms\n",
      "909:\tlearn: 0.1513537\ttotal: 1.51s\tremaining: 150ms\n",
      "910:\tlearn: 0.1512161\ttotal: 1.51s\tremaining: 148ms\n",
      "911:\tlearn: 0.1510741\ttotal: 1.52s\tremaining: 146ms\n",
      "912:\tlearn: 0.1508496\ttotal: 1.52s\tremaining: 145ms\n",
      "913:\tlearn: 0.1506315\ttotal: 1.52s\tremaining: 143ms\n",
      "914:\tlearn: 0.1504182\ttotal: 1.52s\tremaining: 141ms\n",
      "915:\tlearn: 0.1504012\ttotal: 1.52s\tremaining: 140ms\n",
      "916:\tlearn: 0.1502480\ttotal: 1.53s\tremaining: 138ms\n",
      "917:\tlearn: 0.1501949\ttotal: 1.53s\tremaining: 136ms\n",
      "918:\tlearn: 0.1500320\ttotal: 1.53s\tremaining: 135ms\n",
      "919:\tlearn: 0.1498254\ttotal: 1.53s\tremaining: 133ms\n",
      "920:\tlearn: 0.1496683\ttotal: 1.53s\tremaining: 131ms\n",
      "921:\tlearn: 0.1496140\ttotal: 1.53s\tremaining: 130ms\n",
      "922:\tlearn: 0.1494363\ttotal: 1.53s\tremaining: 128ms\n",
      "923:\tlearn: 0.1493728\ttotal: 1.54s\tremaining: 126ms\n",
      "924:\tlearn: 0.1491821\ttotal: 1.54s\tremaining: 125ms\n",
      "925:\tlearn: 0.1490880\ttotal: 1.54s\tremaining: 123ms\n",
      "926:\tlearn: 0.1490456\ttotal: 1.54s\tremaining: 121ms\n",
      "927:\tlearn: 0.1489607\ttotal: 1.54s\tremaining: 120ms\n",
      "928:\tlearn: 0.1487481\ttotal: 1.54s\tremaining: 118ms\n",
      "929:\tlearn: 0.1484435\ttotal: 1.55s\tremaining: 116ms\n",
      "930:\tlearn: 0.1482823\ttotal: 1.55s\tremaining: 115ms\n",
      "931:\tlearn: 0.1479897\ttotal: 1.55s\tremaining: 113ms\n",
      "932:\tlearn: 0.1478341\ttotal: 1.55s\tremaining: 111ms\n",
      "933:\tlearn: 0.1477298\ttotal: 1.55s\tremaining: 110ms\n",
      "934:\tlearn: 0.1475810\ttotal: 1.55s\tremaining: 108ms\n",
      "935:\tlearn: 0.1474858\ttotal: 1.55s\tremaining: 106ms\n",
      "936:\tlearn: 0.1473627\ttotal: 1.56s\tremaining: 105ms\n",
      "937:\tlearn: 0.1473232\ttotal: 1.56s\tremaining: 103ms\n",
      "938:\tlearn: 0.1471792\ttotal: 1.56s\tremaining: 101ms\n",
      "939:\tlearn: 0.1470756\ttotal: 1.56s\tremaining: 99.7ms\n",
      "940:\tlearn: 0.1469750\ttotal: 1.56s\tremaining: 98ms\n",
      "941:\tlearn: 0.1468138\ttotal: 1.56s\tremaining: 96.4ms\n",
      "942:\tlearn: 0.1466419\ttotal: 1.57s\tremaining: 94.7ms\n",
      "943:\tlearn: 0.1465191\ttotal: 1.57s\tremaining: 93ms\n",
      "944:\tlearn: 0.1463421\ttotal: 1.57s\tremaining: 91.3ms\n",
      "945:\tlearn: 0.1461628\ttotal: 1.57s\tremaining: 89.7ms\n",
      "946:\tlearn: 0.1459981\ttotal: 1.57s\tremaining: 88ms\n",
      "947:\tlearn: 0.1458424\ttotal: 1.57s\tremaining: 86.3ms\n",
      "948:\tlearn: 0.1457348\ttotal: 1.57s\tremaining: 84.7ms\n",
      "949:\tlearn: 0.1455677\ttotal: 1.58s\tremaining: 83ms\n",
      "950:\tlearn: 0.1454440\ttotal: 1.58s\tremaining: 81.3ms\n",
      "951:\tlearn: 0.1453460\ttotal: 1.58s\tremaining: 79.7ms\n",
      "952:\tlearn: 0.1452466\ttotal: 1.58s\tremaining: 78ms\n",
      "953:\tlearn: 0.1451333\ttotal: 1.58s\tremaining: 76.3ms\n",
      "954:\tlearn: 0.1450904\ttotal: 1.58s\tremaining: 74.7ms\n",
      "955:\tlearn: 0.1449383\ttotal: 1.59s\tremaining: 73ms\n",
      "956:\tlearn: 0.1447454\ttotal: 1.59s\tremaining: 71.3ms\n",
      "957:\tlearn: 0.1444943\ttotal: 1.59s\tremaining: 69.7ms\n",
      "958:\tlearn: 0.1443349\ttotal: 1.59s\tremaining: 68ms\n",
      "959:\tlearn: 0.1441502\ttotal: 1.59s\tremaining: 66.3ms\n",
      "960:\tlearn: 0.1439968\ttotal: 1.59s\tremaining: 64.7ms\n",
      "961:\tlearn: 0.1438484\ttotal: 1.59s\tremaining: 63ms\n",
      "962:\tlearn: 0.1436690\ttotal: 1.6s\tremaining: 61.3ms\n",
      "963:\tlearn: 0.1434701\ttotal: 1.6s\tremaining: 59.7ms\n",
      "964:\tlearn: 0.1433242\ttotal: 1.6s\tremaining: 58ms\n",
      "965:\tlearn: 0.1431782\ttotal: 1.6s\tremaining: 56.4ms\n",
      "966:\tlearn: 0.1429471\ttotal: 1.6s\tremaining: 54.7ms\n",
      "967:\tlearn: 0.1427978\ttotal: 1.6s\tremaining: 53ms\n",
      "968:\tlearn: 0.1426869\ttotal: 1.6s\tremaining: 51.4ms\n",
      "969:\tlearn: 0.1425207\ttotal: 1.61s\tremaining: 49.7ms\n",
      "970:\tlearn: 0.1423357\ttotal: 1.61s\tremaining: 48.1ms\n",
      "971:\tlearn: 0.1421914\ttotal: 1.61s\tremaining: 46.4ms\n",
      "972:\tlearn: 0.1420837\ttotal: 1.61s\tremaining: 44.7ms\n",
      "973:\tlearn: 0.1419003\ttotal: 1.61s\tremaining: 43.1ms\n",
      "974:\tlearn: 0.1417805\ttotal: 1.61s\tremaining: 41.4ms\n",
      "975:\tlearn: 0.1417358\ttotal: 1.62s\tremaining: 39.8ms\n",
      "976:\tlearn: 0.1416064\ttotal: 1.62s\tremaining: 38.1ms\n",
      "977:\tlearn: 0.1414578\ttotal: 1.62s\tremaining: 36.4ms\n",
      "978:\tlearn: 0.1413639\ttotal: 1.62s\tremaining: 34.8ms\n",
      "979:\tlearn: 0.1413108\ttotal: 1.62s\tremaining: 33.1ms\n",
      "980:\tlearn: 0.1411219\ttotal: 1.63s\tremaining: 31.5ms\n",
      "981:\tlearn: 0.1409512\ttotal: 1.63s\tremaining: 29.8ms\n",
      "982:\tlearn: 0.1407790\ttotal: 1.63s\tremaining: 28.2ms\n",
      "983:\tlearn: 0.1407091\ttotal: 1.63s\tremaining: 26.5ms\n",
      "984:\tlearn: 0.1406961\ttotal: 1.63s\tremaining: 24.8ms\n",
      "985:\tlearn: 0.1406620\ttotal: 1.63s\tremaining: 23.2ms\n",
      "986:\tlearn: 0.1405314\ttotal: 1.63s\tremaining: 21.5ms\n",
      "987:\tlearn: 0.1403764\ttotal: 1.64s\tremaining: 19.9ms\n",
      "988:\tlearn: 0.1402662\ttotal: 1.64s\tremaining: 18.2ms\n",
      "989:\tlearn: 0.1400474\ttotal: 1.64s\tremaining: 16.6ms\n",
      "990:\tlearn: 0.1398892\ttotal: 1.64s\tremaining: 14.9ms\n",
      "991:\tlearn: 0.1397977\ttotal: 1.64s\tremaining: 13.2ms\n",
      "992:\tlearn: 0.1397298\ttotal: 1.64s\tremaining: 11.6ms\n",
      "993:\tlearn: 0.1396117\ttotal: 1.65s\tremaining: 9.93ms\n",
      "994:\tlearn: 0.1394870\ttotal: 1.65s\tremaining: 8.28ms\n",
      "995:\tlearn: 0.1393534\ttotal: 1.65s\tremaining: 6.62ms\n",
      "996:\tlearn: 0.1393030\ttotal: 1.65s\tremaining: 4.96ms\n",
      "997:\tlearn: 0.1391569\ttotal: 1.65s\tremaining: 3.31ms\n",
      "998:\tlearn: 0.1390030\ttotal: 1.65s\tremaining: 1.65ms\n",
      "999:\tlearn: 0.1389618\ttotal: 1.65s\tremaining: 0us\n"
     ]
    },
    {
     "data": {
      "text/plain": [
       "RandomizedSearchCV(cv=3,\n",
       "                   estimator=<catboost.core.CatBoostClassifier object at 0x7f9a6a15f7d0>,\n",
       "                   n_jobs=-1,\n",
       "                   param_distributions={'l2_leaf_reg': [5, 10, 15],\n",
       "                                        'learning_rate': [0.02, 0.05, 0.07],\n",
       "                                        'max_depth': [3, 4, 5, 6, 8],\n",
       "                                        'min_child_samples': [1, 3, 5]},\n",
       "                   verbose=1)"
      ]
     },
     "execution_count": 140,
     "metadata": {},
     "output_type": "execute_result"
    }
   ],
   "source": [
    "r_cat.fit(X_train,y_train)"
   ]
  },
  {
   "cell_type": "code",
   "execution_count": 141,
   "id": "soviet-winner",
   "metadata": {
    "execution": {
     "iopub.execute_input": "2021-05-05T08:38:47.724393Z",
     "iopub.status.busy": "2021-05-05T08:38:47.723663Z",
     "iopub.status.idle": "2021-05-05T08:38:47.730666Z",
     "shell.execute_reply": "2021-05-05T08:38:47.729985Z"
    },
    "papermill": {
     "duration": 0.213883,
     "end_time": "2021-05-05T08:38:47.730829",
     "exception": false,
     "start_time": "2021-05-05T08:38:47.516946",
     "status": "completed"
    },
    "tags": []
   },
   "outputs": [
    {
     "data": {
      "text/plain": [
       "{'min_child_samples': 5,\n",
       " 'max_depth': 4,\n",
       " 'learning_rate': 0.02,\n",
       " 'l2_leaf_reg': 10}"
      ]
     },
     "execution_count": 141,
     "metadata": {},
     "output_type": "execute_result"
    }
   ],
   "source": [
    "r_cat.best_params_"
   ]
  },
  {
   "cell_type": "code",
   "execution_count": 142,
   "id": "impressive-commitment",
   "metadata": {
    "execution": {
     "iopub.execute_input": "2021-05-05T08:38:48.203041Z",
     "iopub.status.busy": "2021-05-05T08:38:48.201880Z",
     "iopub.status.idle": "2021-05-05T08:38:48.205824Z",
     "shell.execute_reply": "2021-05-05T08:38:48.206639Z"
    },
    "papermill": {
     "duration": 0.247572,
     "end_time": "2021-05-05T08:38:48.206901",
     "exception": false,
     "start_time": "2021-05-05T08:38:47.959329",
     "status": "completed"
    },
    "tags": []
   },
   "outputs": [],
   "source": [
    "best_cat = CatBoostClassifier(min_child_samples=1, max_depth=5, learning_rate = 0.05, l2_leaf_reg = 15)"
   ]
  },
  {
   "cell_type": "code",
   "execution_count": 143,
   "id": "indoor-amateur",
   "metadata": {
    "execution": {
     "iopub.execute_input": "2021-05-05T08:38:48.663207Z",
     "iopub.status.busy": "2021-05-05T08:38:48.662298Z",
     "iopub.status.idle": "2021-05-05T08:38:50.921495Z",
     "shell.execute_reply": "2021-05-05T08:38:50.922166Z"
    },
    "papermill": {
     "duration": 2.48107,
     "end_time": "2021-05-05T08:38:50.922571",
     "exception": false,
     "start_time": "2021-05-05T08:38:48.441501",
     "status": "completed"
    },
    "tags": []
   },
   "outputs": [
    {
     "name": "stdout",
     "output_type": "stream",
     "text": [
      "0:\tlearn: 0.6659833\ttotal: 2.45ms\tremaining: 2.44s\n",
      "1:\tlearn: 0.6368652\ttotal: 5.59ms\tremaining: 2.79s\n",
      "2:\tlearn: 0.6120270\ttotal: 8.14ms\tremaining: 2.71s\n",
      "3:\tlearn: 0.5937358\ttotal: 10.1ms\tremaining: 2.52s\n",
      "4:\tlearn: 0.5724747\ttotal: 12ms\tremaining: 2.39s\n",
      "5:\tlearn: 0.5537774\ttotal: 14.1ms\tremaining: 2.33s\n",
      "6:\tlearn: 0.5375733\ttotal: 16.3ms\tremaining: 2.31s\n",
      "7:\tlearn: 0.5228749\ttotal: 18.6ms\tremaining: 2.3s\n",
      "8:\tlearn: 0.5098546\ttotal: 22.2ms\tremaining: 2.44s\n",
      "9:\tlearn: 0.4971469\ttotal: 24.2ms\tremaining: 2.4s\n",
      "10:\tlearn: 0.4854573\ttotal: 26.2ms\tremaining: 2.36s\n",
      "11:\tlearn: 0.4746586\ttotal: 28.1ms\tremaining: 2.31s\n",
      "12:\tlearn: 0.4666141\ttotal: 30.6ms\tremaining: 2.32s\n",
      "13:\tlearn: 0.4583771\ttotal: 32.8ms\tremaining: 2.31s\n",
      "14:\tlearn: 0.4516749\ttotal: 35ms\tremaining: 2.3s\n",
      "15:\tlearn: 0.4436471\ttotal: 37.1ms\tremaining: 2.28s\n",
      "16:\tlearn: 0.4368261\ttotal: 39ms\tremaining: 2.26s\n",
      "17:\tlearn: 0.4312659\ttotal: 41ms\tremaining: 2.24s\n",
      "18:\tlearn: 0.4252755\ttotal: 43.2ms\tremaining: 2.23s\n",
      "19:\tlearn: 0.4187684\ttotal: 45ms\tremaining: 2.21s\n",
      "20:\tlearn: 0.4153155\ttotal: 47.1ms\tremaining: 2.2s\n",
      "21:\tlearn: 0.4120203\ttotal: 49.1ms\tremaining: 2.18s\n",
      "22:\tlearn: 0.4071857\ttotal: 51.2ms\tremaining: 2.17s\n",
      "23:\tlearn: 0.4019414\ttotal: 53.1ms\tremaining: 2.16s\n",
      "24:\tlearn: 0.3981898\ttotal: 55ms\tremaining: 2.14s\n",
      "25:\tlearn: 0.3938740\ttotal: 57ms\tremaining: 2.13s\n",
      "26:\tlearn: 0.3902353\ttotal: 58.8ms\tremaining: 2.12s\n",
      "27:\tlearn: 0.3876099\ttotal: 60.7ms\tremaining: 2.11s\n",
      "28:\tlearn: 0.3834719\ttotal: 62.5ms\tremaining: 2.09s\n",
      "29:\tlearn: 0.3799184\ttotal: 64.6ms\tremaining: 2.09s\n",
      "30:\tlearn: 0.3777641\ttotal: 66.2ms\tremaining: 2.07s\n",
      "31:\tlearn: 0.3748452\ttotal: 68.1ms\tremaining: 2.06s\n",
      "32:\tlearn: 0.3710193\ttotal: 70ms\tremaining: 2.05s\n",
      "33:\tlearn: 0.3685231\ttotal: 71.8ms\tremaining: 2.04s\n",
      "34:\tlearn: 0.3659682\ttotal: 73.7ms\tremaining: 2.03s\n",
      "35:\tlearn: 0.3638659\ttotal: 75.5ms\tremaining: 2.02s\n",
      "36:\tlearn: 0.3612905\ttotal: 77.6ms\tremaining: 2.02s\n",
      "37:\tlearn: 0.3590983\ttotal: 79.3ms\tremaining: 2.01s\n",
      "38:\tlearn: 0.3568943\ttotal: 81.2ms\tremaining: 2s\n",
      "39:\tlearn: 0.3546218\ttotal: 83ms\tremaining: 1.99s\n",
      "40:\tlearn: 0.3521605\ttotal: 84.8ms\tremaining: 1.98s\n",
      "41:\tlearn: 0.3499101\ttotal: 86.5ms\tremaining: 1.97s\n",
      "42:\tlearn: 0.3481093\ttotal: 88.4ms\tremaining: 1.97s\n",
      "43:\tlearn: 0.3461229\ttotal: 90.3ms\tremaining: 1.96s\n",
      "44:\tlearn: 0.3444951\ttotal: 92.2ms\tremaining: 1.96s\n",
      "45:\tlearn: 0.3424137\ttotal: 94ms\tremaining: 1.95s\n",
      "46:\tlearn: 0.3409115\ttotal: 95.7ms\tremaining: 1.94s\n",
      "47:\tlearn: 0.3392851\ttotal: 97.4ms\tremaining: 1.93s\n",
      "48:\tlearn: 0.3374781\ttotal: 99.3ms\tremaining: 1.93s\n",
      "49:\tlearn: 0.3360656\ttotal: 101ms\tremaining: 1.92s\n",
      "50:\tlearn: 0.3348134\ttotal: 103ms\tremaining: 1.91s\n",
      "51:\tlearn: 0.3331280\ttotal: 105ms\tremaining: 1.91s\n",
      "52:\tlearn: 0.3321424\ttotal: 107ms\tremaining: 1.91s\n",
      "53:\tlearn: 0.3308287\ttotal: 109ms\tremaining: 1.91s\n",
      "54:\tlearn: 0.3289749\ttotal: 111ms\tremaining: 1.92s\n",
      "55:\tlearn: 0.3273377\ttotal: 114ms\tremaining: 1.91s\n",
      "56:\tlearn: 0.3258994\ttotal: 115ms\tremaining: 1.91s\n",
      "57:\tlearn: 0.3243355\ttotal: 117ms\tremaining: 1.91s\n",
      "58:\tlearn: 0.3229377\ttotal: 120ms\tremaining: 1.91s\n",
      "59:\tlearn: 0.3212890\ttotal: 122ms\tremaining: 1.91s\n",
      "60:\tlearn: 0.3202531\ttotal: 124ms\tremaining: 1.91s\n",
      "61:\tlearn: 0.3191168\ttotal: 126ms\tremaining: 1.9s\n",
      "62:\tlearn: 0.3182490\ttotal: 128ms\tremaining: 1.9s\n",
      "63:\tlearn: 0.3167240\ttotal: 130ms\tremaining: 1.9s\n",
      "64:\tlearn: 0.3154653\ttotal: 132ms\tremaining: 1.9s\n",
      "65:\tlearn: 0.3143375\ttotal: 134ms\tremaining: 1.89s\n",
      "66:\tlearn: 0.3132478\ttotal: 136ms\tremaining: 1.9s\n",
      "67:\tlearn: 0.3129661\ttotal: 138ms\tremaining: 1.89s\n",
      "68:\tlearn: 0.3115007\ttotal: 140ms\tremaining: 1.88s\n",
      "69:\tlearn: 0.3101997\ttotal: 141ms\tremaining: 1.88s\n",
      "70:\tlearn: 0.3092396\ttotal: 143ms\tremaining: 1.87s\n",
      "71:\tlearn: 0.3078213\ttotal: 145ms\tremaining: 1.87s\n",
      "72:\tlearn: 0.3068011\ttotal: 147ms\tremaining: 1.87s\n",
      "73:\tlearn: 0.3057653\ttotal: 149ms\tremaining: 1.87s\n",
      "74:\tlearn: 0.3047332\ttotal: 151ms\tremaining: 1.86s\n",
      "75:\tlearn: 0.3040253\ttotal: 153ms\tremaining: 1.86s\n",
      "76:\tlearn: 0.3029655\ttotal: 155ms\tremaining: 1.85s\n",
      "77:\tlearn: 0.3016359\ttotal: 157ms\tremaining: 1.85s\n",
      "78:\tlearn: 0.3005459\ttotal: 159ms\tremaining: 1.85s\n",
      "79:\tlearn: 0.2991922\ttotal: 161ms\tremaining: 1.85s\n",
      "80:\tlearn: 0.2984199\ttotal: 163ms\tremaining: 1.84s\n",
      "81:\tlearn: 0.2974035\ttotal: 165ms\tremaining: 1.84s\n",
      "82:\tlearn: 0.2959085\ttotal: 167ms\tremaining: 1.84s\n",
      "83:\tlearn: 0.2942116\ttotal: 168ms\tremaining: 1.84s\n",
      "84:\tlearn: 0.2930796\ttotal: 170ms\tremaining: 1.83s\n",
      "85:\tlearn: 0.2929310\ttotal: 172ms\tremaining: 1.83s\n",
      "86:\tlearn: 0.2920750\ttotal: 174ms\tremaining: 1.82s\n",
      "87:\tlearn: 0.2911226\ttotal: 176ms\tremaining: 1.82s\n",
      "88:\tlearn: 0.2900937\ttotal: 177ms\tremaining: 1.81s\n",
      "89:\tlearn: 0.2894461\ttotal: 179ms\tremaining: 1.81s\n",
      "90:\tlearn: 0.2882167\ttotal: 181ms\tremaining: 1.81s\n",
      "91:\tlearn: 0.2873944\ttotal: 184ms\tremaining: 1.81s\n",
      "92:\tlearn: 0.2867002\ttotal: 186ms\tremaining: 1.81s\n",
      "93:\tlearn: 0.2855014\ttotal: 188ms\tremaining: 1.81s\n",
      "94:\tlearn: 0.2849465\ttotal: 190ms\tremaining: 1.81s\n",
      "95:\tlearn: 0.2842259\ttotal: 193ms\tremaining: 1.82s\n",
      "96:\tlearn: 0.2833440\ttotal: 195ms\tremaining: 1.82s\n",
      "97:\tlearn: 0.2826105\ttotal: 197ms\tremaining: 1.81s\n",
      "98:\tlearn: 0.2816322\ttotal: 199ms\tremaining: 1.81s\n",
      "99:\tlearn: 0.2810000\ttotal: 201ms\tremaining: 1.8s\n",
      "100:\tlearn: 0.2802871\ttotal: 202ms\tremaining: 1.8s\n",
      "101:\tlearn: 0.2794878\ttotal: 204ms\tremaining: 1.8s\n",
      "102:\tlearn: 0.2793540\ttotal: 206ms\tremaining: 1.79s\n",
      "103:\tlearn: 0.2783104\ttotal: 208ms\tremaining: 1.79s\n",
      "104:\tlearn: 0.2770865\ttotal: 210ms\tremaining: 1.79s\n",
      "105:\tlearn: 0.2760917\ttotal: 212ms\tremaining: 1.79s\n",
      "106:\tlearn: 0.2748862\ttotal: 215ms\tremaining: 1.79s\n",
      "107:\tlearn: 0.2736307\ttotal: 217ms\tremaining: 1.79s\n",
      "108:\tlearn: 0.2727450\ttotal: 218ms\tremaining: 1.78s\n",
      "109:\tlearn: 0.2714343\ttotal: 220ms\tremaining: 1.78s\n",
      "110:\tlearn: 0.2708990\ttotal: 222ms\tremaining: 1.78s\n",
      "111:\tlearn: 0.2703291\ttotal: 224ms\tremaining: 1.77s\n",
      "112:\tlearn: 0.2695041\ttotal: 226ms\tremaining: 1.77s\n",
      "113:\tlearn: 0.2686078\ttotal: 228ms\tremaining: 1.77s\n",
      "114:\tlearn: 0.2669565\ttotal: 230ms\tremaining: 1.77s\n",
      "115:\tlearn: 0.2660730\ttotal: 232ms\tremaining: 1.77s\n",
      "116:\tlearn: 0.2652949\ttotal: 234ms\tremaining: 1.77s\n",
      "117:\tlearn: 0.2649826\ttotal: 236ms\tremaining: 1.76s\n",
      "118:\tlearn: 0.2642277\ttotal: 238ms\tremaining: 1.76s\n",
      "119:\tlearn: 0.2638508\ttotal: 240ms\tremaining: 1.76s\n",
      "120:\tlearn: 0.2630616\ttotal: 242ms\tremaining: 1.76s\n",
      "121:\tlearn: 0.2619070\ttotal: 244ms\tremaining: 1.75s\n",
      "122:\tlearn: 0.2607699\ttotal: 246ms\tremaining: 1.75s\n",
      "123:\tlearn: 0.2596823\ttotal: 248ms\tremaining: 1.75s\n",
      "124:\tlearn: 0.2589650\ttotal: 251ms\tremaining: 1.75s\n",
      "125:\tlearn: 0.2580565\ttotal: 253ms\tremaining: 1.75s\n",
      "126:\tlearn: 0.2571418\ttotal: 255ms\tremaining: 1.75s\n",
      "127:\tlearn: 0.2559222\ttotal: 257ms\tremaining: 1.75s\n",
      "128:\tlearn: 0.2550413\ttotal: 259ms\tremaining: 1.75s\n",
      "129:\tlearn: 0.2537702\ttotal: 261ms\tremaining: 1.75s\n",
      "130:\tlearn: 0.2530967\ttotal: 263ms\tremaining: 1.75s\n",
      "131:\tlearn: 0.2524159\ttotal: 265ms\tremaining: 1.74s\n",
      "132:\tlearn: 0.2517392\ttotal: 267ms\tremaining: 1.74s\n",
      "133:\tlearn: 0.2508674\ttotal: 269ms\tremaining: 1.74s\n",
      "134:\tlearn: 0.2497869\ttotal: 271ms\tremaining: 1.74s\n",
      "135:\tlearn: 0.2488642\ttotal: 273ms\tremaining: 1.73s\n",
      "136:\tlearn: 0.2487743\ttotal: 275ms\tremaining: 1.73s\n",
      "137:\tlearn: 0.2483137\ttotal: 278ms\tremaining: 1.74s\n",
      "138:\tlearn: 0.2474544\ttotal: 281ms\tremaining: 1.74s\n",
      "139:\tlearn: 0.2467485\ttotal: 283ms\tremaining: 1.74s\n",
      "140:\tlearn: 0.2463842\ttotal: 285ms\tremaining: 1.74s\n",
      "141:\tlearn: 0.2456922\ttotal: 288ms\tremaining: 1.74s\n",
      "142:\tlearn: 0.2451492\ttotal: 291ms\tremaining: 1.74s\n",
      "143:\tlearn: 0.2447221\ttotal: 292ms\tremaining: 1.74s\n",
      "144:\tlearn: 0.2438005\ttotal: 295ms\tremaining: 1.74s\n",
      "145:\tlearn: 0.2433559\ttotal: 297ms\tremaining: 1.74s\n",
      "146:\tlearn: 0.2425510\ttotal: 299ms\tremaining: 1.73s\n",
      "147:\tlearn: 0.2425071\ttotal: 300ms\tremaining: 1.73s\n",
      "148:\tlearn: 0.2416535\ttotal: 302ms\tremaining: 1.72s\n",
      "149:\tlearn: 0.2404287\ttotal: 304ms\tremaining: 1.72s\n",
      "150:\tlearn: 0.2400111\ttotal: 306ms\tremaining: 1.72s\n",
      "151:\tlearn: 0.2391866\ttotal: 308ms\tremaining: 1.72s\n",
      "152:\tlearn: 0.2380466\ttotal: 309ms\tremaining: 1.71s\n",
      "153:\tlearn: 0.2374509\ttotal: 311ms\tremaining: 1.71s\n",
      "154:\tlearn: 0.2371262\ttotal: 313ms\tremaining: 1.71s\n",
      "155:\tlearn: 0.2363984\ttotal: 315ms\tremaining: 1.71s\n",
      "156:\tlearn: 0.2361449\ttotal: 317ms\tremaining: 1.7s\n",
      "157:\tlearn: 0.2361049\ttotal: 319ms\tremaining: 1.7s\n",
      "158:\tlearn: 0.2356479\ttotal: 321ms\tremaining: 1.7s\n",
      "159:\tlearn: 0.2345999\ttotal: 322ms\tremaining: 1.69s\n",
      "160:\tlearn: 0.2345588\ttotal: 324ms\tremaining: 1.69s\n",
      "161:\tlearn: 0.2343599\ttotal: 326ms\tremaining: 1.69s\n",
      "162:\tlearn: 0.2342510\ttotal: 328ms\tremaining: 1.68s\n",
      "163:\tlearn: 0.2341570\ttotal: 330ms\tremaining: 1.68s\n",
      "164:\tlearn: 0.2333809\ttotal: 332ms\tremaining: 1.68s\n",
      "165:\tlearn: 0.2324164\ttotal: 334ms\tremaining: 1.68s\n",
      "166:\tlearn: 0.2314540\ttotal: 336ms\tremaining: 1.68s\n",
      "167:\tlearn: 0.2313577\ttotal: 338ms\tremaining: 1.67s\n",
      "168:\tlearn: 0.2301288\ttotal: 340ms\tremaining: 1.67s\n",
      "169:\tlearn: 0.2298983\ttotal: 342ms\tremaining: 1.67s\n",
      "170:\tlearn: 0.2290254\ttotal: 344ms\tremaining: 1.67s\n",
      "171:\tlearn: 0.2289698\ttotal: 346ms\tremaining: 1.66s\n",
      "172:\tlearn: 0.2282728\ttotal: 348ms\tremaining: 1.66s\n",
      "173:\tlearn: 0.2276857\ttotal: 350ms\tremaining: 1.66s\n",
      "174:\tlearn: 0.2273090\ttotal: 351ms\tremaining: 1.66s\n",
      "175:\tlearn: 0.2267976\ttotal: 353ms\tremaining: 1.65s\n",
      "176:\tlearn: 0.2253087\ttotal: 355ms\tremaining: 1.65s\n",
      "177:\tlearn: 0.2250960\ttotal: 357ms\tremaining: 1.65s\n",
      "178:\tlearn: 0.2249125\ttotal: 359ms\tremaining: 1.65s\n",
      "179:\tlearn: 0.2245468\ttotal: 361ms\tremaining: 1.64s\n",
      "180:\tlearn: 0.2238491\ttotal: 363ms\tremaining: 1.64s\n",
      "181:\tlearn: 0.2229791\ttotal: 365ms\tremaining: 1.64s\n",
      "182:\tlearn: 0.2227006\ttotal: 367ms\tremaining: 1.64s\n",
      "183:\tlearn: 0.2216992\ttotal: 369ms\tremaining: 1.63s\n",
      "184:\tlearn: 0.2206837\ttotal: 370ms\tremaining: 1.63s\n",
      "185:\tlearn: 0.2204274\ttotal: 372ms\tremaining: 1.63s\n",
      "186:\tlearn: 0.2193648\ttotal: 374ms\tremaining: 1.63s\n",
      "187:\tlearn: 0.2184175\ttotal: 376ms\tremaining: 1.62s\n",
      "188:\tlearn: 0.2177360\ttotal: 380ms\tremaining: 1.63s\n",
      "189:\tlearn: 0.2165917\ttotal: 382ms\tremaining: 1.63s\n",
      "190:\tlearn: 0.2163485\ttotal: 384ms\tremaining: 1.63s\n",
      "191:\tlearn: 0.2157771\ttotal: 386ms\tremaining: 1.62s\n",
      "192:\tlearn: 0.2153706\ttotal: 387ms\tremaining: 1.62s\n",
      "193:\tlearn: 0.2143231\ttotal: 389ms\tremaining: 1.62s\n",
      "194:\tlearn: 0.2135362\ttotal: 391ms\tremaining: 1.61s\n",
      "195:\tlearn: 0.2126094\ttotal: 393ms\tremaining: 1.61s\n",
      "196:\tlearn: 0.2115688\ttotal: 395ms\tremaining: 1.61s\n",
      "197:\tlearn: 0.2108070\ttotal: 397ms\tremaining: 1.61s\n",
      "198:\tlearn: 0.2099202\ttotal: 399ms\tremaining: 1.6s\n",
      "199:\tlearn: 0.2088988\ttotal: 401ms\tremaining: 1.6s\n",
      "200:\tlearn: 0.2080405\ttotal: 402ms\tremaining: 1.6s\n",
      "201:\tlearn: 0.2067247\ttotal: 404ms\tremaining: 1.6s\n",
      "202:\tlearn: 0.2064706\ttotal: 406ms\tremaining: 1.59s\n",
      "203:\tlearn: 0.2056233\ttotal: 408ms\tremaining: 1.59s\n",
      "204:\tlearn: 0.2051402\ttotal: 410ms\tremaining: 1.59s\n",
      "205:\tlearn: 0.2042841\ttotal: 412ms\tremaining: 1.59s\n",
      "206:\tlearn: 0.2032393\ttotal: 413ms\tremaining: 1.58s\n",
      "207:\tlearn: 0.2023952\ttotal: 415ms\tremaining: 1.58s\n",
      "208:\tlearn: 0.2018515\ttotal: 417ms\tremaining: 1.58s\n",
      "209:\tlearn: 0.2010522\ttotal: 419ms\tremaining: 1.58s\n",
      "210:\tlearn: 0.2001519\ttotal: 421ms\tremaining: 1.57s\n",
      "211:\tlearn: 0.2000559\ttotal: 423ms\tremaining: 1.57s\n",
      "212:\tlearn: 0.1992444\ttotal: 425ms\tremaining: 1.57s\n",
      "213:\tlearn: 0.1986222\ttotal: 427ms\tremaining: 1.57s\n",
      "214:\tlearn: 0.1976191\ttotal: 429ms\tremaining: 1.56s\n",
      "215:\tlearn: 0.1968184\ttotal: 431ms\tremaining: 1.56s\n",
      "216:\tlearn: 0.1963540\ttotal: 433ms\tremaining: 1.56s\n",
      "217:\tlearn: 0.1955594\ttotal: 435ms\tremaining: 1.56s\n",
      "218:\tlearn: 0.1946559\ttotal: 437ms\tremaining: 1.56s\n",
      "219:\tlearn: 0.1940436\ttotal: 439ms\tremaining: 1.55s\n",
      "220:\tlearn: 0.1932653\ttotal: 441ms\tremaining: 1.55s\n",
      "221:\tlearn: 0.1926938\ttotal: 443ms\tremaining: 1.55s\n",
      "222:\tlearn: 0.1916012\ttotal: 445ms\tremaining: 1.55s\n",
      "223:\tlearn: 0.1907328\ttotal: 447ms\tremaining: 1.55s\n",
      "224:\tlearn: 0.1903933\ttotal: 449ms\tremaining: 1.54s\n",
      "225:\tlearn: 0.1899241\ttotal: 451ms\tremaining: 1.54s\n",
      "226:\tlearn: 0.1892055\ttotal: 454ms\tremaining: 1.54s\n",
      "227:\tlearn: 0.1882074\ttotal: 456ms\tremaining: 1.54s\n",
      "228:\tlearn: 0.1876437\ttotal: 458ms\tremaining: 1.54s\n",
      "229:\tlearn: 0.1872284\ttotal: 461ms\tremaining: 1.54s\n",
      "230:\tlearn: 0.1868735\ttotal: 463ms\tremaining: 1.54s\n",
      "231:\tlearn: 0.1861794\ttotal: 465ms\tremaining: 1.54s\n",
      "232:\tlearn: 0.1858465\ttotal: 467ms\tremaining: 1.54s\n",
      "233:\tlearn: 0.1855943\ttotal: 469ms\tremaining: 1.54s\n",
      "234:\tlearn: 0.1850628\ttotal: 472ms\tremaining: 1.53s\n",
      "235:\tlearn: 0.1840953\ttotal: 474ms\tremaining: 1.53s\n",
      "236:\tlearn: 0.1833940\ttotal: 476ms\tremaining: 1.53s\n",
      "237:\tlearn: 0.1827643\ttotal: 478ms\tremaining: 1.53s\n",
      "238:\tlearn: 0.1821253\ttotal: 480ms\tremaining: 1.53s\n",
      "239:\tlearn: 0.1817361\ttotal: 482ms\tremaining: 1.53s\n",
      "240:\tlearn: 0.1813247\ttotal: 484ms\tremaining: 1.52s\n",
      "241:\tlearn: 0.1806104\ttotal: 486ms\tremaining: 1.52s\n",
      "242:\tlearn: 0.1801401\ttotal: 487ms\tremaining: 1.52s\n",
      "243:\tlearn: 0.1797503\ttotal: 489ms\tremaining: 1.51s\n",
      "244:\tlearn: 0.1796346\ttotal: 491ms\tremaining: 1.51s\n",
      "245:\tlearn: 0.1789625\ttotal: 493ms\tremaining: 1.51s\n",
      "246:\tlearn: 0.1782710\ttotal: 495ms\tremaining: 1.51s\n",
      "247:\tlearn: 0.1776549\ttotal: 497ms\tremaining: 1.5s\n",
      "248:\tlearn: 0.1767474\ttotal: 498ms\tremaining: 1.5s\n",
      "249:\tlearn: 0.1763527\ttotal: 500ms\tremaining: 1.5s\n",
      "250:\tlearn: 0.1757683\ttotal: 502ms\tremaining: 1.5s\n",
      "251:\tlearn: 0.1751771\ttotal: 504ms\tremaining: 1.5s\n",
      "252:\tlearn: 0.1744641\ttotal: 506ms\tremaining: 1.49s\n",
      "253:\tlearn: 0.1738872\ttotal: 507ms\tremaining: 1.49s\n",
      "254:\tlearn: 0.1735070\ttotal: 509ms\tremaining: 1.49s\n",
      "255:\tlearn: 0.1730588\ttotal: 511ms\tremaining: 1.49s\n",
      "256:\tlearn: 0.1726301\ttotal: 513ms\tremaining: 1.48s\n",
      "257:\tlearn: 0.1721852\ttotal: 515ms\tremaining: 1.48s\n",
      "258:\tlearn: 0.1721527\ttotal: 517ms\tremaining: 1.48s\n",
      "259:\tlearn: 0.1713349\ttotal: 519ms\tremaining: 1.48s\n",
      "260:\tlearn: 0.1707405\ttotal: 521ms\tremaining: 1.47s\n",
      "261:\tlearn: 0.1700974\ttotal: 523ms\tremaining: 1.47s\n",
      "262:\tlearn: 0.1694908\ttotal: 525ms\tremaining: 1.47s\n",
      "263:\tlearn: 0.1689639\ttotal: 527ms\tremaining: 1.47s\n",
      "264:\tlearn: 0.1685649\ttotal: 529ms\tremaining: 1.47s\n",
      "265:\tlearn: 0.1681868\ttotal: 530ms\tremaining: 1.46s\n",
      "266:\tlearn: 0.1676318\ttotal: 532ms\tremaining: 1.46s\n",
      "267:\tlearn: 0.1674024\ttotal: 534ms\tremaining: 1.46s\n",
      "268:\tlearn: 0.1665996\ttotal: 536ms\tremaining: 1.46s\n",
      "269:\tlearn: 0.1659448\ttotal: 538ms\tremaining: 1.45s\n",
      "270:\tlearn: 0.1653341\ttotal: 540ms\tremaining: 1.45s\n",
      "271:\tlearn: 0.1647950\ttotal: 542ms\tremaining: 1.45s\n",
      "272:\tlearn: 0.1643500\ttotal: 543ms\tremaining: 1.45s\n",
      "273:\tlearn: 0.1635574\ttotal: 545ms\tremaining: 1.44s\n",
      "274:\tlearn: 0.1628213\ttotal: 547ms\tremaining: 1.44s\n",
      "275:\tlearn: 0.1622605\ttotal: 549ms\tremaining: 1.44s\n",
      "276:\tlearn: 0.1618844\ttotal: 551ms\tremaining: 1.44s\n",
      "277:\tlearn: 0.1615541\ttotal: 553ms\tremaining: 1.44s\n",
      "278:\tlearn: 0.1606857\ttotal: 555ms\tremaining: 1.43s\n",
      "279:\tlearn: 0.1599431\ttotal: 556ms\tremaining: 1.43s\n",
      "280:\tlearn: 0.1595638\ttotal: 558ms\tremaining: 1.43s\n",
      "281:\tlearn: 0.1587791\ttotal: 560ms\tremaining: 1.43s\n",
      "282:\tlearn: 0.1582480\ttotal: 562ms\tremaining: 1.42s\n",
      "283:\tlearn: 0.1572136\ttotal: 564ms\tremaining: 1.42s\n",
      "284:\tlearn: 0.1570898\ttotal: 566ms\tremaining: 1.42s\n",
      "285:\tlearn: 0.1567432\ttotal: 568ms\tremaining: 1.42s\n",
      "286:\tlearn: 0.1563341\ttotal: 571ms\tremaining: 1.42s\n",
      "287:\tlearn: 0.1563130\ttotal: 573ms\tremaining: 1.42s\n",
      "288:\tlearn: 0.1560768\ttotal: 575ms\tremaining: 1.41s\n",
      "289:\tlearn: 0.1560181\ttotal: 577ms\tremaining: 1.41s\n",
      "290:\tlearn: 0.1552893\ttotal: 579ms\tremaining: 1.41s\n",
      "291:\tlearn: 0.1552145\ttotal: 581ms\tremaining: 1.41s\n",
      "292:\tlearn: 0.1546790\ttotal: 583ms\tremaining: 1.41s\n",
      "293:\tlearn: 0.1542908\ttotal: 585ms\tremaining: 1.4s\n",
      "294:\tlearn: 0.1537741\ttotal: 587ms\tremaining: 1.4s\n",
      "295:\tlearn: 0.1530432\ttotal: 590ms\tremaining: 1.4s\n",
      "296:\tlearn: 0.1525499\ttotal: 592ms\tremaining: 1.4s\n",
      "297:\tlearn: 0.1522731\ttotal: 594ms\tremaining: 1.4s\n",
      "298:\tlearn: 0.1518508\ttotal: 596ms\tremaining: 1.4s\n",
      "299:\tlearn: 0.1512284\ttotal: 598ms\tremaining: 1.4s\n",
      "300:\tlearn: 0.1508809\ttotal: 600ms\tremaining: 1.39s\n",
      "301:\tlearn: 0.1501926\ttotal: 602ms\tremaining: 1.39s\n",
      "302:\tlearn: 0.1496869\ttotal: 605ms\tremaining: 1.39s\n",
      "303:\tlearn: 0.1491841\ttotal: 607ms\tremaining: 1.39s\n",
      "304:\tlearn: 0.1487185\ttotal: 609ms\tremaining: 1.39s\n",
      "305:\tlearn: 0.1483198\ttotal: 611ms\tremaining: 1.39s\n",
      "306:\tlearn: 0.1483083\ttotal: 613ms\tremaining: 1.38s\n",
      "307:\tlearn: 0.1479663\ttotal: 615ms\tremaining: 1.38s\n",
      "308:\tlearn: 0.1477472\ttotal: 616ms\tremaining: 1.38s\n",
      "309:\tlearn: 0.1472526\ttotal: 618ms\tremaining: 1.38s\n",
      "310:\tlearn: 0.1468917\ttotal: 621ms\tremaining: 1.37s\n",
      "311:\tlearn: 0.1463600\ttotal: 622ms\tremaining: 1.37s\n",
      "312:\tlearn: 0.1459040\ttotal: 624ms\tremaining: 1.37s\n",
      "313:\tlearn: 0.1455268\ttotal: 626ms\tremaining: 1.37s\n",
      "314:\tlearn: 0.1452381\ttotal: 628ms\tremaining: 1.36s\n",
      "315:\tlearn: 0.1451579\ttotal: 630ms\tremaining: 1.36s\n",
      "316:\tlearn: 0.1444664\ttotal: 632ms\tremaining: 1.36s\n",
      "317:\tlearn: 0.1442562\ttotal: 634ms\tremaining: 1.36s\n",
      "318:\tlearn: 0.1442160\ttotal: 636ms\tremaining: 1.36s\n",
      "319:\tlearn: 0.1439931\ttotal: 638ms\tremaining: 1.36s\n",
      "320:\tlearn: 0.1433496\ttotal: 640ms\tremaining: 1.35s\n",
      "321:\tlearn: 0.1432725\ttotal: 642ms\tremaining: 1.35s\n",
      "322:\tlearn: 0.1429996\ttotal: 644ms\tremaining: 1.35s\n",
      "323:\tlearn: 0.1423934\ttotal: 646ms\tremaining: 1.35s\n",
      "324:\tlearn: 0.1421385\ttotal: 648ms\tremaining: 1.34s\n",
      "325:\tlearn: 0.1418810\ttotal: 649ms\tremaining: 1.34s\n",
      "326:\tlearn: 0.1411248\ttotal: 651ms\tremaining: 1.34s\n",
      "327:\tlearn: 0.1408309\ttotal: 653ms\tremaining: 1.34s\n",
      "328:\tlearn: 0.1406459\ttotal: 655ms\tremaining: 1.33s\n",
      "329:\tlearn: 0.1403209\ttotal: 656ms\tremaining: 1.33s\n",
      "330:\tlearn: 0.1396951\ttotal: 658ms\tremaining: 1.33s\n",
      "331:\tlearn: 0.1394077\ttotal: 660ms\tremaining: 1.33s\n",
      "332:\tlearn: 0.1390352\ttotal: 662ms\tremaining: 1.33s\n",
      "333:\tlearn: 0.1387845\ttotal: 664ms\tremaining: 1.32s\n",
      "334:\tlearn: 0.1385434\ttotal: 666ms\tremaining: 1.32s\n",
      "335:\tlearn: 0.1384880\ttotal: 668ms\tremaining: 1.32s\n",
      "336:\tlearn: 0.1378745\ttotal: 670ms\tremaining: 1.32s\n",
      "337:\tlearn: 0.1372590\ttotal: 671ms\tremaining: 1.31s\n",
      "338:\tlearn: 0.1367895\ttotal: 673ms\tremaining: 1.31s\n",
      "339:\tlearn: 0.1365520\ttotal: 675ms\tremaining: 1.31s\n",
      "340:\tlearn: 0.1361941\ttotal: 676ms\tremaining: 1.31s\n",
      "341:\tlearn: 0.1359665\ttotal: 678ms\tremaining: 1.3s\n",
      "342:\tlearn: 0.1356013\ttotal: 680ms\tremaining: 1.3s\n",
      "343:\tlearn: 0.1352315\ttotal: 682ms\tremaining: 1.3s\n",
      "344:\tlearn: 0.1349292\ttotal: 684ms\tremaining: 1.3s\n",
      "345:\tlearn: 0.1346385\ttotal: 686ms\tremaining: 1.3s\n",
      "346:\tlearn: 0.1341541\ttotal: 688ms\tremaining: 1.29s\n",
      "347:\tlearn: 0.1337030\ttotal: 690ms\tremaining: 1.29s\n",
      "348:\tlearn: 0.1332626\ttotal: 693ms\tremaining: 1.29s\n",
      "349:\tlearn: 0.1330046\ttotal: 695ms\tremaining: 1.29s\n",
      "350:\tlearn: 0.1326946\ttotal: 697ms\tremaining: 1.29s\n",
      "351:\tlearn: 0.1321596\ttotal: 699ms\tremaining: 1.29s\n",
      "352:\tlearn: 0.1316519\ttotal: 701ms\tremaining: 1.28s\n",
      "353:\tlearn: 0.1312939\ttotal: 703ms\tremaining: 1.28s\n",
      "354:\tlearn: 0.1312737\ttotal: 704ms\tremaining: 1.28s\n",
      "355:\tlearn: 0.1306909\ttotal: 707ms\tremaining: 1.28s\n",
      "356:\tlearn: 0.1302492\ttotal: 709ms\tremaining: 1.28s\n",
      "357:\tlearn: 0.1298747\ttotal: 710ms\tremaining: 1.27s\n",
      "358:\tlearn: 0.1296228\ttotal: 712ms\tremaining: 1.27s\n",
      "359:\tlearn: 0.1292375\ttotal: 714ms\tremaining: 1.27s\n",
      "360:\tlearn: 0.1287749\ttotal: 716ms\tremaining: 1.27s\n",
      "361:\tlearn: 0.1286730\ttotal: 718ms\tremaining: 1.26s\n",
      "362:\tlearn: 0.1282371\ttotal: 720ms\tremaining: 1.26s\n",
      "363:\tlearn: 0.1279719\ttotal: 721ms\tremaining: 1.26s\n",
      "364:\tlearn: 0.1279235\ttotal: 723ms\tremaining: 1.26s\n",
      "365:\tlearn: 0.1274651\ttotal: 725ms\tremaining: 1.25s\n",
      "366:\tlearn: 0.1269364\ttotal: 726ms\tremaining: 1.25s\n",
      "367:\tlearn: 0.1264997\ttotal: 728ms\tremaining: 1.25s\n",
      "368:\tlearn: 0.1261220\ttotal: 730ms\tremaining: 1.25s\n",
      "369:\tlearn: 0.1256884\ttotal: 732ms\tremaining: 1.25s\n",
      "370:\tlearn: 0.1252493\ttotal: 734ms\tremaining: 1.24s\n",
      "371:\tlearn: 0.1250090\ttotal: 736ms\tremaining: 1.24s\n",
      "372:\tlearn: 0.1248268\ttotal: 737ms\tremaining: 1.24s\n",
      "373:\tlearn: 0.1245266\ttotal: 739ms\tremaining: 1.24s\n",
      "374:\tlearn: 0.1240303\ttotal: 741ms\tremaining: 1.24s\n",
      "375:\tlearn: 0.1238356\ttotal: 744ms\tremaining: 1.23s\n",
      "376:\tlearn: 0.1237636\ttotal: 746ms\tremaining: 1.23s\n",
      "377:\tlearn: 0.1233775\ttotal: 747ms\tremaining: 1.23s\n",
      "378:\tlearn: 0.1230153\ttotal: 749ms\tremaining: 1.23s\n",
      "379:\tlearn: 0.1224932\ttotal: 751ms\tremaining: 1.23s\n",
      "380:\tlearn: 0.1218569\ttotal: 753ms\tremaining: 1.22s\n",
      "381:\tlearn: 0.1215374\ttotal: 755ms\tremaining: 1.22s\n",
      "382:\tlearn: 0.1213399\ttotal: 757ms\tremaining: 1.22s\n",
      "383:\tlearn: 0.1211531\ttotal: 761ms\tremaining: 1.22s\n",
      "384:\tlearn: 0.1207428\ttotal: 764ms\tremaining: 1.22s\n",
      "385:\tlearn: 0.1203726\ttotal: 766ms\tremaining: 1.22s\n",
      "386:\tlearn: 0.1200285\ttotal: 768ms\tremaining: 1.22s\n",
      "387:\tlearn: 0.1198590\ttotal: 770ms\tremaining: 1.22s\n",
      "388:\tlearn: 0.1196526\ttotal: 772ms\tremaining: 1.21s\n",
      "389:\tlearn: 0.1193712\ttotal: 774ms\tremaining: 1.21s\n",
      "390:\tlearn: 0.1190875\ttotal: 776ms\tremaining: 1.21s\n",
      "391:\tlearn: 0.1186569\ttotal: 778ms\tremaining: 1.21s\n",
      "392:\tlearn: 0.1184326\ttotal: 779ms\tremaining: 1.2s\n",
      "393:\tlearn: 0.1181581\ttotal: 781ms\tremaining: 1.2s\n",
      "394:\tlearn: 0.1176292\ttotal: 783ms\tremaining: 1.2s\n",
      "395:\tlearn: 0.1172644\ttotal: 785ms\tremaining: 1.2s\n",
      "396:\tlearn: 0.1169592\ttotal: 787ms\tremaining: 1.2s\n",
      "397:\tlearn: 0.1168080\ttotal: 789ms\tremaining: 1.19s\n",
      "398:\tlearn: 0.1164174\ttotal: 791ms\tremaining: 1.19s\n",
      "399:\tlearn: 0.1161173\ttotal: 793ms\tremaining: 1.19s\n",
      "400:\tlearn: 0.1158778\ttotal: 794ms\tremaining: 1.19s\n",
      "401:\tlearn: 0.1155334\ttotal: 796ms\tremaining: 1.18s\n",
      "402:\tlearn: 0.1152975\ttotal: 798ms\tremaining: 1.18s\n",
      "403:\tlearn: 0.1149478\ttotal: 800ms\tremaining: 1.18s\n",
      "404:\tlearn: 0.1142949\ttotal: 801ms\tremaining: 1.18s\n",
      "405:\tlearn: 0.1142249\ttotal: 803ms\tremaining: 1.18s\n",
      "406:\tlearn: 0.1142092\ttotal: 805ms\tremaining: 1.17s\n",
      "407:\tlearn: 0.1139912\ttotal: 807ms\tremaining: 1.17s\n",
      "408:\tlearn: 0.1135205\ttotal: 809ms\tremaining: 1.17s\n",
      "409:\tlearn: 0.1131118\ttotal: 811ms\tremaining: 1.17s\n",
      "410:\tlearn: 0.1127015\ttotal: 813ms\tremaining: 1.17s\n",
      "411:\tlearn: 0.1124468\ttotal: 815ms\tremaining: 1.16s\n",
      "412:\tlearn: 0.1120134\ttotal: 817ms\tremaining: 1.16s\n",
      "413:\tlearn: 0.1116878\ttotal: 819ms\tremaining: 1.16s\n",
      "414:\tlearn: 0.1116095\ttotal: 820ms\tremaining: 1.16s\n",
      "415:\tlearn: 0.1111600\ttotal: 822ms\tremaining: 1.15s\n",
      "416:\tlearn: 0.1107462\ttotal: 824ms\tremaining: 1.15s\n",
      "417:\tlearn: 0.1106563\ttotal: 826ms\tremaining: 1.15s\n",
      "418:\tlearn: 0.1104563\ttotal: 828ms\tremaining: 1.15s\n",
      "419:\tlearn: 0.1102839\ttotal: 830ms\tremaining: 1.15s\n",
      "420:\tlearn: 0.1099912\ttotal: 832ms\tremaining: 1.14s\n",
      "421:\tlearn: 0.1096610\ttotal: 834ms\tremaining: 1.14s\n",
      "422:\tlearn: 0.1091928\ttotal: 836ms\tremaining: 1.14s\n",
      "423:\tlearn: 0.1089210\ttotal: 838ms\tremaining: 1.14s\n",
      "424:\tlearn: 0.1085905\ttotal: 840ms\tremaining: 1.14s\n",
      "425:\tlearn: 0.1082507\ttotal: 842ms\tremaining: 1.13s\n",
      "426:\tlearn: 0.1080464\ttotal: 844ms\tremaining: 1.13s\n",
      "427:\tlearn: 0.1078052\ttotal: 846ms\tremaining: 1.13s\n",
      "428:\tlearn: 0.1073365\ttotal: 847ms\tremaining: 1.13s\n",
      "429:\tlearn: 0.1069406\ttotal: 849ms\tremaining: 1.13s\n",
      "430:\tlearn: 0.1067845\ttotal: 851ms\tremaining: 1.12s\n",
      "431:\tlearn: 0.1066974\ttotal: 853ms\tremaining: 1.12s\n",
      "432:\tlearn: 0.1063595\ttotal: 855ms\tremaining: 1.12s\n",
      "433:\tlearn: 0.1057541\ttotal: 857ms\tremaining: 1.12s\n",
      "434:\tlearn: 0.1054590\ttotal: 859ms\tremaining: 1.11s\n",
      "435:\tlearn: 0.1048320\ttotal: 861ms\tremaining: 1.11s\n",
      "436:\tlearn: 0.1045086\ttotal: 863ms\tremaining: 1.11s\n",
      "437:\tlearn: 0.1042686\ttotal: 864ms\tremaining: 1.11s\n",
      "438:\tlearn: 0.1039570\ttotal: 866ms\tremaining: 1.11s\n",
      "439:\tlearn: 0.1037129\ttotal: 868ms\tremaining: 1.1s\n",
      "440:\tlearn: 0.1032637\ttotal: 870ms\tremaining: 1.1s\n",
      "441:\tlearn: 0.1030145\ttotal: 872ms\tremaining: 1.1s\n",
      "442:\tlearn: 0.1028582\ttotal: 874ms\tremaining: 1.1s\n",
      "443:\tlearn: 0.1025316\ttotal: 875ms\tremaining: 1.1s\n",
      "444:\tlearn: 0.1021967\ttotal: 877ms\tremaining: 1.09s\n",
      "445:\tlearn: 0.1017471\ttotal: 879ms\tremaining: 1.09s\n",
      "446:\tlearn: 0.1014537\ttotal: 881ms\tremaining: 1.09s\n",
      "447:\tlearn: 0.1012002\ttotal: 883ms\tremaining: 1.09s\n",
      "448:\tlearn: 0.1010557\ttotal: 885ms\tremaining: 1.08s\n",
      "449:\tlearn: 0.1009113\ttotal: 887ms\tremaining: 1.08s\n",
      "450:\tlearn: 0.1006648\ttotal: 889ms\tremaining: 1.08s\n",
      "451:\tlearn: 0.1005290\ttotal: 890ms\tremaining: 1.08s\n",
      "452:\tlearn: 0.1001114\ttotal: 892ms\tremaining: 1.08s\n",
      "453:\tlearn: 0.1000989\ttotal: 894ms\tremaining: 1.07s\n",
      "454:\tlearn: 0.0997166\ttotal: 896ms\tremaining: 1.07s\n",
      "455:\tlearn: 0.0995925\ttotal: 898ms\tremaining: 1.07s\n",
      "456:\tlearn: 0.0993679\ttotal: 900ms\tremaining: 1.07s\n",
      "457:\tlearn: 0.0991671\ttotal: 902ms\tremaining: 1.07s\n",
      "458:\tlearn: 0.0988678\ttotal: 904ms\tremaining: 1.06s\n",
      "459:\tlearn: 0.0983321\ttotal: 906ms\tremaining: 1.06s\n",
      "460:\tlearn: 0.0981494\ttotal: 908ms\tremaining: 1.06s\n",
      "461:\tlearn: 0.0976134\ttotal: 910ms\tremaining: 1.06s\n",
      "462:\tlearn: 0.0973162\ttotal: 912ms\tremaining: 1.06s\n",
      "463:\tlearn: 0.0971278\ttotal: 914ms\tremaining: 1.05s\n",
      "464:\tlearn: 0.0969307\ttotal: 916ms\tremaining: 1.05s\n",
      "465:\tlearn: 0.0967455\ttotal: 918ms\tremaining: 1.05s\n",
      "466:\tlearn: 0.0964160\ttotal: 919ms\tremaining: 1.05s\n",
      "467:\tlearn: 0.0962164\ttotal: 921ms\tremaining: 1.05s\n",
      "468:\tlearn: 0.0959994\ttotal: 923ms\tremaining: 1.04s\n",
      "469:\tlearn: 0.0955452\ttotal: 924ms\tremaining: 1.04s\n",
      "470:\tlearn: 0.0952925\ttotal: 927ms\tremaining: 1.04s\n",
      "471:\tlearn: 0.0950042\ttotal: 929ms\tremaining: 1.04s\n",
      "472:\tlearn: 0.0948446\ttotal: 931ms\tremaining: 1.04s\n",
      "473:\tlearn: 0.0945354\ttotal: 933ms\tremaining: 1.03s\n",
      "474:\tlearn: 0.0943011\ttotal: 935ms\tremaining: 1.03s\n",
      "475:\tlearn: 0.0941990\ttotal: 937ms\tremaining: 1.03s\n",
      "476:\tlearn: 0.0940421\ttotal: 939ms\tremaining: 1.03s\n",
      "477:\tlearn: 0.0938932\ttotal: 941ms\tremaining: 1.03s\n",
      "478:\tlearn: 0.0936515\ttotal: 943ms\tremaining: 1.02s\n",
      "479:\tlearn: 0.0935379\ttotal: 945ms\tremaining: 1.02s\n",
      "480:\tlearn: 0.0932827\ttotal: 947ms\tremaining: 1.02s\n",
      "481:\tlearn: 0.0930183\ttotal: 953ms\tremaining: 1.02s\n",
      "482:\tlearn: 0.0927890\ttotal: 956ms\tremaining: 1.02s\n",
      "483:\tlearn: 0.0926583\ttotal: 959ms\tremaining: 1.02s\n",
      "484:\tlearn: 0.0923858\ttotal: 961ms\tremaining: 1.02s\n",
      "485:\tlearn: 0.0923172\ttotal: 963ms\tremaining: 1.02s\n",
      "486:\tlearn: 0.0919788\ttotal: 965ms\tremaining: 1.02s\n",
      "487:\tlearn: 0.0917746\ttotal: 967ms\tremaining: 1.01s\n",
      "488:\tlearn: 0.0917313\ttotal: 969ms\tremaining: 1.01s\n",
      "489:\tlearn: 0.0914699\ttotal: 971ms\tremaining: 1.01s\n",
      "490:\tlearn: 0.0911677\ttotal: 973ms\tremaining: 1.01s\n",
      "491:\tlearn: 0.0910130\ttotal: 976ms\tremaining: 1.01s\n",
      "492:\tlearn: 0.0907130\ttotal: 978ms\tremaining: 1.01s\n",
      "493:\tlearn: 0.0906532\ttotal: 981ms\tremaining: 1s\n",
      "494:\tlearn: 0.0906341\ttotal: 983ms\tremaining: 1s\n",
      "495:\tlearn: 0.0903768\ttotal: 985ms\tremaining: 1s\n",
      "496:\tlearn: 0.0901357\ttotal: 987ms\tremaining: 999ms\n",
      "497:\tlearn: 0.0898563\ttotal: 989ms\tremaining: 997ms\n",
      "498:\tlearn: 0.0898235\ttotal: 992ms\tremaining: 996ms\n",
      "499:\tlearn: 0.0895694\ttotal: 994ms\tremaining: 994ms\n",
      "500:\tlearn: 0.0895028\ttotal: 996ms\tremaining: 992ms\n",
      "501:\tlearn: 0.0892822\ttotal: 998ms\tremaining: 990ms\n",
      "502:\tlearn: 0.0889375\ttotal: 1000ms\tremaining: 988ms\n",
      "503:\tlearn: 0.0887051\ttotal: 1s\tremaining: 986ms\n",
      "504:\tlearn: 0.0884888\ttotal: 1s\tremaining: 984ms\n",
      "505:\tlearn: 0.0883070\ttotal: 1s\tremaining: 982ms\n",
      "506:\tlearn: 0.0881360\ttotal: 1.01s\tremaining: 980ms\n",
      "507:\tlearn: 0.0878243\ttotal: 1.01s\tremaining: 978ms\n",
      "508:\tlearn: 0.0876581\ttotal: 1.01s\tremaining: 976ms\n",
      "509:\tlearn: 0.0874585\ttotal: 1.01s\tremaining: 974ms\n",
      "510:\tlearn: 0.0871287\ttotal: 1.01s\tremaining: 972ms\n",
      "511:\tlearn: 0.0867599\ttotal: 1.02s\tremaining: 970ms\n",
      "512:\tlearn: 0.0864519\ttotal: 1.02s\tremaining: 968ms\n",
      "513:\tlearn: 0.0862750\ttotal: 1.02s\tremaining: 966ms\n",
      "514:\tlearn: 0.0861805\ttotal: 1.02s\tremaining: 963ms\n",
      "515:\tlearn: 0.0858942\ttotal: 1.02s\tremaining: 961ms\n",
      "516:\tlearn: 0.0856840\ttotal: 1.03s\tremaining: 959ms\n",
      "517:\tlearn: 0.0856262\ttotal: 1.03s\tremaining: 957ms\n",
      "518:\tlearn: 0.0853003\ttotal: 1.03s\tremaining: 955ms\n",
      "519:\tlearn: 0.0850142\ttotal: 1.03s\tremaining: 953ms\n",
      "520:\tlearn: 0.0847768\ttotal: 1.03s\tremaining: 951ms\n",
      "521:\tlearn: 0.0846738\ttotal: 1.04s\tremaining: 949ms\n",
      "522:\tlearn: 0.0845421\ttotal: 1.04s\tremaining: 947ms\n",
      "523:\tlearn: 0.0842812\ttotal: 1.04s\tremaining: 946ms\n",
      "524:\tlearn: 0.0840483\ttotal: 1.04s\tremaining: 944ms\n",
      "525:\tlearn: 0.0838322\ttotal: 1.04s\tremaining: 942ms\n",
      "526:\tlearn: 0.0837235\ttotal: 1.05s\tremaining: 940ms\n",
      "527:\tlearn: 0.0837135\ttotal: 1.05s\tremaining: 938ms\n",
      "528:\tlearn: 0.0834620\ttotal: 1.05s\tremaining: 936ms\n",
      "529:\tlearn: 0.0832267\ttotal: 1.05s\tremaining: 934ms\n",
      "530:\tlearn: 0.0830075\ttotal: 1.05s\tremaining: 932ms\n",
      "531:\tlearn: 0.0828828\ttotal: 1.06s\tremaining: 930ms\n",
      "532:\tlearn: 0.0828661\ttotal: 1.06s\tremaining: 928ms\n",
      "533:\tlearn: 0.0827016\ttotal: 1.06s\tremaining: 925ms\n",
      "534:\tlearn: 0.0824539\ttotal: 1.06s\tremaining: 924ms\n",
      "535:\tlearn: 0.0823373\ttotal: 1.06s\tremaining: 922ms\n",
      "536:\tlearn: 0.0822593\ttotal: 1.07s\tremaining: 920ms\n",
      "537:\tlearn: 0.0822125\ttotal: 1.07s\tremaining: 918ms\n",
      "538:\tlearn: 0.0821709\ttotal: 1.07s\tremaining: 916ms\n",
      "539:\tlearn: 0.0821532\ttotal: 1.07s\tremaining: 914ms\n",
      "540:\tlearn: 0.0820561\ttotal: 1.07s\tremaining: 912ms\n",
      "541:\tlearn: 0.0818131\ttotal: 1.08s\tremaining: 910ms\n",
      "542:\tlearn: 0.0813258\ttotal: 1.08s\tremaining: 908ms\n",
      "543:\tlearn: 0.0812948\ttotal: 1.08s\tremaining: 906ms\n",
      "544:\tlearn: 0.0811543\ttotal: 1.08s\tremaining: 904ms\n",
      "545:\tlearn: 0.0809059\ttotal: 1.08s\tremaining: 902ms\n",
      "546:\tlearn: 0.0807412\ttotal: 1.09s\tremaining: 900ms\n",
      "547:\tlearn: 0.0803953\ttotal: 1.09s\tremaining: 898ms\n",
      "548:\tlearn: 0.0801960\ttotal: 1.09s\tremaining: 896ms\n",
      "549:\tlearn: 0.0799572\ttotal: 1.09s\tremaining: 894ms\n",
      "550:\tlearn: 0.0799409\ttotal: 1.09s\tremaining: 892ms\n",
      "551:\tlearn: 0.0798162\ttotal: 1.1s\tremaining: 890ms\n",
      "552:\tlearn: 0.0797140\ttotal: 1.1s\tremaining: 888ms\n",
      "553:\tlearn: 0.0795232\ttotal: 1.1s\tremaining: 886ms\n",
      "554:\tlearn: 0.0794219\ttotal: 1.1s\tremaining: 884ms\n",
      "555:\tlearn: 0.0793143\ttotal: 1.1s\tremaining: 882ms\n",
      "556:\tlearn: 0.0791267\ttotal: 1.11s\tremaining: 880ms\n",
      "557:\tlearn: 0.0789687\ttotal: 1.11s\tremaining: 878ms\n",
      "558:\tlearn: 0.0787925\ttotal: 1.11s\tremaining: 876ms\n",
      "559:\tlearn: 0.0785784\ttotal: 1.11s\tremaining: 874ms\n",
      "560:\tlearn: 0.0782734\ttotal: 1.11s\tremaining: 873ms\n",
      "561:\tlearn: 0.0781154\ttotal: 1.12s\tremaining: 871ms\n",
      "562:\tlearn: 0.0779303\ttotal: 1.12s\tremaining: 869ms\n",
      "563:\tlearn: 0.0779112\ttotal: 1.12s\tremaining: 867ms\n",
      "564:\tlearn: 0.0777438\ttotal: 1.12s\tremaining: 865ms\n",
      "565:\tlearn: 0.0775218\ttotal: 1.13s\tremaining: 863ms\n",
      "566:\tlearn: 0.0774169\ttotal: 1.13s\tremaining: 861ms\n",
      "567:\tlearn: 0.0772602\ttotal: 1.13s\tremaining: 859ms\n",
      "568:\tlearn: 0.0771791\ttotal: 1.13s\tremaining: 857ms\n",
      "569:\tlearn: 0.0770006\ttotal: 1.13s\tremaining: 855ms\n",
      "570:\tlearn: 0.0767650\ttotal: 1.13s\tremaining: 853ms\n",
      "571:\tlearn: 0.0766155\ttotal: 1.14s\tremaining: 851ms\n",
      "572:\tlearn: 0.0765017\ttotal: 1.14s\tremaining: 849ms\n",
      "573:\tlearn: 0.0763698\ttotal: 1.14s\tremaining: 847ms\n",
      "574:\tlearn: 0.0761080\ttotal: 1.14s\tremaining: 846ms\n",
      "575:\tlearn: 0.0759806\ttotal: 1.15s\tremaining: 844ms\n",
      "576:\tlearn: 0.0757093\ttotal: 1.15s\tremaining: 842ms\n",
      "577:\tlearn: 0.0755126\ttotal: 1.15s\tremaining: 840ms\n",
      "578:\tlearn: 0.0754747\ttotal: 1.15s\tremaining: 838ms\n",
      "579:\tlearn: 0.0754634\ttotal: 1.15s\tremaining: 836ms\n",
      "580:\tlearn: 0.0753816\ttotal: 1.16s\tremaining: 834ms\n",
      "581:\tlearn: 0.0751275\ttotal: 1.16s\tremaining: 832ms\n",
      "582:\tlearn: 0.0750353\ttotal: 1.16s\tremaining: 830ms\n",
      "583:\tlearn: 0.0750300\ttotal: 1.16s\tremaining: 828ms\n",
      "584:\tlearn: 0.0750168\ttotal: 1.16s\tremaining: 826ms\n",
      "585:\tlearn: 0.0748524\ttotal: 1.17s\tremaining: 824ms\n",
      "586:\tlearn: 0.0747419\ttotal: 1.17s\tremaining: 822ms\n",
      "587:\tlearn: 0.0745700\ttotal: 1.17s\tremaining: 820ms\n",
      "588:\tlearn: 0.0744679\ttotal: 1.17s\tremaining: 818ms\n",
      "589:\tlearn: 0.0743206\ttotal: 1.17s\tremaining: 816ms\n",
      "590:\tlearn: 0.0742621\ttotal: 1.18s\tremaining: 814ms\n",
      "591:\tlearn: 0.0740787\ttotal: 1.18s\tremaining: 812ms\n",
      "592:\tlearn: 0.0739491\ttotal: 1.18s\tremaining: 810ms\n",
      "593:\tlearn: 0.0737452\ttotal: 1.18s\tremaining: 808ms\n",
      "594:\tlearn: 0.0737376\ttotal: 1.18s\tremaining: 806ms\n",
      "595:\tlearn: 0.0735721\ttotal: 1.19s\tremaining: 804ms\n",
      "596:\tlearn: 0.0734590\ttotal: 1.19s\tremaining: 802ms\n",
      "597:\tlearn: 0.0733722\ttotal: 1.19s\tremaining: 800ms\n",
      "598:\tlearn: 0.0732922\ttotal: 1.19s\tremaining: 798ms\n",
      "599:\tlearn: 0.0731738\ttotal: 1.19s\tremaining: 796ms\n",
      "600:\tlearn: 0.0729784\ttotal: 1.2s\tremaining: 794ms\n",
      "601:\tlearn: 0.0729642\ttotal: 1.2s\tremaining: 792ms\n",
      "602:\tlearn: 0.0728474\ttotal: 1.2s\tremaining: 790ms\n",
      "603:\tlearn: 0.0726326\ttotal: 1.2s\tremaining: 788ms\n",
      "604:\tlearn: 0.0726184\ttotal: 1.2s\tremaining: 786ms\n",
      "605:\tlearn: 0.0725444\ttotal: 1.21s\tremaining: 784ms\n",
      "606:\tlearn: 0.0722894\ttotal: 1.21s\tremaining: 782ms\n",
      "607:\tlearn: 0.0721960\ttotal: 1.21s\tremaining: 780ms\n",
      "608:\tlearn: 0.0721816\ttotal: 1.21s\tremaining: 778ms\n",
      "609:\tlearn: 0.0721714\ttotal: 1.21s\tremaining: 776ms\n",
      "610:\tlearn: 0.0720201\ttotal: 1.22s\tremaining: 774ms\n",
      "611:\tlearn: 0.0717921\ttotal: 1.22s\tremaining: 772ms\n",
      "612:\tlearn: 0.0716476\ttotal: 1.22s\tremaining: 770ms\n",
      "613:\tlearn: 0.0715874\ttotal: 1.22s\tremaining: 768ms\n",
      "614:\tlearn: 0.0715423\ttotal: 1.22s\tremaining: 766ms\n",
      "615:\tlearn: 0.0715380\ttotal: 1.22s\tremaining: 764ms\n",
      "616:\tlearn: 0.0714288\ttotal: 1.23s\tremaining: 761ms\n",
      "617:\tlearn: 0.0713833\ttotal: 1.23s\tremaining: 759ms\n",
      "618:\tlearn: 0.0712776\ttotal: 1.23s\tremaining: 757ms\n",
      "619:\tlearn: 0.0710950\ttotal: 1.23s\tremaining: 756ms\n",
      "620:\tlearn: 0.0708487\ttotal: 1.23s\tremaining: 754ms\n",
      "621:\tlearn: 0.0707464\ttotal: 1.24s\tremaining: 752ms\n",
      "622:\tlearn: 0.0705761\ttotal: 1.24s\tremaining: 750ms\n",
      "623:\tlearn: 0.0703710\ttotal: 1.24s\tremaining: 748ms\n",
      "624:\tlearn: 0.0702039\ttotal: 1.24s\tremaining: 746ms\n",
      "625:\tlearn: 0.0701823\ttotal: 1.25s\tremaining: 744ms\n",
      "626:\tlearn: 0.0700967\ttotal: 1.25s\tremaining: 742ms\n",
      "627:\tlearn: 0.0698016\ttotal: 1.25s\tremaining: 740ms\n",
      "628:\tlearn: 0.0696151\ttotal: 1.25s\tremaining: 738ms\n",
      "629:\tlearn: 0.0695686\ttotal: 1.25s\tremaining: 737ms\n",
      "630:\tlearn: 0.0692893\ttotal: 1.26s\tremaining: 735ms\n",
      "631:\tlearn: 0.0691715\ttotal: 1.26s\tremaining: 733ms\n",
      "632:\tlearn: 0.0689187\ttotal: 1.26s\tremaining: 731ms\n",
      "633:\tlearn: 0.0688242\ttotal: 1.26s\tremaining: 729ms\n",
      "634:\tlearn: 0.0687529\ttotal: 1.26s\tremaining: 727ms\n",
      "635:\tlearn: 0.0687408\ttotal: 1.27s\tremaining: 725ms\n",
      "636:\tlearn: 0.0686489\ttotal: 1.27s\tremaining: 723ms\n",
      "637:\tlearn: 0.0683981\ttotal: 1.27s\tremaining: 721ms\n",
      "638:\tlearn: 0.0682579\ttotal: 1.27s\tremaining: 719ms\n",
      "639:\tlearn: 0.0681850\ttotal: 1.27s\tremaining: 718ms\n",
      "640:\tlearn: 0.0679415\ttotal: 1.28s\tremaining: 716ms\n",
      "641:\tlearn: 0.0679085\ttotal: 1.28s\tremaining: 714ms\n",
      "642:\tlearn: 0.0678396\ttotal: 1.28s\tremaining: 712ms\n",
      "643:\tlearn: 0.0678301\ttotal: 1.28s\tremaining: 710ms\n",
      "644:\tlearn: 0.0677059\ttotal: 1.29s\tremaining: 708ms\n",
      "645:\tlearn: 0.0676954\ttotal: 1.29s\tremaining: 707ms\n",
      "646:\tlearn: 0.0676170\ttotal: 1.29s\tremaining: 705ms\n",
      "647:\tlearn: 0.0675749\ttotal: 1.29s\tremaining: 703ms\n",
      "648:\tlearn: 0.0673771\ttotal: 1.29s\tremaining: 701ms\n",
      "649:\tlearn: 0.0672593\ttotal: 1.3s\tremaining: 698ms\n",
      "650:\tlearn: 0.0672264\ttotal: 1.3s\tremaining: 696ms\n",
      "651:\tlearn: 0.0670851\ttotal: 1.3s\tremaining: 694ms\n",
      "652:\tlearn: 0.0669653\ttotal: 1.3s\tremaining: 692ms\n",
      "653:\tlearn: 0.0668534\ttotal: 1.3s\tremaining: 690ms\n",
      "654:\tlearn: 0.0667991\ttotal: 1.31s\tremaining: 688ms\n",
      "655:\tlearn: 0.0667929\ttotal: 1.31s\tremaining: 686ms\n",
      "656:\tlearn: 0.0665615\ttotal: 1.31s\tremaining: 684ms\n",
      "657:\tlearn: 0.0665383\ttotal: 1.31s\tremaining: 682ms\n",
      "658:\tlearn: 0.0664321\ttotal: 1.31s\tremaining: 680ms\n",
      "659:\tlearn: 0.0662795\ttotal: 1.32s\tremaining: 678ms\n",
      "660:\tlearn: 0.0662400\ttotal: 1.32s\tremaining: 676ms\n",
      "661:\tlearn: 0.0660714\ttotal: 1.32s\tremaining: 674ms\n",
      "662:\tlearn: 0.0658751\ttotal: 1.32s\tremaining: 672ms\n",
      "663:\tlearn: 0.0657577\ttotal: 1.32s\tremaining: 670ms\n",
      "664:\tlearn: 0.0656285\ttotal: 1.32s\tremaining: 668ms\n",
      "665:\tlearn: 0.0655776\ttotal: 1.33s\tremaining: 666ms\n",
      "666:\tlearn: 0.0655696\ttotal: 1.33s\tremaining: 665ms\n",
      "667:\tlearn: 0.0653799\ttotal: 1.33s\tremaining: 664ms\n",
      "668:\tlearn: 0.0651040\ttotal: 1.34s\tremaining: 662ms\n",
      "669:\tlearn: 0.0651000\ttotal: 1.34s\tremaining: 660ms\n",
      "670:\tlearn: 0.0650937\ttotal: 1.34s\tremaining: 658ms\n",
      "671:\tlearn: 0.0649619\ttotal: 1.34s\tremaining: 656ms\n",
      "672:\tlearn: 0.0649218\ttotal: 1.34s\tremaining: 654ms\n",
      "673:\tlearn: 0.0649170\ttotal: 1.35s\tremaining: 652ms\n",
      "674:\tlearn: 0.0647054\ttotal: 1.35s\tremaining: 650ms\n",
      "675:\tlearn: 0.0646688\ttotal: 1.35s\tremaining: 648ms\n",
      "676:\tlearn: 0.0645974\ttotal: 1.35s\tremaining: 646ms\n",
      "677:\tlearn: 0.0643562\ttotal: 1.35s\tremaining: 644ms\n",
      "678:\tlearn: 0.0642671\ttotal: 1.36s\tremaining: 642ms\n",
      "679:\tlearn: 0.0640674\ttotal: 1.36s\tremaining: 640ms\n",
      "680:\tlearn: 0.0640624\ttotal: 1.36s\tremaining: 638ms\n",
      "681:\tlearn: 0.0638777\ttotal: 1.36s\tremaining: 636ms\n",
      "682:\tlearn: 0.0638426\ttotal: 1.37s\tremaining: 634ms\n",
      "683:\tlearn: 0.0636965\ttotal: 1.37s\tremaining: 632ms\n",
      "684:\tlearn: 0.0636913\ttotal: 1.37s\tremaining: 630ms\n",
      "685:\tlearn: 0.0636706\ttotal: 1.37s\tremaining: 628ms\n",
      "686:\tlearn: 0.0635128\ttotal: 1.37s\tremaining: 626ms\n",
      "687:\tlearn: 0.0634315\ttotal: 1.38s\tremaining: 624ms\n",
      "688:\tlearn: 0.0632565\ttotal: 1.38s\tremaining: 622ms\n",
      "689:\tlearn: 0.0631403\ttotal: 1.38s\tremaining: 620ms\n",
      "690:\tlearn: 0.0629383\ttotal: 1.38s\tremaining: 618ms\n",
      "691:\tlearn: 0.0628951\ttotal: 1.38s\tremaining: 616ms\n",
      "692:\tlearn: 0.0628871\ttotal: 1.39s\tremaining: 614ms\n",
      "693:\tlearn: 0.0628103\ttotal: 1.39s\tremaining: 612ms\n",
      "694:\tlearn: 0.0626778\ttotal: 1.39s\tremaining: 610ms\n",
      "695:\tlearn: 0.0626738\ttotal: 1.39s\tremaining: 608ms\n",
      "696:\tlearn: 0.0625506\ttotal: 1.39s\tremaining: 606ms\n",
      "697:\tlearn: 0.0623878\ttotal: 1.4s\tremaining: 605ms\n",
      "698:\tlearn: 0.0623827\ttotal: 1.4s\tremaining: 603ms\n",
      "699:\tlearn: 0.0623177\ttotal: 1.4s\tremaining: 601ms\n",
      "700:\tlearn: 0.0622563\ttotal: 1.4s\tremaining: 598ms\n",
      "701:\tlearn: 0.0621279\ttotal: 1.41s\tremaining: 596ms\n",
      "702:\tlearn: 0.0620434\ttotal: 1.41s\tremaining: 594ms\n",
      "703:\tlearn: 0.0619936\ttotal: 1.41s\tremaining: 592ms\n",
      "704:\tlearn: 0.0619331\ttotal: 1.41s\tremaining: 590ms\n",
      "705:\tlearn: 0.0619247\ttotal: 1.41s\tremaining: 588ms\n",
      "706:\tlearn: 0.0618782\ttotal: 1.42s\tremaining: 586ms\n",
      "707:\tlearn: 0.0618689\ttotal: 1.42s\tremaining: 584ms\n",
      "708:\tlearn: 0.0617168\ttotal: 1.42s\tremaining: 582ms\n",
      "709:\tlearn: 0.0616947\ttotal: 1.42s\tremaining: 580ms\n",
      "710:\tlearn: 0.0615827\ttotal: 1.42s\tremaining: 578ms\n",
      "711:\tlearn: 0.0613473\ttotal: 1.42s\tremaining: 576ms\n",
      "712:\tlearn: 0.0612324\ttotal: 1.43s\tremaining: 575ms\n",
      "713:\tlearn: 0.0611466\ttotal: 1.43s\tremaining: 573ms\n",
      "714:\tlearn: 0.0611373\ttotal: 1.43s\tremaining: 571ms\n",
      "715:\tlearn: 0.0610467\ttotal: 1.43s\tremaining: 569ms\n",
      "716:\tlearn: 0.0609082\ttotal: 1.44s\tremaining: 567ms\n",
      "717:\tlearn: 0.0607974\ttotal: 1.44s\tremaining: 565ms\n",
      "718:\tlearn: 0.0607058\ttotal: 1.44s\tremaining: 563ms\n",
      "719:\tlearn: 0.0606027\ttotal: 1.44s\tremaining: 561ms\n",
      "720:\tlearn: 0.0604749\ttotal: 1.44s\tremaining: 559ms\n",
      "721:\tlearn: 0.0604130\ttotal: 1.45s\tremaining: 557ms\n",
      "722:\tlearn: 0.0603923\ttotal: 1.45s\tremaining: 555ms\n",
      "723:\tlearn: 0.0602733\ttotal: 1.45s\tremaining: 553ms\n",
      "724:\tlearn: 0.0601514\ttotal: 1.45s\tremaining: 551ms\n",
      "725:\tlearn: 0.0600466\ttotal: 1.45s\tremaining: 549ms\n",
      "726:\tlearn: 0.0600157\ttotal: 1.46s\tremaining: 547ms\n",
      "727:\tlearn: 0.0598891\ttotal: 1.46s\tremaining: 545ms\n",
      "728:\tlearn: 0.0598741\ttotal: 1.46s\tremaining: 543ms\n",
      "729:\tlearn: 0.0598569\ttotal: 1.46s\tremaining: 541ms\n",
      "730:\tlearn: 0.0598172\ttotal: 1.46s\tremaining: 538ms\n",
      "731:\tlearn: 0.0597298\ttotal: 1.47s\tremaining: 536ms\n",
      "732:\tlearn: 0.0595870\ttotal: 1.47s\tremaining: 534ms\n",
      "733:\tlearn: 0.0595048\ttotal: 1.47s\tremaining: 532ms\n",
      "734:\tlearn: 0.0592872\ttotal: 1.47s\tremaining: 530ms\n",
      "735:\tlearn: 0.0591837\ttotal: 1.47s\tremaining: 528ms\n",
      "736:\tlearn: 0.0590546\ttotal: 1.48s\tremaining: 526ms\n",
      "737:\tlearn: 0.0589491\ttotal: 1.48s\tremaining: 525ms\n",
      "738:\tlearn: 0.0588146\ttotal: 1.48s\tremaining: 523ms\n",
      "739:\tlearn: 0.0585610\ttotal: 1.48s\tremaining: 521ms\n",
      "740:\tlearn: 0.0585568\ttotal: 1.49s\tremaining: 520ms\n",
      "741:\tlearn: 0.0585161\ttotal: 1.49s\tremaining: 518ms\n",
      "742:\tlearn: 0.0583807\ttotal: 1.49s\tremaining: 516ms\n",
      "743:\tlearn: 0.0582066\ttotal: 1.49s\tremaining: 514ms\n",
      "744:\tlearn: 0.0581358\ttotal: 1.5s\tremaining: 512ms\n",
      "745:\tlearn: 0.0579911\ttotal: 1.5s\tremaining: 510ms\n",
      "746:\tlearn: 0.0577901\ttotal: 1.5s\tremaining: 508ms\n",
      "747:\tlearn: 0.0576524\ttotal: 1.5s\tremaining: 506ms\n",
      "748:\tlearn: 0.0574708\ttotal: 1.5s\tremaining: 504ms\n",
      "749:\tlearn: 0.0573644\ttotal: 1.51s\tremaining: 502ms\n",
      "750:\tlearn: 0.0573114\ttotal: 1.51s\tremaining: 500ms\n",
      "751:\tlearn: 0.0572462\ttotal: 1.51s\tremaining: 498ms\n",
      "752:\tlearn: 0.0570950\ttotal: 1.51s\tremaining: 496ms\n",
      "753:\tlearn: 0.0569326\ttotal: 1.51s\tremaining: 494ms\n",
      "754:\tlearn: 0.0569061\ttotal: 1.52s\tremaining: 492ms\n",
      "755:\tlearn: 0.0568831\ttotal: 1.52s\tremaining: 491ms\n",
      "756:\tlearn: 0.0567924\ttotal: 1.52s\tremaining: 489ms\n",
      "757:\tlearn: 0.0567881\ttotal: 1.52s\tremaining: 487ms\n",
      "758:\tlearn: 0.0566446\ttotal: 1.53s\tremaining: 485ms\n",
      "759:\tlearn: 0.0566260\ttotal: 1.53s\tremaining: 484ms\n",
      "760:\tlearn: 0.0565460\ttotal: 1.53s\tremaining: 482ms\n",
      "761:\tlearn: 0.0564887\ttotal: 1.53s\tremaining: 480ms\n",
      "762:\tlearn: 0.0563650\ttotal: 1.54s\tremaining: 478ms\n",
      "763:\tlearn: 0.0562729\ttotal: 1.54s\tremaining: 476ms\n",
      "764:\tlearn: 0.0561072\ttotal: 1.54s\tremaining: 474ms\n",
      "765:\tlearn: 0.0560393\ttotal: 1.54s\tremaining: 472ms\n",
      "766:\tlearn: 0.0560321\ttotal: 1.55s\tremaining: 470ms\n",
      "767:\tlearn: 0.0559873\ttotal: 1.55s\tremaining: 468ms\n",
      "768:\tlearn: 0.0558450\ttotal: 1.55s\tremaining: 467ms\n",
      "769:\tlearn: 0.0557679\ttotal: 1.56s\tremaining: 465ms\n",
      "770:\tlearn: 0.0556968\ttotal: 1.56s\tremaining: 463ms\n",
      "771:\tlearn: 0.0556808\ttotal: 1.56s\tremaining: 461ms\n",
      "772:\tlearn: 0.0556251\ttotal: 1.56s\tremaining: 459ms\n",
      "773:\tlearn: 0.0555223\ttotal: 1.57s\tremaining: 457ms\n",
      "774:\tlearn: 0.0554217\ttotal: 1.57s\tremaining: 455ms\n",
      "775:\tlearn: 0.0553067\ttotal: 1.57s\tremaining: 454ms\n",
      "776:\tlearn: 0.0551539\ttotal: 1.57s\tremaining: 452ms\n",
      "777:\tlearn: 0.0550097\ttotal: 1.58s\tremaining: 450ms\n",
      "778:\tlearn: 0.0549077\ttotal: 1.58s\tremaining: 448ms\n",
      "779:\tlearn: 0.0548303\ttotal: 1.58s\tremaining: 446ms\n",
      "780:\tlearn: 0.0546730\ttotal: 1.58s\tremaining: 444ms\n",
      "781:\tlearn: 0.0546315\ttotal: 1.58s\tremaining: 442ms\n",
      "782:\tlearn: 0.0545020\ttotal: 1.59s\tremaining: 440ms\n",
      "783:\tlearn: 0.0544964\ttotal: 1.59s\tremaining: 438ms\n",
      "784:\tlearn: 0.0543972\ttotal: 1.59s\tremaining: 436ms\n",
      "785:\tlearn: 0.0542770\ttotal: 1.59s\tremaining: 434ms\n",
      "786:\tlearn: 0.0542729\ttotal: 1.6s\tremaining: 432ms\n",
      "787:\tlearn: 0.0541759\ttotal: 1.6s\tremaining: 430ms\n",
      "788:\tlearn: 0.0540832\ttotal: 1.6s\tremaining: 428ms\n",
      "789:\tlearn: 0.0540267\ttotal: 1.6s\tremaining: 426ms\n",
      "790:\tlearn: 0.0539813\ttotal: 1.61s\tremaining: 424ms\n",
      "791:\tlearn: 0.0538568\ttotal: 1.61s\tremaining: 422ms\n",
      "792:\tlearn: 0.0537630\ttotal: 1.61s\tremaining: 420ms\n",
      "793:\tlearn: 0.0536690\ttotal: 1.61s\tremaining: 419ms\n",
      "794:\tlearn: 0.0536244\ttotal: 1.61s\tremaining: 416ms\n",
      "795:\tlearn: 0.0535235\ttotal: 1.62s\tremaining: 414ms\n",
      "796:\tlearn: 0.0535196\ttotal: 1.62s\tremaining: 412ms\n",
      "797:\tlearn: 0.0534248\ttotal: 1.62s\tremaining: 410ms\n",
      "798:\tlearn: 0.0533350\ttotal: 1.62s\tremaining: 408ms\n",
      "799:\tlearn: 0.0532438\ttotal: 1.62s\tremaining: 406ms\n",
      "800:\tlearn: 0.0532404\ttotal: 1.63s\tremaining: 404ms\n",
      "801:\tlearn: 0.0530749\ttotal: 1.63s\tremaining: 402ms\n",
      "802:\tlearn: 0.0530228\ttotal: 1.63s\tremaining: 400ms\n",
      "803:\tlearn: 0.0530196\ttotal: 1.63s\tremaining: 398ms\n",
      "804:\tlearn: 0.0528013\ttotal: 1.64s\tremaining: 396ms\n",
      "805:\tlearn: 0.0527881\ttotal: 1.64s\tremaining: 394ms\n",
      "806:\tlearn: 0.0527850\ttotal: 1.64s\tremaining: 392ms\n",
      "807:\tlearn: 0.0526483\ttotal: 1.64s\tremaining: 390ms\n",
      "808:\tlearn: 0.0525578\ttotal: 1.64s\tremaining: 388ms\n",
      "809:\tlearn: 0.0524947\ttotal: 1.65s\tremaining: 386ms\n",
      "810:\tlearn: 0.0524532\ttotal: 1.65s\tremaining: 384ms\n",
      "811:\tlearn: 0.0522911\ttotal: 1.65s\tremaining: 382ms\n",
      "812:\tlearn: 0.0522870\ttotal: 1.65s\tremaining: 380ms\n",
      "813:\tlearn: 0.0522306\ttotal: 1.65s\tremaining: 378ms\n",
      "814:\tlearn: 0.0521874\ttotal: 1.65s\tremaining: 376ms\n",
      "815:\tlearn: 0.0521436\ttotal: 1.66s\tremaining: 373ms\n",
      "816:\tlearn: 0.0520652\ttotal: 1.66s\tremaining: 371ms\n",
      "817:\tlearn: 0.0519131\ttotal: 1.66s\tremaining: 369ms\n",
      "818:\tlearn: 0.0518770\ttotal: 1.66s\tremaining: 367ms\n",
      "819:\tlearn: 0.0518042\ttotal: 1.66s\tremaining: 365ms\n",
      "820:\tlearn: 0.0518008\ttotal: 1.66s\tremaining: 363ms\n",
      "821:\tlearn: 0.0517970\ttotal: 1.67s\tremaining: 361ms\n",
      "822:\tlearn: 0.0517152\ttotal: 1.67s\tremaining: 359ms\n",
      "823:\tlearn: 0.0517036\ttotal: 1.67s\tremaining: 357ms\n",
      "824:\tlearn: 0.0516570\ttotal: 1.67s\tremaining: 355ms\n",
      "825:\tlearn: 0.0516333\ttotal: 1.67s\tremaining: 353ms\n",
      "826:\tlearn: 0.0515488\ttotal: 1.68s\tremaining: 351ms\n",
      "827:\tlearn: 0.0515440\ttotal: 1.68s\tremaining: 349ms\n",
      "828:\tlearn: 0.0515403\ttotal: 1.68s\tremaining: 347ms\n",
      "829:\tlearn: 0.0513882\ttotal: 1.68s\tremaining: 344ms\n",
      "830:\tlearn: 0.0513498\ttotal: 1.68s\tremaining: 342ms\n",
      "831:\tlearn: 0.0511983\ttotal: 1.69s\tremaining: 340ms\n",
      "832:\tlearn: 0.0511241\ttotal: 1.69s\tremaining: 338ms\n",
      "833:\tlearn: 0.0510083\ttotal: 1.69s\tremaining: 336ms\n",
      "834:\tlearn: 0.0509134\ttotal: 1.69s\tremaining: 334ms\n",
      "835:\tlearn: 0.0507940\ttotal: 1.69s\tremaining: 332ms\n",
      "836:\tlearn: 0.0507898\ttotal: 1.7s\tremaining: 330ms\n",
      "837:\tlearn: 0.0506469\ttotal: 1.7s\tremaining: 328ms\n",
      "838:\tlearn: 0.0505506\ttotal: 1.7s\tremaining: 326ms\n",
      "839:\tlearn: 0.0504642\ttotal: 1.7s\tremaining: 324ms\n",
      "840:\tlearn: 0.0503920\ttotal: 1.7s\tremaining: 322ms\n",
      "841:\tlearn: 0.0503882\ttotal: 1.71s\tremaining: 321ms\n",
      "842:\tlearn: 0.0503836\ttotal: 1.71s\tremaining: 319ms\n",
      "843:\tlearn: 0.0503157\ttotal: 1.71s\tremaining: 317ms\n",
      "844:\tlearn: 0.0503091\ttotal: 1.71s\tremaining: 314ms\n",
      "845:\tlearn: 0.0503061\ttotal: 1.72s\tremaining: 312ms\n",
      "846:\tlearn: 0.0503035\ttotal: 1.72s\tremaining: 310ms\n",
      "847:\tlearn: 0.0503002\ttotal: 1.72s\tremaining: 308ms\n",
      "848:\tlearn: 0.0502971\ttotal: 1.72s\tremaining: 306ms\n",
      "849:\tlearn: 0.0502952\ttotal: 1.72s\tremaining: 304ms\n",
      "850:\tlearn: 0.0500990\ttotal: 1.73s\tremaining: 302ms\n",
      "851:\tlearn: 0.0500050\ttotal: 1.73s\tremaining: 300ms\n",
      "852:\tlearn: 0.0500018\ttotal: 1.73s\tremaining: 298ms\n",
      "853:\tlearn: 0.0498379\ttotal: 1.73s\tremaining: 296ms\n",
      "854:\tlearn: 0.0498311\ttotal: 1.73s\tremaining: 294ms\n",
      "855:\tlearn: 0.0497584\ttotal: 1.73s\tremaining: 292ms\n",
      "856:\tlearn: 0.0497517\ttotal: 1.74s\tremaining: 290ms\n",
      "857:\tlearn: 0.0496955\ttotal: 1.74s\tremaining: 288ms\n",
      "858:\tlearn: 0.0496399\ttotal: 1.74s\tremaining: 286ms\n",
      "859:\tlearn: 0.0495999\ttotal: 1.74s\tremaining: 284ms\n",
      "860:\tlearn: 0.0495510\ttotal: 1.74s\tremaining: 282ms\n",
      "861:\tlearn: 0.0495471\ttotal: 1.75s\tremaining: 280ms\n",
      "862:\tlearn: 0.0494645\ttotal: 1.75s\tremaining: 277ms\n",
      "863:\tlearn: 0.0493865\ttotal: 1.75s\tremaining: 275ms\n",
      "864:\tlearn: 0.0492354\ttotal: 1.75s\tremaining: 273ms\n",
      "865:\tlearn: 0.0491189\ttotal: 1.75s\tremaining: 271ms\n",
      "866:\tlearn: 0.0490481\ttotal: 1.75s\tremaining: 269ms\n",
      "867:\tlearn: 0.0490450\ttotal: 1.76s\tremaining: 267ms\n",
      "868:\tlearn: 0.0489556\ttotal: 1.76s\tremaining: 265ms\n",
      "869:\tlearn: 0.0489530\ttotal: 1.76s\tremaining: 263ms\n",
      "870:\tlearn: 0.0489502\ttotal: 1.76s\tremaining: 261ms\n",
      "871:\tlearn: 0.0489304\ttotal: 1.76s\tremaining: 259ms\n",
      "872:\tlearn: 0.0487531\ttotal: 1.77s\tremaining: 257ms\n",
      "873:\tlearn: 0.0486856\ttotal: 1.77s\tremaining: 255ms\n",
      "874:\tlearn: 0.0485564\ttotal: 1.77s\tremaining: 253ms\n",
      "875:\tlearn: 0.0484807\ttotal: 1.77s\tremaining: 251ms\n",
      "876:\tlearn: 0.0484771\ttotal: 1.77s\tremaining: 249ms\n",
      "877:\tlearn: 0.0483457\ttotal: 1.78s\tremaining: 247ms\n",
      "878:\tlearn: 0.0483132\ttotal: 1.78s\tremaining: 245ms\n",
      "879:\tlearn: 0.0482467\ttotal: 1.78s\tremaining: 243ms\n",
      "880:\tlearn: 0.0481502\ttotal: 1.78s\tremaining: 241ms\n",
      "881:\tlearn: 0.0481480\ttotal: 1.78s\tremaining: 239ms\n",
      "882:\tlearn: 0.0480272\ttotal: 1.79s\tremaining: 237ms\n",
      "883:\tlearn: 0.0479061\ttotal: 1.79s\tremaining: 235ms\n",
      "884:\tlearn: 0.0478257\ttotal: 1.79s\tremaining: 233ms\n",
      "885:\tlearn: 0.0478234\ttotal: 1.79s\tremaining: 231ms\n",
      "886:\tlearn: 0.0477936\ttotal: 1.79s\tremaining: 229ms\n",
      "887:\tlearn: 0.0477245\ttotal: 1.8s\tremaining: 227ms\n",
      "888:\tlearn: 0.0476023\ttotal: 1.8s\tremaining: 225ms\n",
      "889:\tlearn: 0.0475716\ttotal: 1.8s\tremaining: 222ms\n",
      "890:\tlearn: 0.0475688\ttotal: 1.8s\tremaining: 220ms\n",
      "891:\tlearn: 0.0475086\ttotal: 1.8s\tremaining: 218ms\n",
      "892:\tlearn: 0.0475068\ttotal: 1.8s\tremaining: 216ms\n",
      "893:\tlearn: 0.0474301\ttotal: 1.81s\tremaining: 214ms\n",
      "894:\tlearn: 0.0472891\ttotal: 1.81s\tremaining: 212ms\n",
      "895:\tlearn: 0.0472096\ttotal: 1.81s\tremaining: 210ms\n",
      "896:\tlearn: 0.0471464\ttotal: 1.81s\tremaining: 208ms\n",
      "897:\tlearn: 0.0471366\ttotal: 1.81s\tremaining: 206ms\n",
      "898:\tlearn: 0.0470971\ttotal: 1.82s\tremaining: 204ms\n",
      "899:\tlearn: 0.0470310\ttotal: 1.82s\tremaining: 202ms\n",
      "900:\tlearn: 0.0469059\ttotal: 1.82s\tremaining: 200ms\n",
      "901:\tlearn: 0.0468529\ttotal: 1.82s\tremaining: 198ms\n",
      "902:\tlearn: 0.0467942\ttotal: 1.82s\tremaining: 196ms\n",
      "903:\tlearn: 0.0467367\ttotal: 1.83s\tremaining: 194ms\n",
      "904:\tlearn: 0.0466174\ttotal: 1.83s\tremaining: 192ms\n",
      "905:\tlearn: 0.0465346\ttotal: 1.83s\tremaining: 190ms\n",
      "906:\tlearn: 0.0465111\ttotal: 1.83s\tremaining: 188ms\n",
      "907:\tlearn: 0.0463846\ttotal: 1.83s\tremaining: 186ms\n",
      "908:\tlearn: 0.0462575\ttotal: 1.84s\tremaining: 184ms\n",
      "909:\tlearn: 0.0462547\ttotal: 1.84s\tremaining: 182ms\n",
      "910:\tlearn: 0.0461821\ttotal: 1.84s\tremaining: 180ms\n",
      "911:\tlearn: 0.0460471\ttotal: 1.84s\tremaining: 178ms\n",
      "912:\tlearn: 0.0460444\ttotal: 1.84s\tremaining: 176ms\n",
      "913:\tlearn: 0.0459958\ttotal: 1.85s\tremaining: 174ms\n",
      "914:\tlearn: 0.0459617\ttotal: 1.85s\tremaining: 172ms\n",
      "915:\tlearn: 0.0459155\ttotal: 1.85s\tremaining: 170ms\n",
      "916:\tlearn: 0.0458328\ttotal: 1.85s\tremaining: 168ms\n",
      "917:\tlearn: 0.0458031\ttotal: 1.85s\tremaining: 166ms\n",
      "918:\tlearn: 0.0457712\ttotal: 1.86s\tremaining: 164ms\n",
      "919:\tlearn: 0.0456530\ttotal: 1.86s\tremaining: 162ms\n",
      "920:\tlearn: 0.0455428\ttotal: 1.86s\tremaining: 160ms\n",
      "921:\tlearn: 0.0455168\ttotal: 1.86s\tremaining: 157ms\n",
      "922:\tlearn: 0.0454480\ttotal: 1.86s\tremaining: 155ms\n",
      "923:\tlearn: 0.0453062\ttotal: 1.86s\tremaining: 153ms\n",
      "924:\tlearn: 0.0452989\ttotal: 1.87s\tremaining: 151ms\n",
      "925:\tlearn: 0.0452129\ttotal: 1.87s\tremaining: 149ms\n",
      "926:\tlearn: 0.0450892\ttotal: 1.87s\tremaining: 147ms\n",
      "927:\tlearn: 0.0450822\ttotal: 1.87s\tremaining: 145ms\n",
      "928:\tlearn: 0.0450478\ttotal: 1.87s\tremaining: 143ms\n",
      "929:\tlearn: 0.0449865\ttotal: 1.88s\tremaining: 141ms\n",
      "930:\tlearn: 0.0449440\ttotal: 1.88s\tremaining: 139ms\n",
      "931:\tlearn: 0.0449296\ttotal: 1.88s\tremaining: 137ms\n",
      "932:\tlearn: 0.0448495\ttotal: 1.88s\tremaining: 135ms\n",
      "933:\tlearn: 0.0448083\ttotal: 1.88s\tremaining: 133ms\n",
      "934:\tlearn: 0.0447730\ttotal: 1.89s\tremaining: 131ms\n",
      "935:\tlearn: 0.0446576\ttotal: 1.89s\tremaining: 129ms\n",
      "936:\tlearn: 0.0445494\ttotal: 1.89s\tremaining: 127ms\n",
      "937:\tlearn: 0.0443871\ttotal: 1.89s\tremaining: 125ms\n",
      "938:\tlearn: 0.0443642\ttotal: 1.89s\tremaining: 123ms\n",
      "939:\tlearn: 0.0443061\ttotal: 1.9s\tremaining: 121ms\n",
      "940:\tlearn: 0.0442368\ttotal: 1.9s\tremaining: 119ms\n",
      "941:\tlearn: 0.0441543\ttotal: 1.9s\tremaining: 117ms\n",
      "942:\tlearn: 0.0441186\ttotal: 1.9s\tremaining: 115ms\n",
      "943:\tlearn: 0.0440164\ttotal: 1.91s\tremaining: 113ms\n",
      "944:\tlearn: 0.0439416\ttotal: 1.91s\tremaining: 111ms\n",
      "945:\tlearn: 0.0439184\ttotal: 1.91s\tremaining: 109ms\n",
      "946:\tlearn: 0.0438489\ttotal: 1.91s\tremaining: 107ms\n",
      "947:\tlearn: 0.0437907\ttotal: 1.91s\tremaining: 105ms\n",
      "948:\tlearn: 0.0436917\ttotal: 1.92s\tremaining: 103ms\n",
      "949:\tlearn: 0.0436383\ttotal: 1.92s\tremaining: 101ms\n",
      "950:\tlearn: 0.0436348\ttotal: 1.92s\tremaining: 98.9ms\n",
      "951:\tlearn: 0.0435902\ttotal: 1.92s\tremaining: 96.9ms\n",
      "952:\tlearn: 0.0435771\ttotal: 1.92s\tremaining: 94.8ms\n",
      "953:\tlearn: 0.0435403\ttotal: 1.92s\tremaining: 92.8ms\n",
      "954:\tlearn: 0.0435041\ttotal: 1.93s\tremaining: 90.8ms\n",
      "955:\tlearn: 0.0434067\ttotal: 1.93s\tremaining: 88.8ms\n",
      "956:\tlearn: 0.0433489\ttotal: 1.93s\tremaining: 86.7ms\n",
      "957:\tlearn: 0.0432839\ttotal: 1.93s\tremaining: 84.7ms\n",
      "958:\tlearn: 0.0432465\ttotal: 1.93s\tremaining: 82.7ms\n",
      "959:\tlearn: 0.0431761\ttotal: 1.94s\tremaining: 80.7ms\n",
      "960:\tlearn: 0.0430916\ttotal: 1.94s\tremaining: 78.6ms\n",
      "961:\tlearn: 0.0430763\ttotal: 1.94s\tremaining: 76.6ms\n",
      "962:\tlearn: 0.0430409\ttotal: 1.94s\tremaining: 74.6ms\n",
      "963:\tlearn: 0.0430369\ttotal: 1.94s\tremaining: 72.6ms\n",
      "964:\tlearn: 0.0429734\ttotal: 1.94s\tremaining: 70.5ms\n",
      "965:\tlearn: 0.0429248\ttotal: 1.95s\tremaining: 68.5ms\n",
      "966:\tlearn: 0.0429214\ttotal: 1.95s\tremaining: 66.5ms\n",
      "967:\tlearn: 0.0429006\ttotal: 1.95s\tremaining: 64.5ms\n",
      "968:\tlearn: 0.0428887\ttotal: 1.95s\tremaining: 62.5ms\n",
      "969:\tlearn: 0.0428240\ttotal: 1.95s\tremaining: 60.4ms\n",
      "970:\tlearn: 0.0428202\ttotal: 1.96s\tremaining: 58.4ms\n",
      "971:\tlearn: 0.0427323\ttotal: 1.96s\tremaining: 56.4ms\n",
      "972:\tlearn: 0.0427205\ttotal: 1.96s\tremaining: 54.4ms\n",
      "973:\tlearn: 0.0426635\ttotal: 1.96s\tremaining: 52.4ms\n",
      "974:\tlearn: 0.0426615\ttotal: 1.96s\tremaining: 50.3ms\n",
      "975:\tlearn: 0.0426596\ttotal: 1.96s\tremaining: 48.3ms\n",
      "976:\tlearn: 0.0426146\ttotal: 1.97s\tremaining: 46.3ms\n",
      "977:\tlearn: 0.0426125\ttotal: 1.97s\tremaining: 44.3ms\n",
      "978:\tlearn: 0.0425464\ttotal: 1.97s\tremaining: 42.3ms\n",
      "979:\tlearn: 0.0424586\ttotal: 1.97s\tremaining: 40.3ms\n",
      "980:\tlearn: 0.0423776\ttotal: 1.98s\tremaining: 38.3ms\n",
      "981:\tlearn: 0.0423395\ttotal: 1.98s\tremaining: 36.2ms\n",
      "982:\tlearn: 0.0423371\ttotal: 1.98s\tremaining: 34.2ms\n",
      "983:\tlearn: 0.0421861\ttotal: 1.98s\tremaining: 32.2ms\n",
      "984:\tlearn: 0.0420788\ttotal: 1.98s\tremaining: 30.2ms\n",
      "985:\tlearn: 0.0419469\ttotal: 1.99s\tremaining: 28.2ms\n",
      "986:\tlearn: 0.0419210\ttotal: 1.99s\tremaining: 26.2ms\n",
      "987:\tlearn: 0.0418987\ttotal: 1.99s\tremaining: 24.2ms\n",
      "988:\tlearn: 0.0418554\ttotal: 1.99s\tremaining: 22.1ms\n",
      "989:\tlearn: 0.0417805\ttotal: 1.99s\tremaining: 20.1ms\n",
      "990:\tlearn: 0.0416686\ttotal: 2s\tremaining: 18.1ms\n",
      "991:\tlearn: 0.0416251\ttotal: 2s\tremaining: 16.1ms\n",
      "992:\tlearn: 0.0415669\ttotal: 2s\tremaining: 14.1ms\n",
      "993:\tlearn: 0.0415035\ttotal: 2s\tremaining: 12.1ms\n",
      "994:\tlearn: 0.0414205\ttotal: 2s\tremaining: 10.1ms\n",
      "995:\tlearn: 0.0413860\ttotal: 2s\tremaining: 8.05ms\n",
      "996:\tlearn: 0.0413362\ttotal: 2.01s\tremaining: 6.04ms\n",
      "997:\tlearn: 0.0412624\ttotal: 2.01s\tremaining: 4.03ms\n",
      "998:\tlearn: 0.0412315\ttotal: 2.01s\tremaining: 2.01ms\n",
      "999:\tlearn: 0.0411266\ttotal: 2.01s\tremaining: 0us\n",
      "Confusion Matrix:\n",
      " [[379   5]\n",
      " [ 39  18]]\n",
      "\n",
      "\n",
      "Accuracy Score:\n",
      " 0.9002267573696145\n",
      "\n",
      "\n",
      "Classification Report: \n",
      "               precision    recall  f1-score   support\n",
      "\n",
      "           0       0.91      0.99      0.95       384\n",
      "           1       0.78      0.32      0.45        57\n",
      "\n",
      "    accuracy                           0.90       441\n",
      "   macro avg       0.84      0.65      0.70       441\n",
      "weighted avg       0.89      0.90      0.88       441\n",
      "\n"
     ]
    }
   ],
   "source": [
    "best_cat.fit(X_train, y_train)\n",
    "\n",
    "train_pred_cat = best_cat.predict(X_train)\n",
    "\n",
    "test_pred_cat = best_cat.predict(X_test)\n",
    "\n",
    "metrics(y_test,test_pred_cat)"
   ]
  },
  {
   "cell_type": "markdown",
   "id": "australian-stylus",
   "metadata": {
    "papermill": {
     "duration": 0.212867,
     "end_time": "2021-05-05T08:38:51.355058",
     "exception": false,
     "start_time": "2021-05-05T08:38:51.142191",
     "status": "completed"
    },
    "tags": []
   },
   "source": [
    "### SVM"
   ]
  },
  {
   "cell_type": "code",
   "execution_count": 144,
   "id": "ultimate-talent",
   "metadata": {
    "execution": {
     "iopub.execute_input": "2021-05-05T08:38:51.794447Z",
     "iopub.status.busy": "2021-05-05T08:38:51.793809Z",
     "iopub.status.idle": "2021-05-05T08:38:51.798758Z",
     "shell.execute_reply": "2021-05-05T08:38:51.798175Z"
    },
    "papermill": {
     "duration": 0.225044,
     "end_time": "2021-05-05T08:38:51.798905",
     "exception": false,
     "start_time": "2021-05-05T08:38:51.573861",
     "status": "completed"
    },
    "tags": []
   },
   "outputs": [],
   "source": [
    "svm = SVC()"
   ]
  },
  {
   "cell_type": "code",
   "execution_count": 145,
   "id": "convertible-healing",
   "metadata": {
    "execution": {
     "iopub.execute_input": "2021-05-05T08:38:52.254949Z",
     "iopub.status.busy": "2021-05-05T08:38:52.254220Z",
     "iopub.status.idle": "2021-05-05T08:38:52.392903Z",
     "shell.execute_reply": "2021-05-05T08:38:52.392205Z"
    },
    "papermill": {
     "duration": 0.369717,
     "end_time": "2021-05-05T08:38:52.393052",
     "exception": false,
     "start_time": "2021-05-05T08:38:52.023335",
     "status": "completed"
    },
    "tags": []
   },
   "outputs": [
    {
     "name": "stdout",
     "output_type": "stream",
     "text": [
      "Confusion Matrix:\n",
      " [[382   2]\n",
      " [ 42  15]]\n",
      "\n",
      "\n",
      "Accuracy Score:\n",
      " 0.9002267573696145\n",
      "\n",
      "\n",
      "Classification Report: \n",
      "               precision    recall  f1-score   support\n",
      "\n",
      "           0       0.90      0.99      0.95       384\n",
      "           1       0.88      0.26      0.41        57\n",
      "\n",
      "    accuracy                           0.90       441\n",
      "   macro avg       0.89      0.63      0.68       441\n",
      "weighted avg       0.90      0.90      0.88       441\n",
      "\n"
     ]
    }
   ],
   "source": [
    "svm.fit(X_train, y_train)\n",
    "\n",
    "train_pred_svm = svm.predict(X_train)\n",
    "\n",
    "test_pred_svm = svm.predict(X_test)\n",
    "\n",
    "metrics(y_test,test_pred_svm)"
   ]
  },
  {
   "cell_type": "code",
   "execution_count": 146,
   "id": "compact-latvia",
   "metadata": {
    "execution": {
     "iopub.execute_input": "2021-05-05T08:38:52.831532Z",
     "iopub.status.busy": "2021-05-05T08:38:52.830574Z",
     "iopub.status.idle": "2021-05-05T08:38:52.834080Z",
     "shell.execute_reply": "2021-05-05T08:38:52.834584Z"
    },
    "papermill": {
     "duration": 0.227859,
     "end_time": "2021-05-05T08:38:52.834797",
     "exception": false,
     "start_time": "2021-05-05T08:38:52.606938",
     "status": "completed"
    },
    "tags": []
   },
   "outputs": [],
   "source": [
    "c = [1, 0.25, 0.5, 0.75]\n",
    "kernels = ['linear', 'rbf']\n",
    "gammas = ['auto', 0.01, 0.001, 1]"
   ]
  },
  {
   "cell_type": "code",
   "execution_count": 147,
   "id": "young-contributor",
   "metadata": {
    "execution": {
     "iopub.execute_input": "2021-05-05T08:38:53.265915Z",
     "iopub.status.busy": "2021-05-05T08:38:53.265166Z",
     "iopub.status.idle": "2021-05-05T08:38:53.268365Z",
     "shell.execute_reply": "2021-05-05T08:38:53.267674Z"
    },
    "papermill": {
     "duration": 0.21893,
     "end_time": "2021-05-05T08:38:53.268513",
     "exception": false,
     "start_time": "2021-05-05T08:38:53.049583",
     "status": "completed"
    },
    "tags": []
   },
   "outputs": [],
   "source": [
    "grid_svm = GridSearchCV(estimator=svm, param_grid=dict(kernel=kernels, C=c, gamma = gammas), cv=3, verbose=3, n_jobs=-1)"
   ]
  },
  {
   "cell_type": "code",
   "execution_count": 148,
   "id": "compact-robertson",
   "metadata": {
    "execution": {
     "iopub.execute_input": "2021-05-05T08:38:53.705988Z",
     "iopub.status.busy": "2021-05-05T08:38:53.705134Z",
     "iopub.status.idle": "2021-05-05T08:38:56.007824Z",
     "shell.execute_reply": "2021-05-05T08:38:56.008281Z"
    },
    "papermill": {
     "duration": 2.523708,
     "end_time": "2021-05-05T08:38:56.008477",
     "exception": false,
     "start_time": "2021-05-05T08:38:53.484769",
     "status": "completed"
    },
    "tags": []
   },
   "outputs": [
    {
     "name": "stdout",
     "output_type": "stream",
     "text": [
      "Fitting 3 folds for each of 32 candidates, totalling 96 fits\n"
     ]
    },
    {
     "data": {
      "text/plain": [
       "GridSearchCV(cv=3, estimator=SVC(), n_jobs=-1,\n",
       "             param_grid={'C': [1, 0.25, 0.5, 0.75],\n",
       "                         'gamma': ['auto', 0.01, 0.001, 1],\n",
       "                         'kernel': ['linear', 'rbf']},\n",
       "             verbose=3)"
      ]
     },
     "execution_count": 148,
     "metadata": {},
     "output_type": "execute_result"
    }
   ],
   "source": [
    "grid_svm.fit(X_train, y_train)"
   ]
  },
  {
   "cell_type": "code",
   "execution_count": 149,
   "id": "precious-content",
   "metadata": {
    "execution": {
     "iopub.execute_input": "2021-05-05T08:38:56.444525Z",
     "iopub.status.busy": "2021-05-05T08:38:56.443558Z",
     "iopub.status.idle": "2021-05-05T08:38:56.450448Z",
     "shell.execute_reply": "2021-05-05T08:38:56.449634Z"
    },
    "papermill": {
     "duration": 0.228089,
     "end_time": "2021-05-05T08:38:56.450600",
     "exception": false,
     "start_time": "2021-05-05T08:38:56.222511",
     "status": "completed"
    },
    "tags": []
   },
   "outputs": [
    {
     "data": {
      "text/plain": [
       "0.8620019436345968"
      ]
     },
     "execution_count": 149,
     "metadata": {},
     "output_type": "execute_result"
    }
   ],
   "source": [
    "grid_svm.best_score_"
   ]
  },
  {
   "cell_type": "code",
   "execution_count": 150,
   "id": "interior-confidence",
   "metadata": {
    "execution": {
     "iopub.execute_input": "2021-05-05T08:38:56.914176Z",
     "iopub.status.busy": "2021-05-05T08:38:56.913187Z",
     "iopub.status.idle": "2021-05-05T08:38:56.932762Z",
     "shell.execute_reply": "2021-05-05T08:38:56.932053Z"
    },
    "papermill": {
     "duration": 0.269793,
     "end_time": "2021-05-05T08:38:56.932911",
     "exception": false,
     "start_time": "2021-05-05T08:38:56.663118",
     "status": "completed"
    },
    "tags": []
   },
   "outputs": [
    {
     "name": "stdout",
     "output_type": "stream",
     "text": [
      "Confusion Matrix:\n",
      " [[372  12]\n",
      " [ 30  27]]\n",
      "\n",
      "\n",
      "Accuracy Score:\n",
      " 0.9047619047619048\n",
      "\n",
      "\n",
      "Classification Report: \n",
      "               precision    recall  f1-score   support\n",
      "\n",
      "           0       0.93      0.97      0.95       384\n",
      "           1       0.69      0.47      0.56        57\n",
      "\n",
      "    accuracy                           0.90       441\n",
      "   macro avg       0.81      0.72      0.75       441\n",
      "weighted avg       0.90      0.90      0.90       441\n",
      "\n"
     ]
    }
   ],
   "source": [
    "test_pred_grid = grid_svm.predict(X_test)\n",
    "\n",
    "metrics(y_test,test_pred_grid)"
   ]
  },
  {
   "cell_type": "code",
   "execution_count": null,
   "id": "funny-patrol",
   "metadata": {
    "papermill": {
     "duration": 0.217074,
     "end_time": "2021-05-05T08:38:57.375818",
     "exception": false,
     "start_time": "2021-05-05T08:38:57.158744",
     "status": "completed"
    },
    "tags": []
   },
   "outputs": [],
   "source": []
  }
 ],
 "metadata": {
  "kernelspec": {
   "display_name": "Python 3",
   "language": "python",
   "name": "python3"
  },
  "language_info": {
   "codemirror_mode": {
    "name": "ipython",
    "version": 3
   },
   "file_extension": ".py",
   "mimetype": "text/x-python",
   "name": "python",
   "nbconvert_exporter": "python",
   "pygments_lexer": "ipython3",
   "version": "3.7.9"
  },
  "papermill": {
   "default_parameters": {},
   "duration": 727.707361,
   "end_time": "2021-05-05T08:38:58.808444",
   "environment_variables": {},
   "exception": null,
   "input_path": "__notebook__.ipynb",
   "output_path": "__notebook__.ipynb",
   "parameters": {},
   "start_time": "2021-05-05T08:26:51.101083",
   "version": "2.3.2"
  }
 },
 "nbformat": 4,
 "nbformat_minor": 5
}
