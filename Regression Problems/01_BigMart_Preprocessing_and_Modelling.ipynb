{
 "cells": [
  {
   "cell_type": "markdown",
   "metadata": {},
   "source": [
    "#### Import Data"
   ]
  },
  {
   "cell_type": "code",
   "execution_count": 126,
   "metadata": {},
   "outputs": [],
   "source": [
    "import pandas as pd\n",
    "import numpy as np\n",
    "import matplotlib.pyplot as plt\n",
    "import warnings\n",
    "warnings.filterwarnings('ignore')\n",
    "from datetime import datetime\n",
    "from statsmodels.stats.outliers_influence import variance_inflation_factor\n",
    "from sklearn.neighbors import KNeighborsRegressor\n",
    "from sklearn.tree import DecisionTreeRegressor\n",
    "from sklearn.ensemble import RandomForestRegressor,BaggingRegressor,AdaBoostRegressor, GradientBoostingRegressor\n",
    "from xgboost import XGBRegressor\n",
    "from lightgbm import LGBMRegressor\n",
    "from catboost import CatBoostRegressor"
   ]
  },
  {
   "cell_type": "code",
   "execution_count": 5,
   "metadata": {},
   "outputs": [],
   "source": [
    "train = pd.read_csv(\"https://datahack-prod.s3.amazonaws.com/train_file/train_v9rqX0R.csv\")\n",
    "test = pd.read_csv(\"https://datahack-prod.s3.amazonaws.com/test_file/test_AbJTz2l.csv\")\n",
    "sample = pd.read_csv(\"https://datahack-prod.s3.amazonaws.com/sample_submission/sample_submission_8RXa3c6.csv\")"
   ]
  },
  {
   "cell_type": "markdown",
   "metadata": {},
   "source": [
    "## Preprocessing"
   ]
  },
  {
   "cell_type": "code",
   "execution_count": 6,
   "metadata": {},
   "outputs": [
    {
     "data": {
      "text/html": [
       "<div>\n",
       "<style scoped>\n",
       "    .dataframe tbody tr th:only-of-type {\n",
       "        vertical-align: middle;\n",
       "    }\n",
       "\n",
       "    .dataframe tbody tr th {\n",
       "        vertical-align: top;\n",
       "    }\n",
       "\n",
       "    .dataframe thead th {\n",
       "        text-align: right;\n",
       "    }\n",
       "</style>\n",
       "<table border=\"1\" class=\"dataframe\">\n",
       "  <thead>\n",
       "    <tr style=\"text-align: right;\">\n",
       "      <th></th>\n",
       "      <th>Item_Identifier</th>\n",
       "      <th>Item_Weight</th>\n",
       "      <th>Item_Fat_Content</th>\n",
       "      <th>Item_Visibility</th>\n",
       "      <th>Item_Type</th>\n",
       "      <th>Item_MRP</th>\n",
       "      <th>Outlet_Identifier</th>\n",
       "      <th>Outlet_Establishment_Year</th>\n",
       "      <th>Outlet_Size</th>\n",
       "      <th>Outlet_Location_Type</th>\n",
       "      <th>Outlet_Type</th>\n",
       "      <th>Item_Outlet_Sales</th>\n",
       "    </tr>\n",
       "  </thead>\n",
       "  <tbody>\n",
       "    <tr>\n",
       "      <th>0</th>\n",
       "      <td>FDA15</td>\n",
       "      <td>9.30</td>\n",
       "      <td>Low Fat</td>\n",
       "      <td>0.016047</td>\n",
       "      <td>Dairy</td>\n",
       "      <td>249.8092</td>\n",
       "      <td>OUT049</td>\n",
       "      <td>1999</td>\n",
       "      <td>Medium</td>\n",
       "      <td>Tier 1</td>\n",
       "      <td>Supermarket Type1</td>\n",
       "      <td>3735.1380</td>\n",
       "    </tr>\n",
       "    <tr>\n",
       "      <th>1</th>\n",
       "      <td>DRC01</td>\n",
       "      <td>5.92</td>\n",
       "      <td>Regular</td>\n",
       "      <td>0.019278</td>\n",
       "      <td>Soft Drinks</td>\n",
       "      <td>48.2692</td>\n",
       "      <td>OUT018</td>\n",
       "      <td>2009</td>\n",
       "      <td>Medium</td>\n",
       "      <td>Tier 3</td>\n",
       "      <td>Supermarket Type2</td>\n",
       "      <td>443.4228</td>\n",
       "    </tr>\n",
       "    <tr>\n",
       "      <th>2</th>\n",
       "      <td>FDN15</td>\n",
       "      <td>17.50</td>\n",
       "      <td>Low Fat</td>\n",
       "      <td>0.016760</td>\n",
       "      <td>Meat</td>\n",
       "      <td>141.6180</td>\n",
       "      <td>OUT049</td>\n",
       "      <td>1999</td>\n",
       "      <td>Medium</td>\n",
       "      <td>Tier 1</td>\n",
       "      <td>Supermarket Type1</td>\n",
       "      <td>2097.2700</td>\n",
       "    </tr>\n",
       "    <tr>\n",
       "      <th>3</th>\n",
       "      <td>FDX07</td>\n",
       "      <td>19.20</td>\n",
       "      <td>Regular</td>\n",
       "      <td>0.000000</td>\n",
       "      <td>Fruits and Vegetables</td>\n",
       "      <td>182.0950</td>\n",
       "      <td>OUT010</td>\n",
       "      <td>1998</td>\n",
       "      <td>NaN</td>\n",
       "      <td>Tier 3</td>\n",
       "      <td>Grocery Store</td>\n",
       "      <td>732.3800</td>\n",
       "    </tr>\n",
       "    <tr>\n",
       "      <th>4</th>\n",
       "      <td>NCD19</td>\n",
       "      <td>8.93</td>\n",
       "      <td>Low Fat</td>\n",
       "      <td>0.000000</td>\n",
       "      <td>Household</td>\n",
       "      <td>53.8614</td>\n",
       "      <td>OUT013</td>\n",
       "      <td>1987</td>\n",
       "      <td>High</td>\n",
       "      <td>Tier 3</td>\n",
       "      <td>Supermarket Type1</td>\n",
       "      <td>994.7052</td>\n",
       "    </tr>\n",
       "  </tbody>\n",
       "</table>\n",
       "</div>"
      ],
      "text/plain": [
       "  Item_Identifier  Item_Weight Item_Fat_Content  Item_Visibility  \\\n",
       "0           FDA15         9.30          Low Fat         0.016047   \n",
       "1           DRC01         5.92          Regular         0.019278   \n",
       "2           FDN15        17.50          Low Fat         0.016760   \n",
       "3           FDX07        19.20          Regular         0.000000   \n",
       "4           NCD19         8.93          Low Fat         0.000000   \n",
       "\n",
       "               Item_Type  Item_MRP Outlet_Identifier  \\\n",
       "0                  Dairy  249.8092            OUT049   \n",
       "1            Soft Drinks   48.2692            OUT018   \n",
       "2                   Meat  141.6180            OUT049   \n",
       "3  Fruits and Vegetables  182.0950            OUT010   \n",
       "4              Household   53.8614            OUT013   \n",
       "\n",
       "   Outlet_Establishment_Year Outlet_Size Outlet_Location_Type  \\\n",
       "0                       1999      Medium               Tier 1   \n",
       "1                       2009      Medium               Tier 3   \n",
       "2                       1999      Medium               Tier 1   \n",
       "3                       1998         NaN               Tier 3   \n",
       "4                       1987        High               Tier 3   \n",
       "\n",
       "         Outlet_Type  Item_Outlet_Sales  \n",
       "0  Supermarket Type1          3735.1380  \n",
       "1  Supermarket Type2           443.4228  \n",
       "2  Supermarket Type1          2097.2700  \n",
       "3      Grocery Store           732.3800  \n",
       "4  Supermarket Type1           994.7052  "
      ]
     },
     "execution_count": 6,
     "metadata": {},
     "output_type": "execute_result"
    }
   ],
   "source": [
    "train.head()"
   ]
  },
  {
   "cell_type": "code",
   "execution_count": 7,
   "metadata": {},
   "outputs": [
    {
     "data": {
      "text/html": [
       "<div>\n",
       "<style scoped>\n",
       "    .dataframe tbody tr th:only-of-type {\n",
       "        vertical-align: middle;\n",
       "    }\n",
       "\n",
       "    .dataframe tbody tr th {\n",
       "        vertical-align: top;\n",
       "    }\n",
       "\n",
       "    .dataframe thead th {\n",
       "        text-align: right;\n",
       "    }\n",
       "</style>\n",
       "<table border=\"1\" class=\"dataframe\">\n",
       "  <thead>\n",
       "    <tr style=\"text-align: right;\">\n",
       "      <th></th>\n",
       "      <th>Item_Identifier</th>\n",
       "      <th>Item_Weight</th>\n",
       "      <th>Item_Fat_Content</th>\n",
       "      <th>Item_Visibility</th>\n",
       "      <th>Item_Type</th>\n",
       "      <th>Item_MRP</th>\n",
       "      <th>Outlet_Identifier</th>\n",
       "      <th>Outlet_Establishment_Year</th>\n",
       "      <th>Outlet_Size</th>\n",
       "      <th>Outlet_Location_Type</th>\n",
       "      <th>Outlet_Type</th>\n",
       "    </tr>\n",
       "  </thead>\n",
       "  <tbody>\n",
       "    <tr>\n",
       "      <th>5676</th>\n",
       "      <td>FDB58</td>\n",
       "      <td>10.5</td>\n",
       "      <td>Regular</td>\n",
       "      <td>0.013496</td>\n",
       "      <td>Snack Foods</td>\n",
       "      <td>141.3154</td>\n",
       "      <td>OUT046</td>\n",
       "      <td>1997</td>\n",
       "      <td>Small</td>\n",
       "      <td>Tier 1</td>\n",
       "      <td>Supermarket Type1</td>\n",
       "    </tr>\n",
       "    <tr>\n",
       "      <th>5677</th>\n",
       "      <td>FDD47</td>\n",
       "      <td>7.6</td>\n",
       "      <td>Regular</td>\n",
       "      <td>0.142991</td>\n",
       "      <td>Starchy Foods</td>\n",
       "      <td>169.1448</td>\n",
       "      <td>OUT018</td>\n",
       "      <td>2009</td>\n",
       "      <td>Medium</td>\n",
       "      <td>Tier 3</td>\n",
       "      <td>Supermarket Type2</td>\n",
       "    </tr>\n",
       "    <tr>\n",
       "      <th>5678</th>\n",
       "      <td>NCO17</td>\n",
       "      <td>10.0</td>\n",
       "      <td>Low Fat</td>\n",
       "      <td>0.073529</td>\n",
       "      <td>Health and Hygiene</td>\n",
       "      <td>118.7440</td>\n",
       "      <td>OUT045</td>\n",
       "      <td>2002</td>\n",
       "      <td>NaN</td>\n",
       "      <td>Tier 2</td>\n",
       "      <td>Supermarket Type1</td>\n",
       "    </tr>\n",
       "    <tr>\n",
       "      <th>5679</th>\n",
       "      <td>FDJ26</td>\n",
       "      <td>15.3</td>\n",
       "      <td>Regular</td>\n",
       "      <td>0.000000</td>\n",
       "      <td>Canned</td>\n",
       "      <td>214.6218</td>\n",
       "      <td>OUT017</td>\n",
       "      <td>2007</td>\n",
       "      <td>NaN</td>\n",
       "      <td>Tier 2</td>\n",
       "      <td>Supermarket Type1</td>\n",
       "    </tr>\n",
       "    <tr>\n",
       "      <th>5680</th>\n",
       "      <td>FDU37</td>\n",
       "      <td>9.5</td>\n",
       "      <td>Regular</td>\n",
       "      <td>0.104720</td>\n",
       "      <td>Canned</td>\n",
       "      <td>79.7960</td>\n",
       "      <td>OUT045</td>\n",
       "      <td>2002</td>\n",
       "      <td>NaN</td>\n",
       "      <td>Tier 2</td>\n",
       "      <td>Supermarket Type1</td>\n",
       "    </tr>\n",
       "  </tbody>\n",
       "</table>\n",
       "</div>"
      ],
      "text/plain": [
       "     Item_Identifier  Item_Weight Item_Fat_Content  Item_Visibility  \\\n",
       "5676           FDB58         10.5          Regular         0.013496   \n",
       "5677           FDD47          7.6          Regular         0.142991   \n",
       "5678           NCO17         10.0          Low Fat         0.073529   \n",
       "5679           FDJ26         15.3          Regular         0.000000   \n",
       "5680           FDU37          9.5          Regular         0.104720   \n",
       "\n",
       "               Item_Type  Item_MRP Outlet_Identifier  \\\n",
       "5676         Snack Foods  141.3154            OUT046   \n",
       "5677       Starchy Foods  169.1448            OUT018   \n",
       "5678  Health and Hygiene  118.7440            OUT045   \n",
       "5679              Canned  214.6218            OUT017   \n",
       "5680              Canned   79.7960            OUT045   \n",
       "\n",
       "      Outlet_Establishment_Year Outlet_Size Outlet_Location_Type  \\\n",
       "5676                       1997       Small               Tier 1   \n",
       "5677                       2009      Medium               Tier 3   \n",
       "5678                       2002         NaN               Tier 2   \n",
       "5679                       2007         NaN               Tier 2   \n",
       "5680                       2002         NaN               Tier 2   \n",
       "\n",
       "            Outlet_Type  \n",
       "5676  Supermarket Type1  \n",
       "5677  Supermarket Type2  \n",
       "5678  Supermarket Type1  \n",
       "5679  Supermarket Type1  \n",
       "5680  Supermarket Type1  "
      ]
     },
     "execution_count": 7,
     "metadata": {},
     "output_type": "execute_result"
    }
   ],
   "source": [
    "test.tail()"
   ]
  },
  {
   "cell_type": "code",
   "execution_count": 8,
   "metadata": {},
   "outputs": [
    {
     "data": {
      "text/plain": [
       "Index(['Item_Outlet_Sales'], dtype='object')"
      ]
     },
     "execution_count": 8,
     "metadata": {},
     "output_type": "execute_result"
    }
   ],
   "source": [
    "train.columns.difference(test.columns)"
   ]
  },
  {
   "cell_type": "code",
   "execution_count": 9,
   "metadata": {},
   "outputs": [
    {
     "data": {
      "text/plain": [
       "((8523, 12), (5681, 11))"
      ]
     },
     "execution_count": 9,
     "metadata": {},
     "output_type": "execute_result"
    }
   ],
   "source": [
    "train.shape, test.shape"
   ]
  },
  {
   "cell_type": "code",
   "execution_count": 10,
   "metadata": {},
   "outputs": [
    {
     "data": {
      "text/plain": [
       "0.6665493370878799"
      ]
     },
     "execution_count": 10,
     "metadata": {},
     "output_type": "execute_result"
    }
   ],
   "source": [
    "5681/8523"
   ]
  },
  {
   "cell_type": "code",
   "execution_count": 11,
   "metadata": {},
   "outputs": [
    {
     "name": "stdout",
     "output_type": "stream",
     "text": [
      "<class 'pandas.core.frame.DataFrame'>\n",
      "RangeIndex: 8523 entries, 0 to 8522\n",
      "Data columns (total 12 columns):\n",
      " #   Column                     Non-Null Count  Dtype  \n",
      "---  ------                     --------------  -----  \n",
      " 0   Item_Identifier            8523 non-null   object \n",
      " 1   Item_Weight                7060 non-null   float64\n",
      " 2   Item_Fat_Content           8523 non-null   object \n",
      " 3   Item_Visibility            8523 non-null   float64\n",
      " 4   Item_Type                  8523 non-null   object \n",
      " 5   Item_MRP                   8523 non-null   float64\n",
      " 6   Outlet_Identifier          8523 non-null   object \n",
      " 7   Outlet_Establishment_Year  8523 non-null   int64  \n",
      " 8   Outlet_Size                6113 non-null   object \n",
      " 9   Outlet_Location_Type       8523 non-null   object \n",
      " 10  Outlet_Type                8523 non-null   object \n",
      " 11  Item_Outlet_Sales          8523 non-null   float64\n",
      "dtypes: float64(4), int64(1), object(7)\n",
      "memory usage: 799.2+ KB\n"
     ]
    }
   ],
   "source": [
    "train.info()"
   ]
  },
  {
   "cell_type": "code",
   "execution_count": 12,
   "metadata": {},
   "outputs": [
    {
     "data": {
      "text/html": [
       "<div>\n",
       "<style scoped>\n",
       "    .dataframe tbody tr th:only-of-type {\n",
       "        vertical-align: middle;\n",
       "    }\n",
       "\n",
       "    .dataframe tbody tr th {\n",
       "        vertical-align: top;\n",
       "    }\n",
       "\n",
       "    .dataframe thead th {\n",
       "        text-align: right;\n",
       "    }\n",
       "</style>\n",
       "<table border=\"1\" class=\"dataframe\">\n",
       "  <thead>\n",
       "    <tr style=\"text-align: right;\">\n",
       "      <th></th>\n",
       "      <th>Item_Weight</th>\n",
       "      <th>Item_Visibility</th>\n",
       "      <th>Item_MRP</th>\n",
       "      <th>Outlet_Establishment_Year</th>\n",
       "      <th>Item_Outlet_Sales</th>\n",
       "    </tr>\n",
       "  </thead>\n",
       "  <tbody>\n",
       "    <tr>\n",
       "      <th>count</th>\n",
       "      <td>7060.000000</td>\n",
       "      <td>8523.000000</td>\n",
       "      <td>8523.000000</td>\n",
       "      <td>8523.000000</td>\n",
       "      <td>8523.000000</td>\n",
       "    </tr>\n",
       "    <tr>\n",
       "      <th>mean</th>\n",
       "      <td>12.857645</td>\n",
       "      <td>0.066132</td>\n",
       "      <td>140.992782</td>\n",
       "      <td>1997.831867</td>\n",
       "      <td>2181.288914</td>\n",
       "    </tr>\n",
       "    <tr>\n",
       "      <th>std</th>\n",
       "      <td>4.643456</td>\n",
       "      <td>0.051598</td>\n",
       "      <td>62.275067</td>\n",
       "      <td>8.371760</td>\n",
       "      <td>1706.499616</td>\n",
       "    </tr>\n",
       "    <tr>\n",
       "      <th>min</th>\n",
       "      <td>4.555000</td>\n",
       "      <td>0.000000</td>\n",
       "      <td>31.290000</td>\n",
       "      <td>1985.000000</td>\n",
       "      <td>33.290000</td>\n",
       "    </tr>\n",
       "    <tr>\n",
       "      <th>25%</th>\n",
       "      <td>8.773750</td>\n",
       "      <td>0.026989</td>\n",
       "      <td>93.826500</td>\n",
       "      <td>1987.000000</td>\n",
       "      <td>834.247400</td>\n",
       "    </tr>\n",
       "    <tr>\n",
       "      <th>50%</th>\n",
       "      <td>12.600000</td>\n",
       "      <td>0.053931</td>\n",
       "      <td>143.012800</td>\n",
       "      <td>1999.000000</td>\n",
       "      <td>1794.331000</td>\n",
       "    </tr>\n",
       "    <tr>\n",
       "      <th>75%</th>\n",
       "      <td>16.850000</td>\n",
       "      <td>0.094585</td>\n",
       "      <td>185.643700</td>\n",
       "      <td>2004.000000</td>\n",
       "      <td>3101.296400</td>\n",
       "    </tr>\n",
       "    <tr>\n",
       "      <th>max</th>\n",
       "      <td>21.350000</td>\n",
       "      <td>0.328391</td>\n",
       "      <td>266.888400</td>\n",
       "      <td>2009.000000</td>\n",
       "      <td>13086.964800</td>\n",
       "    </tr>\n",
       "  </tbody>\n",
       "</table>\n",
       "</div>"
      ],
      "text/plain": [
       "       Item_Weight  Item_Visibility     Item_MRP  Outlet_Establishment_Year  \\\n",
       "count  7060.000000      8523.000000  8523.000000                8523.000000   \n",
       "mean     12.857645         0.066132   140.992782                1997.831867   \n",
       "std       4.643456         0.051598    62.275067                   8.371760   \n",
       "min       4.555000         0.000000    31.290000                1985.000000   \n",
       "25%       8.773750         0.026989    93.826500                1987.000000   \n",
       "50%      12.600000         0.053931   143.012800                1999.000000   \n",
       "75%      16.850000         0.094585   185.643700                2004.000000   \n",
       "max      21.350000         0.328391   266.888400                2009.000000   \n",
       "\n",
       "       Item_Outlet_Sales  \n",
       "count        8523.000000  \n",
       "mean         2181.288914  \n",
       "std          1706.499616  \n",
       "min            33.290000  \n",
       "25%           834.247400  \n",
       "50%          1794.331000  \n",
       "75%          3101.296400  \n",
       "max         13086.964800  "
      ]
     },
     "execution_count": 12,
     "metadata": {},
     "output_type": "execute_result"
    }
   ],
   "source": [
    "train.describe()"
   ]
  },
  {
   "cell_type": "code",
   "execution_count": 13,
   "metadata": {},
   "outputs": [
    {
     "data": {
      "text/plain": [
       "Item_Identifier                 0\n",
       "Item_Weight                  1463\n",
       "Item_Fat_Content                0\n",
       "Item_Visibility                 0\n",
       "Item_Type                       0\n",
       "Item_MRP                        0\n",
       "Outlet_Identifier               0\n",
       "Outlet_Establishment_Year       0\n",
       "Outlet_Size                  2410\n",
       "Outlet_Location_Type            0\n",
       "Outlet_Type                     0\n",
       "Item_Outlet_Sales               0\n",
       "dtype: int64"
      ]
     },
     "execution_count": 13,
     "metadata": {},
     "output_type": "execute_result"
    }
   ],
   "source": [
    "train.isna().sum()"
   ]
  },
  {
   "cell_type": "code",
   "execution_count": 14,
   "metadata": {},
   "outputs": [
    {
     "data": {
      "text/plain": [
       "Item_Identifier                 0\n",
       "Item_Weight                   976\n",
       "Item_Fat_Content                0\n",
       "Item_Visibility                 0\n",
       "Item_Type                       0\n",
       "Item_MRP                        0\n",
       "Outlet_Identifier               0\n",
       "Outlet_Establishment_Year       0\n",
       "Outlet_Size                  1606\n",
       "Outlet_Location_Type            0\n",
       "Outlet_Type                     0\n",
       "dtype: int64"
      ]
     },
     "execution_count": 14,
     "metadata": {},
     "output_type": "execute_result"
    }
   ],
   "source": [
    "test.isna().sum()"
   ]
  },
  {
   "cell_type": "code",
   "execution_count": 15,
   "metadata": {},
   "outputs": [
    {
     "data": {
      "text/plain": [
       "0    FDA15\n",
       "1    DRC01\n",
       "2    FDN15\n",
       "3    FDX07\n",
       "4    NCD19\n",
       "5    FDP36\n",
       "6    FDO10\n",
       "7    FDP10\n",
       "8    FDH17\n",
       "9    FDU28\n",
       "Name: Item_Identifier, dtype: object"
      ]
     },
     "execution_count": 15,
     "metadata": {},
     "output_type": "execute_result"
    }
   ],
   "source": [
    "train.Item_Identifier[:10]"
   ]
  },
  {
   "cell_type": "code",
   "execution_count": 16,
   "metadata": {},
   "outputs": [],
   "source": [
    "train['source'] = 'train'\n",
    "test['source'] = 'test'"
   ]
  },
  {
   "cell_type": "code",
   "execution_count": 17,
   "metadata": {},
   "outputs": [
    {
     "data": {
      "text/html": [
       "<div>\n",
       "<style scoped>\n",
       "    .dataframe tbody tr th:only-of-type {\n",
       "        vertical-align: middle;\n",
       "    }\n",
       "\n",
       "    .dataframe tbody tr th {\n",
       "        vertical-align: top;\n",
       "    }\n",
       "\n",
       "    .dataframe thead th {\n",
       "        text-align: right;\n",
       "    }\n",
       "</style>\n",
       "<table border=\"1\" class=\"dataframe\">\n",
       "  <thead>\n",
       "    <tr style=\"text-align: right;\">\n",
       "      <th></th>\n",
       "      <th>Item_Identifier</th>\n",
       "      <th>Item_Weight</th>\n",
       "      <th>Item_Fat_Content</th>\n",
       "      <th>Item_Visibility</th>\n",
       "      <th>Item_Type</th>\n",
       "      <th>Item_MRP</th>\n",
       "      <th>Outlet_Identifier</th>\n",
       "      <th>Outlet_Establishment_Year</th>\n",
       "      <th>Outlet_Size</th>\n",
       "      <th>Outlet_Location_Type</th>\n",
       "      <th>Outlet_Type</th>\n",
       "      <th>Item_Outlet_Sales</th>\n",
       "      <th>source</th>\n",
       "    </tr>\n",
       "  </thead>\n",
       "  <tbody>\n",
       "    <tr>\n",
       "      <th>0</th>\n",
       "      <td>FDA15</td>\n",
       "      <td>9.30</td>\n",
       "      <td>Low Fat</td>\n",
       "      <td>0.016047</td>\n",
       "      <td>Dairy</td>\n",
       "      <td>249.8092</td>\n",
       "      <td>OUT049</td>\n",
       "      <td>1999</td>\n",
       "      <td>Medium</td>\n",
       "      <td>Tier 1</td>\n",
       "      <td>Supermarket Type1</td>\n",
       "      <td>3735.1380</td>\n",
       "      <td>train</td>\n",
       "    </tr>\n",
       "    <tr>\n",
       "      <th>1</th>\n",
       "      <td>DRC01</td>\n",
       "      <td>5.92</td>\n",
       "      <td>Regular</td>\n",
       "      <td>0.019278</td>\n",
       "      <td>Soft Drinks</td>\n",
       "      <td>48.2692</td>\n",
       "      <td>OUT018</td>\n",
       "      <td>2009</td>\n",
       "      <td>Medium</td>\n",
       "      <td>Tier 3</td>\n",
       "      <td>Supermarket Type2</td>\n",
       "      <td>443.4228</td>\n",
       "      <td>train</td>\n",
       "    </tr>\n",
       "    <tr>\n",
       "      <th>2</th>\n",
       "      <td>FDN15</td>\n",
       "      <td>17.50</td>\n",
       "      <td>Low Fat</td>\n",
       "      <td>0.016760</td>\n",
       "      <td>Meat</td>\n",
       "      <td>141.6180</td>\n",
       "      <td>OUT049</td>\n",
       "      <td>1999</td>\n",
       "      <td>Medium</td>\n",
       "      <td>Tier 1</td>\n",
       "      <td>Supermarket Type1</td>\n",
       "      <td>2097.2700</td>\n",
       "      <td>train</td>\n",
       "    </tr>\n",
       "    <tr>\n",
       "      <th>3</th>\n",
       "      <td>FDX07</td>\n",
       "      <td>19.20</td>\n",
       "      <td>Regular</td>\n",
       "      <td>0.000000</td>\n",
       "      <td>Fruits and Vegetables</td>\n",
       "      <td>182.0950</td>\n",
       "      <td>OUT010</td>\n",
       "      <td>1998</td>\n",
       "      <td>NaN</td>\n",
       "      <td>Tier 3</td>\n",
       "      <td>Grocery Store</td>\n",
       "      <td>732.3800</td>\n",
       "      <td>train</td>\n",
       "    </tr>\n",
       "    <tr>\n",
       "      <th>4</th>\n",
       "      <td>NCD19</td>\n",
       "      <td>8.93</td>\n",
       "      <td>Low Fat</td>\n",
       "      <td>0.000000</td>\n",
       "      <td>Household</td>\n",
       "      <td>53.8614</td>\n",
       "      <td>OUT013</td>\n",
       "      <td>1987</td>\n",
       "      <td>High</td>\n",
       "      <td>Tier 3</td>\n",
       "      <td>Supermarket Type1</td>\n",
       "      <td>994.7052</td>\n",
       "      <td>train</td>\n",
       "    </tr>\n",
       "  </tbody>\n",
       "</table>\n",
       "</div>"
      ],
      "text/plain": [
       "  Item_Identifier  Item_Weight Item_Fat_Content  Item_Visibility  \\\n",
       "0           FDA15         9.30          Low Fat         0.016047   \n",
       "1           DRC01         5.92          Regular         0.019278   \n",
       "2           FDN15        17.50          Low Fat         0.016760   \n",
       "3           FDX07        19.20          Regular         0.000000   \n",
       "4           NCD19         8.93          Low Fat         0.000000   \n",
       "\n",
       "               Item_Type  Item_MRP Outlet_Identifier  \\\n",
       "0                  Dairy  249.8092            OUT049   \n",
       "1            Soft Drinks   48.2692            OUT018   \n",
       "2                   Meat  141.6180            OUT049   \n",
       "3  Fruits and Vegetables  182.0950            OUT010   \n",
       "4              Household   53.8614            OUT013   \n",
       "\n",
       "   Outlet_Establishment_Year Outlet_Size Outlet_Location_Type  \\\n",
       "0                       1999      Medium               Tier 1   \n",
       "1                       2009      Medium               Tier 3   \n",
       "2                       1999      Medium               Tier 1   \n",
       "3                       1998         NaN               Tier 3   \n",
       "4                       1987        High               Tier 3   \n",
       "\n",
       "         Outlet_Type  Item_Outlet_Sales source  \n",
       "0  Supermarket Type1          3735.1380  train  \n",
       "1  Supermarket Type2           443.4228  train  \n",
       "2  Supermarket Type1          2097.2700  train  \n",
       "3      Grocery Store           732.3800  train  \n",
       "4  Supermarket Type1           994.7052  train  "
      ]
     },
     "execution_count": 17,
     "metadata": {},
     "output_type": "execute_result"
    }
   ],
   "source": [
    "train[:5]"
   ]
  },
  {
   "cell_type": "code",
   "execution_count": 18,
   "metadata": {},
   "outputs": [
    {
     "data": {
      "text/html": [
       "<div>\n",
       "<style scoped>\n",
       "    .dataframe tbody tr th:only-of-type {\n",
       "        vertical-align: middle;\n",
       "    }\n",
       "\n",
       "    .dataframe tbody tr th {\n",
       "        vertical-align: top;\n",
       "    }\n",
       "\n",
       "    .dataframe thead th {\n",
       "        text-align: right;\n",
       "    }\n",
       "</style>\n",
       "<table border=\"1\" class=\"dataframe\">\n",
       "  <thead>\n",
       "    <tr style=\"text-align: right;\">\n",
       "      <th></th>\n",
       "      <th>Item_Identifier</th>\n",
       "      <th>Item_Weight</th>\n",
       "      <th>Item_Fat_Content</th>\n",
       "      <th>Item_Visibility</th>\n",
       "      <th>Item_Type</th>\n",
       "      <th>Item_MRP</th>\n",
       "      <th>Outlet_Identifier</th>\n",
       "      <th>Outlet_Establishment_Year</th>\n",
       "      <th>Outlet_Size</th>\n",
       "      <th>Outlet_Location_Type</th>\n",
       "      <th>Outlet_Type</th>\n",
       "      <th>Item_Outlet_Sales</th>\n",
       "      <th>source</th>\n",
       "    </tr>\n",
       "  </thead>\n",
       "  <tbody>\n",
       "    <tr>\n",
       "      <th>0</th>\n",
       "      <td>FDA15</td>\n",
       "      <td>9.30</td>\n",
       "      <td>Low Fat</td>\n",
       "      <td>0.016047</td>\n",
       "      <td>Dairy</td>\n",
       "      <td>249.8092</td>\n",
       "      <td>OUT049</td>\n",
       "      <td>1999</td>\n",
       "      <td>Medium</td>\n",
       "      <td>Tier 1</td>\n",
       "      <td>Supermarket Type1</td>\n",
       "      <td>3735.1380</td>\n",
       "      <td>train</td>\n",
       "    </tr>\n",
       "    <tr>\n",
       "      <th>1</th>\n",
       "      <td>DRC01</td>\n",
       "      <td>5.92</td>\n",
       "      <td>Regular</td>\n",
       "      <td>0.019278</td>\n",
       "      <td>Soft Drinks</td>\n",
       "      <td>48.2692</td>\n",
       "      <td>OUT018</td>\n",
       "      <td>2009</td>\n",
       "      <td>Medium</td>\n",
       "      <td>Tier 3</td>\n",
       "      <td>Supermarket Type2</td>\n",
       "      <td>443.4228</td>\n",
       "      <td>train</td>\n",
       "    </tr>\n",
       "    <tr>\n",
       "      <th>2</th>\n",
       "      <td>FDN15</td>\n",
       "      <td>17.50</td>\n",
       "      <td>Low Fat</td>\n",
       "      <td>0.016760</td>\n",
       "      <td>Meat</td>\n",
       "      <td>141.6180</td>\n",
       "      <td>OUT049</td>\n",
       "      <td>1999</td>\n",
       "      <td>Medium</td>\n",
       "      <td>Tier 1</td>\n",
       "      <td>Supermarket Type1</td>\n",
       "      <td>2097.2700</td>\n",
       "      <td>train</td>\n",
       "    </tr>\n",
       "  </tbody>\n",
       "</table>\n",
       "</div>"
      ],
      "text/plain": [
       "  Item_Identifier  Item_Weight Item_Fat_Content  Item_Visibility    Item_Type  \\\n",
       "0           FDA15         9.30          Low Fat         0.016047        Dairy   \n",
       "1           DRC01         5.92          Regular         0.019278  Soft Drinks   \n",
       "2           FDN15        17.50          Low Fat         0.016760         Meat   \n",
       "\n",
       "   Item_MRP Outlet_Identifier  Outlet_Establishment_Year Outlet_Size  \\\n",
       "0  249.8092            OUT049                       1999      Medium   \n",
       "1   48.2692            OUT018                       2009      Medium   \n",
       "2  141.6180            OUT049                       1999      Medium   \n",
       "\n",
       "  Outlet_Location_Type        Outlet_Type  Item_Outlet_Sales source  \n",
       "0               Tier 1  Supermarket Type1          3735.1380  train  \n",
       "1               Tier 3  Supermarket Type2           443.4228  train  \n",
       "2               Tier 1  Supermarket Type1          2097.2700  train  "
      ]
     },
     "execution_count": 18,
     "metadata": {},
     "output_type": "execute_result"
    }
   ],
   "source": [
    "df = pd.concat([train, test])\n",
    "df[:3]"
   ]
  },
  {
   "cell_type": "code",
   "execution_count": 19,
   "metadata": {},
   "outputs": [
    {
     "data": {
      "text/plain": [
       "(14204, 13)"
      ]
     },
     "execution_count": 19,
     "metadata": {},
     "output_type": "execute_result"
    }
   ],
   "source": [
    "df.shape"
   ]
  },
  {
   "cell_type": "code",
   "execution_count": 20,
   "metadata": {},
   "outputs": [
    {
     "data": {
      "text/plain": [
       "1559"
      ]
     },
     "execution_count": 20,
     "metadata": {},
     "output_type": "execute_result"
    }
   ],
   "source": [
    "df['Item_Identifier'].nunique()"
   ]
  },
  {
   "cell_type": "code",
   "execution_count": 21,
   "metadata": {},
   "outputs": [
    {
     "data": {
      "text/html": [
       "<div>\n",
       "<style scoped>\n",
       "    .dataframe tbody tr th:only-of-type {\n",
       "        vertical-align: middle;\n",
       "    }\n",
       "\n",
       "    .dataframe tbody tr th {\n",
       "        vertical-align: top;\n",
       "    }\n",
       "\n",
       "    .dataframe thead th {\n",
       "        text-align: right;\n",
       "    }\n",
       "</style>\n",
       "<table border=\"1\" class=\"dataframe\">\n",
       "  <thead>\n",
       "    <tr style=\"text-align: right;\">\n",
       "      <th></th>\n",
       "      <th>Item_Identifier</th>\n",
       "      <th>Item_Weight</th>\n",
       "      <th>Item_Fat_Content</th>\n",
       "      <th>Item_Visibility</th>\n",
       "      <th>Item_Type</th>\n",
       "      <th>Item_MRP</th>\n",
       "      <th>Outlet_Identifier</th>\n",
       "      <th>Outlet_Establishment_Year</th>\n",
       "      <th>Outlet_Size</th>\n",
       "      <th>Outlet_Location_Type</th>\n",
       "      <th>Outlet_Type</th>\n",
       "      <th>Item_Outlet_Sales</th>\n",
       "      <th>source</th>\n",
       "    </tr>\n",
       "  </thead>\n",
       "  <tbody>\n",
       "    <tr>\n",
       "      <th>0</th>\n",
       "      <td>FDA15</td>\n",
       "      <td>9.30</td>\n",
       "      <td>Low Fat</td>\n",
       "      <td>0.016047</td>\n",
       "      <td>Dairy</td>\n",
       "      <td>249.8092</td>\n",
       "      <td>OUT049</td>\n",
       "      <td>1999</td>\n",
       "      <td>Medium</td>\n",
       "      <td>Tier 1</td>\n",
       "      <td>Supermarket Type1</td>\n",
       "      <td>3735.1380</td>\n",
       "      <td>train</td>\n",
       "    </tr>\n",
       "    <tr>\n",
       "      <th>1</th>\n",
       "      <td>DRC01</td>\n",
       "      <td>5.92</td>\n",
       "      <td>Regular</td>\n",
       "      <td>0.019278</td>\n",
       "      <td>Soft Drinks</td>\n",
       "      <td>48.2692</td>\n",
       "      <td>OUT018</td>\n",
       "      <td>2009</td>\n",
       "      <td>Medium</td>\n",
       "      <td>Tier 3</td>\n",
       "      <td>Supermarket Type2</td>\n",
       "      <td>443.4228</td>\n",
       "      <td>train</td>\n",
       "    </tr>\n",
       "    <tr>\n",
       "      <th>2</th>\n",
       "      <td>FDN15</td>\n",
       "      <td>17.50</td>\n",
       "      <td>Low Fat</td>\n",
       "      <td>0.016760</td>\n",
       "      <td>Meat</td>\n",
       "      <td>141.6180</td>\n",
       "      <td>OUT049</td>\n",
       "      <td>1999</td>\n",
       "      <td>Medium</td>\n",
       "      <td>Tier 1</td>\n",
       "      <td>Supermarket Type1</td>\n",
       "      <td>2097.2700</td>\n",
       "      <td>train</td>\n",
       "    </tr>\n",
       "    <tr>\n",
       "      <th>3</th>\n",
       "      <td>FDX07</td>\n",
       "      <td>19.20</td>\n",
       "      <td>Regular</td>\n",
       "      <td>0.000000</td>\n",
       "      <td>Fruits and Vegetables</td>\n",
       "      <td>182.0950</td>\n",
       "      <td>OUT010</td>\n",
       "      <td>1998</td>\n",
       "      <td>NaN</td>\n",
       "      <td>Tier 3</td>\n",
       "      <td>Grocery Store</td>\n",
       "      <td>732.3800</td>\n",
       "      <td>train</td>\n",
       "    </tr>\n",
       "    <tr>\n",
       "      <th>4</th>\n",
       "      <td>NCD19</td>\n",
       "      <td>8.93</td>\n",
       "      <td>Low Fat</td>\n",
       "      <td>0.000000</td>\n",
       "      <td>Household</td>\n",
       "      <td>53.8614</td>\n",
       "      <td>OUT013</td>\n",
       "      <td>1987</td>\n",
       "      <td>High</td>\n",
       "      <td>Tier 3</td>\n",
       "      <td>Supermarket Type1</td>\n",
       "      <td>994.7052</td>\n",
       "      <td>train</td>\n",
       "    </tr>\n",
       "  </tbody>\n",
       "</table>\n",
       "</div>"
      ],
      "text/plain": [
       "  Item_Identifier  Item_Weight Item_Fat_Content  Item_Visibility  \\\n",
       "0           FDA15         9.30          Low Fat         0.016047   \n",
       "1           DRC01         5.92          Regular         0.019278   \n",
       "2           FDN15        17.50          Low Fat         0.016760   \n",
       "3           FDX07        19.20          Regular         0.000000   \n",
       "4           NCD19         8.93          Low Fat         0.000000   \n",
       "\n",
       "               Item_Type  Item_MRP Outlet_Identifier  \\\n",
       "0                  Dairy  249.8092            OUT049   \n",
       "1            Soft Drinks   48.2692            OUT018   \n",
       "2                   Meat  141.6180            OUT049   \n",
       "3  Fruits and Vegetables  182.0950            OUT010   \n",
       "4              Household   53.8614            OUT013   \n",
       "\n",
       "   Outlet_Establishment_Year Outlet_Size Outlet_Location_Type  \\\n",
       "0                       1999      Medium               Tier 1   \n",
       "1                       2009      Medium               Tier 3   \n",
       "2                       1999      Medium               Tier 1   \n",
       "3                       1998         NaN               Tier 3   \n",
       "4                       1987        High               Tier 3   \n",
       "\n",
       "         Outlet_Type  Item_Outlet_Sales source  \n",
       "0  Supermarket Type1          3735.1380  train  \n",
       "1  Supermarket Type2           443.4228  train  \n",
       "2  Supermarket Type1          2097.2700  train  \n",
       "3      Grocery Store           732.3800  train  \n",
       "4  Supermarket Type1           994.7052  train  "
      ]
     },
     "execution_count": 21,
     "metadata": {},
     "output_type": "execute_result"
    }
   ],
   "source": [
    "df.head(5)"
   ]
  },
  {
   "cell_type": "code",
   "execution_count": 22,
   "metadata": {},
   "outputs": [],
   "source": [
    "df['Item_Identifier_2'] = df['Item_Identifier'].apply(lambda x : x[0:2])\n",
    "df['Item_Identifier_3'] = df['Item_Identifier'].apply(lambda x : x[0:3])"
   ]
  },
  {
   "cell_type": "code",
   "execution_count": 23,
   "metadata": {
    "scrolled": true
   },
   "outputs": [
    {
     "data": {
      "text/plain": [
       "FD    10201\n",
       "NC     2686\n",
       "DR     1317\n",
       "Name: Item_Identifier_2, dtype: int64"
      ]
     },
     "execution_count": 23,
     "metadata": {},
     "output_type": "execute_result"
    }
   ],
   "source": [
    "df['Item_Identifier_2'].value_counts()"
   ]
  },
  {
   "cell_type": "code",
   "execution_count": 24,
   "metadata": {},
   "outputs": [
    {
     "data": {
      "text/plain": [
       "FDT    467\n",
       "FDW    460\n",
       "FDX    460\n",
       "FDV    454\n",
       "FDU    452\n",
       "Name: Item_Identifier_3, dtype: int64"
      ]
     },
     "execution_count": 24,
     "metadata": {},
     "output_type": "execute_result"
    }
   ],
   "source": [
    "df['Item_Identifier_3'].value_counts()[:5]"
   ]
  },
  {
   "cell_type": "code",
   "execution_count": 25,
   "metadata": {},
   "outputs": [],
   "source": [
    "del df['Item_Identifier_3']"
   ]
  },
  {
   "cell_type": "code",
   "execution_count": 26,
   "metadata": {},
   "outputs": [
    {
     "data": {
      "text/plain": [
       "(14204, 14)"
      ]
     },
     "execution_count": 26,
     "metadata": {},
     "output_type": "execute_result"
    }
   ],
   "source": [
    "df.shape"
   ]
  },
  {
   "cell_type": "code",
   "execution_count": 27,
   "metadata": {},
   "outputs": [
    {
     "data": {
      "text/plain": [
       "2439"
      ]
     },
     "execution_count": 27,
     "metadata": {},
     "output_type": "execute_result"
    }
   ],
   "source": [
    "df['Item_Weight'].isna().sum()"
   ]
  },
  {
   "cell_type": "code",
   "execution_count": 28,
   "metadata": {},
   "outputs": [
    {
     "data": {
      "text/html": [
       "<div>\n",
       "<style scoped>\n",
       "    .dataframe tbody tr th:only-of-type {\n",
       "        vertical-align: middle;\n",
       "    }\n",
       "\n",
       "    .dataframe tbody tr th {\n",
       "        vertical-align: top;\n",
       "    }\n",
       "\n",
       "    .dataframe thead th {\n",
       "        text-align: right;\n",
       "    }\n",
       "</style>\n",
       "<table border=\"1\" class=\"dataframe\">\n",
       "  <thead>\n",
       "    <tr style=\"text-align: right;\">\n",
       "      <th></th>\n",
       "      <th>Item_Identifier</th>\n",
       "      <th>Item_Weight</th>\n",
       "      <th>Item_Fat_Content</th>\n",
       "      <th>Item_Visibility</th>\n",
       "      <th>Item_Type</th>\n",
       "      <th>Item_MRP</th>\n",
       "      <th>Outlet_Identifier</th>\n",
       "      <th>Outlet_Establishment_Year</th>\n",
       "      <th>Outlet_Size</th>\n",
       "      <th>Outlet_Location_Type</th>\n",
       "      <th>Outlet_Type</th>\n",
       "      <th>Item_Outlet_Sales</th>\n",
       "      <th>source</th>\n",
       "      <th>Item_Identifier_2</th>\n",
       "    </tr>\n",
       "  </thead>\n",
       "  <tbody>\n",
       "    <tr>\n",
       "      <th>0</th>\n",
       "      <td>FDA15</td>\n",
       "      <td>9.30</td>\n",
       "      <td>Low Fat</td>\n",
       "      <td>0.016047</td>\n",
       "      <td>Dairy</td>\n",
       "      <td>249.8092</td>\n",
       "      <td>OUT049</td>\n",
       "      <td>1999</td>\n",
       "      <td>Medium</td>\n",
       "      <td>Tier 1</td>\n",
       "      <td>Supermarket Type1</td>\n",
       "      <td>3735.1380</td>\n",
       "      <td>train</td>\n",
       "      <td>FD</td>\n",
       "    </tr>\n",
       "    <tr>\n",
       "      <th>1</th>\n",
       "      <td>DRC01</td>\n",
       "      <td>5.92</td>\n",
       "      <td>Regular</td>\n",
       "      <td>0.019278</td>\n",
       "      <td>Soft Drinks</td>\n",
       "      <td>48.2692</td>\n",
       "      <td>OUT018</td>\n",
       "      <td>2009</td>\n",
       "      <td>Medium</td>\n",
       "      <td>Tier 3</td>\n",
       "      <td>Supermarket Type2</td>\n",
       "      <td>443.4228</td>\n",
       "      <td>train</td>\n",
       "      <td>DR</td>\n",
       "    </tr>\n",
       "    <tr>\n",
       "      <th>2</th>\n",
       "      <td>FDN15</td>\n",
       "      <td>17.50</td>\n",
       "      <td>Low Fat</td>\n",
       "      <td>0.016760</td>\n",
       "      <td>Meat</td>\n",
       "      <td>141.6180</td>\n",
       "      <td>OUT049</td>\n",
       "      <td>1999</td>\n",
       "      <td>Medium</td>\n",
       "      <td>Tier 1</td>\n",
       "      <td>Supermarket Type1</td>\n",
       "      <td>2097.2700</td>\n",
       "      <td>train</td>\n",
       "      <td>FD</td>\n",
       "    </tr>\n",
       "    <tr>\n",
       "      <th>3</th>\n",
       "      <td>FDX07</td>\n",
       "      <td>19.20</td>\n",
       "      <td>Regular</td>\n",
       "      <td>0.000000</td>\n",
       "      <td>Fruits and Vegetables</td>\n",
       "      <td>182.0950</td>\n",
       "      <td>OUT010</td>\n",
       "      <td>1998</td>\n",
       "      <td>NaN</td>\n",
       "      <td>Tier 3</td>\n",
       "      <td>Grocery Store</td>\n",
       "      <td>732.3800</td>\n",
       "      <td>train</td>\n",
       "      <td>FD</td>\n",
       "    </tr>\n",
       "    <tr>\n",
       "      <th>4</th>\n",
       "      <td>NCD19</td>\n",
       "      <td>8.93</td>\n",
       "      <td>Low Fat</td>\n",
       "      <td>0.000000</td>\n",
       "      <td>Household</td>\n",
       "      <td>53.8614</td>\n",
       "      <td>OUT013</td>\n",
       "      <td>1987</td>\n",
       "      <td>High</td>\n",
       "      <td>Tier 3</td>\n",
       "      <td>Supermarket Type1</td>\n",
       "      <td>994.7052</td>\n",
       "      <td>train</td>\n",
       "      <td>NC</td>\n",
       "    </tr>\n",
       "  </tbody>\n",
       "</table>\n",
       "</div>"
      ],
      "text/plain": [
       "  Item_Identifier  Item_Weight Item_Fat_Content  Item_Visibility  \\\n",
       "0           FDA15         9.30          Low Fat         0.016047   \n",
       "1           DRC01         5.92          Regular         0.019278   \n",
       "2           FDN15        17.50          Low Fat         0.016760   \n",
       "3           FDX07        19.20          Regular         0.000000   \n",
       "4           NCD19         8.93          Low Fat         0.000000   \n",
       "\n",
       "               Item_Type  Item_MRP Outlet_Identifier  \\\n",
       "0                  Dairy  249.8092            OUT049   \n",
       "1            Soft Drinks   48.2692            OUT018   \n",
       "2                   Meat  141.6180            OUT049   \n",
       "3  Fruits and Vegetables  182.0950            OUT010   \n",
       "4              Household   53.8614            OUT013   \n",
       "\n",
       "   Outlet_Establishment_Year Outlet_Size Outlet_Location_Type  \\\n",
       "0                       1999      Medium               Tier 1   \n",
       "1                       2009      Medium               Tier 3   \n",
       "2                       1999      Medium               Tier 1   \n",
       "3                       1998         NaN               Tier 3   \n",
       "4                       1987        High               Tier 3   \n",
       "\n",
       "         Outlet_Type  Item_Outlet_Sales source Item_Identifier_2  \n",
       "0  Supermarket Type1          3735.1380  train                FD  \n",
       "1  Supermarket Type2           443.4228  train                DR  \n",
       "2  Supermarket Type1          2097.2700  train                FD  \n",
       "3      Grocery Store           732.3800  train                FD  \n",
       "4  Supermarket Type1           994.7052  train                NC  "
      ]
     },
     "execution_count": 28,
     "metadata": {},
     "output_type": "execute_result"
    }
   ],
   "source": [
    "df.head()"
   ]
  },
  {
   "cell_type": "code",
   "execution_count": 29,
   "metadata": {},
   "outputs": [
    {
     "data": {
      "text/plain": [
       "Item_Identifier_2\n",
       "DR    12.116645\n",
       "FD    12.735577\n",
       "NC    13.344139\n",
       "Name: Item_Weight, dtype: float64"
      ]
     },
     "execution_count": 29,
     "metadata": {},
     "output_type": "execute_result"
    }
   ],
   "source": [
    "df.groupby([\"Item_Identifier_2\"])['Item_Weight'].mean()"
   ]
  },
  {
   "cell_type": "code",
   "execution_count": 30,
   "metadata": {},
   "outputs": [],
   "source": [
    "# df.groupby('Item_Identifier_2').Item_Weight.transform(lambda x: x.fillna(x.mean()))"
   ]
  },
  {
   "cell_type": "code",
   "execution_count": 31,
   "metadata": {},
   "outputs": [],
   "source": [
    "df['Item_Weight'] = df.groupby('Item_Identifier_2').Item_Weight.transform(lambda x: x.fillna(x.mean()))"
   ]
  },
  {
   "cell_type": "code",
   "execution_count": 32,
   "metadata": {},
   "outputs": [
    {
     "data": {
      "text/plain": [
       "0"
      ]
     },
     "execution_count": 32,
     "metadata": {},
     "output_type": "execute_result"
    }
   ],
   "source": [
    "df['Item_Weight'].isna().sum()"
   ]
  },
  {
   "cell_type": "code",
   "execution_count": 33,
   "metadata": {},
   "outputs": [
    {
     "data": {
      "text/plain": [
       "5"
      ]
     },
     "execution_count": 33,
     "metadata": {},
     "output_type": "execute_result"
    }
   ],
   "source": [
    "df['Item_Fat_Content'].nunique()"
   ]
  },
  {
   "cell_type": "code",
   "execution_count": 34,
   "metadata": {},
   "outputs": [
    {
     "data": {
      "text/plain": [
       "array(['Low Fat', 'Regular', 'low fat', 'LF', 'reg'], dtype=object)"
      ]
     },
     "execution_count": 34,
     "metadata": {},
     "output_type": "execute_result"
    }
   ],
   "source": [
    "df['Item_Fat_Content'].unique()"
   ]
  },
  {
   "cell_type": "code",
   "execution_count": 35,
   "metadata": {},
   "outputs": [
    {
     "data": {
      "text/plain": [
       "Low Fat    8485\n",
       "Regular    4824\n",
       "LF          522\n",
       "reg         195\n",
       "low fat     178\n",
       "Name: Item_Fat_Content, dtype: int64"
      ]
     },
     "execution_count": 35,
     "metadata": {},
     "output_type": "execute_result"
    }
   ],
   "source": [
    "df['Item_Fat_Content'].value_counts()"
   ]
  },
  {
   "cell_type": "code",
   "execution_count": 36,
   "metadata": {},
   "outputs": [],
   "source": [
    "df['Item_Fat_Content'] = df['Item_Fat_Content'].replace({\"LF\": \"Low Fat\", \"reg\": \"Regular\", \"low fat\": \"Low Fat\"})"
   ]
  },
  {
   "cell_type": "code",
   "execution_count": 37,
   "metadata": {},
   "outputs": [
    {
     "data": {
      "text/plain": [
       "array(['Low Fat', 'Regular'], dtype=object)"
      ]
     },
     "execution_count": 37,
     "metadata": {},
     "output_type": "execute_result"
    }
   ],
   "source": [
    "df['Item_Fat_Content'].unique()"
   ]
  },
  {
   "cell_type": "code",
   "execution_count": 38,
   "metadata": {},
   "outputs": [
    {
     "data": {
      "text/plain": [
       "<AxesSubplot:ylabel='Frequency'>"
      ]
     },
     "execution_count": 38,
     "metadata": {},
     "output_type": "execute_result"
    },
    {
     "data": {
      "image/png": "[encoded data removed]",
      "text/plain": [
       "<Figure size 432x288 with 1 Axes>"
      ]
     },
     "metadata": {
      "needs_background": "light"
     },
     "output_type": "display_data"
    }
   ],
   "source": [
    "df['Item_Visibility'].plot(kind = 'hist')"
   ]
  },
  {
   "cell_type": "code",
   "execution_count": 39,
   "metadata": {},
   "outputs": [
    {
     "data": {
      "text/plain": [
       "0.000000    879\n",
       "0.076792      3\n",
       "0.077169      3\n",
       "0.076841      3\n",
       "0.076975      3\n",
       "           ... \n",
       "0.044503      1\n",
       "0.030933      1\n",
       "0.059281      1\n",
       "0.019228      1\n",
       "0.031007      1\n",
       "Name: Item_Visibility, Length: 13006, dtype: int64"
      ]
     },
     "execution_count": 39,
     "metadata": {},
     "output_type": "execute_result"
    }
   ],
   "source": [
    "df['Item_Visibility'].value_counts(ascending = False)"
   ]
  },
  {
   "cell_type": "code",
   "execution_count": 40,
   "metadata": {},
   "outputs": [
    {
     "data": {
      "text/html": [
       "<div>\n",
       "<style scoped>\n",
       "    .dataframe tbody tr th:only-of-type {\n",
       "        vertical-align: middle;\n",
       "    }\n",
       "\n",
       "    .dataframe tbody tr th {\n",
       "        vertical-align: top;\n",
       "    }\n",
       "\n",
       "    .dataframe thead th {\n",
       "        text-align: right;\n",
       "    }\n",
       "</style>\n",
       "<table border=\"1\" class=\"dataframe\">\n",
       "  <thead>\n",
       "    <tr style=\"text-align: right;\">\n",
       "      <th></th>\n",
       "      <th>Item_Identifier</th>\n",
       "      <th>Item_Weight</th>\n",
       "      <th>Item_Fat_Content</th>\n",
       "      <th>Item_Visibility</th>\n",
       "      <th>Item_Type</th>\n",
       "      <th>Item_MRP</th>\n",
       "      <th>Outlet_Identifier</th>\n",
       "      <th>Outlet_Establishment_Year</th>\n",
       "      <th>Outlet_Size</th>\n",
       "      <th>Outlet_Location_Type</th>\n",
       "      <th>Outlet_Type</th>\n",
       "      <th>Item_Outlet_Sales</th>\n",
       "      <th>source</th>\n",
       "      <th>Item_Identifier_2</th>\n",
       "    </tr>\n",
       "  </thead>\n",
       "  <tbody>\n",
       "    <tr>\n",
       "      <th>1197</th>\n",
       "      <td>DRA12</td>\n",
       "      <td>11.600000</td>\n",
       "      <td>Low Fat</td>\n",
       "      <td>0.000000</td>\n",
       "      <td>Soft Drinks</td>\n",
       "      <td>141.6154</td>\n",
       "      <td>OUT045</td>\n",
       "      <td>2002</td>\n",
       "      <td>NaN</td>\n",
       "      <td>Tier 2</td>\n",
       "      <td>Supermarket Type1</td>\n",
       "      <td>3829.0158</td>\n",
       "      <td>train</td>\n",
       "      <td>DR</td>\n",
       "    </tr>\n",
       "    <tr>\n",
       "      <th>1693</th>\n",
       "      <td>DRA12</td>\n",
       "      <td>11.600000</td>\n",
       "      <td>Low Fat</td>\n",
       "      <td>0.000000</td>\n",
       "      <td>Soft Drinks</td>\n",
       "      <td>141.9154</td>\n",
       "      <td>OUT035</td>\n",
       "      <td>2004</td>\n",
       "      <td>Small</td>\n",
       "      <td>Tier 2</td>\n",
       "      <td>Supermarket Type1</td>\n",
       "      <td>992.7078</td>\n",
       "      <td>train</td>\n",
       "      <td>DR</td>\n",
       "    </tr>\n",
       "    <tr>\n",
       "      <th>3912</th>\n",
       "      <td>DRA12</td>\n",
       "      <td>12.116645</td>\n",
       "      <td>Low Fat</td>\n",
       "      <td>0.040748</td>\n",
       "      <td>Soft Drinks</td>\n",
       "      <td>140.0154</td>\n",
       "      <td>OUT027</td>\n",
       "      <td>1985</td>\n",
       "      <td>Medium</td>\n",
       "      <td>Tier 3</td>\n",
       "      <td>Supermarket Type3</td>\n",
       "      <td>NaN</td>\n",
       "      <td>test</td>\n",
       "      <td>DR</td>\n",
       "    </tr>\n",
       "    <tr>\n",
       "      <th>1245</th>\n",
       "      <td>DRA12</td>\n",
       "      <td>11.600000</td>\n",
       "      <td>Low Fat</td>\n",
       "      <td>0.040912</td>\n",
       "      <td>Soft Drinks</td>\n",
       "      <td>142.3154</td>\n",
       "      <td>OUT013</td>\n",
       "      <td>1987</td>\n",
       "      <td>High</td>\n",
       "      <td>Tier 3</td>\n",
       "      <td>Supermarket Type1</td>\n",
       "      <td>2552.6772</td>\n",
       "      <td>train</td>\n",
       "      <td>DR</td>\n",
       "    </tr>\n",
       "    <tr>\n",
       "      <th>500</th>\n",
       "      <td>DRA12</td>\n",
       "      <td>11.600000</td>\n",
       "      <td>Low Fat</td>\n",
       "      <td>0.040946</td>\n",
       "      <td>Soft Drinks</td>\n",
       "      <td>142.9154</td>\n",
       "      <td>OUT046</td>\n",
       "      <td>1997</td>\n",
       "      <td>Small</td>\n",
       "      <td>Tier 1</td>\n",
       "      <td>Supermarket Type1</td>\n",
       "      <td>NaN</td>\n",
       "      <td>test</td>\n",
       "      <td>DR</td>\n",
       "    </tr>\n",
       "    <tr>\n",
       "      <th>...</th>\n",
       "      <td>...</td>\n",
       "      <td>...</td>\n",
       "      <td>...</td>\n",
       "      <td>...</td>\n",
       "      <td>...</td>\n",
       "      <td>...</td>\n",
       "      <td>...</td>\n",
       "      <td>...</td>\n",
       "      <td>...</td>\n",
       "      <td>...</td>\n",
       "      <td>...</td>\n",
       "      <td>...</td>\n",
       "      <td>...</td>\n",
       "      <td>...</td>\n",
       "    </tr>\n",
       "    <tr>\n",
       "      <th>7926</th>\n",
       "      <td>NCZ54</td>\n",
       "      <td>14.650000</td>\n",
       "      <td>Low Fat</td>\n",
       "      <td>0.083489</td>\n",
       "      <td>Household</td>\n",
       "      <td>161.3552</td>\n",
       "      <td>OUT049</td>\n",
       "      <td>1999</td>\n",
       "      <td>Medium</td>\n",
       "      <td>Tier 1</td>\n",
       "      <td>Supermarket Type1</td>\n",
       "      <td>7148.0288</td>\n",
       "      <td>train</td>\n",
       "      <td>NC</td>\n",
       "    </tr>\n",
       "    <tr>\n",
       "      <th>1969</th>\n",
       "      <td>NCZ54</td>\n",
       "      <td>14.650000</td>\n",
       "      <td>Low Fat</td>\n",
       "      <td>0.083528</td>\n",
       "      <td>Household</td>\n",
       "      <td>162.4552</td>\n",
       "      <td>OUT045</td>\n",
       "      <td>2002</td>\n",
       "      <td>NaN</td>\n",
       "      <td>Tier 2</td>\n",
       "      <td>Supermarket Type1</td>\n",
       "      <td>2274.3728</td>\n",
       "      <td>train</td>\n",
       "      <td>NC</td>\n",
       "    </tr>\n",
       "    <tr>\n",
       "      <th>7738</th>\n",
       "      <td>NCZ54</td>\n",
       "      <td>14.650000</td>\n",
       "      <td>Low Fat</td>\n",
       "      <td>0.083699</td>\n",
       "      <td>Household</td>\n",
       "      <td>163.4552</td>\n",
       "      <td>OUT018</td>\n",
       "      <td>2009</td>\n",
       "      <td>Medium</td>\n",
       "      <td>Tier 3</td>\n",
       "      <td>Supermarket Type2</td>\n",
       "      <td>2599.2832</td>\n",
       "      <td>train</td>\n",
       "      <td>NC</td>\n",
       "    </tr>\n",
       "    <tr>\n",
       "      <th>4700</th>\n",
       "      <td>NCZ54</td>\n",
       "      <td>14.650000</td>\n",
       "      <td>Low Fat</td>\n",
       "      <td>0.083831</td>\n",
       "      <td>Household</td>\n",
       "      <td>161.4552</td>\n",
       "      <td>OUT017</td>\n",
       "      <td>2007</td>\n",
       "      <td>NaN</td>\n",
       "      <td>Tier 2</td>\n",
       "      <td>Supermarket Type1</td>\n",
       "      <td>NaN</td>\n",
       "      <td>test</td>\n",
       "      <td>NC</td>\n",
       "    </tr>\n",
       "    <tr>\n",
       "      <th>7166</th>\n",
       "      <td>NCZ54</td>\n",
       "      <td>13.344139</td>\n",
       "      <td>Low Fat</td>\n",
       "      <td>0.145952</td>\n",
       "      <td>Household</td>\n",
       "      <td>160.9552</td>\n",
       "      <td>OUT019</td>\n",
       "      <td>1985</td>\n",
       "      <td>Small</td>\n",
       "      <td>Tier 1</td>\n",
       "      <td>Grocery Store</td>\n",
       "      <td>162.4552</td>\n",
       "      <td>train</td>\n",
       "      <td>NC</td>\n",
       "    </tr>\n",
       "  </tbody>\n",
       "</table>\n",
       "<p>14204 rows × 14 columns</p>\n",
       "</div>"
      ],
      "text/plain": [
       "     Item_Identifier  Item_Weight Item_Fat_Content  Item_Visibility  \\\n",
       "1197           DRA12    11.600000          Low Fat         0.000000   \n",
       "1693           DRA12    11.600000          Low Fat         0.000000   \n",
       "3912           DRA12    12.116645          Low Fat         0.040748   \n",
       "1245           DRA12    11.600000          Low Fat         0.040912   \n",
       "500            DRA12    11.600000          Low Fat         0.040946   \n",
       "...              ...          ...              ...              ...   \n",
       "7926           NCZ54    14.650000          Low Fat         0.083489   \n",
       "1969           NCZ54    14.650000          Low Fat         0.083528   \n",
       "7738           NCZ54    14.650000          Low Fat         0.083699   \n",
       "4700           NCZ54    14.650000          Low Fat         0.083831   \n",
       "7166           NCZ54    13.344139          Low Fat         0.145952   \n",
       "\n",
       "        Item_Type  Item_MRP Outlet_Identifier  Outlet_Establishment_Year  \\\n",
       "1197  Soft Drinks  141.6154            OUT045                       2002   \n",
       "1693  Soft Drinks  141.9154            OUT035                       2004   \n",
       "3912  Soft Drinks  140.0154            OUT027                       1985   \n",
       "1245  Soft Drinks  142.3154            OUT013                       1987   \n",
       "500   Soft Drinks  142.9154            OUT046                       1997   \n",
       "...           ...       ...               ...                        ...   \n",
       "7926    Household  161.3552            OUT049                       1999   \n",
       "1969    Household  162.4552            OUT045                       2002   \n",
       "7738    Household  163.4552            OUT018                       2009   \n",
       "4700    Household  161.4552            OUT017                       2007   \n",
       "7166    Household  160.9552            OUT019                       1985   \n",
       "\n",
       "     Outlet_Size Outlet_Location_Type        Outlet_Type  Item_Outlet_Sales  \\\n",
       "1197         NaN               Tier 2  Supermarket Type1          3829.0158   \n",
       "1693       Small               Tier 2  Supermarket Type1           992.7078   \n",
       "3912      Medium               Tier 3  Supermarket Type3                NaN   \n",
       "1245        High               Tier 3  Supermarket Type1          2552.6772   \n",
       "500        Small               Tier 1  Supermarket Type1                NaN   \n",
       "...          ...                  ...                ...                ...   \n",
       "7926      Medium               Tier 1  Supermarket Type1          7148.0288   \n",
       "1969         NaN               Tier 2  Supermarket Type1          2274.3728   \n",
       "7738      Medium               Tier 3  Supermarket Type2          2599.2832   \n",
       "4700         NaN               Tier 2  Supermarket Type1                NaN   \n",
       "7166       Small               Tier 1      Grocery Store           162.4552   \n",
       "\n",
       "     source Item_Identifier_2  \n",
       "1197  train                DR  \n",
       "1693  train                DR  \n",
       "3912   test                DR  \n",
       "1245  train                DR  \n",
       "500    test                DR  \n",
       "...     ...               ...  \n",
       "7926  train                NC  \n",
       "1969  train                NC  \n",
       "7738  train                NC  \n",
       "4700   test                NC  \n",
       "7166  train                NC  \n",
       "\n",
       "[14204 rows x 14 columns]"
      ]
     },
     "execution_count": 40,
     "metadata": {},
     "output_type": "execute_result"
    }
   ],
   "source": [
    "df.sort_values(by = ['Item_Identifier', 'Item_Visibility'])"
   ]
  },
  {
   "cell_type": "code",
   "execution_count": 41,
   "metadata": {},
   "outputs": [],
   "source": [
    "df.loc[df['Item_Visibility'] == 0.000000, 'Item_Visibility'] = np.NAN"
   ]
  },
  {
   "cell_type": "code",
   "execution_count": 42,
   "metadata": {},
   "outputs": [
    {
     "data": {
      "text/plain": [
       "879"
      ]
     },
     "execution_count": 42,
     "metadata": {},
     "output_type": "execute_result"
    }
   ],
   "source": [
    "df['Item_Visibility'].isna().sum()"
   ]
  },
  {
   "cell_type": "code",
   "execution_count": 43,
   "metadata": {},
   "outputs": [],
   "source": [
    "df['Item_Visibility'] = df.groupby('Item_Identifier_2').Item_Visibility.transform(lambda x: x.fillna(x.mean()))"
   ]
  },
  {
   "cell_type": "code",
   "execution_count": 44,
   "metadata": {},
   "outputs": [
    {
     "data": {
      "text/plain": [
       "<AxesSubplot:ylabel='Frequency'>"
      ]
     },
     "execution_count": 44,
     "metadata": {},
     "output_type": "execute_result"
    },
    {
     "data": {
      "image/png": "[encoded data removed]",
      "text/plain": [
       "<Figure size 432x288 with 1 Axes>"
      ]
     },
     "metadata": {
      "needs_background": "light"
     },
     "output_type": "display_data"
    }
   ],
   "source": [
    "df['Item_Visibility'].plot(kind = 'hist')"
   ]
  },
  {
   "cell_type": "code",
   "execution_count": 45,
   "metadata": {},
   "outputs": [
    {
     "data": {
      "text/html": [
       "<div>\n",
       "<style scoped>\n",
       "    .dataframe tbody tr th:only-of-type {\n",
       "        vertical-align: middle;\n",
       "    }\n",
       "\n",
       "    .dataframe tbody tr th {\n",
       "        vertical-align: top;\n",
       "    }\n",
       "\n",
       "    .dataframe thead th {\n",
       "        text-align: right;\n",
       "    }\n",
       "</style>\n",
       "<table border=\"1\" class=\"dataframe\">\n",
       "  <thead>\n",
       "    <tr style=\"text-align: right;\">\n",
       "      <th></th>\n",
       "      <th>Item_Identifier</th>\n",
       "      <th>Item_Weight</th>\n",
       "      <th>Item_Fat_Content</th>\n",
       "      <th>Item_Visibility</th>\n",
       "      <th>Item_Type</th>\n",
       "      <th>Item_MRP</th>\n",
       "      <th>Outlet_Identifier</th>\n",
       "      <th>Outlet_Establishment_Year</th>\n",
       "      <th>Outlet_Size</th>\n",
       "      <th>Outlet_Location_Type</th>\n",
       "      <th>Outlet_Type</th>\n",
       "      <th>Item_Outlet_Sales</th>\n",
       "      <th>source</th>\n",
       "      <th>Item_Identifier_2</th>\n",
       "    </tr>\n",
       "  </thead>\n",
       "  <tbody>\n",
       "    <tr>\n",
       "      <th>0</th>\n",
       "      <td>FDA15</td>\n",
       "      <td>9.30</td>\n",
       "      <td>Low Fat</td>\n",
       "      <td>0.016047</td>\n",
       "      <td>Dairy</td>\n",
       "      <td>249.8092</td>\n",
       "      <td>OUT049</td>\n",
       "      <td>1999</td>\n",
       "      <td>Medium</td>\n",
       "      <td>Tier 1</td>\n",
       "      <td>Supermarket Type1</td>\n",
       "      <td>3735.1380</td>\n",
       "      <td>train</td>\n",
       "      <td>FD</td>\n",
       "    </tr>\n",
       "    <tr>\n",
       "      <th>1</th>\n",
       "      <td>DRC01</td>\n",
       "      <td>5.92</td>\n",
       "      <td>Regular</td>\n",
       "      <td>0.019278</td>\n",
       "      <td>Soft Drinks</td>\n",
       "      <td>48.2692</td>\n",
       "      <td>OUT018</td>\n",
       "      <td>2009</td>\n",
       "      <td>Medium</td>\n",
       "      <td>Tier 3</td>\n",
       "      <td>Supermarket Type2</td>\n",
       "      <td>443.4228</td>\n",
       "      <td>train</td>\n",
       "      <td>DR</td>\n",
       "    </tr>\n",
       "    <tr>\n",
       "      <th>2</th>\n",
       "      <td>FDN15</td>\n",
       "      <td>17.50</td>\n",
       "      <td>Low Fat</td>\n",
       "      <td>0.016760</td>\n",
       "      <td>Meat</td>\n",
       "      <td>141.6180</td>\n",
       "      <td>OUT049</td>\n",
       "      <td>1999</td>\n",
       "      <td>Medium</td>\n",
       "      <td>Tier 1</td>\n",
       "      <td>Supermarket Type1</td>\n",
       "      <td>2097.2700</td>\n",
       "      <td>train</td>\n",
       "      <td>FD</td>\n",
       "    </tr>\n",
       "    <tr>\n",
       "      <th>3</th>\n",
       "      <td>FDX07</td>\n",
       "      <td>19.20</td>\n",
       "      <td>Regular</td>\n",
       "      <td>0.072558</td>\n",
       "      <td>Fruits and Vegetables</td>\n",
       "      <td>182.0950</td>\n",
       "      <td>OUT010</td>\n",
       "      <td>1998</td>\n",
       "      <td>NaN</td>\n",
       "      <td>Tier 3</td>\n",
       "      <td>Grocery Store</td>\n",
       "      <td>732.3800</td>\n",
       "      <td>train</td>\n",
       "      <td>FD</td>\n",
       "    </tr>\n",
       "    <tr>\n",
       "      <th>4</th>\n",
       "      <td>NCD19</td>\n",
       "      <td>8.93</td>\n",
       "      <td>Low Fat</td>\n",
       "      <td>0.062099</td>\n",
       "      <td>Household</td>\n",
       "      <td>53.8614</td>\n",
       "      <td>OUT013</td>\n",
       "      <td>1987</td>\n",
       "      <td>High</td>\n",
       "      <td>Tier 3</td>\n",
       "      <td>Supermarket Type1</td>\n",
       "      <td>994.7052</td>\n",
       "      <td>train</td>\n",
       "      <td>NC</td>\n",
       "    </tr>\n",
       "  </tbody>\n",
       "</table>\n",
       "</div>"
      ],
      "text/plain": [
       "  Item_Identifier  Item_Weight Item_Fat_Content  Item_Visibility  \\\n",
       "0           FDA15         9.30          Low Fat         0.016047   \n",
       "1           DRC01         5.92          Regular         0.019278   \n",
       "2           FDN15        17.50          Low Fat         0.016760   \n",
       "3           FDX07        19.20          Regular         0.072558   \n",
       "4           NCD19         8.93          Low Fat         0.062099   \n",
       "\n",
       "               Item_Type  Item_MRP Outlet_Identifier  \\\n",
       "0                  Dairy  249.8092            OUT049   \n",
       "1            Soft Drinks   48.2692            OUT018   \n",
       "2                   Meat  141.6180            OUT049   \n",
       "3  Fruits and Vegetables  182.0950            OUT010   \n",
       "4              Household   53.8614            OUT013   \n",
       "\n",
       "   Outlet_Establishment_Year Outlet_Size Outlet_Location_Type  \\\n",
       "0                       1999      Medium               Tier 1   \n",
       "1                       2009      Medium               Tier 3   \n",
       "2                       1999      Medium               Tier 1   \n",
       "3                       1998         NaN               Tier 3   \n",
       "4                       1987        High               Tier 3   \n",
       "\n",
       "         Outlet_Type  Item_Outlet_Sales source Item_Identifier_2  \n",
       "0  Supermarket Type1          3735.1380  train                FD  \n",
       "1  Supermarket Type2           443.4228  train                DR  \n",
       "2  Supermarket Type1          2097.2700  train                FD  \n",
       "3      Grocery Store           732.3800  train                FD  \n",
       "4  Supermarket Type1           994.7052  train                NC  "
      ]
     },
     "execution_count": 45,
     "metadata": {},
     "output_type": "execute_result"
    }
   ],
   "source": [
    "df.head()"
   ]
  },
  {
   "cell_type": "code",
   "execution_count": 46,
   "metadata": {},
   "outputs": [
    {
     "data": {
      "text/plain": [
       "Fruits and Vegetables    2013\n",
       "Snack Foods              1989\n",
       "Household                1548\n",
       "Frozen Foods             1426\n",
       "Dairy                    1136\n",
       "Baking Goods             1086\n",
       "Canned                   1084\n",
       "Health and Hygiene        858\n",
       "Meat                      736\n",
       "Soft Drinks               726\n",
       "Breads                    416\n",
       "Hard Drinks               362\n",
       "Others                    280\n",
       "Starchy Foods             269\n",
       "Breakfast                 186\n",
       "Seafood                    89\n",
       "Name: Item_Type, dtype: int64"
      ]
     },
     "execution_count": 46,
     "metadata": {},
     "output_type": "execute_result"
    }
   ],
   "source": [
    "df['Item_Type'].value_counts()"
   ]
  },
  {
   "cell_type": "code",
   "execution_count": 47,
   "metadata": {},
   "outputs": [
    {
     "data": {
      "text/plain": [
       "0"
      ]
     },
     "execution_count": 47,
     "metadata": {},
     "output_type": "execute_result"
    }
   ],
   "source": [
    "df['Outlet_Identifier'].isna().sum()"
   ]
  },
  {
   "cell_type": "code",
   "execution_count": 48,
   "metadata": {},
   "outputs": [
    {
     "data": {
      "text/plain": [
       "<AxesSubplot:ylabel='Frequency'>"
      ]
     },
     "execution_count": 48,
     "metadata": {},
     "output_type": "execute_result"
    },
    {
     "data": {
      "image/png": "[encoded data removed]",
      "text/plain": [
       "<Figure size 432x288 with 1 Axes>"
      ]
     },
     "metadata": {
      "needs_background": "light"
     },
     "output_type": "display_data"
    }
   ],
   "source": [
    "df['Item_MRP'].plot(kind = 'hist')"
   ]
  },
  {
   "cell_type": "code",
   "execution_count": 49,
   "metadata": {},
   "outputs": [
    {
     "data": {
      "text/plain": [
       "OUT027    1559\n",
       "OUT013    1553\n",
       "OUT046    1550\n",
       "OUT035    1550\n",
       "OUT049    1550\n",
       "OUT045    1548\n",
       "OUT018    1546\n",
       "OUT017    1543\n",
       "OUT010     925\n",
       "OUT019     880\n",
       "Name: Outlet_Identifier, dtype: int64"
      ]
     },
     "execution_count": 49,
     "metadata": {},
     "output_type": "execute_result"
    }
   ],
   "source": [
    "df['Outlet_Identifier'].value_counts()"
   ]
  },
  {
   "cell_type": "code",
   "execution_count": 50,
   "metadata": {},
   "outputs": [
    {
     "data": {
      "text/plain": [
       "1985    2439\n",
       "1987    1553\n",
       "2004    1550\n",
       "1997    1550\n",
       "1999    1550\n",
       "2002    1548\n",
       "2009    1546\n",
       "2007    1543\n",
       "1998     925\n",
       "Name: Outlet_Establishment_Year, dtype: int64"
      ]
     },
     "execution_count": 50,
     "metadata": {},
     "output_type": "execute_result"
    }
   ],
   "source": [
    "df['Outlet_Establishment_Year'].value_counts()"
   ]
  },
  {
   "cell_type": "code",
   "execution_count": 51,
   "metadata": {},
   "outputs": [
    {
     "data": {
      "text/plain": [
       "9"
      ]
     },
     "execution_count": 51,
     "metadata": {},
     "output_type": "execute_result"
    }
   ],
   "source": [
    "df['Outlet_Establishment_Year'].nunique()"
   ]
  },
  {
   "cell_type": "code",
   "execution_count": 52,
   "metadata": {},
   "outputs": [
    {
     "data": {
      "text/plain": [
       "Outlet_Establishment_Year  Outlet_Identifier\n",
       "1985                       OUT027               1559\n",
       "                           OUT019                880\n",
       "1987                       OUT013               1553\n",
       "1997                       OUT046               1550\n",
       "1998                       OUT010                925\n",
       "1999                       OUT049               1550\n",
       "2002                       OUT045               1548\n",
       "2004                       OUT035               1550\n",
       "2007                       OUT017               1543\n",
       "2009                       OUT018               1546\n",
       "Name: Outlet_Identifier, dtype: int64"
      ]
     },
     "execution_count": 52,
     "metadata": {},
     "output_type": "execute_result"
    }
   ],
   "source": [
    "df.groupby('Outlet_Establishment_Year')['Outlet_Identifier'].value_counts()"
   ]
  },
  {
   "cell_type": "code",
   "execution_count": 53,
   "metadata": {},
   "outputs": [
    {
     "data": {
      "text/plain": [
       "(2021, 4)"
      ]
     },
     "execution_count": 53,
     "metadata": {},
     "output_type": "execute_result"
    }
   ],
   "source": [
    "datetime.now().year, datetime.now().month"
   ]
  },
  {
   "cell_type": "code",
   "execution_count": 54,
   "metadata": {},
   "outputs": [],
   "source": [
    "df['Outlet_Age'] = datetime.now().year - df['Outlet_Establishment_Year']"
   ]
  },
  {
   "cell_type": "code",
   "execution_count": 55,
   "metadata": {},
   "outputs": [
    {
     "data": {
      "text/plain": [
       "36    2439\n",
       "34    1553\n",
       "24    1550\n",
       "17    1550\n",
       "22    1550\n",
       "19    1548\n",
       "12    1546\n",
       "14    1543\n",
       "23     925\n",
       "Name: Outlet_Age, dtype: int64"
      ]
     },
     "execution_count": 55,
     "metadata": {},
     "output_type": "execute_result"
    }
   ],
   "source": [
    "df['Outlet_Age'].value_counts()"
   ]
  },
  {
   "cell_type": "code",
   "execution_count": 56,
   "metadata": {},
   "outputs": [],
   "source": [
    "del df['Outlet_Establishment_Year']"
   ]
  },
  {
   "cell_type": "code",
   "execution_count": 57,
   "metadata": {},
   "outputs": [
    {
     "data": {
      "text/plain": [
       "Medium    4655\n",
       "Small     3980\n",
       "High      1553\n",
       "Name: Outlet_Size, dtype: int64"
      ]
     },
     "execution_count": 57,
     "metadata": {},
     "output_type": "execute_result"
    }
   ],
   "source": [
    "df['Outlet_Size'].value_counts()"
   ]
  },
  {
   "cell_type": "code",
   "execution_count": 58,
   "metadata": {},
   "outputs": [
    {
     "data": {
      "text/plain": [
       "4016"
      ]
     },
     "execution_count": 58,
     "metadata": {},
     "output_type": "execute_result"
    }
   ],
   "source": [
    "df['Outlet_Size'].isna().sum()"
   ]
  },
  {
   "cell_type": "code",
   "execution_count": 59,
   "metadata": {},
   "outputs": [
    {
     "data": {
      "text/plain": [
       "Outlet_Identifier  Outlet_Size\n",
       "OUT013             High           1553\n",
       "OUT018             Medium         1546\n",
       "OUT019             Small           880\n",
       "OUT027             Medium         1559\n",
       "OUT035             Small          1550\n",
       "OUT046             Small          1550\n",
       "OUT049             Medium         1550\n",
       "Name: Outlet_Size, dtype: int64"
      ]
     },
     "execution_count": 59,
     "metadata": {},
     "output_type": "execute_result"
    }
   ],
   "source": [
    "df.groupby('Outlet_Identifier')['Outlet_Size'].value_counts()"
   ]
  },
  {
   "cell_type": "code",
   "execution_count": 60,
   "metadata": {},
   "outputs": [
    {
     "data": {
      "text/plain": [
       "array(['Tier 1', 'Tier 3', 'Tier 2'], dtype=object)"
      ]
     },
     "execution_count": 60,
     "metadata": {},
     "output_type": "execute_result"
    }
   ],
   "source": [
    "df['Outlet_Location_Type'].unique()"
   ]
  },
  {
   "cell_type": "code",
   "execution_count": 61,
   "metadata": {},
   "outputs": [
    {
     "data": {
      "text/plain": [
       "Outlet_Location_Type  Outlet_Size\n",
       "Tier 1                Small          2430\n",
       "                      Medium         1550\n",
       "Tier 2                Small          1550\n",
       "Tier 3                Medium         3105\n",
       "                      High           1553\n",
       "Name: Outlet_Size, dtype: int64"
      ]
     },
     "execution_count": 61,
     "metadata": {},
     "output_type": "execute_result"
    }
   ],
   "source": [
    "df.groupby('Outlet_Location_Type')['Outlet_Size'].value_counts()"
   ]
  },
  {
   "cell_type": "code",
   "execution_count": 62,
   "metadata": {},
   "outputs": [
    {
     "data": {
      "text/plain": [
       "Outlet_Location_Type  Outlet_Type        Outlet_Size\n",
       "Tier 1                Grocery Store      Small           880\n",
       "                      Supermarket Type1  Medium         1550\n",
       "                                         Small          1550\n",
       "Tier 2                Supermarket Type1  Small          1550\n",
       "Tier 3                Supermarket Type1  High           1553\n",
       "                      Supermarket Type2  Medium         1546\n",
       "                      Supermarket Type3  Medium         1559\n",
       "Name: Outlet_Size, dtype: int64"
      ]
     },
     "execution_count": 62,
     "metadata": {},
     "output_type": "execute_result"
    }
   ],
   "source": [
    "df.groupby(['Outlet_Location_Type', 'Outlet_Type']).Outlet_Size.value_counts()"
   ]
  },
  {
   "cell_type": "code",
   "execution_count": 63,
   "metadata": {},
   "outputs": [
    {
     "data": {
      "text/plain": [
       "Outlet_Location_Type  Outlet_Type        Outlet_Size  Item_Weight\n",
       "Tier 1                Grocery Store      Small        12.735577       637\n",
       "                                                      13.344139       168\n",
       "                                                      12.116645        75\n",
       "                      Supermarket Type1  Medium       17.600000        18\n",
       "                                                      12.150000        17\n",
       "                                                                     ... \n",
       "Tier 3                Supermarket Type2  Medium       9.420000          1\n",
       "                                                      21.000000         1\n",
       "                      Supermarket Type3  Medium       12.735577      1119\n",
       "                                                      13.344139       295\n",
       "                                                      12.116645       145\n",
       "Name: Item_Weight, Length: 2076, dtype: int64"
      ]
     },
     "execution_count": 63,
     "metadata": {},
     "output_type": "execute_result"
    }
   ],
   "source": [
    "df.groupby(['Outlet_Location_Type', 'Outlet_Type', 'Outlet_Size']).Item_Weight.value_counts()"
   ]
  },
  {
   "cell_type": "code",
   "execution_count": 64,
   "metadata": {},
   "outputs": [
    {
     "data": {
      "text/plain": [
       "Outlet_Type        Outlet_Size\n",
       "Grocery Store      Small           880\n",
       "Supermarket Type1  Small          3100\n",
       "                   High           1553\n",
       "                   Medium         1550\n",
       "Supermarket Type2  Medium         1546\n",
       "Supermarket Type3  Medium         1559\n",
       "Name: Outlet_Size, dtype: int64"
      ]
     },
     "execution_count": 64,
     "metadata": {},
     "output_type": "execute_result"
    }
   ],
   "source": [
    "df.groupby(['Outlet_Type']).Outlet_Size.value_counts()"
   ]
  },
  {
   "cell_type": "code",
   "execution_count": 65,
   "metadata": {},
   "outputs": [
    {
     "data": {
      "text/html": [
       "<div>\n",
       "<style scoped>\n",
       "    .dataframe tbody tr th:only-of-type {\n",
       "        vertical-align: middle;\n",
       "    }\n",
       "\n",
       "    .dataframe tbody tr th {\n",
       "        vertical-align: top;\n",
       "    }\n",
       "\n",
       "    .dataframe thead th {\n",
       "        text-align: right;\n",
       "    }\n",
       "</style>\n",
       "<table border=\"1\" class=\"dataframe\">\n",
       "  <thead>\n",
       "    <tr style=\"text-align: right;\">\n",
       "      <th></th>\n",
       "      <th>Item_Identifier</th>\n",
       "      <th>Item_Weight</th>\n",
       "      <th>Item_Fat_Content</th>\n",
       "      <th>Item_Visibility</th>\n",
       "      <th>Item_Type</th>\n",
       "      <th>Item_MRP</th>\n",
       "      <th>Outlet_Identifier</th>\n",
       "      <th>Outlet_Size</th>\n",
       "      <th>Outlet_Location_Type</th>\n",
       "      <th>Outlet_Type</th>\n",
       "      <th>Item_Outlet_Sales</th>\n",
       "      <th>source</th>\n",
       "      <th>Item_Identifier_2</th>\n",
       "      <th>Outlet_Age</th>\n",
       "    </tr>\n",
       "  </thead>\n",
       "  <tbody>\n",
       "    <tr>\n",
       "      <th>0</th>\n",
       "      <td>FDA15</td>\n",
       "      <td>9.30</td>\n",
       "      <td>Low Fat</td>\n",
       "      <td>0.016047</td>\n",
       "      <td>Dairy</td>\n",
       "      <td>249.8092</td>\n",
       "      <td>OUT049</td>\n",
       "      <td>Medium</td>\n",
       "      <td>Tier 1</td>\n",
       "      <td>Supermarket Type1</td>\n",
       "      <td>3735.1380</td>\n",
       "      <td>train</td>\n",
       "      <td>FD</td>\n",
       "      <td>22</td>\n",
       "    </tr>\n",
       "    <tr>\n",
       "      <th>1</th>\n",
       "      <td>DRC01</td>\n",
       "      <td>5.92</td>\n",
       "      <td>Regular</td>\n",
       "      <td>0.019278</td>\n",
       "      <td>Soft Drinks</td>\n",
       "      <td>48.2692</td>\n",
       "      <td>OUT018</td>\n",
       "      <td>Medium</td>\n",
       "      <td>Tier 3</td>\n",
       "      <td>Supermarket Type2</td>\n",
       "      <td>443.4228</td>\n",
       "      <td>train</td>\n",
       "      <td>DR</td>\n",
       "      <td>12</td>\n",
       "    </tr>\n",
       "    <tr>\n",
       "      <th>2</th>\n",
       "      <td>FDN15</td>\n",
       "      <td>17.50</td>\n",
       "      <td>Low Fat</td>\n",
       "      <td>0.016760</td>\n",
       "      <td>Meat</td>\n",
       "      <td>141.6180</td>\n",
       "      <td>OUT049</td>\n",
       "      <td>Medium</td>\n",
       "      <td>Tier 1</td>\n",
       "      <td>Supermarket Type1</td>\n",
       "      <td>2097.2700</td>\n",
       "      <td>train</td>\n",
       "      <td>FD</td>\n",
       "      <td>22</td>\n",
       "    </tr>\n",
       "  </tbody>\n",
       "</table>\n",
       "</div>"
      ],
      "text/plain": [
       "  Item_Identifier  Item_Weight Item_Fat_Content  Item_Visibility    Item_Type  \\\n",
       "0           FDA15         9.30          Low Fat         0.016047        Dairy   \n",
       "1           DRC01         5.92          Regular         0.019278  Soft Drinks   \n",
       "2           FDN15        17.50          Low Fat         0.016760         Meat   \n",
       "\n",
       "   Item_MRP Outlet_Identifier Outlet_Size Outlet_Location_Type  \\\n",
       "0  249.8092            OUT049      Medium               Tier 1   \n",
       "1   48.2692            OUT018      Medium               Tier 3   \n",
       "2  141.6180            OUT049      Medium               Tier 1   \n",
       "\n",
       "         Outlet_Type  Item_Outlet_Sales source Item_Identifier_2  Outlet_Age  \n",
       "0  Supermarket Type1          3735.1380  train                FD          22  \n",
       "1  Supermarket Type2           443.4228  train                DR          12  \n",
       "2  Supermarket Type1          2097.2700  train                FD          22  "
      ]
     },
     "execution_count": 65,
     "metadata": {},
     "output_type": "execute_result"
    }
   ],
   "source": [
    "df[:3]"
   ]
  },
  {
   "cell_type": "code",
   "execution_count": 66,
   "metadata": {},
   "outputs": [
    {
     "data": {
      "text/plain": [
       "'Medium'"
      ]
     },
     "execution_count": 66,
     "metadata": {},
     "output_type": "execute_result"
    }
   ],
   "source": [
    "df['Outlet_Size'].mode()[0]"
   ]
  },
  {
   "cell_type": "code",
   "execution_count": 67,
   "metadata": {},
   "outputs": [],
   "source": [
    "# df.groupby('Outlet_Location_Type').Outlet_Size.transform(lambda x: x.fillna(x.mode()[0]))"
   ]
  },
  {
   "cell_type": "code",
   "execution_count": 68,
   "metadata": {},
   "outputs": [],
   "source": [
    "df['Outlet_Size'] = df.groupby('Outlet_Location_Type').Outlet_Size.transform(lambda x: x.fillna(x.mode()[0]))"
   ]
  },
  {
   "cell_type": "code",
   "execution_count": 69,
   "metadata": {},
   "outputs": [
    {
     "data": {
      "text/plain": [
       "0"
      ]
     },
     "execution_count": 69,
     "metadata": {},
     "output_type": "execute_result"
    }
   ],
   "source": [
    "df['Outlet_Size'].isna().sum()"
   ]
  },
  {
   "cell_type": "code",
   "execution_count": 70,
   "metadata": {},
   "outputs": [
    {
     "data": {
      "text/plain": [
       "Supermarket Type1    9294\n",
       "Grocery Store        1805\n",
       "Supermarket Type3    1559\n",
       "Supermarket Type2    1546\n",
       "Name: Outlet_Type, dtype: int64"
      ]
     },
     "execution_count": 70,
     "metadata": {},
     "output_type": "execute_result"
    }
   ],
   "source": [
    "df['Outlet_Type'].value_counts()"
   ]
  },
  {
   "cell_type": "code",
   "execution_count": 71,
   "metadata": {},
   "outputs": [
    {
     "data": {
      "text/plain": [
       "0    Supermarket\n",
       "1    Supermarket\n",
       "2    Supermarket\n",
       "3        Grocery\n",
       "4    Supermarket\n",
       "Name: Outlet_Type, dtype: object"
      ]
     },
     "execution_count": 71,
     "metadata": {},
     "output_type": "execute_result"
    }
   ],
   "source": [
    "df['Outlet_Type'].apply(lambda x: x.split()[0])[:5]"
   ]
  },
  {
   "cell_type": "code",
   "execution_count": 72,
   "metadata": {},
   "outputs": [],
   "source": [
    "df['Outlet_Type_Category'] =  df['Outlet_Type'].apply(lambda x: x.split()[0])"
   ]
  },
  {
   "cell_type": "code",
   "execution_count": 73,
   "metadata": {},
   "outputs": [
    {
     "data": {
      "text/html": [
       "<div>\n",
       "<style scoped>\n",
       "    .dataframe tbody tr th:only-of-type {\n",
       "        vertical-align: middle;\n",
       "    }\n",
       "\n",
       "    .dataframe tbody tr th {\n",
       "        vertical-align: top;\n",
       "    }\n",
       "\n",
       "    .dataframe thead th {\n",
       "        text-align: right;\n",
       "    }\n",
       "</style>\n",
       "<table border=\"1\" class=\"dataframe\">\n",
       "  <thead>\n",
       "    <tr style=\"text-align: right;\">\n",
       "      <th></th>\n",
       "      <th>Item_Identifier</th>\n",
       "      <th>Item_Weight</th>\n",
       "      <th>Item_Fat_Content</th>\n",
       "      <th>Item_Visibility</th>\n",
       "      <th>Item_Type</th>\n",
       "      <th>Item_MRP</th>\n",
       "      <th>Outlet_Identifier</th>\n",
       "      <th>Outlet_Size</th>\n",
       "      <th>Outlet_Location_Type</th>\n",
       "      <th>Outlet_Type</th>\n",
       "      <th>Item_Outlet_Sales</th>\n",
       "      <th>source</th>\n",
       "      <th>Item_Identifier_2</th>\n",
       "      <th>Outlet_Age</th>\n",
       "      <th>Outlet_Type_Category</th>\n",
       "    </tr>\n",
       "  </thead>\n",
       "  <tbody>\n",
       "    <tr>\n",
       "      <th>0</th>\n",
       "      <td>FDA15</td>\n",
       "      <td>9.30</td>\n",
       "      <td>Low Fat</td>\n",
       "      <td>0.016047</td>\n",
       "      <td>Dairy</td>\n",
       "      <td>249.8092</td>\n",
       "      <td>OUT049</td>\n",
       "      <td>Medium</td>\n",
       "      <td>Tier 1</td>\n",
       "      <td>Supermarket Type1</td>\n",
       "      <td>3735.1380</td>\n",
       "      <td>train</td>\n",
       "      <td>FD</td>\n",
       "      <td>22</td>\n",
       "      <td>Supermarket</td>\n",
       "    </tr>\n",
       "    <tr>\n",
       "      <th>1</th>\n",
       "      <td>DRC01</td>\n",
       "      <td>5.92</td>\n",
       "      <td>Regular</td>\n",
       "      <td>0.019278</td>\n",
       "      <td>Soft Drinks</td>\n",
       "      <td>48.2692</td>\n",
       "      <td>OUT018</td>\n",
       "      <td>Medium</td>\n",
       "      <td>Tier 3</td>\n",
       "      <td>Supermarket Type2</td>\n",
       "      <td>443.4228</td>\n",
       "      <td>train</td>\n",
       "      <td>DR</td>\n",
       "      <td>12</td>\n",
       "      <td>Supermarket</td>\n",
       "    </tr>\n",
       "    <tr>\n",
       "      <th>2</th>\n",
       "      <td>FDN15</td>\n",
       "      <td>17.50</td>\n",
       "      <td>Low Fat</td>\n",
       "      <td>0.016760</td>\n",
       "      <td>Meat</td>\n",
       "      <td>141.6180</td>\n",
       "      <td>OUT049</td>\n",
       "      <td>Medium</td>\n",
       "      <td>Tier 1</td>\n",
       "      <td>Supermarket Type1</td>\n",
       "      <td>2097.2700</td>\n",
       "      <td>train</td>\n",
       "      <td>FD</td>\n",
       "      <td>22</td>\n",
       "      <td>Supermarket</td>\n",
       "    </tr>\n",
       "    <tr>\n",
       "      <th>3</th>\n",
       "      <td>FDX07</td>\n",
       "      <td>19.20</td>\n",
       "      <td>Regular</td>\n",
       "      <td>0.072558</td>\n",
       "      <td>Fruits and Vegetables</td>\n",
       "      <td>182.0950</td>\n",
       "      <td>OUT010</td>\n",
       "      <td>Medium</td>\n",
       "      <td>Tier 3</td>\n",
       "      <td>Grocery Store</td>\n",
       "      <td>732.3800</td>\n",
       "      <td>train</td>\n",
       "      <td>FD</td>\n",
       "      <td>23</td>\n",
       "      <td>Grocery</td>\n",
       "    </tr>\n",
       "    <tr>\n",
       "      <th>4</th>\n",
       "      <td>NCD19</td>\n",
       "      <td>8.93</td>\n",
       "      <td>Low Fat</td>\n",
       "      <td>0.062099</td>\n",
       "      <td>Household</td>\n",
       "      <td>53.8614</td>\n",
       "      <td>OUT013</td>\n",
       "      <td>High</td>\n",
       "      <td>Tier 3</td>\n",
       "      <td>Supermarket Type1</td>\n",
       "      <td>994.7052</td>\n",
       "      <td>train</td>\n",
       "      <td>NC</td>\n",
       "      <td>34</td>\n",
       "      <td>Supermarket</td>\n",
       "    </tr>\n",
       "  </tbody>\n",
       "</table>\n",
       "</div>"
      ],
      "text/plain": [
       "  Item_Identifier  Item_Weight Item_Fat_Content  Item_Visibility  \\\n",
       "0           FDA15         9.30          Low Fat         0.016047   \n",
       "1           DRC01         5.92          Regular         0.019278   \n",
       "2           FDN15        17.50          Low Fat         0.016760   \n",
       "3           FDX07        19.20          Regular         0.072558   \n",
       "4           NCD19         8.93          Low Fat         0.062099   \n",
       "\n",
       "               Item_Type  Item_MRP Outlet_Identifier Outlet_Size  \\\n",
       "0                  Dairy  249.8092            OUT049      Medium   \n",
       "1            Soft Drinks   48.2692            OUT018      Medium   \n",
       "2                   Meat  141.6180            OUT049      Medium   \n",
       "3  Fruits and Vegetables  182.0950            OUT010      Medium   \n",
       "4              Household   53.8614            OUT013        High   \n",
       "\n",
       "  Outlet_Location_Type        Outlet_Type  Item_Outlet_Sales source  \\\n",
       "0               Tier 1  Supermarket Type1          3735.1380  train   \n",
       "1               Tier 3  Supermarket Type2           443.4228  train   \n",
       "2               Tier 1  Supermarket Type1          2097.2700  train   \n",
       "3               Tier 3      Grocery Store           732.3800  train   \n",
       "4               Tier 3  Supermarket Type1           994.7052  train   \n",
       "\n",
       "  Item_Identifier_2  Outlet_Age Outlet_Type_Category  \n",
       "0                FD          22          Supermarket  \n",
       "1                DR          12          Supermarket  \n",
       "2                FD          22          Supermarket  \n",
       "3                FD          23              Grocery  \n",
       "4                NC          34          Supermarket  "
      ]
     },
     "execution_count": 73,
     "metadata": {},
     "output_type": "execute_result"
    }
   ],
   "source": [
    "df.head()"
   ]
  },
  {
   "cell_type": "code",
   "execution_count": 74,
   "metadata": {},
   "outputs": [
    {
     "data": {
      "text/plain": [
       "Supermarket    12399\n",
       "Grocery         1805\n",
       "Name: Outlet_Type_Category, dtype: int64"
      ]
     },
     "execution_count": 74,
     "metadata": {},
     "output_type": "execute_result"
    }
   ],
   "source": [
    "df['Outlet_Type_Category'].value_counts()"
   ]
  },
  {
   "cell_type": "code",
   "execution_count": 75,
   "metadata": {},
   "outputs": [
    {
     "data": {
      "text/html": [
       "<div>\n",
       "<style scoped>\n",
       "    .dataframe tbody tr th:only-of-type {\n",
       "        vertical-align: middle;\n",
       "    }\n",
       "\n",
       "    .dataframe tbody tr th {\n",
       "        vertical-align: top;\n",
       "    }\n",
       "\n",
       "    .dataframe thead th {\n",
       "        text-align: right;\n",
       "    }\n",
       "</style>\n",
       "<table border=\"1\" class=\"dataframe\">\n",
       "  <thead>\n",
       "    <tr style=\"text-align: right;\">\n",
       "      <th></th>\n",
       "      <th>Item_Weight</th>\n",
       "      <th>Item_Visibility</th>\n",
       "      <th>Item_MRP</th>\n",
       "      <th>Item_Outlet_Sales</th>\n",
       "      <th>Outlet_Age</th>\n",
       "    </tr>\n",
       "  </thead>\n",
       "  <tbody>\n",
       "    <tr>\n",
       "      <th>Item_Weight</th>\n",
       "      <td>1.000000</td>\n",
       "      <td>-0.016502</td>\n",
       "      <td>0.033206</td>\n",
       "      <td>0.011182</td>\n",
       "      <td>-0.000312</td>\n",
       "    </tr>\n",
       "    <tr>\n",
       "      <th>Item_Visibility</th>\n",
       "      <td>-0.016502</td>\n",
       "      <td>1.000000</td>\n",
       "      <td>-0.008853</td>\n",
       "      <td>-0.133754</td>\n",
       "      <td>0.088624</td>\n",
       "    </tr>\n",
       "    <tr>\n",
       "      <th>Item_MRP</th>\n",
       "      <td>0.033206</td>\n",
       "      <td>-0.008853</td>\n",
       "      <td>1.000000</td>\n",
       "      <td>0.567574</td>\n",
       "      <td>-0.000141</td>\n",
       "    </tr>\n",
       "    <tr>\n",
       "      <th>Item_Outlet_Sales</th>\n",
       "      <td>0.011182</td>\n",
       "      <td>-0.133754</td>\n",
       "      <td>0.567574</td>\n",
       "      <td>1.000000</td>\n",
       "      <td>0.049135</td>\n",
       "    </tr>\n",
       "    <tr>\n",
       "      <th>Outlet_Age</th>\n",
       "      <td>-0.000312</td>\n",
       "      <td>0.088624</td>\n",
       "      <td>-0.000141</td>\n",
       "      <td>0.049135</td>\n",
       "      <td>1.000000</td>\n",
       "    </tr>\n",
       "  </tbody>\n",
       "</table>\n",
       "</div>"
      ],
      "text/plain": [
       "                   Item_Weight  Item_Visibility  Item_MRP  Item_Outlet_Sales  \\\n",
       "Item_Weight           1.000000        -0.016502  0.033206           0.011182   \n",
       "Item_Visibility      -0.016502         1.000000 -0.008853          -0.133754   \n",
       "Item_MRP              0.033206        -0.008853  1.000000           0.567574   \n",
       "Item_Outlet_Sales     0.011182        -0.133754  0.567574           1.000000   \n",
       "Outlet_Age           -0.000312         0.088624 -0.000141           0.049135   \n",
       "\n",
       "                   Outlet_Age  \n",
       "Item_Weight         -0.000312  \n",
       "Item_Visibility      0.088624  \n",
       "Item_MRP            -0.000141  \n",
       "Item_Outlet_Sales    0.049135  \n",
       "Outlet_Age           1.000000  "
      ]
     },
     "execution_count": 75,
     "metadata": {},
     "output_type": "execute_result"
    }
   ],
   "source": [
    "df.corr()"
   ]
  },
  {
   "cell_type": "code",
   "execution_count": 76,
   "metadata": {},
   "outputs": [],
   "source": [
    "X = df.select_dtypes(include=np.number).drop(columns=['Item_Outlet_Sales'])"
   ]
  },
  {
   "cell_type": "code",
   "execution_count": 77,
   "metadata": {},
   "outputs": [
    {
     "data": {
      "text/html": [
       "<div>\n",
       "<style scoped>\n",
       "    .dataframe tbody tr th:only-of-type {\n",
       "        vertical-align: middle;\n",
       "    }\n",
       "\n",
       "    .dataframe tbody tr th {\n",
       "        vertical-align: top;\n",
       "    }\n",
       "\n",
       "    .dataframe thead th {\n",
       "        text-align: right;\n",
       "    }\n",
       "</style>\n",
       "<table border=\"1\" class=\"dataframe\">\n",
       "  <thead>\n",
       "    <tr style=\"text-align: right;\">\n",
       "      <th></th>\n",
       "      <th>Item_Weight</th>\n",
       "      <th>Item_Visibility</th>\n",
       "      <th>Item_MRP</th>\n",
       "      <th>Outlet_Age</th>\n",
       "    </tr>\n",
       "  </thead>\n",
       "  <tbody>\n",
       "    <tr>\n",
       "      <th>0</th>\n",
       "      <td>9.30</td>\n",
       "      <td>0.016047</td>\n",
       "      <td>249.8092</td>\n",
       "      <td>22</td>\n",
       "    </tr>\n",
       "    <tr>\n",
       "      <th>1</th>\n",
       "      <td>5.92</td>\n",
       "      <td>0.019278</td>\n",
       "      <td>48.2692</td>\n",
       "      <td>12</td>\n",
       "    </tr>\n",
       "    <tr>\n",
       "      <th>2</th>\n",
       "      <td>17.50</td>\n",
       "      <td>0.016760</td>\n",
       "      <td>141.6180</td>\n",
       "      <td>22</td>\n",
       "    </tr>\n",
       "    <tr>\n",
       "      <th>3</th>\n",
       "      <td>19.20</td>\n",
       "      <td>0.072558</td>\n",
       "      <td>182.0950</td>\n",
       "      <td>23</td>\n",
       "    </tr>\n",
       "  </tbody>\n",
       "</table>\n",
       "</div>"
      ],
      "text/plain": [
       "   Item_Weight  Item_Visibility  Item_MRP  Outlet_Age\n",
       "0         9.30         0.016047  249.8092          22\n",
       "1         5.92         0.019278   48.2692          12\n",
       "2        17.50         0.016760  141.6180          22\n",
       "3        19.20         0.072558  182.0950          23"
      ]
     },
     "execution_count": 77,
     "metadata": {},
     "output_type": "execute_result"
    }
   ],
   "source": [
    "X[:4]"
   ]
  },
  {
   "cell_type": "code",
   "execution_count": 78,
   "metadata": {},
   "outputs": [
    {
     "data": {
      "text/plain": [
       "Index(['Item_Weight', 'Item_Visibility', 'Item_MRP', 'Outlet_Age'], dtype='object')"
      ]
     },
     "execution_count": 78,
     "metadata": {},
     "output_type": "execute_result"
    }
   ],
   "source": [
    "X.columns"
   ]
  },
  {
   "cell_type": "code",
   "execution_count": 79,
   "metadata": {},
   "outputs": [],
   "source": [
    "vif_data = pd.DataFrame()\n"
   ]
  },
  {
   "cell_type": "code",
   "execution_count": 80,
   "metadata": {},
   "outputs": [
    {
     "data": {
      "text/html": [
       "<div>\n",
       "<style scoped>\n",
       "    .dataframe tbody tr th:only-of-type {\n",
       "        vertical-align: middle;\n",
       "    }\n",
       "\n",
       "    .dataframe tbody tr th {\n",
       "        vertical-align: top;\n",
       "    }\n",
       "\n",
       "    .dataframe thead th {\n",
       "        text-align: right;\n",
       "    }\n",
       "</style>\n",
       "<table border=\"1\" class=\"dataframe\">\n",
       "  <thead>\n",
       "    <tr style=\"text-align: right;\">\n",
       "      <th></th>\n",
       "    </tr>\n",
       "  </thead>\n",
       "  <tbody>\n",
       "  </tbody>\n",
       "</table>\n",
       "</div>"
      ],
      "text/plain": [
       "Empty DataFrame\n",
       "Columns: []\n",
       "Index: []"
      ]
     },
     "execution_count": 80,
     "metadata": {},
     "output_type": "execute_result"
    }
   ],
   "source": [
    "vif_data"
   ]
  },
  {
   "cell_type": "code",
   "execution_count": 81,
   "metadata": {},
   "outputs": [],
   "source": [
    "vif_data['Feature'] = X.columns"
   ]
  },
  {
   "cell_type": "code",
   "execution_count": 82,
   "metadata": {},
   "outputs": [
    {
     "data": {
      "text/html": [
       "<div>\n",
       "<style scoped>\n",
       "    .dataframe tbody tr th:only-of-type {\n",
       "        vertical-align: middle;\n",
       "    }\n",
       "\n",
       "    .dataframe tbody tr th {\n",
       "        vertical-align: top;\n",
       "    }\n",
       "\n",
       "    .dataframe thead th {\n",
       "        text-align: right;\n",
       "    }\n",
       "</style>\n",
       "<table border=\"1\" class=\"dataframe\">\n",
       "  <thead>\n",
       "    <tr style=\"text-align: right;\">\n",
       "      <th></th>\n",
       "      <th>Feature</th>\n",
       "    </tr>\n",
       "  </thead>\n",
       "  <tbody>\n",
       "    <tr>\n",
       "      <th>0</th>\n",
       "      <td>Item_Weight</td>\n",
       "    </tr>\n",
       "    <tr>\n",
       "      <th>1</th>\n",
       "      <td>Item_Visibility</td>\n",
       "    </tr>\n",
       "    <tr>\n",
       "      <th>2</th>\n",
       "      <td>Item_MRP</td>\n",
       "    </tr>\n",
       "    <tr>\n",
       "      <th>3</th>\n",
       "      <td>Outlet_Age</td>\n",
       "    </tr>\n",
       "  </tbody>\n",
       "</table>\n",
       "</div>"
      ],
      "text/plain": [
       "           Feature\n",
       "0      Item_Weight\n",
       "1  Item_Visibility\n",
       "2         Item_MRP\n",
       "3       Outlet_Age"
      ]
     },
     "execution_count": 82,
     "metadata": {},
     "output_type": "execute_result"
    }
   ],
   "source": [
    "vif_data"
   ]
  },
  {
   "cell_type": "code",
   "execution_count": 83,
   "metadata": {},
   "outputs": [],
   "source": [
    "vif_data['VIF'] = [variance_inflation_factor(X.values, i) for i in range(len(X.columns))]"
   ]
  },
  {
   "cell_type": "code",
   "execution_count": 84,
   "metadata": {},
   "outputs": [
    {
     "data": {
      "text/plain": [
       "[0, 1, 2, 3]"
      ]
     },
     "execution_count": 84,
     "metadata": {},
     "output_type": "execute_result"
    }
   ],
   "source": [
    "list(range(len(X.columns)))"
   ]
  },
  {
   "cell_type": "code",
   "execution_count": 85,
   "metadata": {},
   "outputs": [
    {
     "data": {
      "text/html": [
       "<div>\n",
       "<style scoped>\n",
       "    .dataframe tbody tr th:only-of-type {\n",
       "        vertical-align: middle;\n",
       "    }\n",
       "\n",
       "    .dataframe tbody tr th {\n",
       "        vertical-align: top;\n",
       "    }\n",
       "\n",
       "    .dataframe thead th {\n",
       "        text-align: right;\n",
       "    }\n",
       "</style>\n",
       "<table border=\"1\" class=\"dataframe\">\n",
       "  <thead>\n",
       "    <tr style=\"text-align: right;\">\n",
       "      <th></th>\n",
       "      <th>Feature</th>\n",
       "      <th>VIF</th>\n",
       "    </tr>\n",
       "  </thead>\n",
       "  <tbody>\n",
       "    <tr>\n",
       "      <th>0</th>\n",
       "      <td>Item_Weight</td>\n",
       "      <td>6.436093</td>\n",
       "    </tr>\n",
       "    <tr>\n",
       "      <th>1</th>\n",
       "      <td>Item_Visibility</td>\n",
       "      <td>2.908423</td>\n",
       "    </tr>\n",
       "    <tr>\n",
       "      <th>2</th>\n",
       "      <td>Item_MRP</td>\n",
       "      <td>4.947795</td>\n",
       "    </tr>\n",
       "    <tr>\n",
       "      <th>3</th>\n",
       "      <td>Outlet_Age</td>\n",
       "      <td>6.197776</td>\n",
       "    </tr>\n",
       "  </tbody>\n",
       "</table>\n",
       "</div>"
      ],
      "text/plain": [
       "           Feature       VIF\n",
       "0      Item_Weight  6.436093\n",
       "1  Item_Visibility  2.908423\n",
       "2         Item_MRP  4.947795\n",
       "3       Outlet_Age  6.197776"
      ]
     },
     "execution_count": 85,
     "metadata": {},
     "output_type": "execute_result"
    }
   ],
   "source": [
    "vif_data"
   ]
  },
  {
   "cell_type": "code",
   "execution_count": 86,
   "metadata": {},
   "outputs": [],
   "source": [
    "df_number_columns = df.select_dtypes(include=np.number).columns"
   ]
  },
  {
   "cell_type": "code",
   "execution_count": 87,
   "metadata": {},
   "outputs": [
    {
     "data": {
      "text/plain": [
       "Index(['Item_Weight', 'Item_Visibility', 'Item_MRP', 'Item_Outlet_Sales',\n",
       "       'Outlet_Age'],\n",
       "      dtype='object')"
      ]
     },
     "execution_count": 87,
     "metadata": {},
     "output_type": "execute_result"
    }
   ],
   "source": [
    "df_number_columns"
   ]
  },
  {
   "cell_type": "code",
   "execution_count": 88,
   "metadata": {},
   "outputs": [],
   "source": [
    "df_category_columns = df.select_dtypes(exclude=np.number).columns"
   ]
  },
  {
   "cell_type": "code",
   "execution_count": 89,
   "metadata": {},
   "outputs": [
    {
     "data": {
      "text/plain": [
       "Index(['Item_Identifier', 'Item_Fat_Content', 'Item_Type', 'Outlet_Identifier',\n",
       "       'Outlet_Size', 'Outlet_Location_Type', 'Outlet_Type', 'source',\n",
       "       'Item_Identifier_2', 'Outlet_Type_Category'],\n",
       "      dtype='object')"
      ]
     },
     "execution_count": 89,
     "metadata": {},
     "output_type": "execute_result"
    }
   ],
   "source": [
    "df_category_columns"
   ]
  },
  {
   "cell_type": "code",
   "execution_count": 90,
   "metadata": {},
   "outputs": [
    {
     "data": {
      "text/html": [
       "<div>\n",
       "<style scoped>\n",
       "    .dataframe tbody tr th:only-of-type {\n",
       "        vertical-align: middle;\n",
       "    }\n",
       "\n",
       "    .dataframe tbody tr th {\n",
       "        vertical-align: top;\n",
       "    }\n",
       "\n",
       "    .dataframe thead th {\n",
       "        text-align: right;\n",
       "    }\n",
       "</style>\n",
       "<table border=\"1\" class=\"dataframe\">\n",
       "  <thead>\n",
       "    <tr style=\"text-align: right;\">\n",
       "      <th></th>\n",
       "      <th>Item_Identifier</th>\n",
       "      <th>Item_Weight</th>\n",
       "      <th>Item_Fat_Content</th>\n",
       "      <th>Item_Visibility</th>\n",
       "      <th>Item_Type</th>\n",
       "      <th>Item_MRP</th>\n",
       "      <th>Outlet_Identifier</th>\n",
       "      <th>Outlet_Size</th>\n",
       "      <th>Outlet_Location_Type</th>\n",
       "      <th>Outlet_Type</th>\n",
       "      <th>Item_Outlet_Sales</th>\n",
       "      <th>source</th>\n",
       "      <th>Item_Identifier_2</th>\n",
       "      <th>Outlet_Age</th>\n",
       "      <th>Outlet_Type_Category</th>\n",
       "    </tr>\n",
       "  </thead>\n",
       "  <tbody>\n",
       "    <tr>\n",
       "      <th>0</th>\n",
       "      <td>FDA15</td>\n",
       "      <td>9.30</td>\n",
       "      <td>Low Fat</td>\n",
       "      <td>0.016047</td>\n",
       "      <td>Dairy</td>\n",
       "      <td>249.8092</td>\n",
       "      <td>OUT049</td>\n",
       "      <td>Medium</td>\n",
       "      <td>Tier 1</td>\n",
       "      <td>Supermarket Type1</td>\n",
       "      <td>3735.1380</td>\n",
       "      <td>train</td>\n",
       "      <td>FD</td>\n",
       "      <td>22</td>\n",
       "      <td>Supermarket</td>\n",
       "    </tr>\n",
       "    <tr>\n",
       "      <th>1</th>\n",
       "      <td>DRC01</td>\n",
       "      <td>5.92</td>\n",
       "      <td>Regular</td>\n",
       "      <td>0.019278</td>\n",
       "      <td>Soft Drinks</td>\n",
       "      <td>48.2692</td>\n",
       "      <td>OUT018</td>\n",
       "      <td>Medium</td>\n",
       "      <td>Tier 3</td>\n",
       "      <td>Supermarket Type2</td>\n",
       "      <td>443.4228</td>\n",
       "      <td>train</td>\n",
       "      <td>DR</td>\n",
       "      <td>12</td>\n",
       "      <td>Supermarket</td>\n",
       "    </tr>\n",
       "    <tr>\n",
       "      <th>2</th>\n",
       "      <td>FDN15</td>\n",
       "      <td>17.50</td>\n",
       "      <td>Low Fat</td>\n",
       "      <td>0.016760</td>\n",
       "      <td>Meat</td>\n",
       "      <td>141.6180</td>\n",
       "      <td>OUT049</td>\n",
       "      <td>Medium</td>\n",
       "      <td>Tier 1</td>\n",
       "      <td>Supermarket Type1</td>\n",
       "      <td>2097.2700</td>\n",
       "      <td>train</td>\n",
       "      <td>FD</td>\n",
       "      <td>22</td>\n",
       "      <td>Supermarket</td>\n",
       "    </tr>\n",
       "    <tr>\n",
       "      <th>3</th>\n",
       "      <td>FDX07</td>\n",
       "      <td>19.20</td>\n",
       "      <td>Regular</td>\n",
       "      <td>0.072558</td>\n",
       "      <td>Fruits and Vegetables</td>\n",
       "      <td>182.0950</td>\n",
       "      <td>OUT010</td>\n",
       "      <td>Medium</td>\n",
       "      <td>Tier 3</td>\n",
       "      <td>Grocery Store</td>\n",
       "      <td>732.3800</td>\n",
       "      <td>train</td>\n",
       "      <td>FD</td>\n",
       "      <td>23</td>\n",
       "      <td>Grocery</td>\n",
       "    </tr>\n",
       "    <tr>\n",
       "      <th>4</th>\n",
       "      <td>NCD19</td>\n",
       "      <td>8.93</td>\n",
       "      <td>Low Fat</td>\n",
       "      <td>0.062099</td>\n",
       "      <td>Household</td>\n",
       "      <td>53.8614</td>\n",
       "      <td>OUT013</td>\n",
       "      <td>High</td>\n",
       "      <td>Tier 3</td>\n",
       "      <td>Supermarket Type1</td>\n",
       "      <td>994.7052</td>\n",
       "      <td>train</td>\n",
       "      <td>NC</td>\n",
       "      <td>34</td>\n",
       "      <td>Supermarket</td>\n",
       "    </tr>\n",
       "  </tbody>\n",
       "</table>\n",
       "</div>"
      ],
      "text/plain": [
       "  Item_Identifier  Item_Weight Item_Fat_Content  Item_Visibility  \\\n",
       "0           FDA15         9.30          Low Fat         0.016047   \n",
       "1           DRC01         5.92          Regular         0.019278   \n",
       "2           FDN15        17.50          Low Fat         0.016760   \n",
       "3           FDX07        19.20          Regular         0.072558   \n",
       "4           NCD19         8.93          Low Fat         0.062099   \n",
       "\n",
       "               Item_Type  Item_MRP Outlet_Identifier Outlet_Size  \\\n",
       "0                  Dairy  249.8092            OUT049      Medium   \n",
       "1            Soft Drinks   48.2692            OUT018      Medium   \n",
       "2                   Meat  141.6180            OUT049      Medium   \n",
       "3  Fruits and Vegetables  182.0950            OUT010      Medium   \n",
       "4              Household   53.8614            OUT013        High   \n",
       "\n",
       "  Outlet_Location_Type        Outlet_Type  Item_Outlet_Sales source  \\\n",
       "0               Tier 1  Supermarket Type1          3735.1380  train   \n",
       "1               Tier 3  Supermarket Type2           443.4228  train   \n",
       "2               Tier 1  Supermarket Type1          2097.2700  train   \n",
       "3               Tier 3      Grocery Store           732.3800  train   \n",
       "4               Tier 3  Supermarket Type1           994.7052  train   \n",
       "\n",
       "  Item_Identifier_2  Outlet_Age Outlet_Type_Category  \n",
       "0                FD          22          Supermarket  \n",
       "1                DR          12          Supermarket  \n",
       "2                FD          22          Supermarket  \n",
       "3                FD          23              Grocery  \n",
       "4                NC          34          Supermarket  "
      ]
     },
     "execution_count": 90,
     "metadata": {},
     "output_type": "execute_result"
    }
   ],
   "source": [
    "df.head()"
   ]
  },
  {
   "cell_type": "code",
   "execution_count": 91,
   "metadata": {},
   "outputs": [],
   "source": [
    "data_to_encode = df[df_category_columns].drop(columns = ['Item_Identifier', 'Outlet_Identifier', 'source'] )"
   ]
  },
  {
   "cell_type": "code",
   "execution_count": 92,
   "metadata": {},
   "outputs": [
    {
     "data": {
      "text/html": [
       "<div>\n",
       "<style scoped>\n",
       "    .dataframe tbody tr th:only-of-type {\n",
       "        vertical-align: middle;\n",
       "    }\n",
       "\n",
       "    .dataframe tbody tr th {\n",
       "        vertical-align: top;\n",
       "    }\n",
       "\n",
       "    .dataframe thead th {\n",
       "        text-align: right;\n",
       "    }\n",
       "</style>\n",
       "<table border=\"1\" class=\"dataframe\">\n",
       "  <thead>\n",
       "    <tr style=\"text-align: right;\">\n",
       "      <th></th>\n",
       "      <th>Item_Fat_Content</th>\n",
       "      <th>Item_Type</th>\n",
       "      <th>Outlet_Size</th>\n",
       "      <th>Outlet_Location_Type</th>\n",
       "      <th>Outlet_Type</th>\n",
       "      <th>Item_Identifier_2</th>\n",
       "      <th>Outlet_Type_Category</th>\n",
       "    </tr>\n",
       "  </thead>\n",
       "  <tbody>\n",
       "    <tr>\n",
       "      <th>0</th>\n",
       "      <td>Low Fat</td>\n",
       "      <td>Dairy</td>\n",
       "      <td>Medium</td>\n",
       "      <td>Tier 1</td>\n",
       "      <td>Supermarket Type1</td>\n",
       "      <td>FD</td>\n",
       "      <td>Supermarket</td>\n",
       "    </tr>\n",
       "    <tr>\n",
       "      <th>1</th>\n",
       "      <td>Regular</td>\n",
       "      <td>Soft Drinks</td>\n",
       "      <td>Medium</td>\n",
       "      <td>Tier 3</td>\n",
       "      <td>Supermarket Type2</td>\n",
       "      <td>DR</td>\n",
       "      <td>Supermarket</td>\n",
       "    </tr>\n",
       "    <tr>\n",
       "      <th>2</th>\n",
       "      <td>Low Fat</td>\n",
       "      <td>Meat</td>\n",
       "      <td>Medium</td>\n",
       "      <td>Tier 1</td>\n",
       "      <td>Supermarket Type1</td>\n",
       "      <td>FD</td>\n",
       "      <td>Supermarket</td>\n",
       "    </tr>\n",
       "  </tbody>\n",
       "</table>\n",
       "</div>"
      ],
      "text/plain": [
       "  Item_Fat_Content    Item_Type Outlet_Size Outlet_Location_Type  \\\n",
       "0          Low Fat        Dairy      Medium               Tier 1   \n",
       "1          Regular  Soft Drinks      Medium               Tier 3   \n",
       "2          Low Fat         Meat      Medium               Tier 1   \n",
       "\n",
       "         Outlet_Type Item_Identifier_2 Outlet_Type_Category  \n",
       "0  Supermarket Type1                FD          Supermarket  \n",
       "1  Supermarket Type2                DR          Supermarket  \n",
       "2  Supermarket Type1                FD          Supermarket  "
      ]
     },
     "execution_count": 92,
     "metadata": {},
     "output_type": "execute_result"
    }
   ],
   "source": [
    "data_to_encode[:3]"
   ]
  },
  {
   "cell_type": "code",
   "execution_count": 93,
   "metadata": {},
   "outputs": [],
   "source": [
    "df_category_encoded =  pd.get_dummies(data_to_encode)"
   ]
  },
  {
   "cell_type": "code",
   "execution_count": 94,
   "metadata": {},
   "outputs": [
    {
     "data": {
      "text/html": [
       "<div>\n",
       "<style scoped>\n",
       "    .dataframe tbody tr th:only-of-type {\n",
       "        vertical-align: middle;\n",
       "    }\n",
       "\n",
       "    .dataframe tbody tr th {\n",
       "        vertical-align: top;\n",
       "    }\n",
       "\n",
       "    .dataframe thead th {\n",
       "        text-align: right;\n",
       "    }\n",
       "</style>\n",
       "<table border=\"1\" class=\"dataframe\">\n",
       "  <thead>\n",
       "    <tr style=\"text-align: right;\">\n",
       "      <th></th>\n",
       "      <th>Item_Fat_Content_Low Fat</th>\n",
       "      <th>Item_Fat_Content_Regular</th>\n",
       "      <th>Item_Type_Baking Goods</th>\n",
       "      <th>Item_Type_Breads</th>\n",
       "      <th>Item_Type_Breakfast</th>\n",
       "      <th>Item_Type_Canned</th>\n",
       "      <th>Item_Type_Dairy</th>\n",
       "      <th>Item_Type_Frozen Foods</th>\n",
       "      <th>Item_Type_Fruits and Vegetables</th>\n",
       "      <th>Item_Type_Hard Drinks</th>\n",
       "      <th>...</th>\n",
       "      <th>Outlet_Location_Type_Tier 3</th>\n",
       "      <th>Outlet_Type_Grocery Store</th>\n",
       "      <th>Outlet_Type_Supermarket Type1</th>\n",
       "      <th>Outlet_Type_Supermarket Type2</th>\n",
       "      <th>Outlet_Type_Supermarket Type3</th>\n",
       "      <th>Item_Identifier_2_DR</th>\n",
       "      <th>Item_Identifier_2_FD</th>\n",
       "      <th>Item_Identifier_2_NC</th>\n",
       "      <th>Outlet_Type_Category_Grocery</th>\n",
       "      <th>Outlet_Type_Category_Supermarket</th>\n",
       "    </tr>\n",
       "  </thead>\n",
       "  <tbody>\n",
       "    <tr>\n",
       "      <th>0</th>\n",
       "      <td>1</td>\n",
       "      <td>0</td>\n",
       "      <td>0</td>\n",
       "      <td>0</td>\n",
       "      <td>0</td>\n",
       "      <td>0</td>\n",
       "      <td>1</td>\n",
       "      <td>0</td>\n",
       "      <td>0</td>\n",
       "      <td>0</td>\n",
       "      <td>...</td>\n",
       "      <td>0</td>\n",
       "      <td>0</td>\n",
       "      <td>1</td>\n",
       "      <td>0</td>\n",
       "      <td>0</td>\n",
       "      <td>0</td>\n",
       "      <td>1</td>\n",
       "      <td>0</td>\n",
       "      <td>0</td>\n",
       "      <td>1</td>\n",
       "    </tr>\n",
       "    <tr>\n",
       "      <th>1</th>\n",
       "      <td>0</td>\n",
       "      <td>1</td>\n",
       "      <td>0</td>\n",
       "      <td>0</td>\n",
       "      <td>0</td>\n",
       "      <td>0</td>\n",
       "      <td>0</td>\n",
       "      <td>0</td>\n",
       "      <td>0</td>\n",
       "      <td>0</td>\n",
       "      <td>...</td>\n",
       "      <td>1</td>\n",
       "      <td>0</td>\n",
       "      <td>0</td>\n",
       "      <td>1</td>\n",
       "      <td>0</td>\n",
       "      <td>1</td>\n",
       "      <td>0</td>\n",
       "      <td>0</td>\n",
       "      <td>0</td>\n",
       "      <td>1</td>\n",
       "    </tr>\n",
       "  </tbody>\n",
       "</table>\n",
       "<p>2 rows × 33 columns</p>\n",
       "</div>"
      ],
      "text/plain": [
       "   Item_Fat_Content_Low Fat  Item_Fat_Content_Regular  Item_Type_Baking Goods  \\\n",
       "0                         1                         0                       0   \n",
       "1                         0                         1                       0   \n",
       "\n",
       "   Item_Type_Breads  Item_Type_Breakfast  Item_Type_Canned  Item_Type_Dairy  \\\n",
       "0                 0                    0                 0                1   \n",
       "1                 0                    0                 0                0   \n",
       "\n",
       "   Item_Type_Frozen Foods  Item_Type_Fruits and Vegetables  \\\n",
       "0                       0                                0   \n",
       "1                       0                                0   \n",
       "\n",
       "   Item_Type_Hard Drinks  ...  Outlet_Location_Type_Tier 3  \\\n",
       "0                      0  ...                            0   \n",
       "1                      0  ...                            1   \n",
       "\n",
       "   Outlet_Type_Grocery Store  Outlet_Type_Supermarket Type1  \\\n",
       "0                          0                              1   \n",
       "1                          0                              0   \n",
       "\n",
       "   Outlet_Type_Supermarket Type2  Outlet_Type_Supermarket Type3  \\\n",
       "0                              0                              0   \n",
       "1                              1                              0   \n",
       "\n",
       "   Item_Identifier_2_DR  Item_Identifier_2_FD  Item_Identifier_2_NC  \\\n",
       "0                     0                     1                     0   \n",
       "1                     1                     0                     0   \n",
       "\n",
       "   Outlet_Type_Category_Grocery  Outlet_Type_Category_Supermarket  \n",
       "0                             0                                 1  \n",
       "1                             0                                 1  \n",
       "\n",
       "[2 rows x 33 columns]"
      ]
     },
     "execution_count": 94,
     "metadata": {},
     "output_type": "execute_result"
    }
   ],
   "source": [
    "df_category_encoded[:2]"
   ]
  },
  {
   "cell_type": "code",
   "execution_count": 95,
   "metadata": {},
   "outputs": [],
   "source": [
    "df_final = pd.concat([df_category_encoded, df[df_number_columns], \n",
    "                      df[['Item_Identifier', 'Outlet_Identifier', 'source']]], axis = 1)"
   ]
  },
  {
   "cell_type": "code",
   "execution_count": 96,
   "metadata": {},
   "outputs": [
    {
     "data": {
      "text/html": [
       "<div>\n",
       "<style scoped>\n",
       "    .dataframe tbody tr th:only-of-type {\n",
       "        vertical-align: middle;\n",
       "    }\n",
       "\n",
       "    .dataframe tbody tr th {\n",
       "        vertical-align: top;\n",
       "    }\n",
       "\n",
       "    .dataframe thead th {\n",
       "        text-align: right;\n",
       "    }\n",
       "</style>\n",
       "<table border=\"1\" class=\"dataframe\">\n",
       "  <thead>\n",
       "    <tr style=\"text-align: right;\">\n",
       "      <th></th>\n",
       "      <th>Item_Fat_Content_Low Fat</th>\n",
       "      <th>Item_Fat_Content_Regular</th>\n",
       "      <th>Item_Type_Baking Goods</th>\n",
       "      <th>Item_Type_Breads</th>\n",
       "      <th>Item_Type_Breakfast</th>\n",
       "      <th>Item_Type_Canned</th>\n",
       "      <th>Item_Type_Dairy</th>\n",
       "      <th>Item_Type_Frozen Foods</th>\n",
       "      <th>Item_Type_Fruits and Vegetables</th>\n",
       "      <th>Item_Type_Hard Drinks</th>\n",
       "      <th>...</th>\n",
       "      <th>Outlet_Type_Category_Grocery</th>\n",
       "      <th>Outlet_Type_Category_Supermarket</th>\n",
       "      <th>Item_Weight</th>\n",
       "      <th>Item_Visibility</th>\n",
       "      <th>Item_MRP</th>\n",
       "      <th>Item_Outlet_Sales</th>\n",
       "      <th>Outlet_Age</th>\n",
       "      <th>Item_Identifier</th>\n",
       "      <th>Outlet_Identifier</th>\n",
       "      <th>source</th>\n",
       "    </tr>\n",
       "  </thead>\n",
       "  <tbody>\n",
       "    <tr>\n",
       "      <th>0</th>\n",
       "      <td>1</td>\n",
       "      <td>0</td>\n",
       "      <td>0</td>\n",
       "      <td>0</td>\n",
       "      <td>0</td>\n",
       "      <td>0</td>\n",
       "      <td>1</td>\n",
       "      <td>0</td>\n",
       "      <td>0</td>\n",
       "      <td>0</td>\n",
       "      <td>...</td>\n",
       "      <td>0</td>\n",
       "      <td>1</td>\n",
       "      <td>9.30</td>\n",
       "      <td>0.016047</td>\n",
       "      <td>249.8092</td>\n",
       "      <td>3735.1380</td>\n",
       "      <td>22</td>\n",
       "      <td>FDA15</td>\n",
       "      <td>OUT049</td>\n",
       "      <td>train</td>\n",
       "    </tr>\n",
       "    <tr>\n",
       "      <th>1</th>\n",
       "      <td>0</td>\n",
       "      <td>1</td>\n",
       "      <td>0</td>\n",
       "      <td>0</td>\n",
       "      <td>0</td>\n",
       "      <td>0</td>\n",
       "      <td>0</td>\n",
       "      <td>0</td>\n",
       "      <td>0</td>\n",
       "      <td>0</td>\n",
       "      <td>...</td>\n",
       "      <td>0</td>\n",
       "      <td>1</td>\n",
       "      <td>5.92</td>\n",
       "      <td>0.019278</td>\n",
       "      <td>48.2692</td>\n",
       "      <td>443.4228</td>\n",
       "      <td>12</td>\n",
       "      <td>DRC01</td>\n",
       "      <td>OUT018</td>\n",
       "      <td>train</td>\n",
       "    </tr>\n",
       "    <tr>\n",
       "      <th>2</th>\n",
       "      <td>1</td>\n",
       "      <td>0</td>\n",
       "      <td>0</td>\n",
       "      <td>0</td>\n",
       "      <td>0</td>\n",
       "      <td>0</td>\n",
       "      <td>0</td>\n",
       "      <td>0</td>\n",
       "      <td>0</td>\n",
       "      <td>0</td>\n",
       "      <td>...</td>\n",
       "      <td>0</td>\n",
       "      <td>1</td>\n",
       "      <td>17.50</td>\n",
       "      <td>0.016760</td>\n",
       "      <td>141.6180</td>\n",
       "      <td>2097.2700</td>\n",
       "      <td>22</td>\n",
       "      <td>FDN15</td>\n",
       "      <td>OUT049</td>\n",
       "      <td>train</td>\n",
       "    </tr>\n",
       "    <tr>\n",
       "      <th>3</th>\n",
       "      <td>0</td>\n",
       "      <td>1</td>\n",
       "      <td>0</td>\n",
       "      <td>0</td>\n",
       "      <td>0</td>\n",
       "      <td>0</td>\n",
       "      <td>0</td>\n",
       "      <td>0</td>\n",
       "      <td>1</td>\n",
       "      <td>0</td>\n",
       "      <td>...</td>\n",
       "      <td>1</td>\n",
       "      <td>0</td>\n",
       "      <td>19.20</td>\n",
       "      <td>0.072558</td>\n",
       "      <td>182.0950</td>\n",
       "      <td>732.3800</td>\n",
       "      <td>23</td>\n",
       "      <td>FDX07</td>\n",
       "      <td>OUT010</td>\n",
       "      <td>train</td>\n",
       "    </tr>\n",
       "    <tr>\n",
       "      <th>4</th>\n",
       "      <td>1</td>\n",
       "      <td>0</td>\n",
       "      <td>0</td>\n",
       "      <td>0</td>\n",
       "      <td>0</td>\n",
       "      <td>0</td>\n",
       "      <td>0</td>\n",
       "      <td>0</td>\n",
       "      <td>0</td>\n",
       "      <td>0</td>\n",
       "      <td>...</td>\n",
       "      <td>0</td>\n",
       "      <td>1</td>\n",
       "      <td>8.93</td>\n",
       "      <td>0.062099</td>\n",
       "      <td>53.8614</td>\n",
       "      <td>994.7052</td>\n",
       "      <td>34</td>\n",
       "      <td>NCD19</td>\n",
       "      <td>OUT013</td>\n",
       "      <td>train</td>\n",
       "    </tr>\n",
       "  </tbody>\n",
       "</table>\n",
       "<p>5 rows × 41 columns</p>\n",
       "</div>"
      ],
      "text/plain": [
       "   Item_Fat_Content_Low Fat  Item_Fat_Content_Regular  Item_Type_Baking Goods  \\\n",
       "0                         1                         0                       0   \n",
       "1                         0                         1                       0   \n",
       "2                         1                         0                       0   \n",
       "3                         0                         1                       0   \n",
       "4                         1                         0                       0   \n",
       "\n",
       "   Item_Type_Breads  Item_Type_Breakfast  Item_Type_Canned  Item_Type_Dairy  \\\n",
       "0                 0                    0                 0                1   \n",
       "1                 0                    0                 0                0   \n",
       "2                 0                    0                 0                0   \n",
       "3                 0                    0                 0                0   \n",
       "4                 0                    0                 0                0   \n",
       "\n",
       "   Item_Type_Frozen Foods  Item_Type_Fruits and Vegetables  \\\n",
       "0                       0                                0   \n",
       "1                       0                                0   \n",
       "2                       0                                0   \n",
       "3                       0                                1   \n",
       "4                       0                                0   \n",
       "\n",
       "   Item_Type_Hard Drinks  ...  Outlet_Type_Category_Grocery  \\\n",
       "0                      0  ...                             0   \n",
       "1                      0  ...                             0   \n",
       "2                      0  ...                             0   \n",
       "3                      0  ...                             1   \n",
       "4                      0  ...                             0   \n",
       "\n",
       "   Outlet_Type_Category_Supermarket  Item_Weight  Item_Visibility  Item_MRP  \\\n",
       "0                                 1         9.30         0.016047  249.8092   \n",
       "1                                 1         5.92         0.019278   48.2692   \n",
       "2                                 1        17.50         0.016760  141.6180   \n",
       "3                                 0        19.20         0.072558  182.0950   \n",
       "4                                 1         8.93         0.062099   53.8614   \n",
       "\n",
       "   Item_Outlet_Sales  Outlet_Age  Item_Identifier  Outlet_Identifier  source  \n",
       "0          3735.1380          22            FDA15             OUT049   train  \n",
       "1           443.4228          12            DRC01             OUT018   train  \n",
       "2          2097.2700          22            FDN15             OUT049   train  \n",
       "3           732.3800          23            FDX07             OUT010   train  \n",
       "4           994.7052          34            NCD19             OUT013   train  \n",
       "\n",
       "[5 rows x 41 columns]"
      ]
     },
     "execution_count": 96,
     "metadata": {},
     "output_type": "execute_result"
    }
   ],
   "source": [
    "df_final.head()"
   ]
  },
  {
   "cell_type": "code",
   "execution_count": 97,
   "metadata": {},
   "outputs": [],
   "source": [
    "train_preprocessed = df_final[df_final['source'] == 'train']\n",
    "test_preprocessed = df_final[df_final['source'] == 'test']"
   ]
  },
  {
   "cell_type": "code",
   "execution_count": 98,
   "metadata": {},
   "outputs": [
    {
     "data": {
      "text/plain": [
       "((8523, 41), (5681, 41))"
      ]
     },
     "execution_count": 98,
     "metadata": {},
     "output_type": "execute_result"
    }
   ],
   "source": [
    "train_preprocessed.shape, test_preprocessed.shape"
   ]
  },
  {
   "cell_type": "code",
   "execution_count": 99,
   "metadata": {},
   "outputs": [
    {
     "data": {
      "text/html": [
       "<div>\n",
       "<style scoped>\n",
       "    .dataframe tbody tr th:only-of-type {\n",
       "        vertical-align: middle;\n",
       "    }\n",
       "\n",
       "    .dataframe tbody tr th {\n",
       "        vertical-align: top;\n",
       "    }\n",
       "\n",
       "    .dataframe thead th {\n",
       "        text-align: right;\n",
       "    }\n",
       "</style>\n",
       "<table border=\"1\" class=\"dataframe\">\n",
       "  <thead>\n",
       "    <tr style=\"text-align: right;\">\n",
       "      <th></th>\n",
       "      <th>Item_Fat_Content_Low Fat</th>\n",
       "      <th>Item_Fat_Content_Regular</th>\n",
       "      <th>Item_Type_Baking Goods</th>\n",
       "      <th>Item_Type_Breads</th>\n",
       "      <th>Item_Type_Breakfast</th>\n",
       "      <th>Item_Type_Canned</th>\n",
       "      <th>Item_Type_Dairy</th>\n",
       "      <th>Item_Type_Frozen Foods</th>\n",
       "      <th>Item_Type_Fruits and Vegetables</th>\n",
       "      <th>Item_Type_Hard Drinks</th>\n",
       "      <th>...</th>\n",
       "      <th>Item_Identifier_2_NC</th>\n",
       "      <th>Outlet_Type_Category_Grocery</th>\n",
       "      <th>Outlet_Type_Category_Supermarket</th>\n",
       "      <th>Item_Weight</th>\n",
       "      <th>Item_Visibility</th>\n",
       "      <th>Item_MRP</th>\n",
       "      <th>Item_Outlet_Sales</th>\n",
       "      <th>Outlet_Age</th>\n",
       "      <th>Item_Identifier</th>\n",
       "      <th>Outlet_Identifier</th>\n",
       "    </tr>\n",
       "  </thead>\n",
       "  <tbody>\n",
       "    <tr>\n",
       "      <th>0</th>\n",
       "      <td>1</td>\n",
       "      <td>0</td>\n",
       "      <td>0</td>\n",
       "      <td>0</td>\n",
       "      <td>0</td>\n",
       "      <td>0</td>\n",
       "      <td>1</td>\n",
       "      <td>0</td>\n",
       "      <td>0</td>\n",
       "      <td>0</td>\n",
       "      <td>...</td>\n",
       "      <td>0</td>\n",
       "      <td>0</td>\n",
       "      <td>1</td>\n",
       "      <td>9.30</td>\n",
       "      <td>0.016047</td>\n",
       "      <td>249.8092</td>\n",
       "      <td>3735.1380</td>\n",
       "      <td>22</td>\n",
       "      <td>FDA15</td>\n",
       "      <td>OUT049</td>\n",
       "    </tr>\n",
       "    <tr>\n",
       "      <th>1</th>\n",
       "      <td>0</td>\n",
       "      <td>1</td>\n",
       "      <td>0</td>\n",
       "      <td>0</td>\n",
       "      <td>0</td>\n",
       "      <td>0</td>\n",
       "      <td>0</td>\n",
       "      <td>0</td>\n",
       "      <td>0</td>\n",
       "      <td>0</td>\n",
       "      <td>...</td>\n",
       "      <td>0</td>\n",
       "      <td>0</td>\n",
       "      <td>1</td>\n",
       "      <td>5.92</td>\n",
       "      <td>0.019278</td>\n",
       "      <td>48.2692</td>\n",
       "      <td>443.4228</td>\n",
       "      <td>12</td>\n",
       "      <td>DRC01</td>\n",
       "      <td>OUT018</td>\n",
       "    </tr>\n",
       "    <tr>\n",
       "      <th>2</th>\n",
       "      <td>1</td>\n",
       "      <td>0</td>\n",
       "      <td>0</td>\n",
       "      <td>0</td>\n",
       "      <td>0</td>\n",
       "      <td>0</td>\n",
       "      <td>0</td>\n",
       "      <td>0</td>\n",
       "      <td>0</td>\n",
       "      <td>0</td>\n",
       "      <td>...</td>\n",
       "      <td>0</td>\n",
       "      <td>0</td>\n",
       "      <td>1</td>\n",
       "      <td>17.50</td>\n",
       "      <td>0.016760</td>\n",
       "      <td>141.6180</td>\n",
       "      <td>2097.2700</td>\n",
       "      <td>22</td>\n",
       "      <td>FDN15</td>\n",
       "      <td>OUT049</td>\n",
       "    </tr>\n",
       "    <tr>\n",
       "      <th>3</th>\n",
       "      <td>0</td>\n",
       "      <td>1</td>\n",
       "      <td>0</td>\n",
       "      <td>0</td>\n",
       "      <td>0</td>\n",
       "      <td>0</td>\n",
       "      <td>0</td>\n",
       "      <td>0</td>\n",
       "      <td>1</td>\n",
       "      <td>0</td>\n",
       "      <td>...</td>\n",
       "      <td>0</td>\n",
       "      <td>1</td>\n",
       "      <td>0</td>\n",
       "      <td>19.20</td>\n",
       "      <td>0.072558</td>\n",
       "      <td>182.0950</td>\n",
       "      <td>732.3800</td>\n",
       "      <td>23</td>\n",
       "      <td>FDX07</td>\n",
       "      <td>OUT010</td>\n",
       "    </tr>\n",
       "    <tr>\n",
       "      <th>4</th>\n",
       "      <td>1</td>\n",
       "      <td>0</td>\n",
       "      <td>0</td>\n",
       "      <td>0</td>\n",
       "      <td>0</td>\n",
       "      <td>0</td>\n",
       "      <td>0</td>\n",
       "      <td>0</td>\n",
       "      <td>0</td>\n",
       "      <td>0</td>\n",
       "      <td>...</td>\n",
       "      <td>1</td>\n",
       "      <td>0</td>\n",
       "      <td>1</td>\n",
       "      <td>8.93</td>\n",
       "      <td>0.062099</td>\n",
       "      <td>53.8614</td>\n",
       "      <td>994.7052</td>\n",
       "      <td>34</td>\n",
       "      <td>NCD19</td>\n",
       "      <td>OUT013</td>\n",
       "    </tr>\n",
       "  </tbody>\n",
       "</table>\n",
       "<p>5 rows × 40 columns</p>\n",
       "</div>"
      ],
      "text/plain": [
       "   Item_Fat_Content_Low Fat  Item_Fat_Content_Regular  Item_Type_Baking Goods  \\\n",
       "0                         1                         0                       0   \n",
       "1                         0                         1                       0   \n",
       "2                         1                         0                       0   \n",
       "3                         0                         1                       0   \n",
       "4                         1                         0                       0   \n",
       "\n",
       "   Item_Type_Breads  Item_Type_Breakfast  Item_Type_Canned  Item_Type_Dairy  \\\n",
       "0                 0                    0                 0                1   \n",
       "1                 0                    0                 0                0   \n",
       "2                 0                    0                 0                0   \n",
       "3                 0                    0                 0                0   \n",
       "4                 0                    0                 0                0   \n",
       "\n",
       "   Item_Type_Frozen Foods  Item_Type_Fruits and Vegetables  \\\n",
       "0                       0                                0   \n",
       "1                       0                                0   \n",
       "2                       0                                0   \n",
       "3                       0                                1   \n",
       "4                       0                                0   \n",
       "\n",
       "   Item_Type_Hard Drinks  ...  Item_Identifier_2_NC  \\\n",
       "0                      0  ...                     0   \n",
       "1                      0  ...                     0   \n",
       "2                      0  ...                     0   \n",
       "3                      0  ...                     0   \n",
       "4                      0  ...                     1   \n",
       "\n",
       "   Outlet_Type_Category_Grocery  Outlet_Type_Category_Supermarket  \\\n",
       "0                             0                                 1   \n",
       "1                             0                                 1   \n",
       "2                             0                                 1   \n",
       "3                             1                                 0   \n",
       "4                             0                                 1   \n",
       "\n",
       "   Item_Weight  Item_Visibility  Item_MRP  Item_Outlet_Sales  Outlet_Age  \\\n",
       "0         9.30         0.016047  249.8092          3735.1380          22   \n",
       "1         5.92         0.019278   48.2692           443.4228          12   \n",
       "2        17.50         0.016760  141.6180          2097.2700          22   \n",
       "3        19.20         0.072558  182.0950           732.3800          23   \n",
       "4         8.93         0.062099   53.8614           994.7052          34   \n",
       "\n",
       "   Item_Identifier  Outlet_Identifier  \n",
       "0            FDA15             OUT049  \n",
       "1            DRC01             OUT018  \n",
       "2            FDN15             OUT049  \n",
       "3            FDX07             OUT010  \n",
       "4            NCD19             OUT013  \n",
       "\n",
       "[5 rows x 40 columns]"
      ]
     },
     "execution_count": 99,
     "metadata": {},
     "output_type": "execute_result"
    }
   ],
   "source": [
    "del train_preprocessed['source']\n",
    "train_preprocessed.head()"
   ]
  },
  {
   "cell_type": "code",
   "execution_count": 100,
   "metadata": {},
   "outputs": [
    {
     "data": {
      "text/html": [
       "<div>\n",
       "<style scoped>\n",
       "    .dataframe tbody tr th:only-of-type {\n",
       "        vertical-align: middle;\n",
       "    }\n",
       "\n",
       "    .dataframe tbody tr th {\n",
       "        vertical-align: top;\n",
       "    }\n",
       "\n",
       "    .dataframe thead th {\n",
       "        text-align: right;\n",
       "    }\n",
       "</style>\n",
       "<table border=\"1\" class=\"dataframe\">\n",
       "  <thead>\n",
       "    <tr style=\"text-align: right;\">\n",
       "      <th></th>\n",
       "      <th>Item_Fat_Content_Low Fat</th>\n",
       "      <th>Item_Fat_Content_Regular</th>\n",
       "      <th>Item_Type_Baking Goods</th>\n",
       "      <th>Item_Type_Breads</th>\n",
       "      <th>Item_Type_Breakfast</th>\n",
       "      <th>Item_Type_Canned</th>\n",
       "      <th>Item_Type_Dairy</th>\n",
       "      <th>Item_Type_Frozen Foods</th>\n",
       "      <th>Item_Type_Fruits and Vegetables</th>\n",
       "      <th>Item_Type_Hard Drinks</th>\n",
       "      <th>...</th>\n",
       "      <th>Item_Identifier_2_NC</th>\n",
       "      <th>Outlet_Type_Category_Grocery</th>\n",
       "      <th>Outlet_Type_Category_Supermarket</th>\n",
       "      <th>Item_Weight</th>\n",
       "      <th>Item_Visibility</th>\n",
       "      <th>Item_MRP</th>\n",
       "      <th>Item_Outlet_Sales</th>\n",
       "      <th>Outlet_Age</th>\n",
       "      <th>Item_Identifier</th>\n",
       "      <th>Outlet_Identifier</th>\n",
       "    </tr>\n",
       "  </thead>\n",
       "  <tbody>\n",
       "    <tr>\n",
       "      <th>0</th>\n",
       "      <td>1</td>\n",
       "      <td>0</td>\n",
       "      <td>0</td>\n",
       "      <td>0</td>\n",
       "      <td>0</td>\n",
       "      <td>0</td>\n",
       "      <td>0</td>\n",
       "      <td>0</td>\n",
       "      <td>0</td>\n",
       "      <td>0</td>\n",
       "      <td>...</td>\n",
       "      <td>0</td>\n",
       "      <td>0</td>\n",
       "      <td>1</td>\n",
       "      <td>20.750000</td>\n",
       "      <td>0.007565</td>\n",
       "      <td>107.8622</td>\n",
       "      <td>NaN</td>\n",
       "      <td>22</td>\n",
       "      <td>FDW58</td>\n",
       "      <td>OUT049</td>\n",
       "    </tr>\n",
       "    <tr>\n",
       "      <th>1</th>\n",
       "      <td>0</td>\n",
       "      <td>1</td>\n",
       "      <td>0</td>\n",
       "      <td>0</td>\n",
       "      <td>0</td>\n",
       "      <td>0</td>\n",
       "      <td>1</td>\n",
       "      <td>0</td>\n",
       "      <td>0</td>\n",
       "      <td>0</td>\n",
       "      <td>...</td>\n",
       "      <td>0</td>\n",
       "      <td>0</td>\n",
       "      <td>1</td>\n",
       "      <td>8.300000</td>\n",
       "      <td>0.038428</td>\n",
       "      <td>87.3198</td>\n",
       "      <td>NaN</td>\n",
       "      <td>14</td>\n",
       "      <td>FDW14</td>\n",
       "      <td>OUT017</td>\n",
       "    </tr>\n",
       "    <tr>\n",
       "      <th>2</th>\n",
       "      <td>1</td>\n",
       "      <td>0</td>\n",
       "      <td>0</td>\n",
       "      <td>0</td>\n",
       "      <td>0</td>\n",
       "      <td>0</td>\n",
       "      <td>0</td>\n",
       "      <td>0</td>\n",
       "      <td>0</td>\n",
       "      <td>0</td>\n",
       "      <td>...</td>\n",
       "      <td>1</td>\n",
       "      <td>1</td>\n",
       "      <td>0</td>\n",
       "      <td>14.600000</td>\n",
       "      <td>0.099575</td>\n",
       "      <td>241.7538</td>\n",
       "      <td>NaN</td>\n",
       "      <td>23</td>\n",
       "      <td>NCN55</td>\n",
       "      <td>OUT010</td>\n",
       "    </tr>\n",
       "    <tr>\n",
       "      <th>3</th>\n",
       "      <td>1</td>\n",
       "      <td>0</td>\n",
       "      <td>0</td>\n",
       "      <td>0</td>\n",
       "      <td>0</td>\n",
       "      <td>0</td>\n",
       "      <td>0</td>\n",
       "      <td>0</td>\n",
       "      <td>0</td>\n",
       "      <td>0</td>\n",
       "      <td>...</td>\n",
       "      <td>0</td>\n",
       "      <td>0</td>\n",
       "      <td>1</td>\n",
       "      <td>7.315000</td>\n",
       "      <td>0.015388</td>\n",
       "      <td>155.0340</td>\n",
       "      <td>NaN</td>\n",
       "      <td>14</td>\n",
       "      <td>FDQ58</td>\n",
       "      <td>OUT017</td>\n",
       "    </tr>\n",
       "    <tr>\n",
       "      <th>4</th>\n",
       "      <td>0</td>\n",
       "      <td>1</td>\n",
       "      <td>0</td>\n",
       "      <td>0</td>\n",
       "      <td>0</td>\n",
       "      <td>0</td>\n",
       "      <td>1</td>\n",
       "      <td>0</td>\n",
       "      <td>0</td>\n",
       "      <td>0</td>\n",
       "      <td>...</td>\n",
       "      <td>0</td>\n",
       "      <td>0</td>\n",
       "      <td>1</td>\n",
       "      <td>12.735577</td>\n",
       "      <td>0.118599</td>\n",
       "      <td>234.2300</td>\n",
       "      <td>NaN</td>\n",
       "      <td>36</td>\n",
       "      <td>FDY38</td>\n",
       "      <td>OUT027</td>\n",
       "    </tr>\n",
       "  </tbody>\n",
       "</table>\n",
       "<p>5 rows × 40 columns</p>\n",
       "</div>"
      ],
      "text/plain": [
       "   Item_Fat_Content_Low Fat  Item_Fat_Content_Regular  Item_Type_Baking Goods  \\\n",
       "0                         1                         0                       0   \n",
       "1                         0                         1                       0   \n",
       "2                         1                         0                       0   \n",
       "3                         1                         0                       0   \n",
       "4                         0                         1                       0   \n",
       "\n",
       "   Item_Type_Breads  Item_Type_Breakfast  Item_Type_Canned  Item_Type_Dairy  \\\n",
       "0                 0                    0                 0                0   \n",
       "1                 0                    0                 0                1   \n",
       "2                 0                    0                 0                0   \n",
       "3                 0                    0                 0                0   \n",
       "4                 0                    0                 0                1   \n",
       "\n",
       "   Item_Type_Frozen Foods  Item_Type_Fruits and Vegetables  \\\n",
       "0                       0                                0   \n",
       "1                       0                                0   \n",
       "2                       0                                0   \n",
       "3                       0                                0   \n",
       "4                       0                                0   \n",
       "\n",
       "   Item_Type_Hard Drinks  ...  Item_Identifier_2_NC  \\\n",
       "0                      0  ...                     0   \n",
       "1                      0  ...                     0   \n",
       "2                      0  ...                     1   \n",
       "3                      0  ...                     0   \n",
       "4                      0  ...                     0   \n",
       "\n",
       "   Outlet_Type_Category_Grocery  Outlet_Type_Category_Supermarket  \\\n",
       "0                             0                                 1   \n",
       "1                             0                                 1   \n",
       "2                             1                                 0   \n",
       "3                             0                                 1   \n",
       "4                             0                                 1   \n",
       "\n",
       "   Item_Weight  Item_Visibility  Item_MRP  Item_Outlet_Sales  Outlet_Age  \\\n",
       "0    20.750000         0.007565  107.8622                NaN          22   \n",
       "1     8.300000         0.038428   87.3198                NaN          14   \n",
       "2    14.600000         0.099575  241.7538                NaN          23   \n",
       "3     7.315000         0.015388  155.0340                NaN          14   \n",
       "4    12.735577         0.118599  234.2300                NaN          36   \n",
       "\n",
       "   Item_Identifier  Outlet_Identifier  \n",
       "0            FDW58             OUT049  \n",
       "1            FDW14             OUT017  \n",
       "2            NCN55             OUT010  \n",
       "3            FDQ58             OUT017  \n",
       "4            FDY38             OUT027  \n",
       "\n",
       "[5 rows x 40 columns]"
      ]
     },
     "execution_count": 100,
     "metadata": {},
     "output_type": "execute_result"
    }
   ],
   "source": [
    "del test_preprocessed['source']\n",
    "test_preprocessed.head()"
   ]
  },
  {
   "cell_type": "code",
   "execution_count": 101,
   "metadata": {},
   "outputs": [],
   "source": [
    "train_X = train_preprocessed.drop(columns=['Item_Identifier', 'Outlet_Identifier', 'Item_Outlet_Sales'])"
   ]
  },
  {
   "cell_type": "code",
   "execution_count": 102,
   "metadata": {},
   "outputs": [],
   "source": [
    "test_X = test_preprocessed.drop(columns=['Item_Identifier', 'Outlet_Identifier', 'Item_Outlet_Sales'])"
   ]
  },
  {
   "cell_type": "code",
   "execution_count": 103,
   "metadata": {},
   "outputs": [],
   "source": [
    "train_y = train_preprocessed['Item_Outlet_Sales']"
   ]
  },
  {
   "cell_type": "code",
   "execution_count": 104,
   "metadata": {},
   "outputs": [
    {
     "data": {
      "text/plain": [
       "0    3735.1380\n",
       "1     443.4228\n",
       "2    2097.2700\n",
       "3     732.3800\n",
       "4     994.7052\n",
       "Name: Item_Outlet_Sales, dtype: float64"
      ]
     },
     "execution_count": 104,
     "metadata": {},
     "output_type": "execute_result"
    }
   ],
   "source": [
    "train_y[:5]"
   ]
  },
  {
   "cell_type": "code",
   "execution_count": 105,
   "metadata": {},
   "outputs": [],
   "source": [
    "sample = pd.read_csv(\"https://datahack-prod.s3.amazonaws.com/sample_submission/sample_submission_8RXa3c6.csv\")"
   ]
  },
  {
   "cell_type": "code",
   "execution_count": 106,
   "metadata": {},
   "outputs": [
    {
     "data": {
      "text/html": [
       "<div>\n",
       "<style scoped>\n",
       "    .dataframe tbody tr th:only-of-type {\n",
       "        vertical-align: middle;\n",
       "    }\n",
       "\n",
       "    .dataframe tbody tr th {\n",
       "        vertical-align: top;\n",
       "    }\n",
       "\n",
       "    .dataframe thead th {\n",
       "        text-align: right;\n",
       "    }\n",
       "</style>\n",
       "<table border=\"1\" class=\"dataframe\">\n",
       "  <thead>\n",
       "    <tr style=\"text-align: right;\">\n",
       "      <th></th>\n",
       "      <th>Item_Identifier</th>\n",
       "      <th>Outlet_Identifier</th>\n",
       "      <th>Item_Outlet_Sales</th>\n",
       "    </tr>\n",
       "  </thead>\n",
       "  <tbody>\n",
       "    <tr>\n",
       "      <th>0</th>\n",
       "      <td>FDW58</td>\n",
       "      <td>OUT049</td>\n",
       "      <td>1000</td>\n",
       "    </tr>\n",
       "    <tr>\n",
       "      <th>1</th>\n",
       "      <td>FDW14</td>\n",
       "      <td>OUT017</td>\n",
       "      <td>1000</td>\n",
       "    </tr>\n",
       "    <tr>\n",
       "      <th>2</th>\n",
       "      <td>NCN55</td>\n",
       "      <td>OUT010</td>\n",
       "      <td>1000</td>\n",
       "    </tr>\n",
       "    <tr>\n",
       "      <th>3</th>\n",
       "      <td>FDQ58</td>\n",
       "      <td>OUT017</td>\n",
       "      <td>1000</td>\n",
       "    </tr>\n",
       "    <tr>\n",
       "      <th>4</th>\n",
       "      <td>FDY38</td>\n",
       "      <td>OUT027</td>\n",
       "      <td>1000</td>\n",
       "    </tr>\n",
       "  </tbody>\n",
       "</table>\n",
       "</div>"
      ],
      "text/plain": [
       "  Item_Identifier Outlet_Identifier  Item_Outlet_Sales\n",
       "0           FDW58            OUT049               1000\n",
       "1           FDW14            OUT017               1000\n",
       "2           NCN55            OUT010               1000\n",
       "3           FDQ58            OUT017               1000\n",
       "4           FDY38            OUT027               1000"
      ]
     },
     "execution_count": 106,
     "metadata": {},
     "output_type": "execute_result"
    }
   ],
   "source": [
    "sample.head()"
   ]
  },
  {
   "cell_type": "markdown",
   "metadata": {},
   "source": [
    "## Modeling"
   ]
  },
  {
   "cell_type": "code",
   "execution_count": 107,
   "metadata": {},
   "outputs": [],
   "source": [
    "from sklearn.linear_model import LinearRegression\n",
    "from sklearn.metrics import mean_absolute_error, r2_score, mean_squared_error"
   ]
  },
  {
   "cell_type": "code",
   "execution_count": 108,
   "metadata": {},
   "outputs": [
    {
     "name": "stdout",
     "output_type": "stream",
     "text": [
      "MAE:  835.9428028725182\n",
      "RMSE:  1127.7422182890919\n",
      "R-squared:  0.5632245226668964\n"
     ]
    }
   ],
   "source": [
    "lm = LinearRegression()\n",
    "lm.fit(train_X, train_y)\n",
    "pred_train = lm.predict(train_X)\n",
    "pred_test = lm.predict(test_X)\n",
    "pred_test = abs(pred_test)\n",
    "print('MAE: ', mean_absolute_error(train_y, pred_train))\n",
    "print('RMSE: ', np.sqrt(mean_squared_error(train_y, pred_train)))\n",
    "print('R-squared: ', r2_score(train_y, pred_train))"
   ]
  },
  {
   "cell_type": "code",
   "execution_count": 106,
   "metadata": {},
   "outputs": [],
   "source": [
    "sample['Item_Outlet_Sales'] = pred_test"
   ]
  },
  {
   "cell_type": "markdown",
   "metadata": {},
   "source": [
    "## Regularization"
   ]
  },
  {
   "cell_type": "code",
   "execution_count": 110,
   "metadata": {},
   "outputs": [],
   "source": [
    "# sample.to_csv('BigMart_LinearRegressionOutput.csv')"
   ]
  },
  {
   "cell_type": "code",
   "execution_count": null,
   "metadata": {},
   "outputs": [],
   "source": []
  },
  {
   "cell_type": "code",
   "execution_count": 111,
   "metadata": {},
   "outputs": [],
   "source": [
    "from sklearn.model_selection import cross_val_score"
   ]
  },
  {
   "cell_type": "code",
   "execution_count": 125,
   "metadata": {},
   "outputs": [],
   "source": [
    "from sklearn.linear_model import Lasso, Ridge, ElasticNet"
   ]
  },
  {
   "cell_type": "code",
   "execution_count": 121,
   "metadata": {},
   "outputs": [],
   "source": [
    "def run_model(model, train_X, train_y, test_X, sample, filename):\n",
    "    model.fit(train_X, train_y)\n",
    "    pd.Series(model.coef_, index =test_X.columns).plot(kind = 'bar')\n",
    "    pred_train = model.predict(train_X)\n",
    "    pred_test = model.predict(test_X)\n",
    "    pred_test = abs(pred_test)\n",
    "    print('MAE: ', mean_absolute_error(train_y, pred_train))\n",
    "    cv_score = cross_val_score(model, train_X, train_y, cv = 10, scoring = 'neg_mean_absolute_error')\n",
    "    print('CV score: ', np.mean(np.abs(cv_score)))\n",
    "    print('R-squared: ', r2_score(train_y, pred_train))\n",
    "    sample['Item_Outlet_Sales'] = pred_test\n",
    "#     sample.to_csv(filename, index = False)\n",
    "    sample.head()"
   ]
  },
  {
   "cell_type": "code",
   "execution_count": 122,
   "metadata": {},
   "outputs": [
    {
     "name": "stdout",
     "output_type": "stream",
     "text": [
      "MAE:  835.9428028725182\n",
      "CV score:  839.7594122998368\n",
      "R-squared:  0.5632245226668964\n"
     ]
    },
    {
     "data": {
      "image/png": "[encoded data removed]",
      "text/plain": [
       "<Figure size 432x288 with 1 Axes>"
      ]
     },
     "metadata": {
      "needs_background": "light"
     },
     "output_type": "display_data"
    }
   ],
   "source": [
    "model = LinearRegression()\n",
    "run_model(model, train_X, train_y, test_X, sample, 'test_result_LR.csv')"
   ]
  },
  {
   "cell_type": "code",
   "execution_count": 135,
   "metadata": {},
   "outputs": [],
   "source": [
    "# model = Lasso(alpha = 0) #Just as Linear Regression\n",
    "# run_model(model, train_X, train_y, test_X, sample, 'test_result_LR.csv')"
   ]
  },
  {
   "cell_type": "code",
   "execution_count": 129,
   "metadata": {},
   "outputs": [
    {
     "name": "stdout",
     "output_type": "stream",
     "text": [
      "MAE:  840.1643704299814\n",
      "CV score:  840.7615821939432\n",
      "R-squared:  0.5534691409208817\n"
     ]
    },
    {
     "data": {
      "image/png": "[encoded data removed]",
      "text/plain": [
       "<Figure size 432x288 with 1 Axes>"
      ]
     },
     "metadata": {
      "needs_background": "light"
     },
     "output_type": "display_data"
    }
   ],
   "source": [
    "model = Lasso(alpha = 30)\n",
    "run_model(model, train_X, train_y, test_X, sample, 'test_result_LR.csv')"
   ]
  },
  {
   "cell_type": "code",
   "execution_count": 139,
   "metadata": {},
   "outputs": [],
   "source": [
    "# model = Lasso(alpha = .005)\n",
    "# run_model(model, train_X, train_y, test_X, sample, 'test_result_LR.csv')"
   ]
  },
  {
   "cell_type": "code",
   "execution_count": 130,
   "metadata": {},
   "outputs": [
    {
     "name": "stdout",
     "output_type": "stream",
     "text": [
      "MAE:  836.05874362892\n",
      "CV score:  839.4994606977983\n",
      "R-squared:  0.5623286269423307\n"
     ]
    },
    {
     "data": {
      "image/png": "[encoded data removed]",
      "text/plain": [
       "<Figure size 432x288 with 1 Axes>"
      ]
     },
     "metadata": {
      "needs_background": "light"
     },
     "output_type": "display_data"
    }
   ],
   "source": [
    "model = Ridge(alpha = 30)\n",
    "run_model(model, train_X, train_y, test_X, sample, 'test_result_LR.csv')"
   ]
  },
  {
   "cell_type": "code",
   "execution_count": 133,
   "metadata": {},
   "outputs": [
    {
     "name": "stdout",
     "output_type": "stream",
     "text": [
      "MAE:  909.254053000834\n",
      "CV score:  910.2530708759972\n",
      "R-squared:  0.4693808243180325\n"
     ]
    },
    {
     "data": {
      "image/png": "[encoded data removed]",
      "text/plain": [
       "<Figure size 432x288 with 1 Axes>"
      ]
     },
     "metadata": {
      "needs_background": "light"
     },
     "output_type": "display_data"
    }
   ],
   "source": [
    "model = ElasticNet(alpha = 1, l1_ratio=0.5)\n",
    "run_model(model, train_X, train_y, test_X, sample, 'test_result_LR.csv')"
   ]
  },
  {
   "cell_type": "markdown",
   "metadata": {},
   "source": [
    "#### Desicion Tree"
   ]
  },
  {
   "cell_type": "code",
   "execution_count": 112,
   "metadata": {},
   "outputs": [],
   "source": [
    "dtree = DecisionTreeRegressor()"
   ]
  },
  {
   "cell_type": "code",
   "execution_count": 113,
   "metadata": {},
   "outputs": [
    {
     "name": "stdout",
     "output_type": "stream",
     "text": [
      "MAE:  0.0\n",
      "RMSE:  0.0\n",
      "R-squared:  1.0\n"
     ]
    }
   ],
   "source": [
    "dtree.fit(train_X, train_y)\n",
    "pred_train = dtree.predict(train_X)\n",
    "pred_test = dtree.predict(test_X)\n",
    "pred_test = abs(pred_test)\n",
    "print('MAE: ', mean_absolute_error(train_y, pred_train))\n",
    "print('RMSE: ', np.sqrt(mean_squared_error(train_y, pred_train)))\n",
    "print('R-squared: ', r2_score(train_y, pred_train))"
   ]
  },
  {
   "cell_type": "code",
   "execution_count": 116,
   "metadata": {},
   "outputs": [],
   "source": [
    "sample['Item_Outlet_Sales'] = pred_test\n",
    "sample.to_csv('Dtree_bigmart.csv', index = False)"
   ]
  },
  {
   "cell_type": "markdown",
   "metadata": {},
   "source": [
    "#### Bagging "
   ]
  },
  {
   "cell_type": "code",
   "execution_count": 117,
   "metadata": {},
   "outputs": [],
   "source": [
    "bag = BaggingRegressor()"
   ]
  },
  {
   "cell_type": "code",
   "execution_count": 118,
   "metadata": {},
   "outputs": [
    {
     "name": "stdout",
     "output_type": "stream",
     "text": [
      "MAE:  320.97463379795846\n",
      "RMSE:  489.87662366472966\n",
      "R-squared:  0.9175839111384936\n"
     ]
    }
   ],
   "source": [
    "bag.fit(train_X, train_y)\n",
    "pred_train = bag.predict(train_X)\n",
    "pred_test = bag.predict(test_X)\n",
    "pred_test = abs(pred_test)\n",
    "print('MAE: ', mean_absolute_error(train_y, pred_train))\n",
    "print('RMSE: ', np.sqrt(mean_squared_error(train_y, pred_train)))\n",
    "print('R-squared: ', r2_score(train_y, pred_train))"
   ]
  },
  {
   "cell_type": "code",
   "execution_count": 119,
   "metadata": {},
   "outputs": [],
   "source": [
    "sample['Item_Outlet_Sales'] = pred_test\n",
    "sample.to_csv('Baging_bigmart.csv', index = False)"
   ]
  },
  {
   "cell_type": "markdown",
   "metadata": {},
   "source": [
    "#### Random Forest"
   ]
  },
  {
   "cell_type": "code",
   "execution_count": 120,
   "metadata": {},
   "outputs": [],
   "source": [
    "rf = RandomForestRegressor()"
   ]
  },
  {
   "cell_type": "code",
   "execution_count": 121,
   "metadata": {},
   "outputs": [
    {
     "name": "stdout",
     "output_type": "stream",
     "text": [
      "MAE:  295.54742791880784\n",
      "RMSE:  426.9964870434353\n",
      "R-squared:  0.9373837329506488\n"
     ]
    }
   ],
   "source": [
    "rf.fit(train_X, train_y)\n",
    "pred_train = rf.predict(train_X)\n",
    "pred_test = rf.predict(test_X)\n",
    "pred_test = abs(pred_test)\n",
    "print('MAE: ', mean_absolute_error(train_y, pred_train))\n",
    "print('RMSE: ', np.sqrt(mean_squared_error(train_y, pred_train)))\n",
    "print('R-squared: ', r2_score(train_y, pred_train))"
   ]
  },
  {
   "cell_type": "code",
   "execution_count": 122,
   "metadata": {},
   "outputs": [],
   "source": [
    "sample['Item_Outlet_Sales'] = pred_test\n",
    "sample.to_csv('Rf_bigmart.csv', index = False)"
   ]
  },
  {
   "cell_type": "markdown",
   "metadata": {},
   "source": [
    "#### Ada boost"
   ]
  },
  {
   "cell_type": "code",
   "execution_count": 123,
   "metadata": {},
   "outputs": [],
   "source": [
    "ada = AdaBoostRegressor()"
   ]
  },
  {
   "cell_type": "code",
   "execution_count": 124,
   "metadata": {},
   "outputs": [
    {
     "name": "stdout",
     "output_type": "stream",
     "text": [
      "MAE:  894.5941063402787\n",
      "RMSE:  1162.0473834661116\n",
      "R-squared:  0.5362475220076605\n"
     ]
    }
   ],
   "source": [
    "ada.fit(train_X, train_y)\n",
    "pred_train = ada.predict(train_X)\n",
    "pred_test = ada.predict(test_X)\n",
    "pred_test = abs(pred_test)\n",
    "print('MAE: ', mean_absolute_error(train_y, pred_train))\n",
    "print('RMSE: ', np.sqrt(mean_squared_error(train_y, pred_train)))\n",
    "print('R-squared: ', r2_score(train_y, pred_train))"
   ]
  },
  {
   "cell_type": "code",
   "execution_count": 125,
   "metadata": {},
   "outputs": [],
   "source": [
    "sample['Item_Outlet_Sales'] = pred_test\n",
    "sample.to_csv('ADa_bigmart.csv', index = False)"
   ]
  },
  {
   "cell_type": "markdown",
   "metadata": {},
   "source": [
    "#### Gradient Boost"
   ]
  },
  {
   "cell_type": "code",
   "execution_count": 127,
   "metadata": {},
   "outputs": [],
   "source": [
    "grad = GradientBoostingRegressor()"
   ]
  },
  {
   "cell_type": "code",
   "execution_count": 128,
   "metadata": {},
   "outputs": [
    {
     "name": "stdout",
     "output_type": "stream",
     "text": [
      "MAE:  730.5002362787618\n",
      "RMSE:  1037.5214299989648\n",
      "R-squared:  0.630314241387153\n"
     ]
    }
   ],
   "source": [
    "grad.fit(train_X, train_y)\n",
    "pred_train = grad.predict(train_X)\n",
    "pred_test = grad.predict(test_X)\n",
    "pred_test = abs(pred_test)\n",
    "print('MAE: ', mean_absolute_error(train_y, pred_train))\n",
    "print('RMSE: ', np.sqrt(mean_squared_error(train_y, pred_train)))\n",
    "print('R-squared: ', r2_score(train_y, pred_train))"
   ]
  },
  {
   "cell_type": "code",
   "execution_count": 129,
   "metadata": {},
   "outputs": [],
   "source": [
    "sample['Item_Outlet_Sales'] = pred_test\n",
    "sample.to_csv('Grad_bigmart.csv', index = False)"
   ]
  },
  {
   "cell_type": "markdown",
   "metadata": {},
   "source": [
    "#### XGB"
   ]
  },
  {
   "cell_type": "code",
   "execution_count": 130,
   "metadata": {},
   "outputs": [],
   "source": [
    "xgb = XGBRegressor()"
   ]
  },
  {
   "cell_type": "code",
   "execution_count": 131,
   "metadata": {},
   "outputs": [
    {
     "name": "stdout",
     "output_type": "stream",
     "text": [
      "MAE:  512.1188348054312\n",
      "RMSE:  711.6675520029904\n",
      "R-squared:  0.8260626301272597\n"
     ]
    }
   ],
   "source": [
    "xgb.fit(train_X, train_y)\n",
    "pred_train = xgb.predict(train_X)\n",
    "pred_test = xgb.predict(test_X)\n",
    "pred_test = abs(pred_test)\n",
    "print('MAE: ', mean_absolute_error(train_y, pred_train))\n",
    "print('RMSE: ', np.sqrt(mean_squared_error(train_y, pred_train)))\n",
    "print('R-squared: ', r2_score(train_y, pred_train))"
   ]
  },
  {
   "cell_type": "code",
   "execution_count": 132,
   "metadata": {},
   "outputs": [],
   "source": [
    "sample['Item_Outlet_Sales'] = pred_test\n",
    "sample.to_csv('XGB_bigmart.csv', index = False)"
   ]
  },
  {
   "cell_type": "markdown",
   "metadata": {},
   "source": [
    "#### CAT"
   ]
  },
  {
   "cell_type": "code",
   "execution_count": 133,
   "metadata": {},
   "outputs": [],
   "source": [
    "cat = CatBoostRegressor()"
   ]
  },
  {
   "cell_type": "code",
   "execution_count": 134,
   "metadata": {},
   "outputs": [
    {
     "name": "stdout",
     "output_type": "stream",
     "text": [
      "Learning rate set to 0.057154\n",
      "0:\tlearn: 1655.3965037\ttotal: 71.3ms\tremaining: 1m 11s\n",
      "1:\tlearn: 1604.4884892\ttotal: 75.1ms\tremaining: 37.5s\n",
      "2:\tlearn: 1559.5055121\ttotal: 78.8ms\tremaining: 26.2s\n",
      "3:\tlearn: 1516.0654820\ttotal: 82.2ms\tremaining: 20.5s\n",
      "4:\tlearn: 1478.1735846\ttotal: 85.8ms\tremaining: 17.1s\n",
      "5:\tlearn: 1442.3672427\ttotal: 89.5ms\tremaining: 14.8s\n",
      "6:\tlearn: 1408.6261611\ttotal: 92.9ms\tremaining: 13.2s\n",
      "7:\tlearn: 1377.8285173\ttotal: 96.6ms\tremaining: 12s\n",
      "8:\tlearn: 1350.9107728\ttotal: 101ms\tremaining: 11.2s\n",
      "9:\tlearn: 1324.6486420\ttotal: 105ms\tremaining: 10.4s\n",
      "10:\tlearn: 1301.2014088\ttotal: 109ms\tremaining: 9.78s\n",
      "11:\tlearn: 1280.6018661\ttotal: 113ms\tremaining: 9.27s\n",
      "12:\tlearn: 1261.3076744\ttotal: 116ms\tremaining: 8.81s\n",
      "13:\tlearn: 1244.1102321\ttotal: 120ms\tremaining: 8.43s\n",
      "14:\tlearn: 1228.1511928\ttotal: 123ms\tremaining: 8.08s\n",
      "15:\tlearn: 1213.4049524\ttotal: 127ms\tremaining: 7.78s\n",
      "16:\tlearn: 1200.0588591\ttotal: 130ms\tremaining: 7.52s\n",
      "17:\tlearn: 1188.7961975\ttotal: 134ms\tremaining: 7.31s\n",
      "18:\tlearn: 1177.6995121\ttotal: 138ms\tremaining: 7.1s\n",
      "19:\tlearn: 1167.4924941\ttotal: 141ms\tremaining: 6.92s\n",
      "20:\tlearn: 1159.9255594\ttotal: 145ms\tremaining: 6.75s\n",
      "21:\tlearn: 1151.7666529\ttotal: 148ms\tremaining: 6.59s\n",
      "22:\tlearn: 1143.8182460\ttotal: 152ms\tremaining: 6.45s\n",
      "23:\tlearn: 1136.3536176\ttotal: 155ms\tremaining: 6.32s\n",
      "24:\tlearn: 1130.6335652\ttotal: 159ms\tremaining: 6.2s\n",
      "25:\tlearn: 1124.6230372\ttotal: 162ms\tremaining: 6.09s\n",
      "26:\tlearn: 1119.4685463\ttotal: 165ms\tremaining: 5.96s\n",
      "27:\tlearn: 1114.6023352\ttotal: 169ms\tremaining: 5.86s\n",
      "28:\tlearn: 1110.5407920\ttotal: 173ms\tremaining: 5.79s\n",
      "29:\tlearn: 1106.5129308\ttotal: 177ms\tremaining: 5.72s\n",
      "30:\tlearn: 1103.0627502\ttotal: 181ms\tremaining: 5.65s\n",
      "31:\tlearn: 1099.9850467\ttotal: 184ms\tremaining: 5.57s\n",
      "32:\tlearn: 1096.8291602\ttotal: 188ms\tremaining: 5.5s\n",
      "33:\tlearn: 1094.0843366\ttotal: 191ms\tremaining: 5.43s\n",
      "34:\tlearn: 1091.7176682\ttotal: 195ms\tremaining: 5.37s\n",
      "35:\tlearn: 1089.7578068\ttotal: 198ms\tremaining: 5.31s\n",
      "36:\tlearn: 1087.9694101\ttotal: 202ms\tremaining: 5.26s\n",
      "37:\tlearn: 1086.2302025\ttotal: 206ms\tremaining: 5.21s\n",
      "38:\tlearn: 1084.4953572\ttotal: 209ms\tremaining: 5.16s\n",
      "39:\tlearn: 1083.2078926\ttotal: 213ms\tremaining: 5.11s\n",
      "40:\tlearn: 1081.8255390\ttotal: 216ms\tremaining: 5.06s\n",
      "41:\tlearn: 1080.3252901\ttotal: 220ms\tremaining: 5.02s\n",
      "42:\tlearn: 1079.1866083\ttotal: 224ms\tremaining: 4.98s\n",
      "43:\tlearn: 1078.2819830\ttotal: 227ms\tremaining: 4.94s\n",
      "44:\tlearn: 1077.4561556\ttotal: 230ms\tremaining: 4.88s\n",
      "45:\tlearn: 1076.3724334\ttotal: 234ms\tremaining: 4.84s\n",
      "46:\tlearn: 1075.3636030\ttotal: 237ms\tremaining: 4.8s\n",
      "47:\tlearn: 1074.7103762\ttotal: 240ms\tremaining: 4.77s\n",
      "48:\tlearn: 1073.9486699\ttotal: 244ms\tremaining: 4.73s\n",
      "49:\tlearn: 1073.0775824\ttotal: 248ms\tremaining: 4.7s\n",
      "50:\tlearn: 1072.3889666\ttotal: 252ms\tremaining: 4.68s\n",
      "51:\tlearn: 1071.8062313\ttotal: 255ms\tremaining: 4.65s\n",
      "52:\tlearn: 1070.9927964\ttotal: 259ms\tremaining: 4.62s\n",
      "53:\tlearn: 1070.3904481\ttotal: 262ms\tremaining: 4.59s\n",
      "54:\tlearn: 1069.8014817\ttotal: 266ms\tremaining: 4.56s\n",
      "55:\tlearn: 1069.1113655\ttotal: 269ms\tremaining: 4.54s\n",
      "56:\tlearn: 1068.5875786\ttotal: 273ms\tremaining: 4.51s\n",
      "57:\tlearn: 1068.2443352\ttotal: 276ms\tremaining: 4.49s\n",
      "58:\tlearn: 1067.7381844\ttotal: 280ms\tremaining: 4.46s\n",
      "59:\tlearn: 1067.2589514\ttotal: 284ms\tremaining: 4.44s\n",
      "60:\tlearn: 1066.8519546\ttotal: 287ms\tremaining: 4.42s\n",
      "61:\tlearn: 1066.3062417\ttotal: 291ms\tremaining: 4.39s\n",
      "62:\tlearn: 1065.7037808\ttotal: 294ms\tremaining: 4.37s\n",
      "63:\tlearn: 1065.4116509\ttotal: 298ms\tremaining: 4.35s\n",
      "64:\tlearn: 1064.9773742\ttotal: 301ms\tremaining: 4.33s\n",
      "65:\tlearn: 1064.4194397\ttotal: 305ms\tremaining: 4.31s\n",
      "66:\tlearn: 1064.0720552\ttotal: 308ms\tremaining: 4.29s\n",
      "67:\tlearn: 1063.5959887\ttotal: 312ms\tremaining: 4.28s\n",
      "68:\tlearn: 1063.5152717\ttotal: 314ms\tremaining: 4.24s\n",
      "69:\tlearn: 1063.2703531\ttotal: 317ms\tremaining: 4.21s\n",
      "70:\tlearn: 1062.8316770\ttotal: 321ms\tremaining: 4.2s\n",
      "71:\tlearn: 1062.5259831\ttotal: 324ms\tremaining: 4.18s\n",
      "72:\tlearn: 1062.1989112\ttotal: 328ms\tremaining: 4.16s\n",
      "73:\tlearn: 1061.8085067\ttotal: 331ms\tremaining: 4.14s\n",
      "74:\tlearn: 1061.5787253\ttotal: 335ms\tremaining: 4.13s\n",
      "75:\tlearn: 1061.2093039\ttotal: 338ms\tremaining: 4.11s\n",
      "76:\tlearn: 1060.8103288\ttotal: 342ms\tremaining: 4.1s\n",
      "77:\tlearn: 1060.2454837\ttotal: 345ms\tremaining: 4.08s\n",
      "78:\tlearn: 1059.8885100\ttotal: 349ms\tremaining: 4.07s\n",
      "79:\tlearn: 1059.7327784\ttotal: 353ms\tremaining: 4.05s\n",
      "80:\tlearn: 1059.5906879\ttotal: 357ms\tremaining: 4.04s\n",
      "81:\tlearn: 1059.1940162\ttotal: 361ms\tremaining: 4.04s\n",
      "82:\tlearn: 1058.9232929\ttotal: 364ms\tremaining: 4.02s\n",
      "83:\tlearn: 1058.5950934\ttotal: 368ms\tremaining: 4.01s\n",
      "84:\tlearn: 1058.3119913\ttotal: 372ms\tremaining: 4s\n",
      "85:\tlearn: 1057.9824643\ttotal: 379ms\tremaining: 4.03s\n",
      "86:\tlearn: 1057.4642442\ttotal: 383ms\tremaining: 4.02s\n",
      "87:\tlearn: 1057.1028443\ttotal: 386ms\tremaining: 4s\n",
      "88:\tlearn: 1056.8113959\ttotal: 390ms\tremaining: 3.99s\n",
      "89:\tlearn: 1056.5768228\ttotal: 394ms\tremaining: 3.98s\n",
      "90:\tlearn: 1056.3150407\ttotal: 397ms\tremaining: 3.97s\n",
      "91:\tlearn: 1055.6874734\ttotal: 401ms\tremaining: 3.96s\n",
      "92:\tlearn: 1055.3880468\ttotal: 404ms\tremaining: 3.94s\n",
      "93:\tlearn: 1055.3609086\ttotal: 406ms\tremaining: 3.92s\n",
      "94:\tlearn: 1055.1305477\ttotal: 410ms\tremaining: 3.9s\n",
      "95:\tlearn: 1054.6518251\ttotal: 414ms\tremaining: 3.89s\n",
      "96:\tlearn: 1054.2981667\ttotal: 417ms\tremaining: 3.88s\n",
      "97:\tlearn: 1054.0988619\ttotal: 421ms\tremaining: 3.87s\n",
      "98:\tlearn: 1053.6783102\ttotal: 424ms\tremaining: 3.86s\n",
      "99:\tlearn: 1053.5687029\ttotal: 428ms\tremaining: 3.85s\n",
      "100:\tlearn: 1053.0600099\ttotal: 431ms\tremaining: 3.84s\n",
      "101:\tlearn: 1052.8793883\ttotal: 435ms\tremaining: 3.83s\n",
      "102:\tlearn: 1052.6915938\ttotal: 439ms\tremaining: 3.82s\n",
      "103:\tlearn: 1052.2210163\ttotal: 442ms\tremaining: 3.81s\n",
      "104:\tlearn: 1051.7430616\ttotal: 446ms\tremaining: 3.8s\n",
      "105:\tlearn: 1051.6214488\ttotal: 449ms\tremaining: 3.79s\n",
      "106:\tlearn: 1051.3892665\ttotal: 453ms\tremaining: 3.78s\n",
      "107:\tlearn: 1051.2759449\ttotal: 456ms\tremaining: 3.77s\n",
      "108:\tlearn: 1050.8218359\ttotal: 460ms\tremaining: 3.76s\n",
      "109:\tlearn: 1050.6727390\ttotal: 463ms\tremaining: 3.75s\n",
      "110:\tlearn: 1050.4123321\ttotal: 467ms\tremaining: 3.74s\n",
      "111:\tlearn: 1050.1062556\ttotal: 470ms\tremaining: 3.73s\n",
      "112:\tlearn: 1050.0765761\ttotal: 473ms\tremaining: 3.71s\n",
      "113:\tlearn: 1049.8345856\ttotal: 476ms\tremaining: 3.7s\n",
      "114:\tlearn: 1049.5855686\ttotal: 480ms\tremaining: 3.69s\n",
      "115:\tlearn: 1049.1452845\ttotal: 483ms\tremaining: 3.68s\n",
      "116:\tlearn: 1048.9704052\ttotal: 487ms\tremaining: 3.67s\n",
      "117:\tlearn: 1048.7792922\ttotal: 490ms\tremaining: 3.66s\n",
      "118:\tlearn: 1048.4187634\ttotal: 494ms\tremaining: 3.65s\n",
      "119:\tlearn: 1048.1675902\ttotal: 497ms\tremaining: 3.65s\n",
      "120:\tlearn: 1047.9173188\ttotal: 501ms\tremaining: 3.64s\n",
      "121:\tlearn: 1047.4865159\ttotal: 504ms\tremaining: 3.63s\n",
      "122:\tlearn: 1047.0489954\ttotal: 509ms\tremaining: 3.63s\n",
      "123:\tlearn: 1046.8451950\ttotal: 512ms\tremaining: 3.62s\n",
      "124:\tlearn: 1046.4843045\ttotal: 516ms\tremaining: 3.61s\n",
      "125:\tlearn: 1046.2164210\ttotal: 520ms\tremaining: 3.6s\n",
      "126:\tlearn: 1045.9405347\ttotal: 523ms\tremaining: 3.6s\n",
      "127:\tlearn: 1045.4507126\ttotal: 527ms\tremaining: 3.59s\n",
      "128:\tlearn: 1045.1167099\ttotal: 530ms\tremaining: 3.58s\n",
      "129:\tlearn: 1044.9144405\ttotal: 534ms\tremaining: 3.57s\n",
      "130:\tlearn: 1044.7376113\ttotal: 537ms\tremaining: 3.56s\n",
      "131:\tlearn: 1044.4990999\ttotal: 541ms\tremaining: 3.56s\n",
      "132:\tlearn: 1044.2970432\ttotal: 545ms\tremaining: 3.55s\n",
      "133:\tlearn: 1044.0761332\ttotal: 550ms\tremaining: 3.55s\n",
      "134:\tlearn: 1043.6280104\ttotal: 554ms\tremaining: 3.55s\n",
      "135:\tlearn: 1043.2976900\ttotal: 557ms\tremaining: 3.54s\n",
      "136:\tlearn: 1043.0800480\ttotal: 560ms\tremaining: 3.53s\n",
      "137:\tlearn: 1042.9993442\ttotal: 564ms\tremaining: 3.52s\n",
      "138:\tlearn: 1042.7483431\ttotal: 567ms\tremaining: 3.51s\n",
      "139:\tlearn: 1042.4395001\ttotal: 571ms\tremaining: 3.51s\n",
      "140:\tlearn: 1042.0863696\ttotal: 574ms\tremaining: 3.5s\n",
      "141:\tlearn: 1041.8314599\ttotal: 578ms\tremaining: 3.49s\n",
      "142:\tlearn: 1041.5431951\ttotal: 582ms\tremaining: 3.48s\n",
      "143:\tlearn: 1041.3138045\ttotal: 585ms\tremaining: 3.48s\n",
      "144:\tlearn: 1041.0588479\ttotal: 589ms\tremaining: 3.47s\n",
      "145:\tlearn: 1040.6541720\ttotal: 592ms\tremaining: 3.46s\n",
      "146:\tlearn: 1040.0708587\ttotal: 596ms\tremaining: 3.46s\n",
      "147:\tlearn: 1039.5688039\ttotal: 600ms\tremaining: 3.45s\n",
      "148:\tlearn: 1039.3358660\ttotal: 603ms\tremaining: 3.44s\n",
      "149:\tlearn: 1039.1219404\ttotal: 607ms\tremaining: 3.44s\n",
      "150:\tlearn: 1038.8628275\ttotal: 611ms\tremaining: 3.43s\n",
      "151:\tlearn: 1038.6191314\ttotal: 614ms\tremaining: 3.42s\n",
      "152:\tlearn: 1038.3074098\ttotal: 618ms\tremaining: 3.42s\n",
      "153:\tlearn: 1038.0927925\ttotal: 621ms\tremaining: 3.41s\n",
      "154:\tlearn: 1037.9774415\ttotal: 625ms\tremaining: 3.4s\n",
      "155:\tlearn: 1037.6122588\ttotal: 628ms\tremaining: 3.4s\n",
      "156:\tlearn: 1037.1189521\ttotal: 632ms\tremaining: 3.39s\n",
      "157:\tlearn: 1036.9101963\ttotal: 636ms\tremaining: 3.39s\n",
      "158:\tlearn: 1036.7164677\ttotal: 639ms\tremaining: 3.38s\n",
      "159:\tlearn: 1036.3068534\ttotal: 643ms\tremaining: 3.37s\n",
      "160:\tlearn: 1035.8581636\ttotal: 646ms\tremaining: 3.37s\n",
      "161:\tlearn: 1035.6014628\ttotal: 650ms\tremaining: 3.36s\n",
      "162:\tlearn: 1035.3405566\ttotal: 653ms\tremaining: 3.35s\n",
      "163:\tlearn: 1035.1377506\ttotal: 657ms\tremaining: 3.35s\n",
      "164:\tlearn: 1034.9100191\ttotal: 660ms\tremaining: 3.34s\n",
      "165:\tlearn: 1034.5405045\ttotal: 664ms\tremaining: 3.33s\n",
      "166:\tlearn: 1034.3555419\ttotal: 667ms\tremaining: 3.33s\n",
      "167:\tlearn: 1033.8641859\ttotal: 671ms\tremaining: 3.32s\n",
      "168:\tlearn: 1033.5815122\ttotal: 675ms\tremaining: 3.32s\n",
      "169:\tlearn: 1033.1950372\ttotal: 678ms\tremaining: 3.31s\n",
      "170:\tlearn: 1032.8855371\ttotal: 682ms\tremaining: 3.31s\n",
      "171:\tlearn: 1032.4942462\ttotal: 686ms\tremaining: 3.3s\n",
      "172:\tlearn: 1032.2874066\ttotal: 689ms\tremaining: 3.29s\n",
      "173:\tlearn: 1031.8317032\ttotal: 693ms\tremaining: 3.29s\n",
      "174:\tlearn: 1031.4784416\ttotal: 696ms\tremaining: 3.28s\n",
      "175:\tlearn: 1031.3347035\ttotal: 700ms\tremaining: 3.28s\n",
      "176:\tlearn: 1030.7639732\ttotal: 704ms\tremaining: 3.27s\n",
      "177:\tlearn: 1030.3535720\ttotal: 707ms\tremaining: 3.27s\n",
      "178:\tlearn: 1030.0697516\ttotal: 711ms\tremaining: 3.26s\n",
      "179:\tlearn: 1029.7669727\ttotal: 714ms\tremaining: 3.25s\n",
      "180:\tlearn: 1029.5439334\ttotal: 718ms\tremaining: 3.25s\n",
      "181:\tlearn: 1029.2476745\ttotal: 722ms\tremaining: 3.24s\n",
      "182:\tlearn: 1028.9074411\ttotal: 725ms\tremaining: 3.24s\n",
      "183:\tlearn: 1028.4992212\ttotal: 729ms\tremaining: 3.23s\n",
      "184:\tlearn: 1027.9895302\ttotal: 732ms\tremaining: 3.23s\n"
     ]
    },
    {
     "name": "stdout",
     "output_type": "stream",
     "text": [
      "185:\tlearn: 1027.5127476\ttotal: 736ms\tremaining: 3.22s\n",
      "186:\tlearn: 1027.2006848\ttotal: 740ms\tremaining: 3.22s\n",
      "187:\tlearn: 1026.7716896\ttotal: 744ms\tremaining: 3.21s\n",
      "188:\tlearn: 1026.5172162\ttotal: 747ms\tremaining: 3.21s\n",
      "189:\tlearn: 1026.1772658\ttotal: 751ms\tremaining: 3.2s\n",
      "190:\tlearn: 1025.8030435\ttotal: 754ms\tremaining: 3.19s\n",
      "191:\tlearn: 1025.3589963\ttotal: 760ms\tremaining: 3.2s\n",
      "192:\tlearn: 1024.9609677\ttotal: 766ms\tremaining: 3.2s\n",
      "193:\tlearn: 1024.7123381\ttotal: 770ms\tremaining: 3.2s\n",
      "194:\tlearn: 1024.4064276\ttotal: 775ms\tremaining: 3.2s\n",
      "195:\tlearn: 1024.0899706\ttotal: 779ms\tremaining: 3.19s\n",
      "196:\tlearn: 1023.6958314\ttotal: 782ms\tremaining: 3.19s\n",
      "197:\tlearn: 1023.2788045\ttotal: 786ms\tremaining: 3.18s\n",
      "198:\tlearn: 1023.0711994\ttotal: 789ms\tremaining: 3.18s\n",
      "199:\tlearn: 1022.6512578\ttotal: 793ms\tremaining: 3.17s\n",
      "200:\tlearn: 1022.2889903\ttotal: 796ms\tremaining: 3.17s\n",
      "201:\tlearn: 1022.1633823\ttotal: 800ms\tremaining: 3.16s\n",
      "202:\tlearn: 1021.9559461\ttotal: 804ms\tremaining: 3.15s\n",
      "203:\tlearn: 1021.7112036\ttotal: 807ms\tremaining: 3.15s\n",
      "204:\tlearn: 1021.4046459\ttotal: 811ms\tremaining: 3.14s\n",
      "205:\tlearn: 1021.1829919\ttotal: 814ms\tremaining: 3.14s\n",
      "206:\tlearn: 1020.8403972\ttotal: 818ms\tremaining: 3.13s\n",
      "207:\tlearn: 1020.3509880\ttotal: 821ms\tremaining: 3.13s\n",
      "208:\tlearn: 1020.0490425\ttotal: 825ms\tremaining: 3.12s\n",
      "209:\tlearn: 1019.6994733\ttotal: 828ms\tremaining: 3.12s\n",
      "210:\tlearn: 1019.4690537\ttotal: 832ms\tremaining: 3.11s\n",
      "211:\tlearn: 1019.1798048\ttotal: 835ms\tremaining: 3.1s\n",
      "212:\tlearn: 1018.9382366\ttotal: 839ms\tremaining: 3.1s\n",
      "213:\tlearn: 1018.7053546\ttotal: 843ms\tremaining: 3.09s\n",
      "214:\tlearn: 1018.4110196\ttotal: 846ms\tremaining: 3.09s\n",
      "215:\tlearn: 1017.9163326\ttotal: 850ms\tremaining: 3.08s\n",
      "216:\tlearn: 1017.5762948\ttotal: 854ms\tremaining: 3.08s\n",
      "217:\tlearn: 1017.0842517\ttotal: 857ms\tremaining: 3.08s\n",
      "218:\tlearn: 1016.8274099\ttotal: 861ms\tremaining: 3.07s\n",
      "219:\tlearn: 1016.5774699\ttotal: 865ms\tremaining: 3.06s\n",
      "220:\tlearn: 1016.3533816\ttotal: 868ms\tremaining: 3.06s\n",
      "221:\tlearn: 1016.2374394\ttotal: 871ms\tremaining: 3.05s\n",
      "222:\tlearn: 1016.0551986\ttotal: 878ms\tremaining: 3.06s\n",
      "223:\tlearn: 1015.7386727\ttotal: 882ms\tremaining: 3.06s\n",
      "224:\tlearn: 1015.4738434\ttotal: 885ms\tremaining: 3.05s\n",
      "225:\tlearn: 1015.1170469\ttotal: 889ms\tremaining: 3.04s\n",
      "226:\tlearn: 1014.7474166\ttotal: 892ms\tremaining: 3.04s\n",
      "227:\tlearn: 1014.3691324\ttotal: 896ms\tremaining: 3.03s\n",
      "228:\tlearn: 1014.2016717\ttotal: 900ms\tremaining: 3.03s\n",
      "229:\tlearn: 1013.8640720\ttotal: 903ms\tremaining: 3.02s\n",
      "230:\tlearn: 1013.6226807\ttotal: 907ms\tremaining: 3.02s\n",
      "231:\tlearn: 1013.3423562\ttotal: 911ms\tremaining: 3.01s\n",
      "232:\tlearn: 1012.8729168\ttotal: 914ms\tremaining: 3.01s\n",
      "233:\tlearn: 1012.5254266\ttotal: 918ms\tremaining: 3s\n",
      "234:\tlearn: 1012.2879610\ttotal: 922ms\tremaining: 3s\n",
      "235:\tlearn: 1012.0096652\ttotal: 926ms\tremaining: 3s\n",
      "236:\tlearn: 1011.7833187\ttotal: 930ms\tremaining: 2.99s\n",
      "237:\tlearn: 1011.4311421\ttotal: 933ms\tremaining: 2.99s\n",
      "238:\tlearn: 1011.0817651\ttotal: 937ms\tremaining: 2.98s\n",
      "239:\tlearn: 1010.7755617\ttotal: 940ms\tremaining: 2.98s\n",
      "240:\tlearn: 1010.4746359\ttotal: 944ms\tremaining: 2.97s\n",
      "241:\tlearn: 1010.0616726\ttotal: 947ms\tremaining: 2.97s\n",
      "242:\tlearn: 1009.8728512\ttotal: 951ms\tremaining: 2.96s\n",
      "243:\tlearn: 1009.6532886\ttotal: 954ms\tremaining: 2.96s\n",
      "244:\tlearn: 1009.3612650\ttotal: 958ms\tremaining: 2.95s\n",
      "245:\tlearn: 1009.1319324\ttotal: 962ms\tremaining: 2.95s\n",
      "246:\tlearn: 1008.8409078\ttotal: 965ms\tremaining: 2.94s\n",
      "247:\tlearn: 1008.6136175\ttotal: 969ms\tremaining: 2.94s\n",
      "248:\tlearn: 1008.2412816\ttotal: 972ms\tremaining: 2.93s\n",
      "249:\tlearn: 1007.9931001\ttotal: 976ms\tremaining: 2.93s\n",
      "250:\tlearn: 1007.8948140\ttotal: 979ms\tremaining: 2.92s\n",
      "251:\tlearn: 1007.6163144\ttotal: 983ms\tremaining: 2.92s\n",
      "252:\tlearn: 1007.3215122\ttotal: 986ms\tremaining: 2.91s\n",
      "253:\tlearn: 1007.2181393\ttotal: 989ms\tremaining: 2.9s\n",
      "254:\tlearn: 1007.0980930\ttotal: 993ms\tremaining: 2.9s\n",
      "255:\tlearn: 1006.9608975\ttotal: 996ms\tremaining: 2.89s\n",
      "256:\tlearn: 1006.6577069\ttotal: 1000ms\tremaining: 2.89s\n",
      "257:\tlearn: 1006.3967475\ttotal: 1s\tremaining: 2.88s\n",
      "258:\tlearn: 1005.9669163\ttotal: 1.01s\tremaining: 2.88s\n",
      "259:\tlearn: 1005.6914426\ttotal: 1.01s\tremaining: 2.88s\n",
      "260:\tlearn: 1005.3529097\ttotal: 1.02s\tremaining: 2.9s\n",
      "261:\tlearn: 1005.1341190\ttotal: 1.03s\tremaining: 2.9s\n",
      "262:\tlearn: 1004.8596303\ttotal: 1.04s\tremaining: 2.9s\n",
      "263:\tlearn: 1004.5068434\ttotal: 1.04s\tremaining: 2.9s\n",
      "264:\tlearn: 1004.2762274\ttotal: 1.04s\tremaining: 2.9s\n",
      "265:\tlearn: 1003.9678738\ttotal: 1.05s\tremaining: 2.9s\n",
      "266:\tlearn: 1003.7435059\ttotal: 1.05s\tremaining: 2.89s\n",
      "267:\tlearn: 1003.5332527\ttotal: 1.06s\tremaining: 2.89s\n",
      "268:\tlearn: 1003.2693834\ttotal: 1.06s\tremaining: 2.88s\n",
      "269:\tlearn: 1003.1783395\ttotal: 1.06s\tremaining: 2.88s\n",
      "270:\tlearn: 1002.8570370\ttotal: 1.07s\tremaining: 2.89s\n",
      "271:\tlearn: 1002.5952308\ttotal: 1.08s\tremaining: 2.9s\n",
      "272:\tlearn: 1002.3927246\ttotal: 1.09s\tremaining: 2.9s\n",
      "273:\tlearn: 1002.1750491\ttotal: 1.1s\tremaining: 2.9s\n",
      "274:\tlearn: 1002.0002628\ttotal: 1.1s\tremaining: 2.9s\n",
      "275:\tlearn: 1001.7874899\ttotal: 1.11s\tremaining: 2.91s\n",
      "276:\tlearn: 1001.5945047\ttotal: 1.11s\tremaining: 2.91s\n",
      "277:\tlearn: 1001.4928996\ttotal: 1.12s\tremaining: 2.9s\n",
      "278:\tlearn: 1001.0483900\ttotal: 1.12s\tremaining: 2.9s\n",
      "279:\tlearn: 1000.7502854\ttotal: 1.13s\tremaining: 2.91s\n",
      "280:\tlearn: 1000.6392888\ttotal: 1.14s\tremaining: 2.92s\n",
      "281:\tlearn: 1000.4703735\ttotal: 1.15s\tremaining: 2.92s\n",
      "282:\tlearn: 1000.2753374\ttotal: 1.15s\tremaining: 2.92s\n",
      "283:\tlearn: 1000.0570929\ttotal: 1.16s\tremaining: 2.93s\n",
      "284:\tlearn: 999.8736574\ttotal: 1.17s\tremaining: 2.93s\n",
      "285:\tlearn: 999.5529820\ttotal: 1.17s\tremaining: 2.93s\n",
      "286:\tlearn: 999.1438038\ttotal: 1.18s\tremaining: 2.93s\n",
      "287:\tlearn: 998.9449513\ttotal: 1.18s\tremaining: 2.93s\n",
      "288:\tlearn: 998.6527343\ttotal: 1.19s\tremaining: 2.93s\n",
      "289:\tlearn: 998.1630992\ttotal: 1.2s\tremaining: 2.93s\n",
      "290:\tlearn: 997.9529409\ttotal: 1.2s\tremaining: 2.93s\n",
      "291:\tlearn: 997.7725010\ttotal: 1.21s\tremaining: 2.93s\n",
      "292:\tlearn: 997.4195970\ttotal: 1.22s\tremaining: 2.93s\n",
      "293:\tlearn: 997.0861159\ttotal: 1.23s\tremaining: 2.94s\n",
      "294:\tlearn: 996.8815497\ttotal: 1.23s\tremaining: 2.94s\n",
      "295:\tlearn: 996.6806745\ttotal: 1.24s\tremaining: 2.94s\n",
      "296:\tlearn: 996.3226728\ttotal: 1.24s\tremaining: 2.94s\n",
      "297:\tlearn: 996.0902817\ttotal: 1.25s\tremaining: 2.95s\n",
      "298:\tlearn: 995.8502138\ttotal: 1.26s\tremaining: 2.95s\n",
      "299:\tlearn: 995.5924930\ttotal: 1.26s\tremaining: 2.94s\n",
      "300:\tlearn: 995.2357888\ttotal: 1.26s\tremaining: 2.94s\n",
      "301:\tlearn: 994.8950585\ttotal: 1.27s\tremaining: 2.93s\n",
      "302:\tlearn: 994.3570599\ttotal: 1.28s\tremaining: 2.95s\n",
      "303:\tlearn: 994.1434554\ttotal: 1.29s\tremaining: 2.95s\n",
      "304:\tlearn: 993.8237724\ttotal: 1.29s\tremaining: 2.95s\n",
      "305:\tlearn: 993.6114373\ttotal: 1.3s\tremaining: 2.94s\n",
      "306:\tlearn: 993.1616620\ttotal: 1.31s\tremaining: 2.95s\n",
      "307:\tlearn: 992.8904686\ttotal: 1.31s\tremaining: 2.95s\n",
      "308:\tlearn: 992.6879133\ttotal: 1.32s\tremaining: 2.94s\n",
      "309:\tlearn: 992.4514253\ttotal: 1.32s\tremaining: 2.94s\n",
      "310:\tlearn: 992.2783801\ttotal: 1.32s\tremaining: 2.93s\n",
      "311:\tlearn: 992.0551970\ttotal: 1.33s\tremaining: 2.93s\n",
      "312:\tlearn: 991.9340917\ttotal: 1.33s\tremaining: 2.93s\n",
      "313:\tlearn: 991.5281915\ttotal: 1.34s\tremaining: 2.93s\n",
      "314:\tlearn: 991.2290949\ttotal: 1.34s\tremaining: 2.92s\n",
      "315:\tlearn: 991.0041147\ttotal: 1.35s\tremaining: 2.92s\n",
      "316:\tlearn: 990.6573628\ttotal: 1.35s\tremaining: 2.91s\n",
      "317:\tlearn: 990.4170871\ttotal: 1.35s\tremaining: 2.9s\n",
      "318:\tlearn: 990.1900025\ttotal: 1.36s\tremaining: 2.9s\n",
      "319:\tlearn: 989.9472994\ttotal: 1.36s\tremaining: 2.89s\n",
      "320:\tlearn: 989.6177044\ttotal: 1.36s\tremaining: 2.89s\n",
      "321:\tlearn: 989.4099722\ttotal: 1.37s\tremaining: 2.88s\n",
      "322:\tlearn: 989.0814505\ttotal: 1.37s\tremaining: 2.88s\n",
      "323:\tlearn: 988.7426255\ttotal: 1.38s\tremaining: 2.87s\n",
      "324:\tlearn: 988.4751864\ttotal: 1.38s\tremaining: 2.86s\n",
      "325:\tlearn: 988.2031404\ttotal: 1.38s\tremaining: 2.86s\n",
      "326:\tlearn: 987.8989598\ttotal: 1.39s\tremaining: 2.85s\n",
      "327:\tlearn: 987.6333049\ttotal: 1.39s\tremaining: 2.85s\n",
      "328:\tlearn: 987.3822386\ttotal: 1.39s\tremaining: 2.84s\n",
      "329:\tlearn: 987.1250250\ttotal: 1.4s\tremaining: 2.84s\n",
      "330:\tlearn: 986.8661299\ttotal: 1.4s\tremaining: 2.83s\n",
      "331:\tlearn: 986.5305231\ttotal: 1.4s\tremaining: 2.83s\n",
      "332:\tlearn: 986.3397200\ttotal: 1.41s\tremaining: 2.83s\n",
      "333:\tlearn: 986.0471541\ttotal: 1.42s\tremaining: 2.83s\n",
      "334:\tlearn: 985.7475844\ttotal: 1.43s\tremaining: 2.83s\n",
      "335:\tlearn: 985.5291063\ttotal: 1.43s\tremaining: 2.83s\n",
      "336:\tlearn: 985.3330253\ttotal: 1.44s\tremaining: 2.83s\n",
      "337:\tlearn: 985.0387600\ttotal: 1.44s\tremaining: 2.83s\n",
      "338:\tlearn: 984.7029925\ttotal: 1.45s\tremaining: 2.82s\n",
      "339:\tlearn: 984.5350770\ttotal: 1.45s\tremaining: 2.81s\n",
      "340:\tlearn: 984.3308133\ttotal: 1.46s\tremaining: 2.81s\n",
      "341:\tlearn: 984.1786985\ttotal: 1.46s\tremaining: 2.81s\n",
      "342:\tlearn: 983.9816494\ttotal: 1.47s\tremaining: 2.81s\n",
      "343:\tlearn: 983.7528798\ttotal: 1.47s\tremaining: 2.8s\n",
      "344:\tlearn: 983.4701706\ttotal: 1.48s\tremaining: 2.8s\n",
      "345:\tlearn: 983.3039986\ttotal: 1.48s\tremaining: 2.8s\n",
      "346:\tlearn: 982.8721207\ttotal: 1.48s\tremaining: 2.79s\n",
      "347:\tlearn: 982.6411708\ttotal: 1.49s\tremaining: 2.79s\n"
     ]
    },
    {
     "name": "stdout",
     "output_type": "stream",
     "text": [
      "348:\tlearn: 982.4870717\ttotal: 1.49s\tremaining: 2.78s\n",
      "349:\tlearn: 982.3007112\ttotal: 1.5s\tremaining: 2.78s\n",
      "350:\tlearn: 981.9900846\ttotal: 1.5s\tremaining: 2.78s\n",
      "351:\tlearn: 981.7669338\ttotal: 1.51s\tremaining: 2.77s\n",
      "352:\tlearn: 981.5735290\ttotal: 1.51s\tremaining: 2.77s\n",
      "353:\tlearn: 981.4044623\ttotal: 1.51s\tremaining: 2.76s\n",
      "354:\tlearn: 981.2597816\ttotal: 1.52s\tremaining: 2.76s\n",
      "355:\tlearn: 981.0772425\ttotal: 1.52s\tremaining: 2.75s\n",
      "356:\tlearn: 980.7713705\ttotal: 1.52s\tremaining: 2.75s\n",
      "357:\tlearn: 980.6037074\ttotal: 1.53s\tremaining: 2.74s\n",
      "358:\tlearn: 980.3106079\ttotal: 1.53s\tremaining: 2.73s\n",
      "359:\tlearn: 980.1298346\ttotal: 1.53s\tremaining: 2.73s\n",
      "360:\tlearn: 979.7665037\ttotal: 1.54s\tremaining: 2.73s\n",
      "361:\tlearn: 979.6550462\ttotal: 1.55s\tremaining: 2.73s\n",
      "362:\tlearn: 979.3923614\ttotal: 1.55s\tremaining: 2.73s\n",
      "363:\tlearn: 978.9984692\ttotal: 1.56s\tremaining: 2.72s\n",
      "364:\tlearn: 978.7764951\ttotal: 1.56s\tremaining: 2.72s\n",
      "365:\tlearn: 978.4813021\ttotal: 1.57s\tremaining: 2.72s\n",
      "366:\tlearn: 978.0474935\ttotal: 1.57s\tremaining: 2.72s\n",
      "367:\tlearn: 977.9613484\ttotal: 1.58s\tremaining: 2.71s\n",
      "368:\tlearn: 977.6448838\ttotal: 1.59s\tremaining: 2.71s\n",
      "369:\tlearn: 977.4152071\ttotal: 1.59s\tremaining: 2.71s\n",
      "370:\tlearn: 977.3469612\ttotal: 1.59s\tremaining: 2.71s\n",
      "371:\tlearn: 977.2126675\ttotal: 1.6s\tremaining: 2.7s\n",
      "372:\tlearn: 976.9569477\ttotal: 1.6s\tremaining: 2.69s\n",
      "373:\tlearn: 976.7447023\ttotal: 1.61s\tremaining: 2.69s\n",
      "374:\tlearn: 976.5436924\ttotal: 1.61s\tremaining: 2.68s\n",
      "375:\tlearn: 976.4045319\ttotal: 1.61s\tremaining: 2.68s\n",
      "376:\tlearn: 976.1296004\ttotal: 1.62s\tremaining: 2.67s\n",
      "377:\tlearn: 975.8528956\ttotal: 1.62s\tremaining: 2.67s\n",
      "378:\tlearn: 975.5774394\ttotal: 1.62s\tremaining: 2.66s\n",
      "379:\tlearn: 975.3846175\ttotal: 1.63s\tremaining: 2.66s\n",
      "380:\tlearn: 975.1012776\ttotal: 1.63s\tremaining: 2.65s\n",
      "381:\tlearn: 974.8329842\ttotal: 1.64s\tremaining: 2.65s\n",
      "382:\tlearn: 974.6444155\ttotal: 1.64s\tremaining: 2.64s\n",
      "383:\tlearn: 974.5126309\ttotal: 1.64s\tremaining: 2.64s\n",
      "384:\tlearn: 974.1513563\ttotal: 1.65s\tremaining: 2.63s\n",
      "385:\tlearn: 974.0388617\ttotal: 1.65s\tremaining: 2.63s\n",
      "386:\tlearn: 973.8548731\ttotal: 1.66s\tremaining: 2.63s\n",
      "387:\tlearn: 973.6804644\ttotal: 1.66s\tremaining: 2.62s\n",
      "388:\tlearn: 973.5526856\ttotal: 1.67s\tremaining: 2.62s\n",
      "389:\tlearn: 973.4161774\ttotal: 1.67s\tremaining: 2.61s\n",
      "390:\tlearn: 973.1322501\ttotal: 1.68s\tremaining: 2.61s\n",
      "391:\tlearn: 972.9574143\ttotal: 1.68s\tremaining: 2.6s\n",
      "392:\tlearn: 972.8340063\ttotal: 1.69s\tremaining: 2.6s\n",
      "393:\tlearn: 972.6129750\ttotal: 1.69s\tremaining: 2.6s\n",
      "394:\tlearn: 972.3794954\ttotal: 1.7s\tremaining: 2.6s\n",
      "395:\tlearn: 972.0841028\ttotal: 1.71s\tremaining: 2.61s\n",
      "396:\tlearn: 971.8099616\ttotal: 1.71s\tremaining: 2.6s\n",
      "397:\tlearn: 971.6336206\ttotal: 1.72s\tremaining: 2.6s\n",
      "398:\tlearn: 971.3561796\ttotal: 1.72s\tremaining: 2.6s\n",
      "399:\tlearn: 971.1603828\ttotal: 1.73s\tremaining: 2.59s\n",
      "400:\tlearn: 970.8556500\ttotal: 1.73s\tremaining: 2.59s\n",
      "401:\tlearn: 970.5727997\ttotal: 1.74s\tremaining: 2.58s\n",
      "402:\tlearn: 970.1208900\ttotal: 1.74s\tremaining: 2.58s\n",
      "403:\tlearn: 969.8627393\ttotal: 1.74s\tremaining: 2.57s\n",
      "404:\tlearn: 969.6603063\ttotal: 1.75s\tremaining: 2.57s\n",
      "405:\tlearn: 969.5335926\ttotal: 1.75s\tremaining: 2.56s\n",
      "406:\tlearn: 969.3159033\ttotal: 1.75s\tremaining: 2.56s\n",
      "407:\tlearn: 969.1031190\ttotal: 1.76s\tremaining: 2.55s\n",
      "408:\tlearn: 969.0157357\ttotal: 1.76s\tremaining: 2.55s\n",
      "409:\tlearn: 968.7309443\ttotal: 1.77s\tremaining: 2.55s\n",
      "410:\tlearn: 968.5744419\ttotal: 1.77s\tremaining: 2.54s\n",
      "411:\tlearn: 968.3611649\ttotal: 1.78s\tremaining: 2.54s\n",
      "412:\tlearn: 968.1785106\ttotal: 1.78s\tremaining: 2.54s\n",
      "413:\tlearn: 967.9094911\ttotal: 1.79s\tremaining: 2.53s\n",
      "414:\tlearn: 967.6065461\ttotal: 1.79s\tremaining: 2.52s\n",
      "415:\tlearn: 967.4344400\ttotal: 1.79s\tremaining: 2.52s\n",
      "416:\tlearn: 967.2652554\ttotal: 1.8s\tremaining: 2.52s\n",
      "417:\tlearn: 966.9655127\ttotal: 1.8s\tremaining: 2.51s\n",
      "418:\tlearn: 966.7741234\ttotal: 1.81s\tremaining: 2.5s\n",
      "419:\tlearn: 966.5654840\ttotal: 1.81s\tremaining: 2.5s\n",
      "420:\tlearn: 966.3230911\ttotal: 1.81s\tremaining: 2.49s\n",
      "421:\tlearn: 966.1087571\ttotal: 1.82s\tremaining: 2.49s\n",
      "422:\tlearn: 965.9112262\ttotal: 1.82s\tremaining: 2.48s\n",
      "423:\tlearn: 965.5990213\ttotal: 1.82s\tremaining: 2.48s\n",
      "424:\tlearn: 965.3629520\ttotal: 1.83s\tremaining: 2.47s\n",
      "425:\tlearn: 965.0929348\ttotal: 1.83s\tremaining: 2.46s\n",
      "426:\tlearn: 964.6965856\ttotal: 1.83s\tremaining: 2.46s\n",
      "427:\tlearn: 964.5622386\ttotal: 1.84s\tremaining: 2.45s\n",
      "428:\tlearn: 964.3293171\ttotal: 1.84s\tremaining: 2.45s\n",
      "429:\tlearn: 963.9371994\ttotal: 1.84s\tremaining: 2.44s\n",
      "430:\tlearn: 963.7562164\ttotal: 1.84s\tremaining: 2.44s\n",
      "431:\tlearn: 963.6659824\ttotal: 1.85s\tremaining: 2.43s\n",
      "432:\tlearn: 963.4637816\ttotal: 1.85s\tremaining: 2.43s\n",
      "433:\tlearn: 963.3177707\ttotal: 1.86s\tremaining: 2.42s\n",
      "434:\tlearn: 963.1660353\ttotal: 1.86s\tremaining: 2.42s\n",
      "435:\tlearn: 962.9766749\ttotal: 1.86s\tremaining: 2.41s\n",
      "436:\tlearn: 962.7145956\ttotal: 1.87s\tremaining: 2.41s\n",
      "437:\tlearn: 962.4777955\ttotal: 1.87s\tremaining: 2.4s\n",
      "438:\tlearn: 962.2183492\ttotal: 1.88s\tremaining: 2.4s\n",
      "439:\tlearn: 962.0459259\ttotal: 1.88s\tremaining: 2.4s\n",
      "440:\tlearn: 961.7453970\ttotal: 1.89s\tremaining: 2.39s\n",
      "441:\tlearn: 961.4910253\ttotal: 1.89s\tremaining: 2.39s\n",
      "442:\tlearn: 961.2059106\ttotal: 1.9s\tremaining: 2.39s\n",
      "443:\tlearn: 960.8779589\ttotal: 1.9s\tremaining: 2.38s\n",
      "444:\tlearn: 960.7299177\ttotal: 1.91s\tremaining: 2.38s\n",
      "445:\tlearn: 960.4415947\ttotal: 1.91s\tremaining: 2.37s\n",
      "446:\tlearn: 960.2130673\ttotal: 1.91s\tremaining: 2.37s\n",
      "447:\tlearn: 959.9900892\ttotal: 1.92s\tremaining: 2.36s\n",
      "448:\tlearn: 959.7245505\ttotal: 1.92s\tremaining: 2.36s\n",
      "449:\tlearn: 959.3987265\ttotal: 1.93s\tremaining: 2.36s\n",
      "450:\tlearn: 959.3251381\ttotal: 1.93s\tremaining: 2.35s\n",
      "451:\tlearn: 959.1838112\ttotal: 1.94s\tremaining: 2.35s\n",
      "452:\tlearn: 959.0167356\ttotal: 1.94s\tremaining: 2.34s\n",
      "453:\tlearn: 958.8157273\ttotal: 1.94s\tremaining: 2.34s\n",
      "454:\tlearn: 958.5353871\ttotal: 1.95s\tremaining: 2.33s\n",
      "455:\tlearn: 958.4431196\ttotal: 1.95s\tremaining: 2.33s\n",
      "456:\tlearn: 958.2415078\ttotal: 1.95s\tremaining: 2.32s\n",
      "457:\tlearn: 957.9511254\ttotal: 1.96s\tremaining: 2.31s\n",
      "458:\tlearn: 957.7891091\ttotal: 1.96s\tremaining: 2.31s\n",
      "459:\tlearn: 957.4833553\ttotal: 1.96s\tremaining: 2.3s\n",
      "460:\tlearn: 957.1703879\ttotal: 1.97s\tremaining: 2.3s\n",
      "461:\tlearn: 957.0177990\ttotal: 1.97s\tremaining: 2.29s\n",
      "462:\tlearn: 956.9201024\ttotal: 1.97s\tremaining: 2.29s\n",
      "463:\tlearn: 956.8222930\ttotal: 1.98s\tremaining: 2.28s\n",
      "464:\tlearn: 956.5706167\ttotal: 1.98s\tremaining: 2.28s\n",
      "465:\tlearn: 956.3109935\ttotal: 1.98s\tremaining: 2.27s\n",
      "466:\tlearn: 956.0818636\ttotal: 1.98s\tremaining: 2.27s\n",
      "467:\tlearn: 955.7866349\ttotal: 1.99s\tremaining: 2.26s\n",
      "468:\tlearn: 955.4870478\ttotal: 1.99s\tremaining: 2.26s\n",
      "469:\tlearn: 955.3551465\ttotal: 2s\tremaining: 2.25s\n",
      "470:\tlearn: 955.1919286\ttotal: 2s\tremaining: 2.25s\n",
      "471:\tlearn: 955.0691176\ttotal: 2s\tremaining: 2.24s\n",
      "472:\tlearn: 954.8284939\ttotal: 2.01s\tremaining: 2.24s\n",
      "473:\tlearn: 954.5420037\ttotal: 2.01s\tremaining: 2.23s\n",
      "474:\tlearn: 954.2268730\ttotal: 2.02s\tremaining: 2.23s\n",
      "475:\tlearn: 954.0364587\ttotal: 2.02s\tremaining: 2.22s\n",
      "476:\tlearn: 953.8066505\ttotal: 2.02s\tremaining: 2.22s\n",
      "477:\tlearn: 953.7021450\ttotal: 2.03s\tremaining: 2.22s\n",
      "478:\tlearn: 953.4917201\ttotal: 2.03s\tremaining: 2.21s\n",
      "479:\tlearn: 953.2824294\ttotal: 2.04s\tremaining: 2.21s\n",
      "480:\tlearn: 953.0768423\ttotal: 2.04s\tremaining: 2.2s\n",
      "481:\tlearn: 952.8960816\ttotal: 2.05s\tremaining: 2.2s\n",
      "482:\tlearn: 952.4543092\ttotal: 2.05s\tremaining: 2.2s\n",
      "483:\tlearn: 952.2769679\ttotal: 2.06s\tremaining: 2.19s\n",
      "484:\tlearn: 952.0588175\ttotal: 2.06s\tremaining: 2.19s\n",
      "485:\tlearn: 951.8433369\ttotal: 2.06s\tremaining: 2.18s\n",
      "486:\tlearn: 951.5624623\ttotal: 2.07s\tremaining: 2.18s\n",
      "487:\tlearn: 951.4047215\ttotal: 2.08s\tremaining: 2.18s\n",
      "488:\tlearn: 951.1381000\ttotal: 2.08s\tremaining: 2.18s\n",
      "489:\tlearn: 950.9691962\ttotal: 2.09s\tremaining: 2.17s\n",
      "490:\tlearn: 950.7970353\ttotal: 2.09s\tremaining: 2.17s\n",
      "491:\tlearn: 950.4980541\ttotal: 2.1s\tremaining: 2.17s\n",
      "492:\tlearn: 950.1973538\ttotal: 2.1s\tremaining: 2.16s\n",
      "493:\tlearn: 949.9672460\ttotal: 2.1s\tremaining: 2.16s\n",
      "494:\tlearn: 949.7774245\ttotal: 2.11s\tremaining: 2.15s\n",
      "495:\tlearn: 949.6217619\ttotal: 2.11s\tremaining: 2.15s\n",
      "496:\tlearn: 949.4782152\ttotal: 2.12s\tremaining: 2.14s\n",
      "497:\tlearn: 949.3337991\ttotal: 2.12s\tremaining: 2.14s\n",
      "498:\tlearn: 949.1810090\ttotal: 2.12s\tremaining: 2.13s\n",
      "499:\tlearn: 948.9370670\ttotal: 2.13s\tremaining: 2.13s\n",
      "500:\tlearn: 948.7366745\ttotal: 2.14s\tremaining: 2.13s\n",
      "501:\tlearn: 948.5252756\ttotal: 2.14s\tremaining: 2.12s\n",
      "502:\tlearn: 948.3326563\ttotal: 2.14s\tremaining: 2.12s\n",
      "503:\tlearn: 948.2436510\ttotal: 2.15s\tremaining: 2.11s\n",
      "504:\tlearn: 947.8664455\ttotal: 2.15s\tremaining: 2.11s\n",
      "505:\tlearn: 947.7711249\ttotal: 2.15s\tremaining: 2.1s\n",
      "506:\tlearn: 947.6025833\ttotal: 2.16s\tremaining: 2.1s\n",
      "507:\tlearn: 947.4778715\ttotal: 2.16s\tremaining: 2.09s\n",
      "508:\tlearn: 947.3554195\ttotal: 2.16s\tremaining: 2.09s\n",
      "509:\tlearn: 947.1343078\ttotal: 2.17s\tremaining: 2.08s\n",
      "510:\tlearn: 946.9834114\ttotal: 2.17s\tremaining: 2.08s\n",
      "511:\tlearn: 946.7400100\ttotal: 2.17s\tremaining: 2.07s\n",
      "512:\tlearn: 946.4980266\ttotal: 2.18s\tremaining: 2.07s\n",
      "513:\tlearn: 946.1595788\ttotal: 2.18s\tremaining: 2.06s\n",
      "514:\tlearn: 945.9963573\ttotal: 2.18s\tremaining: 2.06s\n",
      "515:\tlearn: 945.8393530\ttotal: 2.19s\tremaining: 2.05s\n",
      "516:\tlearn: 945.5461818\ttotal: 2.19s\tremaining: 2.05s\n",
      "517:\tlearn: 945.3515035\ttotal: 2.19s\tremaining: 2.04s\n",
      "518:\tlearn: 945.1667988\ttotal: 2.2s\tremaining: 2.04s\n",
      "519:\tlearn: 944.9718440\ttotal: 2.2s\tremaining: 2.03s\n",
      "520:\tlearn: 944.6658089\ttotal: 2.2s\tremaining: 2.03s\n",
      "521:\tlearn: 944.4609771\ttotal: 2.21s\tremaining: 2.02s\n",
      "522:\tlearn: 944.2570016\ttotal: 2.21s\tremaining: 2.02s\n"
     ]
    },
    {
     "name": "stdout",
     "output_type": "stream",
     "text": [
      "523:\tlearn: 944.1276289\ttotal: 2.21s\tremaining: 2.01s\n",
      "524:\tlearn: 943.9203201\ttotal: 2.22s\tremaining: 2.01s\n",
      "525:\tlearn: 943.7720386\ttotal: 2.22s\tremaining: 2s\n",
      "526:\tlearn: 943.6288818\ttotal: 2.23s\tremaining: 2s\n",
      "527:\tlearn: 943.4521319\ttotal: 2.23s\tremaining: 1.99s\n",
      "528:\tlearn: 943.3040326\ttotal: 2.23s\tremaining: 1.99s\n",
      "529:\tlearn: 943.1813424\ttotal: 2.24s\tremaining: 1.98s\n",
      "530:\tlearn: 943.0226354\ttotal: 2.24s\tremaining: 1.98s\n",
      "531:\tlearn: 942.8930289\ttotal: 2.24s\tremaining: 1.97s\n",
      "532:\tlearn: 942.7328398\ttotal: 2.25s\tremaining: 1.97s\n",
      "533:\tlearn: 942.6038796\ttotal: 2.25s\tremaining: 1.97s\n",
      "534:\tlearn: 942.4676675\ttotal: 2.26s\tremaining: 1.96s\n",
      "535:\tlearn: 942.2401544\ttotal: 2.26s\tremaining: 1.96s\n",
      "536:\tlearn: 941.9655861\ttotal: 2.26s\tremaining: 1.95s\n",
      "537:\tlearn: 941.8332422\ttotal: 2.27s\tremaining: 1.95s\n",
      "538:\tlearn: 941.4880706\ttotal: 2.27s\tremaining: 1.94s\n",
      "539:\tlearn: 941.2411740\ttotal: 2.27s\tremaining: 1.94s\n",
      "540:\tlearn: 941.0092818\ttotal: 2.28s\tremaining: 1.93s\n",
      "541:\tlearn: 940.7215768\ttotal: 2.28s\tremaining: 1.93s\n",
      "542:\tlearn: 940.4429941\ttotal: 2.29s\tremaining: 1.92s\n",
      "543:\tlearn: 940.2172952\ttotal: 2.29s\tremaining: 1.92s\n",
      "544:\tlearn: 940.0240721\ttotal: 2.29s\tremaining: 1.91s\n",
      "545:\tlearn: 939.8465820\ttotal: 2.29s\tremaining: 1.91s\n",
      "546:\tlearn: 939.6435145\ttotal: 2.3s\tremaining: 1.9s\n",
      "547:\tlearn: 939.5274227\ttotal: 2.3s\tremaining: 1.9s\n",
      "548:\tlearn: 939.3139687\ttotal: 2.3s\tremaining: 1.89s\n",
      "549:\tlearn: 939.1386472\ttotal: 2.31s\tremaining: 1.89s\n",
      "550:\tlearn: 939.0133347\ttotal: 2.31s\tremaining: 1.88s\n",
      "551:\tlearn: 938.8180099\ttotal: 2.31s\tremaining: 1.88s\n",
      "552:\tlearn: 938.5904921\ttotal: 2.32s\tremaining: 1.87s\n",
      "553:\tlearn: 938.4401280\ttotal: 2.32s\tremaining: 1.87s\n",
      "554:\tlearn: 938.2241543\ttotal: 2.32s\tremaining: 1.86s\n",
      "555:\tlearn: 938.0976680\ttotal: 2.33s\tremaining: 1.86s\n",
      "556:\tlearn: 937.9609998\ttotal: 2.33s\tremaining: 1.85s\n",
      "557:\tlearn: 937.8084042\ttotal: 2.33s\tremaining: 1.85s\n",
      "558:\tlearn: 937.6282419\ttotal: 2.34s\tremaining: 1.84s\n",
      "559:\tlearn: 937.3546542\ttotal: 2.34s\tremaining: 1.84s\n",
      "560:\tlearn: 937.2945560\ttotal: 2.34s\tremaining: 1.83s\n",
      "561:\tlearn: 937.0957323\ttotal: 2.35s\tremaining: 1.83s\n",
      "562:\tlearn: 936.9082658\ttotal: 2.35s\tremaining: 1.82s\n",
      "563:\tlearn: 936.7960352\ttotal: 2.35s\tremaining: 1.82s\n",
      "564:\tlearn: 936.6737764\ttotal: 2.35s\tremaining: 1.81s\n",
      "565:\tlearn: 936.5189617\ttotal: 2.36s\tremaining: 1.81s\n",
      "566:\tlearn: 936.3010053\ttotal: 2.36s\tremaining: 1.8s\n",
      "567:\tlearn: 936.2287041\ttotal: 2.37s\tremaining: 1.8s\n",
      "568:\tlearn: 936.1387336\ttotal: 2.37s\tremaining: 1.79s\n",
      "569:\tlearn: 935.9792851\ttotal: 2.37s\tremaining: 1.79s\n",
      "570:\tlearn: 935.8750313\ttotal: 2.38s\tremaining: 1.78s\n",
      "571:\tlearn: 935.7576879\ttotal: 2.38s\tremaining: 1.78s\n",
      "572:\tlearn: 935.6075591\ttotal: 2.38s\tremaining: 1.77s\n",
      "573:\tlearn: 935.3794156\ttotal: 2.38s\tremaining: 1.77s\n",
      "574:\tlearn: 935.2036883\ttotal: 2.39s\tremaining: 1.76s\n",
      "575:\tlearn: 935.0693930\ttotal: 2.39s\tremaining: 1.76s\n",
      "576:\tlearn: 934.9150985\ttotal: 2.4s\tremaining: 1.76s\n",
      "577:\tlearn: 934.6896747\ttotal: 2.4s\tremaining: 1.75s\n",
      "578:\tlearn: 934.4961008\ttotal: 2.41s\tremaining: 1.75s\n",
      "579:\tlearn: 934.2551133\ttotal: 2.41s\tremaining: 1.75s\n",
      "580:\tlearn: 934.0601057\ttotal: 2.42s\tremaining: 1.74s\n",
      "581:\tlearn: 933.8541130\ttotal: 2.42s\tremaining: 1.74s\n",
      "582:\tlearn: 933.7284115\ttotal: 2.42s\tremaining: 1.73s\n",
      "583:\tlearn: 933.5193804\ttotal: 2.43s\tremaining: 1.73s\n",
      "584:\tlearn: 933.2394059\ttotal: 2.43s\tremaining: 1.73s\n",
      "585:\tlearn: 932.9727965\ttotal: 2.44s\tremaining: 1.72s\n",
      "586:\tlearn: 932.8271639\ttotal: 2.44s\tremaining: 1.72s\n",
      "587:\tlearn: 932.7013808\ttotal: 2.45s\tremaining: 1.72s\n",
      "588:\tlearn: 932.5242834\ttotal: 2.45s\tremaining: 1.71s\n",
      "589:\tlearn: 932.3592192\ttotal: 2.46s\tremaining: 1.71s\n",
      "590:\tlearn: 932.1889246\ttotal: 2.46s\tremaining: 1.71s\n",
      "591:\tlearn: 931.9438217\ttotal: 2.47s\tremaining: 1.7s\n",
      "592:\tlearn: 931.7956878\ttotal: 2.48s\tremaining: 1.7s\n",
      "593:\tlearn: 931.6387202\ttotal: 2.49s\tremaining: 1.7s\n",
      "594:\tlearn: 931.5168980\ttotal: 2.49s\tremaining: 1.7s\n",
      "595:\tlearn: 931.2508114\ttotal: 2.5s\tremaining: 1.69s\n",
      "596:\tlearn: 931.0219707\ttotal: 2.5s\tremaining: 1.69s\n",
      "597:\tlearn: 930.8527740\ttotal: 2.5s\tremaining: 1.68s\n",
      "598:\tlearn: 930.7219561\ttotal: 2.51s\tremaining: 1.68s\n",
      "599:\tlearn: 930.5267793\ttotal: 2.53s\tremaining: 1.68s\n",
      "600:\tlearn: 930.4111732\ttotal: 2.53s\tremaining: 1.68s\n",
      "601:\tlearn: 930.2111188\ttotal: 2.54s\tremaining: 1.68s\n",
      "602:\tlearn: 929.9720396\ttotal: 2.54s\tremaining: 1.67s\n",
      "603:\tlearn: 929.5850405\ttotal: 2.54s\tremaining: 1.67s\n",
      "604:\tlearn: 929.4475885\ttotal: 2.55s\tremaining: 1.66s\n",
      "605:\tlearn: 929.1554349\ttotal: 2.55s\tremaining: 1.66s\n",
      "606:\tlearn: 929.0232962\ttotal: 2.56s\tremaining: 1.66s\n",
      "607:\tlearn: 928.8291953\ttotal: 2.56s\tremaining: 1.65s\n",
      "608:\tlearn: 928.7382759\ttotal: 2.57s\tremaining: 1.65s\n",
      "609:\tlearn: 928.5485795\ttotal: 2.57s\tremaining: 1.64s\n",
      "610:\tlearn: 928.4445820\ttotal: 2.58s\tremaining: 1.64s\n",
      "611:\tlearn: 928.3352246\ttotal: 2.59s\tremaining: 1.64s\n",
      "612:\tlearn: 928.1739545\ttotal: 2.59s\tremaining: 1.64s\n",
      "613:\tlearn: 927.9583189\ttotal: 2.6s\tremaining: 1.63s\n",
      "614:\tlearn: 927.7484311\ttotal: 2.6s\tremaining: 1.63s\n",
      "615:\tlearn: 927.5596800\ttotal: 2.6s\tremaining: 1.62s\n",
      "616:\tlearn: 927.4343875\ttotal: 2.61s\tremaining: 1.62s\n",
      "617:\tlearn: 927.2982088\ttotal: 2.61s\tremaining: 1.61s\n",
      "618:\tlearn: 927.0494712\ttotal: 2.62s\tremaining: 1.61s\n",
      "619:\tlearn: 926.6489144\ttotal: 2.63s\tremaining: 1.61s\n",
      "620:\tlearn: 926.5283111\ttotal: 2.63s\tremaining: 1.61s\n",
      "621:\tlearn: 926.2290899\ttotal: 2.64s\tremaining: 1.6s\n",
      "622:\tlearn: 926.1033156\ttotal: 2.64s\tremaining: 1.6s\n",
      "623:\tlearn: 926.0375735\ttotal: 2.65s\tremaining: 1.59s\n",
      "624:\tlearn: 925.8385087\ttotal: 2.65s\tremaining: 1.59s\n",
      "625:\tlearn: 925.6476302\ttotal: 2.65s\tremaining: 1.59s\n",
      "626:\tlearn: 925.5277142\ttotal: 2.66s\tremaining: 1.58s\n",
      "627:\tlearn: 925.2939305\ttotal: 2.66s\tremaining: 1.58s\n",
      "628:\tlearn: 925.1961682\ttotal: 2.67s\tremaining: 1.58s\n",
      "629:\tlearn: 924.9755194\ttotal: 2.68s\tremaining: 1.57s\n",
      "630:\tlearn: 924.8409821\ttotal: 2.69s\tremaining: 1.57s\n",
      "631:\tlearn: 924.6929078\ttotal: 2.7s\tremaining: 1.57s\n",
      "632:\tlearn: 924.5101241\ttotal: 2.7s\tremaining: 1.57s\n",
      "633:\tlearn: 924.3536270\ttotal: 2.71s\tremaining: 1.56s\n",
      "634:\tlearn: 924.1325565\ttotal: 2.71s\tremaining: 1.56s\n",
      "635:\tlearn: 923.9314818\ttotal: 2.71s\tremaining: 1.55s\n",
      "636:\tlearn: 923.7332801\ttotal: 2.72s\tremaining: 1.55s\n",
      "637:\tlearn: 923.5277172\ttotal: 2.72s\tremaining: 1.54s\n",
      "638:\tlearn: 923.3408845\ttotal: 2.73s\tremaining: 1.54s\n",
      "639:\tlearn: 923.1809959\ttotal: 2.73s\tremaining: 1.53s\n",
      "640:\tlearn: 923.0101863\ttotal: 2.73s\tremaining: 1.53s\n",
      "641:\tlearn: 922.8670109\ttotal: 2.74s\tremaining: 1.53s\n",
      "642:\tlearn: 922.6720764\ttotal: 2.75s\tremaining: 1.52s\n",
      "643:\tlearn: 922.6209862\ttotal: 2.75s\tremaining: 1.52s\n",
      "644:\tlearn: 922.5186835\ttotal: 2.75s\tremaining: 1.51s\n",
      "645:\tlearn: 922.3843808\ttotal: 2.76s\tremaining: 1.51s\n",
      "646:\tlearn: 922.1891077\ttotal: 2.76s\tremaining: 1.51s\n",
      "647:\tlearn: 921.9690133\ttotal: 2.77s\tremaining: 1.5s\n",
      "648:\tlearn: 921.8191574\ttotal: 2.77s\tremaining: 1.5s\n",
      "649:\tlearn: 921.7343930\ttotal: 2.78s\tremaining: 1.5s\n",
      "650:\tlearn: 921.5931460\ttotal: 2.79s\tremaining: 1.5s\n",
      "651:\tlearn: 921.4863822\ttotal: 2.79s\tremaining: 1.49s\n",
      "652:\tlearn: 921.3436069\ttotal: 2.8s\tremaining: 1.49s\n",
      "653:\tlearn: 921.1852663\ttotal: 2.8s\tremaining: 1.48s\n",
      "654:\tlearn: 921.0007186\ttotal: 2.8s\tremaining: 1.48s\n",
      "655:\tlearn: 920.9217465\ttotal: 2.81s\tremaining: 1.47s\n",
      "656:\tlearn: 920.7577219\ttotal: 2.81s\tremaining: 1.47s\n",
      "657:\tlearn: 920.5429800\ttotal: 2.81s\tremaining: 1.46s\n",
      "658:\tlearn: 920.4491901\ttotal: 2.82s\tremaining: 1.46s\n",
      "659:\tlearn: 920.3234852\ttotal: 2.83s\tremaining: 1.46s\n",
      "660:\tlearn: 920.2290796\ttotal: 2.83s\tremaining: 1.45s\n",
      "661:\tlearn: 920.0586511\ttotal: 2.83s\tremaining: 1.45s\n",
      "662:\tlearn: 919.8613750\ttotal: 2.84s\tremaining: 1.44s\n",
      "663:\tlearn: 919.6670280\ttotal: 2.85s\tremaining: 1.44s\n",
      "664:\tlearn: 919.4863554\ttotal: 2.85s\tremaining: 1.44s\n",
      "665:\tlearn: 919.3251928\ttotal: 2.85s\tremaining: 1.43s\n",
      "666:\tlearn: 919.1839806\ttotal: 2.86s\tremaining: 1.43s\n",
      "667:\tlearn: 918.9932482\ttotal: 2.86s\tremaining: 1.42s\n",
      "668:\tlearn: 918.7153403\ttotal: 2.87s\tremaining: 1.42s\n",
      "669:\tlearn: 918.4490067\ttotal: 2.87s\tremaining: 1.42s\n",
      "670:\tlearn: 918.3333978\ttotal: 2.88s\tremaining: 1.41s\n",
      "671:\tlearn: 918.2657302\ttotal: 2.88s\tremaining: 1.41s\n",
      "672:\tlearn: 917.9662287\ttotal: 2.89s\tremaining: 1.41s\n",
      "673:\tlearn: 917.7486525\ttotal: 2.9s\tremaining: 1.4s\n",
      "674:\tlearn: 917.5762885\ttotal: 2.9s\tremaining: 1.4s\n",
      "675:\tlearn: 917.3568035\ttotal: 2.9s\tremaining: 1.39s\n",
      "676:\tlearn: 917.2319204\ttotal: 2.91s\tremaining: 1.39s\n",
      "677:\tlearn: 917.0803363\ttotal: 2.91s\tremaining: 1.38s\n",
      "678:\tlearn: 916.9909657\ttotal: 2.92s\tremaining: 1.38s\n",
      "679:\tlearn: 916.8567013\ttotal: 2.92s\tremaining: 1.37s\n",
      "680:\tlearn: 916.6775111\ttotal: 2.92s\tremaining: 1.37s\n",
      "681:\tlearn: 916.5587829\ttotal: 2.93s\tremaining: 1.36s\n",
      "682:\tlearn: 916.3700972\ttotal: 2.93s\tremaining: 1.36s\n",
      "683:\tlearn: 916.1957470\ttotal: 2.94s\tremaining: 1.35s\n",
      "684:\tlearn: 916.0002622\ttotal: 2.94s\tremaining: 1.35s\n",
      "685:\tlearn: 915.8155522\ttotal: 2.94s\tremaining: 1.35s\n",
      "686:\tlearn: 915.5518217\ttotal: 2.94s\tremaining: 1.34s\n",
      "687:\tlearn: 915.4738051\ttotal: 2.95s\tremaining: 1.34s\n",
      "688:\tlearn: 915.1485893\ttotal: 2.95s\tremaining: 1.33s\n",
      "689:\tlearn: 915.0530932\ttotal: 2.95s\tremaining: 1.33s\n",
      "690:\tlearn: 914.9295499\ttotal: 2.96s\tremaining: 1.32s\n"
     ]
    },
    {
     "name": "stdout",
     "output_type": "stream",
     "text": [
      "691:\tlearn: 914.7547950\ttotal: 2.96s\tremaining: 1.32s\n",
      "692:\tlearn: 914.4160216\ttotal: 2.96s\tremaining: 1.31s\n",
      "693:\tlearn: 914.2688042\ttotal: 2.97s\tremaining: 1.31s\n",
      "694:\tlearn: 914.0818794\ttotal: 2.97s\tremaining: 1.3s\n",
      "695:\tlearn: 913.9412985\ttotal: 2.98s\tremaining: 1.3s\n",
      "696:\tlearn: 913.6905352\ttotal: 2.98s\tremaining: 1.29s\n",
      "697:\tlearn: 913.5776556\ttotal: 2.98s\tremaining: 1.29s\n",
      "698:\tlearn: 913.3505857\ttotal: 2.99s\tremaining: 1.29s\n",
      "699:\tlearn: 913.2797139\ttotal: 2.99s\tremaining: 1.28s\n",
      "700:\tlearn: 913.1260325\ttotal: 3s\tremaining: 1.28s\n",
      "701:\tlearn: 912.8647719\ttotal: 3s\tremaining: 1.27s\n",
      "702:\tlearn: 912.6997330\ttotal: 3s\tremaining: 1.27s\n",
      "703:\tlearn: 912.5215147\ttotal: 3.01s\tremaining: 1.26s\n",
      "704:\tlearn: 912.3027814\ttotal: 3.01s\tremaining: 1.26s\n",
      "705:\tlearn: 912.1811167\ttotal: 3.02s\tremaining: 1.25s\n",
      "706:\tlearn: 911.9863829\ttotal: 3.02s\tremaining: 1.25s\n",
      "707:\tlearn: 911.8579638\ttotal: 3.02s\tremaining: 1.25s\n",
      "708:\tlearn: 911.6728632\ttotal: 3.02s\tremaining: 1.24s\n",
      "709:\tlearn: 911.4465190\ttotal: 3.03s\tremaining: 1.24s\n",
      "710:\tlearn: 911.2910461\ttotal: 3.03s\tremaining: 1.23s\n",
      "711:\tlearn: 911.1176498\ttotal: 3.04s\tremaining: 1.23s\n",
      "712:\tlearn: 910.9208391\ttotal: 3.04s\tremaining: 1.22s\n",
      "713:\tlearn: 910.7994068\ttotal: 3.04s\tremaining: 1.22s\n",
      "714:\tlearn: 910.6928096\ttotal: 3.05s\tremaining: 1.21s\n",
      "715:\tlearn: 910.5241722\ttotal: 3.05s\tremaining: 1.21s\n",
      "716:\tlearn: 910.2312985\ttotal: 3.06s\tremaining: 1.21s\n",
      "717:\tlearn: 909.9292282\ttotal: 3.06s\tremaining: 1.2s\n",
      "718:\tlearn: 909.7652711\ttotal: 3.06s\tremaining: 1.2s\n",
      "719:\tlearn: 909.5806728\ttotal: 3.07s\tremaining: 1.19s\n",
      "720:\tlearn: 909.4727680\ttotal: 3.07s\tremaining: 1.19s\n",
      "721:\tlearn: 909.1833876\ttotal: 3.07s\tremaining: 1.18s\n",
      "722:\tlearn: 909.0969186\ttotal: 3.08s\tremaining: 1.18s\n",
      "723:\tlearn: 908.9768723\ttotal: 3.08s\tremaining: 1.17s\n",
      "724:\tlearn: 908.7223105\ttotal: 3.08s\tremaining: 1.17s\n",
      "725:\tlearn: 908.5209797\ttotal: 3.09s\tremaining: 1.17s\n",
      "726:\tlearn: 908.4063578\ttotal: 3.09s\tremaining: 1.16s\n",
      "727:\tlearn: 908.2678650\ttotal: 3.1s\tremaining: 1.16s\n",
      "728:\tlearn: 907.9991655\ttotal: 3.1s\tremaining: 1.15s\n",
      "729:\tlearn: 907.7907203\ttotal: 3.1s\tremaining: 1.15s\n",
      "730:\tlearn: 907.6777085\ttotal: 3.11s\tremaining: 1.14s\n",
      "731:\tlearn: 907.5222207\ttotal: 3.11s\tremaining: 1.14s\n",
      "732:\tlearn: 907.2310880\ttotal: 3.11s\tremaining: 1.13s\n",
      "733:\tlearn: 907.0291338\ttotal: 3.12s\tremaining: 1.13s\n",
      "734:\tlearn: 906.9020373\ttotal: 3.12s\tremaining: 1.12s\n",
      "735:\tlearn: 906.6627691\ttotal: 3.12s\tremaining: 1.12s\n",
      "736:\tlearn: 906.5154946\ttotal: 3.13s\tremaining: 1.11s\n",
      "737:\tlearn: 906.2523827\ttotal: 3.13s\tremaining: 1.11s\n",
      "738:\tlearn: 906.1007047\ttotal: 3.13s\tremaining: 1.11s\n",
      "739:\tlearn: 905.9256262\ttotal: 3.14s\tremaining: 1.1s\n",
      "740:\tlearn: 905.6565362\ttotal: 3.14s\tremaining: 1.1s\n",
      "741:\tlearn: 905.5013150\ttotal: 3.14s\tremaining: 1.09s\n",
      "742:\tlearn: 905.2601125\ttotal: 3.15s\tremaining: 1.09s\n",
      "743:\tlearn: 905.0606206\ttotal: 3.15s\tremaining: 1.08s\n",
      "744:\tlearn: 904.8723945\ttotal: 3.15s\tremaining: 1.08s\n",
      "745:\tlearn: 904.6751343\ttotal: 3.16s\tremaining: 1.07s\n",
      "746:\tlearn: 904.5430271\ttotal: 3.16s\tremaining: 1.07s\n",
      "747:\tlearn: 904.2698510\ttotal: 3.17s\tremaining: 1.07s\n",
      "748:\tlearn: 904.1804948\ttotal: 3.17s\tremaining: 1.06s\n",
      "749:\tlearn: 904.0543571\ttotal: 3.17s\tremaining: 1.06s\n",
      "750:\tlearn: 903.9223934\ttotal: 3.18s\tremaining: 1.05s\n",
      "751:\tlearn: 903.6384718\ttotal: 3.19s\tremaining: 1.05s\n",
      "752:\tlearn: 903.4884921\ttotal: 3.19s\tremaining: 1.05s\n",
      "753:\tlearn: 903.3473309\ttotal: 3.19s\tremaining: 1.04s\n",
      "754:\tlearn: 903.1242398\ttotal: 3.2s\tremaining: 1.04s\n",
      "755:\tlearn: 902.9150505\ttotal: 3.2s\tremaining: 1.03s\n",
      "756:\tlearn: 902.7792492\ttotal: 3.2s\tremaining: 1.03s\n",
      "757:\tlearn: 902.6099767\ttotal: 3.21s\tremaining: 1.02s\n",
      "758:\tlearn: 902.3638465\ttotal: 3.21s\tremaining: 1.02s\n",
      "759:\tlearn: 902.1279019\ttotal: 3.21s\tremaining: 1.01s\n",
      "760:\tlearn: 901.9391612\ttotal: 3.22s\tremaining: 1.01s\n",
      "761:\tlearn: 901.7977073\ttotal: 3.22s\tremaining: 1s\n",
      "762:\tlearn: 901.6090599\ttotal: 3.22s\tremaining: 1s\n",
      "763:\tlearn: 901.5265558\ttotal: 3.23s\tremaining: 996ms\n",
      "764:\tlearn: 901.4368575\ttotal: 3.23s\tremaining: 992ms\n",
      "765:\tlearn: 901.2872025\ttotal: 3.23s\tremaining: 987ms\n",
      "766:\tlearn: 901.0017600\ttotal: 3.23s\tremaining: 983ms\n",
      "767:\tlearn: 900.7585577\ttotal: 3.24s\tremaining: 978ms\n",
      "768:\tlearn: 900.6969092\ttotal: 3.24s\tremaining: 974ms\n",
      "769:\tlearn: 900.5408870\ttotal: 3.24s\tremaining: 969ms\n",
      "770:\tlearn: 900.3774901\ttotal: 3.25s\tremaining: 965ms\n",
      "771:\tlearn: 900.2972172\ttotal: 3.25s\tremaining: 960ms\n",
      "772:\tlearn: 900.0962461\ttotal: 3.25s\tremaining: 956ms\n",
      "773:\tlearn: 899.9142572\ttotal: 3.26s\tremaining: 951ms\n",
      "774:\tlearn: 899.6651150\ttotal: 3.26s\tremaining: 947ms\n",
      "775:\tlearn: 899.5263667\ttotal: 3.26s\tremaining: 942ms\n",
      "776:\tlearn: 899.4023524\ttotal: 3.27s\tremaining: 938ms\n",
      "777:\tlearn: 899.2950080\ttotal: 3.27s\tremaining: 933ms\n",
      "778:\tlearn: 899.0861675\ttotal: 3.27s\tremaining: 929ms\n",
      "779:\tlearn: 898.8959720\ttotal: 3.28s\tremaining: 924ms\n",
      "780:\tlearn: 898.7960777\ttotal: 3.28s\tremaining: 921ms\n",
      "781:\tlearn: 898.5017932\ttotal: 3.29s\tremaining: 916ms\n",
      "782:\tlearn: 898.2802234\ttotal: 3.29s\tremaining: 912ms\n",
      "783:\tlearn: 898.1414093\ttotal: 3.29s\tremaining: 908ms\n",
      "784:\tlearn: 898.0571577\ttotal: 3.3s\tremaining: 903ms\n",
      "785:\tlearn: 897.8890671\ttotal: 3.3s\tremaining: 899ms\n",
      "786:\tlearn: 897.6898475\ttotal: 3.3s\tremaining: 894ms\n",
      "787:\tlearn: 897.5205339\ttotal: 3.31s\tremaining: 890ms\n",
      "788:\tlearn: 897.3681858\ttotal: 3.31s\tremaining: 886ms\n",
      "789:\tlearn: 897.2984989\ttotal: 3.31s\tremaining: 881ms\n",
      "790:\tlearn: 897.0751710\ttotal: 3.32s\tremaining: 877ms\n",
      "791:\tlearn: 896.9522035\ttotal: 3.33s\tremaining: 873ms\n",
      "792:\tlearn: 896.8310343\ttotal: 3.33s\tremaining: 869ms\n",
      "793:\tlearn: 896.5856339\ttotal: 3.33s\tremaining: 865ms\n",
      "794:\tlearn: 896.3547400\ttotal: 3.34s\tremaining: 862ms\n",
      "795:\tlearn: 896.1715669\ttotal: 3.34s\tremaining: 857ms\n",
      "796:\tlearn: 896.0220042\ttotal: 3.35s\tremaining: 853ms\n",
      "797:\tlearn: 895.8712477\ttotal: 3.35s\tremaining: 849ms\n",
      "798:\tlearn: 895.6949627\ttotal: 3.36s\tremaining: 845ms\n",
      "799:\tlearn: 895.4934568\ttotal: 3.36s\tremaining: 841ms\n",
      "800:\tlearn: 895.3713115\ttotal: 3.37s\tremaining: 837ms\n",
      "801:\tlearn: 895.2229781\ttotal: 3.37s\tremaining: 833ms\n",
      "802:\tlearn: 895.0995098\ttotal: 3.38s\tremaining: 829ms\n",
      "803:\tlearn: 894.9449792\ttotal: 3.38s\tremaining: 825ms\n",
      "804:\tlearn: 894.7363031\ttotal: 3.39s\tremaining: 821ms\n",
      "805:\tlearn: 894.6349315\ttotal: 3.39s\tremaining: 817ms\n",
      "806:\tlearn: 894.3832338\ttotal: 3.4s\tremaining: 813ms\n",
      "807:\tlearn: 894.2435884\ttotal: 3.41s\tremaining: 809ms\n",
      "808:\tlearn: 894.0676607\ttotal: 3.41s\tremaining: 806ms\n",
      "809:\tlearn: 893.9724850\ttotal: 3.42s\tremaining: 802ms\n",
      "810:\tlearn: 893.8468132\ttotal: 3.42s\tremaining: 798ms\n",
      "811:\tlearn: 893.6333846\ttotal: 3.43s\tremaining: 794ms\n",
      "812:\tlearn: 893.5430864\ttotal: 3.44s\tremaining: 790ms\n",
      "813:\tlearn: 893.4343463\ttotal: 3.44s\tremaining: 786ms\n",
      "814:\tlearn: 893.2825189\ttotal: 3.44s\tremaining: 782ms\n",
      "815:\tlearn: 893.0827872\ttotal: 3.45s\tremaining: 779ms\n",
      "816:\tlearn: 892.9871372\ttotal: 3.46s\tremaining: 775ms\n",
      "817:\tlearn: 892.7862100\ttotal: 3.47s\tremaining: 771ms\n",
      "818:\tlearn: 892.5891645\ttotal: 3.47s\tremaining: 767ms\n",
      "819:\tlearn: 892.3432096\ttotal: 3.47s\tremaining: 762ms\n",
      "820:\tlearn: 892.1480860\ttotal: 3.48s\tremaining: 758ms\n",
      "821:\tlearn: 891.9471045\ttotal: 3.48s\tremaining: 753ms\n",
      "822:\tlearn: 891.8341604\ttotal: 3.48s\tremaining: 749ms\n",
      "823:\tlearn: 891.6645706\ttotal: 3.49s\tremaining: 745ms\n",
      "824:\tlearn: 891.4993921\ttotal: 3.49s\tremaining: 740ms\n",
      "825:\tlearn: 891.3225817\ttotal: 3.49s\tremaining: 736ms\n",
      "826:\tlearn: 891.0943813\ttotal: 3.5s\tremaining: 731ms\n",
      "827:\tlearn: 890.9401202\ttotal: 3.5s\tremaining: 727ms\n",
      "828:\tlearn: 890.8373084\ttotal: 3.5s\tremaining: 722ms\n",
      "829:\tlearn: 890.7181643\ttotal: 3.5s\tremaining: 718ms\n",
      "830:\tlearn: 890.5931046\ttotal: 3.51s\tremaining: 714ms\n",
      "831:\tlearn: 890.4090922\ttotal: 3.51s\tremaining: 709ms\n",
      "832:\tlearn: 890.2020891\ttotal: 3.52s\tremaining: 705ms\n",
      "833:\tlearn: 890.0623385\ttotal: 3.52s\tremaining: 700ms\n",
      "834:\tlearn: 889.9195394\ttotal: 3.52s\tremaining: 696ms\n",
      "835:\tlearn: 889.7821881\ttotal: 3.53s\tremaining: 692ms\n",
      "836:\tlearn: 889.6397662\ttotal: 3.53s\tremaining: 688ms\n",
      "837:\tlearn: 889.5301117\ttotal: 3.53s\tremaining: 683ms\n",
      "838:\tlearn: 889.4179345\ttotal: 3.54s\tremaining: 679ms\n",
      "839:\tlearn: 889.2083473\ttotal: 3.54s\tremaining: 675ms\n",
      "840:\tlearn: 889.0210310\ttotal: 3.55s\tremaining: 671ms\n",
      "841:\tlearn: 888.8321564\ttotal: 3.55s\tremaining: 667ms\n",
      "842:\tlearn: 888.7171711\ttotal: 3.56s\tremaining: 662ms\n",
      "843:\tlearn: 888.4777360\ttotal: 3.56s\tremaining: 658ms\n",
      "844:\tlearn: 888.3015112\ttotal: 3.56s\tremaining: 654ms\n",
      "845:\tlearn: 888.1330302\ttotal: 3.57s\tremaining: 650ms\n",
      "846:\tlearn: 887.9827392\ttotal: 3.57s\tremaining: 646ms\n",
      "847:\tlearn: 887.8299057\ttotal: 3.58s\tremaining: 641ms\n",
      "848:\tlearn: 887.6439670\ttotal: 3.58s\tremaining: 637ms\n",
      "849:\tlearn: 887.5388630\ttotal: 3.59s\tremaining: 633ms\n",
      "850:\tlearn: 887.2930909\ttotal: 3.59s\tremaining: 629ms\n",
      "851:\tlearn: 887.2028876\ttotal: 3.59s\tremaining: 624ms\n",
      "852:\tlearn: 887.0790352\ttotal: 3.6s\tremaining: 620ms\n",
      "853:\tlearn: 886.8579830\ttotal: 3.6s\tremaining: 615ms\n",
      "854:\tlearn: 886.6867117\ttotal: 3.6s\tremaining: 611ms\n",
      "855:\tlearn: 886.5607911\ttotal: 3.61s\tremaining: 607ms\n",
      "856:\tlearn: 886.4668264\ttotal: 3.61s\tremaining: 602ms\n",
      "857:\tlearn: 886.2031625\ttotal: 3.61s\tremaining: 598ms\n",
      "858:\tlearn: 886.0565320\ttotal: 3.62s\tremaining: 594ms\n",
      "859:\tlearn: 885.8951127\ttotal: 3.62s\tremaining: 589ms\n",
      "860:\tlearn: 885.7677817\ttotal: 3.62s\tremaining: 585ms\n",
      "861:\tlearn: 885.6241342\ttotal: 3.63s\tremaining: 581ms\n",
      "862:\tlearn: 885.4885066\ttotal: 3.63s\tremaining: 576ms\n",
      "863:\tlearn: 885.3538329\ttotal: 3.63s\tremaining: 572ms\n",
      "864:\tlearn: 885.2327739\ttotal: 3.64s\tremaining: 568ms\n",
      "865:\tlearn: 885.1599626\ttotal: 3.64s\tremaining: 564ms\n",
      "866:\tlearn: 885.0413379\ttotal: 3.65s\tremaining: 559ms\n",
      "867:\tlearn: 884.8510034\ttotal: 3.65s\tremaining: 555ms\n",
      "868:\tlearn: 884.6847781\ttotal: 3.65s\tremaining: 551ms\n",
      "869:\tlearn: 884.5511057\ttotal: 3.66s\tremaining: 546ms\n",
      "870:\tlearn: 884.4213256\ttotal: 3.66s\tremaining: 542ms\n",
      "871:\tlearn: 884.2712869\ttotal: 3.66s\tremaining: 538ms\n",
      "872:\tlearn: 883.9843267\ttotal: 3.67s\tremaining: 533ms\n",
      "873:\tlearn: 883.8733062\ttotal: 3.67s\tremaining: 529ms\n",
      "874:\tlearn: 883.7669841\ttotal: 3.67s\tremaining: 525ms\n",
      "875:\tlearn: 883.6166635\ttotal: 3.68s\tremaining: 521ms\n",
      "876:\tlearn: 883.4020879\ttotal: 3.69s\tremaining: 517ms\n",
      "877:\tlearn: 883.1410702\ttotal: 3.69s\tremaining: 513ms\n",
      "878:\tlearn: 882.9989367\ttotal: 3.69s\tremaining: 509ms\n",
      "879:\tlearn: 882.8291556\ttotal: 3.7s\tremaining: 504ms\n",
      "880:\tlearn: 882.6969925\ttotal: 3.7s\tremaining: 500ms\n"
     ]
    },
    {
     "name": "stdout",
     "output_type": "stream",
     "text": [
      "881:\tlearn: 882.5655196\ttotal: 3.71s\tremaining: 496ms\n",
      "882:\tlearn: 882.3943224\ttotal: 3.71s\tremaining: 492ms\n",
      "883:\tlearn: 882.3157620\ttotal: 3.72s\tremaining: 488ms\n",
      "884:\tlearn: 882.2146143\ttotal: 3.72s\tremaining: 484ms\n",
      "885:\tlearn: 882.0787647\ttotal: 3.73s\tremaining: 479ms\n",
      "886:\tlearn: 881.9358206\ttotal: 3.73s\tremaining: 475ms\n",
      "887:\tlearn: 881.7792525\ttotal: 3.73s\tremaining: 471ms\n",
      "888:\tlearn: 881.6777483\ttotal: 3.74s\tremaining: 467ms\n",
      "889:\tlearn: 881.5244338\ttotal: 3.74s\tremaining: 462ms\n",
      "890:\tlearn: 881.3349559\ttotal: 3.74s\tremaining: 458ms\n",
      "891:\tlearn: 881.2297786\ttotal: 3.75s\tremaining: 454ms\n",
      "892:\tlearn: 881.1114971\ttotal: 3.75s\tremaining: 450ms\n",
      "893:\tlearn: 880.8873069\ttotal: 3.76s\tremaining: 446ms\n",
      "894:\tlearn: 880.6816520\ttotal: 3.76s\tremaining: 441ms\n",
      "895:\tlearn: 880.5608243\ttotal: 3.76s\tremaining: 437ms\n",
      "896:\tlearn: 880.3572090\ttotal: 3.77s\tremaining: 433ms\n",
      "897:\tlearn: 880.2253212\ttotal: 3.77s\tremaining: 428ms\n",
      "898:\tlearn: 880.1658810\ttotal: 3.77s\tremaining: 424ms\n",
      "899:\tlearn: 880.0581567\ttotal: 3.78s\tremaining: 420ms\n",
      "900:\tlearn: 879.9587974\ttotal: 3.78s\tremaining: 415ms\n",
      "901:\tlearn: 879.7148150\ttotal: 3.78s\tremaining: 411ms\n",
      "902:\tlearn: 879.5555952\ttotal: 3.79s\tremaining: 407ms\n",
      "903:\tlearn: 879.3466431\ttotal: 3.79s\tremaining: 403ms\n",
      "904:\tlearn: 879.2734398\ttotal: 3.79s\tremaining: 398ms\n",
      "905:\tlearn: 879.0571763\ttotal: 3.8s\tremaining: 394ms\n",
      "906:\tlearn: 878.9157405\ttotal: 3.8s\tremaining: 390ms\n",
      "907:\tlearn: 878.8026710\ttotal: 3.81s\tremaining: 386ms\n",
      "908:\tlearn: 878.5928253\ttotal: 3.81s\tremaining: 381ms\n",
      "909:\tlearn: 878.4655955\ttotal: 3.81s\tremaining: 377ms\n",
      "910:\tlearn: 878.3511988\ttotal: 3.82s\tremaining: 373ms\n",
      "911:\tlearn: 878.2434481\ttotal: 3.82s\tremaining: 369ms\n",
      "912:\tlearn: 878.0800571\ttotal: 3.82s\tremaining: 364ms\n",
      "913:\tlearn: 877.9130753\ttotal: 3.83s\tremaining: 360ms\n",
      "914:\tlearn: 877.7021993\ttotal: 3.83s\tremaining: 356ms\n",
      "915:\tlearn: 877.5343764\ttotal: 3.83s\tremaining: 352ms\n",
      "916:\tlearn: 877.3160138\ttotal: 3.84s\tremaining: 347ms\n",
      "917:\tlearn: 877.2257231\ttotal: 3.84s\tremaining: 343ms\n",
      "918:\tlearn: 877.1219779\ttotal: 3.84s\tremaining: 339ms\n",
      "919:\tlearn: 877.0076029\ttotal: 3.85s\tremaining: 334ms\n",
      "920:\tlearn: 876.8528165\ttotal: 3.85s\tremaining: 330ms\n",
      "921:\tlearn: 876.7783727\ttotal: 3.85s\tremaining: 326ms\n",
      "922:\tlearn: 876.6642576\ttotal: 3.86s\tremaining: 322ms\n",
      "923:\tlearn: 876.4388519\ttotal: 3.86s\tremaining: 318ms\n",
      "924:\tlearn: 876.3104489\ttotal: 3.87s\tremaining: 314ms\n",
      "925:\tlearn: 876.1262513\ttotal: 3.87s\tremaining: 309ms\n",
      "926:\tlearn: 876.0049603\ttotal: 3.88s\tremaining: 305ms\n",
      "927:\tlearn: 875.8511691\ttotal: 3.88s\tremaining: 301ms\n",
      "928:\tlearn: 875.6705441\ttotal: 3.89s\tremaining: 297ms\n",
      "929:\tlearn: 875.4698033\ttotal: 3.9s\tremaining: 293ms\n",
      "930:\tlearn: 875.3897778\ttotal: 3.9s\tremaining: 289ms\n",
      "931:\tlearn: 875.3075139\ttotal: 3.91s\tremaining: 285ms\n",
      "932:\tlearn: 875.1819880\ttotal: 3.91s\tremaining: 281ms\n",
      "933:\tlearn: 875.0361609\ttotal: 3.92s\tremaining: 277ms\n",
      "934:\tlearn: 874.8562512\ttotal: 3.92s\tremaining: 273ms\n",
      "935:\tlearn: 874.7259243\ttotal: 3.93s\tremaining: 268ms\n",
      "936:\tlearn: 874.6585240\ttotal: 3.93s\tremaining: 265ms\n",
      "937:\tlearn: 874.5388203\ttotal: 3.94s\tremaining: 261ms\n",
      "938:\tlearn: 874.4363798\ttotal: 3.94s\tremaining: 256ms\n",
      "939:\tlearn: 874.2509624\ttotal: 3.95s\tremaining: 252ms\n",
      "940:\tlearn: 874.1514079\ttotal: 3.95s\tremaining: 248ms\n",
      "941:\tlearn: 873.9219451\ttotal: 3.96s\tremaining: 244ms\n",
      "942:\tlearn: 873.7705695\ttotal: 3.96s\tremaining: 239ms\n",
      "943:\tlearn: 873.6462418\ttotal: 3.97s\tremaining: 236ms\n",
      "944:\tlearn: 873.4637965\ttotal: 3.98s\tremaining: 231ms\n",
      "945:\tlearn: 873.3503639\ttotal: 3.98s\tremaining: 227ms\n",
      "946:\tlearn: 873.2735665\ttotal: 3.98s\tremaining: 223ms\n",
      "947:\tlearn: 873.1387798\ttotal: 3.99s\tremaining: 219ms\n",
      "948:\tlearn: 872.9406767\ttotal: 3.99s\tremaining: 215ms\n",
      "949:\tlearn: 872.8411573\ttotal: 4s\tremaining: 210ms\n",
      "950:\tlearn: 872.7094026\ttotal: 4s\tremaining: 206ms\n",
      "951:\tlearn: 872.5940113\ttotal: 4s\tremaining: 202ms\n",
      "952:\tlearn: 872.4927843\ttotal: 4.01s\tremaining: 198ms\n",
      "953:\tlearn: 872.4579391\ttotal: 4.01s\tremaining: 193ms\n",
      "954:\tlearn: 872.2680628\ttotal: 4.01s\tremaining: 189ms\n",
      "955:\tlearn: 872.0937693\ttotal: 4.02s\tremaining: 185ms\n",
      "956:\tlearn: 871.9831864\ttotal: 4.02s\tremaining: 181ms\n",
      "957:\tlearn: 871.8023388\ttotal: 4.02s\tremaining: 176ms\n",
      "958:\tlearn: 871.6471884\ttotal: 4.03s\tremaining: 172ms\n",
      "959:\tlearn: 871.5343163\ttotal: 4.03s\tremaining: 168ms\n",
      "960:\tlearn: 871.4156072\ttotal: 4.03s\tremaining: 164ms\n",
      "961:\tlearn: 871.3456391\ttotal: 4.04s\tremaining: 159ms\n",
      "962:\tlearn: 871.2128556\ttotal: 4.04s\tremaining: 155ms\n",
      "963:\tlearn: 871.0593540\ttotal: 4.04s\tremaining: 151ms\n",
      "964:\tlearn: 870.8707222\ttotal: 4.05s\tremaining: 147ms\n",
      "965:\tlearn: 870.6277894\ttotal: 4.05s\tremaining: 143ms\n",
      "966:\tlearn: 870.5048651\ttotal: 4.05s\tremaining: 138ms\n",
      "967:\tlearn: 870.2181043\ttotal: 4.06s\tremaining: 134ms\n",
      "968:\tlearn: 870.1171022\ttotal: 4.06s\tremaining: 130ms\n",
      "969:\tlearn: 870.0001537\ttotal: 4.06s\tremaining: 126ms\n",
      "970:\tlearn: 869.7894798\ttotal: 4.07s\tremaining: 121ms\n",
      "971:\tlearn: 869.7068755\ttotal: 4.07s\tremaining: 117ms\n",
      "972:\tlearn: 869.5622432\ttotal: 4.07s\tremaining: 113ms\n",
      "973:\tlearn: 869.3885656\ttotal: 4.08s\tremaining: 109ms\n",
      "974:\tlearn: 869.2751972\ttotal: 4.08s\tremaining: 105ms\n",
      "975:\tlearn: 869.0685762\ttotal: 4.08s\tremaining: 100ms\n",
      "976:\tlearn: 868.8901845\ttotal: 4.09s\tremaining: 96.2ms\n",
      "977:\tlearn: 868.8220628\ttotal: 4.09s\tremaining: 92ms\n",
      "978:\tlearn: 868.7105552\ttotal: 4.09s\tremaining: 87.9ms\n",
      "979:\tlearn: 868.5457232\ttotal: 4.1s\tremaining: 83.7ms\n",
      "980:\tlearn: 868.4195102\ttotal: 4.1s\tremaining: 79.5ms\n",
      "981:\tlearn: 868.2010715\ttotal: 4.11s\tremaining: 75.3ms\n",
      "982:\tlearn: 867.9401466\ttotal: 4.11s\tremaining: 71.1ms\n",
      "983:\tlearn: 867.7267220\ttotal: 4.12s\tremaining: 67ms\n",
      "984:\tlearn: 867.6276193\ttotal: 4.12s\tremaining: 62.8ms\n",
      "985:\tlearn: 867.5285530\ttotal: 4.13s\tremaining: 58.6ms\n",
      "986:\tlearn: 867.3544963\ttotal: 4.13s\tremaining: 54.4ms\n",
      "987:\tlearn: 867.2113924\ttotal: 4.14s\tremaining: 50.2ms\n",
      "988:\tlearn: 867.0216360\ttotal: 4.14s\tremaining: 46.1ms\n",
      "989:\tlearn: 866.7810313\ttotal: 4.14s\tremaining: 41.9ms\n",
      "990:\tlearn: 866.6148470\ttotal: 4.15s\tremaining: 37.7ms\n",
      "991:\tlearn: 866.4566790\ttotal: 4.15s\tremaining: 33.5ms\n",
      "992:\tlearn: 866.3037539\ttotal: 4.16s\tremaining: 29.3ms\n",
      "993:\tlearn: 866.0736845\ttotal: 4.16s\tremaining: 25.1ms\n",
      "994:\tlearn: 865.9381759\ttotal: 4.17s\tremaining: 20.9ms\n",
      "995:\tlearn: 865.8231970\ttotal: 4.17s\tremaining: 16.7ms\n",
      "996:\tlearn: 865.6619161\ttotal: 4.17s\tremaining: 12.6ms\n",
      "997:\tlearn: 865.4632777\ttotal: 4.18s\tremaining: 8.37ms\n",
      "998:\tlearn: 865.3631257\ttotal: 4.18s\tremaining: 4.18ms\n",
      "999:\tlearn: 865.2010745\ttotal: 4.18s\tremaining: 0us\n",
      "MAE:  623.8116966768342\n",
      "RMSE:  865.2010740711963\n",
      "R-squared:  0.742917408726528\n"
     ]
    }
   ],
   "source": [
    "cat.fit(train_X, train_y)\n",
    "pred_train = cat.predict(train_X)\n",
    "pred_test = cat.predict(test_X)\n",
    "pred_test = abs(pred_test)\n",
    "print('MAE: ', mean_absolute_error(train_y, pred_train))\n",
    "print('RMSE: ', np.sqrt(mean_squared_error(train_y, pred_train)))\n",
    "print('R-squared: ', r2_score(train_y, pred_train))"
   ]
  },
  {
   "cell_type": "code",
   "execution_count": 135,
   "metadata": {},
   "outputs": [],
   "source": [
    "sample['Item_Outlet_Sales'] = pred_test\n",
    "sample.to_csv('cat_bigmart.csv', index = False)"
   ]
  },
  {
   "cell_type": "markdown",
   "metadata": {},
   "source": [
    "#### Light GBM"
   ]
  },
  {
   "cell_type": "code",
   "execution_count": 136,
   "metadata": {},
   "outputs": [],
   "source": [
    "lgbm = LGBMRegressor()"
   ]
  },
  {
   "cell_type": "code",
   "execution_count": 137,
   "metadata": {},
   "outputs": [
    {
     "name": "stdout",
     "output_type": "stream",
     "text": [
      "MAE:  656.9294108004003\n",
      "RMSE:  921.0005981731583\n",
      "R-squared:  0.7086879875259922\n"
     ]
    }
   ],
   "source": [
    "lgbm.fit(train_X, train_y)\n",
    "pred_train = lgbm.predict(train_X)\n",
    "pred_test = lgbm.predict(test_X)\n",
    "pred_test = abs(pred_test)\n",
    "print('MAE: ', mean_absolute_error(train_y, pred_train))\n",
    "print('RMSE: ', np.sqrt(mean_squared_error(train_y, pred_train)))\n",
    "print('R-squared: ', r2_score(train_y, pred_train))"
   ]
  },
  {
   "cell_type": "code",
   "execution_count": 138,
   "metadata": {},
   "outputs": [],
   "source": [
    "sample['Item_Outlet_Sales'] = pred_test\n",
    "sample.to_csv('LGBM_bigmart.csv', index = False)"
   ]
  },
  {
   "cell_type": "code",
   "execution_count": null,
   "metadata": {},
   "outputs": [],
   "source": []
  }
 ],
 "metadata": {
  "kernelspec": {
   "display_name": "Python 3",
   "language": "python",
   "name": "python3"
  },
  "language_info": {
   "codemirror_mode": {
    "name": "ipython",
    "version": 3
   },
   "file_extension": ".py",
   "mimetype": "text/x-python",
   "name": "python",
   "nbconvert_exporter": "python",
   "pygments_lexer": "ipython3",
   "version": "3.8.5"
  }
 },
 "nbformat": 4,
 "nbformat_minor": 2
}
